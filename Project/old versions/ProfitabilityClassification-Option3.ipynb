{
 "cells": [
  {
   "cell_type": "code",
   "execution_count": 1,
   "metadata": {},
   "outputs": [],
   "source": [
    "from collections import Counter\n",
    "\n",
    "import numpy as np\n",
    "import pandas as pd\n",
    "import matplotlib.pyplot as plt\n",
    "import seaborn as sns\n",
    "import warnings\n",
    "from sklearn import metrics\n",
    "warnings.filterwarnings('ignore')\n",
    "\n",
    "from sklearn.metrics import fbeta_score, make_scorer\n",
    "from sklearn.utils import shuffle\n",
    "from imblearn.over_sampling import SMOTE\n",
    "from sklearn.utils import resample\n",
    "from sklearn.linear_model import LogisticRegression\n",
    "from sklearn.tree import DecisionTreeClassifier\n",
    "from sklearn.ensemble import RandomForestClassifier\n",
    "from sklearn.neighbors import KNeighborsClassifier\n",
    "from sklearn.naive_bayes import GaussianNB\n",
    "from sklearn import metrics\n",
    "from sklearn.metrics import accuracy_score, recall_score, precision_score, roc_auc_score \n",
    "from sklearn.metrics import confusion_matrix\n",
    "from sklearn.preprocessing import StandardScaler, MinMaxScaler\n",
    "from sklearn.model_selection import train_test_split\n",
    "from sklearn.model_selection import cross_validate\n",
    "from sklearn.model_selection import GridSearchCV"
   ]
  },
  {
   "cell_type": "code",
   "execution_count": 2,
   "metadata": {},
   "outputs": [],
   "source": [
    "movie_df = pd.read_csv(r'data/data_regression.csv')"
   ]
  },
  {
   "cell_type": "code",
   "execution_count": 3,
   "metadata": {},
   "outputs": [
    {
     "data": {
      "text/plain": [
       "Index(['imdb_id', 'director_name', 'num_critic_for_reviews', 'duration',\n",
       "       'director_facebook_likes', 'actor_3_facebook_likes', 'actor_2_name',\n",
       "       'actor_1_facebook_likes', 'gross', 'genres', 'actor_1_name',\n",
       "       'movie_title', 'num_voted_users', 'cast_total_facebook_likes',\n",
       "       'actor_3_name', 'facenumber_in_poster', 'plot_keywords',\n",
       "       'num_user_for_reviews', 'language', 'country', 'content_rating',\n",
       "       'budget', 'title_year', 'actor_2_facebook_likes', 'imdb_score',\n",
       "       'movie_facebook_likes', 'Biography', 'Comedy', 'Crime', 'Drama',\n",
       "       'Romance', 'Mystery_Thriller_Horror', 'Sci-Fi_Fantasy',\n",
       "       'Family_Animation', 'Action_Adventure', 'History_War', 'Others',\n",
       "       'director_rank', 'actor1_rank', 'actor2_rank', 'actor3_rank',\n",
       "       'gross_budget_ratio'],\n",
       "      dtype='object')"
      ]
     },
     "execution_count": 3,
     "metadata": {},
     "output_type": "execute_result"
    }
   ],
   "source": [
    "movie_df.columns"
   ]
  },
  {
   "cell_type": "markdown",
   "metadata": {},
   "source": [
    "# 1) Only Ranks "
   ]
  },
  {
   "cell_type": "code",
   "execution_count": 4,
   "metadata": {},
   "outputs": [],
   "source": [
    "classification_df = movie_df.drop(columns=['imdb_id', 'director_name', 'num_critic_for_reviews',\n",
    "       'actor_2_name',\n",
    "       'gross', 'genres', 'actor_1_name',\n",
    "       'movie_title', 'num_voted_users',\n",
    "       'actor_3_name', 'plot_keywords',\n",
    "       'num_user_for_reviews',\n",
    "       'title_year', 'imdb_score',\n",
    "       'movie_facebook_likes','director_facebook_likes', 'actor_3_facebook_likes', 'actor_2_facebook_likes', 'actor_1_facebook_likes'])"
   ]
  },
  {
   "cell_type": "code",
   "execution_count": 5,
   "metadata": {},
   "outputs": [
    {
     "data": {
      "text/html": [
       "<div>\n",
       "<style scoped>\n",
       "    .dataframe tbody tr th:only-of-type {\n",
       "        vertical-align: middle;\n",
       "    }\n",
       "\n",
       "    .dataframe tbody tr th {\n",
       "        vertical-align: top;\n",
       "    }\n",
       "\n",
       "    .dataframe thead th {\n",
       "        text-align: right;\n",
       "    }\n",
       "</style>\n",
       "<table border=\"1\" class=\"dataframe\">\n",
       "  <thead>\n",
       "    <tr style=\"text-align: right;\">\n",
       "      <th></th>\n",
       "      <th>duration</th>\n",
       "      <th>cast_total_facebook_likes</th>\n",
       "      <th>facenumber_in_poster</th>\n",
       "      <th>language</th>\n",
       "      <th>country</th>\n",
       "      <th>content_rating</th>\n",
       "      <th>budget</th>\n",
       "      <th>Biography</th>\n",
       "      <th>Comedy</th>\n",
       "      <th>Crime</th>\n",
       "      <th>...</th>\n",
       "      <th>Sci-Fi_Fantasy</th>\n",
       "      <th>Family_Animation</th>\n",
       "      <th>Action_Adventure</th>\n",
       "      <th>History_War</th>\n",
       "      <th>Others</th>\n",
       "      <th>director_rank</th>\n",
       "      <th>actor1_rank</th>\n",
       "      <th>actor2_rank</th>\n",
       "      <th>actor3_rank</th>\n",
       "      <th>gross_budget_ratio</th>\n",
       "    </tr>\n",
       "  </thead>\n",
       "  <tbody>\n",
       "    <tr>\n",
       "      <td>0</td>\n",
       "      <td>123.0</td>\n",
       "      <td>22209</td>\n",
       "      <td>1.0</td>\n",
       "      <td>English</td>\n",
       "      <td>USA</td>\n",
       "      <td>PG-13</td>\n",
       "      <td>48000000.0</td>\n",
       "      <td>0</td>\n",
       "      <td>1</td>\n",
       "      <td>0</td>\n",
       "      <td>...</td>\n",
       "      <td>1</td>\n",
       "      <td>0</td>\n",
       "      <td>0</td>\n",
       "      <td>0</td>\n",
       "      <td>0</td>\n",
       "      <td>8</td>\n",
       "      <td>6</td>\n",
       "      <td>3</td>\n",
       "      <td>4</td>\n",
       "      <td>0.981155</td>\n",
       "    </tr>\n",
       "    <tr>\n",
       "      <td>1</td>\n",
       "      <td>88.0</td>\n",
       "      <td>2726</td>\n",
       "      <td>0.0</td>\n",
       "      <td>English</td>\n",
       "      <td>USA</td>\n",
       "      <td>PG</td>\n",
       "      <td>3500000.0</td>\n",
       "      <td>0</td>\n",
       "      <td>1</td>\n",
       "      <td>0</td>\n",
       "      <td>...</td>\n",
       "      <td>0</td>\n",
       "      <td>0</td>\n",
       "      <td>0</td>\n",
       "      <td>0</td>\n",
       "      <td>0</td>\n",
       "      <td>8</td>\n",
       "      <td>2</td>\n",
       "      <td>3</td>\n",
       "      <td>4</td>\n",
       "      <td>23.828571</td>\n",
       "    </tr>\n",
       "    <tr>\n",
       "      <td>2</td>\n",
       "      <td>104.0</td>\n",
       "      <td>1662</td>\n",
       "      <td>0.0</td>\n",
       "      <td>English</td>\n",
       "      <td>USA</td>\n",
       "      <td>R</td>\n",
       "      <td>4500000.0</td>\n",
       "      <td>0</td>\n",
       "      <td>0</td>\n",
       "      <td>0</td>\n",
       "      <td>...</td>\n",
       "      <td>0</td>\n",
       "      <td>0</td>\n",
       "      <td>1</td>\n",
       "      <td>0</td>\n",
       "      <td>0</td>\n",
       "      <td>7</td>\n",
       "      <td>3</td>\n",
       "      <td>3</td>\n",
       "      <td>3</td>\n",
       "      <td>13.078468</td>\n",
       "    </tr>\n",
       "    <tr>\n",
       "      <td>3</td>\n",
       "      <td>148.0</td>\n",
       "      <td>2566</td>\n",
       "      <td>1.0</td>\n",
       "      <td>English</td>\n",
       "      <td>USA</td>\n",
       "      <td>R</td>\n",
       "      <td>27000000.0</td>\n",
       "      <td>0</td>\n",
       "      <td>1</td>\n",
       "      <td>1</td>\n",
       "      <td>...</td>\n",
       "      <td>0</td>\n",
       "      <td>0</td>\n",
       "      <td>1</td>\n",
       "      <td>0</td>\n",
       "      <td>1</td>\n",
       "      <td>8</td>\n",
       "      <td>3</td>\n",
       "      <td>3</td>\n",
       "      <td>4</td>\n",
       "      <td>2.007407</td>\n",
       "    </tr>\n",
       "    <tr>\n",
       "      <td>4</td>\n",
       "      <td>98.0</td>\n",
       "      <td>14921</td>\n",
       "      <td>3.0</td>\n",
       "      <td>English</td>\n",
       "      <td>USA</td>\n",
       "      <td>R</td>\n",
       "      <td>6000000.0</td>\n",
       "      <td>0</td>\n",
       "      <td>1</td>\n",
       "      <td>0</td>\n",
       "      <td>...</td>\n",
       "      <td>0</td>\n",
       "      <td>0</td>\n",
       "      <td>0</td>\n",
       "      <td>0</td>\n",
       "      <td>1</td>\n",
       "      <td>7</td>\n",
       "      <td>7</td>\n",
       "      <td>3</td>\n",
       "      <td>5</td>\n",
       "      <td>6.633333</td>\n",
       "    </tr>\n",
       "    <tr>\n",
       "      <td>...</td>\n",
       "      <td>...</td>\n",
       "      <td>...</td>\n",
       "      <td>...</td>\n",
       "      <td>...</td>\n",
       "      <td>...</td>\n",
       "      <td>...</td>\n",
       "      <td>...</td>\n",
       "      <td>...</td>\n",
       "      <td>...</td>\n",
       "      <td>...</td>\n",
       "      <td>...</td>\n",
       "      <td>...</td>\n",
       "      <td>...</td>\n",
       "      <td>...</td>\n",
       "      <td>...</td>\n",
       "      <td>...</td>\n",
       "      <td>...</td>\n",
       "      <td>...</td>\n",
       "      <td>...</td>\n",
       "      <td>...</td>\n",
       "      <td>...</td>\n",
       "    </tr>\n",
       "    <tr>\n",
       "      <td>3847</td>\n",
       "      <td>92.0</td>\n",
       "      <td>17860</td>\n",
       "      <td>0.0</td>\n",
       "      <td>English</td>\n",
       "      <td>USA</td>\n",
       "      <td>R</td>\n",
       "      <td>35000000.0</td>\n",
       "      <td>0</td>\n",
       "      <td>1</td>\n",
       "      <td>0</td>\n",
       "      <td>...</td>\n",
       "      <td>0</td>\n",
       "      <td>0</td>\n",
       "      <td>0</td>\n",
       "      <td>0</td>\n",
       "      <td>0</td>\n",
       "      <td>7</td>\n",
       "      <td>5</td>\n",
       "      <td>3</td>\n",
       "      <td>4</td>\n",
       "      <td>1.579766</td>\n",
       "    </tr>\n",
       "    <tr>\n",
       "      <td>3848</td>\n",
       "      <td>100.0</td>\n",
       "      <td>18786</td>\n",
       "      <td>9.0</td>\n",
       "      <td>English</td>\n",
       "      <td>USA</td>\n",
       "      <td>R</td>\n",
       "      <td>20000000.0</td>\n",
       "      <td>0</td>\n",
       "      <td>1</td>\n",
       "      <td>0</td>\n",
       "      <td>...</td>\n",
       "      <td>0</td>\n",
       "      <td>0</td>\n",
       "      <td>0</td>\n",
       "      <td>0</td>\n",
       "      <td>0</td>\n",
       "      <td>7</td>\n",
       "      <td>5</td>\n",
       "      <td>5</td>\n",
       "      <td>5</td>\n",
       "      <td>2.773065</td>\n",
       "    </tr>\n",
       "    <tr>\n",
       "      <td>3849</td>\n",
       "      <td>92.0</td>\n",
       "      <td>2848</td>\n",
       "      <td>4.0</td>\n",
       "      <td>English</td>\n",
       "      <td>USA</td>\n",
       "      <td>R</td>\n",
       "      <td>5000000.0</td>\n",
       "      <td>0</td>\n",
       "      <td>1</td>\n",
       "      <td>0</td>\n",
       "      <td>...</td>\n",
       "      <td>0</td>\n",
       "      <td>0</td>\n",
       "      <td>0</td>\n",
       "      <td>0</td>\n",
       "      <td>0</td>\n",
       "      <td>5</td>\n",
       "      <td>2</td>\n",
       "      <td>4</td>\n",
       "      <td>4</td>\n",
       "      <td>2.335036</td>\n",
       "    </tr>\n",
       "    <tr>\n",
       "      <td>3850</td>\n",
       "      <td>81.0</td>\n",
       "      <td>3344</td>\n",
       "      <td>0.0</td>\n",
       "      <td>English</td>\n",
       "      <td>USA</td>\n",
       "      <td>PG-13</td>\n",
       "      <td>4900000.0</td>\n",
       "      <td>0</td>\n",
       "      <td>0</td>\n",
       "      <td>0</td>\n",
       "      <td>...</td>\n",
       "      <td>0</td>\n",
       "      <td>0</td>\n",
       "      <td>0</td>\n",
       "      <td>0</td>\n",
       "      <td>0</td>\n",
       "      <td>7</td>\n",
       "      <td>3</td>\n",
       "      <td>3</td>\n",
       "      <td>4</td>\n",
       "      <td>11.537962</td>\n",
       "    </tr>\n",
       "    <tr>\n",
       "      <td>3851</td>\n",
       "      <td>120.0</td>\n",
       "      <td>1810</td>\n",
       "      <td>11.0</td>\n",
       "      <td>English</td>\n",
       "      <td>USA</td>\n",
       "      <td>PG</td>\n",
       "      <td>5000000.0</td>\n",
       "      <td>0</td>\n",
       "      <td>0</td>\n",
       "      <td>0</td>\n",
       "      <td>...</td>\n",
       "      <td>0</td>\n",
       "      <td>0</td>\n",
       "      <td>0</td>\n",
       "      <td>0</td>\n",
       "      <td>0</td>\n",
       "      <td>3</td>\n",
       "      <td>2</td>\n",
       "      <td>3</td>\n",
       "      <td>4</td>\n",
       "      <td>4.154614</td>\n",
       "    </tr>\n",
       "  </tbody>\n",
       "</table>\n",
       "<p>3852 rows × 23 columns</p>\n",
       "</div>"
      ],
      "text/plain": [
       "      duration  cast_total_facebook_likes  facenumber_in_poster language  \\\n",
       "0        123.0                      22209                   1.0  English   \n",
       "1         88.0                       2726                   0.0  English   \n",
       "2        104.0                       1662                   0.0  English   \n",
       "3        148.0                       2566                   1.0  English   \n",
       "4         98.0                      14921                   3.0  English   \n",
       "...        ...                        ...                   ...      ...   \n",
       "3847      92.0                      17860                   0.0  English   \n",
       "3848     100.0                      18786                   9.0  English   \n",
       "3849      92.0                       2848                   4.0  English   \n",
       "3850      81.0                       3344                   0.0  English   \n",
       "3851     120.0                       1810                  11.0  English   \n",
       "\n",
       "     country content_rating      budget  Biography  Comedy  Crime  ...  \\\n",
       "0        USA          PG-13  48000000.0          0       1      0  ...   \n",
       "1        USA             PG   3500000.0          0       1      0  ...   \n",
       "2        USA              R   4500000.0          0       0      0  ...   \n",
       "3        USA              R  27000000.0          0       1      1  ...   \n",
       "4        USA              R   6000000.0          0       1      0  ...   \n",
       "...      ...            ...         ...        ...     ...    ...  ...   \n",
       "3847     USA              R  35000000.0          0       1      0  ...   \n",
       "3848     USA              R  20000000.0          0       1      0  ...   \n",
       "3849     USA              R   5000000.0          0       1      0  ...   \n",
       "3850     USA          PG-13   4900000.0          0       0      0  ...   \n",
       "3851     USA             PG   5000000.0          0       0      0  ...   \n",
       "\n",
       "      Sci-Fi_Fantasy  Family_Animation  Action_Adventure  History_War  Others  \\\n",
       "0                  1                 0                 0            0       0   \n",
       "1                  0                 0                 0            0       0   \n",
       "2                  0                 0                 1            0       0   \n",
       "3                  0                 0                 1            0       1   \n",
       "4                  0                 0                 0            0       1   \n",
       "...              ...               ...               ...          ...     ...   \n",
       "3847               0                 0                 0            0       0   \n",
       "3848               0                 0                 0            0       0   \n",
       "3849               0                 0                 0            0       0   \n",
       "3850               0                 0                 0            0       0   \n",
       "3851               0                 0                 0            0       0   \n",
       "\n",
       "      director_rank  actor1_rank  actor2_rank  actor3_rank  gross_budget_ratio  \n",
       "0                 8            6            3            4            0.981155  \n",
       "1                 8            2            3            4           23.828571  \n",
       "2                 7            3            3            3           13.078468  \n",
       "3                 8            3            3            4            2.007407  \n",
       "4                 7            7            3            5            6.633333  \n",
       "...             ...          ...          ...          ...                 ...  \n",
       "3847              7            5            3            4            1.579766  \n",
       "3848              7            5            5            5            2.773065  \n",
       "3849              5            2            4            4            2.335036  \n",
       "3850              7            3            3            4           11.537962  \n",
       "3851              3            2            3            4            4.154614  \n",
       "\n",
       "[3852 rows x 23 columns]"
      ]
     },
     "execution_count": 5,
     "metadata": {},
     "output_type": "execute_result"
    }
   ],
   "source": [
    "classification_df"
   ]
  },
  {
   "cell_type": "markdown",
   "metadata": {},
   "source": [
    "## 1.1) All Movies"
   ]
  },
  {
   "cell_type": "code",
   "execution_count": 6,
   "metadata": {},
   "outputs": [
    {
     "data": {
      "text/html": [
       "<div>\n",
       "<style scoped>\n",
       "    .dataframe tbody tr th:only-of-type {\n",
       "        vertical-align: middle;\n",
       "    }\n",
       "\n",
       "    .dataframe tbody tr th {\n",
       "        vertical-align: top;\n",
       "    }\n",
       "\n",
       "    .dataframe thead th {\n",
       "        text-align: right;\n",
       "    }\n",
       "</style>\n",
       "<table border=\"1\" class=\"dataframe\">\n",
       "  <thead>\n",
       "    <tr style=\"text-align: right;\">\n",
       "      <th></th>\n",
       "      <th>duration</th>\n",
       "      <th>cast_total_facebook_likes</th>\n",
       "      <th>facenumber_in_poster</th>\n",
       "      <th>budget</th>\n",
       "      <th>Biography</th>\n",
       "      <th>Comedy</th>\n",
       "      <th>Crime</th>\n",
       "      <th>Drama</th>\n",
       "      <th>Romance</th>\n",
       "      <th>Mystery_Thriller_Horror</th>\n",
       "      <th>...</th>\n",
       "      <th>History_War</th>\n",
       "      <th>Others</th>\n",
       "      <th>director_rank</th>\n",
       "      <th>actor1_rank</th>\n",
       "      <th>actor2_rank</th>\n",
       "      <th>actor3_rank</th>\n",
       "      <th>gross_budget_ratio</th>\n",
       "      <th>content_rating_PG</th>\n",
       "      <th>content_rating_PG-13</th>\n",
       "      <th>content_rating_R</th>\n",
       "    </tr>\n",
       "  </thead>\n",
       "  <tbody>\n",
       "    <tr>\n",
       "      <td>0</td>\n",
       "      <td>123.0</td>\n",
       "      <td>22209</td>\n",
       "      <td>1.0</td>\n",
       "      <td>4.800000e+07</td>\n",
       "      <td>0</td>\n",
       "      <td>1</td>\n",
       "      <td>0</td>\n",
       "      <td>0</td>\n",
       "      <td>1</td>\n",
       "      <td>0</td>\n",
       "      <td>...</td>\n",
       "      <td>0</td>\n",
       "      <td>0</td>\n",
       "      <td>8</td>\n",
       "      <td>6</td>\n",
       "      <td>3</td>\n",
       "      <td>4</td>\n",
       "      <td>0.981155</td>\n",
       "      <td>0</td>\n",
       "      <td>1</td>\n",
       "      <td>0</td>\n",
       "    </tr>\n",
       "    <tr>\n",
       "      <td>3</td>\n",
       "      <td>148.0</td>\n",
       "      <td>2566</td>\n",
       "      <td>1.0</td>\n",
       "      <td>2.700000e+07</td>\n",
       "      <td>0</td>\n",
       "      <td>1</td>\n",
       "      <td>1</td>\n",
       "      <td>0</td>\n",
       "      <td>0</td>\n",
       "      <td>0</td>\n",
       "      <td>...</td>\n",
       "      <td>0</td>\n",
       "      <td>1</td>\n",
       "      <td>8</td>\n",
       "      <td>3</td>\n",
       "      <td>3</td>\n",
       "      <td>4</td>\n",
       "      <td>2.007407</td>\n",
       "      <td>0</td>\n",
       "      <td>0</td>\n",
       "      <td>1</td>\n",
       "    </tr>\n",
       "    <tr>\n",
       "      <td>5</td>\n",
       "      <td>124.0</td>\n",
       "      <td>1462</td>\n",
       "      <td>0.0</td>\n",
       "      <td>2.000000e+07</td>\n",
       "      <td>1</td>\n",
       "      <td>1</td>\n",
       "      <td>0</td>\n",
       "      <td>0</td>\n",
       "      <td>0</td>\n",
       "      <td>0</td>\n",
       "      <td>...</td>\n",
       "      <td>0</td>\n",
       "      <td>1</td>\n",
       "      <td>5</td>\n",
       "      <td>3</td>\n",
       "      <td>2</td>\n",
       "      <td>3</td>\n",
       "      <td>0.100000</td>\n",
       "      <td>1</td>\n",
       "      <td>0</td>\n",
       "      <td>0</td>\n",
       "    </tr>\n",
       "    <tr>\n",
       "      <td>6</td>\n",
       "      <td>124.0</td>\n",
       "      <td>2667</td>\n",
       "      <td>0.0</td>\n",
       "      <td>5.166449e+07</td>\n",
       "      <td>1</td>\n",
       "      <td>0</td>\n",
       "      <td>0</td>\n",
       "      <td>1</td>\n",
       "      <td>0</td>\n",
       "      <td>0</td>\n",
       "      <td>...</td>\n",
       "      <td>0</td>\n",
       "      <td>1</td>\n",
       "      <td>7</td>\n",
       "      <td>3</td>\n",
       "      <td>4</td>\n",
       "      <td>4</td>\n",
       "      <td>1.546517</td>\n",
       "      <td>1</td>\n",
       "      <td>0</td>\n",
       "      <td>0</td>\n",
       "    </tr>\n",
       "    <tr>\n",
       "      <td>7</td>\n",
       "      <td>104.0</td>\n",
       "      <td>2442</td>\n",
       "      <td>0.0</td>\n",
       "      <td>6.500000e+06</td>\n",
       "      <td>0</td>\n",
       "      <td>0</td>\n",
       "      <td>0</td>\n",
       "      <td>0</td>\n",
       "      <td>1</td>\n",
       "      <td>1</td>\n",
       "      <td>...</td>\n",
       "      <td>0</td>\n",
       "      <td>0</td>\n",
       "      <td>8</td>\n",
       "      <td>2</td>\n",
       "      <td>3</td>\n",
       "      <td>4</td>\n",
       "      <td>4.907538</td>\n",
       "      <td>0</td>\n",
       "      <td>0</td>\n",
       "      <td>0</td>\n",
       "    </tr>\n",
       "    <tr>\n",
       "      <td>...</td>\n",
       "      <td>...</td>\n",
       "      <td>...</td>\n",
       "      <td>...</td>\n",
       "      <td>...</td>\n",
       "      <td>...</td>\n",
       "      <td>...</td>\n",
       "      <td>...</td>\n",
       "      <td>...</td>\n",
       "      <td>...</td>\n",
       "      <td>...</td>\n",
       "      <td>...</td>\n",
       "      <td>...</td>\n",
       "      <td>...</td>\n",
       "      <td>...</td>\n",
       "      <td>...</td>\n",
       "      <td>...</td>\n",
       "      <td>...</td>\n",
       "      <td>...</td>\n",
       "      <td>...</td>\n",
       "      <td>...</td>\n",
       "      <td>...</td>\n",
       "    </tr>\n",
       "    <tr>\n",
       "      <td>3846</td>\n",
       "      <td>121.0</td>\n",
       "      <td>6617</td>\n",
       "      <td>0.0</td>\n",
       "      <td>5.000000e+06</td>\n",
       "      <td>0</td>\n",
       "      <td>0</td>\n",
       "      <td>0</td>\n",
       "      <td>1</td>\n",
       "      <td>0</td>\n",
       "      <td>0</td>\n",
       "      <td>...</td>\n",
       "      <td>0</td>\n",
       "      <td>0</td>\n",
       "      <td>7</td>\n",
       "      <td>4</td>\n",
       "      <td>3</td>\n",
       "      <td>4</td>\n",
       "      <td>0.940072</td>\n",
       "      <td>0</td>\n",
       "      <td>1</td>\n",
       "      <td>0</td>\n",
       "    </tr>\n",
       "    <tr>\n",
       "      <td>3847</td>\n",
       "      <td>92.0</td>\n",
       "      <td>17860</td>\n",
       "      <td>0.0</td>\n",
       "      <td>3.500000e+07</td>\n",
       "      <td>0</td>\n",
       "      <td>1</td>\n",
       "      <td>0</td>\n",
       "      <td>0</td>\n",
       "      <td>0</td>\n",
       "      <td>0</td>\n",
       "      <td>...</td>\n",
       "      <td>0</td>\n",
       "      <td>0</td>\n",
       "      <td>7</td>\n",
       "      <td>5</td>\n",
       "      <td>3</td>\n",
       "      <td>4</td>\n",
       "      <td>1.579766</td>\n",
       "      <td>0</td>\n",
       "      <td>0</td>\n",
       "      <td>1</td>\n",
       "    </tr>\n",
       "    <tr>\n",
       "      <td>3848</td>\n",
       "      <td>100.0</td>\n",
       "      <td>18786</td>\n",
       "      <td>9.0</td>\n",
       "      <td>2.000000e+07</td>\n",
       "      <td>0</td>\n",
       "      <td>1</td>\n",
       "      <td>0</td>\n",
       "      <td>0</td>\n",
       "      <td>0</td>\n",
       "      <td>0</td>\n",
       "      <td>...</td>\n",
       "      <td>0</td>\n",
       "      <td>0</td>\n",
       "      <td>7</td>\n",
       "      <td>5</td>\n",
       "      <td>5</td>\n",
       "      <td>5</td>\n",
       "      <td>2.773065</td>\n",
       "      <td>0</td>\n",
       "      <td>0</td>\n",
       "      <td>1</td>\n",
       "    </tr>\n",
       "    <tr>\n",
       "      <td>3849</td>\n",
       "      <td>92.0</td>\n",
       "      <td>2848</td>\n",
       "      <td>4.0</td>\n",
       "      <td>5.000000e+06</td>\n",
       "      <td>0</td>\n",
       "      <td>1</td>\n",
       "      <td>0</td>\n",
       "      <td>0</td>\n",
       "      <td>0</td>\n",
       "      <td>0</td>\n",
       "      <td>...</td>\n",
       "      <td>0</td>\n",
       "      <td>0</td>\n",
       "      <td>5</td>\n",
       "      <td>2</td>\n",
       "      <td>4</td>\n",
       "      <td>4</td>\n",
       "      <td>2.335036</td>\n",
       "      <td>0</td>\n",
       "      <td>0</td>\n",
       "      <td>1</td>\n",
       "    </tr>\n",
       "    <tr>\n",
       "      <td>3851</td>\n",
       "      <td>120.0</td>\n",
       "      <td>1810</td>\n",
       "      <td>11.0</td>\n",
       "      <td>5.000000e+06</td>\n",
       "      <td>0</td>\n",
       "      <td>0</td>\n",
       "      <td>0</td>\n",
       "      <td>1</td>\n",
       "      <td>0</td>\n",
       "      <td>0</td>\n",
       "      <td>...</td>\n",
       "      <td>0</td>\n",
       "      <td>0</td>\n",
       "      <td>3</td>\n",
       "      <td>2</td>\n",
       "      <td>3</td>\n",
       "      <td>4</td>\n",
       "      <td>4.154614</td>\n",
       "      <td>1</td>\n",
       "      <td>0</td>\n",
       "      <td>0</td>\n",
       "    </tr>\n",
       "  </tbody>\n",
       "</table>\n",
       "<p>3541 rows × 23 columns</p>\n",
       "</div>"
      ],
      "text/plain": [
       "      duration  cast_total_facebook_likes  facenumber_in_poster        budget  \\\n",
       "0        123.0                      22209                   1.0  4.800000e+07   \n",
       "3        148.0                       2566                   1.0  2.700000e+07   \n",
       "5        124.0                       1462                   0.0  2.000000e+07   \n",
       "6        124.0                       2667                   0.0  5.166449e+07   \n",
       "7        104.0                       2442                   0.0  6.500000e+06   \n",
       "...        ...                        ...                   ...           ...   \n",
       "3846     121.0                       6617                   0.0  5.000000e+06   \n",
       "3847      92.0                      17860                   0.0  3.500000e+07   \n",
       "3848     100.0                      18786                   9.0  2.000000e+07   \n",
       "3849      92.0                       2848                   4.0  5.000000e+06   \n",
       "3851     120.0                       1810                  11.0  5.000000e+06   \n",
       "\n",
       "      Biography  Comedy  Crime  Drama  Romance  Mystery_Thriller_Horror  ...  \\\n",
       "0             0       1      0      0        1                        0  ...   \n",
       "3             0       1      1      0        0                        0  ...   \n",
       "5             1       1      0      0        0                        0  ...   \n",
       "6             1       0      0      1        0                        0  ...   \n",
       "7             0       0      0      0        1                        1  ...   \n",
       "...         ...     ...    ...    ...      ...                      ...  ...   \n",
       "3846          0       0      0      1        0                        0  ...   \n",
       "3847          0       1      0      0        0                        0  ...   \n",
       "3848          0       1      0      0        0                        0  ...   \n",
       "3849          0       1      0      0        0                        0  ...   \n",
       "3851          0       0      0      1        0                        0  ...   \n",
       "\n",
       "      History_War  Others  director_rank  actor1_rank  actor2_rank  \\\n",
       "0               0       0              8            6            3   \n",
       "3               0       1              8            3            3   \n",
       "5               0       1              5            3            2   \n",
       "6               0       1              7            3            4   \n",
       "7               0       0              8            2            3   \n",
       "...           ...     ...            ...          ...          ...   \n",
       "3846            0       0              7            4            3   \n",
       "3847            0       0              7            5            3   \n",
       "3848            0       0              7            5            5   \n",
       "3849            0       0              5            2            4   \n",
       "3851            0       0              3            2            3   \n",
       "\n",
       "      actor3_rank  gross_budget_ratio  content_rating_PG  \\\n",
       "0               4            0.981155                  0   \n",
       "3               4            2.007407                  0   \n",
       "5               3            0.100000                  1   \n",
       "6               4            1.546517                  1   \n",
       "7               4            4.907538                  0   \n",
       "...           ...                 ...                ...   \n",
       "3846            4            0.940072                  0   \n",
       "3847            4            1.579766                  0   \n",
       "3848            5            2.773065                  0   \n",
       "3849            4            2.335036                  0   \n",
       "3851            4            4.154614                  1   \n",
       "\n",
       "      content_rating_PG-13  content_rating_R  \n",
       "0                        1                 0  \n",
       "3                        0                 1  \n",
       "5                        0                 0  \n",
       "6                        0                 0  \n",
       "7                        0                 0  \n",
       "...                    ...               ...  \n",
       "3846                     1                 0  \n",
       "3847                     0                 1  \n",
       "3848                     0                 1  \n",
       "3849                     0                 1  \n",
       "3851                     0                 0  \n",
       "\n",
       "[3541 rows x 23 columns]"
      ]
     },
     "execution_count": 6,
     "metadata": {},
     "output_type": "execute_result"
    }
   ],
   "source": [
    "classification1_df=classification_df.drop(columns=['country','language'])\n",
    "df1 = pd.get_dummies(classification1_df, columns=['content_rating'])\n",
    "df1 = df1.drop(columns =['content_rating_Not Rated','content_rating_G','content_rating_X','content_rating_NC-17'])\n",
    "df1 = df1[df1.gross_budget_ratio<=5]\n",
    "df1"
   ]
  },
  {
   "cell_type": "markdown",
   "metadata": {},
   "source": [
    "## 1.1.1) Without log and feature elimination"
   ]
  },
  {
   "cell_type": "markdown",
   "metadata": {},
   "source": [
    "## 1.1.1.1) Seperating into 3 classes"
   ]
  },
  {
   "cell_type": "code",
   "execution_count": 7,
   "metadata": {},
   "outputs": [
    {
     "data": {
      "text/plain": [
       "0    1895\n",
       "1     934\n",
       "2     712\n",
       "Name: gross_budget_ratio, dtype: int64"
      ]
     },
     "execution_count": 7,
     "metadata": {},
     "output_type": "execute_result"
    }
   ],
   "source": [
    "RatioClass = df1['gross_budget_ratio'].transform(lambda x: 0 if x <= 1 else (1 if x <= 2 else 2))\n",
    "RatioClass = RatioClass.to_frame()\n",
    "Counts=RatioClass['gross_budget_ratio'].value_counts()\n",
    "Counts"
   ]
  },
  {
   "cell_type": "code",
   "execution_count": 8,
   "metadata": {},
   "outputs": [],
   "source": [
    "df11 = df1.copy()\n",
    "df11['gross_budget_ratio'] = RatioClass['gross_budget_ratio']"
   ]
  },
  {
   "cell_type": "code",
   "execution_count": 9,
   "metadata": {},
   "outputs": [
    {
     "data": {
      "text/html": [
       "<div>\n",
       "<style scoped>\n",
       "    .dataframe tbody tr th:only-of-type {\n",
       "        vertical-align: middle;\n",
       "    }\n",
       "\n",
       "    .dataframe tbody tr th {\n",
       "        vertical-align: top;\n",
       "    }\n",
       "\n",
       "    .dataframe thead th {\n",
       "        text-align: right;\n",
       "    }\n",
       "</style>\n",
       "<table border=\"1\" class=\"dataframe\">\n",
       "  <thead>\n",
       "    <tr style=\"text-align: right;\">\n",
       "      <th></th>\n",
       "      <th>duration</th>\n",
       "      <th>cast_total_facebook_likes</th>\n",
       "      <th>facenumber_in_poster</th>\n",
       "      <th>budget</th>\n",
       "      <th>Biography</th>\n",
       "      <th>Comedy</th>\n",
       "      <th>Crime</th>\n",
       "      <th>Drama</th>\n",
       "      <th>Romance</th>\n",
       "      <th>Mystery_Thriller_Horror</th>\n",
       "      <th>...</th>\n",
       "      <th>History_War</th>\n",
       "      <th>Others</th>\n",
       "      <th>director_rank</th>\n",
       "      <th>actor1_rank</th>\n",
       "      <th>actor2_rank</th>\n",
       "      <th>actor3_rank</th>\n",
       "      <th>gross_budget_ratio</th>\n",
       "      <th>content_rating_PG</th>\n",
       "      <th>content_rating_PG-13</th>\n",
       "      <th>content_rating_R</th>\n",
       "    </tr>\n",
       "  </thead>\n",
       "  <tbody>\n",
       "    <tr>\n",
       "      <td>0</td>\n",
       "      <td>123.0</td>\n",
       "      <td>22209</td>\n",
       "      <td>1.0</td>\n",
       "      <td>4.800000e+07</td>\n",
       "      <td>0</td>\n",
       "      <td>1</td>\n",
       "      <td>0</td>\n",
       "      <td>0</td>\n",
       "      <td>1</td>\n",
       "      <td>0</td>\n",
       "      <td>...</td>\n",
       "      <td>0</td>\n",
       "      <td>0</td>\n",
       "      <td>8</td>\n",
       "      <td>6</td>\n",
       "      <td>3</td>\n",
       "      <td>4</td>\n",
       "      <td>0</td>\n",
       "      <td>0</td>\n",
       "      <td>1</td>\n",
       "      <td>0</td>\n",
       "    </tr>\n",
       "    <tr>\n",
       "      <td>3</td>\n",
       "      <td>148.0</td>\n",
       "      <td>2566</td>\n",
       "      <td>1.0</td>\n",
       "      <td>2.700000e+07</td>\n",
       "      <td>0</td>\n",
       "      <td>1</td>\n",
       "      <td>1</td>\n",
       "      <td>0</td>\n",
       "      <td>0</td>\n",
       "      <td>0</td>\n",
       "      <td>...</td>\n",
       "      <td>0</td>\n",
       "      <td>1</td>\n",
       "      <td>8</td>\n",
       "      <td>3</td>\n",
       "      <td>3</td>\n",
       "      <td>4</td>\n",
       "      <td>2</td>\n",
       "      <td>0</td>\n",
       "      <td>0</td>\n",
       "      <td>1</td>\n",
       "    </tr>\n",
       "    <tr>\n",
       "      <td>5</td>\n",
       "      <td>124.0</td>\n",
       "      <td>1462</td>\n",
       "      <td>0.0</td>\n",
       "      <td>2.000000e+07</td>\n",
       "      <td>1</td>\n",
       "      <td>1</td>\n",
       "      <td>0</td>\n",
       "      <td>0</td>\n",
       "      <td>0</td>\n",
       "      <td>0</td>\n",
       "      <td>...</td>\n",
       "      <td>0</td>\n",
       "      <td>1</td>\n",
       "      <td>5</td>\n",
       "      <td>3</td>\n",
       "      <td>2</td>\n",
       "      <td>3</td>\n",
       "      <td>0</td>\n",
       "      <td>1</td>\n",
       "      <td>0</td>\n",
       "      <td>0</td>\n",
       "    </tr>\n",
       "    <tr>\n",
       "      <td>6</td>\n",
       "      <td>124.0</td>\n",
       "      <td>2667</td>\n",
       "      <td>0.0</td>\n",
       "      <td>5.166449e+07</td>\n",
       "      <td>1</td>\n",
       "      <td>0</td>\n",
       "      <td>0</td>\n",
       "      <td>1</td>\n",
       "      <td>0</td>\n",
       "      <td>0</td>\n",
       "      <td>...</td>\n",
       "      <td>0</td>\n",
       "      <td>1</td>\n",
       "      <td>7</td>\n",
       "      <td>3</td>\n",
       "      <td>4</td>\n",
       "      <td>4</td>\n",
       "      <td>1</td>\n",
       "      <td>1</td>\n",
       "      <td>0</td>\n",
       "      <td>0</td>\n",
       "    </tr>\n",
       "    <tr>\n",
       "      <td>7</td>\n",
       "      <td>104.0</td>\n",
       "      <td>2442</td>\n",
       "      <td>0.0</td>\n",
       "      <td>6.500000e+06</td>\n",
       "      <td>0</td>\n",
       "      <td>0</td>\n",
       "      <td>0</td>\n",
       "      <td>0</td>\n",
       "      <td>1</td>\n",
       "      <td>1</td>\n",
       "      <td>...</td>\n",
       "      <td>0</td>\n",
       "      <td>0</td>\n",
       "      <td>8</td>\n",
       "      <td>2</td>\n",
       "      <td>3</td>\n",
       "      <td>4</td>\n",
       "      <td>2</td>\n",
       "      <td>0</td>\n",
       "      <td>0</td>\n",
       "      <td>0</td>\n",
       "    </tr>\n",
       "    <tr>\n",
       "      <td>...</td>\n",
       "      <td>...</td>\n",
       "      <td>...</td>\n",
       "      <td>...</td>\n",
       "      <td>...</td>\n",
       "      <td>...</td>\n",
       "      <td>...</td>\n",
       "      <td>...</td>\n",
       "      <td>...</td>\n",
       "      <td>...</td>\n",
       "      <td>...</td>\n",
       "      <td>...</td>\n",
       "      <td>...</td>\n",
       "      <td>...</td>\n",
       "      <td>...</td>\n",
       "      <td>...</td>\n",
       "      <td>...</td>\n",
       "      <td>...</td>\n",
       "      <td>...</td>\n",
       "      <td>...</td>\n",
       "      <td>...</td>\n",
       "      <td>...</td>\n",
       "    </tr>\n",
       "    <tr>\n",
       "      <td>3846</td>\n",
       "      <td>121.0</td>\n",
       "      <td>6617</td>\n",
       "      <td>0.0</td>\n",
       "      <td>5.000000e+06</td>\n",
       "      <td>0</td>\n",
       "      <td>0</td>\n",
       "      <td>0</td>\n",
       "      <td>1</td>\n",
       "      <td>0</td>\n",
       "      <td>0</td>\n",
       "      <td>...</td>\n",
       "      <td>0</td>\n",
       "      <td>0</td>\n",
       "      <td>7</td>\n",
       "      <td>4</td>\n",
       "      <td>3</td>\n",
       "      <td>4</td>\n",
       "      <td>0</td>\n",
       "      <td>0</td>\n",
       "      <td>1</td>\n",
       "      <td>0</td>\n",
       "    </tr>\n",
       "    <tr>\n",
       "      <td>3847</td>\n",
       "      <td>92.0</td>\n",
       "      <td>17860</td>\n",
       "      <td>0.0</td>\n",
       "      <td>3.500000e+07</td>\n",
       "      <td>0</td>\n",
       "      <td>1</td>\n",
       "      <td>0</td>\n",
       "      <td>0</td>\n",
       "      <td>0</td>\n",
       "      <td>0</td>\n",
       "      <td>...</td>\n",
       "      <td>0</td>\n",
       "      <td>0</td>\n",
       "      <td>7</td>\n",
       "      <td>5</td>\n",
       "      <td>3</td>\n",
       "      <td>4</td>\n",
       "      <td>1</td>\n",
       "      <td>0</td>\n",
       "      <td>0</td>\n",
       "      <td>1</td>\n",
       "    </tr>\n",
       "    <tr>\n",
       "      <td>3848</td>\n",
       "      <td>100.0</td>\n",
       "      <td>18786</td>\n",
       "      <td>9.0</td>\n",
       "      <td>2.000000e+07</td>\n",
       "      <td>0</td>\n",
       "      <td>1</td>\n",
       "      <td>0</td>\n",
       "      <td>0</td>\n",
       "      <td>0</td>\n",
       "      <td>0</td>\n",
       "      <td>...</td>\n",
       "      <td>0</td>\n",
       "      <td>0</td>\n",
       "      <td>7</td>\n",
       "      <td>5</td>\n",
       "      <td>5</td>\n",
       "      <td>5</td>\n",
       "      <td>2</td>\n",
       "      <td>0</td>\n",
       "      <td>0</td>\n",
       "      <td>1</td>\n",
       "    </tr>\n",
       "    <tr>\n",
       "      <td>3849</td>\n",
       "      <td>92.0</td>\n",
       "      <td>2848</td>\n",
       "      <td>4.0</td>\n",
       "      <td>5.000000e+06</td>\n",
       "      <td>0</td>\n",
       "      <td>1</td>\n",
       "      <td>0</td>\n",
       "      <td>0</td>\n",
       "      <td>0</td>\n",
       "      <td>0</td>\n",
       "      <td>...</td>\n",
       "      <td>0</td>\n",
       "      <td>0</td>\n",
       "      <td>5</td>\n",
       "      <td>2</td>\n",
       "      <td>4</td>\n",
       "      <td>4</td>\n",
       "      <td>2</td>\n",
       "      <td>0</td>\n",
       "      <td>0</td>\n",
       "      <td>1</td>\n",
       "    </tr>\n",
       "    <tr>\n",
       "      <td>3851</td>\n",
       "      <td>120.0</td>\n",
       "      <td>1810</td>\n",
       "      <td>11.0</td>\n",
       "      <td>5.000000e+06</td>\n",
       "      <td>0</td>\n",
       "      <td>0</td>\n",
       "      <td>0</td>\n",
       "      <td>1</td>\n",
       "      <td>0</td>\n",
       "      <td>0</td>\n",
       "      <td>...</td>\n",
       "      <td>0</td>\n",
       "      <td>0</td>\n",
       "      <td>3</td>\n",
       "      <td>2</td>\n",
       "      <td>3</td>\n",
       "      <td>4</td>\n",
       "      <td>2</td>\n",
       "      <td>1</td>\n",
       "      <td>0</td>\n",
       "      <td>0</td>\n",
       "    </tr>\n",
       "  </tbody>\n",
       "</table>\n",
       "<p>3541 rows × 23 columns</p>\n",
       "</div>"
      ],
      "text/plain": [
       "      duration  cast_total_facebook_likes  facenumber_in_poster        budget  \\\n",
       "0        123.0                      22209                   1.0  4.800000e+07   \n",
       "3        148.0                       2566                   1.0  2.700000e+07   \n",
       "5        124.0                       1462                   0.0  2.000000e+07   \n",
       "6        124.0                       2667                   0.0  5.166449e+07   \n",
       "7        104.0                       2442                   0.0  6.500000e+06   \n",
       "...        ...                        ...                   ...           ...   \n",
       "3846     121.0                       6617                   0.0  5.000000e+06   \n",
       "3847      92.0                      17860                   0.0  3.500000e+07   \n",
       "3848     100.0                      18786                   9.0  2.000000e+07   \n",
       "3849      92.0                       2848                   4.0  5.000000e+06   \n",
       "3851     120.0                       1810                  11.0  5.000000e+06   \n",
       "\n",
       "      Biography  Comedy  Crime  Drama  Romance  Mystery_Thriller_Horror  ...  \\\n",
       "0             0       1      0      0        1                        0  ...   \n",
       "3             0       1      1      0        0                        0  ...   \n",
       "5             1       1      0      0        0                        0  ...   \n",
       "6             1       0      0      1        0                        0  ...   \n",
       "7             0       0      0      0        1                        1  ...   \n",
       "...         ...     ...    ...    ...      ...                      ...  ...   \n",
       "3846          0       0      0      1        0                        0  ...   \n",
       "3847          0       1      0      0        0                        0  ...   \n",
       "3848          0       1      0      0        0                        0  ...   \n",
       "3849          0       1      0      0        0                        0  ...   \n",
       "3851          0       0      0      1        0                        0  ...   \n",
       "\n",
       "      History_War  Others  director_rank  actor1_rank  actor2_rank  \\\n",
       "0               0       0              8            6            3   \n",
       "3               0       1              8            3            3   \n",
       "5               0       1              5            3            2   \n",
       "6               0       1              7            3            4   \n",
       "7               0       0              8            2            3   \n",
       "...           ...     ...            ...          ...          ...   \n",
       "3846            0       0              7            4            3   \n",
       "3847            0       0              7            5            3   \n",
       "3848            0       0              7            5            5   \n",
       "3849            0       0              5            2            4   \n",
       "3851            0       0              3            2            3   \n",
       "\n",
       "      actor3_rank  gross_budget_ratio  content_rating_PG  \\\n",
       "0               4                   0                  0   \n",
       "3               4                   2                  0   \n",
       "5               3                   0                  1   \n",
       "6               4                   1                  1   \n",
       "7               4                   2                  0   \n",
       "...           ...                 ...                ...   \n",
       "3846            4                   0                  0   \n",
       "3847            4                   1                  0   \n",
       "3848            5                   2                  0   \n",
       "3849            4                   2                  0   \n",
       "3851            4                   2                  1   \n",
       "\n",
       "      content_rating_PG-13  content_rating_R  \n",
       "0                        1                 0  \n",
       "3                        0                 1  \n",
       "5                        0                 0  \n",
       "6                        0                 0  \n",
       "7                        0                 0  \n",
       "...                    ...               ...  \n",
       "3846                     1                 0  \n",
       "3847                     0                 1  \n",
       "3848                     0                 1  \n",
       "3849                     0                 1  \n",
       "3851                     0                 0  \n",
       "\n",
       "[3541 rows x 23 columns]"
      ]
     },
     "execution_count": 9,
     "metadata": {},
     "output_type": "execute_result"
    }
   ],
   "source": [
    "df11"
   ]
  },
  {
   "cell_type": "code",
   "execution_count": 10,
   "metadata": {},
   "outputs": [
    {
     "name": "stdout",
     "output_type": "stream",
     "text": [
      "Dimensionality of X_train: (2478, 22)\n",
      "Dimensionality of X_test : (1063, 22)\n",
      "Dimensionality of y_train: (2478,)\n",
      "Dimensionality of y_test : (1063,)\n"
     ]
    }
   ],
   "source": [
    "X = df11.drop(columns=['gross_budget_ratio'])\n",
    "y = df11['gross_budget_ratio']\n",
    "X_train, X_test, y_train, y_test = train_test_split(X, y, stratify=y, test_size=0.3, random_state=10) \n",
    "print(f\"Dimensionality of X_train: {X_train.shape}\")\n",
    "print(f\"Dimensionality of X_test : {X_test.shape}\")\n",
    "print(f\"Dimensionality of y_train: {y_train.shape}\")\n",
    "print(f\"Dimensionality of y_test : {y_test.shape}\")"
   ]
  },
  {
   "cell_type": "markdown",
   "metadata": {},
   "source": [
    "### 1.1.1.1.1) Multi-Class Logistic Regression"
   ]
  },
  {
   "cell_type": "code",
   "execution_count": 11,
   "metadata": {},
   "outputs": [],
   "source": [
    "smote=SMOTE('minority')\n",
    "X_s, y_s = smote.fit_sample(X_train,y_train)\n",
    "X_sm, y_sm = smote.fit_sample(X_s,y_s)\n",
    "X_sm_train, y_sm_train = shuffle(X_sm, y_sm, random_state=10)"
   ]
  },
  {
   "cell_type": "code",
   "execution_count": 12,
   "metadata": {},
   "outputs": [
    {
     "name": "stdout",
     "output_type": "stream",
     "text": [
      "MLR best parameters: {'C': 1, 'penalty': 'l2'}\n",
      "MLR Train score: 0.5211161387631976\n",
      "MLR Test score: 0.44967074317968014\n"
     ]
    }
   ],
   "source": [
    "C_List = [0.001,0.01,0.1,1,10,100,1000]\n",
    "penalty = ['l2','none']\n",
    "parameters = {'C': C_List,'penalty':penalty}\n",
    "MLR = LogisticRegression(multi_class='multinomial', solver='newton-cg')\n",
    "clf1 = GridSearchCV(MLR, parameters, cv=5, verbose=0,scoring ='accuracy')\n",
    "clf1.fit(X_sm_train, y_sm_train)\n",
    "\n",
    "y_pred = clf1.predict(X_test)\n",
    "print(\"MLR best parameters:\", clf1.best_params_)\n",
    "print(\"MLR Train score:\", clf1.score(X_sm_train, y_sm_train))\n",
    "print(\"MLR Test score:\", clf1.score(X_test, y_test))"
   ]
  },
  {
   "cell_type": "code",
   "execution_count": 13,
   "metadata": {},
   "outputs": [
    {
     "data": {
      "text/plain": [
       "Text(0.5, 1, 'Multiclass Logistic Regression')"
      ]
     },
     "execution_count": 13,
     "metadata": {},
     "output_type": "execute_result"
    },
    {
     "data": {
      "image/png": "[encoded data removed]",
      "text/plain": [
       "<Figure size 432x288 with 2 Axes>"
      ]
     },
     "metadata": {
      "needs_background": "light"
     },
     "output_type": "display_data"
    }
   ],
   "source": [
    "ax = plt.subplot()\n",
    "Model_Predictions = clf1.predict(X_test)\n",
    "Model_Confusion_Matrix = confusion_matrix(Model_Predictions,y_test)\n",
    "sns.heatmap(Model_Confusion_Matrix,annot=True,fmt = \"d\",square = True,ax = ax, linewidths = 1,linecolor = \"w\",cmap = \"Pastel2\")\n",
    "ax.set_xlabel('True labels')\n",
    "ax.set_ylabel('Predicted labels')\n",
    "ax.xaxis.set_ticklabels([\"Loss\",\"Low Profit\",'High Profit'])\n",
    "ax.yaxis.set_ticklabels([\"Loss\",\"Low Profit\",'High Profit'], va=\"center\")\n",
    "b, t = plt.ylim() \n",
    "b += 0.5\n",
    "t -= 0.5\n",
    "plt.ylim(b, t)\n",
    "plt.title('Multiclass Logistic Regression')"
   ]
  },
  {
   "cell_type": "markdown",
   "metadata": {},
   "source": [
    "### 1.1.1.1.2) Decision Tree Classifier"
   ]
  },
  {
   "cell_type": "code",
   "execution_count": 14,
   "metadata": {},
   "outputs": [
    {
     "name": "stdout",
     "output_type": "stream",
     "text": [
      "DTC best parameters: {'criterion': 'gini', 'max_depth': 100, 'min_samples_leaf': 0.0005, 'min_samples_split': 0.5}\n",
      "DTC Train score: 0.5351089588377724\n",
      "DTC Test score: 0.535277516462841\n"
     ]
    }
   ],
   "source": [
    "DTSplitList=[0.001,0.01,0.05,0.1,0.5,0.99]\n",
    "DTLeafList=[0.0005,0.005,0.025,0.05,0.1,0.25,0.5]\n",
    "criterion =['gini','entropy']\n",
    "parameters = {'criterion':criterion,'max_depth':list(range(100,0,-3)),'min_samples_leaf': DTLeafList, 'min_samples_split':DTSplitList}\n",
    "DTC = DecisionTreeClassifier(random_state=10)\n",
    "clf2 = GridSearchCV(DTC, parameters, cv=5, verbose=0,scoring ='accuracy')\n",
    "clf2.fit(X_train, y_train)\n",
    "\n",
    "y_pred = clf2.predict(X_test)\n",
    "print(\"DTC best parameters:\", clf2.best_params_)\n",
    "print(\"DTC Train score:\", clf2.score(X_train, y_train))\n",
    "print(\"DTC Test score:\", clf2.score(X_test, y_test))"
   ]
  },
  {
   "cell_type": "code",
   "execution_count": 15,
   "metadata": {},
   "outputs": [
    {
     "data": {
      "text/plain": [
       "Text(0.5, 1, 'Decision Tree Classifier')"
      ]
     },
     "execution_count": 15,
     "metadata": {},
     "output_type": "execute_result"
    },
    {
     "data": {
      "image/png": "[encoded data removed]",
      "text/plain": [
       "<Figure size 432x288 with 2 Axes>"
      ]
     },
     "metadata": {
      "needs_background": "light"
     },
     "output_type": "display_data"
    }
   ],
   "source": [
    "ax = plt.subplot()\n",
    "Model_Predictions = clf2.predict(X_test)\n",
    "Model_Confusion_Matrix = confusion_matrix(Model_Predictions,y_test)\n",
    "sns.heatmap(Model_Confusion_Matrix,annot=True,fmt = \"d\",square = True,ax = ax, linewidths = 1,linecolor = \"w\",cmap = \"Pastel2\")\n",
    "ax.set_xlabel('True labels')\n",
    "ax.set_ylabel('Predicted labels')\n",
    "ax.xaxis.set_ticklabels([\"Loss\",\"Low Profit\",'High Profit'])\n",
    "ax.yaxis.set_ticklabels([\"Loss\",\"Low Profit\",'High Profit'], va=\"center\")\n",
    "b, t = plt.ylim() \n",
    "b += 0.5\n",
    "t -= 0.5\n",
    "plt.ylim(b, t)\n",
    "plt.title('Decision Tree Classifier')"
   ]
  },
  {
   "cell_type": "markdown",
   "metadata": {},
   "source": [
    "### 1.1.1.1.3) Random Forest Classifier"
   ]
  },
  {
   "cell_type": "code",
   "execution_count": 16,
   "metadata": {},
   "outputs": [
    {
     "name": "stdout",
     "output_type": "stream",
     "text": [
      "RFC best parameters: {'criterion': 'gini', 'max_depth': 10, 'n_estimators': 200}\n",
      "RFC Train score: 0.7623083131557707\n",
      "RFC Test score: 0.5399811853245532\n"
     ]
    }
   ],
   "source": [
    "RFEstimatorList = [25,50,100,200]\n",
    "criterion =['gini','entropy']\n",
    "parameters = {'criterion':criterion,'max_depth':list(range(100,0,-10)),'n_estimators':RFEstimatorList}\n",
    "RFC = RandomForestClassifier(random_state=10)\n",
    "clf3 = GridSearchCV(RFC, parameters, cv=5, verbose=0,scoring ='accuracy')\n",
    "clf3.fit(X_train, y_train)\n",
    "\n",
    "y_pred = clf3.predict(X_test)\n",
    "print(\"RFC best parameters:\", clf3.best_params_)\n",
    "print(\"RFC Train score:\", clf3.score(X_train, y_train))\n",
    "print(\"RFC Test score:\", clf3.score(X_test, y_test))"
   ]
  },
  {
   "cell_type": "code",
   "execution_count": 17,
   "metadata": {},
   "outputs": [
    {
     "data": {
      "text/plain": [
       "Text(0.5, 1, 'Random Forest Classifier')"
      ]
     },
     "execution_count": 17,
     "metadata": {},
     "output_type": "execute_result"
    },
    {
     "data": {
      "image/png": "[encoded data removed]",
      "text/plain": [
       "<Figure size 432x288 with 2 Axes>"
      ]
     },
     "metadata": {
      "needs_background": "light"
     },
     "output_type": "display_data"
    }
   ],
   "source": [
    "ax = plt.subplot()\n",
    "Model_Predictions = clf3.predict(X_test)\n",
    "Model_Confusion_Matrix = confusion_matrix(Model_Predictions,y_test)\n",
    "sns.heatmap(Model_Confusion_Matrix,annot=True,fmt = \"d\",square = True,ax = ax, linewidths = 1,linecolor = \"w\",cmap = \"Pastel2\")\n",
    "ax.set_xlabel('True labels')\n",
    "ax.set_ylabel('Predicted labels')\n",
    "ax.xaxis.set_ticklabels([\"Loss\",\"Low Profit\",'High Profit'])\n",
    "ax.yaxis.set_ticklabels([\"Loss\",\"Low Profit\",'High Profit'], va=\"center\")\n",
    "b, t = plt.ylim() \n",
    "b += 0.5\n",
    "t -= 0.5\n",
    "plt.ylim(b, t)\n",
    "plt.title('Random Forest Classifier')"
   ]
  },
  {
   "cell_type": "markdown",
   "metadata": {},
   "source": [
    "### 1.1.1.1.4) KNN Classifier"
   ]
  },
  {
   "cell_type": "code",
   "execution_count": 18,
   "metadata": {},
   "outputs": [],
   "source": [
    "MMScaler = MinMaxScaler()\n",
    "X_train_scaled = MMScaler.fit_transform(X_train)\n",
    "X_test_scaled = MMScaler.transform(X_test)"
   ]
  },
  {
   "cell_type": "code",
   "execution_count": 19,
   "metadata": {},
   "outputs": [
    {
     "name": "stdout",
     "output_type": "stream",
     "text": [
      "KNN best parameters: {'n_neighbors': 50}\n",
      "KNN Train score: 0.5419693301049233\n",
      "KNN Test score: 0.5456255879586077\n"
     ]
    }
   ],
   "source": [
    "Neighbor_List=[3,5,10,20,50]\n",
    "parameters = {'n_neighbors':Neighbor_List}\n",
    "KNNC = KNeighborsClassifier()\n",
    "clf4 = GridSearchCV(KNNC, parameters, cv=5, verbose=0,scoring ='accuracy')\n",
    "clf4.fit(X_train_scaled, y_train)\n",
    "\n",
    "y_pred = clf4.predict(X_test_scaled)\n",
    "print(\"KNN best parameters:\", clf4.best_params_)\n",
    "print(\"KNN Train score:\", clf4.score(X_train_scaled, y_train))\n",
    "print(\"KNN Test score:\", clf4.score(X_test_scaled, y_test))"
   ]
  },
  {
   "cell_type": "code",
   "execution_count": 20,
   "metadata": {},
   "outputs": [
    {
     "data": {
      "text/plain": [
       "Text(0.5, 1, 'KNN Classifier')"
      ]
     },
     "execution_count": 20,
     "metadata": {},
     "output_type": "execute_result"
    },
    {
     "data": {
      "image/png": "[encoded data removed]",
      "text/plain": [
       "<Figure size 432x288 with 2 Axes>"
      ]
     },
     "metadata": {
      "needs_background": "light"
     },
     "output_type": "display_data"
    }
   ],
   "source": [
    "ax = plt.subplot()\n",
    "Model_Predictions = clf4.predict(X_test_scaled)\n",
    "Model_Confusion_Matrix = confusion_matrix(Model_Predictions,y_test)\n",
    "sns.heatmap(Model_Confusion_Matrix,annot=True,fmt = \"d\",square = True,ax = ax, linewidths = 1,linecolor = \"w\",cmap = \"Pastel2\")\n",
    "ax.set_xlabel('True labels')\n",
    "ax.set_ylabel('Predicted labels')\n",
    "ax.xaxis.set_ticklabels([\"Loss\",\"Low Profit\",'High Profit'])\n",
    "ax.yaxis.set_ticklabels([\"Loss\",\"Low Profit\",'High Profit'], va=\"center\")\n",
    "b, t = plt.ylim() \n",
    "b += 0.5\n",
    "t -= 0.5\n",
    "plt.ylim(b, t)\n",
    "plt.title('KNN Classifier')"
   ]
  },
  {
   "cell_type": "markdown",
   "metadata": {},
   "source": [
    "### 1.1.1.1.5) Gaussian Naive Bayes Classifier"
   ]
  },
  {
   "cell_type": "code",
   "execution_count": 21,
   "metadata": {},
   "outputs": [
    {
     "name": "stdout",
     "output_type": "stream",
     "text": [
      "GNB Train score: 0.4180790960451977\n",
      "GNB Test score: 0.43650047036688616\n"
     ]
    }
   ],
   "source": [
    "GNB = GaussianNB()\n",
    "GNB.fit(X_train,y_train)\n",
    "    \n",
    "y_pred = GNB.predict(X_test)\n",
    "print(\"GNB Train score:\", GNB.score(X_train, y_train))\n",
    "print(\"GNB Test score:\", GNB.score(X_test, y_test))"
   ]
  },
  {
   "cell_type": "code",
   "execution_count": 22,
   "metadata": {},
   "outputs": [
    {
     "data": {
      "text/plain": [
       "Text(0.5, 1, 'Gaussian Naive Bayes Classifier')"
      ]
     },
     "execution_count": 22,
     "metadata": {},
     "output_type": "execute_result"
    },
    {
     "data": {
      "image/png": "[encoded data removed]",
      "text/plain": [
       "<Figure size 432x288 with 2 Axes>"
      ]
     },
     "metadata": {
      "needs_background": "light"
     },
     "output_type": "display_data"
    }
   ],
   "source": [
    "ax = plt.subplot()\n",
    "Model_Predictions = GNB.predict(X_test)\n",
    "Model_Confusion_Matrix = confusion_matrix(Model_Predictions,y_test)\n",
    "sns.heatmap(Model_Confusion_Matrix,annot=True,fmt = \"d\",square = True,ax = ax, linewidths = 1,linecolor = \"w\",cmap = \"Pastel2\")\n",
    "ax.set_xlabel('True labels')\n",
    "ax.set_ylabel('Predicted labels')\n",
    "ax.xaxis.set_ticklabels([\"Loss\",\"Low Profit\",'High Profit'])\n",
    "ax.yaxis.set_ticklabels([\"Loss\",\"Low Profit\",'High Profit'], va=\"center\")\n",
    "b, t = plt.ylim() \n",
    "b += 0.5\n",
    "t -= 0.5\n",
    "plt.ylim(b, t)\n",
    "plt.title('Gaussian Naive Bayes Classifier')"
   ]
  },
  {
   "cell_type": "markdown",
   "metadata": {},
   "source": [
    "## 1.1.1.2) Seperating into 2 classes"
   ]
  },
  {
   "cell_type": "code",
   "execution_count": 23,
   "metadata": {},
   "outputs": [
    {
     "data": {
      "text/plain": [
       "0    1895\n",
       "1    1646\n",
       "Name: gross_budget_ratio, dtype: int64"
      ]
     },
     "execution_count": 23,
     "metadata": {},
     "output_type": "execute_result"
    }
   ],
   "source": [
    "RatioClass = df1['gross_budget_ratio'].transform(lambda x: 0 if x <= 1 else 1)\n",
    "RatioClass = RatioClass.to_frame()\n",
    "Counts=RatioClass['gross_budget_ratio'].value_counts()\n",
    "Counts"
   ]
  },
  {
   "cell_type": "code",
   "execution_count": 24,
   "metadata": {},
   "outputs": [],
   "source": [
    "df12 = df1.copy()\n",
    "df12['gross_budget_ratio'] = RatioClass['gross_budget_ratio']"
   ]
  },
  {
   "cell_type": "code",
   "execution_count": 25,
   "metadata": {},
   "outputs": [
    {
     "name": "stdout",
     "output_type": "stream",
     "text": [
      "Dimensionality of X_train: (2478, 22)\n",
      "Dimensionality of X_test : (1063, 22)\n",
      "Dimensionality of y_train: (2478,)\n",
      "Dimensionality of y_test : (1063,)\n"
     ]
    }
   ],
   "source": [
    "X = df12.drop(columns=['gross_budget_ratio'])\n",
    "y = df12['gross_budget_ratio']\n",
    "X_train, X_test, y_train, y_test = train_test_split(X, y, stratify=y, test_size=0.3, random_state=10) \n",
    "print(f\"Dimensionality of X_train: {X_train.shape}\")\n",
    "print(f\"Dimensionality of X_test : {X_test.shape}\")\n",
    "print(f\"Dimensionality of y_train: {y_train.shape}\")\n",
    "print(f\"Dimensionality of y_test : {y_test.shape}\")"
   ]
  },
  {
   "cell_type": "markdown",
   "metadata": {},
   "source": [
    "### 1.1.1.2.1) Logistic Regression"
   ]
  },
  {
   "cell_type": "code",
   "execution_count": 26,
   "metadata": {},
   "outputs": [
    {
     "name": "stdout",
     "output_type": "stream",
     "text": [
      "LR best parameters: {'C': 0.01, 'penalty': 'l1'}\n",
      "LR Train score: 0.8491704374057315\n",
      "LR Test score: 0.8400702987697716\n",
      "LR Test Accuracy score: 0.5456255879586077\n"
     ]
    }
   ],
   "source": [
    "C_List = [0.001,0.01,0.1,1,10,100,1000]\n",
    "penalty = ['l1','l2']\n",
    "parameters = {'C': C_List,'penalty':penalty}\n",
    "LR = LogisticRegression( solver='liblinear')\n",
    "clf1 = GridSearchCV(LR, parameters, cv=5, verbose=0,scoring =make_scorer(recall_score,pos_label=0))\n",
    "clf1.fit(X_train, y_train)\n",
    "\n",
    "y_pred = clf1.predict(X_test)\n",
    "print(\"LR best parameters:\", clf1.best_params_)\n",
    "print(\"LR Train score:\", clf1.score(X_train, y_train))\n",
    "print(\"LR Test score:\", clf1.score(X_test, y_test))\n",
    "print(\"LR Test Accuracy score:\", accuracy_score(y_pred, y_test))"
   ]
  },
  {
   "cell_type": "code",
   "execution_count": 27,
   "metadata": {},
   "outputs": [
    {
     "data": {
      "text/plain": [
       "Text(0.5, 1, 'Logistic Regression')"
      ]
     },
     "execution_count": 27,
     "metadata": {},
     "output_type": "execute_result"
    },
    {
     "data": {
      "image/png": "[encoded data removed]",
      "text/plain": [
       "<Figure size 432x288 with 2 Axes>"
      ]
     },
     "metadata": {
      "needs_background": "light"
     },
     "output_type": "display_data"
    }
   ],
   "source": [
    "ax = plt.subplot()\n",
    "Model_Predictions = clf1.predict(X_test)\n",
    "Model_Confusion_Matrix = confusion_matrix(Model_Predictions,y_test)\n",
    "sns.heatmap(Model_Confusion_Matrix,annot=True,fmt = \"d\",square = True,ax = ax, linewidths = 1,linecolor = \"w\",cmap = \"Pastel2\")\n",
    "ax.set_xlabel('True labels')\n",
    "ax.set_ylabel('Predicted labels')\n",
    "ax.xaxis.set_ticklabels([\"Loss\",\"Profit\"])\n",
    "ax.yaxis.set_ticklabels([\"Loss\",\"Profit\"], va=\"center\")\n",
    "b, t = plt.ylim() \n",
    "b += 0.5\n",
    "t -= 0.5\n",
    "plt.ylim(b, t)\n",
    "plt.title('Logistic Regression')"
   ]
  },
  {
   "cell_type": "markdown",
   "metadata": {},
   "source": [
    "### 1.1.1.2.2) Decision Tree Classifier"
   ]
  },
  {
   "cell_type": "code",
   "execution_count": 28,
   "metadata": {},
   "outputs": [
    {
     "name": "stdout",
     "output_type": "stream",
     "text": [
      "DTC best parameters: {'criterion': 'gini', 'max_depth': 100, 'min_samples_leaf': 0.5, 'min_samples_split': 0.001}\n",
      "DTC Train score: 0.5369532428355958\n",
      "DTC Test score: 0.5852372583479789\n",
      "DTC Test Accuracy score: 0.5625587958607714\n"
     ]
    }
   ],
   "source": [
    "DTSplitList=[0.001,0.01,0.05,0.1,0.5,0.99]\n",
    "DTLeafList=[0.0005,0.005,0.025,0.05,0.1,0.25,0.5]\n",
    "criterion =['gini','entropy']\n",
    "parameters = {'criterion':criterion,'max_depth':list(range(100,0,-3)),'min_samples_leaf': DTLeafList, 'min_samples_split':DTSplitList}\n",
    "DTC = DecisionTreeClassifier(random_state=10)\n",
    "clf2 = GridSearchCV(DTC, parameters, cv=5, verbose=0,scoring =make_scorer(recall_score,pos_label=0))\n",
    "clf2.fit(X_train, y_train)\n",
    "\n",
    "y_pred = clf2.predict(X_test)\n",
    "print(\"DTC best parameters:\", clf2.best_params_)\n",
    "print(\"DTC Train score:\", clf2.score(X_train, y_train))\n",
    "print(\"DTC Test score:\", clf2.score(X_test, y_test))\n",
    "print(\"DTC Test Accuracy score:\", accuracy_score(y_pred, y_test))"
   ]
  },
  {
   "cell_type": "code",
   "execution_count": 29,
   "metadata": {},
   "outputs": [
    {
     "data": {
      "text/plain": [
       "Text(0.5, 1, 'Decision Tree Classifier')"
      ]
     },
     "execution_count": 29,
     "metadata": {},
     "output_type": "execute_result"
    },
    {
     "data": {
      "image/png": "[encoded data removed]",
      "text/plain": [
       "<Figure size 432x288 with 2 Axes>"
      ]
     },
     "metadata": {
      "needs_background": "light"
     },
     "output_type": "display_data"
    }
   ],
   "source": [
    "ax = plt.subplot()\n",
    "Model_Predictions = clf2.predict(X_test)\n",
    "Model_Confusion_Matrix = confusion_matrix(Model_Predictions,y_test)\n",
    "sns.heatmap(Model_Confusion_Matrix,annot=True,fmt = \"d\",square = True,ax = ax, linewidths = 1,linecolor = \"w\",cmap = \"Pastel2\")\n",
    "ax.set_xlabel('True labels')\n",
    "ax.set_ylabel('Predicted labels')\n",
    "ax.xaxis.set_ticklabels([\"Loss\",\"Profit\"])\n",
    "ax.yaxis.set_ticklabels([\"Loss\",\"Profit\"], va=\"center\")\n",
    "b, t = plt.ylim() \n",
    "b += 0.5\n",
    "t -= 0.5\n",
    "plt.ylim(b, t)\n",
    "plt.title('Decision Tree Classifier')"
   ]
  },
  {
   "cell_type": "markdown",
   "metadata": {},
   "source": [
    "### 1.1.1.2.3) Random Forest Classifier"
   ]
  },
  {
   "cell_type": "code",
   "execution_count": 30,
   "metadata": {},
   "outputs": [
    {
     "name": "stdout",
     "output_type": "stream",
     "text": [
      "RFC best parameters: {'criterion': 'entropy', 'max_depth': 10, 'n_estimators': 200}\n",
      "RFC Train score: 0.9411764705882353\n",
      "RFC Test score: 0.7398945518453427\n",
      "RFC Test Accuracy score: 0.6293508936970837\n"
     ]
    }
   ],
   "source": [
    "RFEstimatorList = [25,50,100,200]\n",
    "criterion =['gini','entropy']\n",
    "parameters = {'criterion':criterion,'max_depth':list(range(100,0,-10)),'n_estimators':RFEstimatorList}\n",
    "\n",
    "RFC = RandomForestClassifier(random_state=10)\n",
    "clf3 = GridSearchCV(RFC, parameters, cv=5, verbose=0,scoring =make_scorer(recall_score,pos_label=0))\n",
    "clf3.fit(X_train, y_train)\n",
    "\n",
    "y_pred = clf3.predict(X_test)\n",
    "print(\"RFC best parameters:\", clf3.best_params_)\n",
    "print(\"RFC Train score:\", clf3.score(X_train, y_train))\n",
    "print(\"RFC Test score:\", clf3.score(X_test, y_test))\n",
    "print(\"RFC Test Accuracy score:\", accuracy_score(y_pred, y_test))"
   ]
  },
  {
   "cell_type": "code",
   "execution_count": 31,
   "metadata": {},
   "outputs": [
    {
     "data": {
      "text/plain": [
       "Text(0.5, 1, 'Random Forest Classifier')"
      ]
     },
     "execution_count": 31,
     "metadata": {},
     "output_type": "execute_result"
    },
    {
     "data": {
      "image/png": "[encoded data removed]",
      "text/plain": [
       "<Figure size 432x288 with 2 Axes>"
      ]
     },
     "metadata": {
      "needs_background": "light"
     },
     "output_type": "display_data"
    }
   ],
   "source": [
    "ax = plt.subplot()\n",
    "Model_Predictions = clf3.predict(X_test)\n",
    "Model_Confusion_Matrix = confusion_matrix(Model_Predictions,y_test)\n",
    "sns.heatmap(Model_Confusion_Matrix,annot=True,fmt = \"d\",square = True,ax = ax, linewidths = 1,linecolor = \"w\",cmap = \"Pastel2\")\n",
    "ax.set_xlabel('True labels')\n",
    "ax.set_ylabel('Predicted labels')\n",
    "ax.xaxis.set_ticklabels([\"Loss\",\"Profit\"])\n",
    "ax.yaxis.set_ticklabels([\"Loss\",\"Profit\"], va=\"center\")\n",
    "b, t = plt.ylim() \n",
    "b += 0.5\n",
    "t -= 0.5\n",
    "plt.ylim(b, t)\n",
    "plt.title('Random Forest Classifier')"
   ]
  },
  {
   "cell_type": "markdown",
   "metadata": {},
   "source": [
    "### 1.1.1.2.4) KNN Classifier"
   ]
  },
  {
   "cell_type": "code",
   "execution_count": 32,
   "metadata": {},
   "outputs": [],
   "source": [
    "MMScaler = MinMaxScaler()\n",
    "X_train_scaled = MMScaler.fit_transform(X_train)\n",
    "X_test_scaled = MMScaler.transform(X_test)"
   ]
  },
  {
   "cell_type": "code",
   "execution_count": 33,
   "metadata": {},
   "outputs": [
    {
     "name": "stdout",
     "output_type": "stream",
     "text": [
      "KNN best parameters: {'n_neighbors': 10}\n",
      "KNN Train score: 0.773001508295626\n",
      "KNN Test score: 0.6924428822495606\n",
      "KNN Test Accuracy score: 0.5776105362182502\n"
     ]
    }
   ],
   "source": [
    "Neighbor_List=[3,5,10,20,50]\n",
    "parameters = {'n_neighbors':Neighbor_List}\n",
    "KNNC = KNeighborsClassifier()\n",
    "clf4 = GridSearchCV(KNNC, parameters, cv=5, verbose=0,scoring =make_scorer(recall_score,pos_label=0))\n",
    "clf4.fit(X_train_scaled, y_train)\n",
    "\n",
    "y_pred = clf4.predict(X_test_scaled)\n",
    "print(\"KNN best parameters:\", clf4.best_params_)\n",
    "print(\"KNN Train score:\", clf4.score(X_train_scaled, y_train))\n",
    "print(\"KNN Test score:\", clf4.score(X_test_scaled, y_test))\n",
    "print(\"KNN Test Accuracy score:\", accuracy_score(y_pred, y_test))"
   ]
  },
  {
   "cell_type": "code",
   "execution_count": 34,
   "metadata": {},
   "outputs": [
    {
     "data": {
      "text/plain": [
       "Text(0.5, 1, 'KNN Classifier')"
      ]
     },
     "execution_count": 34,
     "metadata": {},
     "output_type": "execute_result"
    },
    {
     "data": {
      "image/png": "[encoded data removed]",
      "text/plain": [
       "<Figure size 432x288 with 2 Axes>"
      ]
     },
     "metadata": {
      "needs_background": "light"
     },
     "output_type": "display_data"
    }
   ],
   "source": [
    "ax = plt.subplot()\n",
    "Model_Predictions = clf4.predict(X_test_scaled)\n",
    "Model_Confusion_Matrix = confusion_matrix(Model_Predictions,y_test)\n",
    "sns.heatmap(Model_Confusion_Matrix,annot=True,fmt = \"d\",square = True,ax = ax, linewidths = 1,linecolor = \"w\",cmap = \"Pastel2\")\n",
    "ax.set_xlabel('True labels')\n",
    "ax.set_ylabel('Predicted labels')\n",
    "ax.xaxis.set_ticklabels([\"Loss\",\"Profit\"])\n",
    "ax.yaxis.set_ticklabels([\"Loss\",\"Profit\"], va=\"center\")\n",
    "b, t = plt.ylim() \n",
    "b += 0.5\n",
    "t -= 0.5\n",
    "plt.ylim(b, t)\n",
    "plt.title('KNN Classifier')"
   ]
  },
  {
   "cell_type": "markdown",
   "metadata": {},
   "source": [
    "### 1.1.1.2.5) Gaussian Naive Bayes Classifier"
   ]
  },
  {
   "cell_type": "code",
   "execution_count": 35,
   "metadata": {},
   "outputs": [
    {
     "name": "stdout",
     "output_type": "stream",
     "text": [
      "GNB Train score: 0.4721549636803874\n",
      "GNB Test score: 0.4619002822201317\n"
     ]
    }
   ],
   "source": [
    "GNB = GaussianNB()\n",
    "GNB.fit(X_train,y_train)\n",
    "    \n",
    "y_pred = GNB.predict(X_test)\n",
    "print(\"GNB Train score:\", GNB.score(X_train, y_train))\n",
    "print(\"GNB Test score:\", GNB.score(X_test, y_test))"
   ]
  },
  {
   "cell_type": "code",
   "execution_count": 36,
   "metadata": {},
   "outputs": [
    {
     "data": {
      "text/plain": [
       "Text(0.5, 1, 'Gaussian Naive Bayes Classifier')"
      ]
     },
     "execution_count": 36,
     "metadata": {},
     "output_type": "execute_result"
    },
    {
     "data": {
      "image/png": "[encoded data removed]",
      "text/plain": [
       "<Figure size 432x288 with 2 Axes>"
      ]
     },
     "metadata": {
      "needs_background": "light"
     },
     "output_type": "display_data"
    }
   ],
   "source": [
    "ax = plt.subplot()\n",
    "Model_Predictions = GNB.predict(X_test)\n",
    "Model_Confusion_Matrix = confusion_matrix(Model_Predictions,y_test)\n",
    "sns.heatmap(Model_Confusion_Matrix,annot=True,fmt = \"d\",square = True,ax = ax, linewidths = 1,linecolor = \"w\",cmap = \"Pastel2\")\n",
    "ax.set_xlabel('True labels')\n",
    "ax.set_ylabel('Predicted labels')\n",
    "ax.xaxis.set_ticklabels([\"Loss\",\"Profit\"])\n",
    "ax.yaxis.set_ticklabels([\"Loss\",\"Profit\"], va=\"center\")\n",
    "b, t = plt.ylim() \n",
    "b += 0.5\n",
    "t -= 0.5\n",
    "plt.ylim(b, t)\n",
    "plt.title('Gaussian Naive Bayes Classifier')"
   ]
  },
  {
   "cell_type": "markdown",
   "metadata": {},
   "source": [
    "## 1.1.2) With taking log and feature elimination"
   ]
  },
  {
   "cell_type": "markdown",
   "metadata": {},
   "source": [
    "### log"
   ]
  },
  {
   "cell_type": "code",
   "execution_count": 37,
   "metadata": {},
   "outputs": [],
   "source": [
    "df2 = df1.copy()\n",
    "df2['budget'] = np.log(df2['budget'])\n",
    "df2['cast_total_facebook_likes'] = df2['cast_total_facebook_likes'].transform(lambda x: 0 if x <= 3 else np.log(x))"
   ]
  },
  {
   "cell_type": "markdown",
   "metadata": {},
   "source": [
    "### elimination"
   ]
  },
  {
   "cell_type": "code",
   "execution_count": 38,
   "metadata": {},
   "outputs": [
    {
     "data": {
      "text/plain": [
       "Index(['duration', 'cast_total_facebook_likes', 'facenumber_in_poster',\n",
       "       'budget', 'Biography', 'Comedy', 'Crime', 'Drama', 'Romance',\n",
       "       'Mystery_Thriller_Horror', 'Sci-Fi_Fantasy', 'Family_Animation',\n",
       "       'Action_Adventure', 'History_War', 'Others', 'director_rank',\n",
       "       'actor1_rank', 'actor2_rank', 'actor3_rank', 'gross_budget_ratio',\n",
       "       'content_rating_PG', 'content_rating_PG-13', 'content_rating_R'],\n",
       "      dtype='object')"
      ]
     },
     "execution_count": 38,
     "metadata": {},
     "output_type": "execute_result"
    }
   ],
   "source": [
    "df2.columns"
   ]
  },
  {
   "cell_type": "code",
   "execution_count": 39,
   "metadata": {},
   "outputs": [],
   "source": [
    "df2 = df2.drop(columns = ['facenumber_in_poster', 'Biography', 'Crime',\n",
    "       'Mystery_Thriller_Horror', 'Sci-Fi_Fantasy',\n",
    "       'History_War'])"
   ]
  },
  {
   "cell_type": "markdown",
   "metadata": {},
   "source": [
    "## 1.1.2.1) Seperating into 3 classes"
   ]
  },
  {
   "cell_type": "code",
   "execution_count": 40,
   "metadata": {},
   "outputs": [
    {
     "data": {
      "text/plain": [
       "0    1895\n",
       "1     934\n",
       "2     712\n",
       "Name: gross_budget_ratio, dtype: int64"
      ]
     },
     "execution_count": 40,
     "metadata": {},
     "output_type": "execute_result"
    }
   ],
   "source": [
    "RatioClass = df2['gross_budget_ratio'].transform(lambda x: 0 if x <= 1 else (1 if x <= 2 else 2))\n",
    "RatioClass = RatioClass.to_frame()\n",
    "Counts=RatioClass['gross_budget_ratio'].value_counts()\n",
    "Counts"
   ]
  },
  {
   "cell_type": "code",
   "execution_count": 41,
   "metadata": {},
   "outputs": [],
   "source": [
    "df21 = df2.copy()\n",
    "df21['gross_budget_ratio'] = RatioClass['gross_budget_ratio']"
   ]
  },
  {
   "cell_type": "code",
   "execution_count": 42,
   "metadata": {},
   "outputs": [
    {
     "data": {
      "text/html": [
       "<div>\n",
       "<style scoped>\n",
       "    .dataframe tbody tr th:only-of-type {\n",
       "        vertical-align: middle;\n",
       "    }\n",
       "\n",
       "    .dataframe tbody tr th {\n",
       "        vertical-align: top;\n",
       "    }\n",
       "\n",
       "    .dataframe thead th {\n",
       "        text-align: right;\n",
       "    }\n",
       "</style>\n",
       "<table border=\"1\" class=\"dataframe\">\n",
       "  <thead>\n",
       "    <tr style=\"text-align: right;\">\n",
       "      <th></th>\n",
       "      <th>duration</th>\n",
       "      <th>cast_total_facebook_likes</th>\n",
       "      <th>budget</th>\n",
       "      <th>Comedy</th>\n",
       "      <th>Drama</th>\n",
       "      <th>Romance</th>\n",
       "      <th>Family_Animation</th>\n",
       "      <th>Action_Adventure</th>\n",
       "      <th>Others</th>\n",
       "      <th>director_rank</th>\n",
       "      <th>actor1_rank</th>\n",
       "      <th>actor2_rank</th>\n",
       "      <th>actor3_rank</th>\n",
       "      <th>gross_budget_ratio</th>\n",
       "      <th>content_rating_PG</th>\n",
       "      <th>content_rating_PG-13</th>\n",
       "      <th>content_rating_R</th>\n",
       "    </tr>\n",
       "  </thead>\n",
       "  <tbody>\n",
       "    <tr>\n",
       "      <td>0</td>\n",
       "      <td>123.0</td>\n",
       "      <td>10.008253</td>\n",
       "      <td>17.686712</td>\n",
       "      <td>1</td>\n",
       "      <td>0</td>\n",
       "      <td>1</td>\n",
       "      <td>0</td>\n",
       "      <td>0</td>\n",
       "      <td>0</td>\n",
       "      <td>8</td>\n",
       "      <td>6</td>\n",
       "      <td>3</td>\n",
       "      <td>4</td>\n",
       "      <td>0</td>\n",
       "      <td>0</td>\n",
       "      <td>1</td>\n",
       "      <td>0</td>\n",
       "    </tr>\n",
       "    <tr>\n",
       "      <td>3</td>\n",
       "      <td>148.0</td>\n",
       "      <td>7.850104</td>\n",
       "      <td>17.111347</td>\n",
       "      <td>1</td>\n",
       "      <td>0</td>\n",
       "      <td>0</td>\n",
       "      <td>0</td>\n",
       "      <td>1</td>\n",
       "      <td>1</td>\n",
       "      <td>8</td>\n",
       "      <td>3</td>\n",
       "      <td>3</td>\n",
       "      <td>4</td>\n",
       "      <td>2</td>\n",
       "      <td>0</td>\n",
       "      <td>0</td>\n",
       "      <td>1</td>\n",
       "    </tr>\n",
       "    <tr>\n",
       "      <td>5</td>\n",
       "      <td>124.0</td>\n",
       "      <td>7.287561</td>\n",
       "      <td>16.811243</td>\n",
       "      <td>1</td>\n",
       "      <td>0</td>\n",
       "      <td>0</td>\n",
       "      <td>0</td>\n",
       "      <td>0</td>\n",
       "      <td>1</td>\n",
       "      <td>5</td>\n",
       "      <td>3</td>\n",
       "      <td>2</td>\n",
       "      <td>3</td>\n",
       "      <td>0</td>\n",
       "      <td>1</td>\n",
       "      <td>0</td>\n",
       "      <td>0</td>\n",
       "    </tr>\n",
       "    <tr>\n",
       "      <td>6</td>\n",
       "      <td>124.0</td>\n",
       "      <td>7.888710</td>\n",
       "      <td>17.760281</td>\n",
       "      <td>0</td>\n",
       "      <td>1</td>\n",
       "      <td>0</td>\n",
       "      <td>0</td>\n",
       "      <td>0</td>\n",
       "      <td>1</td>\n",
       "      <td>7</td>\n",
       "      <td>3</td>\n",
       "      <td>4</td>\n",
       "      <td>4</td>\n",
       "      <td>1</td>\n",
       "      <td>1</td>\n",
       "      <td>0</td>\n",
       "      <td>0</td>\n",
       "    </tr>\n",
       "    <tr>\n",
       "      <td>7</td>\n",
       "      <td>104.0</td>\n",
       "      <td>7.800573</td>\n",
       "      <td>15.687313</td>\n",
       "      <td>0</td>\n",
       "      <td>0</td>\n",
       "      <td>1</td>\n",
       "      <td>0</td>\n",
       "      <td>0</td>\n",
       "      <td>0</td>\n",
       "      <td>8</td>\n",
       "      <td>2</td>\n",
       "      <td>3</td>\n",
       "      <td>4</td>\n",
       "      <td>2</td>\n",
       "      <td>0</td>\n",
       "      <td>0</td>\n",
       "      <td>0</td>\n",
       "    </tr>\n",
       "    <tr>\n",
       "      <td>...</td>\n",
       "      <td>...</td>\n",
       "      <td>...</td>\n",
       "      <td>...</td>\n",
       "      <td>...</td>\n",
       "      <td>...</td>\n",
       "      <td>...</td>\n",
       "      <td>...</td>\n",
       "      <td>...</td>\n",
       "      <td>...</td>\n",
       "      <td>...</td>\n",
       "      <td>...</td>\n",
       "      <td>...</td>\n",
       "      <td>...</td>\n",
       "      <td>...</td>\n",
       "      <td>...</td>\n",
       "      <td>...</td>\n",
       "      <td>...</td>\n",
       "    </tr>\n",
       "    <tr>\n",
       "      <td>3846</td>\n",
       "      <td>121.0</td>\n",
       "      <td>8.797397</td>\n",
       "      <td>15.424948</td>\n",
       "      <td>0</td>\n",
       "      <td>1</td>\n",
       "      <td>0</td>\n",
       "      <td>0</td>\n",
       "      <td>0</td>\n",
       "      <td>0</td>\n",
       "      <td>7</td>\n",
       "      <td>4</td>\n",
       "      <td>3</td>\n",
       "      <td>4</td>\n",
       "      <td>0</td>\n",
       "      <td>0</td>\n",
       "      <td>1</td>\n",
       "      <td>0</td>\n",
       "    </tr>\n",
       "    <tr>\n",
       "      <td>3847</td>\n",
       "      <td>92.0</td>\n",
       "      <td>9.790319</td>\n",
       "      <td>17.370859</td>\n",
       "      <td>1</td>\n",
       "      <td>0</td>\n",
       "      <td>0</td>\n",
       "      <td>0</td>\n",
       "      <td>0</td>\n",
       "      <td>0</td>\n",
       "      <td>7</td>\n",
       "      <td>5</td>\n",
       "      <td>3</td>\n",
       "      <td>4</td>\n",
       "      <td>1</td>\n",
       "      <td>0</td>\n",
       "      <td>0</td>\n",
       "      <td>1</td>\n",
       "    </tr>\n",
       "    <tr>\n",
       "      <td>3848</td>\n",
       "      <td>100.0</td>\n",
       "      <td>9.840867</td>\n",
       "      <td>16.811243</td>\n",
       "      <td>1</td>\n",
       "      <td>0</td>\n",
       "      <td>0</td>\n",
       "      <td>0</td>\n",
       "      <td>0</td>\n",
       "      <td>0</td>\n",
       "      <td>7</td>\n",
       "      <td>5</td>\n",
       "      <td>5</td>\n",
       "      <td>5</td>\n",
       "      <td>2</td>\n",
       "      <td>0</td>\n",
       "      <td>0</td>\n",
       "      <td>1</td>\n",
       "    </tr>\n",
       "    <tr>\n",
       "      <td>3849</td>\n",
       "      <td>92.0</td>\n",
       "      <td>7.954372</td>\n",
       "      <td>15.424948</td>\n",
       "      <td>1</td>\n",
       "      <td>0</td>\n",
       "      <td>0</td>\n",
       "      <td>0</td>\n",
       "      <td>0</td>\n",
       "      <td>0</td>\n",
       "      <td>5</td>\n",
       "      <td>2</td>\n",
       "      <td>4</td>\n",
       "      <td>4</td>\n",
       "      <td>2</td>\n",
       "      <td>0</td>\n",
       "      <td>0</td>\n",
       "      <td>1</td>\n",
       "    </tr>\n",
       "    <tr>\n",
       "      <td>3851</td>\n",
       "      <td>120.0</td>\n",
       "      <td>7.501082</td>\n",
       "      <td>15.424948</td>\n",
       "      <td>0</td>\n",
       "      <td>1</td>\n",
       "      <td>0</td>\n",
       "      <td>0</td>\n",
       "      <td>0</td>\n",
       "      <td>0</td>\n",
       "      <td>3</td>\n",
       "      <td>2</td>\n",
       "      <td>3</td>\n",
       "      <td>4</td>\n",
       "      <td>2</td>\n",
       "      <td>1</td>\n",
       "      <td>0</td>\n",
       "      <td>0</td>\n",
       "    </tr>\n",
       "  </tbody>\n",
       "</table>\n",
       "<p>3541 rows × 17 columns</p>\n",
       "</div>"
      ],
      "text/plain": [
       "      duration  cast_total_facebook_likes     budget  Comedy  Drama  Romance  \\\n",
       "0        123.0                  10.008253  17.686712       1      0        1   \n",
       "3        148.0                   7.850104  17.111347       1      0        0   \n",
       "5        124.0                   7.287561  16.811243       1      0        0   \n",
       "6        124.0                   7.888710  17.760281       0      1        0   \n",
       "7        104.0                   7.800573  15.687313       0      0        1   \n",
       "...        ...                        ...        ...     ...    ...      ...   \n",
       "3846     121.0                   8.797397  15.424948       0      1        0   \n",
       "3847      92.0                   9.790319  17.370859       1      0        0   \n",
       "3848     100.0                   9.840867  16.811243       1      0        0   \n",
       "3849      92.0                   7.954372  15.424948       1      0        0   \n",
       "3851     120.0                   7.501082  15.424948       0      1        0   \n",
       "\n",
       "      Family_Animation  Action_Adventure  Others  director_rank  actor1_rank  \\\n",
       "0                    0                 0       0              8            6   \n",
       "3                    0                 1       1              8            3   \n",
       "5                    0                 0       1              5            3   \n",
       "6                    0                 0       1              7            3   \n",
       "7                    0                 0       0              8            2   \n",
       "...                ...               ...     ...            ...          ...   \n",
       "3846                 0                 0       0              7            4   \n",
       "3847                 0                 0       0              7            5   \n",
       "3848                 0                 0       0              7            5   \n",
       "3849                 0                 0       0              5            2   \n",
       "3851                 0                 0       0              3            2   \n",
       "\n",
       "      actor2_rank  actor3_rank  gross_budget_ratio  content_rating_PG  \\\n",
       "0               3            4                   0                  0   \n",
       "3               3            4                   2                  0   \n",
       "5               2            3                   0                  1   \n",
       "6               4            4                   1                  1   \n",
       "7               3            4                   2                  0   \n",
       "...           ...          ...                 ...                ...   \n",
       "3846            3            4                   0                  0   \n",
       "3847            3            4                   1                  0   \n",
       "3848            5            5                   2                  0   \n",
       "3849            4            4                   2                  0   \n",
       "3851            3            4                   2                  1   \n",
       "\n",
       "      content_rating_PG-13  content_rating_R  \n",
       "0                        1                 0  \n",
       "3                        0                 1  \n",
       "5                        0                 0  \n",
       "6                        0                 0  \n",
       "7                        0                 0  \n",
       "...                    ...               ...  \n",
       "3846                     1                 0  \n",
       "3847                     0                 1  \n",
       "3848                     0                 1  \n",
       "3849                     0                 1  \n",
       "3851                     0                 0  \n",
       "\n",
       "[3541 rows x 17 columns]"
      ]
     },
     "execution_count": 42,
     "metadata": {},
     "output_type": "execute_result"
    }
   ],
   "source": [
    "df21"
   ]
  },
  {
   "cell_type": "code",
   "execution_count": 43,
   "metadata": {},
   "outputs": [
    {
     "name": "stdout",
     "output_type": "stream",
     "text": [
      "Dimensionality of X_train: (2478, 16)\n",
      "Dimensionality of X_test : (1063, 16)\n",
      "Dimensionality of y_train: (2478,)\n",
      "Dimensionality of y_test : (1063,)\n"
     ]
    }
   ],
   "source": [
    "X = df21.drop(columns=['gross_budget_ratio'])\n",
    "y = df21['gross_budget_ratio']\n",
    "X_train, X_test, y_train, y_test = train_test_split(X, y, stratify=y, test_size=0.3, random_state=10) \n",
    "print(f\"Dimensionality of X_train: {X_train.shape}\")\n",
    "print(f\"Dimensionality of X_test : {X_test.shape}\")\n",
    "print(f\"Dimensionality of y_train: {y_train.shape}\")\n",
    "print(f\"Dimensionality of y_test : {y_test.shape}\")"
   ]
  },
  {
   "cell_type": "markdown",
   "metadata": {},
   "source": [
    "### 1.1.2.1.1) Multi-Class Logistic Regression"
   ]
  },
  {
   "cell_type": "code",
   "execution_count": 44,
   "metadata": {},
   "outputs": [],
   "source": [
    "smote=SMOTE('minority')\n",
    "X_s, y_s = smote.fit_sample(X_train,y_train)\n",
    "X_sm, y_sm = smote.fit_sample(X_s,y_s)\n",
    "X_sm_train, y_sm_train = shuffle(X_sm, y_sm, random_state=10)"
   ]
  },
  {
   "cell_type": "code",
   "execution_count": 45,
   "metadata": {},
   "outputs": [
    {
     "name": "stdout",
     "output_type": "stream",
     "text": [
      "MLR best parameters: {'C': 0.1, 'penalty': 'l2'}\n",
      "MLR Train score: 0.5233785822021116\n",
      "MLR Test score: 0.4393226716839135\n"
     ]
    }
   ],
   "source": [
    "C_List = [0.001,0.01,0.1,1,10,100,1000]\n",
    "penalty = ['l2','none']\n",
    "parameters = {'C': C_List,'penalty':penalty}\n",
    "MLR = LogisticRegression(multi_class='multinomial', solver='newton-cg')\n",
    "clf1 = GridSearchCV(MLR, parameters, cv=5, verbose=0,scoring ='accuracy')\n",
    "clf1.fit(X_sm_train, y_sm_train)\n",
    "\n",
    "y_pred = clf1.predict(X_test)\n",
    "print(\"MLR best parameters:\", clf1.best_params_)\n",
    "print(\"MLR Train score:\", clf1.score(X_sm_train, y_sm_train))\n",
    "print(\"MLR Test score:\", clf1.score(X_test, y_test))"
   ]
  },
  {
   "cell_type": "code",
   "execution_count": 46,
   "metadata": {},
   "outputs": [
    {
     "data": {
      "text/plain": [
       "Text(0.5, 1, 'Multiclass Logistic Regression')"
      ]
     },
     "execution_count": 46,
     "metadata": {},
     "output_type": "execute_result"
    },
    {
     "data": {
      "image/png": "[encoded data removed]",
      "text/plain": [
       "<Figure size 432x288 with 2 Axes>"
      ]
     },
     "metadata": {
      "needs_background": "light"
     },
     "output_type": "display_data"
    }
   ],
   "source": [
    "ax = plt.subplot()\n",
    "Model_Predictions = clf1.predict(X_test)\n",
    "Model_Confusion_Matrix = confusion_matrix(Model_Predictions,y_test)\n",
    "sns.heatmap(Model_Confusion_Matrix,annot=True,fmt = \"d\",square = True,ax = ax, linewidths = 1,linecolor = \"w\",cmap = \"Pastel2\")\n",
    "ax.set_xlabel('True labels')\n",
    "ax.set_ylabel('Predicted labels')\n",
    "ax.xaxis.set_ticklabels([\"Loss\",\"Low Profit\",'High Profit'])\n",
    "ax.yaxis.set_ticklabels([\"Loss\",\"Low Profit\",'High Profit'], va=\"center\")\n",
    "b, t = plt.ylim() \n",
    "b += 0.5\n",
    "t -= 0.5\n",
    "plt.ylim(b, t)\n",
    "plt.title('Multiclass Logistic Regression')"
   ]
  },
  {
   "cell_type": "markdown",
   "metadata": {},
   "source": [
    "### 1.1.2.1.2) Decision Tree Classifier"
   ]
  },
  {
   "cell_type": "code",
   "execution_count": 47,
   "metadata": {},
   "outputs": [
    {
     "name": "stdout",
     "output_type": "stream",
     "text": [
      "DTC best parameters: {'criterion': 'gini', 'max_depth': 100, 'min_samples_leaf': 0.0005, 'min_samples_split': 0.5}\n",
      "DTC Train score: 0.5351089588377724\n",
      "DTC Test score: 0.535277516462841\n"
     ]
    }
   ],
   "source": [
    "DTSplitList=[0.001,0.01,0.05,0.1,0.5,0.99]\n",
    "DTLeafList=[0.0005,0.005,0.025,0.05,0.1,0.25,0.5]\n",
    "criterion =['gini','entropy']\n",
    "parameters = {'criterion':criterion,'max_depth':list(range(100,0,-3)),'min_samples_leaf': DTLeafList, 'min_samples_split':DTSplitList}\n",
    "DTC = DecisionTreeClassifier(random_state=10)\n",
    "clf2 = GridSearchCV(DTC, parameters, cv=5, verbose=0,scoring ='accuracy')\n",
    "clf2.fit(X_train, y_train)\n",
    "\n",
    "y_pred = clf2.predict(X_test)\n",
    "print(\"DTC best parameters:\", clf2.best_params_)\n",
    "print(\"DTC Train score:\", clf2.score(X_train, y_train))\n",
    "print(\"DTC Test score:\", clf2.score(X_test, y_test))"
   ]
  },
  {
   "cell_type": "code",
   "execution_count": 48,
   "metadata": {},
   "outputs": [
    {
     "data": {
      "text/plain": [
       "Text(0.5, 1, 'Decision Tree Classifier')"
      ]
     },
     "execution_count": 48,
     "metadata": {},
     "output_type": "execute_result"
    },
    {
     "data": {
      "image/png": "[encoded data removed]",
      "text/plain": [
       "<Figure size 432x288 with 2 Axes>"
      ]
     },
     "metadata": {
      "needs_background": "light"
     },
     "output_type": "display_data"
    }
   ],
   "source": [
    "ax = plt.subplot()\n",
    "Model_Predictions = clf2.predict(X_test)\n",
    "Model_Confusion_Matrix = confusion_matrix(Model_Predictions,y_test)\n",
    "sns.heatmap(Model_Confusion_Matrix,annot=True,fmt = \"d\",square = True,ax = ax, linewidths = 1,linecolor = \"w\",cmap = \"Pastel2\")\n",
    "ax.set_xlabel('True labels')\n",
    "ax.set_ylabel('Predicted labels')\n",
    "ax.xaxis.set_ticklabels([\"Loss\",\"Low Profit\",'High Profit'])\n",
    "ax.yaxis.set_ticklabels([\"Loss\",\"Low Profit\",'High Profit'], va=\"center\")\n",
    "b, t = plt.ylim() \n",
    "b += 0.5\n",
    "t -= 0.5\n",
    "plt.ylim(b, t)\n",
    "plt.title('Decision Tree Classifier')"
   ]
  },
  {
   "cell_type": "markdown",
   "metadata": {},
   "source": [
    "### 1.1.2.1.3) Random Forest Classifier"
   ]
  },
  {
   "cell_type": "code",
   "execution_count": 49,
   "metadata": {},
   "outputs": [
    {
     "name": "stdout",
     "output_type": "stream",
     "text": [
      "RFC best parameters: {'criterion': 'gini', 'max_depth': 10, 'n_estimators': 200}\n",
      "RFC Train score: 0.7732041969330105\n",
      "RFC Test score: 0.5465663217309501\n"
     ]
    }
   ],
   "source": [
    "RFEstimatorList = [25,50,100,200]\n",
    "criterion =['gini','entropy']\n",
    "parameters = {'criterion':criterion,'max_depth':list(range(100,0,-10)),'n_estimators':RFEstimatorList}\n",
    "RFC = RandomForestClassifier(random_state=10)\n",
    "clf3 = GridSearchCV(RFC, parameters, cv=5, verbose=0,scoring ='accuracy')\n",
    "clf3.fit(X_train, y_train)\n",
    "\n",
    "y_pred = clf3.predict(X_test)\n",
    "print(\"RFC best parameters:\", clf3.best_params_)\n",
    "print(\"RFC Train score:\", clf3.score(X_train, y_train))\n",
    "print(\"RFC Test score:\", clf3.score(X_test, y_test))"
   ]
  },
  {
   "cell_type": "code",
   "execution_count": 50,
   "metadata": {},
   "outputs": [
    {
     "data": {
      "text/plain": [
       "Text(0.5, 1, 'Random Forest Classifier')"
      ]
     },
     "execution_count": 50,
     "metadata": {},
     "output_type": "execute_result"
    },
    {
     "data": {
      "image/png": "[encoded data removed]",
      "text/plain": [
       "<Figure size 432x288 with 2 Axes>"
      ]
     },
     "metadata": {
      "needs_background": "light"
     },
     "output_type": "display_data"
    }
   ],
   "source": [
    "ax = plt.subplot()\n",
    "Model_Predictions = clf3.predict(X_test)\n",
    "Model_Confusion_Matrix = confusion_matrix(Model_Predictions,y_test)\n",
    "sns.heatmap(Model_Confusion_Matrix,annot=True,fmt = \"d\",square = True,ax = ax, linewidths = 1,linecolor = \"w\",cmap = \"Pastel2\")\n",
    "ax.set_xlabel('True labels')\n",
    "ax.set_ylabel('Predicted labels')\n",
    "ax.xaxis.set_ticklabels([\"Loss\",\"Low Profit\",'High Profit'])\n",
    "ax.yaxis.set_ticklabels([\"Loss\",\"Low Profit\",'High Profit'], va=\"center\")\n",
    "b, t = plt.ylim() \n",
    "b += 0.5\n",
    "t -= 0.5\n",
    "plt.ylim(b, t)\n",
    "plt.title('Random Forest Classifier')"
   ]
  },
  {
   "cell_type": "markdown",
   "metadata": {},
   "source": [
    "### 1.1.2.1.4) KNN Classifier"
   ]
  },
  {
   "cell_type": "code",
   "execution_count": 51,
   "metadata": {},
   "outputs": [],
   "source": [
    "MMScaler = MinMaxScaler()\n",
    "X_train_scaled = MMScaler.fit_transform(X_train)\n",
    "X_test_scaled = MMScaler.transform(X_test)"
   ]
  },
  {
   "cell_type": "code",
   "execution_count": 52,
   "metadata": {},
   "outputs": [
    {
     "name": "stdout",
     "output_type": "stream",
     "text": [
      "KNN best parameters: {'n_neighbors': 50}\n",
      "KNN Train score: 0.5423728813559322\n",
      "KNN Test score: 0.5371589840075258\n"
     ]
    }
   ],
   "source": [
    "Neighbor_List=[3,5,10,20,50]\n",
    "parameters = {'n_neighbors':Neighbor_List}\n",
    "KNNC = KNeighborsClassifier()\n",
    "clf4 = GridSearchCV(KNNC, parameters, cv=5, verbose=0,scoring ='accuracy')\n",
    "clf4.fit(X_train_scaled, y_train)\n",
    "\n",
    "y_pred = clf4.predict(X_test_scaled)\n",
    "print(\"KNN best parameters:\", clf4.best_params_)\n",
    "print(\"KNN Train score:\", clf4.score(X_train_scaled, y_train))\n",
    "print(\"KNN Test score:\", clf4.score(X_test_scaled, y_test))"
   ]
  },
  {
   "cell_type": "code",
   "execution_count": 53,
   "metadata": {},
   "outputs": [
    {
     "data": {
      "text/plain": [
       "Text(0.5, 1, 'KNN Classifier')"
      ]
     },
     "execution_count": 53,
     "metadata": {},
     "output_type": "execute_result"
    },
    {
     "data": {
      "image/png": "[encoded data removed]",
      "text/plain": [
       "<Figure size 432x288 with 2 Axes>"
      ]
     },
     "metadata": {
      "needs_background": "light"
     },
     "output_type": "display_data"
    }
   ],
   "source": [
    "ax = plt.subplot()\n",
    "Model_Predictions = clf4.predict(X_test_scaled)\n",
    "Model_Confusion_Matrix = confusion_matrix(Model_Predictions,y_test)\n",
    "sns.heatmap(Model_Confusion_Matrix,annot=True,fmt = \"d\",square = True,ax = ax, linewidths = 1,linecolor = \"w\",cmap = \"Pastel2\")\n",
    "ax.set_xlabel('True labels')\n",
    "ax.set_ylabel('Predicted labels')\n",
    "ax.xaxis.set_ticklabels([\"Loss\",\"Low Profit\",'High Profit'])\n",
    "ax.yaxis.set_ticklabels([\"Loss\",\"Low Profit\",'High Profit'], va=\"center\")\n",
    "b, t = plt.ylim() \n",
    "b += 0.5\n",
    "t -= 0.5\n",
    "plt.ylim(b, t)\n",
    "plt.title('KNN Classifier')"
   ]
  },
  {
   "cell_type": "markdown",
   "metadata": {},
   "source": [
    "### 1.1.2.1.5) Gaussian Naive Bayes Classifier"
   ]
  },
  {
   "cell_type": "code",
   "execution_count": 54,
   "metadata": {},
   "outputs": [
    {
     "name": "stdout",
     "output_type": "stream",
     "text": [
      "GNB Train score: 0.5080710250201775\n",
      "GNB Test score: 0.51552210724365\n"
     ]
    }
   ],
   "source": [
    "GNB = GaussianNB()\n",
    "GNB.fit(X_train,y_train)\n",
    "    \n",
    "y_pred = GNB.predict(X_test)\n",
    "print(\"GNB Train score:\", GNB.score(X_train, y_train))\n",
    "print(\"GNB Test score:\", GNB.score(X_test, y_test))"
   ]
  },
  {
   "cell_type": "code",
   "execution_count": 55,
   "metadata": {},
   "outputs": [
    {
     "data": {
      "text/plain": [
       "Text(0.5, 1, 'Gaussian Naive Bayes Classifier')"
      ]
     },
     "execution_count": 55,
     "metadata": {},
     "output_type": "execute_result"
    },
    {
     "data": {
      "image/png": "[encoded data removed]",
      "text/plain": [
       "<Figure size 432x288 with 2 Axes>"
      ]
     },
     "metadata": {
      "needs_background": "light"
     },
     "output_type": "display_data"
    }
   ],
   "source": [
    "ax = plt.subplot()\n",
    "Model_Predictions = GNB.predict(X_test)\n",
    "Model_Confusion_Matrix = confusion_matrix(Model_Predictions,y_test)\n",
    "sns.heatmap(Model_Confusion_Matrix,annot=True,fmt = \"d\",square = True,ax = ax, linewidths = 1,linecolor = \"w\",cmap = \"Pastel2\")\n",
    "ax.set_xlabel('True labels')\n",
    "ax.set_ylabel('Predicted labels')\n",
    "ax.xaxis.set_ticklabels([\"Loss\",\"Low Profit\",'High Profit'])\n",
    "ax.yaxis.set_ticklabels([\"Loss\",\"Low Profit\",'High Profit'], va=\"center\")\n",
    "b, t = plt.ylim() \n",
    "b += 0.5\n",
    "t -= 0.5\n",
    "plt.ylim(b, t)\n",
    "plt.title('Gaussian Naive Bayes Classifier')"
   ]
  },
  {
   "cell_type": "markdown",
   "metadata": {},
   "source": [
    "## 1.1.2.2) Seperating into 2 classes"
   ]
  },
  {
   "cell_type": "code",
   "execution_count": 56,
   "metadata": {},
   "outputs": [
    {
     "data": {
      "text/plain": [
       "0    1895\n",
       "1    1646\n",
       "Name: gross_budget_ratio, dtype: int64"
      ]
     },
     "execution_count": 56,
     "metadata": {},
     "output_type": "execute_result"
    }
   ],
   "source": [
    "RatioClass = df2['gross_budget_ratio'].transform(lambda x: 0 if x <= 1 else 1)\n",
    "RatioClass = RatioClass.to_frame()\n",
    "Counts=RatioClass['gross_budget_ratio'].value_counts()\n",
    "Counts"
   ]
  },
  {
   "cell_type": "code",
   "execution_count": 57,
   "metadata": {},
   "outputs": [],
   "source": [
    "df22 = df2.copy()\n",
    "df22['gross_budget_ratio'] = RatioClass['gross_budget_ratio']"
   ]
  },
  {
   "cell_type": "code",
   "execution_count": 58,
   "metadata": {},
   "outputs": [
    {
     "name": "stdout",
     "output_type": "stream",
     "text": [
      "Dimensionality of X_train: (2478, 16)\n",
      "Dimensionality of X_test : (1063, 16)\n",
      "Dimensionality of y_train: (2478,)\n",
      "Dimensionality of y_test : (1063,)\n"
     ]
    }
   ],
   "source": [
    "X = df22.drop(columns=['gross_budget_ratio'])\n",
    "y = df22['gross_budget_ratio']\n",
    "X_train, X_test, y_train, y_test = train_test_split(X, y, stratify=y, test_size=0.3, random_state=10) \n",
    "print(f\"Dimensionality of X_train: {X_train.shape}\")\n",
    "print(f\"Dimensionality of X_test : {X_test.shape}\")\n",
    "print(f\"Dimensionality of y_train: {y_train.shape}\")\n",
    "print(f\"Dimensionality of y_test : {y_test.shape}\")"
   ]
  },
  {
   "cell_type": "markdown",
   "metadata": {},
   "source": [
    "### 1.1.2.2.1) Logistic Regression"
   ]
  },
  {
   "cell_type": "code",
   "execution_count": 59,
   "metadata": {},
   "outputs": [
    {
     "name": "stdout",
     "output_type": "stream",
     "text": [
      "LR best parameters: {'C': 0.001, 'penalty': 'l1'}\n",
      "LR Train score: 1.0\n",
      "LR Test score: 1.0\n",
      "LR Test Accuracy score: 0.535277516462841\n"
     ]
    }
   ],
   "source": [
    "C_List = [0.001,0.01,0.1,1,10,100,1000]\n",
    "penalty = ['l1','l2']\n",
    "parameters = {'C': C_List,'penalty':penalty}\n",
    "LR = LogisticRegression( solver='liblinear')\n",
    "clf1 = GridSearchCV(LR, parameters, cv=5, verbose=0,scoring =make_scorer(recall_score,pos_label=0))\n",
    "clf1.fit(X_train, y_train)\n",
    "\n",
    "y_pred = clf1.predict(X_test)\n",
    "print(\"LR best parameters:\", clf1.best_params_)\n",
    "print(\"LR Train score:\", clf1.score(X_train, y_train))\n",
    "print(\"LR Test score:\", clf1.score(X_test, y_test))\n",
    "print(\"LR Test Accuracy score:\", accuracy_score(y_pred, y_test))"
   ]
  },
  {
   "cell_type": "code",
   "execution_count": 60,
   "metadata": {},
   "outputs": [
    {
     "data": {
      "text/plain": [
       "Text(0.5, 1, 'Logistic Regression')"
      ]
     },
     "execution_count": 60,
     "metadata": {},
     "output_type": "execute_result"
    },
    {
     "data": {
      "image/png": "[encoded data removed]",
      "text/plain": [
       "<Figure size 432x288 with 2 Axes>"
      ]
     },
     "metadata": {
      "needs_background": "light"
     },
     "output_type": "display_data"
    }
   ],
   "source": [
    "ax = plt.subplot()\n",
    "Model_Predictions = clf1.predict(X_test)\n",
    "Model_Confusion_Matrix = confusion_matrix(Model_Predictions,y_test)\n",
    "sns.heatmap(Model_Confusion_Matrix,annot=True,fmt = \"d\",square = True,ax = ax, linewidths = 1,linecolor = \"w\",cmap = \"Pastel2\")\n",
    "ax.set_xlabel('True labels')\n",
    "ax.set_ylabel('Predicted labels')\n",
    "ax.xaxis.set_ticklabels([\"Loss\",\"Profit\"])\n",
    "ax.yaxis.set_ticklabels([\"Loss\",\"Profit\"], va=\"center\")\n",
    "b, t = plt.ylim() \n",
    "b += 0.5\n",
    "t -= 0.5\n",
    "plt.ylim(b, t)\n",
    "plt.title('Logistic Regression')"
   ]
  },
  {
   "cell_type": "markdown",
   "metadata": {},
   "source": [
    "### 1.1.2.2.2) Decision Tree Classifier"
   ]
  },
  {
   "cell_type": "code",
   "execution_count": 61,
   "metadata": {},
   "outputs": [
    {
     "name": "stdout",
     "output_type": "stream",
     "text": [
      "DTC best parameters: {'criterion': 'gini', 'max_depth': 100, 'min_samples_leaf': 0.5, 'min_samples_split': 0.001}\n",
      "DTC Train score: 0.5369532428355958\n",
      "DTC Test score: 0.5852372583479789\n",
      "DTC Test Accuracy score: 0.5625587958607714\n"
     ]
    }
   ],
   "source": [
    "DTSplitList=[0.001,0.01,0.05,0.1,0.5,0.99]\n",
    "DTLeafList=[0.0005,0.005,0.025,0.05,0.1,0.25,0.5]\n",
    "criterion =['gini','entropy']\n",
    "parameters = {'criterion':criterion,'max_depth':list(range(100,0,-3)),'min_samples_leaf': DTLeafList, 'min_samples_split':DTSplitList}\n",
    "DTC = DecisionTreeClassifier(random_state=10)\n",
    "clf2 = GridSearchCV(DTC, parameters, cv=5, verbose=0,scoring =make_scorer(recall_score,pos_label=0))\n",
    "clf2.fit(X_train, y_train)\n",
    "\n",
    "y_pred = clf2.predict(X_test)\n",
    "print(\"DTC best parameters:\", clf2.best_params_)\n",
    "print(\"DTC Train score:\", clf2.score(X_train, y_train))\n",
    "print(\"DTC Test score:\", clf2.score(X_test, y_test))\n",
    "print(\"DTC Test Accuracy score:\", accuracy_score(y_pred, y_test))"
   ]
  },
  {
   "cell_type": "code",
   "execution_count": 62,
   "metadata": {},
   "outputs": [
    {
     "data": {
      "text/plain": [
       "Text(0.5, 1, 'Decision Tree Classifier')"
      ]
     },
     "execution_count": 62,
     "metadata": {},
     "output_type": "execute_result"
    },
    {
     "data": {
      "image/png": "[encoded data removed]",
      "text/plain": [
       "<Figure size 432x288 with 2 Axes>"
      ]
     },
     "metadata": {
      "needs_background": "light"
     },
     "output_type": "display_data"
    }
   ],
   "source": [
    "ax = plt.subplot()\n",
    "Model_Predictions = clf2.predict(X_test)\n",
    "Model_Confusion_Matrix = confusion_matrix(Model_Predictions,y_test)\n",
    "sns.heatmap(Model_Confusion_Matrix,annot=True,fmt = \"d\",square = True,ax = ax, linewidths = 1,linecolor = \"w\",cmap = \"Pastel2\")\n",
    "ax.set_xlabel('True labels')\n",
    "ax.set_ylabel('Predicted labels')\n",
    "ax.xaxis.set_ticklabels([\"Loss\",\"Profit\"])\n",
    "ax.yaxis.set_ticklabels([\"Loss\",\"Profit\"], va=\"center\")\n",
    "b, t = plt.ylim() \n",
    "b += 0.5\n",
    "t -= 0.5\n",
    "plt.ylim(b, t)\n",
    "plt.title('Decision Tree Classifier')"
   ]
  },
  {
   "cell_type": "markdown",
   "metadata": {},
   "source": [
    "### 1.1.2.2.3) Random Forest Classifier"
   ]
  },
  {
   "cell_type": "code",
   "execution_count": 63,
   "metadata": {},
   "outputs": [
    {
     "name": "stdout",
     "output_type": "stream",
     "text": [
      "RFC best parameters: {'criterion': 'gini', 'max_depth': 10, 'n_estimators': 100}\n",
      "RFC Train score: 0.9177978883861236\n",
      "RFC Test score: 0.6783831282952548\n",
      "RFC Test Accuracy score: 0.6180620884289746\n"
     ]
    }
   ],
   "source": [
    "RFEstimatorList = [25,50,100,200]\n",
    "criterion =['gini','entropy']\n",
    "parameters = {'criterion':criterion,'max_depth':list(range(100,0,-10)),'n_estimators':RFEstimatorList}\n",
    "\n",
    "RFC = RandomForestClassifier(random_state=10)\n",
    "clf3 = GridSearchCV(RFC, parameters, cv=5, verbose=0,scoring =make_scorer(recall_score,pos_label=0))\n",
    "clf3.fit(X_train, y_train)\n",
    "\n",
    "y_pred = clf3.predict(X_test)\n",
    "print(\"RFC best parameters:\", clf3.best_params_)\n",
    "print(\"RFC Train score:\", clf3.score(X_train, y_train))\n",
    "print(\"RFC Test score:\", clf3.score(X_test, y_test))\n",
    "print(\"RFC Test Accuracy score:\", accuracy_score(y_pred, y_test))"
   ]
  },
  {
   "cell_type": "code",
   "execution_count": 64,
   "metadata": {},
   "outputs": [
    {
     "data": {
      "text/plain": [
       "Text(0.5, 1, 'Random Forest Classifier')"
      ]
     },
     "execution_count": 64,
     "metadata": {},
     "output_type": "execute_result"
    },
    {
     "data": {
      "image/png": "[encoded data removed]",
      "text/plain": [
       "<Figure size 432x288 with 2 Axes>"
      ]
     },
     "metadata": {
      "needs_background": "light"
     },
     "output_type": "display_data"
    }
   ],
   "source": [
    "ax = plt.subplot()\n",
    "Model_Predictions = clf3.predict(X_test)\n",
    "Model_Confusion_Matrix = confusion_matrix(Model_Predictions,y_test)\n",
    "sns.heatmap(Model_Confusion_Matrix,annot=True,fmt = \"d\",square = True,ax = ax, linewidths = 1,linecolor = \"w\",cmap = \"Pastel2\")\n",
    "ax.set_xlabel('True labels')\n",
    "ax.set_ylabel('Predicted labels')\n",
    "ax.xaxis.set_ticklabels([\"Loss\",\"Profit\"])\n",
    "ax.yaxis.set_ticklabels([\"Loss\",\"Profit\"], va=\"center\")\n",
    "b, t = plt.ylim() \n",
    "b += 0.5\n",
    "t -= 0.5\n",
    "plt.ylim(b, t)\n",
    "plt.title('Random Forest Classifier')"
   ]
  },
  {
   "cell_type": "markdown",
   "metadata": {},
   "source": [
    "### 1.1.2.2.4) KNN Classifier"
   ]
  },
  {
   "cell_type": "code",
   "execution_count": 65,
   "metadata": {},
   "outputs": [],
   "source": [
    "MMScaler = MinMaxScaler()\n",
    "X_train_scaled = MMScaler.fit_transform(X_train)\n",
    "X_test_scaled = MMScaler.transform(X_test)"
   ]
  },
  {
   "cell_type": "code",
   "execution_count": 66,
   "metadata": {},
   "outputs": [
    {
     "name": "stdout",
     "output_type": "stream",
     "text": [
      "KNN best parameters: {'n_neighbors': 10}\n",
      "KNN Train score: 0.7835595776772247\n",
      "KNN Test score: 0.7100175746924429\n",
      "KNN Test Accuracy score: 0.5766698024459078\n"
     ]
    }
   ],
   "source": [
    "Neighbor_List=[3,5,10,20,50]\n",
    "parameters = {'n_neighbors':Neighbor_List}\n",
    "KNNC = KNeighborsClassifier()\n",
    "clf4 = GridSearchCV(KNNC, parameters, cv=5, verbose=0,scoring =make_scorer(recall_score,pos_label=0))\n",
    "clf4.fit(X_train_scaled, y_train)\n",
    "\n",
    "y_pred = clf4.predict(X_test_scaled)\n",
    "print(\"KNN best parameters:\", clf4.best_params_)\n",
    "print(\"KNN Train score:\", clf4.score(X_train_scaled, y_train))\n",
    "print(\"KNN Test score:\", clf4.score(X_test_scaled, y_test))\n",
    "print(\"KNN Test Accuracy score:\", accuracy_score(y_pred, y_test))"
   ]
  },
  {
   "cell_type": "code",
   "execution_count": 67,
   "metadata": {},
   "outputs": [
    {
     "data": {
      "text/plain": [
       "Text(0.5, 1, 'KNN Classifier')"
      ]
     },
     "execution_count": 67,
     "metadata": {},
     "output_type": "execute_result"
    },
    {
     "data": {
      "image/png": "[encoded data removed]",
      "text/plain": [
       "<Figure size 432x288 with 2 Axes>"
      ]
     },
     "metadata": {
      "needs_background": "light"
     },
     "output_type": "display_data"
    }
   ],
   "source": [
    "ax = plt.subplot()\n",
    "Model_Predictions = clf4.predict(X_test_scaled)\n",
    "Model_Confusion_Matrix = confusion_matrix(Model_Predictions,y_test)\n",
    "sns.heatmap(Model_Confusion_Matrix,annot=True,fmt = \"d\",square = True,ax = ax, linewidths = 1,linecolor = \"w\",cmap = \"Pastel2\")\n",
    "ax.set_xlabel('True labels')\n",
    "ax.set_ylabel('Predicted labels')\n",
    "ax.xaxis.set_ticklabels([\"Loss\",\"Profit\"])\n",
    "ax.yaxis.set_ticklabels([\"Loss\",\"Profit\"], va=\"center\")\n",
    "b, t = plt.ylim() \n",
    "b += 0.5\n",
    "t -= 0.5\n",
    "plt.ylim(b, t)\n",
    "plt.title('KNN Classifier')"
   ]
  },
  {
   "cell_type": "markdown",
   "metadata": {},
   "source": [
    "### 1.1.2.2.5) Gaussian Naive Bayes Classifier"
   ]
  },
  {
   "cell_type": "code",
   "execution_count": 68,
   "metadata": {},
   "outputs": [
    {
     "name": "stdout",
     "output_type": "stream",
     "text": [
      "GNB Train score: 0.5803066989507667\n",
      "GNB Test score: 0.5936030103480715\n"
     ]
    }
   ],
   "source": [
    "GNB = GaussianNB()\n",
    "GNB.fit(X_train,y_train)\n",
    "    \n",
    "y_pred = GNB.predict(X_test)\n",
    "print(\"GNB Train score:\", GNB.score(X_train, y_train))\n",
    "print(\"GNB Test score:\", GNB.score(X_test, y_test))"
   ]
  },
  {
   "cell_type": "code",
   "execution_count": 69,
   "metadata": {},
   "outputs": [
    {
     "data": {
      "text/plain": [
       "Text(0.5, 1, 'Gaussian Naive Bayes Classifier')"
      ]
     },
     "execution_count": 69,
     "metadata": {},
     "output_type": "execute_result"
    },
    {
     "data": {
      "image/png": "[encoded data removed]",
      "text/plain": [
       "<Figure size 432x288 with 2 Axes>"
      ]
     },
     "metadata": {
      "needs_background": "light"
     },
     "output_type": "display_data"
    }
   ],
   "source": [
    "ax = plt.subplot()\n",
    "Model_Predictions = GNB.predict(X_test)\n",
    "Model_Confusion_Matrix = confusion_matrix(Model_Predictions,y_test)\n",
    "sns.heatmap(Model_Confusion_Matrix,annot=True,fmt = \"d\",square = True,ax = ax, linewidths = 1,linecolor = \"w\",cmap = \"Pastel2\")\n",
    "ax.set_xlabel('True labels')\n",
    "ax.set_ylabel('Predicted labels')\n",
    "ax.xaxis.set_ticklabels([\"Loss\",\"Profit\"])\n",
    "ax.yaxis.set_ticklabels([\"Loss\",\"Profit\"], va=\"center\")\n",
    "b, t = plt.ylim() \n",
    "b += 0.5\n",
    "t -= 0.5\n",
    "plt.ylim(b, t)\n",
    "plt.title('Gaussian Naive Bayes Classifier')"
   ]
  },
  {
   "cell_type": "markdown",
   "metadata": {},
   "source": [
    "## 1.2) Only US and UK Movies"
   ]
  },
  {
   "cell_type": "code",
   "execution_count": 70,
   "metadata": {},
   "outputs": [
    {
     "data": {
      "text/html": [
       "<div>\n",
       "<style scoped>\n",
       "    .dataframe tbody tr th:only-of-type {\n",
       "        vertical-align: middle;\n",
       "    }\n",
       "\n",
       "    .dataframe tbody tr th {\n",
       "        vertical-align: top;\n",
       "    }\n",
       "\n",
       "    .dataframe thead th {\n",
       "        text-align: right;\n",
       "    }\n",
       "</style>\n",
       "<table border=\"1\" class=\"dataframe\">\n",
       "  <thead>\n",
       "    <tr style=\"text-align: right;\">\n",
       "      <th></th>\n",
       "      <th>duration</th>\n",
       "      <th>cast_total_facebook_likes</th>\n",
       "      <th>facenumber_in_poster</th>\n",
       "      <th>budget</th>\n",
       "      <th>Biography</th>\n",
       "      <th>Comedy</th>\n",
       "      <th>Crime</th>\n",
       "      <th>Drama</th>\n",
       "      <th>Romance</th>\n",
       "      <th>Mystery_Thriller_Horror</th>\n",
       "      <th>...</th>\n",
       "      <th>History_War</th>\n",
       "      <th>Others</th>\n",
       "      <th>director_rank</th>\n",
       "      <th>actor1_rank</th>\n",
       "      <th>actor2_rank</th>\n",
       "      <th>actor3_rank</th>\n",
       "      <th>gross_budget_ratio</th>\n",
       "      <th>content_rating_PG</th>\n",
       "      <th>content_rating_PG-13</th>\n",
       "      <th>content_rating_R</th>\n",
       "    </tr>\n",
       "  </thead>\n",
       "  <tbody>\n",
       "    <tr>\n",
       "      <td>0</td>\n",
       "      <td>123.0</td>\n",
       "      <td>22209</td>\n",
       "      <td>1.0</td>\n",
       "      <td>4.800000e+07</td>\n",
       "      <td>0</td>\n",
       "      <td>1</td>\n",
       "      <td>0</td>\n",
       "      <td>0</td>\n",
       "      <td>1</td>\n",
       "      <td>0</td>\n",
       "      <td>...</td>\n",
       "      <td>0</td>\n",
       "      <td>0</td>\n",
       "      <td>8</td>\n",
       "      <td>6</td>\n",
       "      <td>3</td>\n",
       "      <td>4</td>\n",
       "      <td>0.981155</td>\n",
       "      <td>0</td>\n",
       "      <td>1</td>\n",
       "      <td>0</td>\n",
       "    </tr>\n",
       "    <tr>\n",
       "      <td>3</td>\n",
       "      <td>148.0</td>\n",
       "      <td>2566</td>\n",
       "      <td>1.0</td>\n",
       "      <td>2.700000e+07</td>\n",
       "      <td>0</td>\n",
       "      <td>1</td>\n",
       "      <td>1</td>\n",
       "      <td>0</td>\n",
       "      <td>0</td>\n",
       "      <td>0</td>\n",
       "      <td>...</td>\n",
       "      <td>0</td>\n",
       "      <td>1</td>\n",
       "      <td>8</td>\n",
       "      <td>3</td>\n",
       "      <td>3</td>\n",
       "      <td>4</td>\n",
       "      <td>2.007407</td>\n",
       "      <td>0</td>\n",
       "      <td>0</td>\n",
       "      <td>1</td>\n",
       "    </tr>\n",
       "    <tr>\n",
       "      <td>5</td>\n",
       "      <td>124.0</td>\n",
       "      <td>1462</td>\n",
       "      <td>0.0</td>\n",
       "      <td>2.000000e+07</td>\n",
       "      <td>1</td>\n",
       "      <td>1</td>\n",
       "      <td>0</td>\n",
       "      <td>0</td>\n",
       "      <td>0</td>\n",
       "      <td>0</td>\n",
       "      <td>...</td>\n",
       "      <td>0</td>\n",
       "      <td>1</td>\n",
       "      <td>5</td>\n",
       "      <td>3</td>\n",
       "      <td>2</td>\n",
       "      <td>3</td>\n",
       "      <td>0.100000</td>\n",
       "      <td>1</td>\n",
       "      <td>0</td>\n",
       "      <td>0</td>\n",
       "    </tr>\n",
       "    <tr>\n",
       "      <td>6</td>\n",
       "      <td>124.0</td>\n",
       "      <td>2667</td>\n",
       "      <td>0.0</td>\n",
       "      <td>5.166449e+07</td>\n",
       "      <td>1</td>\n",
       "      <td>0</td>\n",
       "      <td>0</td>\n",
       "      <td>1</td>\n",
       "      <td>0</td>\n",
       "      <td>0</td>\n",
       "      <td>...</td>\n",
       "      <td>0</td>\n",
       "      <td>1</td>\n",
       "      <td>7</td>\n",
       "      <td>3</td>\n",
       "      <td>4</td>\n",
       "      <td>4</td>\n",
       "      <td>1.546517</td>\n",
       "      <td>1</td>\n",
       "      <td>0</td>\n",
       "      <td>0</td>\n",
       "    </tr>\n",
       "    <tr>\n",
       "      <td>7</td>\n",
       "      <td>104.0</td>\n",
       "      <td>2442</td>\n",
       "      <td>0.0</td>\n",
       "      <td>6.500000e+06</td>\n",
       "      <td>0</td>\n",
       "      <td>0</td>\n",
       "      <td>0</td>\n",
       "      <td>0</td>\n",
       "      <td>1</td>\n",
       "      <td>1</td>\n",
       "      <td>...</td>\n",
       "      <td>0</td>\n",
       "      <td>0</td>\n",
       "      <td>8</td>\n",
       "      <td>2</td>\n",
       "      <td>3</td>\n",
       "      <td>4</td>\n",
       "      <td>4.907538</td>\n",
       "      <td>0</td>\n",
       "      <td>0</td>\n",
       "      <td>0</td>\n",
       "    </tr>\n",
       "    <tr>\n",
       "      <td>...</td>\n",
       "      <td>...</td>\n",
       "      <td>...</td>\n",
       "      <td>...</td>\n",
       "      <td>...</td>\n",
       "      <td>...</td>\n",
       "      <td>...</td>\n",
       "      <td>...</td>\n",
       "      <td>...</td>\n",
       "      <td>...</td>\n",
       "      <td>...</td>\n",
       "      <td>...</td>\n",
       "      <td>...</td>\n",
       "      <td>...</td>\n",
       "      <td>...</td>\n",
       "      <td>...</td>\n",
       "      <td>...</td>\n",
       "      <td>...</td>\n",
       "      <td>...</td>\n",
       "      <td>...</td>\n",
       "      <td>...</td>\n",
       "      <td>...</td>\n",
       "    </tr>\n",
       "    <tr>\n",
       "      <td>3846</td>\n",
       "      <td>121.0</td>\n",
       "      <td>6617</td>\n",
       "      <td>0.0</td>\n",
       "      <td>5.000000e+06</td>\n",
       "      <td>0</td>\n",
       "      <td>0</td>\n",
       "      <td>0</td>\n",
       "      <td>1</td>\n",
       "      <td>0</td>\n",
       "      <td>0</td>\n",
       "      <td>...</td>\n",
       "      <td>0</td>\n",
       "      <td>0</td>\n",
       "      <td>7</td>\n",
       "      <td>4</td>\n",
       "      <td>3</td>\n",
       "      <td>4</td>\n",
       "      <td>0.940072</td>\n",
       "      <td>0</td>\n",
       "      <td>1</td>\n",
       "      <td>0</td>\n",
       "    </tr>\n",
       "    <tr>\n",
       "      <td>3847</td>\n",
       "      <td>92.0</td>\n",
       "      <td>17860</td>\n",
       "      <td>0.0</td>\n",
       "      <td>3.500000e+07</td>\n",
       "      <td>0</td>\n",
       "      <td>1</td>\n",
       "      <td>0</td>\n",
       "      <td>0</td>\n",
       "      <td>0</td>\n",
       "      <td>0</td>\n",
       "      <td>...</td>\n",
       "      <td>0</td>\n",
       "      <td>0</td>\n",
       "      <td>7</td>\n",
       "      <td>5</td>\n",
       "      <td>3</td>\n",
       "      <td>4</td>\n",
       "      <td>1.579766</td>\n",
       "      <td>0</td>\n",
       "      <td>0</td>\n",
       "      <td>1</td>\n",
       "    </tr>\n",
       "    <tr>\n",
       "      <td>3848</td>\n",
       "      <td>100.0</td>\n",
       "      <td>18786</td>\n",
       "      <td>9.0</td>\n",
       "      <td>2.000000e+07</td>\n",
       "      <td>0</td>\n",
       "      <td>1</td>\n",
       "      <td>0</td>\n",
       "      <td>0</td>\n",
       "      <td>0</td>\n",
       "      <td>0</td>\n",
       "      <td>...</td>\n",
       "      <td>0</td>\n",
       "      <td>0</td>\n",
       "      <td>7</td>\n",
       "      <td>5</td>\n",
       "      <td>5</td>\n",
       "      <td>5</td>\n",
       "      <td>2.773065</td>\n",
       "      <td>0</td>\n",
       "      <td>0</td>\n",
       "      <td>1</td>\n",
       "    </tr>\n",
       "    <tr>\n",
       "      <td>3849</td>\n",
       "      <td>92.0</td>\n",
       "      <td>2848</td>\n",
       "      <td>4.0</td>\n",
       "      <td>5.000000e+06</td>\n",
       "      <td>0</td>\n",
       "      <td>1</td>\n",
       "      <td>0</td>\n",
       "      <td>0</td>\n",
       "      <td>0</td>\n",
       "      <td>0</td>\n",
       "      <td>...</td>\n",
       "      <td>0</td>\n",
       "      <td>0</td>\n",
       "      <td>5</td>\n",
       "      <td>2</td>\n",
       "      <td>4</td>\n",
       "      <td>4</td>\n",
       "      <td>2.335036</td>\n",
       "      <td>0</td>\n",
       "      <td>0</td>\n",
       "      <td>1</td>\n",
       "    </tr>\n",
       "    <tr>\n",
       "      <td>3851</td>\n",
       "      <td>120.0</td>\n",
       "      <td>1810</td>\n",
       "      <td>11.0</td>\n",
       "      <td>5.000000e+06</td>\n",
       "      <td>0</td>\n",
       "      <td>0</td>\n",
       "      <td>0</td>\n",
       "      <td>1</td>\n",
       "      <td>0</td>\n",
       "      <td>0</td>\n",
       "      <td>...</td>\n",
       "      <td>0</td>\n",
       "      <td>0</td>\n",
       "      <td>3</td>\n",
       "      <td>2</td>\n",
       "      <td>3</td>\n",
       "      <td>4</td>\n",
       "      <td>4.154614</td>\n",
       "      <td>1</td>\n",
       "      <td>0</td>\n",
       "      <td>0</td>\n",
       "    </tr>\n",
       "  </tbody>\n",
       "</table>\n",
       "<p>3053 rows × 23 columns</p>\n",
       "</div>"
      ],
      "text/plain": [
       "      duration  cast_total_facebook_likes  facenumber_in_poster        budget  \\\n",
       "0        123.0                      22209                   1.0  4.800000e+07   \n",
       "3        148.0                       2566                   1.0  2.700000e+07   \n",
       "5        124.0                       1462                   0.0  2.000000e+07   \n",
       "6        124.0                       2667                   0.0  5.166449e+07   \n",
       "7        104.0                       2442                   0.0  6.500000e+06   \n",
       "...        ...                        ...                   ...           ...   \n",
       "3846     121.0                       6617                   0.0  5.000000e+06   \n",
       "3847      92.0                      17860                   0.0  3.500000e+07   \n",
       "3848     100.0                      18786                   9.0  2.000000e+07   \n",
       "3849      92.0                       2848                   4.0  5.000000e+06   \n",
       "3851     120.0                       1810                  11.0  5.000000e+06   \n",
       "\n",
       "      Biography  Comedy  Crime  Drama  Romance  Mystery_Thriller_Horror  ...  \\\n",
       "0             0       1      0      0        1                        0  ...   \n",
       "3             0       1      1      0        0                        0  ...   \n",
       "5             1       1      0      0        0                        0  ...   \n",
       "6             1       0      0      1        0                        0  ...   \n",
       "7             0       0      0      0        1                        1  ...   \n",
       "...         ...     ...    ...    ...      ...                      ...  ...   \n",
       "3846          0       0      0      1        0                        0  ...   \n",
       "3847          0       1      0      0        0                        0  ...   \n",
       "3848          0       1      0      0        0                        0  ...   \n",
       "3849          0       1      0      0        0                        0  ...   \n",
       "3851          0       0      0      1        0                        0  ...   \n",
       "\n",
       "      History_War  Others  director_rank  actor1_rank  actor2_rank  \\\n",
       "0               0       0              8            6            3   \n",
       "3               0       1              8            3            3   \n",
       "5               0       1              5            3            2   \n",
       "6               0       1              7            3            4   \n",
       "7               0       0              8            2            3   \n",
       "...           ...     ...            ...          ...          ...   \n",
       "3846            0       0              7            4            3   \n",
       "3847            0       0              7            5            3   \n",
       "3848            0       0              7            5            5   \n",
       "3849            0       0              5            2            4   \n",
       "3851            0       0              3            2            3   \n",
       "\n",
       "      actor3_rank  gross_budget_ratio  content_rating_PG  \\\n",
       "0               4            0.981155                  0   \n",
       "3               4            2.007407                  0   \n",
       "5               3            0.100000                  1   \n",
       "6               4            1.546517                  1   \n",
       "7               4            4.907538                  0   \n",
       "...           ...                 ...                ...   \n",
       "3846            4            0.940072                  0   \n",
       "3847            4            1.579766                  0   \n",
       "3848            5            2.773065                  0   \n",
       "3849            4            2.335036                  0   \n",
       "3851            4            4.154614                  1   \n",
       "\n",
       "      content_rating_PG-13  content_rating_R  \n",
       "0                        1                 0  \n",
       "3                        0                 1  \n",
       "5                        0                 0  \n",
       "6                        0                 0  \n",
       "7                        0                 0  \n",
       "...                    ...               ...  \n",
       "3846                     1                 0  \n",
       "3847                     0                 1  \n",
       "3848                     0                 1  \n",
       "3849                     0                 1  \n",
       "3851                     0                 0  \n",
       "\n",
       "[3053 rows x 23 columns]"
      ]
     },
     "execution_count": 70,
     "metadata": {},
     "output_type": "execute_result"
    }
   ],
   "source": [
    "classification2_df= classification_df.copy()\n",
    "classification2_df = classification2_df[(classification2_df.country=='USA') | (classification2_df.country=='UK')]\n",
    "classification2_df = classification2_df[(classification2_df.language=='English')]\n",
    "classification2_df=classification2_df.drop(columns=['country','language'])\n",
    "df3 = pd.get_dummies(classification2_df, columns=['content_rating'])\n",
    "df3 = df3.drop(columns =['content_rating_Not Rated','content_rating_G','content_rating_X','content_rating_NC-17'])\n",
    "df3 = df3[df3.gross_budget_ratio<=5]\n",
    "df3"
   ]
  },
  {
   "cell_type": "markdown",
   "metadata": {},
   "source": [
    "## 1.2.1) Without log and feature elimination"
   ]
  },
  {
   "cell_type": "markdown",
   "metadata": {},
   "source": [
    "## 1.2.1.1) Seperating into 3 classes"
   ]
  },
  {
   "cell_type": "code",
   "execution_count": 71,
   "metadata": {},
   "outputs": [
    {
     "data": {
      "text/plain": [
       "0    1526\n",
       "1     860\n",
       "2     667\n",
       "Name: gross_budget_ratio, dtype: int64"
      ]
     },
     "execution_count": 71,
     "metadata": {},
     "output_type": "execute_result"
    }
   ],
   "source": [
    "RatioClass = df3['gross_budget_ratio'].transform(lambda x: 0 if x <= 1 else (1 if x <= 2 else 2))\n",
    "RatioClass = RatioClass.to_frame()\n",
    "Counts=RatioClass['gross_budget_ratio'].value_counts()\n",
    "Counts"
   ]
  },
  {
   "cell_type": "code",
   "execution_count": 72,
   "metadata": {},
   "outputs": [],
   "source": [
    "df31 = df3.copy()\n",
    "df31['gross_budget_ratio'] = RatioClass['gross_budget_ratio']"
   ]
  },
  {
   "cell_type": "code",
   "execution_count": 73,
   "metadata": {},
   "outputs": [
    {
     "data": {
      "text/html": [
       "<div>\n",
       "<style scoped>\n",
       "    .dataframe tbody tr th:only-of-type {\n",
       "        vertical-align: middle;\n",
       "    }\n",
       "\n",
       "    .dataframe tbody tr th {\n",
       "        vertical-align: top;\n",
       "    }\n",
       "\n",
       "    .dataframe thead th {\n",
       "        text-align: right;\n",
       "    }\n",
       "</style>\n",
       "<table border=\"1\" class=\"dataframe\">\n",
       "  <thead>\n",
       "    <tr style=\"text-align: right;\">\n",
       "      <th></th>\n",
       "      <th>duration</th>\n",
       "      <th>cast_total_facebook_likes</th>\n",
       "      <th>facenumber_in_poster</th>\n",
       "      <th>budget</th>\n",
       "      <th>Biography</th>\n",
       "      <th>Comedy</th>\n",
       "      <th>Crime</th>\n",
       "      <th>Drama</th>\n",
       "      <th>Romance</th>\n",
       "      <th>Mystery_Thriller_Horror</th>\n",
       "      <th>...</th>\n",
       "      <th>History_War</th>\n",
       "      <th>Others</th>\n",
       "      <th>director_rank</th>\n",
       "      <th>actor1_rank</th>\n",
       "      <th>actor2_rank</th>\n",
       "      <th>actor3_rank</th>\n",
       "      <th>gross_budget_ratio</th>\n",
       "      <th>content_rating_PG</th>\n",
       "      <th>content_rating_PG-13</th>\n",
       "      <th>content_rating_R</th>\n",
       "    </tr>\n",
       "  </thead>\n",
       "  <tbody>\n",
       "    <tr>\n",
       "      <td>0</td>\n",
       "      <td>123.0</td>\n",
       "      <td>22209</td>\n",
       "      <td>1.0</td>\n",
       "      <td>4.800000e+07</td>\n",
       "      <td>0</td>\n",
       "      <td>1</td>\n",
       "      <td>0</td>\n",
       "      <td>0</td>\n",
       "      <td>1</td>\n",
       "      <td>0</td>\n",
       "      <td>...</td>\n",
       "      <td>0</td>\n",
       "      <td>0</td>\n",
       "      <td>8</td>\n",
       "      <td>6</td>\n",
       "      <td>3</td>\n",
       "      <td>4</td>\n",
       "      <td>0</td>\n",
       "      <td>0</td>\n",
       "      <td>1</td>\n",
       "      <td>0</td>\n",
       "    </tr>\n",
       "    <tr>\n",
       "      <td>3</td>\n",
       "      <td>148.0</td>\n",
       "      <td>2566</td>\n",
       "      <td>1.0</td>\n",
       "      <td>2.700000e+07</td>\n",
       "      <td>0</td>\n",
       "      <td>1</td>\n",
       "      <td>1</td>\n",
       "      <td>0</td>\n",
       "      <td>0</td>\n",
       "      <td>0</td>\n",
       "      <td>...</td>\n",
       "      <td>0</td>\n",
       "      <td>1</td>\n",
       "      <td>8</td>\n",
       "      <td>3</td>\n",
       "      <td>3</td>\n",
       "      <td>4</td>\n",
       "      <td>2</td>\n",
       "      <td>0</td>\n",
       "      <td>0</td>\n",
       "      <td>1</td>\n",
       "    </tr>\n",
       "    <tr>\n",
       "      <td>5</td>\n",
       "      <td>124.0</td>\n",
       "      <td>1462</td>\n",
       "      <td>0.0</td>\n",
       "      <td>2.000000e+07</td>\n",
       "      <td>1</td>\n",
       "      <td>1</td>\n",
       "      <td>0</td>\n",
       "      <td>0</td>\n",
       "      <td>0</td>\n",
       "      <td>0</td>\n",
       "      <td>...</td>\n",
       "      <td>0</td>\n",
       "      <td>1</td>\n",
       "      <td>5</td>\n",
       "      <td>3</td>\n",
       "      <td>2</td>\n",
       "      <td>3</td>\n",
       "      <td>0</td>\n",
       "      <td>1</td>\n",
       "      <td>0</td>\n",
       "      <td>0</td>\n",
       "    </tr>\n",
       "    <tr>\n",
       "      <td>6</td>\n",
       "      <td>124.0</td>\n",
       "      <td>2667</td>\n",
       "      <td>0.0</td>\n",
       "      <td>5.166449e+07</td>\n",
       "      <td>1</td>\n",
       "      <td>0</td>\n",
       "      <td>0</td>\n",
       "      <td>1</td>\n",
       "      <td>0</td>\n",
       "      <td>0</td>\n",
       "      <td>...</td>\n",
       "      <td>0</td>\n",
       "      <td>1</td>\n",
       "      <td>7</td>\n",
       "      <td>3</td>\n",
       "      <td>4</td>\n",
       "      <td>4</td>\n",
       "      <td>1</td>\n",
       "      <td>1</td>\n",
       "      <td>0</td>\n",
       "      <td>0</td>\n",
       "    </tr>\n",
       "    <tr>\n",
       "      <td>7</td>\n",
       "      <td>104.0</td>\n",
       "      <td>2442</td>\n",
       "      <td>0.0</td>\n",
       "      <td>6.500000e+06</td>\n",
       "      <td>0</td>\n",
       "      <td>0</td>\n",
       "      <td>0</td>\n",
       "      <td>0</td>\n",
       "      <td>1</td>\n",
       "      <td>1</td>\n",
       "      <td>...</td>\n",
       "      <td>0</td>\n",
       "      <td>0</td>\n",
       "      <td>8</td>\n",
       "      <td>2</td>\n",
       "      <td>3</td>\n",
       "      <td>4</td>\n",
       "      <td>2</td>\n",
       "      <td>0</td>\n",
       "      <td>0</td>\n",
       "      <td>0</td>\n",
       "    </tr>\n",
       "    <tr>\n",
       "      <td>...</td>\n",
       "      <td>...</td>\n",
       "      <td>...</td>\n",
       "      <td>...</td>\n",
       "      <td>...</td>\n",
       "      <td>...</td>\n",
       "      <td>...</td>\n",
       "      <td>...</td>\n",
       "      <td>...</td>\n",
       "      <td>...</td>\n",
       "      <td>...</td>\n",
       "      <td>...</td>\n",
       "      <td>...</td>\n",
       "      <td>...</td>\n",
       "      <td>...</td>\n",
       "      <td>...</td>\n",
       "      <td>...</td>\n",
       "      <td>...</td>\n",
       "      <td>...</td>\n",
       "      <td>...</td>\n",
       "      <td>...</td>\n",
       "      <td>...</td>\n",
       "    </tr>\n",
       "    <tr>\n",
       "      <td>3846</td>\n",
       "      <td>121.0</td>\n",
       "      <td>6617</td>\n",
       "      <td>0.0</td>\n",
       "      <td>5.000000e+06</td>\n",
       "      <td>0</td>\n",
       "      <td>0</td>\n",
       "      <td>0</td>\n",
       "      <td>1</td>\n",
       "      <td>0</td>\n",
       "      <td>0</td>\n",
       "      <td>...</td>\n",
       "      <td>0</td>\n",
       "      <td>0</td>\n",
       "      <td>7</td>\n",
       "      <td>4</td>\n",
       "      <td>3</td>\n",
       "      <td>4</td>\n",
       "      <td>0</td>\n",
       "      <td>0</td>\n",
       "      <td>1</td>\n",
       "      <td>0</td>\n",
       "    </tr>\n",
       "    <tr>\n",
       "      <td>3847</td>\n",
       "      <td>92.0</td>\n",
       "      <td>17860</td>\n",
       "      <td>0.0</td>\n",
       "      <td>3.500000e+07</td>\n",
       "      <td>0</td>\n",
       "      <td>1</td>\n",
       "      <td>0</td>\n",
       "      <td>0</td>\n",
       "      <td>0</td>\n",
       "      <td>0</td>\n",
       "      <td>...</td>\n",
       "      <td>0</td>\n",
       "      <td>0</td>\n",
       "      <td>7</td>\n",
       "      <td>5</td>\n",
       "      <td>3</td>\n",
       "      <td>4</td>\n",
       "      <td>1</td>\n",
       "      <td>0</td>\n",
       "      <td>0</td>\n",
       "      <td>1</td>\n",
       "    </tr>\n",
       "    <tr>\n",
       "      <td>3848</td>\n",
       "      <td>100.0</td>\n",
       "      <td>18786</td>\n",
       "      <td>9.0</td>\n",
       "      <td>2.000000e+07</td>\n",
       "      <td>0</td>\n",
       "      <td>1</td>\n",
       "      <td>0</td>\n",
       "      <td>0</td>\n",
       "      <td>0</td>\n",
       "      <td>0</td>\n",
       "      <td>...</td>\n",
       "      <td>0</td>\n",
       "      <td>0</td>\n",
       "      <td>7</td>\n",
       "      <td>5</td>\n",
       "      <td>5</td>\n",
       "      <td>5</td>\n",
       "      <td>2</td>\n",
       "      <td>0</td>\n",
       "      <td>0</td>\n",
       "      <td>1</td>\n",
       "    </tr>\n",
       "    <tr>\n",
       "      <td>3849</td>\n",
       "      <td>92.0</td>\n",
       "      <td>2848</td>\n",
       "      <td>4.0</td>\n",
       "      <td>5.000000e+06</td>\n",
       "      <td>0</td>\n",
       "      <td>1</td>\n",
       "      <td>0</td>\n",
       "      <td>0</td>\n",
       "      <td>0</td>\n",
       "      <td>0</td>\n",
       "      <td>...</td>\n",
       "      <td>0</td>\n",
       "      <td>0</td>\n",
       "      <td>5</td>\n",
       "      <td>2</td>\n",
       "      <td>4</td>\n",
       "      <td>4</td>\n",
       "      <td>2</td>\n",
       "      <td>0</td>\n",
       "      <td>0</td>\n",
       "      <td>1</td>\n",
       "    </tr>\n",
       "    <tr>\n",
       "      <td>3851</td>\n",
       "      <td>120.0</td>\n",
       "      <td>1810</td>\n",
       "      <td>11.0</td>\n",
       "      <td>5.000000e+06</td>\n",
       "      <td>0</td>\n",
       "      <td>0</td>\n",
       "      <td>0</td>\n",
       "      <td>1</td>\n",
       "      <td>0</td>\n",
       "      <td>0</td>\n",
       "      <td>...</td>\n",
       "      <td>0</td>\n",
       "      <td>0</td>\n",
       "      <td>3</td>\n",
       "      <td>2</td>\n",
       "      <td>3</td>\n",
       "      <td>4</td>\n",
       "      <td>2</td>\n",
       "      <td>1</td>\n",
       "      <td>0</td>\n",
       "      <td>0</td>\n",
       "    </tr>\n",
       "  </tbody>\n",
       "</table>\n",
       "<p>3053 rows × 23 columns</p>\n",
       "</div>"
      ],
      "text/plain": [
       "      duration  cast_total_facebook_likes  facenumber_in_poster        budget  \\\n",
       "0        123.0                      22209                   1.0  4.800000e+07   \n",
       "3        148.0                       2566                   1.0  2.700000e+07   \n",
       "5        124.0                       1462                   0.0  2.000000e+07   \n",
       "6        124.0                       2667                   0.0  5.166449e+07   \n",
       "7        104.0                       2442                   0.0  6.500000e+06   \n",
       "...        ...                        ...                   ...           ...   \n",
       "3846     121.0                       6617                   0.0  5.000000e+06   \n",
       "3847      92.0                      17860                   0.0  3.500000e+07   \n",
       "3848     100.0                      18786                   9.0  2.000000e+07   \n",
       "3849      92.0                       2848                   4.0  5.000000e+06   \n",
       "3851     120.0                       1810                  11.0  5.000000e+06   \n",
       "\n",
       "      Biography  Comedy  Crime  Drama  Romance  Mystery_Thriller_Horror  ...  \\\n",
       "0             0       1      0      0        1                        0  ...   \n",
       "3             0       1      1      0        0                        0  ...   \n",
       "5             1       1      0      0        0                        0  ...   \n",
       "6             1       0      0      1        0                        0  ...   \n",
       "7             0       0      0      0        1                        1  ...   \n",
       "...         ...     ...    ...    ...      ...                      ...  ...   \n",
       "3846          0       0      0      1        0                        0  ...   \n",
       "3847          0       1      0      0        0                        0  ...   \n",
       "3848          0       1      0      0        0                        0  ...   \n",
       "3849          0       1      0      0        0                        0  ...   \n",
       "3851          0       0      0      1        0                        0  ...   \n",
       "\n",
       "      History_War  Others  director_rank  actor1_rank  actor2_rank  \\\n",
       "0               0       0              8            6            3   \n",
       "3               0       1              8            3            3   \n",
       "5               0       1              5            3            2   \n",
       "6               0       1              7            3            4   \n",
       "7               0       0              8            2            3   \n",
       "...           ...     ...            ...          ...          ...   \n",
       "3846            0       0              7            4            3   \n",
       "3847            0       0              7            5            3   \n",
       "3848            0       0              7            5            5   \n",
       "3849            0       0              5            2            4   \n",
       "3851            0       0              3            2            3   \n",
       "\n",
       "      actor3_rank  gross_budget_ratio  content_rating_PG  \\\n",
       "0               4                   0                  0   \n",
       "3               4                   2                  0   \n",
       "5               3                   0                  1   \n",
       "6               4                   1                  1   \n",
       "7               4                   2                  0   \n",
       "...           ...                 ...                ...   \n",
       "3846            4                   0                  0   \n",
       "3847            4                   1                  0   \n",
       "3848            5                   2                  0   \n",
       "3849            4                   2                  0   \n",
       "3851            4                   2                  1   \n",
       "\n",
       "      content_rating_PG-13  content_rating_R  \n",
       "0                        1                 0  \n",
       "3                        0                 1  \n",
       "5                        0                 0  \n",
       "6                        0                 0  \n",
       "7                        0                 0  \n",
       "...                    ...               ...  \n",
       "3846                     1                 0  \n",
       "3847                     0                 1  \n",
       "3848                     0                 1  \n",
       "3849                     0                 1  \n",
       "3851                     0                 0  \n",
       "\n",
       "[3053 rows x 23 columns]"
      ]
     },
     "execution_count": 73,
     "metadata": {},
     "output_type": "execute_result"
    }
   ],
   "source": [
    "df31"
   ]
  },
  {
   "cell_type": "code",
   "execution_count": 74,
   "metadata": {},
   "outputs": [
    {
     "name": "stdout",
     "output_type": "stream",
     "text": [
      "Dimensionality of X_train: (2137, 22)\n",
      "Dimensionality of X_test : (916, 22)\n",
      "Dimensionality of y_train: (2137,)\n",
      "Dimensionality of y_test : (916,)\n"
     ]
    }
   ],
   "source": [
    "X = df31.drop(columns=['gross_budget_ratio'])\n",
    "y = df31['gross_budget_ratio']\n",
    "X_train, X_test, y_train, y_test = train_test_split(X, y, stratify=y, test_size=0.3, random_state=10) \n",
    "print(f\"Dimensionality of X_train: {X_train.shape}\")\n",
    "print(f\"Dimensionality of X_test : {X_test.shape}\")\n",
    "print(f\"Dimensionality of y_train: {y_train.shape}\")\n",
    "print(f\"Dimensionality of y_test : {y_test.shape}\")"
   ]
  },
  {
   "cell_type": "markdown",
   "metadata": {},
   "source": [
    "### 1.2.1.1.1) Multi-Class Logistic Regression"
   ]
  },
  {
   "cell_type": "code",
   "execution_count": 75,
   "metadata": {},
   "outputs": [],
   "source": [
    "smote=SMOTE('minority')\n",
    "X_s, y_s = smote.fit_sample(X_train,y_train)\n",
    "X_sm, y_sm = smote.fit_sample(X_s,y_s)\n",
    "X_sm_train, y_sm_train = shuffle(X_sm, y_sm, random_state=10)"
   ]
  },
  {
   "cell_type": "code",
   "execution_count": 76,
   "metadata": {},
   "outputs": [
    {
     "name": "stdout",
     "output_type": "stream",
     "text": [
      "MLR best parameters: {'C': 0.001, 'penalty': 'none'}\n",
      "MLR Train score: 0.5059300873907615\n",
      "MLR Test score: 0.43777292576419213\n"
     ]
    }
   ],
   "source": [
    "C_List = [0.001,0.01,0.1,1,10,100,1000]\n",
    "penalty = ['l2','none']\n",
    "parameters = {'C': C_List,'penalty':penalty}\n",
    "MLR = LogisticRegression(multi_class='multinomial', solver='newton-cg')\n",
    "clf1 = GridSearchCV(MLR, parameters, cv=5, verbose=0,scoring ='accuracy')\n",
    "clf1.fit(X_sm_train, y_sm_train)\n",
    "\n",
    "y_pred = clf1.predict(X_test)\n",
    "print(\"MLR best parameters:\", clf1.best_params_)\n",
    "print(\"MLR Train score:\", clf1.score(X_sm_train, y_sm_train))\n",
    "print(\"MLR Test score:\", clf1.score(X_test, y_test))"
   ]
  },
  {
   "cell_type": "code",
   "execution_count": 77,
   "metadata": {},
   "outputs": [
    {
     "data": {
      "text/plain": [
       "Text(0.5, 1, 'Multiclass Logistic Regression')"
      ]
     },
     "execution_count": 77,
     "metadata": {},
     "output_type": "execute_result"
    },
    {
     "data": {
      "image/png": "[encoded data removed]",
      "text/plain": [
       "<Figure size 432x288 with 2 Axes>"
      ]
     },
     "metadata": {
      "needs_background": "light"
     },
     "output_type": "display_data"
    }
   ],
   "source": [
    "ax = plt.subplot()\n",
    "Model_Predictions = clf1.predict(X_test)\n",
    "Model_Confusion_Matrix = confusion_matrix(Model_Predictions,y_test)\n",
    "sns.heatmap(Model_Confusion_Matrix,annot=True,fmt = \"d\",square = True,ax = ax, linewidths = 1,linecolor = \"w\",cmap = \"Pastel2\")\n",
    "ax.set_xlabel('True labels')\n",
    "ax.set_ylabel('Predicted labels')\n",
    "ax.xaxis.set_ticklabels([\"Loss\",\"Low Profit\",'High Profit'])\n",
    "ax.yaxis.set_ticklabels([\"Loss\",\"Low Profit\",'High Profit'], va=\"center\")\n",
    "b, t = plt.ylim() \n",
    "b += 0.5\n",
    "t -= 0.5\n",
    "plt.ylim(b, t)\n",
    "plt.title('Multiclass Logistic Regression')"
   ]
  },
  {
   "cell_type": "markdown",
   "metadata": {},
   "source": [
    "### 1.2.1.1.2) Decision Tree Classifier"
   ]
  },
  {
   "cell_type": "code",
   "execution_count": 78,
   "metadata": {},
   "outputs": [
    {
     "name": "stdout",
     "output_type": "stream",
     "text": [
      "DTC best parameters: {'criterion': 'gini', 'max_depth': 7, 'min_samples_leaf': 0.025, 'min_samples_split': 0.001}\n",
      "DTC Train score: 0.526906878802059\n",
      "DTC Test score: 0.4672489082969432\n"
     ]
    }
   ],
   "source": [
    "DTSplitList=[0.001,0.01,0.05,0.1,0.5,0.99]\n",
    "DTLeafList=[0.0005,0.005,0.025,0.05,0.1,0.25,0.5]\n",
    "criterion =['gini','entropy']\n",
    "parameters = {'criterion':criterion,'max_depth':list(range(100,0,-3)),'min_samples_leaf': DTLeafList, 'min_samples_split':DTSplitList}\n",
    "DTC = DecisionTreeClassifier(random_state=10)\n",
    "clf2 = GridSearchCV(DTC, parameters, cv=5, verbose=0,scoring ='accuracy')\n",
    "clf2.fit(X_train, y_train)\n",
    "\n",
    "y_pred = clf2.predict(X_test)\n",
    "print(\"DTC best parameters:\", clf2.best_params_)\n",
    "print(\"DTC Train score:\", clf2.score(X_train, y_train))\n",
    "print(\"DTC Test score:\", clf2.score(X_test, y_test))"
   ]
  },
  {
   "cell_type": "code",
   "execution_count": 79,
   "metadata": {},
   "outputs": [
    {
     "data": {
      "text/plain": [
       "Text(0.5, 1, 'Decision Tree Classifier')"
      ]
     },
     "execution_count": 79,
     "metadata": {},
     "output_type": "execute_result"
    },
    {
     "data": {
      "image/png": "[encoded data removed]",
      "text/plain": [
       "<Figure size 432x288 with 2 Axes>"
      ]
     },
     "metadata": {
      "needs_background": "light"
     },
     "output_type": "display_data"
    }
   ],
   "source": [
    "ax = plt.subplot()\n",
    "Model_Predictions = clf2.predict(X_test)\n",
    "Model_Confusion_Matrix = confusion_matrix(Model_Predictions,y_test)\n",
    "sns.heatmap(Model_Confusion_Matrix,annot=True,fmt = \"d\",square = True,ax = ax, linewidths = 1,linecolor = \"w\",cmap = \"Pastel2\")\n",
    "ax.set_xlabel('True labels')\n",
    "ax.set_ylabel('Predicted labels')\n",
    "ax.xaxis.set_ticklabels([\"Loss\",\"Low Profit\",'High Profit'])\n",
    "ax.yaxis.set_ticklabels([\"Loss\",\"Low Profit\",'High Profit'], va=\"center\")\n",
    "b, t = plt.ylim() \n",
    "b += 0.5\n",
    "t -= 0.5\n",
    "plt.ylim(b, t)\n",
    "plt.title('Decision Tree Classifier')"
   ]
  },
  {
   "cell_type": "markdown",
   "metadata": {},
   "source": [
    "### 1.2.1.1.3) Random Forest Classifier"
   ]
  },
  {
   "cell_type": "code",
   "execution_count": 80,
   "metadata": {},
   "outputs": [
    {
     "name": "stdout",
     "output_type": "stream",
     "text": [
      "RFC best parameters: {'criterion': 'gini', 'max_depth': 10, 'n_estimators': 100}\n",
      "RFC Train score: 0.8034627983153955\n",
      "RFC Test score: 0.5141921397379913\n"
     ]
    }
   ],
   "source": [
    "RFEstimatorList = [25,50,100,200]\n",
    "criterion =['gini','entropy']\n",
    "parameters = {'criterion':criterion,'max_depth':list(range(100,0,-10)),'n_estimators':RFEstimatorList}\n",
    "RFC = RandomForestClassifier(random_state=10)\n",
    "clf3 = GridSearchCV(RFC, parameters, cv=5, verbose=0,scoring ='accuracy')\n",
    "clf3.fit(X_train, y_train)\n",
    "\n",
    "y_pred = clf3.predict(X_test)\n",
    "print(\"RFC best parameters:\", clf3.best_params_)\n",
    "print(\"RFC Train score:\", clf3.score(X_train, y_train))\n",
    "print(\"RFC Test score:\", clf3.score(X_test, y_test))"
   ]
  },
  {
   "cell_type": "code",
   "execution_count": 81,
   "metadata": {},
   "outputs": [
    {
     "data": {
      "text/plain": [
       "Text(0.5, 1, 'Random Forest Classifier')"
      ]
     },
     "execution_count": 81,
     "metadata": {},
     "output_type": "execute_result"
    },
    {
     "data": {
      "image/png": "[encoded data removed]",
      "text/plain": [
       "<Figure size 432x288 with 2 Axes>"
      ]
     },
     "metadata": {
      "needs_background": "light"
     },
     "output_type": "display_data"
    }
   ],
   "source": [
    "ax = plt.subplot()\n",
    "Model_Predictions = clf3.predict(X_test)\n",
    "Model_Confusion_Matrix = confusion_matrix(Model_Predictions,y_test)\n",
    "sns.heatmap(Model_Confusion_Matrix,annot=True,fmt = \"d\",square = True,ax = ax, linewidths = 1,linecolor = \"w\",cmap = \"Pastel2\")\n",
    "ax.set_xlabel('True labels')\n",
    "ax.set_ylabel('Predicted labels')\n",
    "ax.xaxis.set_ticklabels([\"Loss\",\"Low Profit\",'High Profit'])\n",
    "ax.yaxis.set_ticklabels([\"Loss\",\"Low Profit\",'High Profit'], va=\"center\")\n",
    "b, t = plt.ylim() \n",
    "b += 0.5\n",
    "t -= 0.5\n",
    "plt.ylim(b, t)\n",
    "plt.title('Random Forest Classifier')"
   ]
  },
  {
   "cell_type": "markdown",
   "metadata": {},
   "source": [
    "### 1.2.1.1.4) KNN Classifier"
   ]
  },
  {
   "cell_type": "code",
   "execution_count": 82,
   "metadata": {},
   "outputs": [],
   "source": [
    "MMScaler = MinMaxScaler()\n",
    "X_train_scaled = MMScaler.fit_transform(X_train)\n",
    "X_test_scaled = MMScaler.transform(X_test)"
   ]
  },
  {
   "cell_type": "code",
   "execution_count": 83,
   "metadata": {},
   "outputs": [
    {
     "name": "stdout",
     "output_type": "stream",
     "text": [
      "KNN best parameters: {'n_neighbors': 20}\n",
      "KNN Train score: 0.5624707533926064\n",
      "KNN Test score: 0.4814410480349345\n"
     ]
    }
   ],
   "source": [
    "Neighbor_List=[3,5,10,20,50]\n",
    "parameters = {'n_neighbors':Neighbor_List}\n",
    "KNNC = KNeighborsClassifier()\n",
    "clf4 = GridSearchCV(KNNC, parameters, cv=5, verbose=0,scoring ='accuracy')\n",
    "clf4.fit(X_train_scaled, y_train)\n",
    "\n",
    "y_pred = clf4.predict(X_test_scaled)\n",
    "print(\"KNN best parameters:\", clf4.best_params_)\n",
    "print(\"KNN Train score:\", clf4.score(X_train_scaled, y_train))\n",
    "print(\"KNN Test score:\", clf4.score(X_test_scaled, y_test))"
   ]
  },
  {
   "cell_type": "code",
   "execution_count": 84,
   "metadata": {},
   "outputs": [
    {
     "data": {
      "text/plain": [
       "Text(0.5, 1, 'KNN Classifier')"
      ]
     },
     "execution_count": 84,
     "metadata": {},
     "output_type": "execute_result"
    },
    {
     "data": {
      "image/png": "[encoded data removed]",
      "text/plain": [
       "<Figure size 432x288 with 2 Axes>"
      ]
     },
     "metadata": {
      "needs_background": "light"
     },
     "output_type": "display_data"
    }
   ],
   "source": [
    "ax = plt.subplot()\n",
    "Model_Predictions = clf4.predict(X_test_scaled)\n",
    "Model_Confusion_Matrix = confusion_matrix(Model_Predictions,y_test)\n",
    "sns.heatmap(Model_Confusion_Matrix,annot=True,fmt = \"d\",square = True,ax = ax, linewidths = 1,linecolor = \"w\",cmap = \"Pastel2\")\n",
    "ax.set_xlabel('True labels')\n",
    "ax.set_ylabel('Predicted labels')\n",
    "ax.xaxis.set_ticklabels([\"Loss\",\"Low Profit\",'High Profit'])\n",
    "ax.yaxis.set_ticklabels([\"Loss\",\"Low Profit\",'High Profit'], va=\"center\")\n",
    "b, t = plt.ylim() \n",
    "b += 0.5\n",
    "t -= 0.5\n",
    "plt.ylim(b, t)\n",
    "plt.title('KNN Classifier')"
   ]
  },
  {
   "cell_type": "markdown",
   "metadata": {},
   "source": [
    "### 1.2.1.1.5) Gaussian Naive Bayes Classifier"
   ]
  },
  {
   "cell_type": "code",
   "execution_count": 85,
   "metadata": {},
   "outputs": [
    {
     "name": "stdout",
     "output_type": "stream",
     "text": [
      "GNB Train score: 0.4927468413664015\n",
      "GNB Test score: 0.5032751091703057\n"
     ]
    }
   ],
   "source": [
    "GNB = GaussianNB()\n",
    "GNB.fit(X_train,y_train)\n",
    "    \n",
    "y_pred = GNB.predict(X_test)\n",
    "print(\"GNB Train score:\", GNB.score(X_train, y_train))\n",
    "print(\"GNB Test score:\", GNB.score(X_test, y_test))"
   ]
  },
  {
   "cell_type": "code",
   "execution_count": 86,
   "metadata": {},
   "outputs": [
    {
     "data": {
      "text/plain": [
       "Text(0.5, 1, 'Gaussian Naive Bayes Classifier')"
      ]
     },
     "execution_count": 86,
     "metadata": {},
     "output_type": "execute_result"
    },
    {
     "data": {
      "image/png": "[encoded data removed]",
      "text/plain": [
       "<Figure size 432x288 with 2 Axes>"
      ]
     },
     "metadata": {
      "needs_background": "light"
     },
     "output_type": "display_data"
    }
   ],
   "source": [
    "ax = plt.subplot()\n",
    "Model_Predictions = GNB.predict(X_test)\n",
    "Model_Confusion_Matrix = confusion_matrix(Model_Predictions,y_test)\n",
    "sns.heatmap(Model_Confusion_Matrix,annot=True,fmt = \"d\",square = True,ax = ax, linewidths = 1,linecolor = \"w\",cmap = \"Pastel2\")\n",
    "ax.set_xlabel('True labels')\n",
    "ax.set_ylabel('Predicted labels')\n",
    "ax.xaxis.set_ticklabels([\"Loss\",\"Low Profit\",'High Profit'])\n",
    "ax.yaxis.set_ticklabels([\"Loss\",\"Low Profit\",'High Profit'], va=\"center\")\n",
    "b, t = plt.ylim() \n",
    "b += 0.5\n",
    "t -= 0.5\n",
    "plt.ylim(b, t)\n",
    "plt.title('Gaussian Naive Bayes Classifier')"
   ]
  },
  {
   "cell_type": "markdown",
   "metadata": {},
   "source": [
    "## 1.2.1.2) Seperating into 2 classes"
   ]
  },
  {
   "cell_type": "code",
   "execution_count": 87,
   "metadata": {},
   "outputs": [
    {
     "data": {
      "text/plain": [
       "1    1527\n",
       "0    1526\n",
       "Name: gross_budget_ratio, dtype: int64"
      ]
     },
     "execution_count": 87,
     "metadata": {},
     "output_type": "execute_result"
    }
   ],
   "source": [
    "RatioClass = df3['gross_budget_ratio'].transform(lambda x: 0 if x <= 1 else 1)\n",
    "RatioClass = RatioClass.to_frame()\n",
    "Counts=RatioClass['gross_budget_ratio'].value_counts()\n",
    "Counts"
   ]
  },
  {
   "cell_type": "code",
   "execution_count": 88,
   "metadata": {},
   "outputs": [],
   "source": [
    "df32 = df3.copy()\n",
    "df32['gross_budget_ratio'] = RatioClass['gross_budget_ratio']"
   ]
  },
  {
   "cell_type": "code",
   "execution_count": 89,
   "metadata": {},
   "outputs": [
    {
     "name": "stdout",
     "output_type": "stream",
     "text": [
      "Dimensionality of X_train: (2137, 22)\n",
      "Dimensionality of X_test : (916, 22)\n",
      "Dimensionality of y_train: (2137,)\n",
      "Dimensionality of y_test : (916,)\n"
     ]
    }
   ],
   "source": [
    "X = df32.drop(columns=['gross_budget_ratio'])\n",
    "y = df32['gross_budget_ratio']\n",
    "X_train, X_test, y_train, y_test = train_test_split(X, y, stratify=y, test_size=0.3, random_state=10) \n",
    "print(f\"Dimensionality of X_train: {X_train.shape}\")\n",
    "print(f\"Dimensionality of X_test : {X_test.shape}\")\n",
    "print(f\"Dimensionality of y_train: {y_train.shape}\")\n",
    "print(f\"Dimensionality of y_test : {y_test.shape}\")"
   ]
  },
  {
   "cell_type": "markdown",
   "metadata": {},
   "source": [
    "### 1.2.1.2.1) Logistic Regression"
   ]
  },
  {
   "cell_type": "code",
   "execution_count": 90,
   "metadata": {},
   "outputs": [
    {
     "name": "stdout",
     "output_type": "stream",
     "text": [
      "LR best parameters: {'C': 1000, 'penalty': 'l1'}\n",
      "LR Train score: 0.6189138576779026\n",
      "LR Test score: 0.5829694323144105\n",
      "LR Test Accuracy score: 0.5720524017467249\n"
     ]
    }
   ],
   "source": [
    "C_List = [0.001,0.01,0.1,1,10,100,1000]\n",
    "penalty = ['l1','l2']\n",
    "parameters = {'C': C_List,'penalty':penalty}\n",
    "LR = LogisticRegression( solver='liblinear')\n",
    "clf1 = GridSearchCV(LR, parameters, cv=5, verbose=0,scoring =make_scorer(recall_score,pos_label=0))\n",
    "clf1.fit(X_train, y_train)\n",
    "\n",
    "y_pred = clf1.predict(X_test)\n",
    "print(\"LR best parameters:\", clf1.best_params_)\n",
    "print(\"LR Train score:\", clf1.score(X_train, y_train))\n",
    "print(\"LR Test score:\", clf1.score(X_test, y_test))\n",
    "print(\"LR Test Accuracy score:\", accuracy_score(y_pred, y_test))"
   ]
  },
  {
   "cell_type": "code",
   "execution_count": 91,
   "metadata": {},
   "outputs": [
    {
     "data": {
      "text/plain": [
       "Text(0.5, 1, 'Logistic Regression')"
      ]
     },
     "execution_count": 91,
     "metadata": {},
     "output_type": "execute_result"
    },
    {
     "data": {
      "image/png": "[encoded data removed]",
      "text/plain": [
       "<Figure size 432x288 with 2 Axes>"
      ]
     },
     "metadata": {
      "needs_background": "light"
     },
     "output_type": "display_data"
    }
   ],
   "source": [
    "ax = plt.subplot()\n",
    "Model_Predictions = clf1.predict(X_test)\n",
    "Model_Confusion_Matrix = confusion_matrix(Model_Predictions,y_test)\n",
    "sns.heatmap(Model_Confusion_Matrix,annot=True,fmt = \"d\",square = True,ax = ax, linewidths = 1,linecolor = \"w\",cmap = \"Pastel2\")\n",
    "ax.set_xlabel('True labels')\n",
    "ax.set_ylabel('Predicted labels')\n",
    "ax.xaxis.set_ticklabels([\"Loss\",\"Profit\"])\n",
    "ax.yaxis.set_ticklabels([\"Loss\",\"Profit\"], va=\"center\")\n",
    "b, t = plt.ylim() \n",
    "b += 0.5\n",
    "t -= 0.5\n",
    "plt.ylim(b, t)\n",
    "plt.title('Logistic Regression')"
   ]
  },
  {
   "cell_type": "markdown",
   "metadata": {},
   "source": [
    "### 1.2.1.2.2) Decision Tree Classifier"
   ]
  },
  {
   "cell_type": "code",
   "execution_count": 92,
   "metadata": {},
   "outputs": [
    {
     "name": "stdout",
     "output_type": "stream",
     "text": [
      "DTC best parameters: {'criterion': 'entropy', 'max_depth': 100, 'min_samples_leaf': 0.0005, 'min_samples_split': 0.05}\n",
      "DTC Train score: 0.6863295880149812\n",
      "DTC Test score: 0.5480349344978166\n",
      "DTC Test Accuracy score: 0.5349344978165939\n"
     ]
    }
   ],
   "source": [
    "DTSplitList=[0.001,0.01,0.05,0.1,0.5,0.99]\n",
    "DTLeafList=[0.0005,0.005,0.025,0.05,0.1,0.25,0.5]\n",
    "criterion =['gini','entropy']\n",
    "parameters = {'criterion':criterion,'max_depth':list(range(100,0,-3)),'min_samples_leaf': DTLeafList, 'min_samples_split':DTSplitList}\n",
    "DTC = DecisionTreeClassifier(random_state=10)\n",
    "clf2 = GridSearchCV(DTC, parameters, cv=5, verbose=0,scoring =make_scorer(recall_score,pos_label=0))\n",
    "clf2.fit(X_train, y_train)\n",
    "\n",
    "y_pred = clf2.predict(X_test)\n",
    "print(\"DTC best parameters:\", clf2.best_params_)\n",
    "print(\"DTC Train score:\", clf2.score(X_train, y_train))\n",
    "print(\"DTC Test score:\", clf2.score(X_test, y_test))\n",
    "print(\"DTC Test Accuracy score:\", accuracy_score(y_pred, y_test))"
   ]
  },
  {
   "cell_type": "code",
   "execution_count": 93,
   "metadata": {},
   "outputs": [
    {
     "data": {
      "text/plain": [
       "Text(0.5, 1, 'Decision Tree Classifier')"
      ]
     },
     "execution_count": 93,
     "metadata": {},
     "output_type": "execute_result"
    },
    {
     "data": {
      "image/png": "[encoded data removed]",
      "text/plain": [
       "<Figure size 432x288 with 2 Axes>"
      ]
     },
     "metadata": {
      "needs_background": "light"
     },
     "output_type": "display_data"
    }
   ],
   "source": [
    "ax = plt.subplot()\n",
    "Model_Predictions = clf2.predict(X_test)\n",
    "Model_Confusion_Matrix = confusion_matrix(Model_Predictions,y_test)\n",
    "sns.heatmap(Model_Confusion_Matrix,annot=True,fmt = \"d\",square = True,ax = ax, linewidths = 1,linecolor = \"w\",cmap = \"Pastel2\")\n",
    "ax.set_xlabel('True labels')\n",
    "ax.set_ylabel('Predicted labels')\n",
    "ax.xaxis.set_ticklabels([\"Loss\",\"Profit\"])\n",
    "ax.yaxis.set_ticklabels([\"Loss\",\"Profit\"], va=\"center\")\n",
    "b, t = plt.ylim() \n",
    "b += 0.5\n",
    "t -= 0.5\n",
    "plt.ylim(b, t)\n",
    "plt.title('Decision Tree Classifier')"
   ]
  },
  {
   "cell_type": "markdown",
   "metadata": {},
   "source": [
    "### 1.2.1.2.3) Random Forest Classifier"
   ]
  },
  {
   "cell_type": "code",
   "execution_count": 94,
   "metadata": {},
   "outputs": [
    {
     "name": "stdout",
     "output_type": "stream",
     "text": [
      "RFC best parameters: {'criterion': 'gini', 'max_depth': 100, 'n_estimators': 100}\n",
      "RFC Train score: 1.0\n",
      "RFC Test score: 0.6048034934497817\n",
      "RFC Test Accuracy score: 0.5895196506550219\n"
     ]
    }
   ],
   "source": [
    "RFEstimatorList = [25,50,100,200]\n",
    "criterion =['gini','entropy']\n",
    "parameters = {'criterion':criterion,'max_depth':list(range(100,0,-10)),'n_estimators':RFEstimatorList}\n",
    "\n",
    "RFC = RandomForestClassifier(random_state=10)\n",
    "clf3 = GridSearchCV(RFC, parameters, cv=5, verbose=0,scoring =make_scorer(recall_score,pos_label=0))\n",
    "clf3.fit(X_train, y_train)\n",
    "\n",
    "y_pred = clf3.predict(X_test)\n",
    "print(\"RFC best parameters:\", clf3.best_params_)\n",
    "print(\"RFC Train score:\", clf3.score(X_train, y_train))\n",
    "print(\"RFC Test score:\", clf3.score(X_test, y_test))\n",
    "print(\"RFC Test Accuracy score:\", accuracy_score(y_pred, y_test))"
   ]
  },
  {
   "cell_type": "code",
   "execution_count": 95,
   "metadata": {},
   "outputs": [
    {
     "data": {
      "text/plain": [
       "Text(0.5, 1, 'Random Forest Classifier')"
      ]
     },
     "execution_count": 95,
     "metadata": {},
     "output_type": "execute_result"
    },
    {
     "data": {
      "image/png": "[encoded data removed]",
      "text/plain": [
       "<Figure size 432x288 with 2 Axes>"
      ]
     },
     "metadata": {
      "needs_background": "light"
     },
     "output_type": "display_data"
    }
   ],
   "source": [
    "ax = plt.subplot()\n",
    "Model_Predictions = clf3.predict(X_test)\n",
    "Model_Confusion_Matrix = confusion_matrix(Model_Predictions,y_test)\n",
    "sns.heatmap(Model_Confusion_Matrix,annot=True,fmt = \"d\",square = True,ax = ax, linewidths = 1,linecolor = \"w\",cmap = \"Pastel2\")\n",
    "ax.set_xlabel('True labels')\n",
    "ax.set_ylabel('Predicted labels')\n",
    "ax.xaxis.set_ticklabels([\"Loss\",\"Profit\"])\n",
    "ax.yaxis.set_ticklabels([\"Loss\",\"Profit\"], va=\"center\")\n",
    "b, t = plt.ylim() \n",
    "b += 0.5\n",
    "t -= 0.5\n",
    "plt.ylim(b, t)\n",
    "plt.title('Random Forest Classifier')"
   ]
  },
  {
   "cell_type": "markdown",
   "metadata": {},
   "source": [
    "### 1.2.1.2.4) KNN Classifier"
   ]
  },
  {
   "cell_type": "code",
   "execution_count": 96,
   "metadata": {},
   "outputs": [],
   "source": [
    "MMScaler = MinMaxScaler()\n",
    "X_train_scaled = MMScaler.fit_transform(X_train)\n",
    "X_test_scaled = MMScaler.transform(X_test)"
   ]
  },
  {
   "cell_type": "code",
   "execution_count": 97,
   "metadata": {},
   "outputs": [
    {
     "name": "stdout",
     "output_type": "stream",
     "text": [
      "KNN best parameters: {'n_neighbors': 10}\n",
      "KNN Train score: 0.7453183520599251\n",
      "KNN Test score: 0.6528384279475983\n",
      "KNN Test Accuracy score: 0.5578602620087336\n"
     ]
    }
   ],
   "source": [
    "Neighbor_List=[3,5,10,20,50]\n",
    "parameters = {'n_neighbors':Neighbor_List}\n",
    "KNNC = KNeighborsClassifier()\n",
    "clf4 = GridSearchCV(KNNC, parameters, cv=5, verbose=0,scoring =make_scorer(recall_score,pos_label=0))\n",
    "clf4.fit(X_train_scaled, y_train)\n",
    "\n",
    "y_pred = clf4.predict(X_test_scaled)\n",
    "print(\"KNN best parameters:\", clf4.best_params_)\n",
    "print(\"KNN Train score:\", clf4.score(X_train_scaled, y_train))\n",
    "print(\"KNN Test score:\", clf4.score(X_test_scaled, y_test))\n",
    "print(\"KNN Test Accuracy score:\", accuracy_score(y_pred, y_test))"
   ]
  },
  {
   "cell_type": "code",
   "execution_count": 98,
   "metadata": {},
   "outputs": [
    {
     "data": {
      "text/plain": [
       "Text(0.5, 1, 'KNN Classifier')"
      ]
     },
     "execution_count": 98,
     "metadata": {},
     "output_type": "execute_result"
    },
    {
     "data": {
      "image/png": "[encoded data removed]",
      "text/plain": [
       "<Figure size 432x288 with 2 Axes>"
      ]
     },
     "metadata": {
      "needs_background": "light"
     },
     "output_type": "display_data"
    }
   ],
   "source": [
    "ax = plt.subplot()\n",
    "Model_Predictions = clf4.predict(X_test_scaled)\n",
    "Model_Confusion_Matrix = confusion_matrix(Model_Predictions,y_test)\n",
    "sns.heatmap(Model_Confusion_Matrix,annot=True,fmt = \"d\",square = True,ax = ax, linewidths = 1,linecolor = \"w\",cmap = \"Pastel2\")\n",
    "ax.set_xlabel('True labels')\n",
    "ax.set_ylabel('Predicted labels')\n",
    "ax.xaxis.set_ticklabels([\"Loss\",\"Profit\"])\n",
    "ax.yaxis.set_ticklabels([\"Loss\",\"Profit\"], va=\"center\")\n",
    "b, t = plt.ylim() \n",
    "b += 0.5\n",
    "t -= 0.5\n",
    "plt.ylim(b, t)\n",
    "plt.title('KNN Classifier')"
   ]
  },
  {
   "cell_type": "markdown",
   "metadata": {},
   "source": [
    "### 1.2.1.2.5) Gaussian Naive Bayes Classifier"
   ]
  },
  {
   "cell_type": "code",
   "execution_count": 99,
   "metadata": {},
   "outputs": [
    {
     "name": "stdout",
     "output_type": "stream",
     "text": [
      "GNB Train score: 0.5128685072531586\n",
      "GNB Test score: 0.5207423580786026\n"
     ]
    }
   ],
   "source": [
    "GNB = GaussianNB()\n",
    "GNB.fit(X_train,y_train)\n",
    "    \n",
    "y_pred = GNB.predict(X_test)\n",
    "print(\"GNB Train score:\", GNB.score(X_train, y_train))\n",
    "print(\"GNB Test score:\", GNB.score(X_test, y_test))"
   ]
  },
  {
   "cell_type": "code",
   "execution_count": 100,
   "metadata": {},
   "outputs": [
    {
     "data": {
      "text/plain": [
       "Text(0.5, 1, 'Gaussian Naive Bayes Classifier')"
      ]
     },
     "execution_count": 100,
     "metadata": {},
     "output_type": "execute_result"
    },
    {
     "data": {
      "image/png": "[encoded data removed]",
      "text/plain": [
       "<Figure size 432x288 with 2 Axes>"
      ]
     },
     "metadata": {
      "needs_background": "light"
     },
     "output_type": "display_data"
    }
   ],
   "source": [
    "ax = plt.subplot()\n",
    "Model_Predictions = GNB.predict(X_test)\n",
    "Model_Confusion_Matrix = confusion_matrix(Model_Predictions,y_test)\n",
    "sns.heatmap(Model_Confusion_Matrix,annot=True,fmt = \"d\",square = True,ax = ax, linewidths = 1,linecolor = \"w\",cmap = \"Pastel2\")\n",
    "ax.set_xlabel('True labels')\n",
    "ax.set_ylabel('Predicted labels')\n",
    "ax.xaxis.set_ticklabels([\"Loss\",\"Profit\"])\n",
    "ax.yaxis.set_ticklabels([\"Loss\",\"Profit\"], va=\"center\")\n",
    "b, t = plt.ylim() \n",
    "b += 0.5\n",
    "t -= 0.5\n",
    "plt.ylim(b, t)\n",
    "plt.title('Gaussian Naive Bayes Classifier')"
   ]
  },
  {
   "cell_type": "markdown",
   "metadata": {},
   "source": [
    "## 1.2.2) With taking log and feature elimination"
   ]
  },
  {
   "cell_type": "markdown",
   "metadata": {},
   "source": [
    "### log"
   ]
  },
  {
   "cell_type": "code",
   "execution_count": 101,
   "metadata": {},
   "outputs": [],
   "source": [
    "df4 = df3.copy()\n",
    "df4['budget'] = np.log(df4['budget'])\n",
    "df4['cast_total_facebook_likes'] = df4['cast_total_facebook_likes'].transform(lambda x: 0 if x <= 3 else np.log(x))"
   ]
  },
  {
   "cell_type": "markdown",
   "metadata": {},
   "source": [
    "### elimination"
   ]
  },
  {
   "cell_type": "code",
   "execution_count": 102,
   "metadata": {},
   "outputs": [
    {
     "data": {
      "text/plain": [
       "Index(['duration', 'cast_total_facebook_likes', 'facenumber_in_poster',\n",
       "       'budget', 'Biography', 'Comedy', 'Crime', 'Drama', 'Romance',\n",
       "       'Mystery_Thriller_Horror', 'Sci-Fi_Fantasy', 'Family_Animation',\n",
       "       'Action_Adventure', 'History_War', 'Others', 'director_rank',\n",
       "       'actor1_rank', 'actor2_rank', 'actor3_rank', 'gross_budget_ratio',\n",
       "       'content_rating_PG', 'content_rating_PG-13', 'content_rating_R'],\n",
       "      dtype='object')"
      ]
     },
     "execution_count": 102,
     "metadata": {},
     "output_type": "execute_result"
    }
   ],
   "source": [
    "df4.columns"
   ]
  },
  {
   "cell_type": "code",
   "execution_count": 103,
   "metadata": {},
   "outputs": [],
   "source": [
    "df4 = df4.drop(columns = ['facenumber_in_poster', 'Biography', 'Crime',\n",
    "       'Mystery_Thriller_Horror', 'Sci-Fi_Fantasy',\n",
    "       'History_War'])"
   ]
  },
  {
   "cell_type": "markdown",
   "metadata": {},
   "source": [
    "## 1.2.2.1) Seperating into 3 classes"
   ]
  },
  {
   "cell_type": "code",
   "execution_count": 104,
   "metadata": {},
   "outputs": [
    {
     "data": {
      "text/plain": [
       "0    1526\n",
       "1     860\n",
       "2     667\n",
       "Name: gross_budget_ratio, dtype: int64"
      ]
     },
     "execution_count": 104,
     "metadata": {},
     "output_type": "execute_result"
    }
   ],
   "source": [
    "RatioClass = df4['gross_budget_ratio'].transform(lambda x: 0 if x <= 1 else (1 if x <= 2 else 2))\n",
    "RatioClass = RatioClass.to_frame()\n",
    "Counts=RatioClass['gross_budget_ratio'].value_counts()\n",
    "Counts"
   ]
  },
  {
   "cell_type": "code",
   "execution_count": 105,
   "metadata": {},
   "outputs": [],
   "source": [
    "df41 = df4.copy()\n",
    "df41['gross_budget_ratio'] = RatioClass['gross_budget_ratio']"
   ]
  },
  {
   "cell_type": "code",
   "execution_count": 106,
   "metadata": {},
   "outputs": [
    {
     "data": {
      "text/html": [
       "<div>\n",
       "<style scoped>\n",
       "    .dataframe tbody tr th:only-of-type {\n",
       "        vertical-align: middle;\n",
       "    }\n",
       "\n",
       "    .dataframe tbody tr th {\n",
       "        vertical-align: top;\n",
       "    }\n",
       "\n",
       "    .dataframe thead th {\n",
       "        text-align: right;\n",
       "    }\n",
       "</style>\n",
       "<table border=\"1\" class=\"dataframe\">\n",
       "  <thead>\n",
       "    <tr style=\"text-align: right;\">\n",
       "      <th></th>\n",
       "      <th>duration</th>\n",
       "      <th>cast_total_facebook_likes</th>\n",
       "      <th>budget</th>\n",
       "      <th>Comedy</th>\n",
       "      <th>Drama</th>\n",
       "      <th>Romance</th>\n",
       "      <th>Family_Animation</th>\n",
       "      <th>Action_Adventure</th>\n",
       "      <th>Others</th>\n",
       "      <th>director_rank</th>\n",
       "      <th>actor1_rank</th>\n",
       "      <th>actor2_rank</th>\n",
       "      <th>actor3_rank</th>\n",
       "      <th>gross_budget_ratio</th>\n",
       "      <th>content_rating_PG</th>\n",
       "      <th>content_rating_PG-13</th>\n",
       "      <th>content_rating_R</th>\n",
       "    </tr>\n",
       "  </thead>\n",
       "  <tbody>\n",
       "    <tr>\n",
       "      <td>0</td>\n",
       "      <td>123.0</td>\n",
       "      <td>10.008253</td>\n",
       "      <td>17.686712</td>\n",
       "      <td>1</td>\n",
       "      <td>0</td>\n",
       "      <td>1</td>\n",
       "      <td>0</td>\n",
       "      <td>0</td>\n",
       "      <td>0</td>\n",
       "      <td>8</td>\n",
       "      <td>6</td>\n",
       "      <td>3</td>\n",
       "      <td>4</td>\n",
       "      <td>0</td>\n",
       "      <td>0</td>\n",
       "      <td>1</td>\n",
       "      <td>0</td>\n",
       "    </tr>\n",
       "    <tr>\n",
       "      <td>3</td>\n",
       "      <td>148.0</td>\n",
       "      <td>7.850104</td>\n",
       "      <td>17.111347</td>\n",
       "      <td>1</td>\n",
       "      <td>0</td>\n",
       "      <td>0</td>\n",
       "      <td>0</td>\n",
       "      <td>1</td>\n",
       "      <td>1</td>\n",
       "      <td>8</td>\n",
       "      <td>3</td>\n",
       "      <td>3</td>\n",
       "      <td>4</td>\n",
       "      <td>2</td>\n",
       "      <td>0</td>\n",
       "      <td>0</td>\n",
       "      <td>1</td>\n",
       "    </tr>\n",
       "    <tr>\n",
       "      <td>5</td>\n",
       "      <td>124.0</td>\n",
       "      <td>7.287561</td>\n",
       "      <td>16.811243</td>\n",
       "      <td>1</td>\n",
       "      <td>0</td>\n",
       "      <td>0</td>\n",
       "      <td>0</td>\n",
       "      <td>0</td>\n",
       "      <td>1</td>\n",
       "      <td>5</td>\n",
       "      <td>3</td>\n",
       "      <td>2</td>\n",
       "      <td>3</td>\n",
       "      <td>0</td>\n",
       "      <td>1</td>\n",
       "      <td>0</td>\n",
       "      <td>0</td>\n",
       "    </tr>\n",
       "    <tr>\n",
       "      <td>6</td>\n",
       "      <td>124.0</td>\n",
       "      <td>7.888710</td>\n",
       "      <td>17.760281</td>\n",
       "      <td>0</td>\n",
       "      <td>1</td>\n",
       "      <td>0</td>\n",
       "      <td>0</td>\n",
       "      <td>0</td>\n",
       "      <td>1</td>\n",
       "      <td>7</td>\n",
       "      <td>3</td>\n",
       "      <td>4</td>\n",
       "      <td>4</td>\n",
       "      <td>1</td>\n",
       "      <td>1</td>\n",
       "      <td>0</td>\n",
       "      <td>0</td>\n",
       "    </tr>\n",
       "    <tr>\n",
       "      <td>7</td>\n",
       "      <td>104.0</td>\n",
       "      <td>7.800573</td>\n",
       "      <td>15.687313</td>\n",
       "      <td>0</td>\n",
       "      <td>0</td>\n",
       "      <td>1</td>\n",
       "      <td>0</td>\n",
       "      <td>0</td>\n",
       "      <td>0</td>\n",
       "      <td>8</td>\n",
       "      <td>2</td>\n",
       "      <td>3</td>\n",
       "      <td>4</td>\n",
       "      <td>2</td>\n",
       "      <td>0</td>\n",
       "      <td>0</td>\n",
       "      <td>0</td>\n",
       "    </tr>\n",
       "    <tr>\n",
       "      <td>...</td>\n",
       "      <td>...</td>\n",
       "      <td>...</td>\n",
       "      <td>...</td>\n",
       "      <td>...</td>\n",
       "      <td>...</td>\n",
       "      <td>...</td>\n",
       "      <td>...</td>\n",
       "      <td>...</td>\n",
       "      <td>...</td>\n",
       "      <td>...</td>\n",
       "      <td>...</td>\n",
       "      <td>...</td>\n",
       "      <td>...</td>\n",
       "      <td>...</td>\n",
       "      <td>...</td>\n",
       "      <td>...</td>\n",
       "      <td>...</td>\n",
       "    </tr>\n",
       "    <tr>\n",
       "      <td>3846</td>\n",
       "      <td>121.0</td>\n",
       "      <td>8.797397</td>\n",
       "      <td>15.424948</td>\n",
       "      <td>0</td>\n",
       "      <td>1</td>\n",
       "      <td>0</td>\n",
       "      <td>0</td>\n",
       "      <td>0</td>\n",
       "      <td>0</td>\n",
       "      <td>7</td>\n",
       "      <td>4</td>\n",
       "      <td>3</td>\n",
       "      <td>4</td>\n",
       "      <td>0</td>\n",
       "      <td>0</td>\n",
       "      <td>1</td>\n",
       "      <td>0</td>\n",
       "    </tr>\n",
       "    <tr>\n",
       "      <td>3847</td>\n",
       "      <td>92.0</td>\n",
       "      <td>9.790319</td>\n",
       "      <td>17.370859</td>\n",
       "      <td>1</td>\n",
       "      <td>0</td>\n",
       "      <td>0</td>\n",
       "      <td>0</td>\n",
       "      <td>0</td>\n",
       "      <td>0</td>\n",
       "      <td>7</td>\n",
       "      <td>5</td>\n",
       "      <td>3</td>\n",
       "      <td>4</td>\n",
       "      <td>1</td>\n",
       "      <td>0</td>\n",
       "      <td>0</td>\n",
       "      <td>1</td>\n",
       "    </tr>\n",
       "    <tr>\n",
       "      <td>3848</td>\n",
       "      <td>100.0</td>\n",
       "      <td>9.840867</td>\n",
       "      <td>16.811243</td>\n",
       "      <td>1</td>\n",
       "      <td>0</td>\n",
       "      <td>0</td>\n",
       "      <td>0</td>\n",
       "      <td>0</td>\n",
       "      <td>0</td>\n",
       "      <td>7</td>\n",
       "      <td>5</td>\n",
       "      <td>5</td>\n",
       "      <td>5</td>\n",
       "      <td>2</td>\n",
       "      <td>0</td>\n",
       "      <td>0</td>\n",
       "      <td>1</td>\n",
       "    </tr>\n",
       "    <tr>\n",
       "      <td>3849</td>\n",
       "      <td>92.0</td>\n",
       "      <td>7.954372</td>\n",
       "      <td>15.424948</td>\n",
       "      <td>1</td>\n",
       "      <td>0</td>\n",
       "      <td>0</td>\n",
       "      <td>0</td>\n",
       "      <td>0</td>\n",
       "      <td>0</td>\n",
       "      <td>5</td>\n",
       "      <td>2</td>\n",
       "      <td>4</td>\n",
       "      <td>4</td>\n",
       "      <td>2</td>\n",
       "      <td>0</td>\n",
       "      <td>0</td>\n",
       "      <td>1</td>\n",
       "    </tr>\n",
       "    <tr>\n",
       "      <td>3851</td>\n",
       "      <td>120.0</td>\n",
       "      <td>7.501082</td>\n",
       "      <td>15.424948</td>\n",
       "      <td>0</td>\n",
       "      <td>1</td>\n",
       "      <td>0</td>\n",
       "      <td>0</td>\n",
       "      <td>0</td>\n",
       "      <td>0</td>\n",
       "      <td>3</td>\n",
       "      <td>2</td>\n",
       "      <td>3</td>\n",
       "      <td>4</td>\n",
       "      <td>2</td>\n",
       "      <td>1</td>\n",
       "      <td>0</td>\n",
       "      <td>0</td>\n",
       "    </tr>\n",
       "  </tbody>\n",
       "</table>\n",
       "<p>3053 rows × 17 columns</p>\n",
       "</div>"
      ],
      "text/plain": [
       "      duration  cast_total_facebook_likes     budget  Comedy  Drama  Romance  \\\n",
       "0        123.0                  10.008253  17.686712       1      0        1   \n",
       "3        148.0                   7.850104  17.111347       1      0        0   \n",
       "5        124.0                   7.287561  16.811243       1      0        0   \n",
       "6        124.0                   7.888710  17.760281       0      1        0   \n",
       "7        104.0                   7.800573  15.687313       0      0        1   \n",
       "...        ...                        ...        ...     ...    ...      ...   \n",
       "3846     121.0                   8.797397  15.424948       0      1        0   \n",
       "3847      92.0                   9.790319  17.370859       1      0        0   \n",
       "3848     100.0                   9.840867  16.811243       1      0        0   \n",
       "3849      92.0                   7.954372  15.424948       1      0        0   \n",
       "3851     120.0                   7.501082  15.424948       0      1        0   \n",
       "\n",
       "      Family_Animation  Action_Adventure  Others  director_rank  actor1_rank  \\\n",
       "0                    0                 0       0              8            6   \n",
       "3                    0                 1       1              8            3   \n",
       "5                    0                 0       1              5            3   \n",
       "6                    0                 0       1              7            3   \n",
       "7                    0                 0       0              8            2   \n",
       "...                ...               ...     ...            ...          ...   \n",
       "3846                 0                 0       0              7            4   \n",
       "3847                 0                 0       0              7            5   \n",
       "3848                 0                 0       0              7            5   \n",
       "3849                 0                 0       0              5            2   \n",
       "3851                 0                 0       0              3            2   \n",
       "\n",
       "      actor2_rank  actor3_rank  gross_budget_ratio  content_rating_PG  \\\n",
       "0               3            4                   0                  0   \n",
       "3               3            4                   2                  0   \n",
       "5               2            3                   0                  1   \n",
       "6               4            4                   1                  1   \n",
       "7               3            4                   2                  0   \n",
       "...           ...          ...                 ...                ...   \n",
       "3846            3            4                   0                  0   \n",
       "3847            3            4                   1                  0   \n",
       "3848            5            5                   2                  0   \n",
       "3849            4            4                   2                  0   \n",
       "3851            3            4                   2                  1   \n",
       "\n",
       "      content_rating_PG-13  content_rating_R  \n",
       "0                        1                 0  \n",
       "3                        0                 1  \n",
       "5                        0                 0  \n",
       "6                        0                 0  \n",
       "7                        0                 0  \n",
       "...                    ...               ...  \n",
       "3846                     1                 0  \n",
       "3847                     0                 1  \n",
       "3848                     0                 1  \n",
       "3849                     0                 1  \n",
       "3851                     0                 0  \n",
       "\n",
       "[3053 rows x 17 columns]"
      ]
     },
     "execution_count": 106,
     "metadata": {},
     "output_type": "execute_result"
    }
   ],
   "source": [
    "df41"
   ]
  },
  {
   "cell_type": "code",
   "execution_count": 107,
   "metadata": {},
   "outputs": [
    {
     "name": "stdout",
     "output_type": "stream",
     "text": [
      "Dimensionality of X_train: (2137, 16)\n",
      "Dimensionality of X_test : (916, 16)\n",
      "Dimensionality of y_train: (2137,)\n",
      "Dimensionality of y_test : (916,)\n"
     ]
    }
   ],
   "source": [
    "X = df41.drop(columns=['gross_budget_ratio'])\n",
    "y = df41['gross_budget_ratio']\n",
    "X_train, X_test, y_train, y_test = train_test_split(X, y, stratify=y, test_size=0.3, random_state=10) \n",
    "print(f\"Dimensionality of X_train: {X_train.shape}\")\n",
    "print(f\"Dimensionality of X_test : {X_test.shape}\")\n",
    "print(f\"Dimensionality of y_train: {y_train.shape}\")\n",
    "print(f\"Dimensionality of y_test : {y_test.shape}\")"
   ]
  },
  {
   "cell_type": "markdown",
   "metadata": {},
   "source": [
    "### 1.2.2.1.1) Multi-Class Logistic Regression"
   ]
  },
  {
   "cell_type": "code",
   "execution_count": 108,
   "metadata": {},
   "outputs": [],
   "source": [
    "smote=SMOTE('minority')\n",
    "X_s, y_s = smote.fit_sample(X_train,y_train)\n",
    "X_sm, y_sm = smote.fit_sample(X_s,y_s)\n",
    "X_sm_train, y_sm_train = shuffle(X_sm, y_sm, random_state=10)"
   ]
  },
  {
   "cell_type": "code",
   "execution_count": 109,
   "metadata": {},
   "outputs": [
    {
     "name": "stdout",
     "output_type": "stream",
     "text": [
      "MLR best parameters: {'C': 0.1, 'penalty': 'l2'}\n",
      "MLR Train score: 0.4959425717852684\n",
      "MLR Test score: 0.45524017467248906\n"
     ]
    }
   ],
   "source": [
    "C_List = [0.001,0.01,0.1,1,10,100,1000]\n",
    "penalty = ['l2','none']\n",
    "parameters = {'C': C_List,'penalty':penalty}\n",
    "MLR = LogisticRegression(multi_class='multinomial', solver='newton-cg')\n",
    "clf1 = GridSearchCV(MLR, parameters, cv=5, verbose=0,scoring ='accuracy')\n",
    "clf1.fit(X_sm_train, y_sm_train)\n",
    "\n",
    "y_pred = clf1.predict(X_test)\n",
    "print(\"MLR best parameters:\", clf1.best_params_)\n",
    "print(\"MLR Train score:\", clf1.score(X_sm_train, y_sm_train))\n",
    "print(\"MLR Test score:\", clf1.score(X_test, y_test))"
   ]
  },
  {
   "cell_type": "code",
   "execution_count": 110,
   "metadata": {},
   "outputs": [
    {
     "data": {
      "text/plain": [
       "Text(0.5, 1, 'Multiclass Logistic Regression')"
      ]
     },
     "execution_count": 110,
     "metadata": {},
     "output_type": "execute_result"
    },
    {
     "data": {
      "image/png": "[encoded data removed]",
      "text/plain": [
       "<Figure size 432x288 with 2 Axes>"
      ]
     },
     "metadata": {
      "needs_background": "light"
     },
     "output_type": "display_data"
    }
   ],
   "source": [
    "ax = plt.subplot()\n",
    "Model_Predictions = clf1.predict(X_test)\n",
    "Model_Confusion_Matrix = confusion_matrix(Model_Predictions,y_test)\n",
    "sns.heatmap(Model_Confusion_Matrix,annot=True,fmt = \"d\",square = True,ax = ax, linewidths = 1,linecolor = \"w\",cmap = \"Pastel2\")\n",
    "ax.set_xlabel('True labels')\n",
    "ax.set_ylabel('Predicted labels')\n",
    "ax.xaxis.set_ticklabels([\"Loss\",\"Low Profit\",'High Profit'])\n",
    "ax.yaxis.set_ticklabels([\"Loss\",\"Low Profit\",'High Profit'], va=\"center\")\n",
    "b, t = plt.ylim() \n",
    "b += 0.5\n",
    "t -= 0.5\n",
    "plt.ylim(b, t)\n",
    "plt.title('Multiclass Logistic Regression')"
   ]
  },
  {
   "cell_type": "markdown",
   "metadata": {},
   "source": [
    "### 1.2.2.1.2) Decision Tree Classifier"
   ]
  },
  {
   "cell_type": "code",
   "execution_count": 111,
   "metadata": {},
   "outputs": [
    {
     "name": "stdout",
     "output_type": "stream",
     "text": [
      "DTC best parameters: {'criterion': 'gini', 'max_depth': 100, 'min_samples_leaf': 0.0005, 'min_samples_split': 0.99}\n",
      "DTC Train score: 0.49976602714085167\n",
      "DTC Test score: 0.5\n"
     ]
    }
   ],
   "source": [
    "DTSplitList=[0.001,0.01,0.05,0.1,0.5,0.99]\n",
    "DTLeafList=[0.0005,0.005,0.025,0.05,0.1,0.25,0.5]\n",
    "criterion =['gini','entropy']\n",
    "parameters = {'criterion':criterion,'max_depth':list(range(100,0,-3)),'min_samples_leaf': DTLeafList, 'min_samples_split':DTSplitList}\n",
    "DTC = DecisionTreeClassifier(random_state=10)\n",
    "clf2 = GridSearchCV(DTC, parameters, cv=5, verbose=0,scoring ='accuracy')\n",
    "clf2.fit(X_train, y_train)\n",
    "\n",
    "y_pred = clf2.predict(X_test)\n",
    "print(\"DTC best parameters:\", clf2.best_params_)\n",
    "print(\"DTC Train score:\", clf2.score(X_train, y_train))\n",
    "print(\"DTC Test score:\", clf2.score(X_test, y_test))"
   ]
  },
  {
   "cell_type": "code",
   "execution_count": 112,
   "metadata": {},
   "outputs": [
    {
     "data": {
      "text/plain": [
       "Text(0.5, 1, 'Decision Tree Classifier')"
      ]
     },
     "execution_count": 112,
     "metadata": {},
     "output_type": "execute_result"
    },
    {
     "data": {
      "image/png": "[encoded data removed]",
      "text/plain": [
       "<Figure size 432x288 with 2 Axes>"
      ]
     },
     "metadata": {
      "needs_background": "light"
     },
     "output_type": "display_data"
    }
   ],
   "source": [
    "ax = plt.subplot()\n",
    "Model_Predictions = clf2.predict(X_test)\n",
    "Model_Confusion_Matrix = confusion_matrix(Model_Predictions,y_test)\n",
    "sns.heatmap(Model_Confusion_Matrix,annot=True,fmt = \"d\",square = True,ax = ax, linewidths = 1,linecolor = \"w\",cmap = \"Pastel2\")\n",
    "ax.set_xlabel('True labels')\n",
    "ax.set_ylabel('Predicted labels')\n",
    "ax.xaxis.set_ticklabels([\"Loss\",\"Low Profit\",'High Profit'])\n",
    "ax.yaxis.set_ticklabels([\"Loss\",\"Low Profit\",'High Profit'], va=\"center\")\n",
    "b, t = plt.ylim() \n",
    "b += 0.5\n",
    "t -= 0.5\n",
    "plt.ylim(b, t)\n",
    "plt.title('Decision Tree Classifier')"
   ]
  },
  {
   "cell_type": "markdown",
   "metadata": {},
   "source": [
    "### 1.2.2.1.3) Random Forest Classifier"
   ]
  },
  {
   "cell_type": "code",
   "execution_count": 113,
   "metadata": {},
   "outputs": [
    {
     "name": "stdout",
     "output_type": "stream",
     "text": [
      "RFC best parameters: {'criterion': 'gini', 'max_depth': 10, 'n_estimators': 200}\n",
      "RFC Train score: 0.814225549836219\n",
      "RFC Test score: 0.49672489082969434\n"
     ]
    }
   ],
   "source": [
    "RFEstimatorList = [25,50,100,200]\n",
    "criterion =['gini','entropy']\n",
    "parameters = {'criterion':criterion,'max_depth':list(range(100,0,-10)),'n_estimators':RFEstimatorList}\n",
    "RFC = RandomForestClassifier(random_state=10)\n",
    "clf3 = GridSearchCV(RFC, parameters, cv=5, verbose=0,scoring ='accuracy')\n",
    "clf3.fit(X_train, y_train)\n",
    "\n",
    "y_pred = clf3.predict(X_test)\n",
    "print(\"RFC best parameters:\", clf3.best_params_)\n",
    "print(\"RFC Train score:\", clf3.score(X_train, y_train))\n",
    "print(\"RFC Test score:\", clf3.score(X_test, y_test))"
   ]
  },
  {
   "cell_type": "code",
   "execution_count": 114,
   "metadata": {},
   "outputs": [
    {
     "data": {
      "text/plain": [
       "Text(0.5, 1, 'Random Forest Classifier')"
      ]
     },
     "execution_count": 114,
     "metadata": {},
     "output_type": "execute_result"
    },
    {
     "data": {
      "image/png": "[encoded data removed]",
      "text/plain": [
       "<Figure size 432x288 with 2 Axes>"
      ]
     },
     "metadata": {
      "needs_background": "light"
     },
     "output_type": "display_data"
    }
   ],
   "source": [
    "ax = plt.subplot()\n",
    "Model_Predictions = clf3.predict(X_test)\n",
    "Model_Confusion_Matrix = confusion_matrix(Model_Predictions,y_test)\n",
    "sns.heatmap(Model_Confusion_Matrix,annot=True,fmt = \"d\",square = True,ax = ax, linewidths = 1,linecolor = \"w\",cmap = \"Pastel2\")\n",
    "ax.set_xlabel('True labels')\n",
    "ax.set_ylabel('Predicted labels')\n",
    "ax.xaxis.set_ticklabels([\"Loss\",\"Low Profit\",'High Profit'])\n",
    "ax.yaxis.set_ticklabels([\"Loss\",\"Low Profit\",'High Profit'], va=\"center\")\n",
    "b, t = plt.ylim() \n",
    "b += 0.5\n",
    "t -= 0.5\n",
    "plt.ylim(b, t)\n",
    "plt.title('Random Forest Classifier')"
   ]
  },
  {
   "cell_type": "markdown",
   "metadata": {},
   "source": [
    "### 1.2.2.1.4) KNN Classifier"
   ]
  },
  {
   "cell_type": "code",
   "execution_count": 115,
   "metadata": {},
   "outputs": [],
   "source": [
    "MMScaler = MinMaxScaler()\n",
    "X_train_scaled = MMScaler.fit_transform(X_train)\n",
    "X_test_scaled = MMScaler.transform(X_test)"
   ]
  },
  {
   "cell_type": "code",
   "execution_count": 116,
   "metadata": {},
   "outputs": [
    {
     "name": "stdout",
     "output_type": "stream",
     "text": [
      "KNN best parameters: {'n_neighbors': 50}\n",
      "KNN Train score: 0.5329901731399158\n",
      "KNN Test score: 0.4814410480349345\n"
     ]
    }
   ],
   "source": [
    "Neighbor_List=[3,5,10,20,50]\n",
    "parameters = {'n_neighbors':Neighbor_List}\n",
    "KNNC = KNeighborsClassifier()\n",
    "clf4 = GridSearchCV(KNNC, parameters, cv=5, verbose=0,scoring ='accuracy')\n",
    "clf4.fit(X_train_scaled, y_train)\n",
    "\n",
    "y_pred = clf4.predict(X_test_scaled)\n",
    "print(\"KNN best parameters:\", clf4.best_params_)\n",
    "print(\"KNN Train score:\", clf4.score(X_train_scaled, y_train))\n",
    "print(\"KNN Test score:\", clf4.score(X_test_scaled, y_test))"
   ]
  },
  {
   "cell_type": "code",
   "execution_count": 117,
   "metadata": {},
   "outputs": [
    {
     "data": {
      "text/plain": [
       "Text(0.5, 1, 'KNN Classifier')"
      ]
     },
     "execution_count": 117,
     "metadata": {},
     "output_type": "execute_result"
    },
    {
     "data": {
      "image/png": "[encoded data removed]",
      "text/plain": [
       "<Figure size 432x288 with 2 Axes>"
      ]
     },
     "metadata": {
      "needs_background": "light"
     },
     "output_type": "display_data"
    }
   ],
   "source": [
    "ax = plt.subplot()\n",
    "Model_Predictions = clf4.predict(X_test_scaled)\n",
    "Model_Confusion_Matrix = confusion_matrix(Model_Predictions,y_test)\n",
    "sns.heatmap(Model_Confusion_Matrix,annot=True,fmt = \"d\",square = True,ax = ax, linewidths = 1,linecolor = \"w\",cmap = \"Pastel2\")\n",
    "ax.set_xlabel('True labels')\n",
    "ax.set_ylabel('Predicted labels')\n",
    "ax.xaxis.set_ticklabels([\"Loss\",\"Low Profit\",'High Profit'])\n",
    "ax.yaxis.set_ticklabels([\"Loss\",\"Low Profit\",'High Profit'], va=\"center\")\n",
    "b, t = plt.ylim() \n",
    "b += 0.5\n",
    "t -= 0.5\n",
    "plt.ylim(b, t)\n",
    "plt.title('KNN Classifier')"
   ]
  },
  {
   "cell_type": "markdown",
   "metadata": {},
   "source": [
    "### 1.2.2.1.5) Gaussian Naive Bayes Classifier"
   ]
  },
  {
   "cell_type": "code",
   "execution_count": 118,
   "metadata": {},
   "outputs": [
    {
     "name": "stdout",
     "output_type": "stream",
     "text": [
      "GNB Train score: 0.4885353299017314\n",
      "GNB Test score: 0.4759825327510917\n"
     ]
    }
   ],
   "source": [
    "GNB = GaussianNB()\n",
    "GNB.fit(X_train,y_train)\n",
    "    \n",
    "y_pred = GNB.predict(X_test)\n",
    "print(\"GNB Train score:\", GNB.score(X_train, y_train))\n",
    "print(\"GNB Test score:\", GNB.score(X_test, y_test))"
   ]
  },
  {
   "cell_type": "code",
   "execution_count": 119,
   "metadata": {},
   "outputs": [
    {
     "data": {
      "text/plain": [
       "Text(0.5, 1, 'Gaussian Naive Bayes Classifier')"
      ]
     },
     "execution_count": 119,
     "metadata": {},
     "output_type": "execute_result"
    },
    {
     "data": {
      "image/png": "[encoded data removed]",
      "text/plain": [
       "<Figure size 432x288 with 2 Axes>"
      ]
     },
     "metadata": {
      "needs_background": "light"
     },
     "output_type": "display_data"
    }
   ],
   "source": [
    "ax = plt.subplot()\n",
    "Model_Predictions = GNB.predict(X_test)\n",
    "Model_Confusion_Matrix = confusion_matrix(Model_Predictions,y_test)\n",
    "sns.heatmap(Model_Confusion_Matrix,annot=True,fmt = \"d\",square = True,ax = ax, linewidths = 1,linecolor = \"w\",cmap = \"Pastel2\")\n",
    "ax.set_xlabel('True labels')\n",
    "ax.set_ylabel('Predicted labels')\n",
    "ax.xaxis.set_ticklabels([\"Loss\",\"Low Profit\",'High Profit'])\n",
    "ax.yaxis.set_ticklabels([\"Loss\",\"Low Profit\",'High Profit'], va=\"center\")\n",
    "b, t = plt.ylim() \n",
    "b += 0.5\n",
    "t -= 0.5\n",
    "plt.ylim(b, t)\n",
    "plt.title('Gaussian Naive Bayes Classifier')"
   ]
  },
  {
   "cell_type": "markdown",
   "metadata": {},
   "source": [
    "## 1.2.2.2) Seperating into 2 classes"
   ]
  },
  {
   "cell_type": "code",
   "execution_count": 120,
   "metadata": {},
   "outputs": [
    {
     "data": {
      "text/plain": [
       "1    1527\n",
       "0    1526\n",
       "Name: gross_budget_ratio, dtype: int64"
      ]
     },
     "execution_count": 120,
     "metadata": {},
     "output_type": "execute_result"
    }
   ],
   "source": [
    "RatioClass = df4['gross_budget_ratio'].transform(lambda x: 0 if x <= 1 else 1)\n",
    "RatioClass = RatioClass.to_frame()\n",
    "Counts=RatioClass['gross_budget_ratio'].value_counts()\n",
    "Counts"
   ]
  },
  {
   "cell_type": "code",
   "execution_count": 121,
   "metadata": {},
   "outputs": [],
   "source": [
    "df42 = df4.copy()\n",
    "df42['gross_budget_ratio'] = RatioClass['gross_budget_ratio']"
   ]
  },
  {
   "cell_type": "code",
   "execution_count": 122,
   "metadata": {},
   "outputs": [
    {
     "name": "stdout",
     "output_type": "stream",
     "text": [
      "Dimensionality of X_train: (2137, 16)\n",
      "Dimensionality of X_test : (916, 16)\n",
      "Dimensionality of y_train: (2137,)\n",
      "Dimensionality of y_test : (916,)\n"
     ]
    }
   ],
   "source": [
    "X = df42.drop(columns=['gross_budget_ratio'])\n",
    "y = df42['gross_budget_ratio']\n",
    "X_train, X_test, y_train, y_test = train_test_split(X, y, stratify=y, test_size=0.3, random_state=10) \n",
    "print(f\"Dimensionality of X_train: {X_train.shape}\")\n",
    "print(f\"Dimensionality of X_test : {X_test.shape}\")\n",
    "print(f\"Dimensionality of y_train: {y_train.shape}\")\n",
    "print(f\"Dimensionality of y_test : {y_test.shape}\")"
   ]
  },
  {
   "cell_type": "markdown",
   "metadata": {},
   "source": [
    "### 1.2.2.2.1) Logistic Regression"
   ]
  },
  {
   "cell_type": "code",
   "execution_count": 123,
   "metadata": {},
   "outputs": [
    {
     "name": "stdout",
     "output_type": "stream",
     "text": [
      "LR best parameters: {'C': 100, 'penalty': 'l1'}\n",
      "LR Train score: 0.5973782771535581\n",
      "LR Test score: 0.5873362445414847\n",
      "LR Test Accuracy score: 0.5622270742358079\n"
     ]
    }
   ],
   "source": [
    "C_List = [0.001,0.01,0.1,1,10,100,1000]\n",
    "penalty = ['l1','l2']\n",
    "parameters = {'C': C_List,'penalty':penalty}\n",
    "LR = LogisticRegression( solver='liblinear')\n",
    "clf1 = GridSearchCV(LR, parameters, cv=5, verbose=0,scoring =make_scorer(recall_score,pos_label=0))\n",
    "clf1.fit(X_train, y_train)\n",
    "\n",
    "y_pred = clf1.predict(X_test)\n",
    "print(\"LR best parameters:\", clf1.best_params_)\n",
    "print(\"LR Train score:\", clf1.score(X_train, y_train))\n",
    "print(\"LR Test score:\", clf1.score(X_test, y_test))\n",
    "print(\"LR Test Accuracy score:\", accuracy_score(y_pred, y_test))"
   ]
  },
  {
   "cell_type": "code",
   "execution_count": 124,
   "metadata": {},
   "outputs": [
    {
     "data": {
      "text/plain": [
       "Text(0.5, 1, 'Logistic Regression')"
      ]
     },
     "execution_count": 124,
     "metadata": {},
     "output_type": "execute_result"
    },
    {
     "data": {
      "image/png": "[encoded data removed]",
      "text/plain": [
       "<Figure size 432x288 with 2 Axes>"
      ]
     },
     "metadata": {
      "needs_background": "light"
     },
     "output_type": "display_data"
    }
   ],
   "source": [
    "ax = plt.subplot()\n",
    "Model_Predictions = clf1.predict(X_test)\n",
    "Model_Confusion_Matrix = confusion_matrix(Model_Predictions,y_test)\n",
    "sns.heatmap(Model_Confusion_Matrix,annot=True,fmt = \"d\",square = True,ax = ax, linewidths = 1,linecolor = \"w\",cmap = \"Pastel2\")\n",
    "ax.set_xlabel('True labels')\n",
    "ax.set_ylabel('Predicted labels')\n",
    "ax.xaxis.set_ticklabels([\"Loss\",\"Profit\"])\n",
    "ax.yaxis.set_ticklabels([\"Loss\",\"Profit\"], va=\"center\")\n",
    "b, t = plt.ylim() \n",
    "b += 0.5\n",
    "t -= 0.5\n",
    "plt.ylim(b, t)\n",
    "plt.title('Logistic Regression')"
   ]
  },
  {
   "cell_type": "markdown",
   "metadata": {},
   "source": [
    "### 1.2.2.2.2) Decision Tree Classifier"
   ]
  },
  {
   "cell_type": "code",
   "execution_count": 125,
   "metadata": {},
   "outputs": [
    {
     "name": "stdout",
     "output_type": "stream",
     "text": [
      "DTC best parameters: {'criterion': 'entropy', 'max_depth': 100, 'min_samples_leaf': 0.005, 'min_samples_split': 0.05}\n",
      "DTC Train score: 0.7059925093632958\n",
      "DTC Test score: 0.6004366812227074\n",
      "DTC Test Accuracy score: 0.5360262008733624\n"
     ]
    }
   ],
   "source": [
    "DTSplitList=[0.001,0.01,0.05,0.1,0.5,0.99]\n",
    "DTLeafList=[0.0005,0.005,0.025,0.05,0.1,0.25,0.5]\n",
    "criterion =['gini','entropy']\n",
    "parameters = {'criterion':criterion,'max_depth':list(range(100,0,-3)),'min_samples_leaf': DTLeafList, 'min_samples_split':DTSplitList}\n",
    "DTC = DecisionTreeClassifier(random_state=10)\n",
    "clf2 = GridSearchCV(DTC, parameters, cv=5, verbose=0,scoring =make_scorer(recall_score,pos_label=0))\n",
    "clf2.fit(X_train, y_train)\n",
    "\n",
    "y_pred = clf2.predict(X_test)\n",
    "print(\"DTC best parameters:\", clf2.best_params_)\n",
    "print(\"DTC Train score:\", clf2.score(X_train, y_train))\n",
    "print(\"DTC Test score:\", clf2.score(X_test, y_test))\n",
    "print(\"DTC Test Accuracy score:\", accuracy_score(y_pred, y_test))"
   ]
  },
  {
   "cell_type": "code",
   "execution_count": 126,
   "metadata": {},
   "outputs": [
    {
     "data": {
      "text/plain": [
       "Text(0.5, 1, 'Decision Tree Classifier')"
      ]
     },
     "execution_count": 126,
     "metadata": {},
     "output_type": "execute_result"
    },
    {
     "data": {
      "image/png": "[encoded data removed]",
      "text/plain": [
       "<Figure size 432x288 with 2 Axes>"
      ]
     },
     "metadata": {
      "needs_background": "light"
     },
     "output_type": "display_data"
    }
   ],
   "source": [
    "ax = plt.subplot()\n",
    "Model_Predictions = clf2.predict(X_test)\n",
    "Model_Confusion_Matrix = confusion_matrix(Model_Predictions,y_test)\n",
    "sns.heatmap(Model_Confusion_Matrix,annot=True,fmt = \"d\",square = True,ax = ax, linewidths = 1,linecolor = \"w\",cmap = \"Pastel2\")\n",
    "ax.set_xlabel('True labels')\n",
    "ax.set_ylabel('Predicted labels')\n",
    "ax.xaxis.set_ticklabels([\"Loss\",\"Profit\"])\n",
    "ax.yaxis.set_ticklabels([\"Loss\",\"Profit\"], va=\"center\")\n",
    "b, t = plt.ylim() \n",
    "b += 0.5\n",
    "t -= 0.5\n",
    "plt.ylim(b, t)\n",
    "plt.title('Decision Tree Classifier')"
   ]
  },
  {
   "cell_type": "markdown",
   "metadata": {},
   "source": [
    "### 1.2.2.2.3) Random Forest Classifier"
   ]
  },
  {
   "cell_type": "code",
   "execution_count": 127,
   "metadata": {},
   "outputs": [
    {
     "name": "stdout",
     "output_type": "stream",
     "text": [
      "RFC best parameters: {'criterion': 'gini', 'max_depth': 100, 'n_estimators': 50}\n",
      "RFC Train score: 1.0\n",
      "RFC Test score: 0.6004366812227074\n",
      "RFC Test Accuracy score: 0.5709606986899564\n"
     ]
    }
   ],
   "source": [
    "RFEstimatorList = [25,50,100,200]\n",
    "criterion =['gini','entropy']\n",
    "parameters = {'criterion':criterion,'max_depth':list(range(100,0,-10)),'n_estimators':RFEstimatorList}\n",
    "\n",
    "RFC = RandomForestClassifier(random_state=10)\n",
    "clf3 = GridSearchCV(RFC, parameters, cv=5, verbose=0,scoring =make_scorer(recall_score,pos_label=0))\n",
    "clf3.fit(X_train, y_train)\n",
    "\n",
    "y_pred = clf3.predict(X_test)\n",
    "print(\"RFC best parameters:\", clf3.best_params_)\n",
    "print(\"RFC Train score:\", clf3.score(X_train, y_train))\n",
    "print(\"RFC Test score:\", clf3.score(X_test, y_test))\n",
    "print(\"RFC Test Accuracy score:\", accuracy_score(y_pred, y_test))"
   ]
  },
  {
   "cell_type": "code",
   "execution_count": 128,
   "metadata": {},
   "outputs": [
    {
     "data": {
      "text/plain": [
       "Text(0.5, 1, 'Random Forest Classifier')"
      ]
     },
     "execution_count": 128,
     "metadata": {},
     "output_type": "execute_result"
    },
    {
     "data": {
      "image/png": "[encoded data removed]",
      "text/plain": [
       "<Figure size 432x288 with 2 Axes>"
      ]
     },
     "metadata": {
      "needs_background": "light"
     },
     "output_type": "display_data"
    }
   ],
   "source": [
    "ax = plt.subplot()\n",
    "Model_Predictions = clf3.predict(X_test)\n",
    "Model_Confusion_Matrix = confusion_matrix(Model_Predictions,y_test)\n",
    "sns.heatmap(Model_Confusion_Matrix,annot=True,fmt = \"d\",square = True,ax = ax, linewidths = 1,linecolor = \"w\",cmap = \"Pastel2\")\n",
    "ax.set_xlabel('True labels')\n",
    "ax.set_ylabel('Predicted labels')\n",
    "ax.xaxis.set_ticklabels([\"Loss\",\"Profit\"])\n",
    "ax.yaxis.set_ticklabels([\"Loss\",\"Profit\"], va=\"center\")\n",
    "b, t = plt.ylim() \n",
    "b += 0.5\n",
    "t -= 0.5\n",
    "plt.ylim(b, t)\n",
    "plt.title('Random Forest Classifier')"
   ]
  },
  {
   "cell_type": "markdown",
   "metadata": {},
   "source": [
    "### 1.2.2.2.4) KNN Classifier"
   ]
  },
  {
   "cell_type": "code",
   "execution_count": 129,
   "metadata": {},
   "outputs": [],
   "source": [
    "MMScaler = MinMaxScaler()\n",
    "X_train_scaled = MMScaler.fit_transform(X_train)\n",
    "X_test_scaled = MMScaler.transform(X_test)"
   ]
  },
  {
   "cell_type": "code",
   "execution_count": 130,
   "metadata": {},
   "outputs": [
    {
     "name": "stdout",
     "output_type": "stream",
     "text": [
      "KNN best parameters: {'n_neighbors': 10}\n",
      "KNN Train score: 0.7406367041198502\n",
      "KNN Test score: 0.5982532751091703\n",
      "KNN Test Accuracy score: 0.5185589519650655\n"
     ]
    }
   ],
   "source": [
    "Neighbor_List=[3,5,10,20,50]\n",
    "parameters = {'n_neighbors':Neighbor_List}\n",
    "KNNC = KNeighborsClassifier()\n",
    "clf4 = GridSearchCV(KNNC, parameters, cv=5, verbose=0,scoring =make_scorer(recall_score,pos_label=0))\n",
    "clf4.fit(X_train_scaled, y_train)\n",
    "\n",
    "y_pred = clf4.predict(X_test_scaled)\n",
    "print(\"KNN best parameters:\", clf4.best_params_)\n",
    "print(\"KNN Train score:\", clf4.score(X_train_scaled, y_train))\n",
    "print(\"KNN Test score:\", clf4.score(X_test_scaled, y_test))\n",
    "print(\"KNN Test Accuracy score:\", accuracy_score(y_pred, y_test))"
   ]
  },
  {
   "cell_type": "code",
   "execution_count": 131,
   "metadata": {},
   "outputs": [
    {
     "data": {
      "text/plain": [
       "Text(0.5, 1, 'KNN Classifier')"
      ]
     },
     "execution_count": 131,
     "metadata": {},
     "output_type": "execute_result"
    },
    {
     "data": {
      "image/png": "[encoded data removed]",
      "text/plain": [
       "<Figure size 432x288 with 2 Axes>"
      ]
     },
     "metadata": {
      "needs_background": "light"
     },
     "output_type": "display_data"
    }
   ],
   "source": [
    "ax = plt.subplot()\n",
    "Model_Predictions = clf4.predict(X_test_scaled)\n",
    "Model_Confusion_Matrix = confusion_matrix(Model_Predictions,y_test)\n",
    "sns.heatmap(Model_Confusion_Matrix,annot=True,fmt = \"d\",square = True,ax = ax, linewidths = 1,linecolor = \"w\",cmap = \"Pastel2\")\n",
    "ax.set_xlabel('True labels')\n",
    "ax.set_ylabel('Predicted labels')\n",
    "ax.xaxis.set_ticklabels([\"Loss\",\"Profit\"])\n",
    "ax.yaxis.set_ticklabels([\"Loss\",\"Profit\"], va=\"center\")\n",
    "b, t = plt.ylim() \n",
    "b += 0.5\n",
    "t -= 0.5\n",
    "plt.ylim(b, t)\n",
    "plt.title('KNN Classifier')"
   ]
  },
  {
   "cell_type": "markdown",
   "metadata": {},
   "source": [
    "### 1.2.2.2.5) Gaussian Naive Bayes Classifier"
   ]
  },
  {
   "cell_type": "code",
   "execution_count": 132,
   "metadata": {},
   "outputs": [
    {
     "name": "stdout",
     "output_type": "stream",
     "text": [
      "GNB Train score: 0.5601310248011231\n",
      "GNB Test score: 0.5698689956331878\n"
     ]
    }
   ],
   "source": [
    "GNB = GaussianNB()\n",
    "GNB.fit(X_train,y_train)\n",
    "    \n",
    "y_pred = GNB.predict(X_test)\n",
    "print(\"GNB Train score:\", GNB.score(X_train, y_train))\n",
    "print(\"GNB Test score:\", GNB.score(X_test, y_test))"
   ]
  },
  {
   "cell_type": "code",
   "execution_count": 133,
   "metadata": {},
   "outputs": [
    {
     "data": {
      "text/plain": [
       "Text(0.5, 1, 'Gaussian Naive Bayes Classifier')"
      ]
     },
     "execution_count": 133,
     "metadata": {},
     "output_type": "execute_result"
    },
    {
     "data": {
      "image/png": "[encoded data removed]",
      "text/plain": [
       "<Figure size 432x288 with 2 Axes>"
      ]
     },
     "metadata": {
      "needs_background": "light"
     },
     "output_type": "display_data"
    }
   ],
   "source": [
    "ax = plt.subplot()\n",
    "Model_Predictions = GNB.predict(X_test)\n",
    "Model_Confusion_Matrix = confusion_matrix(Model_Predictions,y_test)\n",
    "sns.heatmap(Model_Confusion_Matrix,annot=True,fmt = \"d\",square = True,ax = ax, linewidths = 1,linecolor = \"w\",cmap = \"Pastel2\")\n",
    "ax.set_xlabel('True labels')\n",
    "ax.set_ylabel('Predicted labels')\n",
    "ax.xaxis.set_ticklabels([\"Loss\",\"Profit\"])\n",
    "ax.yaxis.set_ticklabels([\"Loss\",\"Profit\"], va=\"center\")\n",
    "b, t = plt.ylim() \n",
    "b += 0.5\n",
    "t -= 0.5\n",
    "plt.ylim(b, t)\n",
    "plt.title('Gaussian Naive Bayes Classifier')"
   ]
  }
 ],
 "metadata": {
  "kernelspec": {
   "display_name": "Python 3",
   "language": "python",
   "name": "python3"
  },
  "language_info": {
   "codemirror_mode": {
    "name": "ipython",
    "version": 3
   },
   "file_extension": ".py",
   "mimetype": "text/x-python",
   "name": "python",
   "nbconvert_exporter": "python",
   "pygments_lexer": "ipython3",
   "version": "3.7.4"
  }
 },
 "nbformat": 4,
 "nbformat_minor": 4
}
