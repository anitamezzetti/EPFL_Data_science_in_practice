{
 "cells": [
  {
   "cell_type": "code",
   "execution_count": 1,
   "metadata": {},
   "outputs": [],
   "source": [
    "from collections import Counter\n",
    "\n",
    "import numpy as np\n",
    "import pandas as pd\n",
    "import matplotlib.pyplot as plt\n",
    "import seaborn as sns\n",
    "import warnings\n",
    "from sklearn import metrics\n",
    "warnings.filterwarnings('ignore')\n",
    "\n",
    "from sklearn.metrics import fbeta_score, make_scorer\n",
    "from sklearn.utils import shuffle\n",
    "from imblearn.over_sampling import SMOTE\n",
    "from sklearn.utils import resample\n",
    "from sklearn.linear_model import LogisticRegression\n",
    "from sklearn.tree import DecisionTreeClassifier\n",
    "from sklearn.ensemble import RandomForestClassifier\n",
    "from sklearn.neighbors import KNeighborsClassifier\n",
    "from sklearn.naive_bayes import GaussianNB\n",
    "from sklearn import metrics\n",
    "from sklearn.metrics import accuracy_score, recall_score, precision_score, roc_auc_score \n",
    "from sklearn.metrics import confusion_matrix\n",
    "from sklearn.preprocessing import StandardScaler, MinMaxScaler\n",
    "from sklearn.model_selection import train_test_split\n",
    "from sklearn.model_selection import cross_validate\n",
    "from sklearn.model_selection import GridSearchCV"
   ]
  },
  {
   "cell_type": "code",
   "execution_count": 2,
   "metadata": {},
   "outputs": [],
   "source": [
    "movie_df = pd.read_csv(r'data/data_regression.csv')"
   ]
  },
  {
   "cell_type": "code",
   "execution_count": 3,
   "metadata": {},
   "outputs": [
    {
     "data": {
      "text/plain": [
       "Index(['imdb_id', 'director_name', 'num_critic_for_reviews', 'duration',\n",
       "       'director_facebook_likes', 'actor_3_facebook_likes', 'actor_2_name',\n",
       "       'actor_1_facebook_likes', 'gross', 'genres', 'actor_1_name',\n",
       "       'movie_title', 'num_voted_users', 'cast_total_facebook_likes',\n",
       "       'actor_3_name', 'facenumber_in_poster', 'plot_keywords',\n",
       "       'num_user_for_reviews', 'language', 'country', 'content_rating',\n",
       "       'budget', 'title_year', 'actor_2_facebook_likes', 'imdb_score',\n",
       "       'movie_facebook_likes', 'Biography', 'Comedy', 'Crime', 'Drama',\n",
       "       'Romance', 'Mystery_Thriller_Horror', 'Sci-Fi_Fantasy',\n",
       "       'Family_Animation', 'Action_Adventure', 'History_War', 'Others',\n",
       "       'director_rank', 'actor1_rank', 'actor2_rank', 'actor3_rank',\n",
       "       'gross_budget_ratio'],\n",
       "      dtype='object')"
      ]
     },
     "execution_count": 3,
     "metadata": {},
     "output_type": "execute_result"
    }
   ],
   "source": [
    "movie_df.columns"
   ]
  },
  {
   "cell_type": "markdown",
   "metadata": {},
   "source": [
    "# 1) Only Facebook Likes"
   ]
  },
  {
   "cell_type": "code",
   "execution_count": 4,
   "metadata": {},
   "outputs": [],
   "source": [
    "classification_df = movie_df.drop(columns=['imdb_id', 'director_name', 'num_critic_for_reviews',\n",
    "       'actor_2_name',\n",
    "       'gross', 'genres', 'actor_1_name',\n",
    "       'movie_title', 'num_voted_users',\n",
    "       'actor_3_name', 'plot_keywords',\n",
    "       'num_user_for_reviews',\n",
    "       'title_year', 'imdb_score',\n",
    "       'movie_facebook_likes','director_rank', 'actor1_rank', 'actor2_rank', 'actor3_rank'])"
   ]
  },
  {
   "cell_type": "code",
   "execution_count": 5,
   "metadata": {},
   "outputs": [
    {
     "data": {
      "text/html": [
       "<div>\n",
       "<style scoped>\n",
       "    .dataframe tbody tr th:only-of-type {\n",
       "        vertical-align: middle;\n",
       "    }\n",
       "\n",
       "    .dataframe tbody tr th {\n",
       "        vertical-align: top;\n",
       "    }\n",
       "\n",
       "    .dataframe thead th {\n",
       "        text-align: right;\n",
       "    }\n",
       "</style>\n",
       "<table border=\"1\" class=\"dataframe\">\n",
       "  <thead>\n",
       "    <tr style=\"text-align: right;\">\n",
       "      <th></th>\n",
       "      <th>duration</th>\n",
       "      <th>director_facebook_likes</th>\n",
       "      <th>actor_3_facebook_likes</th>\n",
       "      <th>actor_1_facebook_likes</th>\n",
       "      <th>cast_total_facebook_likes</th>\n",
       "      <th>facenumber_in_poster</th>\n",
       "      <th>language</th>\n",
       "      <th>country</th>\n",
       "      <th>content_rating</th>\n",
       "      <th>budget</th>\n",
       "      <th>...</th>\n",
       "      <th>Crime</th>\n",
       "      <th>Drama</th>\n",
       "      <th>Romance</th>\n",
       "      <th>Mystery_Thriller_Horror</th>\n",
       "      <th>Sci-Fi_Fantasy</th>\n",
       "      <th>Family_Animation</th>\n",
       "      <th>Action_Adventure</th>\n",
       "      <th>History_War</th>\n",
       "      <th>Others</th>\n",
       "      <th>gross_budget_ratio</th>\n",
       "    </tr>\n",
       "  </thead>\n",
       "  <tbody>\n",
       "    <tr>\n",
       "      <td>0</td>\n",
       "      <td>123.0</td>\n",
       "      <td>446.0</td>\n",
       "      <td>821.0</td>\n",
       "      <td>20000.0</td>\n",
       "      <td>22209</td>\n",
       "      <td>1.0</td>\n",
       "      <td>English</td>\n",
       "      <td>USA</td>\n",
       "      <td>PG-13</td>\n",
       "      <td>48000000.0</td>\n",
       "      <td>...</td>\n",
       "      <td>0</td>\n",
       "      <td>0</td>\n",
       "      <td>1</td>\n",
       "      <td>0</td>\n",
       "      <td>1</td>\n",
       "      <td>0</td>\n",
       "      <td>0</td>\n",
       "      <td>0</td>\n",
       "      <td>0</td>\n",
       "      <td>0.981155</td>\n",
       "    </tr>\n",
       "    <tr>\n",
       "      <td>1</td>\n",
       "      <td>88.0</td>\n",
       "      <td>104.0</td>\n",
       "      <td>318.0</td>\n",
       "      <td>628.0</td>\n",
       "      <td>2726</td>\n",
       "      <td>0.0</td>\n",
       "      <td>English</td>\n",
       "      <td>USA</td>\n",
       "      <td>PG</td>\n",
       "      <td>3500000.0</td>\n",
       "      <td>...</td>\n",
       "      <td>0</td>\n",
       "      <td>0</td>\n",
       "      <td>0</td>\n",
       "      <td>0</td>\n",
       "      <td>0</td>\n",
       "      <td>0</td>\n",
       "      <td>0</td>\n",
       "      <td>0</td>\n",
       "      <td>0</td>\n",
       "      <td>23.828571</td>\n",
       "    </tr>\n",
       "    <tr>\n",
       "      <td>2</td>\n",
       "      <td>104.0</td>\n",
       "      <td>116.0</td>\n",
       "      <td>83.0</td>\n",
       "      <td>1000.0</td>\n",
       "      <td>1662</td>\n",
       "      <td>0.0</td>\n",
       "      <td>English</td>\n",
       "      <td>USA</td>\n",
       "      <td>R</td>\n",
       "      <td>4500000.0</td>\n",
       "      <td>...</td>\n",
       "      <td>0</td>\n",
       "      <td>1</td>\n",
       "      <td>1</td>\n",
       "      <td>0</td>\n",
       "      <td>0</td>\n",
       "      <td>0</td>\n",
       "      <td>1</td>\n",
       "      <td>0</td>\n",
       "      <td>0</td>\n",
       "      <td>13.078468</td>\n",
       "    </tr>\n",
       "    <tr>\n",
       "      <td>3</td>\n",
       "      <td>148.0</td>\n",
       "      <td>644.0</td>\n",
       "      <td>326.0</td>\n",
       "      <td>1000.0</td>\n",
       "      <td>2566</td>\n",
       "      <td>1.0</td>\n",
       "      <td>English</td>\n",
       "      <td>USA</td>\n",
       "      <td>R</td>\n",
       "      <td>27000000.0</td>\n",
       "      <td>...</td>\n",
       "      <td>1</td>\n",
       "      <td>0</td>\n",
       "      <td>0</td>\n",
       "      <td>0</td>\n",
       "      <td>0</td>\n",
       "      <td>0</td>\n",
       "      <td>1</td>\n",
       "      <td>0</td>\n",
       "      <td>1</td>\n",
       "      <td>2.007407</td>\n",
       "    </tr>\n",
       "    <tr>\n",
       "      <td>4</td>\n",
       "      <td>98.0</td>\n",
       "      <td>11000.0</td>\n",
       "      <td>484.0</td>\n",
       "      <td>13000.0</td>\n",
       "      <td>14921</td>\n",
       "      <td>3.0</td>\n",
       "      <td>English</td>\n",
       "      <td>USA</td>\n",
       "      <td>R</td>\n",
       "      <td>6000000.0</td>\n",
       "      <td>...</td>\n",
       "      <td>0</td>\n",
       "      <td>0</td>\n",
       "      <td>0</td>\n",
       "      <td>0</td>\n",
       "      <td>0</td>\n",
       "      <td>0</td>\n",
       "      <td>0</td>\n",
       "      <td>0</td>\n",
       "      <td>1</td>\n",
       "      <td>6.633333</td>\n",
       "    </tr>\n",
       "    <tr>\n",
       "      <td>...</td>\n",
       "      <td>...</td>\n",
       "      <td>...</td>\n",
       "      <td>...</td>\n",
       "      <td>...</td>\n",
       "      <td>...</td>\n",
       "      <td>...</td>\n",
       "      <td>...</td>\n",
       "      <td>...</td>\n",
       "      <td>...</td>\n",
       "      <td>...</td>\n",
       "      <td>...</td>\n",
       "      <td>...</td>\n",
       "      <td>...</td>\n",
       "      <td>...</td>\n",
       "      <td>...</td>\n",
       "      <td>...</td>\n",
       "      <td>...</td>\n",
       "      <td>...</td>\n",
       "      <td>...</td>\n",
       "      <td>...</td>\n",
       "      <td>...</td>\n",
       "    </tr>\n",
       "    <tr>\n",
       "      <td>3847</td>\n",
       "      <td>92.0</td>\n",
       "      <td>89.0</td>\n",
       "      <td>190.0</td>\n",
       "      <td>17000.0</td>\n",
       "      <td>17860</td>\n",
       "      <td>0.0</td>\n",
       "      <td>English</td>\n",
       "      <td>USA</td>\n",
       "      <td>R</td>\n",
       "      <td>35000000.0</td>\n",
       "      <td>...</td>\n",
       "      <td>0</td>\n",
       "      <td>0</td>\n",
       "      <td>0</td>\n",
       "      <td>0</td>\n",
       "      <td>0</td>\n",
       "      <td>0</td>\n",
       "      <td>0</td>\n",
       "      <td>0</td>\n",
       "      <td>0</td>\n",
       "      <td>1.579766</td>\n",
       "    </tr>\n",
       "    <tr>\n",
       "      <td>3848</td>\n",
       "      <td>100.0</td>\n",
       "      <td>24.0</td>\n",
       "      <td>851.0</td>\n",
       "      <td>15000.0</td>\n",
       "      <td>18786</td>\n",
       "      <td>9.0</td>\n",
       "      <td>English</td>\n",
       "      <td>USA</td>\n",
       "      <td>R</td>\n",
       "      <td>20000000.0</td>\n",
       "      <td>...</td>\n",
       "      <td>0</td>\n",
       "      <td>0</td>\n",
       "      <td>0</td>\n",
       "      <td>0</td>\n",
       "      <td>0</td>\n",
       "      <td>0</td>\n",
       "      <td>0</td>\n",
       "      <td>0</td>\n",
       "      <td>0</td>\n",
       "      <td>2.773065</td>\n",
       "    </tr>\n",
       "    <tr>\n",
       "      <td>3849</td>\n",
       "      <td>92.0</td>\n",
       "      <td>89.0</td>\n",
       "      <td>355.0</td>\n",
       "      <td>729.0</td>\n",
       "      <td>2848</td>\n",
       "      <td>4.0</td>\n",
       "      <td>English</td>\n",
       "      <td>USA</td>\n",
       "      <td>R</td>\n",
       "      <td>5000000.0</td>\n",
       "      <td>...</td>\n",
       "      <td>0</td>\n",
       "      <td>0</td>\n",
       "      <td>0</td>\n",
       "      <td>0</td>\n",
       "      <td>0</td>\n",
       "      <td>0</td>\n",
       "      <td>0</td>\n",
       "      <td>0</td>\n",
       "      <td>0</td>\n",
       "      <td>2.335036</td>\n",
       "    </tr>\n",
       "    <tr>\n",
       "      <td>3850</td>\n",
       "      <td>81.0</td>\n",
       "      <td>26.0</td>\n",
       "      <td>300.0</td>\n",
       "      <td>2000.0</td>\n",
       "      <td>3344</td>\n",
       "      <td>0.0</td>\n",
       "      <td>English</td>\n",
       "      <td>USA</td>\n",
       "      <td>PG-13</td>\n",
       "      <td>4900000.0</td>\n",
       "      <td>...</td>\n",
       "      <td>0</td>\n",
       "      <td>0</td>\n",
       "      <td>0</td>\n",
       "      <td>1</td>\n",
       "      <td>0</td>\n",
       "      <td>0</td>\n",
       "      <td>0</td>\n",
       "      <td>0</td>\n",
       "      <td>0</td>\n",
       "      <td>11.537962</td>\n",
       "    </tr>\n",
       "    <tr>\n",
       "      <td>3851</td>\n",
       "      <td>120.0</td>\n",
       "      <td>18.0</td>\n",
       "      <td>295.0</td>\n",
       "      <td>634.0</td>\n",
       "      <td>1810</td>\n",
       "      <td>11.0</td>\n",
       "      <td>English</td>\n",
       "      <td>USA</td>\n",
       "      <td>PG</td>\n",
       "      <td>5000000.0</td>\n",
       "      <td>...</td>\n",
       "      <td>0</td>\n",
       "      <td>1</td>\n",
       "      <td>0</td>\n",
       "      <td>0</td>\n",
       "      <td>0</td>\n",
       "      <td>0</td>\n",
       "      <td>0</td>\n",
       "      <td>0</td>\n",
       "      <td>0</td>\n",
       "      <td>4.154614</td>\n",
       "    </tr>\n",
       "  </tbody>\n",
       "</table>\n",
       "<p>3852 rows × 23 columns</p>\n",
       "</div>"
      ],
      "text/plain": [
       "      duration  director_facebook_likes  actor_3_facebook_likes  \\\n",
       "0        123.0                    446.0                   821.0   \n",
       "1         88.0                    104.0                   318.0   \n",
       "2        104.0                    116.0                    83.0   \n",
       "3        148.0                    644.0                   326.0   \n",
       "4         98.0                  11000.0                   484.0   \n",
       "...        ...                      ...                     ...   \n",
       "3847      92.0                     89.0                   190.0   \n",
       "3848     100.0                     24.0                   851.0   \n",
       "3849      92.0                     89.0                   355.0   \n",
       "3850      81.0                     26.0                   300.0   \n",
       "3851     120.0                     18.0                   295.0   \n",
       "\n",
       "      actor_1_facebook_likes  cast_total_facebook_likes  facenumber_in_poster  \\\n",
       "0                    20000.0                      22209                   1.0   \n",
       "1                      628.0                       2726                   0.0   \n",
       "2                     1000.0                       1662                   0.0   \n",
       "3                     1000.0                       2566                   1.0   \n",
       "4                    13000.0                      14921                   3.0   \n",
       "...                      ...                        ...                   ...   \n",
       "3847                 17000.0                      17860                   0.0   \n",
       "3848                 15000.0                      18786                   9.0   \n",
       "3849                   729.0                       2848                   4.0   \n",
       "3850                  2000.0                       3344                   0.0   \n",
       "3851                   634.0                       1810                  11.0   \n",
       "\n",
       "     language country content_rating      budget  ...  Crime  Drama  Romance  \\\n",
       "0     English     USA          PG-13  48000000.0  ...      0      0        1   \n",
       "1     English     USA             PG   3500000.0  ...      0      0        0   \n",
       "2     English     USA              R   4500000.0  ...      0      1        1   \n",
       "3     English     USA              R  27000000.0  ...      1      0        0   \n",
       "4     English     USA              R   6000000.0  ...      0      0        0   \n",
       "...       ...     ...            ...         ...  ...    ...    ...      ...   \n",
       "3847  English     USA              R  35000000.0  ...      0      0        0   \n",
       "3848  English     USA              R  20000000.0  ...      0      0        0   \n",
       "3849  English     USA              R   5000000.0  ...      0      0        0   \n",
       "3850  English     USA          PG-13   4900000.0  ...      0      0        0   \n",
       "3851  English     USA             PG   5000000.0  ...      0      1        0   \n",
       "\n",
       "      Mystery_Thriller_Horror  Sci-Fi_Fantasy  Family_Animation  \\\n",
       "0                           0               1                 0   \n",
       "1                           0               0                 0   \n",
       "2                           0               0                 0   \n",
       "3                           0               0                 0   \n",
       "4                           0               0                 0   \n",
       "...                       ...             ...               ...   \n",
       "3847                        0               0                 0   \n",
       "3848                        0               0                 0   \n",
       "3849                        0               0                 0   \n",
       "3850                        1               0                 0   \n",
       "3851                        0               0                 0   \n",
       "\n",
       "      Action_Adventure  History_War  Others  gross_budget_ratio  \n",
       "0                    0            0       0            0.981155  \n",
       "1                    0            0       0           23.828571  \n",
       "2                    1            0       0           13.078468  \n",
       "3                    1            0       1            2.007407  \n",
       "4                    0            0       1            6.633333  \n",
       "...                ...          ...     ...                 ...  \n",
       "3847                 0            0       0            1.579766  \n",
       "3848                 0            0       0            2.773065  \n",
       "3849                 0            0       0            2.335036  \n",
       "3850                 0            0       0           11.537962  \n",
       "3851                 0            0       0            4.154614  \n",
       "\n",
       "[3852 rows x 23 columns]"
      ]
     },
     "execution_count": 5,
     "metadata": {},
     "output_type": "execute_result"
    }
   ],
   "source": [
    "classification_df"
   ]
  },
  {
   "cell_type": "markdown",
   "metadata": {},
   "source": [
    "## 1.1) All Movies"
   ]
  },
  {
   "cell_type": "code",
   "execution_count": 6,
   "metadata": {},
   "outputs": [
    {
     "data": {
      "text/html": [
       "<div>\n",
       "<style scoped>\n",
       "    .dataframe tbody tr th:only-of-type {\n",
       "        vertical-align: middle;\n",
       "    }\n",
       "\n",
       "    .dataframe tbody tr th {\n",
       "        vertical-align: top;\n",
       "    }\n",
       "\n",
       "    .dataframe thead th {\n",
       "        text-align: right;\n",
       "    }\n",
       "</style>\n",
       "<table border=\"1\" class=\"dataframe\">\n",
       "  <thead>\n",
       "    <tr style=\"text-align: right;\">\n",
       "      <th></th>\n",
       "      <th>duration</th>\n",
       "      <th>director_facebook_likes</th>\n",
       "      <th>actor_3_facebook_likes</th>\n",
       "      <th>actor_1_facebook_likes</th>\n",
       "      <th>cast_total_facebook_likes</th>\n",
       "      <th>facenumber_in_poster</th>\n",
       "      <th>budget</th>\n",
       "      <th>actor_2_facebook_likes</th>\n",
       "      <th>Biography</th>\n",
       "      <th>Comedy</th>\n",
       "      <th>...</th>\n",
       "      <th>Mystery_Thriller_Horror</th>\n",
       "      <th>Sci-Fi_Fantasy</th>\n",
       "      <th>Family_Animation</th>\n",
       "      <th>Action_Adventure</th>\n",
       "      <th>History_War</th>\n",
       "      <th>Others</th>\n",
       "      <th>gross_budget_ratio</th>\n",
       "      <th>content_rating_PG</th>\n",
       "      <th>content_rating_PG-13</th>\n",
       "      <th>content_rating_R</th>\n",
       "    </tr>\n",
       "  </thead>\n",
       "  <tbody>\n",
       "    <tr>\n",
       "      <td>0</td>\n",
       "      <td>123.0</td>\n",
       "      <td>446.0</td>\n",
       "      <td>821.0</td>\n",
       "      <td>20000.0</td>\n",
       "      <td>22209</td>\n",
       "      <td>1.0</td>\n",
       "      <td>4.800000e+07</td>\n",
       "      <td>1000.0</td>\n",
       "      <td>0</td>\n",
       "      <td>1</td>\n",
       "      <td>...</td>\n",
       "      <td>0</td>\n",
       "      <td>1</td>\n",
       "      <td>0</td>\n",
       "      <td>0</td>\n",
       "      <td>0</td>\n",
       "      <td>0</td>\n",
       "      <td>0.981155</td>\n",
       "      <td>0</td>\n",
       "      <td>1</td>\n",
       "      <td>0</td>\n",
       "    </tr>\n",
       "    <tr>\n",
       "      <td>3</td>\n",
       "      <td>148.0</td>\n",
       "      <td>644.0</td>\n",
       "      <td>326.0</td>\n",
       "      <td>1000.0</td>\n",
       "      <td>2566</td>\n",
       "      <td>1.0</td>\n",
       "      <td>2.700000e+07</td>\n",
       "      <td>809.0</td>\n",
       "      <td>0</td>\n",
       "      <td>1</td>\n",
       "      <td>...</td>\n",
       "      <td>0</td>\n",
       "      <td>0</td>\n",
       "      <td>0</td>\n",
       "      <td>1</td>\n",
       "      <td>0</td>\n",
       "      <td>1</td>\n",
       "      <td>2.007407</td>\n",
       "      <td>0</td>\n",
       "      <td>0</td>\n",
       "      <td>1</td>\n",
       "    </tr>\n",
       "    <tr>\n",
       "      <td>5</td>\n",
       "      <td>124.0</td>\n",
       "      <td>42.0</td>\n",
       "      <td>161.0</td>\n",
       "      <td>801.0</td>\n",
       "      <td>1462</td>\n",
       "      <td>0.0</td>\n",
       "      <td>2.000000e+07</td>\n",
       "      <td>174.0</td>\n",
       "      <td>1</td>\n",
       "      <td>1</td>\n",
       "      <td>...</td>\n",
       "      <td>0</td>\n",
       "      <td>0</td>\n",
       "      <td>0</td>\n",
       "      <td>0</td>\n",
       "      <td>0</td>\n",
       "      <td>1</td>\n",
       "      <td>0.100000</td>\n",
       "      <td>1</td>\n",
       "      <td>0</td>\n",
       "      <td>0</td>\n",
       "    </tr>\n",
       "    <tr>\n",
       "      <td>6</td>\n",
       "      <td>124.0</td>\n",
       "      <td>150.0</td>\n",
       "      <td>572.0</td>\n",
       "      <td>874.0</td>\n",
       "      <td>2667</td>\n",
       "      <td>0.0</td>\n",
       "      <td>5.166449e+07</td>\n",
       "      <td>816.0</td>\n",
       "      <td>1</td>\n",
       "      <td>0</td>\n",
       "      <td>...</td>\n",
       "      <td>0</td>\n",
       "      <td>0</td>\n",
       "      <td>0</td>\n",
       "      <td>0</td>\n",
       "      <td>0</td>\n",
       "      <td>1</td>\n",
       "      <td>1.546517</td>\n",
       "      <td>1</td>\n",
       "      <td>0</td>\n",
       "      <td>0</td>\n",
       "    </tr>\n",
       "    <tr>\n",
       "      <td>7</td>\n",
       "      <td>104.0</td>\n",
       "      <td>0.0</td>\n",
       "      <td>517.0</td>\n",
       "      <td>754.0</td>\n",
       "      <td>2442</td>\n",
       "      <td>0.0</td>\n",
       "      <td>6.500000e+06</td>\n",
       "      <td>567.0</td>\n",
       "      <td>0</td>\n",
       "      <td>0</td>\n",
       "      <td>...</td>\n",
       "      <td>1</td>\n",
       "      <td>0</td>\n",
       "      <td>0</td>\n",
       "      <td>0</td>\n",
       "      <td>0</td>\n",
       "      <td>0</td>\n",
       "      <td>4.907538</td>\n",
       "      <td>0</td>\n",
       "      <td>0</td>\n",
       "      <td>0</td>\n",
       "    </tr>\n",
       "    <tr>\n",
       "      <td>...</td>\n",
       "      <td>...</td>\n",
       "      <td>...</td>\n",
       "      <td>...</td>\n",
       "      <td>...</td>\n",
       "      <td>...</td>\n",
       "      <td>...</td>\n",
       "      <td>...</td>\n",
       "      <td>...</td>\n",
       "      <td>...</td>\n",
       "      <td>...</td>\n",
       "      <td>...</td>\n",
       "      <td>...</td>\n",
       "      <td>...</td>\n",
       "      <td>...</td>\n",
       "      <td>...</td>\n",
       "      <td>...</td>\n",
       "      <td>...</td>\n",
       "      <td>...</td>\n",
       "      <td>...</td>\n",
       "      <td>...</td>\n",
       "      <td>...</td>\n",
       "    </tr>\n",
       "    <tr>\n",
       "      <td>3846</td>\n",
       "      <td>121.0</td>\n",
       "      <td>35.0</td>\n",
       "      <td>473.0</td>\n",
       "      <td>4000.0</td>\n",
       "      <td>6617</td>\n",
       "      <td>0.0</td>\n",
       "      <td>5.000000e+06</td>\n",
       "      <td>849.0</td>\n",
       "      <td>0</td>\n",
       "      <td>0</td>\n",
       "      <td>...</td>\n",
       "      <td>0</td>\n",
       "      <td>0</td>\n",
       "      <td>0</td>\n",
       "      <td>0</td>\n",
       "      <td>0</td>\n",
       "      <td>0</td>\n",
       "      <td>0.940072</td>\n",
       "      <td>0</td>\n",
       "      <td>1</td>\n",
       "      <td>0</td>\n",
       "    </tr>\n",
       "    <tr>\n",
       "      <td>3847</td>\n",
       "      <td>92.0</td>\n",
       "      <td>89.0</td>\n",
       "      <td>190.0</td>\n",
       "      <td>17000.0</td>\n",
       "      <td>17860</td>\n",
       "      <td>0.0</td>\n",
       "      <td>3.500000e+07</td>\n",
       "      <td>329.0</td>\n",
       "      <td>0</td>\n",
       "      <td>1</td>\n",
       "      <td>...</td>\n",
       "      <td>0</td>\n",
       "      <td>0</td>\n",
       "      <td>0</td>\n",
       "      <td>0</td>\n",
       "      <td>0</td>\n",
       "      <td>0</td>\n",
       "      <td>1.579766</td>\n",
       "      <td>0</td>\n",
       "      <td>0</td>\n",
       "      <td>1</td>\n",
       "    </tr>\n",
       "    <tr>\n",
       "      <td>3848</td>\n",
       "      <td>100.0</td>\n",
       "      <td>24.0</td>\n",
       "      <td>851.0</td>\n",
       "      <td>15000.0</td>\n",
       "      <td>18786</td>\n",
       "      <td>9.0</td>\n",
       "      <td>2.000000e+07</td>\n",
       "      <td>1000.0</td>\n",
       "      <td>0</td>\n",
       "      <td>1</td>\n",
       "      <td>...</td>\n",
       "      <td>0</td>\n",
       "      <td>0</td>\n",
       "      <td>0</td>\n",
       "      <td>0</td>\n",
       "      <td>0</td>\n",
       "      <td>0</td>\n",
       "      <td>2.773065</td>\n",
       "      <td>0</td>\n",
       "      <td>0</td>\n",
       "      <td>1</td>\n",
       "    </tr>\n",
       "    <tr>\n",
       "      <td>3849</td>\n",
       "      <td>92.0</td>\n",
       "      <td>89.0</td>\n",
       "      <td>355.0</td>\n",
       "      <td>729.0</td>\n",
       "      <td>2848</td>\n",
       "      <td>4.0</td>\n",
       "      <td>5.000000e+06</td>\n",
       "      <td>706.0</td>\n",
       "      <td>0</td>\n",
       "      <td>1</td>\n",
       "      <td>...</td>\n",
       "      <td>0</td>\n",
       "      <td>0</td>\n",
       "      <td>0</td>\n",
       "      <td>0</td>\n",
       "      <td>0</td>\n",
       "      <td>0</td>\n",
       "      <td>2.335036</td>\n",
       "      <td>0</td>\n",
       "      <td>0</td>\n",
       "      <td>1</td>\n",
       "    </tr>\n",
       "    <tr>\n",
       "      <td>3851</td>\n",
       "      <td>120.0</td>\n",
       "      <td>18.0</td>\n",
       "      <td>295.0</td>\n",
       "      <td>634.0</td>\n",
       "      <td>1810</td>\n",
       "      <td>11.0</td>\n",
       "      <td>5.000000e+06</td>\n",
       "      <td>420.0</td>\n",
       "      <td>0</td>\n",
       "      <td>0</td>\n",
       "      <td>...</td>\n",
       "      <td>0</td>\n",
       "      <td>0</td>\n",
       "      <td>0</td>\n",
       "      <td>0</td>\n",
       "      <td>0</td>\n",
       "      <td>0</td>\n",
       "      <td>4.154614</td>\n",
       "      <td>1</td>\n",
       "      <td>0</td>\n",
       "      <td>0</td>\n",
       "    </tr>\n",
       "  </tbody>\n",
       "</table>\n",
       "<p>3541 rows × 23 columns</p>\n",
       "</div>"
      ],
      "text/plain": [
       "      duration  director_facebook_likes  actor_3_facebook_likes  \\\n",
       "0        123.0                    446.0                   821.0   \n",
       "3        148.0                    644.0                   326.0   \n",
       "5        124.0                     42.0                   161.0   \n",
       "6        124.0                    150.0                   572.0   \n",
       "7        104.0                      0.0                   517.0   \n",
       "...        ...                      ...                     ...   \n",
       "3846     121.0                     35.0                   473.0   \n",
       "3847      92.0                     89.0                   190.0   \n",
       "3848     100.0                     24.0                   851.0   \n",
       "3849      92.0                     89.0                   355.0   \n",
       "3851     120.0                     18.0                   295.0   \n",
       "\n",
       "      actor_1_facebook_likes  cast_total_facebook_likes  facenumber_in_poster  \\\n",
       "0                    20000.0                      22209                   1.0   \n",
       "3                     1000.0                       2566                   1.0   \n",
       "5                      801.0                       1462                   0.0   \n",
       "6                      874.0                       2667                   0.0   \n",
       "7                      754.0                       2442                   0.0   \n",
       "...                      ...                        ...                   ...   \n",
       "3846                  4000.0                       6617                   0.0   \n",
       "3847                 17000.0                      17860                   0.0   \n",
       "3848                 15000.0                      18786                   9.0   \n",
       "3849                   729.0                       2848                   4.0   \n",
       "3851                   634.0                       1810                  11.0   \n",
       "\n",
       "            budget  actor_2_facebook_likes  Biography  Comedy  ...  \\\n",
       "0     4.800000e+07                  1000.0          0       1  ...   \n",
       "3     2.700000e+07                   809.0          0       1  ...   \n",
       "5     2.000000e+07                   174.0          1       1  ...   \n",
       "6     5.166449e+07                   816.0          1       0  ...   \n",
       "7     6.500000e+06                   567.0          0       0  ...   \n",
       "...            ...                     ...        ...     ...  ...   \n",
       "3846  5.000000e+06                   849.0          0       0  ...   \n",
       "3847  3.500000e+07                   329.0          0       1  ...   \n",
       "3848  2.000000e+07                  1000.0          0       1  ...   \n",
       "3849  5.000000e+06                   706.0          0       1  ...   \n",
       "3851  5.000000e+06                   420.0          0       0  ...   \n",
       "\n",
       "      Mystery_Thriller_Horror  Sci-Fi_Fantasy  Family_Animation  \\\n",
       "0                           0               1                 0   \n",
       "3                           0               0                 0   \n",
       "5                           0               0                 0   \n",
       "6                           0               0                 0   \n",
       "7                           1               0                 0   \n",
       "...                       ...             ...               ...   \n",
       "3846                        0               0                 0   \n",
       "3847                        0               0                 0   \n",
       "3848                        0               0                 0   \n",
       "3849                        0               0                 0   \n",
       "3851                        0               0                 0   \n",
       "\n",
       "      Action_Adventure  History_War  Others  gross_budget_ratio  \\\n",
       "0                    0            0       0            0.981155   \n",
       "3                    1            0       1            2.007407   \n",
       "5                    0            0       1            0.100000   \n",
       "6                    0            0       1            1.546517   \n",
       "7                    0            0       0            4.907538   \n",
       "...                ...          ...     ...                 ...   \n",
       "3846                 0            0       0            0.940072   \n",
       "3847                 0            0       0            1.579766   \n",
       "3848                 0            0       0            2.773065   \n",
       "3849                 0            0       0            2.335036   \n",
       "3851                 0            0       0            4.154614   \n",
       "\n",
       "      content_rating_PG  content_rating_PG-13  content_rating_R  \n",
       "0                     0                     1                 0  \n",
       "3                     0                     0                 1  \n",
       "5                     1                     0                 0  \n",
       "6                     1                     0                 0  \n",
       "7                     0                     0                 0  \n",
       "...                 ...                   ...               ...  \n",
       "3846                  0                     1                 0  \n",
       "3847                  0                     0                 1  \n",
       "3848                  0                     0                 1  \n",
       "3849                  0                     0                 1  \n",
       "3851                  1                     0                 0  \n",
       "\n",
       "[3541 rows x 23 columns]"
      ]
     },
     "execution_count": 6,
     "metadata": {},
     "output_type": "execute_result"
    }
   ],
   "source": [
    "classification1_df=classification_df.drop(columns=['country','language'])\n",
    "df1 = pd.get_dummies(classification1_df, columns=['content_rating'])\n",
    "df1 = df1.drop(columns =['content_rating_Not Rated','content_rating_G','content_rating_X','content_rating_NC-17'])\n",
    "df1 = df1[df1.gross_budget_ratio<=5]\n",
    "df1"
   ]
  },
  {
   "cell_type": "markdown",
   "metadata": {},
   "source": [
    "## 1.1.1) Without log and feature elimination"
   ]
  },
  {
   "cell_type": "markdown",
   "metadata": {},
   "source": [
    "## 1.1.1.1) Seperating into 3 classes"
   ]
  },
  {
   "cell_type": "code",
   "execution_count": 7,
   "metadata": {},
   "outputs": [
    {
     "data": {
      "text/plain": [
       "0    1895\n",
       "1     934\n",
       "2     712\n",
       "Name: gross_budget_ratio, dtype: int64"
      ]
     },
     "execution_count": 7,
     "metadata": {},
     "output_type": "execute_result"
    }
   ],
   "source": [
    "RatioClass = df1['gross_budget_ratio'].transform(lambda x: 0 if x <= 1 else (1 if x <= 2 else 2))\n",
    "RatioClass = RatioClass.to_frame()\n",
    "Counts=RatioClass['gross_budget_ratio'].value_counts()\n",
    "Counts"
   ]
  },
  {
   "cell_type": "code",
   "execution_count": 8,
   "metadata": {},
   "outputs": [],
   "source": [
    "df11 = df1.copy()\n",
    "df11['gross_budget_ratio'] = RatioClass['gross_budget_ratio']"
   ]
  },
  {
   "cell_type": "code",
   "execution_count": 9,
   "metadata": {},
   "outputs": [
    {
     "data": {
      "text/html": [
       "<div>\n",
       "<style scoped>\n",
       "    .dataframe tbody tr th:only-of-type {\n",
       "        vertical-align: middle;\n",
       "    }\n",
       "\n",
       "    .dataframe tbody tr th {\n",
       "        vertical-align: top;\n",
       "    }\n",
       "\n",
       "    .dataframe thead th {\n",
       "        text-align: right;\n",
       "    }\n",
       "</style>\n",
       "<table border=\"1\" class=\"dataframe\">\n",
       "  <thead>\n",
       "    <tr style=\"text-align: right;\">\n",
       "      <th></th>\n",
       "      <th>duration</th>\n",
       "      <th>director_facebook_likes</th>\n",
       "      <th>actor_3_facebook_likes</th>\n",
       "      <th>actor_1_facebook_likes</th>\n",
       "      <th>cast_total_facebook_likes</th>\n",
       "      <th>facenumber_in_poster</th>\n",
       "      <th>budget</th>\n",
       "      <th>actor_2_facebook_likes</th>\n",
       "      <th>Biography</th>\n",
       "      <th>Comedy</th>\n",
       "      <th>...</th>\n",
       "      <th>Mystery_Thriller_Horror</th>\n",
       "      <th>Sci-Fi_Fantasy</th>\n",
       "      <th>Family_Animation</th>\n",
       "      <th>Action_Adventure</th>\n",
       "      <th>History_War</th>\n",
       "      <th>Others</th>\n",
       "      <th>gross_budget_ratio</th>\n",
       "      <th>content_rating_PG</th>\n",
       "      <th>content_rating_PG-13</th>\n",
       "      <th>content_rating_R</th>\n",
       "    </tr>\n",
       "  </thead>\n",
       "  <tbody>\n",
       "    <tr>\n",
       "      <td>0</td>\n",
       "      <td>123.0</td>\n",
       "      <td>446.0</td>\n",
       "      <td>821.0</td>\n",
       "      <td>20000.0</td>\n",
       "      <td>22209</td>\n",
       "      <td>1.0</td>\n",
       "      <td>4.800000e+07</td>\n",
       "      <td>1000.0</td>\n",
       "      <td>0</td>\n",
       "      <td>1</td>\n",
       "      <td>...</td>\n",
       "      <td>0</td>\n",
       "      <td>1</td>\n",
       "      <td>0</td>\n",
       "      <td>0</td>\n",
       "      <td>0</td>\n",
       "      <td>0</td>\n",
       "      <td>0</td>\n",
       "      <td>0</td>\n",
       "      <td>1</td>\n",
       "      <td>0</td>\n",
       "    </tr>\n",
       "    <tr>\n",
       "      <td>3</td>\n",
       "      <td>148.0</td>\n",
       "      <td>644.0</td>\n",
       "      <td>326.0</td>\n",
       "      <td>1000.0</td>\n",
       "      <td>2566</td>\n",
       "      <td>1.0</td>\n",
       "      <td>2.700000e+07</td>\n",
       "      <td>809.0</td>\n",
       "      <td>0</td>\n",
       "      <td>1</td>\n",
       "      <td>...</td>\n",
       "      <td>0</td>\n",
       "      <td>0</td>\n",
       "      <td>0</td>\n",
       "      <td>1</td>\n",
       "      <td>0</td>\n",
       "      <td>1</td>\n",
       "      <td>2</td>\n",
       "      <td>0</td>\n",
       "      <td>0</td>\n",
       "      <td>1</td>\n",
       "    </tr>\n",
       "    <tr>\n",
       "      <td>5</td>\n",
       "      <td>124.0</td>\n",
       "      <td>42.0</td>\n",
       "      <td>161.0</td>\n",
       "      <td>801.0</td>\n",
       "      <td>1462</td>\n",
       "      <td>0.0</td>\n",
       "      <td>2.000000e+07</td>\n",
       "      <td>174.0</td>\n",
       "      <td>1</td>\n",
       "      <td>1</td>\n",
       "      <td>...</td>\n",
       "      <td>0</td>\n",
       "      <td>0</td>\n",
       "      <td>0</td>\n",
       "      <td>0</td>\n",
       "      <td>0</td>\n",
       "      <td>1</td>\n",
       "      <td>0</td>\n",
       "      <td>1</td>\n",
       "      <td>0</td>\n",
       "      <td>0</td>\n",
       "    </tr>\n",
       "    <tr>\n",
       "      <td>6</td>\n",
       "      <td>124.0</td>\n",
       "      <td>150.0</td>\n",
       "      <td>572.0</td>\n",
       "      <td>874.0</td>\n",
       "      <td>2667</td>\n",
       "      <td>0.0</td>\n",
       "      <td>5.166449e+07</td>\n",
       "      <td>816.0</td>\n",
       "      <td>1</td>\n",
       "      <td>0</td>\n",
       "      <td>...</td>\n",
       "      <td>0</td>\n",
       "      <td>0</td>\n",
       "      <td>0</td>\n",
       "      <td>0</td>\n",
       "      <td>0</td>\n",
       "      <td>1</td>\n",
       "      <td>1</td>\n",
       "      <td>1</td>\n",
       "      <td>0</td>\n",
       "      <td>0</td>\n",
       "    </tr>\n",
       "    <tr>\n",
       "      <td>7</td>\n",
       "      <td>104.0</td>\n",
       "      <td>0.0</td>\n",
       "      <td>517.0</td>\n",
       "      <td>754.0</td>\n",
       "      <td>2442</td>\n",
       "      <td>0.0</td>\n",
       "      <td>6.500000e+06</td>\n",
       "      <td>567.0</td>\n",
       "      <td>0</td>\n",
       "      <td>0</td>\n",
       "      <td>...</td>\n",
       "      <td>1</td>\n",
       "      <td>0</td>\n",
       "      <td>0</td>\n",
       "      <td>0</td>\n",
       "      <td>0</td>\n",
       "      <td>0</td>\n",
       "      <td>2</td>\n",
       "      <td>0</td>\n",
       "      <td>0</td>\n",
       "      <td>0</td>\n",
       "    </tr>\n",
       "    <tr>\n",
       "      <td>...</td>\n",
       "      <td>...</td>\n",
       "      <td>...</td>\n",
       "      <td>...</td>\n",
       "      <td>...</td>\n",
       "      <td>...</td>\n",
       "      <td>...</td>\n",
       "      <td>...</td>\n",
       "      <td>...</td>\n",
       "      <td>...</td>\n",
       "      <td>...</td>\n",
       "      <td>...</td>\n",
       "      <td>...</td>\n",
       "      <td>...</td>\n",
       "      <td>...</td>\n",
       "      <td>...</td>\n",
       "      <td>...</td>\n",
       "      <td>...</td>\n",
       "      <td>...</td>\n",
       "      <td>...</td>\n",
       "      <td>...</td>\n",
       "      <td>...</td>\n",
       "    </tr>\n",
       "    <tr>\n",
       "      <td>3846</td>\n",
       "      <td>121.0</td>\n",
       "      <td>35.0</td>\n",
       "      <td>473.0</td>\n",
       "      <td>4000.0</td>\n",
       "      <td>6617</td>\n",
       "      <td>0.0</td>\n",
       "      <td>5.000000e+06</td>\n",
       "      <td>849.0</td>\n",
       "      <td>0</td>\n",
       "      <td>0</td>\n",
       "      <td>...</td>\n",
       "      <td>0</td>\n",
       "      <td>0</td>\n",
       "      <td>0</td>\n",
       "      <td>0</td>\n",
       "      <td>0</td>\n",
       "      <td>0</td>\n",
       "      <td>0</td>\n",
       "      <td>0</td>\n",
       "      <td>1</td>\n",
       "      <td>0</td>\n",
       "    </tr>\n",
       "    <tr>\n",
       "      <td>3847</td>\n",
       "      <td>92.0</td>\n",
       "      <td>89.0</td>\n",
       "      <td>190.0</td>\n",
       "      <td>17000.0</td>\n",
       "      <td>17860</td>\n",
       "      <td>0.0</td>\n",
       "      <td>3.500000e+07</td>\n",
       "      <td>329.0</td>\n",
       "      <td>0</td>\n",
       "      <td>1</td>\n",
       "      <td>...</td>\n",
       "      <td>0</td>\n",
       "      <td>0</td>\n",
       "      <td>0</td>\n",
       "      <td>0</td>\n",
       "      <td>0</td>\n",
       "      <td>0</td>\n",
       "      <td>1</td>\n",
       "      <td>0</td>\n",
       "      <td>0</td>\n",
       "      <td>1</td>\n",
       "    </tr>\n",
       "    <tr>\n",
       "      <td>3848</td>\n",
       "      <td>100.0</td>\n",
       "      <td>24.0</td>\n",
       "      <td>851.0</td>\n",
       "      <td>15000.0</td>\n",
       "      <td>18786</td>\n",
       "      <td>9.0</td>\n",
       "      <td>2.000000e+07</td>\n",
       "      <td>1000.0</td>\n",
       "      <td>0</td>\n",
       "      <td>1</td>\n",
       "      <td>...</td>\n",
       "      <td>0</td>\n",
       "      <td>0</td>\n",
       "      <td>0</td>\n",
       "      <td>0</td>\n",
       "      <td>0</td>\n",
       "      <td>0</td>\n",
       "      <td>2</td>\n",
       "      <td>0</td>\n",
       "      <td>0</td>\n",
       "      <td>1</td>\n",
       "    </tr>\n",
       "    <tr>\n",
       "      <td>3849</td>\n",
       "      <td>92.0</td>\n",
       "      <td>89.0</td>\n",
       "      <td>355.0</td>\n",
       "      <td>729.0</td>\n",
       "      <td>2848</td>\n",
       "      <td>4.0</td>\n",
       "      <td>5.000000e+06</td>\n",
       "      <td>706.0</td>\n",
       "      <td>0</td>\n",
       "      <td>1</td>\n",
       "      <td>...</td>\n",
       "      <td>0</td>\n",
       "      <td>0</td>\n",
       "      <td>0</td>\n",
       "      <td>0</td>\n",
       "      <td>0</td>\n",
       "      <td>0</td>\n",
       "      <td>2</td>\n",
       "      <td>0</td>\n",
       "      <td>0</td>\n",
       "      <td>1</td>\n",
       "    </tr>\n",
       "    <tr>\n",
       "      <td>3851</td>\n",
       "      <td>120.0</td>\n",
       "      <td>18.0</td>\n",
       "      <td>295.0</td>\n",
       "      <td>634.0</td>\n",
       "      <td>1810</td>\n",
       "      <td>11.0</td>\n",
       "      <td>5.000000e+06</td>\n",
       "      <td>420.0</td>\n",
       "      <td>0</td>\n",
       "      <td>0</td>\n",
       "      <td>...</td>\n",
       "      <td>0</td>\n",
       "      <td>0</td>\n",
       "      <td>0</td>\n",
       "      <td>0</td>\n",
       "      <td>0</td>\n",
       "      <td>0</td>\n",
       "      <td>2</td>\n",
       "      <td>1</td>\n",
       "      <td>0</td>\n",
       "      <td>0</td>\n",
       "    </tr>\n",
       "  </tbody>\n",
       "</table>\n",
       "<p>3541 rows × 23 columns</p>\n",
       "</div>"
      ],
      "text/plain": [
       "      duration  director_facebook_likes  actor_3_facebook_likes  \\\n",
       "0        123.0                    446.0                   821.0   \n",
       "3        148.0                    644.0                   326.0   \n",
       "5        124.0                     42.0                   161.0   \n",
       "6        124.0                    150.0                   572.0   \n",
       "7        104.0                      0.0                   517.0   \n",
       "...        ...                      ...                     ...   \n",
       "3846     121.0                     35.0                   473.0   \n",
       "3847      92.0                     89.0                   190.0   \n",
       "3848     100.0                     24.0                   851.0   \n",
       "3849      92.0                     89.0                   355.0   \n",
       "3851     120.0                     18.0                   295.0   \n",
       "\n",
       "      actor_1_facebook_likes  cast_total_facebook_likes  facenumber_in_poster  \\\n",
       "0                    20000.0                      22209                   1.0   \n",
       "3                     1000.0                       2566                   1.0   \n",
       "5                      801.0                       1462                   0.0   \n",
       "6                      874.0                       2667                   0.0   \n",
       "7                      754.0                       2442                   0.0   \n",
       "...                      ...                        ...                   ...   \n",
       "3846                  4000.0                       6617                   0.0   \n",
       "3847                 17000.0                      17860                   0.0   \n",
       "3848                 15000.0                      18786                   9.0   \n",
       "3849                   729.0                       2848                   4.0   \n",
       "3851                   634.0                       1810                  11.0   \n",
       "\n",
       "            budget  actor_2_facebook_likes  Biography  Comedy  ...  \\\n",
       "0     4.800000e+07                  1000.0          0       1  ...   \n",
       "3     2.700000e+07                   809.0          0       1  ...   \n",
       "5     2.000000e+07                   174.0          1       1  ...   \n",
       "6     5.166449e+07                   816.0          1       0  ...   \n",
       "7     6.500000e+06                   567.0          0       0  ...   \n",
       "...            ...                     ...        ...     ...  ...   \n",
       "3846  5.000000e+06                   849.0          0       0  ...   \n",
       "3847  3.500000e+07                   329.0          0       1  ...   \n",
       "3848  2.000000e+07                  1000.0          0       1  ...   \n",
       "3849  5.000000e+06                   706.0          0       1  ...   \n",
       "3851  5.000000e+06                   420.0          0       0  ...   \n",
       "\n",
       "      Mystery_Thriller_Horror  Sci-Fi_Fantasy  Family_Animation  \\\n",
       "0                           0               1                 0   \n",
       "3                           0               0                 0   \n",
       "5                           0               0                 0   \n",
       "6                           0               0                 0   \n",
       "7                           1               0                 0   \n",
       "...                       ...             ...               ...   \n",
       "3846                        0               0                 0   \n",
       "3847                        0               0                 0   \n",
       "3848                        0               0                 0   \n",
       "3849                        0               0                 0   \n",
       "3851                        0               0                 0   \n",
       "\n",
       "      Action_Adventure  History_War  Others  gross_budget_ratio  \\\n",
       "0                    0            0       0                   0   \n",
       "3                    1            0       1                   2   \n",
       "5                    0            0       1                   0   \n",
       "6                    0            0       1                   1   \n",
       "7                    0            0       0                   2   \n",
       "...                ...          ...     ...                 ...   \n",
       "3846                 0            0       0                   0   \n",
       "3847                 0            0       0                   1   \n",
       "3848                 0            0       0                   2   \n",
       "3849                 0            0       0                   2   \n",
       "3851                 0            0       0                   2   \n",
       "\n",
       "      content_rating_PG  content_rating_PG-13  content_rating_R  \n",
       "0                     0                     1                 0  \n",
       "3                     0                     0                 1  \n",
       "5                     1                     0                 0  \n",
       "6                     1                     0                 0  \n",
       "7                     0                     0                 0  \n",
       "...                 ...                   ...               ...  \n",
       "3846                  0                     1                 0  \n",
       "3847                  0                     0                 1  \n",
       "3848                  0                     0                 1  \n",
       "3849                  0                     0                 1  \n",
       "3851                  1                     0                 0  \n",
       "\n",
       "[3541 rows x 23 columns]"
      ]
     },
     "execution_count": 9,
     "metadata": {},
     "output_type": "execute_result"
    }
   ],
   "source": [
    "df11"
   ]
  },
  {
   "cell_type": "code",
   "execution_count": 10,
   "metadata": {},
   "outputs": [
    {
     "name": "stdout",
     "output_type": "stream",
     "text": [
      "Dimensionality of X_train: (2478, 22)\n",
      "Dimensionality of X_test : (1063, 22)\n",
      "Dimensionality of y_train: (2478,)\n",
      "Dimensionality of y_test : (1063,)\n"
     ]
    }
   ],
   "source": [
    "X = df11.drop(columns=['gross_budget_ratio'])\n",
    "y = df11['gross_budget_ratio']\n",
    "X_train, X_test, y_train, y_test = train_test_split(X, y, stratify=y, test_size=0.3, random_state=10) \n",
    "print(f\"Dimensionality of X_train: {X_train.shape}\")\n",
    "print(f\"Dimensionality of X_test : {X_test.shape}\")\n",
    "print(f\"Dimensionality of y_train: {y_train.shape}\")\n",
    "print(f\"Dimensionality of y_test : {y_test.shape}\")"
   ]
  },
  {
   "cell_type": "markdown",
   "metadata": {},
   "source": [
    "### 1.1.1.1.1) Multi-Class Logistic Regression"
   ]
  },
  {
   "cell_type": "code",
   "execution_count": 11,
   "metadata": {},
   "outputs": [],
   "source": [
    "smote=SMOTE('minority')\n",
    "X_s, y_s = smote.fit_sample(X_train,y_train)\n",
    "X_sm, y_sm = smote.fit_sample(X_s,y_s)\n",
    "X_sm_train, y_sm_train = shuffle(X_sm, y_sm, random_state=10)"
   ]
  },
  {
   "cell_type": "code",
   "execution_count": 12,
   "metadata": {},
   "outputs": [
    {
     "name": "stdout",
     "output_type": "stream",
     "text": [
      "MLR best parameters: {'C': 10, 'penalty': 'l2'}\n",
      "MLR Train score: 0.5417295123177476\n",
      "MLR Test score: 0.44967074317968014\n"
     ]
    }
   ],
   "source": [
    "C_List = [0.001,0.01,0.1,1,10,100,1000]\n",
    "penalty = ['l2','none']\n",
    "parameters = {'C': C_List,'penalty':penalty}\n",
    "MLR = LogisticRegression(multi_class='multinomial', solver='newton-cg')\n",
    "clf1 = GridSearchCV(MLR, parameters, cv=5, verbose=0,scoring ='accuracy')\n",
    "clf1.fit(X_sm_train, y_sm_train)\n",
    "\n",
    "y_pred = clf1.predict(X_test)\n",
    "print(\"MLR best parameters:\", clf1.best_params_)\n",
    "print(\"MLR Train score:\", clf1.score(X_sm_train, y_sm_train))\n",
    "print(\"MLR Test score:\", clf1.score(X_test, y_test))"
   ]
  },
  {
   "cell_type": "code",
   "execution_count": 13,
   "metadata": {},
   "outputs": [
    {
     "data": {
      "text/plain": [
       "Text(0.5, 1, 'Multiclass Logistic Regression')"
      ]
     },
     "execution_count": 13,
     "metadata": {},
     "output_type": "execute_result"
    },
    {
     "data": {
      "image/png": "[encoded data removed]",
      "text/plain": [
       "<Figure size 432x288 with 2 Axes>"
      ]
     },
     "metadata": {
      "needs_background": "light"
     },
     "output_type": "display_data"
    }
   ],
   "source": [
    "ax = plt.subplot()\n",
    "Model_Predictions = clf1.predict(X_test)\n",
    "Model_Confusion_Matrix = confusion_matrix(Model_Predictions,y_test)\n",
    "sns.heatmap(Model_Confusion_Matrix,annot=True,fmt = \"d\",square = True,ax = ax, linewidths = 1,linecolor = \"w\",cmap = \"Pastel2\")\n",
    "ax.set_xlabel('True labels')\n",
    "ax.set_ylabel('Predicted labels')\n",
    "ax.xaxis.set_ticklabels([\"Loss\",\"Low Profit\",'High Profit'])\n",
    "ax.yaxis.set_ticklabels([\"Loss\",\"Low Profit\",'High Profit'], va=\"center\")\n",
    "b, t = plt.ylim() \n",
    "b += 0.5\n",
    "t -= 0.5\n",
    "plt.ylim(b, t)\n",
    "plt.title('Multiclass Logistic Regression')"
   ]
  },
  {
   "cell_type": "markdown",
   "metadata": {},
   "source": [
    "### 1.1.1.1.2) Decision Tree Classifier"
   ]
  },
  {
   "cell_type": "code",
   "execution_count": 14,
   "metadata": {},
   "outputs": [
    {
     "name": "stdout",
     "output_type": "stream",
     "text": [
      "DTC best parameters: {'criterion': 'gini', 'max_depth': 100, 'min_samples_leaf': 0.0005, 'min_samples_split': 0.5}\n",
      "DTC Train score: 0.5351089588377724\n",
      "DTC Test score: 0.535277516462841\n"
     ]
    }
   ],
   "source": [
    "DTSplitList=[0.001,0.01,0.05,0.1,0.5,0.99]\n",
    "DTLeafList=[0.0005,0.005,0.025,0.05,0.1,0.25,0.5]\n",
    "criterion =['gini','entropy']\n",
    "parameters = {'criterion':criterion,'max_depth':list(range(100,0,-3)),'min_samples_leaf': DTLeafList, 'min_samples_split':DTSplitList}\n",
    "DTC = DecisionTreeClassifier(random_state=10)\n",
    "clf2 = GridSearchCV(DTC, parameters, cv=5, verbose=0,scoring ='accuracy')\n",
    "clf2.fit(X_train, y_train)\n",
    "\n",
    "y_pred = clf2.predict(X_test)\n",
    "print(\"DTC best parameters:\", clf2.best_params_)\n",
    "print(\"DTC Train score:\", clf2.score(X_train, y_train))\n",
    "print(\"DTC Test score:\", clf2.score(X_test, y_test))"
   ]
  },
  {
   "cell_type": "code",
   "execution_count": 15,
   "metadata": {},
   "outputs": [
    {
     "data": {
      "text/plain": [
       "Text(0.5, 1, 'Decision Tree Classifier')"
      ]
     },
     "execution_count": 15,
     "metadata": {},
     "output_type": "execute_result"
    },
    {
     "data": {
      "image/png": "[encoded data removed]",
      "text/plain": [
       "<Figure size 432x288 with 2 Axes>"
      ]
     },
     "metadata": {
      "needs_background": "light"
     },
     "output_type": "display_data"
    }
   ],
   "source": [
    "ax = plt.subplot()\n",
    "Model_Predictions = clf2.predict(X_test)\n",
    "Model_Confusion_Matrix = confusion_matrix(Model_Predictions,y_test)\n",
    "sns.heatmap(Model_Confusion_Matrix,annot=True,fmt = \"d\",square = True,ax = ax, linewidths = 1,linecolor = \"w\",cmap = \"Pastel2\")\n",
    "ax.set_xlabel('True labels')\n",
    "ax.set_ylabel('Predicted labels')\n",
    "ax.xaxis.set_ticklabels([\"Loss\",\"Low Profit\",'High Profit'])\n",
    "ax.yaxis.set_ticklabels([\"Loss\",\"Low Profit\",'High Profit'], va=\"center\")\n",
    "b, t = plt.ylim() \n",
    "b += 0.5\n",
    "t -= 0.5\n",
    "plt.ylim(b, t)\n",
    "plt.title('Decision Tree Classifier')"
   ]
  },
  {
   "cell_type": "markdown",
   "metadata": {},
   "source": [
    "### 1.1.1.1.3) Random Forest Classifier"
   ]
  },
  {
   "cell_type": "code",
   "execution_count": 16,
   "metadata": {},
   "outputs": [
    {
     "name": "stdout",
     "output_type": "stream",
     "text": [
      "RFC best parameters: {'criterion': 'entropy', 'max_depth': 100, 'n_estimators': 100}\n",
      "RFC Train score: 1.0\n",
      "RFC Test score: 0.5456255879586077\n"
     ]
    }
   ],
   "source": [
    "RFEstimatorList = [25,50,100,200]\n",
    "criterion =['gini','entropy']\n",
    "parameters = {'criterion':criterion,'max_depth':list(range(100,0,-10)),'n_estimators':RFEstimatorList}\n",
    "RFC = RandomForestClassifier(random_state=10)\n",
    "clf3 = GridSearchCV(RFC, parameters, cv=5, verbose=0,scoring ='accuracy')\n",
    "clf3.fit(X_train, y_train)\n",
    "\n",
    "y_pred = clf3.predict(X_test)\n",
    "print(\"RFC best parameters:\", clf3.best_params_)\n",
    "print(\"RFC Train score:\", clf3.score(X_train, y_train))\n",
    "print(\"RFC Test score:\", clf3.score(X_test, y_test))"
   ]
  },
  {
   "cell_type": "code",
   "execution_count": 17,
   "metadata": {},
   "outputs": [
    {
     "data": {
      "text/plain": [
       "Text(0.5, 1, 'Random Forest Classifier')"
      ]
     },
     "execution_count": 17,
     "metadata": {},
     "output_type": "execute_result"
    },
    {
     "data": {
      "image/png": "[encoded data removed]",
      "text/plain": [
       "<Figure size 432x288 with 2 Axes>"
      ]
     },
     "metadata": {
      "needs_background": "light"
     },
     "output_type": "display_data"
    }
   ],
   "source": [
    "ax = plt.subplot()\n",
    "Model_Predictions = clf3.predict(X_test)\n",
    "Model_Confusion_Matrix = confusion_matrix(Model_Predictions,y_test)\n",
    "sns.heatmap(Model_Confusion_Matrix,annot=True,fmt = \"d\",square = True,ax = ax, linewidths = 1,linecolor = \"w\",cmap = \"Pastel2\")\n",
    "ax.set_xlabel('True labels')\n",
    "ax.set_ylabel('Predicted labels')\n",
    "ax.xaxis.set_ticklabels([\"Loss\",\"Low Profit\",'High Profit'])\n",
    "ax.yaxis.set_ticklabels([\"Loss\",\"Low Profit\",'High Profit'], va=\"center\")\n",
    "b, t = plt.ylim() \n",
    "b += 0.5\n",
    "t -= 0.5\n",
    "plt.ylim(b, t)\n",
    "plt.title('Random Forest Classifier')"
   ]
  },
  {
   "cell_type": "markdown",
   "metadata": {},
   "source": [
    "### 1.1.1.1.4) KNN Classifier"
   ]
  },
  {
   "cell_type": "code",
   "execution_count": 18,
   "metadata": {},
   "outputs": [],
   "source": [
    "MMScaler = MinMaxScaler()\n",
    "X_train_scaled = MMScaler.fit_transform(X_train)\n",
    "X_test_scaled = MMScaler.transform(X_test)"
   ]
  },
  {
   "cell_type": "code",
   "execution_count": 19,
   "metadata": {},
   "outputs": [
    {
     "name": "stdout",
     "output_type": "stream",
     "text": [
      "KNN best parameters: {'n_neighbors': 50}\n",
      "KNN Train score: 0.5460048426150121\n",
      "KNN Test score: 0.5390404515522107\n"
     ]
    }
   ],
   "source": [
    "Neighbor_List=[3,5,10,20,50]\n",
    "parameters = {'n_neighbors':Neighbor_List}\n",
    "KNNC = KNeighborsClassifier()\n",
    "clf4 = GridSearchCV(KNNC, parameters, cv=5, verbose=0,scoring ='accuracy')\n",
    "clf4.fit(X_train_scaled, y_train)\n",
    "\n",
    "y_pred = clf4.predict(X_test_scaled)\n",
    "print(\"KNN best parameters:\", clf4.best_params_)\n",
    "print(\"KNN Train score:\", clf4.score(X_train_scaled, y_train))\n",
    "print(\"KNN Test score:\", clf4.score(X_test_scaled, y_test))"
   ]
  },
  {
   "cell_type": "code",
   "execution_count": 20,
   "metadata": {},
   "outputs": [
    {
     "data": {
      "text/plain": [
       "Text(0.5, 1, 'KNN Classifier')"
      ]
     },
     "execution_count": 20,
     "metadata": {},
     "output_type": "execute_result"
    },
    {
     "data": {
      "image/png": "[encoded data removed]",
      "text/plain": [
       "<Figure size 432x288 with 2 Axes>"
      ]
     },
     "metadata": {
      "needs_background": "light"
     },
     "output_type": "display_data"
    }
   ],
   "source": [
    "ax = plt.subplot()\n",
    "Model_Predictions = clf4.predict(X_test_scaled)\n",
    "Model_Confusion_Matrix = confusion_matrix(Model_Predictions,y_test)\n",
    "sns.heatmap(Model_Confusion_Matrix,annot=True,fmt = \"d\",square = True,ax = ax, linewidths = 1,linecolor = \"w\",cmap = \"Pastel2\")\n",
    "ax.set_xlabel('True labels')\n",
    "ax.set_ylabel('Predicted labels')\n",
    "ax.xaxis.set_ticklabels([\"Loss\",\"Low Profit\",'High Profit'])\n",
    "ax.yaxis.set_ticklabels([\"Loss\",\"Low Profit\",'High Profit'], va=\"center\")\n",
    "b, t = plt.ylim() \n",
    "b += 0.5\n",
    "t -= 0.5\n",
    "plt.ylim(b, t)\n",
    "plt.title('KNN Classifier')"
   ]
  },
  {
   "cell_type": "markdown",
   "metadata": {},
   "source": [
    "### 1.1.1.1.5) Gaussian Naive Bayes Classifier"
   ]
  },
  {
   "cell_type": "code",
   "execution_count": 21,
   "metadata": {},
   "outputs": [
    {
     "name": "stdout",
     "output_type": "stream",
     "text": [
      "GNB Train score: 0.5141242937853108\n",
      "GNB Test score: 0.5051740357478833\n"
     ]
    }
   ],
   "source": [
    "GNB = GaussianNB()\n",
    "GNB.fit(X_train,y_train)\n",
    "    \n",
    "y_pred = GNB.predict(X_test)\n",
    "print(\"GNB Train score:\", GNB.score(X_train, y_train))\n",
    "print(\"GNB Test score:\", GNB.score(X_test, y_test))"
   ]
  },
  {
   "cell_type": "code",
   "execution_count": 22,
   "metadata": {},
   "outputs": [
    {
     "data": {
      "text/plain": [
       "Text(0.5, 1, 'Gaussian Naive Bayes Classifier')"
      ]
     },
     "execution_count": 22,
     "metadata": {},
     "output_type": "execute_result"
    },
    {
     "data": {
      "image/png": "[encoded data removed]",
      "text/plain": [
       "<Figure size 432x288 with 2 Axes>"
      ]
     },
     "metadata": {
      "needs_background": "light"
     },
     "output_type": "display_data"
    }
   ],
   "source": [
    "ax = plt.subplot()\n",
    "Model_Predictions = GNB.predict(X_test)\n",
    "Model_Confusion_Matrix = confusion_matrix(Model_Predictions,y_test)\n",
    "sns.heatmap(Model_Confusion_Matrix,annot=True,fmt = \"d\",square = True,ax = ax, linewidths = 1,linecolor = \"w\",cmap = \"Pastel2\")\n",
    "ax.set_xlabel('True labels')\n",
    "ax.set_ylabel('Predicted labels')\n",
    "ax.xaxis.set_ticklabels([\"Loss\",\"Low Profit\",'High Profit'])\n",
    "ax.yaxis.set_ticklabels([\"Loss\",\"Low Profit\",'High Profit'], va=\"center\")\n",
    "b, t = plt.ylim() \n",
    "b += 0.5\n",
    "t -= 0.5\n",
    "plt.ylim(b, t)\n",
    "plt.title('Gaussian Naive Bayes Classifier')"
   ]
  },
  {
   "cell_type": "markdown",
   "metadata": {},
   "source": [
    "## 1.1.1.2) Seperating into 2 classes"
   ]
  },
  {
   "cell_type": "code",
   "execution_count": 23,
   "metadata": {},
   "outputs": [
    {
     "data": {
      "text/plain": [
       "0    1895\n",
       "1    1646\n",
       "Name: gross_budget_ratio, dtype: int64"
      ]
     },
     "execution_count": 23,
     "metadata": {},
     "output_type": "execute_result"
    }
   ],
   "source": [
    "RatioClass = df1['gross_budget_ratio'].transform(lambda x: 0 if x <= 1 else 1)\n",
    "RatioClass = RatioClass.to_frame()\n",
    "Counts=RatioClass['gross_budget_ratio'].value_counts()\n",
    "Counts"
   ]
  },
  {
   "cell_type": "code",
   "execution_count": 24,
   "metadata": {},
   "outputs": [],
   "source": [
    "df12 = df1.copy()\n",
    "df12['gross_budget_ratio'] = RatioClass['gross_budget_ratio']"
   ]
  },
  {
   "cell_type": "code",
   "execution_count": 25,
   "metadata": {},
   "outputs": [
    {
     "name": "stdout",
     "output_type": "stream",
     "text": [
      "Dimensionality of X_train: (2478, 22)\n",
      "Dimensionality of X_test : (1063, 22)\n",
      "Dimensionality of y_train: (2478,)\n",
      "Dimensionality of y_test : (1063,)\n"
     ]
    }
   ],
   "source": [
    "X = df12.drop(columns=['gross_budget_ratio'])\n",
    "y = df12['gross_budget_ratio']\n",
    "X_train, X_test, y_train, y_test = train_test_split(X, y, stratify=y, test_size=0.3, random_state=10) \n",
    "print(f\"Dimensionality of X_train: {X_train.shape}\")\n",
    "print(f\"Dimensionality of X_test : {X_test.shape}\")\n",
    "print(f\"Dimensionality of y_train: {y_train.shape}\")\n",
    "print(f\"Dimensionality of y_test : {y_test.shape}\")"
   ]
  },
  {
   "cell_type": "markdown",
   "metadata": {},
   "source": [
    "### 1.1.1.2.1) Logistic Regression"
   ]
  },
  {
   "cell_type": "code",
   "execution_count": 26,
   "metadata": {},
   "outputs": [
    {
     "name": "stdout",
     "output_type": "stream",
     "text": [
      "LR best parameters: {'C': 0.01, 'penalty': 'l1'}\n",
      "LR Train score: 0.8989441930618401\n",
      "LR Test score: 0.8857644991212654\n",
      "LR Test Accuracy score: 0.5465663217309501\n"
     ]
    }
   ],
   "source": [
    "C_List = [0.001,0.01,0.1,1,10,100,1000]\n",
    "penalty = ['l1','l2']\n",
    "parameters = {'C': C_List,'penalty':penalty}\n",
    "LR = LogisticRegression( solver='liblinear')\n",
    "clf1 = GridSearchCV(LR, parameters, cv=5, verbose=0,scoring =make_scorer(recall_score,pos_label=0))\n",
    "clf1.fit(X_train, y_train)\n",
    "\n",
    "y_pred = clf1.predict(X_test)\n",
    "print(\"LR best parameters:\", clf1.best_params_)\n",
    "print(\"LR Train score:\", clf1.score(X_train, y_train))\n",
    "print(\"LR Test score:\", clf1.score(X_test, y_test))\n",
    "print(\"LR Test Accuracy score:\", accuracy_score(y_pred, y_test))"
   ]
  },
  {
   "cell_type": "code",
   "execution_count": 27,
   "metadata": {},
   "outputs": [
    {
     "data": {
      "text/plain": [
       "Text(0.5, 1, 'Logistic Regression')"
      ]
     },
     "execution_count": 27,
     "metadata": {},
     "output_type": "execute_result"
    },
    {
     "data": {
      "image/png": "[encoded data removed]",
      "text/plain": [
       "<Figure size 432x288 with 2 Axes>"
      ]
     },
     "metadata": {
      "needs_background": "light"
     },
     "output_type": "display_data"
    }
   ],
   "source": [
    "ax = plt.subplot()\n",
    "Model_Predictions = clf1.predict(X_test)\n",
    "Model_Confusion_Matrix = confusion_matrix(Model_Predictions,y_test)\n",
    "sns.heatmap(Model_Confusion_Matrix,annot=True,fmt = \"d\",square = True,ax = ax, linewidths = 1,linecolor = \"w\",cmap = \"Pastel2\")\n",
    "ax.set_xlabel('True labels')\n",
    "ax.set_ylabel('Predicted labels')\n",
    "ax.xaxis.set_ticklabels([\"Loss\",\"Profit\"])\n",
    "ax.yaxis.set_ticklabels([\"Loss\",\"Profit\"], va=\"center\")\n",
    "b, t = plt.ylim() \n",
    "b += 0.5\n",
    "t -= 0.5\n",
    "plt.ylim(b, t)\n",
    "plt.title('Logistic Regression')"
   ]
  },
  {
   "cell_type": "markdown",
   "metadata": {},
   "source": [
    "### 1.1.1.2.2) Decision Tree Classifier"
   ]
  },
  {
   "cell_type": "code",
   "execution_count": 28,
   "metadata": {},
   "outputs": [
    {
     "name": "stdout",
     "output_type": "stream",
     "text": [
      "DTC best parameters: {'criterion': 'gini', 'max_depth': 100, 'min_samples_leaf': 0.5, 'min_samples_split': 0.001}\n",
      "DTC Train score: 0.5565610859728507\n",
      "DTC Test score: 0.6028119507908611\n",
      "DTC Test Accuracy score: 0.5823142050799623\n"
     ]
    }
   ],
   "source": [
    "DTSplitList=[0.001,0.01,0.05,0.1,0.5,0.99]\n",
    "DTLeafList=[0.0005,0.005,0.025,0.05,0.1,0.25,0.5]\n",
    "criterion =['gini','entropy']\n",
    "parameters = {'criterion':criterion,'max_depth':list(range(100,0,-3)),'min_samples_leaf': DTLeafList, 'min_samples_split':DTSplitList}\n",
    "DTC = DecisionTreeClassifier(random_state=10)\n",
    "clf2 = GridSearchCV(DTC, parameters, cv=5, verbose=0,scoring =make_scorer(recall_score,pos_label=0))\n",
    "clf2.fit(X_train, y_train)\n",
    "\n",
    "y_pred = clf2.predict(X_test)\n",
    "print(\"DTC best parameters:\", clf2.best_params_)\n",
    "print(\"DTC Train score:\", clf2.score(X_train, y_train))\n",
    "print(\"DTC Test score:\", clf2.score(X_test, y_test))\n",
    "print(\"DTC Test Accuracy score:\", accuracy_score(y_pred, y_test))"
   ]
  },
  {
   "cell_type": "code",
   "execution_count": 29,
   "metadata": {},
   "outputs": [
    {
     "data": {
      "text/plain": [
       "Text(0.5, 1, 'Decision Tree Classifier')"
      ]
     },
     "execution_count": 29,
     "metadata": {},
     "output_type": "execute_result"
    },
    {
     "data": {
      "image/png": "[encoded data removed]",
      "text/plain": [
       "<Figure size 432x288 with 2 Axes>"
      ]
     },
     "metadata": {
      "needs_background": "light"
     },
     "output_type": "display_data"
    }
   ],
   "source": [
    "ax = plt.subplot()\n",
    "Model_Predictions = clf2.predict(X_test)\n",
    "Model_Confusion_Matrix = confusion_matrix(Model_Predictions,y_test)\n",
    "sns.heatmap(Model_Confusion_Matrix,annot=True,fmt = \"d\",square = True,ax = ax, linewidths = 1,linecolor = \"w\",cmap = \"Pastel2\")\n",
    "ax.set_xlabel('True labels')\n",
    "ax.set_ylabel('Predicted labels')\n",
    "ax.xaxis.set_ticklabels([\"Loss\",\"Profit\"])\n",
    "ax.yaxis.set_ticklabels([\"Loss\",\"Profit\"], va=\"center\")\n",
    "b, t = plt.ylim() \n",
    "b += 0.5\n",
    "t -= 0.5\n",
    "plt.ylim(b, t)\n",
    "plt.title('Decision Tree Classifier')"
   ]
  },
  {
   "cell_type": "markdown",
   "metadata": {},
   "source": [
    "### 1.1.1.2.3) Random Forest Classifier"
   ]
  },
  {
   "cell_type": "code",
   "execution_count": 30,
   "metadata": {},
   "outputs": [
    {
     "name": "stdout",
     "output_type": "stream",
     "text": [
      "RFC best parameters: {'criterion': 'entropy', 'max_depth': 10, 'n_estimators': 200}\n",
      "RFC Train score: 0.9577677224736049\n",
      "RFC Test score: 0.7486818980667839\n",
      "RFC Test Accuracy score: 0.6237064910630291\n"
     ]
    }
   ],
   "source": [
    "RFEstimatorList = [25,50,100,200]\n",
    "criterion =['gini','entropy']\n",
    "parameters = {'criterion':criterion,'max_depth':list(range(100,0,-10)),'n_estimators':RFEstimatorList}\n",
    "\n",
    "RFC = RandomForestClassifier(random_state=10)\n",
    "clf3 = GridSearchCV(RFC, parameters, cv=5, verbose=0,scoring =make_scorer(recall_score,pos_label=0))\n",
    "clf3.fit(X_train, y_train)\n",
    "\n",
    "y_pred = clf3.predict(X_test)\n",
    "print(\"RFC best parameters:\", clf3.best_params_)\n",
    "print(\"RFC Train score:\", clf3.score(X_train, y_train))\n",
    "print(\"RFC Test score:\", clf3.score(X_test, y_test))\n",
    "print(\"RFC Test Accuracy score:\", accuracy_score(y_pred, y_test))"
   ]
  },
  {
   "cell_type": "code",
   "execution_count": 31,
   "metadata": {},
   "outputs": [
    {
     "data": {
      "text/plain": [
       "Text(0.5, 1, 'Random Forest Classifier')"
      ]
     },
     "execution_count": 31,
     "metadata": {},
     "output_type": "execute_result"
    },
    {
     "data": {
      "image/png": "[encoded data removed]",
      "text/plain": [
       "<Figure size 432x288 with 2 Axes>"
      ]
     },
     "metadata": {
      "needs_background": "light"
     },
     "output_type": "display_data"
    }
   ],
   "source": [
    "ax = plt.subplot()\n",
    "Model_Predictions = clf3.predict(X_test)\n",
    "Model_Confusion_Matrix = confusion_matrix(Model_Predictions,y_test)\n",
    "sns.heatmap(Model_Confusion_Matrix,annot=True,fmt = \"d\",square = True,ax = ax, linewidths = 1,linecolor = \"w\",cmap = \"Pastel2\")\n",
    "ax.set_xlabel('True labels')\n",
    "ax.set_ylabel('Predicted labels')\n",
    "ax.xaxis.set_ticklabels([\"Loss\",\"Profit\"])\n",
    "ax.yaxis.set_ticklabels([\"Loss\",\"Profit\"], va=\"center\")\n",
    "b, t = plt.ylim() \n",
    "b += 0.5\n",
    "t -= 0.5\n",
    "plt.ylim(b, t)\n",
    "plt.title('Random Forest Classifier')"
   ]
  },
  {
   "cell_type": "markdown",
   "metadata": {},
   "source": [
    "### 1.1.1.2.4) KNN Classifier"
   ]
  },
  {
   "cell_type": "code",
   "execution_count": 32,
   "metadata": {},
   "outputs": [],
   "source": [
    "MMScaler = MinMaxScaler()\n",
    "X_train_scaled = MMScaler.fit_transform(X_train)\n",
    "X_test_scaled = MMScaler.transform(X_test)"
   ]
  },
  {
   "cell_type": "code",
   "execution_count": 33,
   "metadata": {},
   "outputs": [
    {
     "name": "stdout",
     "output_type": "stream",
     "text": [
      "KNN best parameters: {'n_neighbors': 20}\n",
      "KNN Train score: 0.7458521870286576\n",
      "KNN Test score: 0.7082601054481547\n",
      "KNN Test Accuracy score: 0.5954844778927564\n"
     ]
    }
   ],
   "source": [
    "Neighbor_List=[3,5,10,20,50]\n",
    "parameters = {'n_neighbors':Neighbor_List}\n",
    "KNNC = KNeighborsClassifier()\n",
    "clf4 = GridSearchCV(KNNC, parameters, cv=5, verbose=0,scoring =make_scorer(recall_score,pos_label=0))\n",
    "clf4.fit(X_train_scaled, y_train)\n",
    "\n",
    "y_pred = clf4.predict(X_test_scaled)\n",
    "print(\"KNN best parameters:\", clf4.best_params_)\n",
    "print(\"KNN Train score:\", clf4.score(X_train_scaled, y_train))\n",
    "print(\"KNN Test score:\", clf4.score(X_test_scaled, y_test))\n",
    "print(\"KNN Test Accuracy score:\", accuracy_score(y_pred, y_test))"
   ]
  },
  {
   "cell_type": "code",
   "execution_count": 34,
   "metadata": {},
   "outputs": [
    {
     "data": {
      "text/plain": [
       "Text(0.5, 1, 'KNN Classifier')"
      ]
     },
     "execution_count": 34,
     "metadata": {},
     "output_type": "execute_result"
    },
    {
     "data": {
      "image/png": "[encoded data removed]",
      "text/plain": [
       "<Figure size 432x288 with 2 Axes>"
      ]
     },
     "metadata": {
      "needs_background": "light"
     },
     "output_type": "display_data"
    }
   ],
   "source": [
    "ax = plt.subplot()\n",
    "Model_Predictions = clf4.predict(X_test_scaled)\n",
    "Model_Confusion_Matrix = confusion_matrix(Model_Predictions,y_test)\n",
    "sns.heatmap(Model_Confusion_Matrix,annot=True,fmt = \"d\",square = True,ax = ax, linewidths = 1,linecolor = \"w\",cmap = \"Pastel2\")\n",
    "ax.set_xlabel('True labels')\n",
    "ax.set_ylabel('Predicted labels')\n",
    "ax.xaxis.set_ticklabels([\"Loss\",\"Profit\"])\n",
    "ax.yaxis.set_ticklabels([\"Loss\",\"Profit\"], va=\"center\")\n",
    "b, t = plt.ylim() \n",
    "b += 0.5\n",
    "t -= 0.5\n",
    "plt.ylim(b, t)\n",
    "plt.title('KNN Classifier')"
   ]
  },
  {
   "cell_type": "markdown",
   "metadata": {},
   "source": [
    "### 1.1.1.2.5) Gaussian Naive Bayes Classifier"
   ]
  },
  {
   "cell_type": "code",
   "execution_count": 35,
   "metadata": {},
   "outputs": [
    {
     "name": "stdout",
     "output_type": "stream",
     "text": [
      "GNB Train score: 0.533091202582728\n",
      "GNB Test score: 0.5522107243650047\n"
     ]
    }
   ],
   "source": [
    "GNB = GaussianNB()\n",
    "GNB.fit(X_train,y_train)\n",
    "    \n",
    "y_pred = GNB.predict(X_test)\n",
    "print(\"GNB Train score:\", GNB.score(X_train, y_train))\n",
    "print(\"GNB Test score:\", GNB.score(X_test, y_test))"
   ]
  },
  {
   "cell_type": "code",
   "execution_count": 36,
   "metadata": {},
   "outputs": [
    {
     "data": {
      "text/plain": [
       "Text(0.5, 1, 'Gaussian Naive Bayes Classifier')"
      ]
     },
     "execution_count": 36,
     "metadata": {},
     "output_type": "execute_result"
    },
    {
     "data": {
      "image/png": "[encoded data removed]",
      "text/plain": [
       "<Figure size 432x288 with 2 Axes>"
      ]
     },
     "metadata": {
      "needs_background": "light"
     },
     "output_type": "display_data"
    }
   ],
   "source": [
    "ax = plt.subplot()\n",
    "Model_Predictions = GNB.predict(X_test)\n",
    "Model_Confusion_Matrix = confusion_matrix(Model_Predictions,y_test)\n",
    "sns.heatmap(Model_Confusion_Matrix,annot=True,fmt = \"d\",square = True,ax = ax, linewidths = 1,linecolor = \"w\",cmap = \"Pastel2\")\n",
    "ax.set_xlabel('True labels')\n",
    "ax.set_ylabel('Predicted labels')\n",
    "ax.xaxis.set_ticklabels([\"Loss\",\"Profit\"])\n",
    "ax.yaxis.set_ticklabels([\"Loss\",\"Profit\"], va=\"center\")\n",
    "b, t = plt.ylim() \n",
    "b += 0.5\n",
    "t -= 0.5\n",
    "plt.ylim(b, t)\n",
    "plt.title('Gaussian Naive Bayes Classifier')"
   ]
  },
  {
   "cell_type": "markdown",
   "metadata": {},
   "source": [
    "## 1.1.2) With taking log and feature elimination"
   ]
  },
  {
   "cell_type": "markdown",
   "metadata": {},
   "source": [
    "### log"
   ]
  },
  {
   "cell_type": "code",
   "execution_count": 37,
   "metadata": {},
   "outputs": [],
   "source": [
    "df2 = df1.copy()\n",
    "df2['budget'] = np.log(df2['budget'])\n",
    "df2['director_facebook_likes'] = df2['director_facebook_likes'].transform(lambda x: 0 if x <= 3 else np.log(x))\n",
    "df2['actor_1_facebook_likes'] = df2['actor_1_facebook_likes'].transform(lambda x: 0 if x <= 3 else np.log(x))\n",
    "df2['actor_2_facebook_likes'] = df2['actor_2_facebook_likes'].transform(lambda x: 0 if x <= 3 else np.log(x))\n",
    "df2['actor_3_facebook_likes'] = df2['actor_3_facebook_likes'].transform(lambda x: 0 if x <= 3 else np.log(x))\n",
    "df2['cast_total_facebook_likes'] = df2['cast_total_facebook_likes'].transform(lambda x: 0 if x <= 3 else np.log(x))"
   ]
  },
  {
   "cell_type": "markdown",
   "metadata": {},
   "source": [
    "### elimination"
   ]
  },
  {
   "cell_type": "code",
   "execution_count": 38,
   "metadata": {},
   "outputs": [
    {
     "data": {
      "text/plain": [
       "Index(['duration', 'director_facebook_likes', 'actor_3_facebook_likes',\n",
       "       'actor_1_facebook_likes', 'cast_total_facebook_likes',\n",
       "       'facenumber_in_poster', 'budget', 'actor_2_facebook_likes', 'Biography',\n",
       "       'Comedy', 'Crime', 'Drama', 'Romance', 'Mystery_Thriller_Horror',\n",
       "       'Sci-Fi_Fantasy', 'Family_Animation', 'Action_Adventure', 'History_War',\n",
       "       'Others', 'gross_budget_ratio', 'content_rating_PG',\n",
       "       'content_rating_PG-13', 'content_rating_R'],\n",
       "      dtype='object')"
      ]
     },
     "execution_count": 38,
     "metadata": {},
     "output_type": "execute_result"
    }
   ],
   "source": [
    "df2.columns"
   ]
  },
  {
   "cell_type": "code",
   "execution_count": 39,
   "metadata": {},
   "outputs": [],
   "source": [
    "df2 = df2.drop(columns = ['facenumber_in_poster', 'Biography', 'Crime',\n",
    "       'Mystery_Thriller_Horror', 'Sci-Fi_Fantasy',\n",
    "       'History_War'])"
   ]
  },
  {
   "cell_type": "markdown",
   "metadata": {},
   "source": [
    "## 1.1.2.1) Seperating into 3 classes"
   ]
  },
  {
   "cell_type": "code",
   "execution_count": 40,
   "metadata": {},
   "outputs": [
    {
     "data": {
      "text/plain": [
       "0    1895\n",
       "1     934\n",
       "2     712\n",
       "Name: gross_budget_ratio, dtype: int64"
      ]
     },
     "execution_count": 40,
     "metadata": {},
     "output_type": "execute_result"
    }
   ],
   "source": [
    "RatioClass = df2['gross_budget_ratio'].transform(lambda x: 0 if x <= 1 else (1 if x <= 2 else 2))\n",
    "RatioClass = RatioClass.to_frame()\n",
    "Counts=RatioClass['gross_budget_ratio'].value_counts()\n",
    "Counts"
   ]
  },
  {
   "cell_type": "code",
   "execution_count": 41,
   "metadata": {},
   "outputs": [],
   "source": [
    "df21 = df2.copy()\n",
    "df21['gross_budget_ratio'] = RatioClass['gross_budget_ratio']"
   ]
  },
  {
   "cell_type": "code",
   "execution_count": 42,
   "metadata": {},
   "outputs": [
    {
     "data": {
      "text/html": [
       "<div>\n",
       "<style scoped>\n",
       "    .dataframe tbody tr th:only-of-type {\n",
       "        vertical-align: middle;\n",
       "    }\n",
       "\n",
       "    .dataframe tbody tr th {\n",
       "        vertical-align: top;\n",
       "    }\n",
       "\n",
       "    .dataframe thead th {\n",
       "        text-align: right;\n",
       "    }\n",
       "</style>\n",
       "<table border=\"1\" class=\"dataframe\">\n",
       "  <thead>\n",
       "    <tr style=\"text-align: right;\">\n",
       "      <th></th>\n",
       "      <th>duration</th>\n",
       "      <th>director_facebook_likes</th>\n",
       "      <th>actor_3_facebook_likes</th>\n",
       "      <th>actor_1_facebook_likes</th>\n",
       "      <th>cast_total_facebook_likes</th>\n",
       "      <th>budget</th>\n",
       "      <th>actor_2_facebook_likes</th>\n",
       "      <th>Comedy</th>\n",
       "      <th>Drama</th>\n",
       "      <th>Romance</th>\n",
       "      <th>Family_Animation</th>\n",
       "      <th>Action_Adventure</th>\n",
       "      <th>Others</th>\n",
       "      <th>gross_budget_ratio</th>\n",
       "      <th>content_rating_PG</th>\n",
       "      <th>content_rating_PG-13</th>\n",
       "      <th>content_rating_R</th>\n",
       "    </tr>\n",
       "  </thead>\n",
       "  <tbody>\n",
       "    <tr>\n",
       "      <td>0</td>\n",
       "      <td>123.0</td>\n",
       "      <td>6.100319</td>\n",
       "      <td>6.710523</td>\n",
       "      <td>9.903488</td>\n",
       "      <td>10.008253</td>\n",
       "      <td>17.686712</td>\n",
       "      <td>6.907755</td>\n",
       "      <td>1</td>\n",
       "      <td>0</td>\n",
       "      <td>1</td>\n",
       "      <td>0</td>\n",
       "      <td>0</td>\n",
       "      <td>0</td>\n",
       "      <td>0</td>\n",
       "      <td>0</td>\n",
       "      <td>1</td>\n",
       "      <td>0</td>\n",
       "    </tr>\n",
       "    <tr>\n",
       "      <td>3</td>\n",
       "      <td>148.0</td>\n",
       "      <td>6.467699</td>\n",
       "      <td>5.786897</td>\n",
       "      <td>6.907755</td>\n",
       "      <td>7.850104</td>\n",
       "      <td>17.111347</td>\n",
       "      <td>6.695799</td>\n",
       "      <td>1</td>\n",
       "      <td>0</td>\n",
       "      <td>0</td>\n",
       "      <td>0</td>\n",
       "      <td>1</td>\n",
       "      <td>1</td>\n",
       "      <td>2</td>\n",
       "      <td>0</td>\n",
       "      <td>0</td>\n",
       "      <td>1</td>\n",
       "    </tr>\n",
       "    <tr>\n",
       "      <td>5</td>\n",
       "      <td>124.0</td>\n",
       "      <td>3.737670</td>\n",
       "      <td>5.081404</td>\n",
       "      <td>6.685861</td>\n",
       "      <td>7.287561</td>\n",
       "      <td>16.811243</td>\n",
       "      <td>5.159055</td>\n",
       "      <td>1</td>\n",
       "      <td>0</td>\n",
       "      <td>0</td>\n",
       "      <td>0</td>\n",
       "      <td>0</td>\n",
       "      <td>1</td>\n",
       "      <td>0</td>\n",
       "      <td>1</td>\n",
       "      <td>0</td>\n",
       "      <td>0</td>\n",
       "    </tr>\n",
       "    <tr>\n",
       "      <td>6</td>\n",
       "      <td>124.0</td>\n",
       "      <td>5.010635</td>\n",
       "      <td>6.349139</td>\n",
       "      <td>6.773080</td>\n",
       "      <td>7.888710</td>\n",
       "      <td>17.760281</td>\n",
       "      <td>6.704414</td>\n",
       "      <td>0</td>\n",
       "      <td>1</td>\n",
       "      <td>0</td>\n",
       "      <td>0</td>\n",
       "      <td>0</td>\n",
       "      <td>1</td>\n",
       "      <td>1</td>\n",
       "      <td>1</td>\n",
       "      <td>0</td>\n",
       "      <td>0</td>\n",
       "    </tr>\n",
       "    <tr>\n",
       "      <td>7</td>\n",
       "      <td>104.0</td>\n",
       "      <td>0.000000</td>\n",
       "      <td>6.248043</td>\n",
       "      <td>6.625392</td>\n",
       "      <td>7.800573</td>\n",
       "      <td>15.687313</td>\n",
       "      <td>6.340359</td>\n",
       "      <td>0</td>\n",
       "      <td>0</td>\n",
       "      <td>1</td>\n",
       "      <td>0</td>\n",
       "      <td>0</td>\n",
       "      <td>0</td>\n",
       "      <td>2</td>\n",
       "      <td>0</td>\n",
       "      <td>0</td>\n",
       "      <td>0</td>\n",
       "    </tr>\n",
       "    <tr>\n",
       "      <td>...</td>\n",
       "      <td>...</td>\n",
       "      <td>...</td>\n",
       "      <td>...</td>\n",
       "      <td>...</td>\n",
       "      <td>...</td>\n",
       "      <td>...</td>\n",
       "      <td>...</td>\n",
       "      <td>...</td>\n",
       "      <td>...</td>\n",
       "      <td>...</td>\n",
       "      <td>...</td>\n",
       "      <td>...</td>\n",
       "      <td>...</td>\n",
       "      <td>...</td>\n",
       "      <td>...</td>\n",
       "      <td>...</td>\n",
       "      <td>...</td>\n",
       "    </tr>\n",
       "    <tr>\n",
       "      <td>3846</td>\n",
       "      <td>121.0</td>\n",
       "      <td>3.555348</td>\n",
       "      <td>6.159095</td>\n",
       "      <td>8.294050</td>\n",
       "      <td>8.797397</td>\n",
       "      <td>15.424948</td>\n",
       "      <td>6.744059</td>\n",
       "      <td>0</td>\n",
       "      <td>1</td>\n",
       "      <td>0</td>\n",
       "      <td>0</td>\n",
       "      <td>0</td>\n",
       "      <td>0</td>\n",
       "      <td>0</td>\n",
       "      <td>0</td>\n",
       "      <td>1</td>\n",
       "      <td>0</td>\n",
       "    </tr>\n",
       "    <tr>\n",
       "      <td>3847</td>\n",
       "      <td>92.0</td>\n",
       "      <td>4.488636</td>\n",
       "      <td>5.247024</td>\n",
       "      <td>9.740969</td>\n",
       "      <td>9.790319</td>\n",
       "      <td>17.370859</td>\n",
       "      <td>5.796058</td>\n",
       "      <td>1</td>\n",
       "      <td>0</td>\n",
       "      <td>0</td>\n",
       "      <td>0</td>\n",
       "      <td>0</td>\n",
       "      <td>0</td>\n",
       "      <td>1</td>\n",
       "      <td>0</td>\n",
       "      <td>0</td>\n",
       "      <td>1</td>\n",
       "    </tr>\n",
       "    <tr>\n",
       "      <td>3848</td>\n",
       "      <td>100.0</td>\n",
       "      <td>3.178054</td>\n",
       "      <td>6.746412</td>\n",
       "      <td>9.615805</td>\n",
       "      <td>9.840867</td>\n",
       "      <td>16.811243</td>\n",
       "      <td>6.907755</td>\n",
       "      <td>1</td>\n",
       "      <td>0</td>\n",
       "      <td>0</td>\n",
       "      <td>0</td>\n",
       "      <td>0</td>\n",
       "      <td>0</td>\n",
       "      <td>2</td>\n",
       "      <td>0</td>\n",
       "      <td>0</td>\n",
       "      <td>1</td>\n",
       "    </tr>\n",
       "    <tr>\n",
       "      <td>3849</td>\n",
       "      <td>92.0</td>\n",
       "      <td>4.488636</td>\n",
       "      <td>5.872118</td>\n",
       "      <td>6.591674</td>\n",
       "      <td>7.954372</td>\n",
       "      <td>15.424948</td>\n",
       "      <td>6.559615</td>\n",
       "      <td>1</td>\n",
       "      <td>0</td>\n",
       "      <td>0</td>\n",
       "      <td>0</td>\n",
       "      <td>0</td>\n",
       "      <td>0</td>\n",
       "      <td>2</td>\n",
       "      <td>0</td>\n",
       "      <td>0</td>\n",
       "      <td>1</td>\n",
       "    </tr>\n",
       "    <tr>\n",
       "      <td>3851</td>\n",
       "      <td>120.0</td>\n",
       "      <td>2.890372</td>\n",
       "      <td>5.686975</td>\n",
       "      <td>6.452049</td>\n",
       "      <td>7.501082</td>\n",
       "      <td>15.424948</td>\n",
       "      <td>6.040255</td>\n",
       "      <td>0</td>\n",
       "      <td>1</td>\n",
       "      <td>0</td>\n",
       "      <td>0</td>\n",
       "      <td>0</td>\n",
       "      <td>0</td>\n",
       "      <td>2</td>\n",
       "      <td>1</td>\n",
       "      <td>0</td>\n",
       "      <td>0</td>\n",
       "    </tr>\n",
       "  </tbody>\n",
       "</table>\n",
       "<p>3541 rows × 17 columns</p>\n",
       "</div>"
      ],
      "text/plain": [
       "      duration  director_facebook_likes  actor_3_facebook_likes  \\\n",
       "0        123.0                 6.100319                6.710523   \n",
       "3        148.0                 6.467699                5.786897   \n",
       "5        124.0                 3.737670                5.081404   \n",
       "6        124.0                 5.010635                6.349139   \n",
       "7        104.0                 0.000000                6.248043   \n",
       "...        ...                      ...                     ...   \n",
       "3846     121.0                 3.555348                6.159095   \n",
       "3847      92.0                 4.488636                5.247024   \n",
       "3848     100.0                 3.178054                6.746412   \n",
       "3849      92.0                 4.488636                5.872118   \n",
       "3851     120.0                 2.890372                5.686975   \n",
       "\n",
       "      actor_1_facebook_likes  cast_total_facebook_likes     budget  \\\n",
       "0                   9.903488                  10.008253  17.686712   \n",
       "3                   6.907755                   7.850104  17.111347   \n",
       "5                   6.685861                   7.287561  16.811243   \n",
       "6                   6.773080                   7.888710  17.760281   \n",
       "7                   6.625392                   7.800573  15.687313   \n",
       "...                      ...                        ...        ...   \n",
       "3846                8.294050                   8.797397  15.424948   \n",
       "3847                9.740969                   9.790319  17.370859   \n",
       "3848                9.615805                   9.840867  16.811243   \n",
       "3849                6.591674                   7.954372  15.424948   \n",
       "3851                6.452049                   7.501082  15.424948   \n",
       "\n",
       "      actor_2_facebook_likes  Comedy  Drama  Romance  Family_Animation  \\\n",
       "0                   6.907755       1      0        1                 0   \n",
       "3                   6.695799       1      0        0                 0   \n",
       "5                   5.159055       1      0        0                 0   \n",
       "6                   6.704414       0      1        0                 0   \n",
       "7                   6.340359       0      0        1                 0   \n",
       "...                      ...     ...    ...      ...               ...   \n",
       "3846                6.744059       0      1        0                 0   \n",
       "3847                5.796058       1      0        0                 0   \n",
       "3848                6.907755       1      0        0                 0   \n",
       "3849                6.559615       1      0        0                 0   \n",
       "3851                6.040255       0      1        0                 0   \n",
       "\n",
       "      Action_Adventure  Others  gross_budget_ratio  content_rating_PG  \\\n",
       "0                    0       0                   0                  0   \n",
       "3                    1       1                   2                  0   \n",
       "5                    0       1                   0                  1   \n",
       "6                    0       1                   1                  1   \n",
       "7                    0       0                   2                  0   \n",
       "...                ...     ...                 ...                ...   \n",
       "3846                 0       0                   0                  0   \n",
       "3847                 0       0                   1                  0   \n",
       "3848                 0       0                   2                  0   \n",
       "3849                 0       0                   2                  0   \n",
       "3851                 0       0                   2                  1   \n",
       "\n",
       "      content_rating_PG-13  content_rating_R  \n",
       "0                        1                 0  \n",
       "3                        0                 1  \n",
       "5                        0                 0  \n",
       "6                        0                 0  \n",
       "7                        0                 0  \n",
       "...                    ...               ...  \n",
       "3846                     1                 0  \n",
       "3847                     0                 1  \n",
       "3848                     0                 1  \n",
       "3849                     0                 1  \n",
       "3851                     0                 0  \n",
       "\n",
       "[3541 rows x 17 columns]"
      ]
     },
     "execution_count": 42,
     "metadata": {},
     "output_type": "execute_result"
    }
   ],
   "source": [
    "df21"
   ]
  },
  {
   "cell_type": "code",
   "execution_count": 43,
   "metadata": {},
   "outputs": [
    {
     "name": "stdout",
     "output_type": "stream",
     "text": [
      "Dimensionality of X_train: (2478, 16)\n",
      "Dimensionality of X_test : (1063, 16)\n",
      "Dimensionality of y_train: (2478,)\n",
      "Dimensionality of y_test : (1063,)\n"
     ]
    }
   ],
   "source": [
    "X = df21.drop(columns=['gross_budget_ratio'])\n",
    "y = df21['gross_budget_ratio']\n",
    "X_train, X_test, y_train, y_test = train_test_split(X, y, stratify=y, test_size=0.3, random_state=10) \n",
    "print(f\"Dimensionality of X_train: {X_train.shape}\")\n",
    "print(f\"Dimensionality of X_test : {X_test.shape}\")\n",
    "print(f\"Dimensionality of y_train: {y_train.shape}\")\n",
    "print(f\"Dimensionality of y_test : {y_test.shape}\")"
   ]
  },
  {
   "cell_type": "markdown",
   "metadata": {},
   "source": [
    "### 1.1.2.1.1) Multi-Class Logistic Regression"
   ]
  },
  {
   "cell_type": "code",
   "execution_count": 44,
   "metadata": {},
   "outputs": [],
   "source": [
    "smote=SMOTE('minority')\n",
    "X_s, y_s = smote.fit_sample(X_train,y_train)\n",
    "X_sm, y_sm = smote.fit_sample(X_s,y_s)\n",
    "X_sm_train, y_sm_train = shuffle(X_sm, y_sm, random_state=10)"
   ]
  },
  {
   "cell_type": "code",
   "execution_count": 45,
   "metadata": {},
   "outputs": [
    {
     "name": "stdout",
     "output_type": "stream",
     "text": [
      "MLR best parameters: {'C': 0.1, 'penalty': 'l2'}\n",
      "MLR Train score: 0.5359477124183006\n",
      "MLR Test score: 0.4628410159924741\n"
     ]
    }
   ],
   "source": [
    "C_List = [0.001,0.01,0.1,1,10,100,1000]\n",
    "penalty = ['l2','none']\n",
    "parameters = {'C': C_List,'penalty':penalty}\n",
    "MLR = LogisticRegression(multi_class='multinomial', solver='newton-cg')\n",
    "clf1 = GridSearchCV(MLR, parameters, cv=5, verbose=0,scoring ='accuracy')\n",
    "clf1.fit(X_sm_train, y_sm_train)\n",
    "\n",
    "y_pred = clf1.predict(X_test)\n",
    "print(\"MLR best parameters:\", clf1.best_params_)\n",
    "print(\"MLR Train score:\", clf1.score(X_sm_train, y_sm_train))\n",
    "print(\"MLR Test score:\", clf1.score(X_test, y_test))"
   ]
  },
  {
   "cell_type": "code",
   "execution_count": 46,
   "metadata": {},
   "outputs": [
    {
     "data": {
      "text/plain": [
       "Text(0.5, 1, 'Multiclass Logistic Regression')"
      ]
     },
     "execution_count": 46,
     "metadata": {},
     "output_type": "execute_result"
    },
    {
     "data": {
      "image/png": "[encoded data removed]",
      "text/plain": [
       "<Figure size 432x288 with 2 Axes>"
      ]
     },
     "metadata": {
      "needs_background": "light"
     },
     "output_type": "display_data"
    }
   ],
   "source": [
    "ax = plt.subplot()\n",
    "Model_Predictions = clf1.predict(X_test)\n",
    "Model_Confusion_Matrix = confusion_matrix(Model_Predictions,y_test)\n",
    "sns.heatmap(Model_Confusion_Matrix,annot=True,fmt = \"d\",square = True,ax = ax, linewidths = 1,linecolor = \"w\",cmap = \"Pastel2\")\n",
    "ax.set_xlabel('True labels')\n",
    "ax.set_ylabel('Predicted labels')\n",
    "ax.xaxis.set_ticklabels([\"Loss\",\"Low Profit\",'High Profit'])\n",
    "ax.yaxis.set_ticklabels([\"Loss\",\"Low Profit\",'High Profit'], va=\"center\")\n",
    "b, t = plt.ylim() \n",
    "b += 0.5\n",
    "t -= 0.5\n",
    "plt.ylim(b, t)\n",
    "plt.title('Multiclass Logistic Regression')"
   ]
  },
  {
   "cell_type": "markdown",
   "metadata": {},
   "source": [
    "### 1.1.2.1.2) Decision Tree Classifier"
   ]
  },
  {
   "cell_type": "code",
   "execution_count": 47,
   "metadata": {},
   "outputs": [
    {
     "name": "stdout",
     "output_type": "stream",
     "text": [
      "DTC best parameters: {'criterion': 'gini', 'max_depth': 100, 'min_samples_leaf': 0.0005, 'min_samples_split': 0.5}\n",
      "DTC Train score: 0.5351089588377724\n",
      "DTC Test score: 0.535277516462841\n"
     ]
    }
   ],
   "source": [
    "DTSplitList=[0.001,0.01,0.05,0.1,0.5,0.99]\n",
    "DTLeafList=[0.0005,0.005,0.025,0.05,0.1,0.25,0.5]\n",
    "criterion =['gini','entropy']\n",
    "parameters = {'criterion':criterion,'max_depth':list(range(100,0,-3)),'min_samples_leaf': DTLeafList, 'min_samples_split':DTSplitList}\n",
    "DTC = DecisionTreeClassifier(random_state=10)\n",
    "clf2 = GridSearchCV(DTC, parameters, cv=5, verbose=0,scoring ='accuracy')\n",
    "clf2.fit(X_train, y_train)\n",
    "\n",
    "y_pred = clf2.predict(X_test)\n",
    "print(\"DTC best parameters:\", clf2.best_params_)\n",
    "print(\"DTC Train score:\", clf2.score(X_train, y_train))\n",
    "print(\"DTC Test score:\", clf2.score(X_test, y_test))"
   ]
  },
  {
   "cell_type": "code",
   "execution_count": 48,
   "metadata": {},
   "outputs": [
    {
     "data": {
      "text/plain": [
       "Text(0.5, 1, 'Decision Tree Classifier')"
      ]
     },
     "execution_count": 48,
     "metadata": {},
     "output_type": "execute_result"
    },
    {
     "data": {
      "image/png": "[encoded data removed]",
      "text/plain": [
       "<Figure size 432x288 with 2 Axes>"
      ]
     },
     "metadata": {
      "needs_background": "light"
     },
     "output_type": "display_data"
    }
   ],
   "source": [
    "ax = plt.subplot()\n",
    "Model_Predictions = clf2.predict(X_test)\n",
    "Model_Confusion_Matrix = confusion_matrix(Model_Predictions,y_test)\n",
    "sns.heatmap(Model_Confusion_Matrix,annot=True,fmt = \"d\",square = True,ax = ax, linewidths = 1,linecolor = \"w\",cmap = \"Pastel2\")\n",
    "ax.set_xlabel('True labels')\n",
    "ax.set_ylabel('Predicted labels')\n",
    "ax.xaxis.set_ticklabels([\"Loss\",\"Low Profit\",'High Profit'])\n",
    "ax.yaxis.set_ticklabels([\"Loss\",\"Low Profit\",'High Profit'], va=\"center\")\n",
    "b, t = plt.ylim() \n",
    "b += 0.5\n",
    "t -= 0.5\n",
    "plt.ylim(b, t)\n",
    "plt.title('Decision Tree Classifier')"
   ]
  },
  {
   "cell_type": "markdown",
   "metadata": {},
   "source": [
    "### 1.1.2.1.3) Random Forest Classifier"
   ]
  },
  {
   "cell_type": "code",
   "execution_count": 49,
   "metadata": {},
   "outputs": [
    {
     "name": "stdout",
     "output_type": "stream",
     "text": [
      "RFC best parameters: {'criterion': 'entropy', 'max_depth': 10, 'n_estimators': 50}\n",
      "RFC Train score: 0.8038740920096852\n",
      "RFC Test score: 0.5390404515522107\n"
     ]
    }
   ],
   "source": [
    "RFEstimatorList = [25,50,100,200]\n",
    "criterion =['gini','entropy']\n",
    "parameters = {'criterion':criterion,'max_depth':list(range(100,0,-10)),'n_estimators':RFEstimatorList}\n",
    "RFC = RandomForestClassifier(random_state=10)\n",
    "clf3 = GridSearchCV(RFC, parameters, cv=5, verbose=0,scoring ='accuracy')\n",
    "clf3.fit(X_train, y_train)\n",
    "\n",
    "y_pred = clf3.predict(X_test)\n",
    "print(\"RFC best parameters:\", clf3.best_params_)\n",
    "print(\"RFC Train score:\", clf3.score(X_train, y_train))\n",
    "print(\"RFC Test score:\", clf3.score(X_test, y_test))"
   ]
  },
  {
   "cell_type": "code",
   "execution_count": 50,
   "metadata": {},
   "outputs": [
    {
     "data": {
      "text/plain": [
       "Text(0.5, 1, 'Random Forest Classifier')"
      ]
     },
     "execution_count": 50,
     "metadata": {},
     "output_type": "execute_result"
    },
    {
     "data": {
      "image/png": "[encoded data removed]",
      "text/plain": [
       "<Figure size 432x288 with 2 Axes>"
      ]
     },
     "metadata": {
      "needs_background": "light"
     },
     "output_type": "display_data"
    }
   ],
   "source": [
    "ax = plt.subplot()\n",
    "Model_Predictions = clf3.predict(X_test)\n",
    "Model_Confusion_Matrix = confusion_matrix(Model_Predictions,y_test)\n",
    "sns.heatmap(Model_Confusion_Matrix,annot=True,fmt = \"d\",square = True,ax = ax, linewidths = 1,linecolor = \"w\",cmap = \"Pastel2\")\n",
    "ax.set_xlabel('True labels')\n",
    "ax.set_ylabel('Predicted labels')\n",
    "ax.xaxis.set_ticklabels([\"Loss\",\"Low Profit\",'High Profit'])\n",
    "ax.yaxis.set_ticklabels([\"Loss\",\"Low Profit\",'High Profit'], va=\"center\")\n",
    "b, t = plt.ylim() \n",
    "b += 0.5\n",
    "t -= 0.5\n",
    "plt.ylim(b, t)\n",
    "plt.title('Random Forest Classifier')"
   ]
  },
  {
   "cell_type": "markdown",
   "metadata": {},
   "source": [
    "### 1.1.2.1.4) KNN Classifier"
   ]
  },
  {
   "cell_type": "code",
   "execution_count": 51,
   "metadata": {},
   "outputs": [],
   "source": [
    "MMScaler = MinMaxScaler()\n",
    "X_train_scaled = MMScaler.fit_transform(X_train)\n",
    "X_test_scaled = MMScaler.transform(X_test)"
   ]
  },
  {
   "cell_type": "code",
   "execution_count": 52,
   "metadata": {},
   "outputs": [
    {
     "name": "stdout",
     "output_type": "stream",
     "text": [
      "KNN best parameters: {'n_neighbors': 50}\n",
      "KNN Train score: 0.5540758676351897\n",
      "KNN Test score: 0.5258701787394168\n"
     ]
    }
   ],
   "source": [
    "Neighbor_List=[3,5,10,20,50]\n",
    "parameters = {'n_neighbors':Neighbor_List}\n",
    "KNNC = KNeighborsClassifier()\n",
    "clf4 = GridSearchCV(KNNC, parameters, cv=5, verbose=0,scoring ='accuracy')\n",
    "clf4.fit(X_train_scaled, y_train)\n",
    "\n",
    "y_pred = clf4.predict(X_test_scaled)\n",
    "print(\"KNN best parameters:\", clf4.best_params_)\n",
    "print(\"KNN Train score:\", clf4.score(X_train_scaled, y_train))\n",
    "print(\"KNN Test score:\", clf4.score(X_test_scaled, y_test))"
   ]
  },
  {
   "cell_type": "code",
   "execution_count": 53,
   "metadata": {},
   "outputs": [
    {
     "data": {
      "text/plain": [
       "Text(0.5, 1, 'KNN Classifier')"
      ]
     },
     "execution_count": 53,
     "metadata": {},
     "output_type": "execute_result"
    },
    {
     "data": {
      "image/png": "[encoded data removed]",
      "text/plain": [
       "<Figure size 432x288 with 2 Axes>"
      ]
     },
     "metadata": {
      "needs_background": "light"
     },
     "output_type": "display_data"
    }
   ],
   "source": [
    "ax = plt.subplot()\n",
    "Model_Predictions = clf4.predict(X_test_scaled)\n",
    "Model_Confusion_Matrix = confusion_matrix(Model_Predictions,y_test)\n",
    "sns.heatmap(Model_Confusion_Matrix,annot=True,fmt = \"d\",square = True,ax = ax, linewidths = 1,linecolor = \"w\",cmap = \"Pastel2\")\n",
    "ax.set_xlabel('True labels')\n",
    "ax.set_ylabel('Predicted labels')\n",
    "ax.xaxis.set_ticklabels([\"Loss\",\"Low Profit\",'High Profit'])\n",
    "ax.yaxis.set_ticklabels([\"Loss\",\"Low Profit\",'High Profit'], va=\"center\")\n",
    "b, t = plt.ylim() \n",
    "b += 0.5\n",
    "t -= 0.5\n",
    "plt.ylim(b, t)\n",
    "plt.title('KNN Classifier')"
   ]
  },
  {
   "cell_type": "markdown",
   "metadata": {},
   "source": [
    "### 1.1.2.1.5) Gaussian Naive Bayes Classifier"
   ]
  },
  {
   "cell_type": "code",
   "execution_count": 54,
   "metadata": {},
   "outputs": [
    {
     "name": "stdout",
     "output_type": "stream",
     "text": [
      "GNB Train score: 0.4947538337368846\n",
      "GNB Test score: 0.5004703668861712\n"
     ]
    }
   ],
   "source": [
    "GNB = GaussianNB()\n",
    "GNB.fit(X_train,y_train)\n",
    "    \n",
    "y_pred = GNB.predict(X_test)\n",
    "print(\"GNB Train score:\", GNB.score(X_train, y_train))\n",
    "print(\"GNB Test score:\", GNB.score(X_test, y_test))"
   ]
  },
  {
   "cell_type": "code",
   "execution_count": 55,
   "metadata": {},
   "outputs": [
    {
     "data": {
      "text/plain": [
       "Text(0.5, 1, 'Gaussian Naive Bayes Classifier')"
      ]
     },
     "execution_count": 55,
     "metadata": {},
     "output_type": "execute_result"
    },
    {
     "data": {
      "image/png": "[encoded data removed]",
      "text/plain": [
       "<Figure size 432x288 with 2 Axes>"
      ]
     },
     "metadata": {
      "needs_background": "light"
     },
     "output_type": "display_data"
    }
   ],
   "source": [
    "ax = plt.subplot()\n",
    "Model_Predictions = GNB.predict(X_test)\n",
    "Model_Confusion_Matrix = confusion_matrix(Model_Predictions,y_test)\n",
    "sns.heatmap(Model_Confusion_Matrix,annot=True,fmt = \"d\",square = True,ax = ax, linewidths = 1,linecolor = \"w\",cmap = \"Pastel2\")\n",
    "ax.set_xlabel('True labels')\n",
    "ax.set_ylabel('Predicted labels')\n",
    "ax.xaxis.set_ticklabels([\"Loss\",\"Low Profit\",'High Profit'])\n",
    "ax.yaxis.set_ticklabels([\"Loss\",\"Low Profit\",'High Profit'], va=\"center\")\n",
    "b, t = plt.ylim() \n",
    "b += 0.5\n",
    "t -= 0.5\n",
    "plt.ylim(b, t)\n",
    "plt.title('Gaussian Naive Bayes Classifier')"
   ]
  },
  {
   "cell_type": "markdown",
   "metadata": {},
   "source": [
    "## 1.1.2.2) Seperating into 2 classes"
   ]
  },
  {
   "cell_type": "code",
   "execution_count": 56,
   "metadata": {},
   "outputs": [
    {
     "data": {
      "text/plain": [
       "0    1895\n",
       "1    1646\n",
       "Name: gross_budget_ratio, dtype: int64"
      ]
     },
     "execution_count": 56,
     "metadata": {},
     "output_type": "execute_result"
    }
   ],
   "source": [
    "RatioClass = df2['gross_budget_ratio'].transform(lambda x: 0 if x <= 1 else 1)\n",
    "RatioClass = RatioClass.to_frame()\n",
    "Counts=RatioClass['gross_budget_ratio'].value_counts()\n",
    "Counts"
   ]
  },
  {
   "cell_type": "code",
   "execution_count": 57,
   "metadata": {},
   "outputs": [],
   "source": [
    "df22 = df2.copy()\n",
    "df22['gross_budget_ratio'] = RatioClass['gross_budget_ratio']"
   ]
  },
  {
   "cell_type": "code",
   "execution_count": 58,
   "metadata": {},
   "outputs": [
    {
     "name": "stdout",
     "output_type": "stream",
     "text": [
      "Dimensionality of X_train: (2478, 16)\n",
      "Dimensionality of X_test : (1063, 16)\n",
      "Dimensionality of y_train: (2478,)\n",
      "Dimensionality of y_test : (1063,)\n"
     ]
    }
   ],
   "source": [
    "X = df22.drop(columns=['gross_budget_ratio'])\n",
    "y = df22['gross_budget_ratio']\n",
    "X_train, X_test, y_train, y_test = train_test_split(X, y, stratify=y, test_size=0.3, random_state=10) \n",
    "print(f\"Dimensionality of X_train: {X_train.shape}\")\n",
    "print(f\"Dimensionality of X_test : {X_test.shape}\")\n",
    "print(f\"Dimensionality of y_train: {y_train.shape}\")\n",
    "print(f\"Dimensionality of y_test : {y_test.shape}\")"
   ]
  },
  {
   "cell_type": "markdown",
   "metadata": {},
   "source": [
    "### 1.1.2.2.1) Logistic Regression"
   ]
  },
  {
   "cell_type": "code",
   "execution_count": 59,
   "metadata": {},
   "outputs": [
    {
     "name": "stdout",
     "output_type": "stream",
     "text": [
      "LR best parameters: {'C': 0.001, 'penalty': 'l1'}\n",
      "LR Train score: 1.0\n",
      "LR Test score: 1.0\n",
      "LR Test Accuracy score: 0.535277516462841\n"
     ]
    }
   ],
   "source": [
    "C_List = [0.001,0.01,0.1,1,10,100,1000]\n",
    "penalty = ['l1','l2']\n",
    "parameters = {'C': C_List,'penalty':penalty}\n",
    "LR = LogisticRegression( solver='liblinear')\n",
    "clf1 = GridSearchCV(LR, parameters, cv=5, verbose=0,scoring =make_scorer(recall_score,pos_label=0))\n",
    "clf1.fit(X_train, y_train)\n",
    "\n",
    "y_pred = clf1.predict(X_test)\n",
    "print(\"LR best parameters:\", clf1.best_params_)\n",
    "print(\"LR Train score:\", clf1.score(X_train, y_train))\n",
    "print(\"LR Test score:\", clf1.score(X_test, y_test))\n",
    "print(\"LR Test Accuracy score:\", accuracy_score(y_pred, y_test))"
   ]
  },
  {
   "cell_type": "code",
   "execution_count": 60,
   "metadata": {},
   "outputs": [
    {
     "data": {
      "text/plain": [
       "Text(0.5, 1, 'Logistic Regression')"
      ]
     },
     "execution_count": 60,
     "metadata": {},
     "output_type": "execute_result"
    },
    {
     "data": {
      "image/png": "[encoded data removed]",
      "text/plain": [
       "<Figure size 432x288 with 2 Axes>"
      ]
     },
     "metadata": {
      "needs_background": "light"
     },
     "output_type": "display_data"
    }
   ],
   "source": [
    "ax = plt.subplot()\n",
    "Model_Predictions = clf1.predict(X_test)\n",
    "Model_Confusion_Matrix = confusion_matrix(Model_Predictions,y_test)\n",
    "sns.heatmap(Model_Confusion_Matrix,annot=True,fmt = \"d\",square = True,ax = ax, linewidths = 1,linecolor = \"w\",cmap = \"Pastel2\")\n",
    "ax.set_xlabel('True labels')\n",
    "ax.set_ylabel('Predicted labels')\n",
    "ax.xaxis.set_ticklabels([\"Loss\",\"Profit\"])\n",
    "ax.yaxis.set_ticklabels([\"Loss\",\"Profit\"], va=\"center\")\n",
    "b, t = plt.ylim() \n",
    "b += 0.5\n",
    "t -= 0.5\n",
    "plt.ylim(b, t)\n",
    "plt.title('Logistic Regression')"
   ]
  },
  {
   "cell_type": "markdown",
   "metadata": {},
   "source": [
    "### 1.1.2.2.2) Decision Tree Classifier"
   ]
  },
  {
   "cell_type": "code",
   "execution_count": 61,
   "metadata": {},
   "outputs": [
    {
     "name": "stdout",
     "output_type": "stream",
     "text": [
      "DTC best parameters: {'criterion': 'gini', 'max_depth': 100, 'min_samples_leaf': 0.5, 'min_samples_split': 0.001}\n",
      "DTC Train score: 0.5565610859728507\n",
      "DTC Test score: 0.6028119507908611\n",
      "DTC Test Accuracy score: 0.5823142050799623\n"
     ]
    }
   ],
   "source": [
    "DTSplitList=[0.001,0.01,0.05,0.1,0.5,0.99]\n",
    "DTLeafList=[0.0005,0.005,0.025,0.05,0.1,0.25,0.5]\n",
    "criterion =['gini','entropy']\n",
    "parameters = {'criterion':criterion,'max_depth':list(range(100,0,-3)),'min_samples_leaf': DTLeafList, 'min_samples_split':DTSplitList}\n",
    "DTC = DecisionTreeClassifier(random_state=10)\n",
    "clf2 = GridSearchCV(DTC, parameters, cv=5, verbose=0,scoring =make_scorer(recall_score,pos_label=0))\n",
    "clf2.fit(X_train, y_train)\n",
    "\n",
    "y_pred = clf2.predict(X_test)\n",
    "print(\"DTC best parameters:\", clf2.best_params_)\n",
    "print(\"DTC Train score:\", clf2.score(X_train, y_train))\n",
    "print(\"DTC Test score:\", clf2.score(X_test, y_test))\n",
    "print(\"DTC Test Accuracy score:\", accuracy_score(y_pred, y_test))"
   ]
  },
  {
   "cell_type": "code",
   "execution_count": 62,
   "metadata": {},
   "outputs": [
    {
     "data": {
      "text/plain": [
       "Text(0.5, 1, 'Decision Tree Classifier')"
      ]
     },
     "execution_count": 62,
     "metadata": {},
     "output_type": "execute_result"
    },
    {
     "data": {
      "image/png": "[encoded data removed]",
      "text/plain": [
       "<Figure size 432x288 with 2 Axes>"
      ]
     },
     "metadata": {
      "needs_background": "light"
     },
     "output_type": "display_data"
    }
   ],
   "source": [
    "ax = plt.subplot()\n",
    "Model_Predictions = clf2.predict(X_test)\n",
    "Model_Confusion_Matrix = confusion_matrix(Model_Predictions,y_test)\n",
    "sns.heatmap(Model_Confusion_Matrix,annot=True,fmt = \"d\",square = True,ax = ax, linewidths = 1,linecolor = \"w\",cmap = \"Pastel2\")\n",
    "ax.set_xlabel('True labels')\n",
    "ax.set_ylabel('Predicted labels')\n",
    "ax.xaxis.set_ticklabels([\"Loss\",\"Profit\"])\n",
    "ax.yaxis.set_ticklabels([\"Loss\",\"Profit\"], va=\"center\")\n",
    "b, t = plt.ylim() \n",
    "b += 0.5\n",
    "t -= 0.5\n",
    "plt.ylim(b, t)\n",
    "plt.title('Decision Tree Classifier')"
   ]
  },
  {
   "cell_type": "markdown",
   "metadata": {},
   "source": [
    "### 1.1.2.2.3) Random Forest Classifier"
   ]
  },
  {
   "cell_type": "code",
   "execution_count": 63,
   "metadata": {},
   "outputs": [
    {
     "name": "stdout",
     "output_type": "stream",
     "text": [
      "RFC best parameters: {'criterion': 'entropy', 'max_depth': 10, 'n_estimators': 100}\n",
      "RFC Train score: 0.9457013574660633\n",
      "RFC Test score: 0.7100175746924429\n",
      "RFC Test Accuracy score: 0.6105362182502352\n"
     ]
    }
   ],
   "source": [
    "RFEstimatorList = [25,50,100,200]\n",
    "criterion =['gini','entropy']\n",
    "parameters = {'criterion':criterion,'max_depth':list(range(100,0,-10)),'n_estimators':RFEstimatorList}\n",
    "\n",
    "RFC = RandomForestClassifier(random_state=10)\n",
    "clf3 = GridSearchCV(RFC, parameters, cv=5, verbose=0,scoring =make_scorer(recall_score,pos_label=0))\n",
    "clf3.fit(X_train, y_train)\n",
    "\n",
    "y_pred = clf3.predict(X_test)\n",
    "print(\"RFC best parameters:\", clf3.best_params_)\n",
    "print(\"RFC Train score:\", clf3.score(X_train, y_train))\n",
    "print(\"RFC Test score:\", clf3.score(X_test, y_test))\n",
    "print(\"RFC Test Accuracy score:\", accuracy_score(y_pred, y_test))"
   ]
  },
  {
   "cell_type": "code",
   "execution_count": 64,
   "metadata": {},
   "outputs": [
    {
     "data": {
      "text/plain": [
       "Text(0.5, 1, 'Random Forest Classifier')"
      ]
     },
     "execution_count": 64,
     "metadata": {},
     "output_type": "execute_result"
    },
    {
     "data": {
      "image/png": "[encoded data removed]",
      "text/plain": [
       "<Figure size 432x288 with 2 Axes>"
      ]
     },
     "metadata": {
      "needs_background": "light"
     },
     "output_type": "display_data"
    }
   ],
   "source": [
    "ax = plt.subplot()\n",
    "Model_Predictions = clf3.predict(X_test)\n",
    "Model_Confusion_Matrix = confusion_matrix(Model_Predictions,y_test)\n",
    "sns.heatmap(Model_Confusion_Matrix,annot=True,fmt = \"d\",square = True,ax = ax, linewidths = 1,linecolor = \"w\",cmap = \"Pastel2\")\n",
    "ax.set_xlabel('True labels')\n",
    "ax.set_ylabel('Predicted labels')\n",
    "ax.xaxis.set_ticklabels([\"Loss\",\"Profit\"])\n",
    "ax.yaxis.set_ticklabels([\"Loss\",\"Profit\"], va=\"center\")\n",
    "b, t = plt.ylim() \n",
    "b += 0.5\n",
    "t -= 0.5\n",
    "plt.ylim(b, t)\n",
    "plt.title('Random Forest Classifier')"
   ]
  },
  {
   "cell_type": "markdown",
   "metadata": {},
   "source": [
    "### 1.1.2.2.4) KNN Classifier"
   ]
  },
  {
   "cell_type": "code",
   "execution_count": 65,
   "metadata": {},
   "outputs": [],
   "source": [
    "MMScaler = MinMaxScaler()\n",
    "X_train_scaled = MMScaler.fit_transform(X_train)\n",
    "X_test_scaled = MMScaler.transform(X_test)"
   ]
  },
  {
   "cell_type": "code",
   "execution_count": 66,
   "metadata": {},
   "outputs": [
    {
     "name": "stdout",
     "output_type": "stream",
     "text": [
      "KNN best parameters: {'n_neighbors': 10}\n",
      "KNN Train score: 0.7918552036199095\n",
      "KNN Test score: 0.6818980667838312\n",
      "KNN Test Accuracy score: 0.5653809971777987\n"
     ]
    }
   ],
   "source": [
    "Neighbor_List=[3,5,10,20,50]\n",
    "parameters = {'n_neighbors':Neighbor_List}\n",
    "KNNC = KNeighborsClassifier()\n",
    "clf4 = GridSearchCV(KNNC, parameters, cv=5, verbose=0,scoring =make_scorer(recall_score,pos_label=0))\n",
    "clf4.fit(X_train_scaled, y_train)\n",
    "\n",
    "y_pred = clf4.predict(X_test_scaled)\n",
    "print(\"KNN best parameters:\", clf4.best_params_)\n",
    "print(\"KNN Train score:\", clf4.score(X_train_scaled, y_train))\n",
    "print(\"KNN Test score:\", clf4.score(X_test_scaled, y_test))\n",
    "print(\"KNN Test Accuracy score:\", accuracy_score(y_pred, y_test))"
   ]
  },
  {
   "cell_type": "code",
   "execution_count": 67,
   "metadata": {},
   "outputs": [
    {
     "data": {
      "text/plain": [
       "Text(0.5, 1, 'KNN Classifier')"
      ]
     },
     "execution_count": 67,
     "metadata": {},
     "output_type": "execute_result"
    },
    {
     "data": {
      "image/png": "[encoded data removed]",
      "text/plain": [
       "<Figure size 432x288 with 2 Axes>"
      ]
     },
     "metadata": {
      "needs_background": "light"
     },
     "output_type": "display_data"
    }
   ],
   "source": [
    "ax = plt.subplot()\n",
    "Model_Predictions = clf4.predict(X_test_scaled)\n",
    "Model_Confusion_Matrix = confusion_matrix(Model_Predictions,y_test)\n",
    "sns.heatmap(Model_Confusion_Matrix,annot=True,fmt = \"d\",square = True,ax = ax, linewidths = 1,linecolor = \"w\",cmap = \"Pastel2\")\n",
    "ax.set_xlabel('True labels')\n",
    "ax.set_ylabel('Predicted labels')\n",
    "ax.xaxis.set_ticklabels([\"Loss\",\"Profit\"])\n",
    "ax.yaxis.set_ticklabels([\"Loss\",\"Profit\"], va=\"center\")\n",
    "b, t = plt.ylim() \n",
    "b += 0.5\n",
    "t -= 0.5\n",
    "plt.ylim(b, t)\n",
    "plt.title('KNN Classifier')"
   ]
  },
  {
   "cell_type": "markdown",
   "metadata": {},
   "source": [
    "### 1.1.2.2.5) Gaussian Naive Bayes Classifier"
   ]
  },
  {
   "cell_type": "code",
   "execution_count": 68,
   "metadata": {},
   "outputs": [
    {
     "name": "stdout",
     "output_type": "stream",
     "text": [
      "GNB Train score: 0.5605326876513317\n",
      "GNB Test score: 0.6077140169332079\n"
     ]
    }
   ],
   "source": [
    "GNB = GaussianNB()\n",
    "GNB.fit(X_train,y_train)\n",
    "    \n",
    "y_pred = GNB.predict(X_test)\n",
    "print(\"GNB Train score:\", GNB.score(X_train, y_train))\n",
    "print(\"GNB Test score:\", GNB.score(X_test, y_test))"
   ]
  },
  {
   "cell_type": "code",
   "execution_count": 69,
   "metadata": {},
   "outputs": [
    {
     "data": {
      "text/plain": [
       "Text(0.5, 1, 'Gaussian Naive Bayes Classifier')"
      ]
     },
     "execution_count": 69,
     "metadata": {},
     "output_type": "execute_result"
    },
    {
     "data": {
      "image/png": "[encoded data removed]",
      "text/plain": [
       "<Figure size 432x288 with 2 Axes>"
      ]
     },
     "metadata": {
      "needs_background": "light"
     },
     "output_type": "display_data"
    }
   ],
   "source": [
    "ax = plt.subplot()\n",
    "Model_Predictions = GNB.predict(X_test)\n",
    "Model_Confusion_Matrix = confusion_matrix(Model_Predictions,y_test)\n",
    "sns.heatmap(Model_Confusion_Matrix,annot=True,fmt = \"d\",square = True,ax = ax, linewidths = 1,linecolor = \"w\",cmap = \"Pastel2\")\n",
    "ax.set_xlabel('True labels')\n",
    "ax.set_ylabel('Predicted labels')\n",
    "ax.xaxis.set_ticklabels([\"Loss\",\"Profit\"])\n",
    "ax.yaxis.set_ticklabels([\"Loss\",\"Profit\"], va=\"center\")\n",
    "b, t = plt.ylim() \n",
    "b += 0.5\n",
    "t -= 0.5\n",
    "plt.ylim(b, t)\n",
    "plt.title('Gaussian Naive Bayes Classifier')"
   ]
  },
  {
   "cell_type": "markdown",
   "metadata": {},
   "source": [
    "## 1.2) Only US and UK Movies"
   ]
  },
  {
   "cell_type": "code",
   "execution_count": 70,
   "metadata": {},
   "outputs": [
    {
     "data": {
      "text/html": [
       "<div>\n",
       "<style scoped>\n",
       "    .dataframe tbody tr th:only-of-type {\n",
       "        vertical-align: middle;\n",
       "    }\n",
       "\n",
       "    .dataframe tbody tr th {\n",
       "        vertical-align: top;\n",
       "    }\n",
       "\n",
       "    .dataframe thead th {\n",
       "        text-align: right;\n",
       "    }\n",
       "</style>\n",
       "<table border=\"1\" class=\"dataframe\">\n",
       "  <thead>\n",
       "    <tr style=\"text-align: right;\">\n",
       "      <th></th>\n",
       "      <th>duration</th>\n",
       "      <th>director_facebook_likes</th>\n",
       "      <th>actor_3_facebook_likes</th>\n",
       "      <th>actor_1_facebook_likes</th>\n",
       "      <th>cast_total_facebook_likes</th>\n",
       "      <th>facenumber_in_poster</th>\n",
       "      <th>budget</th>\n",
       "      <th>actor_2_facebook_likes</th>\n",
       "      <th>Biography</th>\n",
       "      <th>Comedy</th>\n",
       "      <th>...</th>\n",
       "      <th>Mystery_Thriller_Horror</th>\n",
       "      <th>Sci-Fi_Fantasy</th>\n",
       "      <th>Family_Animation</th>\n",
       "      <th>Action_Adventure</th>\n",
       "      <th>History_War</th>\n",
       "      <th>Others</th>\n",
       "      <th>gross_budget_ratio</th>\n",
       "      <th>content_rating_PG</th>\n",
       "      <th>content_rating_PG-13</th>\n",
       "      <th>content_rating_R</th>\n",
       "    </tr>\n",
       "  </thead>\n",
       "  <tbody>\n",
       "    <tr>\n",
       "      <td>0</td>\n",
       "      <td>123.0</td>\n",
       "      <td>446.0</td>\n",
       "      <td>821.0</td>\n",
       "      <td>20000.0</td>\n",
       "      <td>22209</td>\n",
       "      <td>1.0</td>\n",
       "      <td>4.800000e+07</td>\n",
       "      <td>1000.0</td>\n",
       "      <td>0</td>\n",
       "      <td>1</td>\n",
       "      <td>...</td>\n",
       "      <td>0</td>\n",
       "      <td>1</td>\n",
       "      <td>0</td>\n",
       "      <td>0</td>\n",
       "      <td>0</td>\n",
       "      <td>0</td>\n",
       "      <td>0.981155</td>\n",
       "      <td>0</td>\n",
       "      <td>1</td>\n",
       "      <td>0</td>\n",
       "    </tr>\n",
       "    <tr>\n",
       "      <td>3</td>\n",
       "      <td>148.0</td>\n",
       "      <td>644.0</td>\n",
       "      <td>326.0</td>\n",
       "      <td>1000.0</td>\n",
       "      <td>2566</td>\n",
       "      <td>1.0</td>\n",
       "      <td>2.700000e+07</td>\n",
       "      <td>809.0</td>\n",
       "      <td>0</td>\n",
       "      <td>1</td>\n",
       "      <td>...</td>\n",
       "      <td>0</td>\n",
       "      <td>0</td>\n",
       "      <td>0</td>\n",
       "      <td>1</td>\n",
       "      <td>0</td>\n",
       "      <td>1</td>\n",
       "      <td>2.007407</td>\n",
       "      <td>0</td>\n",
       "      <td>0</td>\n",
       "      <td>1</td>\n",
       "    </tr>\n",
       "    <tr>\n",
       "      <td>5</td>\n",
       "      <td>124.0</td>\n",
       "      <td>42.0</td>\n",
       "      <td>161.0</td>\n",
       "      <td>801.0</td>\n",
       "      <td>1462</td>\n",
       "      <td>0.0</td>\n",
       "      <td>2.000000e+07</td>\n",
       "      <td>174.0</td>\n",
       "      <td>1</td>\n",
       "      <td>1</td>\n",
       "      <td>...</td>\n",
       "      <td>0</td>\n",
       "      <td>0</td>\n",
       "      <td>0</td>\n",
       "      <td>0</td>\n",
       "      <td>0</td>\n",
       "      <td>1</td>\n",
       "      <td>0.100000</td>\n",
       "      <td>1</td>\n",
       "      <td>0</td>\n",
       "      <td>0</td>\n",
       "    </tr>\n",
       "    <tr>\n",
       "      <td>6</td>\n",
       "      <td>124.0</td>\n",
       "      <td>150.0</td>\n",
       "      <td>572.0</td>\n",
       "      <td>874.0</td>\n",
       "      <td>2667</td>\n",
       "      <td>0.0</td>\n",
       "      <td>5.166449e+07</td>\n",
       "      <td>816.0</td>\n",
       "      <td>1</td>\n",
       "      <td>0</td>\n",
       "      <td>...</td>\n",
       "      <td>0</td>\n",
       "      <td>0</td>\n",
       "      <td>0</td>\n",
       "      <td>0</td>\n",
       "      <td>0</td>\n",
       "      <td>1</td>\n",
       "      <td>1.546517</td>\n",
       "      <td>1</td>\n",
       "      <td>0</td>\n",
       "      <td>0</td>\n",
       "    </tr>\n",
       "    <tr>\n",
       "      <td>7</td>\n",
       "      <td>104.0</td>\n",
       "      <td>0.0</td>\n",
       "      <td>517.0</td>\n",
       "      <td>754.0</td>\n",
       "      <td>2442</td>\n",
       "      <td>0.0</td>\n",
       "      <td>6.500000e+06</td>\n",
       "      <td>567.0</td>\n",
       "      <td>0</td>\n",
       "      <td>0</td>\n",
       "      <td>...</td>\n",
       "      <td>1</td>\n",
       "      <td>0</td>\n",
       "      <td>0</td>\n",
       "      <td>0</td>\n",
       "      <td>0</td>\n",
       "      <td>0</td>\n",
       "      <td>4.907538</td>\n",
       "      <td>0</td>\n",
       "      <td>0</td>\n",
       "      <td>0</td>\n",
       "    </tr>\n",
       "    <tr>\n",
       "      <td>...</td>\n",
       "      <td>...</td>\n",
       "      <td>...</td>\n",
       "      <td>...</td>\n",
       "      <td>...</td>\n",
       "      <td>...</td>\n",
       "      <td>...</td>\n",
       "      <td>...</td>\n",
       "      <td>...</td>\n",
       "      <td>...</td>\n",
       "      <td>...</td>\n",
       "      <td>...</td>\n",
       "      <td>...</td>\n",
       "      <td>...</td>\n",
       "      <td>...</td>\n",
       "      <td>...</td>\n",
       "      <td>...</td>\n",
       "      <td>...</td>\n",
       "      <td>...</td>\n",
       "      <td>...</td>\n",
       "      <td>...</td>\n",
       "      <td>...</td>\n",
       "    </tr>\n",
       "    <tr>\n",
       "      <td>3846</td>\n",
       "      <td>121.0</td>\n",
       "      <td>35.0</td>\n",
       "      <td>473.0</td>\n",
       "      <td>4000.0</td>\n",
       "      <td>6617</td>\n",
       "      <td>0.0</td>\n",
       "      <td>5.000000e+06</td>\n",
       "      <td>849.0</td>\n",
       "      <td>0</td>\n",
       "      <td>0</td>\n",
       "      <td>...</td>\n",
       "      <td>0</td>\n",
       "      <td>0</td>\n",
       "      <td>0</td>\n",
       "      <td>0</td>\n",
       "      <td>0</td>\n",
       "      <td>0</td>\n",
       "      <td>0.940072</td>\n",
       "      <td>0</td>\n",
       "      <td>1</td>\n",
       "      <td>0</td>\n",
       "    </tr>\n",
       "    <tr>\n",
       "      <td>3847</td>\n",
       "      <td>92.0</td>\n",
       "      <td>89.0</td>\n",
       "      <td>190.0</td>\n",
       "      <td>17000.0</td>\n",
       "      <td>17860</td>\n",
       "      <td>0.0</td>\n",
       "      <td>3.500000e+07</td>\n",
       "      <td>329.0</td>\n",
       "      <td>0</td>\n",
       "      <td>1</td>\n",
       "      <td>...</td>\n",
       "      <td>0</td>\n",
       "      <td>0</td>\n",
       "      <td>0</td>\n",
       "      <td>0</td>\n",
       "      <td>0</td>\n",
       "      <td>0</td>\n",
       "      <td>1.579766</td>\n",
       "      <td>0</td>\n",
       "      <td>0</td>\n",
       "      <td>1</td>\n",
       "    </tr>\n",
       "    <tr>\n",
       "      <td>3848</td>\n",
       "      <td>100.0</td>\n",
       "      <td>24.0</td>\n",
       "      <td>851.0</td>\n",
       "      <td>15000.0</td>\n",
       "      <td>18786</td>\n",
       "      <td>9.0</td>\n",
       "      <td>2.000000e+07</td>\n",
       "      <td>1000.0</td>\n",
       "      <td>0</td>\n",
       "      <td>1</td>\n",
       "      <td>...</td>\n",
       "      <td>0</td>\n",
       "      <td>0</td>\n",
       "      <td>0</td>\n",
       "      <td>0</td>\n",
       "      <td>0</td>\n",
       "      <td>0</td>\n",
       "      <td>2.773065</td>\n",
       "      <td>0</td>\n",
       "      <td>0</td>\n",
       "      <td>1</td>\n",
       "    </tr>\n",
       "    <tr>\n",
       "      <td>3849</td>\n",
       "      <td>92.0</td>\n",
       "      <td>89.0</td>\n",
       "      <td>355.0</td>\n",
       "      <td>729.0</td>\n",
       "      <td>2848</td>\n",
       "      <td>4.0</td>\n",
       "      <td>5.000000e+06</td>\n",
       "      <td>706.0</td>\n",
       "      <td>0</td>\n",
       "      <td>1</td>\n",
       "      <td>...</td>\n",
       "      <td>0</td>\n",
       "      <td>0</td>\n",
       "      <td>0</td>\n",
       "      <td>0</td>\n",
       "      <td>0</td>\n",
       "      <td>0</td>\n",
       "      <td>2.335036</td>\n",
       "      <td>0</td>\n",
       "      <td>0</td>\n",
       "      <td>1</td>\n",
       "    </tr>\n",
       "    <tr>\n",
       "      <td>3851</td>\n",
       "      <td>120.0</td>\n",
       "      <td>18.0</td>\n",
       "      <td>295.0</td>\n",
       "      <td>634.0</td>\n",
       "      <td>1810</td>\n",
       "      <td>11.0</td>\n",
       "      <td>5.000000e+06</td>\n",
       "      <td>420.0</td>\n",
       "      <td>0</td>\n",
       "      <td>0</td>\n",
       "      <td>...</td>\n",
       "      <td>0</td>\n",
       "      <td>0</td>\n",
       "      <td>0</td>\n",
       "      <td>0</td>\n",
       "      <td>0</td>\n",
       "      <td>0</td>\n",
       "      <td>4.154614</td>\n",
       "      <td>1</td>\n",
       "      <td>0</td>\n",
       "      <td>0</td>\n",
       "    </tr>\n",
       "  </tbody>\n",
       "</table>\n",
       "<p>3053 rows × 23 columns</p>\n",
       "</div>"
      ],
      "text/plain": [
       "      duration  director_facebook_likes  actor_3_facebook_likes  \\\n",
       "0        123.0                    446.0                   821.0   \n",
       "3        148.0                    644.0                   326.0   \n",
       "5        124.0                     42.0                   161.0   \n",
       "6        124.0                    150.0                   572.0   \n",
       "7        104.0                      0.0                   517.0   \n",
       "...        ...                      ...                     ...   \n",
       "3846     121.0                     35.0                   473.0   \n",
       "3847      92.0                     89.0                   190.0   \n",
       "3848     100.0                     24.0                   851.0   \n",
       "3849      92.0                     89.0                   355.0   \n",
       "3851     120.0                     18.0                   295.0   \n",
       "\n",
       "      actor_1_facebook_likes  cast_total_facebook_likes  facenumber_in_poster  \\\n",
       "0                    20000.0                      22209                   1.0   \n",
       "3                     1000.0                       2566                   1.0   \n",
       "5                      801.0                       1462                   0.0   \n",
       "6                      874.0                       2667                   0.0   \n",
       "7                      754.0                       2442                   0.0   \n",
       "...                      ...                        ...                   ...   \n",
       "3846                  4000.0                       6617                   0.0   \n",
       "3847                 17000.0                      17860                   0.0   \n",
       "3848                 15000.0                      18786                   9.0   \n",
       "3849                   729.0                       2848                   4.0   \n",
       "3851                   634.0                       1810                  11.0   \n",
       "\n",
       "            budget  actor_2_facebook_likes  Biography  Comedy  ...  \\\n",
       "0     4.800000e+07                  1000.0          0       1  ...   \n",
       "3     2.700000e+07                   809.0          0       1  ...   \n",
       "5     2.000000e+07                   174.0          1       1  ...   \n",
       "6     5.166449e+07                   816.0          1       0  ...   \n",
       "7     6.500000e+06                   567.0          0       0  ...   \n",
       "...            ...                     ...        ...     ...  ...   \n",
       "3846  5.000000e+06                   849.0          0       0  ...   \n",
       "3847  3.500000e+07                   329.0          0       1  ...   \n",
       "3848  2.000000e+07                  1000.0          0       1  ...   \n",
       "3849  5.000000e+06                   706.0          0       1  ...   \n",
       "3851  5.000000e+06                   420.0          0       0  ...   \n",
       "\n",
       "      Mystery_Thriller_Horror  Sci-Fi_Fantasy  Family_Animation  \\\n",
       "0                           0               1                 0   \n",
       "3                           0               0                 0   \n",
       "5                           0               0                 0   \n",
       "6                           0               0                 0   \n",
       "7                           1               0                 0   \n",
       "...                       ...             ...               ...   \n",
       "3846                        0               0                 0   \n",
       "3847                        0               0                 0   \n",
       "3848                        0               0                 0   \n",
       "3849                        0               0                 0   \n",
       "3851                        0               0                 0   \n",
       "\n",
       "      Action_Adventure  History_War  Others  gross_budget_ratio  \\\n",
       "0                    0            0       0            0.981155   \n",
       "3                    1            0       1            2.007407   \n",
       "5                    0            0       1            0.100000   \n",
       "6                    0            0       1            1.546517   \n",
       "7                    0            0       0            4.907538   \n",
       "...                ...          ...     ...                 ...   \n",
       "3846                 0            0       0            0.940072   \n",
       "3847                 0            0       0            1.579766   \n",
       "3848                 0            0       0            2.773065   \n",
       "3849                 0            0       0            2.335036   \n",
       "3851                 0            0       0            4.154614   \n",
       "\n",
       "      content_rating_PG  content_rating_PG-13  content_rating_R  \n",
       "0                     0                     1                 0  \n",
       "3                     0                     0                 1  \n",
       "5                     1                     0                 0  \n",
       "6                     1                     0                 0  \n",
       "7                     0                     0                 0  \n",
       "...                 ...                   ...               ...  \n",
       "3846                  0                     1                 0  \n",
       "3847                  0                     0                 1  \n",
       "3848                  0                     0                 1  \n",
       "3849                  0                     0                 1  \n",
       "3851                  1                     0                 0  \n",
       "\n",
       "[3053 rows x 23 columns]"
      ]
     },
     "execution_count": 70,
     "metadata": {},
     "output_type": "execute_result"
    }
   ],
   "source": [
    "classification2_df= classification_df.copy()\n",
    "classification2_df = classification2_df[(classification2_df.country=='USA') | (classification2_df.country=='UK')]\n",
    "classification2_df = classification2_df[(classification2_df.language=='English')]\n",
    "classification2_df=classification2_df.drop(columns=['country','language'])\n",
    "df3 = pd.get_dummies(classification2_df, columns=['content_rating'])\n",
    "df3 = df3.drop(columns =['content_rating_Not Rated','content_rating_G','content_rating_X','content_rating_NC-17'])\n",
    "df3 = df3[df3.gross_budget_ratio<=5]\n",
    "df3"
   ]
  },
  {
   "cell_type": "markdown",
   "metadata": {},
   "source": [
    "## 1.2.1) Without log and feature elimination"
   ]
  },
  {
   "cell_type": "markdown",
   "metadata": {},
   "source": [
    "## 1.2.1.1) Seperating into 3 classes"
   ]
  },
  {
   "cell_type": "code",
   "execution_count": 71,
   "metadata": {},
   "outputs": [
    {
     "data": {
      "text/plain": [
       "0    1526\n",
       "1     860\n",
       "2     667\n",
       "Name: gross_budget_ratio, dtype: int64"
      ]
     },
     "execution_count": 71,
     "metadata": {},
     "output_type": "execute_result"
    }
   ],
   "source": [
    "RatioClass = df3['gross_budget_ratio'].transform(lambda x: 0 if x <= 1 else (1 if x <= 2 else 2))\n",
    "RatioClass = RatioClass.to_frame()\n",
    "Counts=RatioClass['gross_budget_ratio'].value_counts()\n",
    "Counts"
   ]
  },
  {
   "cell_type": "code",
   "execution_count": 72,
   "metadata": {},
   "outputs": [],
   "source": [
    "df31 = df3.copy()\n",
    "df31['gross_budget_ratio'] = RatioClass['gross_budget_ratio']"
   ]
  },
  {
   "cell_type": "code",
   "execution_count": 73,
   "metadata": {},
   "outputs": [
    {
     "data": {
      "text/html": [
       "<div>\n",
       "<style scoped>\n",
       "    .dataframe tbody tr th:only-of-type {\n",
       "        vertical-align: middle;\n",
       "    }\n",
       "\n",
       "    .dataframe tbody tr th {\n",
       "        vertical-align: top;\n",
       "    }\n",
       "\n",
       "    .dataframe thead th {\n",
       "        text-align: right;\n",
       "    }\n",
       "</style>\n",
       "<table border=\"1\" class=\"dataframe\">\n",
       "  <thead>\n",
       "    <tr style=\"text-align: right;\">\n",
       "      <th></th>\n",
       "      <th>duration</th>\n",
       "      <th>director_facebook_likes</th>\n",
       "      <th>actor_3_facebook_likes</th>\n",
       "      <th>actor_1_facebook_likes</th>\n",
       "      <th>cast_total_facebook_likes</th>\n",
       "      <th>facenumber_in_poster</th>\n",
       "      <th>budget</th>\n",
       "      <th>actor_2_facebook_likes</th>\n",
       "      <th>Biography</th>\n",
       "      <th>Comedy</th>\n",
       "      <th>...</th>\n",
       "      <th>Mystery_Thriller_Horror</th>\n",
       "      <th>Sci-Fi_Fantasy</th>\n",
       "      <th>Family_Animation</th>\n",
       "      <th>Action_Adventure</th>\n",
       "      <th>History_War</th>\n",
       "      <th>Others</th>\n",
       "      <th>gross_budget_ratio</th>\n",
       "      <th>content_rating_PG</th>\n",
       "      <th>content_rating_PG-13</th>\n",
       "      <th>content_rating_R</th>\n",
       "    </tr>\n",
       "  </thead>\n",
       "  <tbody>\n",
       "    <tr>\n",
       "      <td>0</td>\n",
       "      <td>123.0</td>\n",
       "      <td>446.0</td>\n",
       "      <td>821.0</td>\n",
       "      <td>20000.0</td>\n",
       "      <td>22209</td>\n",
       "      <td>1.0</td>\n",
       "      <td>4.800000e+07</td>\n",
       "      <td>1000.0</td>\n",
       "      <td>0</td>\n",
       "      <td>1</td>\n",
       "      <td>...</td>\n",
       "      <td>0</td>\n",
       "      <td>1</td>\n",
       "      <td>0</td>\n",
       "      <td>0</td>\n",
       "      <td>0</td>\n",
       "      <td>0</td>\n",
       "      <td>0</td>\n",
       "      <td>0</td>\n",
       "      <td>1</td>\n",
       "      <td>0</td>\n",
       "    </tr>\n",
       "    <tr>\n",
       "      <td>3</td>\n",
       "      <td>148.0</td>\n",
       "      <td>644.0</td>\n",
       "      <td>326.0</td>\n",
       "      <td>1000.0</td>\n",
       "      <td>2566</td>\n",
       "      <td>1.0</td>\n",
       "      <td>2.700000e+07</td>\n",
       "      <td>809.0</td>\n",
       "      <td>0</td>\n",
       "      <td>1</td>\n",
       "      <td>...</td>\n",
       "      <td>0</td>\n",
       "      <td>0</td>\n",
       "      <td>0</td>\n",
       "      <td>1</td>\n",
       "      <td>0</td>\n",
       "      <td>1</td>\n",
       "      <td>2</td>\n",
       "      <td>0</td>\n",
       "      <td>0</td>\n",
       "      <td>1</td>\n",
       "    </tr>\n",
       "    <tr>\n",
       "      <td>5</td>\n",
       "      <td>124.0</td>\n",
       "      <td>42.0</td>\n",
       "      <td>161.0</td>\n",
       "      <td>801.0</td>\n",
       "      <td>1462</td>\n",
       "      <td>0.0</td>\n",
       "      <td>2.000000e+07</td>\n",
       "      <td>174.0</td>\n",
       "      <td>1</td>\n",
       "      <td>1</td>\n",
       "      <td>...</td>\n",
       "      <td>0</td>\n",
       "      <td>0</td>\n",
       "      <td>0</td>\n",
       "      <td>0</td>\n",
       "      <td>0</td>\n",
       "      <td>1</td>\n",
       "      <td>0</td>\n",
       "      <td>1</td>\n",
       "      <td>0</td>\n",
       "      <td>0</td>\n",
       "    </tr>\n",
       "    <tr>\n",
       "      <td>6</td>\n",
       "      <td>124.0</td>\n",
       "      <td>150.0</td>\n",
       "      <td>572.0</td>\n",
       "      <td>874.0</td>\n",
       "      <td>2667</td>\n",
       "      <td>0.0</td>\n",
       "      <td>5.166449e+07</td>\n",
       "      <td>816.0</td>\n",
       "      <td>1</td>\n",
       "      <td>0</td>\n",
       "      <td>...</td>\n",
       "      <td>0</td>\n",
       "      <td>0</td>\n",
       "      <td>0</td>\n",
       "      <td>0</td>\n",
       "      <td>0</td>\n",
       "      <td>1</td>\n",
       "      <td>1</td>\n",
       "      <td>1</td>\n",
       "      <td>0</td>\n",
       "      <td>0</td>\n",
       "    </tr>\n",
       "    <tr>\n",
       "      <td>7</td>\n",
       "      <td>104.0</td>\n",
       "      <td>0.0</td>\n",
       "      <td>517.0</td>\n",
       "      <td>754.0</td>\n",
       "      <td>2442</td>\n",
       "      <td>0.0</td>\n",
       "      <td>6.500000e+06</td>\n",
       "      <td>567.0</td>\n",
       "      <td>0</td>\n",
       "      <td>0</td>\n",
       "      <td>...</td>\n",
       "      <td>1</td>\n",
       "      <td>0</td>\n",
       "      <td>0</td>\n",
       "      <td>0</td>\n",
       "      <td>0</td>\n",
       "      <td>0</td>\n",
       "      <td>2</td>\n",
       "      <td>0</td>\n",
       "      <td>0</td>\n",
       "      <td>0</td>\n",
       "    </tr>\n",
       "    <tr>\n",
       "      <td>...</td>\n",
       "      <td>...</td>\n",
       "      <td>...</td>\n",
       "      <td>...</td>\n",
       "      <td>...</td>\n",
       "      <td>...</td>\n",
       "      <td>...</td>\n",
       "      <td>...</td>\n",
       "      <td>...</td>\n",
       "      <td>...</td>\n",
       "      <td>...</td>\n",
       "      <td>...</td>\n",
       "      <td>...</td>\n",
       "      <td>...</td>\n",
       "      <td>...</td>\n",
       "      <td>...</td>\n",
       "      <td>...</td>\n",
       "      <td>...</td>\n",
       "      <td>...</td>\n",
       "      <td>...</td>\n",
       "      <td>...</td>\n",
       "      <td>...</td>\n",
       "    </tr>\n",
       "    <tr>\n",
       "      <td>3846</td>\n",
       "      <td>121.0</td>\n",
       "      <td>35.0</td>\n",
       "      <td>473.0</td>\n",
       "      <td>4000.0</td>\n",
       "      <td>6617</td>\n",
       "      <td>0.0</td>\n",
       "      <td>5.000000e+06</td>\n",
       "      <td>849.0</td>\n",
       "      <td>0</td>\n",
       "      <td>0</td>\n",
       "      <td>...</td>\n",
       "      <td>0</td>\n",
       "      <td>0</td>\n",
       "      <td>0</td>\n",
       "      <td>0</td>\n",
       "      <td>0</td>\n",
       "      <td>0</td>\n",
       "      <td>0</td>\n",
       "      <td>0</td>\n",
       "      <td>1</td>\n",
       "      <td>0</td>\n",
       "    </tr>\n",
       "    <tr>\n",
       "      <td>3847</td>\n",
       "      <td>92.0</td>\n",
       "      <td>89.0</td>\n",
       "      <td>190.0</td>\n",
       "      <td>17000.0</td>\n",
       "      <td>17860</td>\n",
       "      <td>0.0</td>\n",
       "      <td>3.500000e+07</td>\n",
       "      <td>329.0</td>\n",
       "      <td>0</td>\n",
       "      <td>1</td>\n",
       "      <td>...</td>\n",
       "      <td>0</td>\n",
       "      <td>0</td>\n",
       "      <td>0</td>\n",
       "      <td>0</td>\n",
       "      <td>0</td>\n",
       "      <td>0</td>\n",
       "      <td>1</td>\n",
       "      <td>0</td>\n",
       "      <td>0</td>\n",
       "      <td>1</td>\n",
       "    </tr>\n",
       "    <tr>\n",
       "      <td>3848</td>\n",
       "      <td>100.0</td>\n",
       "      <td>24.0</td>\n",
       "      <td>851.0</td>\n",
       "      <td>15000.0</td>\n",
       "      <td>18786</td>\n",
       "      <td>9.0</td>\n",
       "      <td>2.000000e+07</td>\n",
       "      <td>1000.0</td>\n",
       "      <td>0</td>\n",
       "      <td>1</td>\n",
       "      <td>...</td>\n",
       "      <td>0</td>\n",
       "      <td>0</td>\n",
       "      <td>0</td>\n",
       "      <td>0</td>\n",
       "      <td>0</td>\n",
       "      <td>0</td>\n",
       "      <td>2</td>\n",
       "      <td>0</td>\n",
       "      <td>0</td>\n",
       "      <td>1</td>\n",
       "    </tr>\n",
       "    <tr>\n",
       "      <td>3849</td>\n",
       "      <td>92.0</td>\n",
       "      <td>89.0</td>\n",
       "      <td>355.0</td>\n",
       "      <td>729.0</td>\n",
       "      <td>2848</td>\n",
       "      <td>4.0</td>\n",
       "      <td>5.000000e+06</td>\n",
       "      <td>706.0</td>\n",
       "      <td>0</td>\n",
       "      <td>1</td>\n",
       "      <td>...</td>\n",
       "      <td>0</td>\n",
       "      <td>0</td>\n",
       "      <td>0</td>\n",
       "      <td>0</td>\n",
       "      <td>0</td>\n",
       "      <td>0</td>\n",
       "      <td>2</td>\n",
       "      <td>0</td>\n",
       "      <td>0</td>\n",
       "      <td>1</td>\n",
       "    </tr>\n",
       "    <tr>\n",
       "      <td>3851</td>\n",
       "      <td>120.0</td>\n",
       "      <td>18.0</td>\n",
       "      <td>295.0</td>\n",
       "      <td>634.0</td>\n",
       "      <td>1810</td>\n",
       "      <td>11.0</td>\n",
       "      <td>5.000000e+06</td>\n",
       "      <td>420.0</td>\n",
       "      <td>0</td>\n",
       "      <td>0</td>\n",
       "      <td>...</td>\n",
       "      <td>0</td>\n",
       "      <td>0</td>\n",
       "      <td>0</td>\n",
       "      <td>0</td>\n",
       "      <td>0</td>\n",
       "      <td>0</td>\n",
       "      <td>2</td>\n",
       "      <td>1</td>\n",
       "      <td>0</td>\n",
       "      <td>0</td>\n",
       "    </tr>\n",
       "  </tbody>\n",
       "</table>\n",
       "<p>3053 rows × 23 columns</p>\n",
       "</div>"
      ],
      "text/plain": [
       "      duration  director_facebook_likes  actor_3_facebook_likes  \\\n",
       "0        123.0                    446.0                   821.0   \n",
       "3        148.0                    644.0                   326.0   \n",
       "5        124.0                     42.0                   161.0   \n",
       "6        124.0                    150.0                   572.0   \n",
       "7        104.0                      0.0                   517.0   \n",
       "...        ...                      ...                     ...   \n",
       "3846     121.0                     35.0                   473.0   \n",
       "3847      92.0                     89.0                   190.0   \n",
       "3848     100.0                     24.0                   851.0   \n",
       "3849      92.0                     89.0                   355.0   \n",
       "3851     120.0                     18.0                   295.0   \n",
       "\n",
       "      actor_1_facebook_likes  cast_total_facebook_likes  facenumber_in_poster  \\\n",
       "0                    20000.0                      22209                   1.0   \n",
       "3                     1000.0                       2566                   1.0   \n",
       "5                      801.0                       1462                   0.0   \n",
       "6                      874.0                       2667                   0.0   \n",
       "7                      754.0                       2442                   0.0   \n",
       "...                      ...                        ...                   ...   \n",
       "3846                  4000.0                       6617                   0.0   \n",
       "3847                 17000.0                      17860                   0.0   \n",
       "3848                 15000.0                      18786                   9.0   \n",
       "3849                   729.0                       2848                   4.0   \n",
       "3851                   634.0                       1810                  11.0   \n",
       "\n",
       "            budget  actor_2_facebook_likes  Biography  Comedy  ...  \\\n",
       "0     4.800000e+07                  1000.0          0       1  ...   \n",
       "3     2.700000e+07                   809.0          0       1  ...   \n",
       "5     2.000000e+07                   174.0          1       1  ...   \n",
       "6     5.166449e+07                   816.0          1       0  ...   \n",
       "7     6.500000e+06                   567.0          0       0  ...   \n",
       "...            ...                     ...        ...     ...  ...   \n",
       "3846  5.000000e+06                   849.0          0       0  ...   \n",
       "3847  3.500000e+07                   329.0          0       1  ...   \n",
       "3848  2.000000e+07                  1000.0          0       1  ...   \n",
       "3849  5.000000e+06                   706.0          0       1  ...   \n",
       "3851  5.000000e+06                   420.0          0       0  ...   \n",
       "\n",
       "      Mystery_Thriller_Horror  Sci-Fi_Fantasy  Family_Animation  \\\n",
       "0                           0               1                 0   \n",
       "3                           0               0                 0   \n",
       "5                           0               0                 0   \n",
       "6                           0               0                 0   \n",
       "7                           1               0                 0   \n",
       "...                       ...             ...               ...   \n",
       "3846                        0               0                 0   \n",
       "3847                        0               0                 0   \n",
       "3848                        0               0                 0   \n",
       "3849                        0               0                 0   \n",
       "3851                        0               0                 0   \n",
       "\n",
       "      Action_Adventure  History_War  Others  gross_budget_ratio  \\\n",
       "0                    0            0       0                   0   \n",
       "3                    1            0       1                   2   \n",
       "5                    0            0       1                   0   \n",
       "6                    0            0       1                   1   \n",
       "7                    0            0       0                   2   \n",
       "...                ...          ...     ...                 ...   \n",
       "3846                 0            0       0                   0   \n",
       "3847                 0            0       0                   1   \n",
       "3848                 0            0       0                   2   \n",
       "3849                 0            0       0                   2   \n",
       "3851                 0            0       0                   2   \n",
       "\n",
       "      content_rating_PG  content_rating_PG-13  content_rating_R  \n",
       "0                     0                     1                 0  \n",
       "3                     0                     0                 1  \n",
       "5                     1                     0                 0  \n",
       "6                     1                     0                 0  \n",
       "7                     0                     0                 0  \n",
       "...                 ...                   ...               ...  \n",
       "3846                  0                     1                 0  \n",
       "3847                  0                     0                 1  \n",
       "3848                  0                     0                 1  \n",
       "3849                  0                     0                 1  \n",
       "3851                  1                     0                 0  \n",
       "\n",
       "[3053 rows x 23 columns]"
      ]
     },
     "execution_count": 73,
     "metadata": {},
     "output_type": "execute_result"
    }
   ],
   "source": [
    "df31"
   ]
  },
  {
   "cell_type": "code",
   "execution_count": 74,
   "metadata": {},
   "outputs": [
    {
     "name": "stdout",
     "output_type": "stream",
     "text": [
      "Dimensionality of X_train: (2137, 22)\n",
      "Dimensionality of X_test : (916, 22)\n",
      "Dimensionality of y_train: (2137,)\n",
      "Dimensionality of y_test : (916,)\n"
     ]
    }
   ],
   "source": [
    "X = df31.drop(columns=['gross_budget_ratio'])\n",
    "y = df31['gross_budget_ratio']\n",
    "X_train, X_test, y_train, y_test = train_test_split(X, y, stratify=y, test_size=0.3, random_state=10) \n",
    "print(f\"Dimensionality of X_train: {X_train.shape}\")\n",
    "print(f\"Dimensionality of X_test : {X_test.shape}\")\n",
    "print(f\"Dimensionality of y_train: {y_train.shape}\")\n",
    "print(f\"Dimensionality of y_test : {y_test.shape}\")"
   ]
  },
  {
   "cell_type": "markdown",
   "metadata": {},
   "source": [
    "### 1.2.1.1.1) Multi-Class Logistic Regression"
   ]
  },
  {
   "cell_type": "code",
   "execution_count": 75,
   "metadata": {},
   "outputs": [],
   "source": [
    "smote=SMOTE('minority')\n",
    "X_s, y_s = smote.fit_sample(X_train,y_train)\n",
    "X_sm, y_sm = smote.fit_sample(X_s,y_s)\n",
    "X_sm_train, y_sm_train = shuffle(X_sm, y_sm, random_state=10)"
   ]
  },
  {
   "cell_type": "code",
   "execution_count": 76,
   "metadata": {},
   "outputs": [
    {
     "name": "stdout",
     "output_type": "stream",
     "text": [
      "MLR best parameters: {'C': 0.1, 'penalty': 'l2'}\n",
      "MLR Train score: 0.4288389513108614\n",
      "MLR Test score: 0.3951965065502183\n"
     ]
    }
   ],
   "source": [
    "C_List = [0.001,0.01,0.1,1,10,100,1000]\n",
    "penalty = ['l2','none']\n",
    "parameters = {'C': C_List,'penalty':penalty}\n",
    "MLR = LogisticRegression(multi_class='multinomial', solver='newton-cg')\n",
    "clf1 = GridSearchCV(MLR, parameters, cv=5, verbose=0,scoring ='accuracy')\n",
    "clf1.fit(X_sm_train, y_sm_train)\n",
    "\n",
    "y_pred = clf1.predict(X_test)\n",
    "print(\"MLR best parameters:\", clf1.best_params_)\n",
    "print(\"MLR Train score:\", clf1.score(X_sm_train, y_sm_train))\n",
    "print(\"MLR Test score:\", clf1.score(X_test, y_test))"
   ]
  },
  {
   "cell_type": "code",
   "execution_count": 77,
   "metadata": {},
   "outputs": [
    {
     "data": {
      "text/plain": [
       "Text(0.5, 1, 'Multiclass Logistic Regression')"
      ]
     },
     "execution_count": 77,
     "metadata": {},
     "output_type": "execute_result"
    },
    {
     "data": {
      "image/png": "[encoded data removed]",
      "text/plain": [
       "<Figure size 432x288 with 2 Axes>"
      ]
     },
     "metadata": {
      "needs_background": "light"
     },
     "output_type": "display_data"
    }
   ],
   "source": [
    "ax = plt.subplot()\n",
    "Model_Predictions = clf1.predict(X_test)\n",
    "Model_Confusion_Matrix = confusion_matrix(Model_Predictions,y_test)\n",
    "sns.heatmap(Model_Confusion_Matrix,annot=True,fmt = \"d\",square = True,ax = ax, linewidths = 1,linecolor = \"w\",cmap = \"Pastel2\")\n",
    "ax.set_xlabel('True labels')\n",
    "ax.set_ylabel('Predicted labels')\n",
    "ax.xaxis.set_ticklabels([\"Loss\",\"Low Profit\",'High Profit'])\n",
    "ax.yaxis.set_ticklabels([\"Loss\",\"Low Profit\",'High Profit'], va=\"center\")\n",
    "b, t = plt.ylim() \n",
    "b += 0.5\n",
    "t -= 0.5\n",
    "plt.ylim(b, t)\n",
    "plt.title('Multiclass Logistic Regression')"
   ]
  },
  {
   "cell_type": "markdown",
   "metadata": {},
   "source": [
    "### 1.2.1.1.2) Decision Tree Classifier"
   ]
  },
  {
   "cell_type": "code",
   "execution_count": 78,
   "metadata": {},
   "outputs": [
    {
     "name": "stdout",
     "output_type": "stream",
     "text": [
      "DTC best parameters: {'criterion': 'entropy', 'max_depth': 4, 'min_samples_leaf': 0.025, 'min_samples_split': 0.1}\n",
      "DTC Train score: 0.5128685072531586\n",
      "DTC Test score: 0.47925764192139736\n"
     ]
    }
   ],
   "source": [
    "DTSplitList=[0.001,0.01,0.05,0.1,0.5,0.99]\n",
    "DTLeafList=[0.0005,0.005,0.025,0.05,0.1,0.25,0.5]\n",
    "criterion =['gini','entropy']\n",
    "parameters = {'criterion':criterion,'max_depth':list(range(100,0,-3)),'min_samples_leaf': DTLeafList, 'min_samples_split':DTSplitList}\n",
    "DTC = DecisionTreeClassifier(random_state=10)\n",
    "clf2 = GridSearchCV(DTC, parameters, cv=5, verbose=0,scoring ='accuracy')\n",
    "clf2.fit(X_train, y_train)\n",
    "\n",
    "y_pred = clf2.predict(X_test)\n",
    "print(\"DTC best parameters:\", clf2.best_params_)\n",
    "print(\"DTC Train score:\", clf2.score(X_train, y_train))\n",
    "print(\"DTC Test score:\", clf2.score(X_test, y_test))"
   ]
  },
  {
   "cell_type": "code",
   "execution_count": 79,
   "metadata": {},
   "outputs": [
    {
     "data": {
      "text/plain": [
       "Text(0.5, 1, 'Decision Tree Classifier')"
      ]
     },
     "execution_count": 79,
     "metadata": {},
     "output_type": "execute_result"
    },
    {
     "data": {
      "image/png": "[encoded data removed]",
      "text/plain": [
       "<Figure size 432x288 with 2 Axes>"
      ]
     },
     "metadata": {
      "needs_background": "light"
     },
     "output_type": "display_data"
    }
   ],
   "source": [
    "ax = plt.subplot()\n",
    "Model_Predictions = clf2.predict(X_test)\n",
    "Model_Confusion_Matrix = confusion_matrix(Model_Predictions,y_test)\n",
    "sns.heatmap(Model_Confusion_Matrix,annot=True,fmt = \"d\",square = True,ax = ax, linewidths = 1,linecolor = \"w\",cmap = \"Pastel2\")\n",
    "ax.set_xlabel('True labels')\n",
    "ax.set_ylabel('Predicted labels')\n",
    "ax.xaxis.set_ticklabels([\"Loss\",\"Low Profit\",'High Profit'])\n",
    "ax.yaxis.set_ticklabels([\"Loss\",\"Low Profit\",'High Profit'], va=\"center\")\n",
    "b, t = plt.ylim() \n",
    "b += 0.5\n",
    "t -= 0.5\n",
    "plt.ylim(b, t)\n",
    "plt.title('Decision Tree Classifier')"
   ]
  },
  {
   "cell_type": "markdown",
   "metadata": {},
   "source": [
    "### 1.2.1.1.3) Random Forest Classifier"
   ]
  },
  {
   "cell_type": "code",
   "execution_count": 80,
   "metadata": {},
   "outputs": [
    {
     "name": "stdout",
     "output_type": "stream",
     "text": [
      "RFC best parameters: {'criterion': 'entropy', 'max_depth': 20, 'n_estimators': 100}\n",
      "RFC Train score: 1.0\n",
      "RFC Test score: 0.5010917030567685\n"
     ]
    }
   ],
   "source": [
    "RFEstimatorList = [25,50,100,200]\n",
    "criterion =['gini','entropy']\n",
    "parameters = {'criterion':criterion,'max_depth':list(range(100,0,-10)),'n_estimators':RFEstimatorList}\n",
    "RFC = RandomForestClassifier(random_state=10)\n",
    "clf3 = GridSearchCV(RFC, parameters, cv=5, verbose=0,scoring ='accuracy')\n",
    "clf3.fit(X_train, y_train)\n",
    "\n",
    "y_pred = clf3.predict(X_test)\n",
    "print(\"RFC best parameters:\", clf3.best_params_)\n",
    "print(\"RFC Train score:\", clf3.score(X_train, y_train))\n",
    "print(\"RFC Test score:\", clf3.score(X_test, y_test))"
   ]
  },
  {
   "cell_type": "code",
   "execution_count": 81,
   "metadata": {},
   "outputs": [
    {
     "data": {
      "text/plain": [
       "Text(0.5, 1, 'Random Forest Classifier')"
      ]
     },
     "execution_count": 81,
     "metadata": {},
     "output_type": "execute_result"
    },
    {
     "data": {
      "image/png": "[encoded data removed]",
      "text/plain": [
       "<Figure size 432x288 with 2 Axes>"
      ]
     },
     "metadata": {
      "needs_background": "light"
     },
     "output_type": "display_data"
    }
   ],
   "source": [
    "ax = plt.subplot()\n",
    "Model_Predictions = clf3.predict(X_test)\n",
    "Model_Confusion_Matrix = confusion_matrix(Model_Predictions,y_test)\n",
    "sns.heatmap(Model_Confusion_Matrix,annot=True,fmt = \"d\",square = True,ax = ax, linewidths = 1,linecolor = \"w\",cmap = \"Pastel2\")\n",
    "ax.set_xlabel('True labels')\n",
    "ax.set_ylabel('Predicted labels')\n",
    "ax.xaxis.set_ticklabels([\"Loss\",\"Low Profit\",'High Profit'])\n",
    "ax.yaxis.set_ticklabels([\"Loss\",\"Low Profit\",'High Profit'], va=\"center\")\n",
    "b, t = plt.ylim() \n",
    "b += 0.5\n",
    "t -= 0.5\n",
    "plt.ylim(b, t)\n",
    "plt.title('Random Forest Classifier')"
   ]
  },
  {
   "cell_type": "markdown",
   "metadata": {},
   "source": [
    "### 1.2.1.1.4) KNN Classifier"
   ]
  },
  {
   "cell_type": "code",
   "execution_count": 82,
   "metadata": {},
   "outputs": [],
   "source": [
    "MMScaler = MinMaxScaler()\n",
    "X_train_scaled = MMScaler.fit_transform(X_train)\n",
    "X_test_scaled = MMScaler.transform(X_test)"
   ]
  },
  {
   "cell_type": "code",
   "execution_count": 83,
   "metadata": {},
   "outputs": [
    {
     "name": "stdout",
     "output_type": "stream",
     "text": [
      "KNN best parameters: {'n_neighbors': 20}\n",
      "KNN Train score: 0.5521759475900796\n",
      "KNN Test score: 0.47707423580786024\n"
     ]
    }
   ],
   "source": [
    "Neighbor_List=[3,5,10,20,50]\n",
    "parameters = {'n_neighbors':Neighbor_List}\n",
    "KNNC = KNeighborsClassifier()\n",
    "clf4 = GridSearchCV(KNNC, parameters, cv=5, verbose=0,scoring ='accuracy')\n",
    "clf4.fit(X_train_scaled, y_train)\n",
    "\n",
    "y_pred = clf4.predict(X_test_scaled)\n",
    "print(\"KNN best parameters:\", clf4.best_params_)\n",
    "print(\"KNN Train score:\", clf4.score(X_train_scaled, y_train))\n",
    "print(\"KNN Test score:\", clf4.score(X_test_scaled, y_test))"
   ]
  },
  {
   "cell_type": "code",
   "execution_count": 84,
   "metadata": {},
   "outputs": [
    {
     "data": {
      "text/plain": [
       "Text(0.5, 1, 'KNN Classifier')"
      ]
     },
     "execution_count": 84,
     "metadata": {},
     "output_type": "execute_result"
    },
    {
     "data": {
      "image/png": "[encoded data removed]",
      "text/plain": [
       "<Figure size 432x288 with 2 Axes>"
      ]
     },
     "metadata": {
      "needs_background": "light"
     },
     "output_type": "display_data"
    }
   ],
   "source": [
    "ax = plt.subplot()\n",
    "Model_Predictions = clf4.predict(X_test_scaled)\n",
    "Model_Confusion_Matrix = confusion_matrix(Model_Predictions,y_test)\n",
    "sns.heatmap(Model_Confusion_Matrix,annot=True,fmt = \"d\",square = True,ax = ax, linewidths = 1,linecolor = \"w\",cmap = \"Pastel2\")\n",
    "ax.set_xlabel('True labels')\n",
    "ax.set_ylabel('Predicted labels')\n",
    "ax.xaxis.set_ticklabels([\"Loss\",\"Low Profit\",'High Profit'])\n",
    "ax.yaxis.set_ticklabels([\"Loss\",\"Low Profit\",'High Profit'], va=\"center\")\n",
    "b, t = plt.ylim() \n",
    "b += 0.5\n",
    "t -= 0.5\n",
    "plt.ylim(b, t)\n",
    "plt.title('KNN Classifier')"
   ]
  },
  {
   "cell_type": "markdown",
   "metadata": {},
   "source": [
    "### 1.2.1.1.5) Gaussian Naive Bayes Classifier"
   ]
  },
  {
   "cell_type": "code",
   "execution_count": 85,
   "metadata": {},
   "outputs": [
    {
     "name": "stdout",
     "output_type": "stream",
     "text": [
      "GNB Train score: 0.49368273280299485\n",
      "GNB Test score: 0.47925764192139736\n"
     ]
    }
   ],
   "source": [
    "GNB = GaussianNB()\n",
    "GNB.fit(X_train,y_train)\n",
    "    \n",
    "y_pred = GNB.predict(X_test)\n",
    "print(\"GNB Train score:\", GNB.score(X_train, y_train))\n",
    "print(\"GNB Test score:\", GNB.score(X_test, y_test))"
   ]
  },
  {
   "cell_type": "code",
   "execution_count": 86,
   "metadata": {},
   "outputs": [
    {
     "data": {
      "text/plain": [
       "Text(0.5, 1, 'Gaussian Naive Bayes Classifier')"
      ]
     },
     "execution_count": 86,
     "metadata": {},
     "output_type": "execute_result"
    },
    {
     "data": {
      "image/png": "[encoded data removed]",
      "text/plain": [
       "<Figure size 432x288 with 2 Axes>"
      ]
     },
     "metadata": {
      "needs_background": "light"
     },
     "output_type": "display_data"
    }
   ],
   "source": [
    "ax = plt.subplot()\n",
    "Model_Predictions = GNB.predict(X_test)\n",
    "Model_Confusion_Matrix = confusion_matrix(Model_Predictions,y_test)\n",
    "sns.heatmap(Model_Confusion_Matrix,annot=True,fmt = \"d\",square = True,ax = ax, linewidths = 1,linecolor = \"w\",cmap = \"Pastel2\")\n",
    "ax.set_xlabel('True labels')\n",
    "ax.set_ylabel('Predicted labels')\n",
    "ax.xaxis.set_ticklabels([\"Loss\",\"Low Profit\",'High Profit'])\n",
    "ax.yaxis.set_ticklabels([\"Loss\",\"Low Profit\",'High Profit'], va=\"center\")\n",
    "b, t = plt.ylim() \n",
    "b += 0.5\n",
    "t -= 0.5\n",
    "plt.ylim(b, t)\n",
    "plt.title('Gaussian Naive Bayes Classifier')"
   ]
  },
  {
   "cell_type": "markdown",
   "metadata": {},
   "source": [
    "## 1.2.1.2) Seperating into 2 classes"
   ]
  },
  {
   "cell_type": "code",
   "execution_count": 87,
   "metadata": {},
   "outputs": [
    {
     "data": {
      "text/plain": [
       "1    1527\n",
       "0    1526\n",
       "Name: gross_budget_ratio, dtype: int64"
      ]
     },
     "execution_count": 87,
     "metadata": {},
     "output_type": "execute_result"
    }
   ],
   "source": [
    "RatioClass = df3['gross_budget_ratio'].transform(lambda x: 0 if x <= 1 else 1)\n",
    "RatioClass = RatioClass.to_frame()\n",
    "Counts=RatioClass['gross_budget_ratio'].value_counts()\n",
    "Counts"
   ]
  },
  {
   "cell_type": "code",
   "execution_count": 88,
   "metadata": {},
   "outputs": [],
   "source": [
    "df32 = df3.copy()\n",
    "df32['gross_budget_ratio'] = RatioClass['gross_budget_ratio']"
   ]
  },
  {
   "cell_type": "code",
   "execution_count": 89,
   "metadata": {},
   "outputs": [
    {
     "name": "stdout",
     "output_type": "stream",
     "text": [
      "Dimensionality of X_train: (2137, 22)\n",
      "Dimensionality of X_test : (916, 22)\n",
      "Dimensionality of y_train: (2137,)\n",
      "Dimensionality of y_test : (916,)\n"
     ]
    }
   ],
   "source": [
    "X = df32.drop(columns=['gross_budget_ratio'])\n",
    "y = df32['gross_budget_ratio']\n",
    "X_train, X_test, y_train, y_test = train_test_split(X, y, stratify=y, test_size=0.3, random_state=10) \n",
    "print(f\"Dimensionality of X_train: {X_train.shape}\")\n",
    "print(f\"Dimensionality of X_test : {X_test.shape}\")\n",
    "print(f\"Dimensionality of y_train: {y_train.shape}\")\n",
    "print(f\"Dimensionality of y_test : {y_test.shape}\")"
   ]
  },
  {
   "cell_type": "markdown",
   "metadata": {},
   "source": [
    "### 1.2.1.2.1) Logistic Regression"
   ]
  },
  {
   "cell_type": "code",
   "execution_count": 90,
   "metadata": {},
   "outputs": [
    {
     "name": "stdout",
     "output_type": "stream",
     "text": [
      "LR best parameters: {'C': 10, 'penalty': 'l1'}\n",
      "LR Train score: 0.6320224719101124\n",
      "LR Test score: 0.5960698689956332\n",
      "LR Test Accuracy score: 0.5655021834061136\n"
     ]
    }
   ],
   "source": [
    "C_List = [0.001,0.01,0.1,1,10,100,1000]\n",
    "penalty = ['l1','l2']\n",
    "parameters = {'C': C_List,'penalty':penalty}\n",
    "LR = LogisticRegression( solver='liblinear')\n",
    "clf1 = GridSearchCV(LR, parameters, cv=5, verbose=0,scoring =make_scorer(recall_score,pos_label=0))\n",
    "clf1.fit(X_train, y_train)\n",
    "\n",
    "y_pred = clf1.predict(X_test)\n",
    "print(\"LR best parameters:\", clf1.best_params_)\n",
    "print(\"LR Train score:\", clf1.score(X_train, y_train))\n",
    "print(\"LR Test score:\", clf1.score(X_test, y_test))\n",
    "print(\"LR Test Accuracy score:\", accuracy_score(y_pred, y_test))"
   ]
  },
  {
   "cell_type": "code",
   "execution_count": 91,
   "metadata": {},
   "outputs": [
    {
     "data": {
      "text/plain": [
       "Text(0.5, 1, 'Logistic Regression')"
      ]
     },
     "execution_count": 91,
     "metadata": {},
     "output_type": "execute_result"
    },
    {
     "data": {
      "image/png": "[encoded data removed]",
      "text/plain": [
       "<Figure size 432x288 with 2 Axes>"
      ]
     },
     "metadata": {
      "needs_background": "light"
     },
     "output_type": "display_data"
    }
   ],
   "source": [
    "ax = plt.subplot()\n",
    "Model_Predictions = clf1.predict(X_test)\n",
    "Model_Confusion_Matrix = confusion_matrix(Model_Predictions,y_test)\n",
    "sns.heatmap(Model_Confusion_Matrix,annot=True,fmt = \"d\",square = True,ax = ax, linewidths = 1,linecolor = \"w\",cmap = \"Pastel2\")\n",
    "ax.set_xlabel('True labels')\n",
    "ax.set_ylabel('Predicted labels')\n",
    "ax.xaxis.set_ticklabels([\"Loss\",\"Profit\"])\n",
    "ax.yaxis.set_ticklabels([\"Loss\",\"Profit\"], va=\"center\")\n",
    "b, t = plt.ylim() \n",
    "b += 0.5\n",
    "t -= 0.5\n",
    "plt.ylim(b, t)\n",
    "plt.title('Logistic Regression')"
   ]
  },
  {
   "cell_type": "markdown",
   "metadata": {},
   "source": [
    "### 1.2.1.2.2) Decision Tree Classifier"
   ]
  },
  {
   "cell_type": "code",
   "execution_count": 92,
   "metadata": {},
   "outputs": [
    {
     "name": "stdout",
     "output_type": "stream",
     "text": [
      "DTC best parameters: {'criterion': 'entropy', 'max_depth': 100, 'min_samples_leaf': 0.1, 'min_samples_split': 0.99}\n",
      "DTC Train score: 0.5936329588014981\n",
      "DTC Test score: 0.6048034934497817\n",
      "DTC Test Accuracy score: 0.5524017467248908\n"
     ]
    }
   ],
   "source": [
    "DTSplitList=[0.001,0.01,0.05,0.1,0.5,0.99]\n",
    "DTLeafList=[0.0005,0.005,0.025,0.05,0.1,0.25,0.5]\n",
    "criterion =['gini','entropy']\n",
    "parameters = {'criterion':criterion,'max_depth':list(range(100,0,-3)),'min_samples_leaf': DTLeafList, 'min_samples_split':DTSplitList}\n",
    "DTC = DecisionTreeClassifier(random_state=10)\n",
    "clf2 = GridSearchCV(DTC, parameters, cv=5, verbose=0,scoring =make_scorer(recall_score,pos_label=0))\n",
    "clf2.fit(X_train, y_train)\n",
    "\n",
    "y_pred = clf2.predict(X_test)\n",
    "print(\"DTC best parameters:\", clf2.best_params_)\n",
    "print(\"DTC Train score:\", clf2.score(X_train, y_train))\n",
    "print(\"DTC Test score:\", clf2.score(X_test, y_test))\n",
    "print(\"DTC Test Accuracy score:\", accuracy_score(y_pred, y_test))"
   ]
  },
  {
   "cell_type": "code",
   "execution_count": 93,
   "metadata": {},
   "outputs": [
    {
     "data": {
      "text/plain": [
       "Text(0.5, 1, 'Decision Tree Classifier')"
      ]
     },
     "execution_count": 93,
     "metadata": {},
     "output_type": "execute_result"
    },
    {
     "data": {
      "image/png": "[encoded data removed]",
      "text/plain": [
       "<Figure size 432x288 with 2 Axes>"
      ]
     },
     "metadata": {
      "needs_background": "light"
     },
     "output_type": "display_data"
    }
   ],
   "source": [
    "ax = plt.subplot()\n",
    "Model_Predictions = clf2.predict(X_test)\n",
    "Model_Confusion_Matrix = confusion_matrix(Model_Predictions,y_test)\n",
    "sns.heatmap(Model_Confusion_Matrix,annot=True,fmt = \"d\",square = True,ax = ax, linewidths = 1,linecolor = \"w\",cmap = \"Pastel2\")\n",
    "ax.set_xlabel('True labels')\n",
    "ax.set_ylabel('Predicted labels')\n",
    "ax.xaxis.set_ticklabels([\"Loss\",\"Profit\"])\n",
    "ax.yaxis.set_ticklabels([\"Loss\",\"Profit\"], va=\"center\")\n",
    "b, t = plt.ylim() \n",
    "b += 0.5\n",
    "t -= 0.5\n",
    "plt.ylim(b, t)\n",
    "plt.title('Decision Tree Classifier')"
   ]
  },
  {
   "cell_type": "markdown",
   "metadata": {},
   "source": [
    "### 1.2.1.2.3) Random Forest Classifier"
   ]
  },
  {
   "cell_type": "code",
   "execution_count": 94,
   "metadata": {},
   "outputs": [
    {
     "name": "stdout",
     "output_type": "stream",
     "text": [
      "RFC best parameters: {'criterion': 'entropy', 'max_depth': 30, 'n_estimators': 50}\n",
      "RFC Train score: 1.0\n",
      "RFC Test score: 0.611353711790393\n",
      "RFC Test Accuracy score: 0.5720524017467249\n"
     ]
    }
   ],
   "source": [
    "RFEstimatorList = [25,50,100,200]\n",
    "criterion =['gini','entropy']\n",
    "parameters = {'criterion':criterion,'max_depth':list(range(100,0,-10)),'n_estimators':RFEstimatorList}\n",
    "\n",
    "RFC = RandomForestClassifier(random_state=10)\n",
    "clf3 = GridSearchCV(RFC, parameters, cv=5, verbose=0,scoring =make_scorer(recall_score,pos_label=0))\n",
    "clf3.fit(X_train, y_train)\n",
    "\n",
    "y_pred = clf3.predict(X_test)\n",
    "print(\"RFC best parameters:\", clf3.best_params_)\n",
    "print(\"RFC Train score:\", clf3.score(X_train, y_train))\n",
    "print(\"RFC Test score:\", clf3.score(X_test, y_test))\n",
    "print(\"RFC Test Accuracy score:\", accuracy_score(y_pred, y_test))"
   ]
  },
  {
   "cell_type": "code",
   "execution_count": 95,
   "metadata": {},
   "outputs": [
    {
     "data": {
      "text/plain": [
       "Text(0.5, 1, 'Random Forest Classifier')"
      ]
     },
     "execution_count": 95,
     "metadata": {},
     "output_type": "execute_result"
    },
    {
     "data": {
      "image/png": "[encoded data removed]",
      "text/plain": [
       "<Figure size 432x288 with 2 Axes>"
      ]
     },
     "metadata": {
      "needs_background": "light"
     },
     "output_type": "display_data"
    }
   ],
   "source": [
    "ax = plt.subplot()\n",
    "Model_Predictions = clf3.predict(X_test)\n",
    "Model_Confusion_Matrix = confusion_matrix(Model_Predictions,y_test)\n",
    "sns.heatmap(Model_Confusion_Matrix,annot=True,fmt = \"d\",square = True,ax = ax, linewidths = 1,linecolor = \"w\",cmap = \"Pastel2\")\n",
    "ax.set_xlabel('True labels')\n",
    "ax.set_ylabel('Predicted labels')\n",
    "ax.xaxis.set_ticklabels([\"Loss\",\"Profit\"])\n",
    "ax.yaxis.set_ticklabels([\"Loss\",\"Profit\"], va=\"center\")\n",
    "b, t = plt.ylim() \n",
    "b += 0.5\n",
    "t -= 0.5\n",
    "plt.ylim(b, t)\n",
    "plt.title('Random Forest Classifier')"
   ]
  },
  {
   "cell_type": "markdown",
   "metadata": {},
   "source": [
    "### 1.2.1.2.4) KNN Classifier"
   ]
  },
  {
   "cell_type": "code",
   "execution_count": 96,
   "metadata": {},
   "outputs": [],
   "source": [
    "MMScaler = MinMaxScaler()\n",
    "X_train_scaled = MMScaler.fit_transform(X_train)\n",
    "X_test_scaled = MMScaler.transform(X_test)"
   ]
  },
  {
   "cell_type": "code",
   "execution_count": 97,
   "metadata": {},
   "outputs": [
    {
     "name": "stdout",
     "output_type": "stream",
     "text": [
      "KNN best parameters: {'n_neighbors': 10}\n",
      "KNN Train score: 0.7668539325842697\n",
      "KNN Test score: 0.6790393013100436\n",
      "KNN Test Accuracy score: 0.5469432314410481\n"
     ]
    }
   ],
   "source": [
    "Neighbor_List=[3,5,10,20,50]\n",
    "parameters = {'n_neighbors':Neighbor_List}\n",
    "KNNC = KNeighborsClassifier()\n",
    "clf4 = GridSearchCV(KNNC, parameters, cv=5, verbose=0,scoring =make_scorer(recall_score,pos_label=0))\n",
    "clf4.fit(X_train_scaled, y_train)\n",
    "\n",
    "y_pred = clf4.predict(X_test_scaled)\n",
    "print(\"KNN best parameters:\", clf4.best_params_)\n",
    "print(\"KNN Train score:\", clf4.score(X_train_scaled, y_train))\n",
    "print(\"KNN Test score:\", clf4.score(X_test_scaled, y_test))\n",
    "print(\"KNN Test Accuracy score:\", accuracy_score(y_pred, y_test))"
   ]
  },
  {
   "cell_type": "code",
   "execution_count": 98,
   "metadata": {},
   "outputs": [
    {
     "data": {
      "text/plain": [
       "Text(0.5, 1, 'KNN Classifier')"
      ]
     },
     "execution_count": 98,
     "metadata": {},
     "output_type": "execute_result"
    },
    {
     "data": {
      "image/png": "[encoded data removed]",
      "text/plain": [
       "<Figure size 432x288 with 2 Axes>"
      ]
     },
     "metadata": {
      "needs_background": "light"
     },
     "output_type": "display_data"
    }
   ],
   "source": [
    "ax = plt.subplot()\n",
    "Model_Predictions = clf4.predict(X_test_scaled)\n",
    "Model_Confusion_Matrix = confusion_matrix(Model_Predictions,y_test)\n",
    "sns.heatmap(Model_Confusion_Matrix,annot=True,fmt = \"d\",square = True,ax = ax, linewidths = 1,linecolor = \"w\",cmap = \"Pastel2\")\n",
    "ax.set_xlabel('True labels')\n",
    "ax.set_ylabel('Predicted labels')\n",
    "ax.xaxis.set_ticklabels([\"Loss\",\"Profit\"])\n",
    "ax.yaxis.set_ticklabels([\"Loss\",\"Profit\"], va=\"center\")\n",
    "b, t = plt.ylim() \n",
    "b += 0.5\n",
    "t -= 0.5\n",
    "plt.ylim(b, t)\n",
    "plt.title('KNN Classifier')"
   ]
  },
  {
   "cell_type": "markdown",
   "metadata": {},
   "source": [
    "### 1.2.1.2.5) Gaussian Naive Bayes Classifier"
   ]
  },
  {
   "cell_type": "code",
   "execution_count": 99,
   "metadata": {},
   "outputs": [
    {
     "name": "stdout",
     "output_type": "stream",
     "text": [
      "GNB Train score: 0.5236312587739822\n",
      "GNB Test score: 0.5163755458515283\n"
     ]
    }
   ],
   "source": [
    "GNB = GaussianNB()\n",
    "GNB.fit(X_train,y_train)\n",
    "    \n",
    "y_pred = GNB.predict(X_test)\n",
    "print(\"GNB Train score:\", GNB.score(X_train, y_train))\n",
    "print(\"GNB Test score:\", GNB.score(X_test, y_test))"
   ]
  },
  {
   "cell_type": "code",
   "execution_count": 100,
   "metadata": {},
   "outputs": [
    {
     "data": {
      "text/plain": [
       "Text(0.5, 1, 'Gaussian Naive Bayes Classifier')"
      ]
     },
     "execution_count": 100,
     "metadata": {},
     "output_type": "execute_result"
    },
    {
     "data": {
      "image/png": "[encoded data removed]",
      "text/plain": [
       "<Figure size 432x288 with 2 Axes>"
      ]
     },
     "metadata": {
      "needs_background": "light"
     },
     "output_type": "display_data"
    }
   ],
   "source": [
    "ax = plt.subplot()\n",
    "Model_Predictions = GNB.predict(X_test)\n",
    "Model_Confusion_Matrix = confusion_matrix(Model_Predictions,y_test)\n",
    "sns.heatmap(Model_Confusion_Matrix,annot=True,fmt = \"d\",square = True,ax = ax, linewidths = 1,linecolor = \"w\",cmap = \"Pastel2\")\n",
    "ax.set_xlabel('True labels')\n",
    "ax.set_ylabel('Predicted labels')\n",
    "ax.xaxis.set_ticklabels([\"Loss\",\"Profit\"])\n",
    "ax.yaxis.set_ticklabels([\"Loss\",\"Profit\"], va=\"center\")\n",
    "b, t = plt.ylim() \n",
    "b += 0.5\n",
    "t -= 0.5\n",
    "plt.ylim(b, t)\n",
    "plt.title('Gaussian Naive Bayes Classifier')"
   ]
  },
  {
   "cell_type": "markdown",
   "metadata": {},
   "source": [
    "## 1.2.2) With taking log and feature elimination"
   ]
  },
  {
   "cell_type": "markdown",
   "metadata": {},
   "source": [
    "### log"
   ]
  },
  {
   "cell_type": "code",
   "execution_count": 101,
   "metadata": {},
   "outputs": [],
   "source": [
    "df4 = df3.copy()\n",
    "df4['budget'] = np.log(df4['budget'])\n",
    "df4['director_facebook_likes'] = df4['director_facebook_likes'].transform(lambda x: 0 if x <= 3 else np.log(x))\n",
    "df4['actor_1_facebook_likes'] = df4['actor_1_facebook_likes'].transform(lambda x: 0 if x <= 3 else np.log(x))\n",
    "df4['actor_2_facebook_likes'] = df4['actor_2_facebook_likes'].transform(lambda x: 0 if x <= 3 else np.log(x))\n",
    "df4['actor_3_facebook_likes'] = df4['actor_3_facebook_likes'].transform(lambda x: 0 if x <= 3 else np.log(x))\n",
    "df4['cast_total_facebook_likes'] = df4['cast_total_facebook_likes'].transform(lambda x: 0 if x <= 3 else np.log(x))"
   ]
  },
  {
   "cell_type": "markdown",
   "metadata": {},
   "source": [
    "### elimination"
   ]
  },
  {
   "cell_type": "code",
   "execution_count": 102,
   "metadata": {},
   "outputs": [
    {
     "data": {
      "text/plain": [
       "Index(['duration', 'director_facebook_likes', 'actor_3_facebook_likes',\n",
       "       'actor_1_facebook_likes', 'cast_total_facebook_likes',\n",
       "       'facenumber_in_poster', 'budget', 'actor_2_facebook_likes', 'Biography',\n",
       "       'Comedy', 'Crime', 'Drama', 'Romance', 'Mystery_Thriller_Horror',\n",
       "       'Sci-Fi_Fantasy', 'Family_Animation', 'Action_Adventure', 'History_War',\n",
       "       'Others', 'gross_budget_ratio', 'content_rating_PG',\n",
       "       'content_rating_PG-13', 'content_rating_R'],\n",
       "      dtype='object')"
      ]
     },
     "execution_count": 102,
     "metadata": {},
     "output_type": "execute_result"
    }
   ],
   "source": [
    "df4.columns"
   ]
  },
  {
   "cell_type": "code",
   "execution_count": 103,
   "metadata": {},
   "outputs": [],
   "source": [
    "df4 = df4.drop(columns = ['facenumber_in_poster', 'Biography', 'Crime',\n",
    "       'Mystery_Thriller_Horror', 'Sci-Fi_Fantasy',\n",
    "       'History_War'])"
   ]
  },
  {
   "cell_type": "markdown",
   "metadata": {},
   "source": [
    "## 1.2.2.1) Seperating into 3 classes"
   ]
  },
  {
   "cell_type": "code",
   "execution_count": 104,
   "metadata": {},
   "outputs": [
    {
     "data": {
      "text/plain": [
       "0    1526\n",
       "1     860\n",
       "2     667\n",
       "Name: gross_budget_ratio, dtype: int64"
      ]
     },
     "execution_count": 104,
     "metadata": {},
     "output_type": "execute_result"
    }
   ],
   "source": [
    "RatioClass = df4['gross_budget_ratio'].transform(lambda x: 0 if x <= 1 else (1 if x <= 2 else 2))\n",
    "RatioClass = RatioClass.to_frame()\n",
    "Counts=RatioClass['gross_budget_ratio'].value_counts()\n",
    "Counts"
   ]
  },
  {
   "cell_type": "code",
   "execution_count": 105,
   "metadata": {},
   "outputs": [],
   "source": [
    "df41 = df4.copy()\n",
    "df41['gross_budget_ratio'] = RatioClass['gross_budget_ratio']"
   ]
  },
  {
   "cell_type": "code",
   "execution_count": 106,
   "metadata": {},
   "outputs": [
    {
     "data": {
      "text/html": [
       "<div>\n",
       "<style scoped>\n",
       "    .dataframe tbody tr th:only-of-type {\n",
       "        vertical-align: middle;\n",
       "    }\n",
       "\n",
       "    .dataframe tbody tr th {\n",
       "        vertical-align: top;\n",
       "    }\n",
       "\n",
       "    .dataframe thead th {\n",
       "        text-align: right;\n",
       "    }\n",
       "</style>\n",
       "<table border=\"1\" class=\"dataframe\">\n",
       "  <thead>\n",
       "    <tr style=\"text-align: right;\">\n",
       "      <th></th>\n",
       "      <th>duration</th>\n",
       "      <th>director_facebook_likes</th>\n",
       "      <th>actor_3_facebook_likes</th>\n",
       "      <th>actor_1_facebook_likes</th>\n",
       "      <th>cast_total_facebook_likes</th>\n",
       "      <th>budget</th>\n",
       "      <th>actor_2_facebook_likes</th>\n",
       "      <th>Comedy</th>\n",
       "      <th>Drama</th>\n",
       "      <th>Romance</th>\n",
       "      <th>Family_Animation</th>\n",
       "      <th>Action_Adventure</th>\n",
       "      <th>Others</th>\n",
       "      <th>gross_budget_ratio</th>\n",
       "      <th>content_rating_PG</th>\n",
       "      <th>content_rating_PG-13</th>\n",
       "      <th>content_rating_R</th>\n",
       "    </tr>\n",
       "  </thead>\n",
       "  <tbody>\n",
       "    <tr>\n",
       "      <td>0</td>\n",
       "      <td>123.0</td>\n",
       "      <td>6.100319</td>\n",
       "      <td>6.710523</td>\n",
       "      <td>9.903488</td>\n",
       "      <td>10.008253</td>\n",
       "      <td>17.686712</td>\n",
       "      <td>6.907755</td>\n",
       "      <td>1</td>\n",
       "      <td>0</td>\n",
       "      <td>1</td>\n",
       "      <td>0</td>\n",
       "      <td>0</td>\n",
       "      <td>0</td>\n",
       "      <td>0</td>\n",
       "      <td>0</td>\n",
       "      <td>1</td>\n",
       "      <td>0</td>\n",
       "    </tr>\n",
       "    <tr>\n",
       "      <td>3</td>\n",
       "      <td>148.0</td>\n",
       "      <td>6.467699</td>\n",
       "      <td>5.786897</td>\n",
       "      <td>6.907755</td>\n",
       "      <td>7.850104</td>\n",
       "      <td>17.111347</td>\n",
       "      <td>6.695799</td>\n",
       "      <td>1</td>\n",
       "      <td>0</td>\n",
       "      <td>0</td>\n",
       "      <td>0</td>\n",
       "      <td>1</td>\n",
       "      <td>1</td>\n",
       "      <td>2</td>\n",
       "      <td>0</td>\n",
       "      <td>0</td>\n",
       "      <td>1</td>\n",
       "    </tr>\n",
       "    <tr>\n",
       "      <td>5</td>\n",
       "      <td>124.0</td>\n",
       "      <td>3.737670</td>\n",
       "      <td>5.081404</td>\n",
       "      <td>6.685861</td>\n",
       "      <td>7.287561</td>\n",
       "      <td>16.811243</td>\n",
       "      <td>5.159055</td>\n",
       "      <td>1</td>\n",
       "      <td>0</td>\n",
       "      <td>0</td>\n",
       "      <td>0</td>\n",
       "      <td>0</td>\n",
       "      <td>1</td>\n",
       "      <td>0</td>\n",
       "      <td>1</td>\n",
       "      <td>0</td>\n",
       "      <td>0</td>\n",
       "    </tr>\n",
       "    <tr>\n",
       "      <td>6</td>\n",
       "      <td>124.0</td>\n",
       "      <td>5.010635</td>\n",
       "      <td>6.349139</td>\n",
       "      <td>6.773080</td>\n",
       "      <td>7.888710</td>\n",
       "      <td>17.760281</td>\n",
       "      <td>6.704414</td>\n",
       "      <td>0</td>\n",
       "      <td>1</td>\n",
       "      <td>0</td>\n",
       "      <td>0</td>\n",
       "      <td>0</td>\n",
       "      <td>1</td>\n",
       "      <td>1</td>\n",
       "      <td>1</td>\n",
       "      <td>0</td>\n",
       "      <td>0</td>\n",
       "    </tr>\n",
       "    <tr>\n",
       "      <td>7</td>\n",
       "      <td>104.0</td>\n",
       "      <td>0.000000</td>\n",
       "      <td>6.248043</td>\n",
       "      <td>6.625392</td>\n",
       "      <td>7.800573</td>\n",
       "      <td>15.687313</td>\n",
       "      <td>6.340359</td>\n",
       "      <td>0</td>\n",
       "      <td>0</td>\n",
       "      <td>1</td>\n",
       "      <td>0</td>\n",
       "      <td>0</td>\n",
       "      <td>0</td>\n",
       "      <td>2</td>\n",
       "      <td>0</td>\n",
       "      <td>0</td>\n",
       "      <td>0</td>\n",
       "    </tr>\n",
       "    <tr>\n",
       "      <td>...</td>\n",
       "      <td>...</td>\n",
       "      <td>...</td>\n",
       "      <td>...</td>\n",
       "      <td>...</td>\n",
       "      <td>...</td>\n",
       "      <td>...</td>\n",
       "      <td>...</td>\n",
       "      <td>...</td>\n",
       "      <td>...</td>\n",
       "      <td>...</td>\n",
       "      <td>...</td>\n",
       "      <td>...</td>\n",
       "      <td>...</td>\n",
       "      <td>...</td>\n",
       "      <td>...</td>\n",
       "      <td>...</td>\n",
       "      <td>...</td>\n",
       "    </tr>\n",
       "    <tr>\n",
       "      <td>3846</td>\n",
       "      <td>121.0</td>\n",
       "      <td>3.555348</td>\n",
       "      <td>6.159095</td>\n",
       "      <td>8.294050</td>\n",
       "      <td>8.797397</td>\n",
       "      <td>15.424948</td>\n",
       "      <td>6.744059</td>\n",
       "      <td>0</td>\n",
       "      <td>1</td>\n",
       "      <td>0</td>\n",
       "      <td>0</td>\n",
       "      <td>0</td>\n",
       "      <td>0</td>\n",
       "      <td>0</td>\n",
       "      <td>0</td>\n",
       "      <td>1</td>\n",
       "      <td>0</td>\n",
       "    </tr>\n",
       "    <tr>\n",
       "      <td>3847</td>\n",
       "      <td>92.0</td>\n",
       "      <td>4.488636</td>\n",
       "      <td>5.247024</td>\n",
       "      <td>9.740969</td>\n",
       "      <td>9.790319</td>\n",
       "      <td>17.370859</td>\n",
       "      <td>5.796058</td>\n",
       "      <td>1</td>\n",
       "      <td>0</td>\n",
       "      <td>0</td>\n",
       "      <td>0</td>\n",
       "      <td>0</td>\n",
       "      <td>0</td>\n",
       "      <td>1</td>\n",
       "      <td>0</td>\n",
       "      <td>0</td>\n",
       "      <td>1</td>\n",
       "    </tr>\n",
       "    <tr>\n",
       "      <td>3848</td>\n",
       "      <td>100.0</td>\n",
       "      <td>3.178054</td>\n",
       "      <td>6.746412</td>\n",
       "      <td>9.615805</td>\n",
       "      <td>9.840867</td>\n",
       "      <td>16.811243</td>\n",
       "      <td>6.907755</td>\n",
       "      <td>1</td>\n",
       "      <td>0</td>\n",
       "      <td>0</td>\n",
       "      <td>0</td>\n",
       "      <td>0</td>\n",
       "      <td>0</td>\n",
       "      <td>2</td>\n",
       "      <td>0</td>\n",
       "      <td>0</td>\n",
       "      <td>1</td>\n",
       "    </tr>\n",
       "    <tr>\n",
       "      <td>3849</td>\n",
       "      <td>92.0</td>\n",
       "      <td>4.488636</td>\n",
       "      <td>5.872118</td>\n",
       "      <td>6.591674</td>\n",
       "      <td>7.954372</td>\n",
       "      <td>15.424948</td>\n",
       "      <td>6.559615</td>\n",
       "      <td>1</td>\n",
       "      <td>0</td>\n",
       "      <td>0</td>\n",
       "      <td>0</td>\n",
       "      <td>0</td>\n",
       "      <td>0</td>\n",
       "      <td>2</td>\n",
       "      <td>0</td>\n",
       "      <td>0</td>\n",
       "      <td>1</td>\n",
       "    </tr>\n",
       "    <tr>\n",
       "      <td>3851</td>\n",
       "      <td>120.0</td>\n",
       "      <td>2.890372</td>\n",
       "      <td>5.686975</td>\n",
       "      <td>6.452049</td>\n",
       "      <td>7.501082</td>\n",
       "      <td>15.424948</td>\n",
       "      <td>6.040255</td>\n",
       "      <td>0</td>\n",
       "      <td>1</td>\n",
       "      <td>0</td>\n",
       "      <td>0</td>\n",
       "      <td>0</td>\n",
       "      <td>0</td>\n",
       "      <td>2</td>\n",
       "      <td>1</td>\n",
       "      <td>0</td>\n",
       "      <td>0</td>\n",
       "    </tr>\n",
       "  </tbody>\n",
       "</table>\n",
       "<p>3053 rows × 17 columns</p>\n",
       "</div>"
      ],
      "text/plain": [
       "      duration  director_facebook_likes  actor_3_facebook_likes  \\\n",
       "0        123.0                 6.100319                6.710523   \n",
       "3        148.0                 6.467699                5.786897   \n",
       "5        124.0                 3.737670                5.081404   \n",
       "6        124.0                 5.010635                6.349139   \n",
       "7        104.0                 0.000000                6.248043   \n",
       "...        ...                      ...                     ...   \n",
       "3846     121.0                 3.555348                6.159095   \n",
       "3847      92.0                 4.488636                5.247024   \n",
       "3848     100.0                 3.178054                6.746412   \n",
       "3849      92.0                 4.488636                5.872118   \n",
       "3851     120.0                 2.890372                5.686975   \n",
       "\n",
       "      actor_1_facebook_likes  cast_total_facebook_likes     budget  \\\n",
       "0                   9.903488                  10.008253  17.686712   \n",
       "3                   6.907755                   7.850104  17.111347   \n",
       "5                   6.685861                   7.287561  16.811243   \n",
       "6                   6.773080                   7.888710  17.760281   \n",
       "7                   6.625392                   7.800573  15.687313   \n",
       "...                      ...                        ...        ...   \n",
       "3846                8.294050                   8.797397  15.424948   \n",
       "3847                9.740969                   9.790319  17.370859   \n",
       "3848                9.615805                   9.840867  16.811243   \n",
       "3849                6.591674                   7.954372  15.424948   \n",
       "3851                6.452049                   7.501082  15.424948   \n",
       "\n",
       "      actor_2_facebook_likes  Comedy  Drama  Romance  Family_Animation  \\\n",
       "0                   6.907755       1      0        1                 0   \n",
       "3                   6.695799       1      0        0                 0   \n",
       "5                   5.159055       1      0        0                 0   \n",
       "6                   6.704414       0      1        0                 0   \n",
       "7                   6.340359       0      0        1                 0   \n",
       "...                      ...     ...    ...      ...               ...   \n",
       "3846                6.744059       0      1        0                 0   \n",
       "3847                5.796058       1      0        0                 0   \n",
       "3848                6.907755       1      0        0                 0   \n",
       "3849                6.559615       1      0        0                 0   \n",
       "3851                6.040255       0      1        0                 0   \n",
       "\n",
       "      Action_Adventure  Others  gross_budget_ratio  content_rating_PG  \\\n",
       "0                    0       0                   0                  0   \n",
       "3                    1       1                   2                  0   \n",
       "5                    0       1                   0                  1   \n",
       "6                    0       1                   1                  1   \n",
       "7                    0       0                   2                  0   \n",
       "...                ...     ...                 ...                ...   \n",
       "3846                 0       0                   0                  0   \n",
       "3847                 0       0                   1                  0   \n",
       "3848                 0       0                   2                  0   \n",
       "3849                 0       0                   2                  0   \n",
       "3851                 0       0                   2                  1   \n",
       "\n",
       "      content_rating_PG-13  content_rating_R  \n",
       "0                        1                 0  \n",
       "3                        0                 1  \n",
       "5                        0                 0  \n",
       "6                        0                 0  \n",
       "7                        0                 0  \n",
       "...                    ...               ...  \n",
       "3846                     1                 0  \n",
       "3847                     0                 1  \n",
       "3848                     0                 1  \n",
       "3849                     0                 1  \n",
       "3851                     0                 0  \n",
       "\n",
       "[3053 rows x 17 columns]"
      ]
     },
     "execution_count": 106,
     "metadata": {},
     "output_type": "execute_result"
    }
   ],
   "source": [
    "df41"
   ]
  },
  {
   "cell_type": "code",
   "execution_count": 107,
   "metadata": {},
   "outputs": [
    {
     "name": "stdout",
     "output_type": "stream",
     "text": [
      "Dimensionality of X_train: (2137, 16)\n",
      "Dimensionality of X_test : (916, 16)\n",
      "Dimensionality of y_train: (2137,)\n",
      "Dimensionality of y_test : (916,)\n"
     ]
    }
   ],
   "source": [
    "X = df41.drop(columns=['gross_budget_ratio'])\n",
    "y = df41['gross_budget_ratio']\n",
    "X_train, X_test, y_train, y_test = train_test_split(X, y, stratify=y, test_size=0.3, random_state=10) \n",
    "print(f\"Dimensionality of X_train: {X_train.shape}\")\n",
    "print(f\"Dimensionality of X_test : {X_test.shape}\")\n",
    "print(f\"Dimensionality of y_train: {y_train.shape}\")\n",
    "print(f\"Dimensionality of y_test : {y_test.shape}\")"
   ]
  },
  {
   "cell_type": "markdown",
   "metadata": {},
   "source": [
    "### 1.2.2.1.1) Multi-Class Logistic Regression"
   ]
  },
  {
   "cell_type": "code",
   "execution_count": 108,
   "metadata": {},
   "outputs": [],
   "source": [
    "smote=SMOTE('minority')\n",
    "X_s, y_s = smote.fit_sample(X_train,y_train)\n",
    "X_sm, y_sm = smote.fit_sample(X_s,y_s)\n",
    "X_sm_train, y_sm_train = shuffle(X_sm, y_sm, random_state=10)"
   ]
  },
  {
   "cell_type": "code",
   "execution_count": 109,
   "metadata": {},
   "outputs": [
    {
     "name": "stdout",
     "output_type": "stream",
     "text": [
      "MLR best parameters: {'C': 0.01, 'penalty': 'l2'}\n",
      "MLR Train score: 0.5093632958801498\n",
      "MLR Test score: 0.4432314410480349\n"
     ]
    }
   ],
   "source": [
    "C_List = [0.001,0.01,0.1,1,10,100,1000]\n",
    "penalty = ['l2','none']\n",
    "parameters = {'C': C_List,'penalty':penalty}\n",
    "MLR = LogisticRegression(multi_class='multinomial', solver='newton-cg')\n",
    "clf1 = GridSearchCV(MLR, parameters, cv=5, verbose=0,scoring ='accuracy')\n",
    "clf1.fit(X_sm_train, y_sm_train)\n",
    "\n",
    "y_pred = clf1.predict(X_test)\n",
    "print(\"MLR best parameters:\", clf1.best_params_)\n",
    "print(\"MLR Train score:\", clf1.score(X_sm_train, y_sm_train))\n",
    "print(\"MLR Test score:\", clf1.score(X_test, y_test))"
   ]
  },
  {
   "cell_type": "code",
   "execution_count": 110,
   "metadata": {},
   "outputs": [
    {
     "data": {
      "text/plain": [
       "Text(0.5, 1, 'Multiclass Logistic Regression')"
      ]
     },
     "execution_count": 110,
     "metadata": {},
     "output_type": "execute_result"
    },
    {
     "data": {
      "image/png": "[encoded data removed]",
      "text/plain": [
       "<Figure size 432x288 with 2 Axes>"
      ]
     },
     "metadata": {
      "needs_background": "light"
     },
     "output_type": "display_data"
    }
   ],
   "source": [
    "ax = plt.subplot()\n",
    "Model_Predictions = clf1.predict(X_test)\n",
    "Model_Confusion_Matrix = confusion_matrix(Model_Predictions,y_test)\n",
    "sns.heatmap(Model_Confusion_Matrix,annot=True,fmt = \"d\",square = True,ax = ax, linewidths = 1,linecolor = \"w\",cmap = \"Pastel2\")\n",
    "ax.set_xlabel('True labels')\n",
    "ax.set_ylabel('Predicted labels')\n",
    "ax.xaxis.set_ticklabels([\"Loss\",\"Low Profit\",'High Profit'])\n",
    "ax.yaxis.set_ticklabels([\"Loss\",\"Low Profit\",'High Profit'], va=\"center\")\n",
    "b, t = plt.ylim() \n",
    "b += 0.5\n",
    "t -= 0.5\n",
    "plt.ylim(b, t)\n",
    "plt.title('Multiclass Logistic Regression')"
   ]
  },
  {
   "cell_type": "markdown",
   "metadata": {},
   "source": [
    "### 1.2.2.1.2) Decision Tree Classifier"
   ]
  },
  {
   "cell_type": "code",
   "execution_count": 111,
   "metadata": {},
   "outputs": [
    {
     "name": "stdout",
     "output_type": "stream",
     "text": [
      "DTC best parameters: {'criterion': 'gini', 'max_depth': 100, 'min_samples_leaf': 0.0005, 'min_samples_split': 0.99}\n",
      "DTC Train score: 0.49976602714085167\n",
      "DTC Test score: 0.5\n"
     ]
    }
   ],
   "source": [
    "DTSplitList=[0.001,0.01,0.05,0.1,0.5,0.99]\n",
    "DTLeafList=[0.0005,0.005,0.025,0.05,0.1,0.25,0.5]\n",
    "criterion =['gini','entropy']\n",
    "parameters = {'criterion':criterion,'max_depth':list(range(100,0,-3)),'min_samples_leaf': DTLeafList, 'min_samples_split':DTSplitList}\n",
    "DTC = DecisionTreeClassifier(random_state=10)\n",
    "clf2 = GridSearchCV(DTC, parameters, cv=5, verbose=0,scoring ='accuracy')\n",
    "clf2.fit(X_train, y_train)\n",
    "\n",
    "y_pred = clf2.predict(X_test)\n",
    "print(\"DTC best parameters:\", clf2.best_params_)\n",
    "print(\"DTC Train score:\", clf2.score(X_train, y_train))\n",
    "print(\"DTC Test score:\", clf2.score(X_test, y_test))"
   ]
  },
  {
   "cell_type": "code",
   "execution_count": 112,
   "metadata": {},
   "outputs": [
    {
     "data": {
      "text/plain": [
       "Text(0.5, 1, 'Decision Tree Classifier')"
      ]
     },
     "execution_count": 112,
     "metadata": {},
     "output_type": "execute_result"
    },
    {
     "data": {
      "image/png": "[encoded data removed]",
      "text/plain": [
       "<Figure size 432x288 with 2 Axes>"
      ]
     },
     "metadata": {
      "needs_background": "light"
     },
     "output_type": "display_data"
    }
   ],
   "source": [
    "ax = plt.subplot()\n",
    "Model_Predictions = clf2.predict(X_test)\n",
    "Model_Confusion_Matrix = confusion_matrix(Model_Predictions,y_test)\n",
    "sns.heatmap(Model_Confusion_Matrix,annot=True,fmt = \"d\",square = True,ax = ax, linewidths = 1,linecolor = \"w\",cmap = \"Pastel2\")\n",
    "ax.set_xlabel('True labels')\n",
    "ax.set_ylabel('Predicted labels')\n",
    "ax.xaxis.set_ticklabels([\"Loss\",\"Low Profit\",'High Profit'])\n",
    "ax.yaxis.set_ticklabels([\"Loss\",\"Low Profit\",'High Profit'], va=\"center\")\n",
    "b, t = plt.ylim() \n",
    "b += 0.5\n",
    "t -= 0.5\n",
    "plt.ylim(b, t)\n",
    "plt.title('Decision Tree Classifier')"
   ]
  },
  {
   "cell_type": "markdown",
   "metadata": {},
   "source": [
    "### 1.2.2.1.3) Random Forest Classifier"
   ]
  },
  {
   "cell_type": "code",
   "execution_count": 113,
   "metadata": {},
   "outputs": [
    {
     "name": "stdout",
     "output_type": "stream",
     "text": [
      "RFC best parameters: {'criterion': 'gini', 'max_depth': 10, 'n_estimators': 200}\n",
      "RFC Train score: 0.8600842302292934\n",
      "RFC Test score: 0.49672489082969434\n"
     ]
    }
   ],
   "source": [
    "RFEstimatorList = [25,50,100,200]\n",
    "criterion =['gini','entropy']\n",
    "parameters = {'criterion':criterion,'max_depth':list(range(100,0,-10)),'n_estimators':RFEstimatorList}\n",
    "RFC = RandomForestClassifier(random_state=10)\n",
    "clf3 = GridSearchCV(RFC, parameters, cv=5, verbose=0,scoring ='accuracy')\n",
    "clf3.fit(X_train, y_train)\n",
    "\n",
    "y_pred = clf3.predict(X_test)\n",
    "print(\"RFC best parameters:\", clf3.best_params_)\n",
    "print(\"RFC Train score:\", clf3.score(X_train, y_train))\n",
    "print(\"RFC Test score:\", clf3.score(X_test, y_test))"
   ]
  },
  {
   "cell_type": "code",
   "execution_count": 114,
   "metadata": {},
   "outputs": [
    {
     "data": {
      "text/plain": [
       "Text(0.5, 1, 'Random Forest Classifier')"
      ]
     },
     "execution_count": 114,
     "metadata": {},
     "output_type": "execute_result"
    },
    {
     "data": {
      "image/png": "[encoded data removed]",
      "text/plain": [
       "<Figure size 432x288 with 2 Axes>"
      ]
     },
     "metadata": {
      "needs_background": "light"
     },
     "output_type": "display_data"
    }
   ],
   "source": [
    "ax = plt.subplot()\n",
    "Model_Predictions = clf3.predict(X_test)\n",
    "Model_Confusion_Matrix = confusion_matrix(Model_Predictions,y_test)\n",
    "sns.heatmap(Model_Confusion_Matrix,annot=True,fmt = \"d\",square = True,ax = ax, linewidths = 1,linecolor = \"w\",cmap = \"Pastel2\")\n",
    "ax.set_xlabel('True labels')\n",
    "ax.set_ylabel('Predicted labels')\n",
    "ax.xaxis.set_ticklabels([\"Loss\",\"Low Profit\",'High Profit'])\n",
    "ax.yaxis.set_ticklabels([\"Loss\",\"Low Profit\",'High Profit'], va=\"center\")\n",
    "b, t = plt.ylim() \n",
    "b += 0.5\n",
    "t -= 0.5\n",
    "plt.ylim(b, t)\n",
    "plt.title('Random Forest Classifier')"
   ]
  },
  {
   "cell_type": "markdown",
   "metadata": {},
   "source": [
    "### 1.2.2.1.4) KNN Classifier"
   ]
  },
  {
   "cell_type": "code",
   "execution_count": 115,
   "metadata": {},
   "outputs": [],
   "source": [
    "MMScaler = MinMaxScaler()\n",
    "X_train_scaled = MMScaler.fit_transform(X_train)\n",
    "X_test_scaled = MMScaler.transform(X_test)"
   ]
  },
  {
   "cell_type": "code",
   "execution_count": 116,
   "metadata": {},
   "outputs": [
    {
     "name": "stdout",
     "output_type": "stream",
     "text": [
      "KNN best parameters: {'n_neighbors': 50}\n",
      "KNN Train score: 0.5208235844642022\n",
      "KNN Test score: 0.4759825327510917\n"
     ]
    }
   ],
   "source": [
    "Neighbor_List=[3,5,10,20,50]\n",
    "parameters = {'n_neighbors':Neighbor_List}\n",
    "KNNC = KNeighborsClassifier()\n",
    "clf4 = GridSearchCV(KNNC, parameters, cv=5, verbose=0,scoring ='accuracy')\n",
    "clf4.fit(X_train_scaled, y_train)\n",
    "\n",
    "y_pred = clf4.predict(X_test_scaled)\n",
    "print(\"KNN best parameters:\", clf4.best_params_)\n",
    "print(\"KNN Train score:\", clf4.score(X_train_scaled, y_train))\n",
    "print(\"KNN Test score:\", clf4.score(X_test_scaled, y_test))"
   ]
  },
  {
   "cell_type": "code",
   "execution_count": 117,
   "metadata": {},
   "outputs": [
    {
     "data": {
      "text/plain": [
       "Text(0.5, 1, 'KNN Classifier')"
      ]
     },
     "execution_count": 117,
     "metadata": {},
     "output_type": "execute_result"
    },
    {
     "data": {
      "image/png": "[encoded data removed]",
      "text/plain": [
       "<Figure size 432x288 with 2 Axes>"
      ]
     },
     "metadata": {
      "needs_background": "light"
     },
     "output_type": "display_data"
    }
   ],
   "source": [
    "ax = plt.subplot()\n",
    "Model_Predictions = clf4.predict(X_test_scaled)\n",
    "Model_Confusion_Matrix = confusion_matrix(Model_Predictions,y_test)\n",
    "sns.heatmap(Model_Confusion_Matrix,annot=True,fmt = \"d\",square = True,ax = ax, linewidths = 1,linecolor = \"w\",cmap = \"Pastel2\")\n",
    "ax.set_xlabel('True labels')\n",
    "ax.set_ylabel('Predicted labels')\n",
    "ax.xaxis.set_ticklabels([\"Loss\",\"Low Profit\",'High Profit'])\n",
    "ax.yaxis.set_ticklabels([\"Loss\",\"Low Profit\",'High Profit'], va=\"center\")\n",
    "b, t = plt.ylim() \n",
    "b += 0.5\n",
    "t -= 0.5\n",
    "plt.ylim(b, t)\n",
    "plt.title('KNN Classifier')"
   ]
  },
  {
   "cell_type": "markdown",
   "metadata": {},
   "source": [
    "### 1.2.2.1.5) Gaussian Naive Bayes Classifier"
   ]
  },
  {
   "cell_type": "code",
   "execution_count": 118,
   "metadata": {},
   "outputs": [
    {
     "name": "stdout",
     "output_type": "stream",
     "text": [
      "GNB Train score: 0.47496490407112774\n",
      "GNB Test score: 0.4705240174672489\n"
     ]
    }
   ],
   "source": [
    "GNB = GaussianNB()\n",
    "GNB.fit(X_train,y_train)\n",
    "    \n",
    "y_pred = GNB.predict(X_test)\n",
    "print(\"GNB Train score:\", GNB.score(X_train, y_train))\n",
    "print(\"GNB Test score:\", GNB.score(X_test, y_test))"
   ]
  },
  {
   "cell_type": "code",
   "execution_count": 119,
   "metadata": {},
   "outputs": [
    {
     "data": {
      "text/plain": [
       "Text(0.5, 1, 'Gaussian Naive Bayes Classifier')"
      ]
     },
     "execution_count": 119,
     "metadata": {},
     "output_type": "execute_result"
    },
    {
     "data": {
      "image/png": "[encoded data removed]",
      "text/plain": [
       "<Figure size 432x288 with 2 Axes>"
      ]
     },
     "metadata": {
      "needs_background": "light"
     },
     "output_type": "display_data"
    }
   ],
   "source": [
    "ax = plt.subplot()\n",
    "Model_Predictions = GNB.predict(X_test)\n",
    "Model_Confusion_Matrix = confusion_matrix(Model_Predictions,y_test)\n",
    "sns.heatmap(Model_Confusion_Matrix,annot=True,fmt = \"d\",square = True,ax = ax, linewidths = 1,linecolor = \"w\",cmap = \"Pastel2\")\n",
    "ax.set_xlabel('True labels')\n",
    "ax.set_ylabel('Predicted labels')\n",
    "ax.xaxis.set_ticklabels([\"Loss\",\"Low Profit\",'High Profit'])\n",
    "ax.yaxis.set_ticklabels([\"Loss\",\"Low Profit\",'High Profit'], va=\"center\")\n",
    "b, t = plt.ylim() \n",
    "b += 0.5\n",
    "t -= 0.5\n",
    "plt.ylim(b, t)\n",
    "plt.title('Gaussian Naive Bayes Classifier')"
   ]
  },
  {
   "cell_type": "markdown",
   "metadata": {},
   "source": [
    "## 1.2.2.2) Seperating into 2 classes"
   ]
  },
  {
   "cell_type": "code",
   "execution_count": 120,
   "metadata": {},
   "outputs": [
    {
     "data": {
      "text/plain": [
       "1    1527\n",
       "0    1526\n",
       "Name: gross_budget_ratio, dtype: int64"
      ]
     },
     "execution_count": 120,
     "metadata": {},
     "output_type": "execute_result"
    }
   ],
   "source": [
    "RatioClass = df4['gross_budget_ratio'].transform(lambda x: 0 if x <= 1 else 1)\n",
    "RatioClass = RatioClass.to_frame()\n",
    "Counts=RatioClass['gross_budget_ratio'].value_counts()\n",
    "Counts"
   ]
  },
  {
   "cell_type": "code",
   "execution_count": 121,
   "metadata": {},
   "outputs": [],
   "source": [
    "df42 = df4.copy()\n",
    "df42['gross_budget_ratio'] = RatioClass['gross_budget_ratio']"
   ]
  },
  {
   "cell_type": "code",
   "execution_count": 122,
   "metadata": {},
   "outputs": [
    {
     "name": "stdout",
     "output_type": "stream",
     "text": [
      "Dimensionality of X_train: (2137, 16)\n",
      "Dimensionality of X_test : (916, 16)\n",
      "Dimensionality of y_train: (2137,)\n",
      "Dimensionality of y_test : (916,)\n"
     ]
    }
   ],
   "source": [
    "X = df42.drop(columns=['gross_budget_ratio'])\n",
    "y = df42['gross_budget_ratio']\n",
    "X_train, X_test, y_train, y_test = train_test_split(X, y, stratify=y, test_size=0.3, random_state=10) \n",
    "print(f\"Dimensionality of X_train: {X_train.shape}\")\n",
    "print(f\"Dimensionality of X_test : {X_test.shape}\")\n",
    "print(f\"Dimensionality of y_train: {y_train.shape}\")\n",
    "print(f\"Dimensionality of y_test : {y_test.shape}\")"
   ]
  },
  {
   "cell_type": "markdown",
   "metadata": {},
   "source": [
    "### 1.2.2.2.1) Logistic Regression"
   ]
  },
  {
   "cell_type": "code",
   "execution_count": 123,
   "metadata": {},
   "outputs": [
    {
     "name": "stdout",
     "output_type": "stream",
     "text": [
      "LR best parameters: {'C': 10, 'penalty': 'l2'}\n",
      "LR Train score: 0.596441947565543\n",
      "LR Test score: 0.5873362445414847\n",
      "LR Test Accuracy score: 0.5545851528384279\n"
     ]
    }
   ],
   "source": [
    "C_List = [0.001,0.01,0.1,1,10,100,1000]\n",
    "penalty = ['l1','l2']\n",
    "parameters = {'C': C_List,'penalty':penalty}\n",
    "LR = LogisticRegression( solver='liblinear')\n",
    "clf1 = GridSearchCV(LR, parameters, cv=5, verbose=0,scoring =make_scorer(recall_score,pos_label=0))\n",
    "clf1.fit(X_train, y_train)\n",
    "\n",
    "y_pred = clf1.predict(X_test)\n",
    "print(\"LR best parameters:\", clf1.best_params_)\n",
    "print(\"LR Train score:\", clf1.score(X_train, y_train))\n",
    "print(\"LR Test score:\", clf1.score(X_test, y_test))\n",
    "print(\"LR Test Accuracy score:\", accuracy_score(y_pred, y_test))"
   ]
  },
  {
   "cell_type": "code",
   "execution_count": 124,
   "metadata": {},
   "outputs": [
    {
     "data": {
      "text/plain": [
       "Text(0.5, 1, 'Logistic Regression')"
      ]
     },
     "execution_count": 124,
     "metadata": {},
     "output_type": "execute_result"
    },
    {
     "data": {
      "image/png": "[encoded data removed]",
      "text/plain": [
       "<Figure size 432x288 with 2 Axes>"
      ]
     },
     "metadata": {
      "needs_background": "light"
     },
     "output_type": "display_data"
    }
   ],
   "source": [
    "ax = plt.subplot()\n",
    "Model_Predictions = clf1.predict(X_test)\n",
    "Model_Confusion_Matrix = confusion_matrix(Model_Predictions,y_test)\n",
    "sns.heatmap(Model_Confusion_Matrix,annot=True,fmt = \"d\",square = True,ax = ax, linewidths = 1,linecolor = \"w\",cmap = \"Pastel2\")\n",
    "ax.set_xlabel('True labels')\n",
    "ax.set_ylabel('Predicted labels')\n",
    "ax.xaxis.set_ticklabels([\"Loss\",\"Profit\"])\n",
    "ax.yaxis.set_ticklabels([\"Loss\",\"Profit\"], va=\"center\")\n",
    "b, t = plt.ylim() \n",
    "b += 0.5\n",
    "t -= 0.5\n",
    "plt.ylim(b, t)\n",
    "plt.title('Logistic Regression')"
   ]
  },
  {
   "cell_type": "markdown",
   "metadata": {},
   "source": [
    "### 1.2.2.2.2) Decision Tree Classifier"
   ]
  },
  {
   "cell_type": "code",
   "execution_count": 125,
   "metadata": {},
   "outputs": [
    {
     "name": "stdout",
     "output_type": "stream",
     "text": [
      "DTC best parameters: {'criterion': 'entropy', 'max_depth': 100, 'min_samples_leaf': 0.1, 'min_samples_split': 0.99}\n",
      "DTC Train score: 0.5936329588014981\n",
      "DTC Test score: 0.6048034934497817\n",
      "DTC Test Accuracy score: 0.5524017467248908\n"
     ]
    }
   ],
   "source": [
    "DTSplitList=[0.001,0.01,0.05,0.1,0.5,0.99]\n",
    "DTLeafList=[0.0005,0.005,0.025,0.05,0.1,0.25,0.5]\n",
    "criterion =['gini','entropy']\n",
    "parameters = {'criterion':criterion,'max_depth':list(range(100,0,-3)),'min_samples_leaf': DTLeafList, 'min_samples_split':DTSplitList}\n",
    "DTC = DecisionTreeClassifier(random_state=10)\n",
    "clf2 = GridSearchCV(DTC, parameters, cv=5, verbose=0,scoring =make_scorer(recall_score,pos_label=0))\n",
    "clf2.fit(X_train, y_train)\n",
    "\n",
    "y_pred = clf2.predict(X_test)\n",
    "print(\"DTC best parameters:\", clf2.best_params_)\n",
    "print(\"DTC Train score:\", clf2.score(X_train, y_train))\n",
    "print(\"DTC Test score:\", clf2.score(X_test, y_test))\n",
    "print(\"DTC Test Accuracy score:\", accuracy_score(y_pred, y_test))"
   ]
  },
  {
   "cell_type": "code",
   "execution_count": 126,
   "metadata": {},
   "outputs": [
    {
     "data": {
      "text/plain": [
       "Text(0.5, 1, 'Decision Tree Classifier')"
      ]
     },
     "execution_count": 126,
     "metadata": {},
     "output_type": "execute_result"
    },
    {
     "data": {
      "image/png": "[encoded data removed]",
      "text/plain": [
       "<Figure size 432x288 with 2 Axes>"
      ]
     },
     "metadata": {
      "needs_background": "light"
     },
     "output_type": "display_data"
    }
   ],
   "source": [
    "ax = plt.subplot()\n",
    "Model_Predictions = clf2.predict(X_test)\n",
    "Model_Confusion_Matrix = confusion_matrix(Model_Predictions,y_test)\n",
    "sns.heatmap(Model_Confusion_Matrix,annot=True,fmt = \"d\",square = True,ax = ax, linewidths = 1,linecolor = \"w\",cmap = \"Pastel2\")\n",
    "ax.set_xlabel('True labels')\n",
    "ax.set_ylabel('Predicted labels')\n",
    "ax.xaxis.set_ticklabels([\"Loss\",\"Profit\"])\n",
    "ax.yaxis.set_ticklabels([\"Loss\",\"Profit\"], va=\"center\")\n",
    "b, t = plt.ylim() \n",
    "b += 0.5\n",
    "t -= 0.5\n",
    "plt.ylim(b, t)\n",
    "plt.title('Decision Tree Classifier')"
   ]
  },
  {
   "cell_type": "markdown",
   "metadata": {},
   "source": [
    "### 1.2.2.2.3) Random Forest Classifier"
   ]
  },
  {
   "cell_type": "code",
   "execution_count": 127,
   "metadata": {},
   "outputs": [
    {
     "name": "stdout",
     "output_type": "stream",
     "text": [
      "RFC best parameters: {'criterion': 'entropy', 'max_depth': 30, 'n_estimators': 50}\n",
      "RFC Train score: 1.0\n",
      "RFC Test score: 0.5807860262008734\n",
      "RFC Test Accuracy score: 0.5611353711790393\n"
     ]
    }
   ],
   "source": [
    "RFEstimatorList = [25,50,100,200]\n",
    "criterion =['gini','entropy']\n",
    "parameters = {'criterion':criterion,'max_depth':list(range(100,0,-10)),'n_estimators':RFEstimatorList}\n",
    "\n",
    "RFC = RandomForestClassifier(random_state=10)\n",
    "clf3 = GridSearchCV(RFC, parameters, cv=5, verbose=0,scoring =make_scorer(recall_score,pos_label=0))\n",
    "clf3.fit(X_train, y_train)\n",
    "\n",
    "y_pred = clf3.predict(X_test)\n",
    "print(\"RFC best parameters:\", clf3.best_params_)\n",
    "print(\"RFC Train score:\", clf3.score(X_train, y_train))\n",
    "print(\"RFC Test score:\", clf3.score(X_test, y_test))\n",
    "print(\"RFC Test Accuracy score:\", accuracy_score(y_pred, y_test))"
   ]
  },
  {
   "cell_type": "code",
   "execution_count": 128,
   "metadata": {},
   "outputs": [
    {
     "data": {
      "text/plain": [
       "Text(0.5, 1, 'Random Forest Classifier')"
      ]
     },
     "execution_count": 128,
     "metadata": {},
     "output_type": "execute_result"
    },
    {
     "data": {
      "image/png": "[encoded data removed]",
      "text/plain": [
       "<Figure size 432x288 with 2 Axes>"
      ]
     },
     "metadata": {
      "needs_background": "light"
     },
     "output_type": "display_data"
    }
   ],
   "source": [
    "ax = plt.subplot()\n",
    "Model_Predictions = clf3.predict(X_test)\n",
    "Model_Confusion_Matrix = confusion_matrix(Model_Predictions,y_test)\n",
    "sns.heatmap(Model_Confusion_Matrix,annot=True,fmt = \"d\",square = True,ax = ax, linewidths = 1,linecolor = \"w\",cmap = \"Pastel2\")\n",
    "ax.set_xlabel('True labels')\n",
    "ax.set_ylabel('Predicted labels')\n",
    "ax.xaxis.set_ticklabels([\"Loss\",\"Profit\"])\n",
    "ax.yaxis.set_ticklabels([\"Loss\",\"Profit\"], va=\"center\")\n",
    "b, t = plt.ylim() \n",
    "b += 0.5\n",
    "t -= 0.5\n",
    "plt.ylim(b, t)\n",
    "plt.title('Random Forest Classifier')"
   ]
  },
  {
   "cell_type": "markdown",
   "metadata": {},
   "source": [
    "### 1.2.2.2.4) KNN Classifier"
   ]
  },
  {
   "cell_type": "code",
   "execution_count": 129,
   "metadata": {},
   "outputs": [],
   "source": [
    "MMScaler = MinMaxScaler()\n",
    "X_train_scaled = MMScaler.fit_transform(X_train)\n",
    "X_test_scaled = MMScaler.transform(X_test)"
   ]
  },
  {
   "cell_type": "code",
   "execution_count": 130,
   "metadata": {},
   "outputs": [
    {
     "name": "stdout",
     "output_type": "stream",
     "text": [
      "KNN best parameters: {'n_neighbors': 10}\n",
      "KNN Train score: 0.7312734082397003\n",
      "KNN Test score: 0.6331877729257642\n",
      "KNN Test Accuracy score: 0.5403930131004366\n"
     ]
    }
   ],
   "source": [
    "Neighbor_List=[3,5,10,20,50]\n",
    "parameters = {'n_neighbors':Neighbor_List}\n",
    "KNNC = KNeighborsClassifier()\n",
    "clf4 = GridSearchCV(KNNC, parameters, cv=5, verbose=0,scoring =make_scorer(recall_score,pos_label=0))\n",
    "clf4.fit(X_train_scaled, y_train)\n",
    "\n",
    "y_pred = clf4.predict(X_test_scaled)\n",
    "print(\"KNN best parameters:\", clf4.best_params_)\n",
    "print(\"KNN Train score:\", clf4.score(X_train_scaled, y_train))\n",
    "print(\"KNN Test score:\", clf4.score(X_test_scaled, y_test))\n",
    "print(\"KNN Test Accuracy score:\", accuracy_score(y_pred, y_test))"
   ]
  },
  {
   "cell_type": "code",
   "execution_count": 131,
   "metadata": {},
   "outputs": [
    {
     "data": {
      "text/plain": [
       "Text(0.5, 1, 'KNN Classifier')"
      ]
     },
     "execution_count": 131,
     "metadata": {},
     "output_type": "execute_result"
    },
    {
     "data": {
      "image/png": "[encoded data removed]",
      "text/plain": [
       "<Figure size 432x288 with 2 Axes>"
      ]
     },
     "metadata": {
      "needs_background": "light"
     },
     "output_type": "display_data"
    }
   ],
   "source": [
    "ax = plt.subplot()\n",
    "Model_Predictions = clf4.predict(X_test_scaled)\n",
    "Model_Confusion_Matrix = confusion_matrix(Model_Predictions,y_test)\n",
    "sns.heatmap(Model_Confusion_Matrix,annot=True,fmt = \"d\",square = True,ax = ax, linewidths = 1,linecolor = \"w\",cmap = \"Pastel2\")\n",
    "ax.set_xlabel('True labels')\n",
    "ax.set_ylabel('Predicted labels')\n",
    "ax.xaxis.set_ticklabels([\"Loss\",\"Profit\"])\n",
    "ax.yaxis.set_ticklabels([\"Loss\",\"Profit\"], va=\"center\")\n",
    "b, t = plt.ylim() \n",
    "b += 0.5\n",
    "t -= 0.5\n",
    "plt.ylim(b, t)\n",
    "plt.title('KNN Classifier')"
   ]
  },
  {
   "cell_type": "markdown",
   "metadata": {},
   "source": [
    "### 1.2.2.2.5) Gaussian Naive Bayes Classifier"
   ]
  },
  {
   "cell_type": "code",
   "execution_count": 132,
   "metadata": {},
   "outputs": [
    {
     "name": "stdout",
     "output_type": "stream",
     "text": [
      "GNB Train score: 0.5713617220402434\n",
      "GNB Test score: 0.5731441048034934\n"
     ]
    }
   ],
   "source": [
    "GNB = GaussianNB()\n",
    "GNB.fit(X_train,y_train)\n",
    "    \n",
    "y_pred = GNB.predict(X_test)\n",
    "print(\"GNB Train score:\", GNB.score(X_train, y_train))\n",
    "print(\"GNB Test score:\", GNB.score(X_test, y_test))"
   ]
  },
  {
   "cell_type": "code",
   "execution_count": 133,
   "metadata": {},
   "outputs": [
    {
     "data": {
      "text/plain": [
       "Text(0.5, 1, 'Gaussian Naive Bayes Classifier')"
      ]
     },
     "execution_count": 133,
     "metadata": {},
     "output_type": "execute_result"
    },
    {
     "data": {
      "image/png": "[encoded data removed]",
      "text/plain": [
       "<Figure size 432x288 with 2 Axes>"
      ]
     },
     "metadata": {
      "needs_background": "light"
     },
     "output_type": "display_data"
    }
   ],
   "source": [
    "ax = plt.subplot()\n",
    "Model_Predictions = GNB.predict(X_test)\n",
    "Model_Confusion_Matrix = confusion_matrix(Model_Predictions,y_test)\n",
    "sns.heatmap(Model_Confusion_Matrix,annot=True,fmt = \"d\",square = True,ax = ax, linewidths = 1,linecolor = \"w\",cmap = \"Pastel2\")\n",
    "ax.set_xlabel('True labels')\n",
    "ax.set_ylabel('Predicted labels')\n",
    "ax.xaxis.set_ticklabels([\"Loss\",\"Profit\"])\n",
    "ax.yaxis.set_ticklabels([\"Loss\",\"Profit\"], va=\"center\")\n",
    "b, t = plt.ylim() \n",
    "b += 0.5\n",
    "t -= 0.5\n",
    "plt.ylim(b, t)\n",
    "plt.title('Gaussian Naive Bayes Classifier')"
   ]
  }
 ],
 "metadata": {
  "kernelspec": {
   "display_name": "Python 3",
   "language": "python",
   "name": "python3"
  },
  "language_info": {
   "codemirror_mode": {
    "name": "ipython",
    "version": 3
   },
   "file_extension": ".py",
   "mimetype": "text/x-python",
   "name": "python",
   "nbconvert_exporter": "python",
   "pygments_lexer": "ipython3",
   "version": "3.7.4"
  }
 },
 "nbformat": 4,
 "nbformat_minor": 4
}
