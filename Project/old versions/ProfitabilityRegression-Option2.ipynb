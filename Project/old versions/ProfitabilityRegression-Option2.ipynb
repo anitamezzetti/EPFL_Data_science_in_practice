{
 "cells": [
  {
   "cell_type": "code",
   "execution_count": 1,
   "metadata": {},
   "outputs": [],
   "source": [
    "from collections import Counter\n",
    "\n",
    "import numpy as np\n",
    "import pandas as pd\n",
    "import matplotlib.pyplot as plt\n",
    "import seaborn as sns\n",
    "import warnings\n",
    "from sklearn import metrics\n",
    "warnings.filterwarnings('ignore')\n",
    "\n",
    "from sklearn.metrics import fbeta_score, make_scorer\n",
    "from sklearn.utils import shuffle\n",
    "from imblearn.over_sampling import SMOTE\n",
    "from sklearn.utils import resample\n",
    "from sklearn import metrics\n",
    "from sklearn.linear_model import Ridge\n",
    "from sklearn.linear_model import Lasso\n",
    "from sklearn import linear_model\n",
    "from sklearn.metrics import mean_squared_error\n",
    "from sklearn.tree import DecisionTreeRegressor\n",
    "from sklearn.ensemble import RandomForestRegressor\n",
    "from sklearn.metrics import accuracy_score, recall_score, precision_score, roc_auc_score \n",
    "from sklearn.metrics import confusion_matrix\n",
    "from sklearn.preprocessing import StandardScaler, MinMaxScaler\n",
    "from sklearn.model_selection import train_test_split\n",
    "from sklearn.model_selection import cross_validate\n",
    "from sklearn.model_selection import GridSearchCV"
   ]
  },
  {
   "cell_type": "code",
   "execution_count": 2,
   "metadata": {},
   "outputs": [],
   "source": [
    "movie_df = pd.read_csv(r'data/data_regression.csv')"
   ]
  },
  {
   "cell_type": "code",
   "execution_count": 3,
   "metadata": {},
   "outputs": [
    {
     "data": {
      "text/plain": [
       "Index(['imdb_id', 'director_name', 'num_critic_for_reviews', 'duration',\n",
       "       'director_facebook_likes', 'actor_3_facebook_likes', 'actor_2_name',\n",
       "       'actor_1_facebook_likes', 'gross', 'genres', 'actor_1_name',\n",
       "       'movie_title', 'num_voted_users', 'cast_total_facebook_likes',\n",
       "       'actor_3_name', 'facenumber_in_poster', 'plot_keywords',\n",
       "       'num_user_for_reviews', 'language', 'country', 'content_rating',\n",
       "       'budget', 'title_year', 'actor_2_facebook_likes', 'imdb_score',\n",
       "       'movie_facebook_likes', 'Biography', 'Comedy', 'Crime', 'Drama',\n",
       "       'Romance', 'Mystery_Thriller_Horror', 'Sci-Fi_Fantasy',\n",
       "       'Family_Animation', 'Action_Adventure', 'History_War', 'Others',\n",
       "       'director_rank', 'actor1_rank', 'actor2_rank', 'actor3_rank',\n",
       "       'gross_budget_ratio'],\n",
       "      dtype='object')"
      ]
     },
     "execution_count": 3,
     "metadata": {},
     "output_type": "execute_result"
    }
   ],
   "source": [
    "movie_df.columns"
   ]
  },
  {
   "cell_type": "markdown",
   "metadata": {},
   "source": [
    "# 1) Only Facebook Likes"
   ]
  },
  {
   "cell_type": "code",
   "execution_count": 4,
   "metadata": {},
   "outputs": [],
   "source": [
    "classification_df = movie_df.drop(columns=['imdb_id', 'director_name', 'num_critic_for_reviews',\n",
    "       'actor_2_name',\n",
    "       'gross', 'genres', 'actor_1_name',\n",
    "       'movie_title', 'num_voted_users',\n",
    "       'actor_3_name', 'plot_keywords',\n",
    "       'num_user_for_reviews',\n",
    "       'title_year', 'imdb_score',\n",
    "       'movie_facebook_likes','director_rank', 'actor1_rank', 'actor2_rank', 'actor3_rank'])"
   ]
  },
  {
   "cell_type": "code",
   "execution_count": 5,
   "metadata": {},
   "outputs": [
    {
     "data": {
      "text/html": [
       "<div>\n",
       "<style scoped>\n",
       "    .dataframe tbody tr th:only-of-type {\n",
       "        vertical-align: middle;\n",
       "    }\n",
       "\n",
       "    .dataframe tbody tr th {\n",
       "        vertical-align: top;\n",
       "    }\n",
       "\n",
       "    .dataframe thead th {\n",
       "        text-align: right;\n",
       "    }\n",
       "</style>\n",
       "<table border=\"1\" class=\"dataframe\">\n",
       "  <thead>\n",
       "    <tr style=\"text-align: right;\">\n",
       "      <th></th>\n",
       "      <th>duration</th>\n",
       "      <th>director_facebook_likes</th>\n",
       "      <th>actor_3_facebook_likes</th>\n",
       "      <th>actor_1_facebook_likes</th>\n",
       "      <th>cast_total_facebook_likes</th>\n",
       "      <th>facenumber_in_poster</th>\n",
       "      <th>language</th>\n",
       "      <th>country</th>\n",
       "      <th>content_rating</th>\n",
       "      <th>budget</th>\n",
       "      <th>...</th>\n",
       "      <th>Crime</th>\n",
       "      <th>Drama</th>\n",
       "      <th>Romance</th>\n",
       "      <th>Mystery_Thriller_Horror</th>\n",
       "      <th>Sci-Fi_Fantasy</th>\n",
       "      <th>Family_Animation</th>\n",
       "      <th>Action_Adventure</th>\n",
       "      <th>History_War</th>\n",
       "      <th>Others</th>\n",
       "      <th>gross_budget_ratio</th>\n",
       "    </tr>\n",
       "  </thead>\n",
       "  <tbody>\n",
       "    <tr>\n",
       "      <td>0</td>\n",
       "      <td>123.0</td>\n",
       "      <td>446.0</td>\n",
       "      <td>821.0</td>\n",
       "      <td>20000.0</td>\n",
       "      <td>22209</td>\n",
       "      <td>1.0</td>\n",
       "      <td>English</td>\n",
       "      <td>USA</td>\n",
       "      <td>PG-13</td>\n",
       "      <td>48000000.0</td>\n",
       "      <td>...</td>\n",
       "      <td>0</td>\n",
       "      <td>0</td>\n",
       "      <td>1</td>\n",
       "      <td>0</td>\n",
       "      <td>1</td>\n",
       "      <td>0</td>\n",
       "      <td>0</td>\n",
       "      <td>0</td>\n",
       "      <td>0</td>\n",
       "      <td>0.981155</td>\n",
       "    </tr>\n",
       "    <tr>\n",
       "      <td>1</td>\n",
       "      <td>88.0</td>\n",
       "      <td>104.0</td>\n",
       "      <td>318.0</td>\n",
       "      <td>628.0</td>\n",
       "      <td>2726</td>\n",
       "      <td>0.0</td>\n",
       "      <td>English</td>\n",
       "      <td>USA</td>\n",
       "      <td>PG</td>\n",
       "      <td>3500000.0</td>\n",
       "      <td>...</td>\n",
       "      <td>0</td>\n",
       "      <td>0</td>\n",
       "      <td>0</td>\n",
       "      <td>0</td>\n",
       "      <td>0</td>\n",
       "      <td>0</td>\n",
       "      <td>0</td>\n",
       "      <td>0</td>\n",
       "      <td>0</td>\n",
       "      <td>23.828571</td>\n",
       "    </tr>\n",
       "    <tr>\n",
       "      <td>2</td>\n",
       "      <td>104.0</td>\n",
       "      <td>116.0</td>\n",
       "      <td>83.0</td>\n",
       "      <td>1000.0</td>\n",
       "      <td>1662</td>\n",
       "      <td>0.0</td>\n",
       "      <td>English</td>\n",
       "      <td>USA</td>\n",
       "      <td>R</td>\n",
       "      <td>4500000.0</td>\n",
       "      <td>...</td>\n",
       "      <td>0</td>\n",
       "      <td>1</td>\n",
       "      <td>1</td>\n",
       "      <td>0</td>\n",
       "      <td>0</td>\n",
       "      <td>0</td>\n",
       "      <td>1</td>\n",
       "      <td>0</td>\n",
       "      <td>0</td>\n",
       "      <td>13.078468</td>\n",
       "    </tr>\n",
       "    <tr>\n",
       "      <td>3</td>\n",
       "      <td>148.0</td>\n",
       "      <td>644.0</td>\n",
       "      <td>326.0</td>\n",
       "      <td>1000.0</td>\n",
       "      <td>2566</td>\n",
       "      <td>1.0</td>\n",
       "      <td>English</td>\n",
       "      <td>USA</td>\n",
       "      <td>R</td>\n",
       "      <td>27000000.0</td>\n",
       "      <td>...</td>\n",
       "      <td>1</td>\n",
       "      <td>0</td>\n",
       "      <td>0</td>\n",
       "      <td>0</td>\n",
       "      <td>0</td>\n",
       "      <td>0</td>\n",
       "      <td>1</td>\n",
       "      <td>0</td>\n",
       "      <td>1</td>\n",
       "      <td>2.007407</td>\n",
       "    </tr>\n",
       "    <tr>\n",
       "      <td>4</td>\n",
       "      <td>98.0</td>\n",
       "      <td>11000.0</td>\n",
       "      <td>484.0</td>\n",
       "      <td>13000.0</td>\n",
       "      <td>14921</td>\n",
       "      <td>3.0</td>\n",
       "      <td>English</td>\n",
       "      <td>USA</td>\n",
       "      <td>R</td>\n",
       "      <td>6000000.0</td>\n",
       "      <td>...</td>\n",
       "      <td>0</td>\n",
       "      <td>0</td>\n",
       "      <td>0</td>\n",
       "      <td>0</td>\n",
       "      <td>0</td>\n",
       "      <td>0</td>\n",
       "      <td>0</td>\n",
       "      <td>0</td>\n",
       "      <td>1</td>\n",
       "      <td>6.633333</td>\n",
       "    </tr>\n",
       "    <tr>\n",
       "      <td>...</td>\n",
       "      <td>...</td>\n",
       "      <td>...</td>\n",
       "      <td>...</td>\n",
       "      <td>...</td>\n",
       "      <td>...</td>\n",
       "      <td>...</td>\n",
       "      <td>...</td>\n",
       "      <td>...</td>\n",
       "      <td>...</td>\n",
       "      <td>...</td>\n",
       "      <td>...</td>\n",
       "      <td>...</td>\n",
       "      <td>...</td>\n",
       "      <td>...</td>\n",
       "      <td>...</td>\n",
       "      <td>...</td>\n",
       "      <td>...</td>\n",
       "      <td>...</td>\n",
       "      <td>...</td>\n",
       "      <td>...</td>\n",
       "      <td>...</td>\n",
       "    </tr>\n",
       "    <tr>\n",
       "      <td>3847</td>\n",
       "      <td>92.0</td>\n",
       "      <td>89.0</td>\n",
       "      <td>190.0</td>\n",
       "      <td>17000.0</td>\n",
       "      <td>17860</td>\n",
       "      <td>0.0</td>\n",
       "      <td>English</td>\n",
       "      <td>USA</td>\n",
       "      <td>R</td>\n",
       "      <td>35000000.0</td>\n",
       "      <td>...</td>\n",
       "      <td>0</td>\n",
       "      <td>0</td>\n",
       "      <td>0</td>\n",
       "      <td>0</td>\n",
       "      <td>0</td>\n",
       "      <td>0</td>\n",
       "      <td>0</td>\n",
       "      <td>0</td>\n",
       "      <td>0</td>\n",
       "      <td>1.579766</td>\n",
       "    </tr>\n",
       "    <tr>\n",
       "      <td>3848</td>\n",
       "      <td>100.0</td>\n",
       "      <td>24.0</td>\n",
       "      <td>851.0</td>\n",
       "      <td>15000.0</td>\n",
       "      <td>18786</td>\n",
       "      <td>9.0</td>\n",
       "      <td>English</td>\n",
       "      <td>USA</td>\n",
       "      <td>R</td>\n",
       "      <td>20000000.0</td>\n",
       "      <td>...</td>\n",
       "      <td>0</td>\n",
       "      <td>0</td>\n",
       "      <td>0</td>\n",
       "      <td>0</td>\n",
       "      <td>0</td>\n",
       "      <td>0</td>\n",
       "      <td>0</td>\n",
       "      <td>0</td>\n",
       "      <td>0</td>\n",
       "      <td>2.773065</td>\n",
       "    </tr>\n",
       "    <tr>\n",
       "      <td>3849</td>\n",
       "      <td>92.0</td>\n",
       "      <td>89.0</td>\n",
       "      <td>355.0</td>\n",
       "      <td>729.0</td>\n",
       "      <td>2848</td>\n",
       "      <td>4.0</td>\n",
       "      <td>English</td>\n",
       "      <td>USA</td>\n",
       "      <td>R</td>\n",
       "      <td>5000000.0</td>\n",
       "      <td>...</td>\n",
       "      <td>0</td>\n",
       "      <td>0</td>\n",
       "      <td>0</td>\n",
       "      <td>0</td>\n",
       "      <td>0</td>\n",
       "      <td>0</td>\n",
       "      <td>0</td>\n",
       "      <td>0</td>\n",
       "      <td>0</td>\n",
       "      <td>2.335036</td>\n",
       "    </tr>\n",
       "    <tr>\n",
       "      <td>3850</td>\n",
       "      <td>81.0</td>\n",
       "      <td>26.0</td>\n",
       "      <td>300.0</td>\n",
       "      <td>2000.0</td>\n",
       "      <td>3344</td>\n",
       "      <td>0.0</td>\n",
       "      <td>English</td>\n",
       "      <td>USA</td>\n",
       "      <td>PG-13</td>\n",
       "      <td>4900000.0</td>\n",
       "      <td>...</td>\n",
       "      <td>0</td>\n",
       "      <td>0</td>\n",
       "      <td>0</td>\n",
       "      <td>1</td>\n",
       "      <td>0</td>\n",
       "      <td>0</td>\n",
       "      <td>0</td>\n",
       "      <td>0</td>\n",
       "      <td>0</td>\n",
       "      <td>11.537962</td>\n",
       "    </tr>\n",
       "    <tr>\n",
       "      <td>3851</td>\n",
       "      <td>120.0</td>\n",
       "      <td>18.0</td>\n",
       "      <td>295.0</td>\n",
       "      <td>634.0</td>\n",
       "      <td>1810</td>\n",
       "      <td>11.0</td>\n",
       "      <td>English</td>\n",
       "      <td>USA</td>\n",
       "      <td>PG</td>\n",
       "      <td>5000000.0</td>\n",
       "      <td>...</td>\n",
       "      <td>0</td>\n",
       "      <td>1</td>\n",
       "      <td>0</td>\n",
       "      <td>0</td>\n",
       "      <td>0</td>\n",
       "      <td>0</td>\n",
       "      <td>0</td>\n",
       "      <td>0</td>\n",
       "      <td>0</td>\n",
       "      <td>4.154614</td>\n",
       "    </tr>\n",
       "  </tbody>\n",
       "</table>\n",
       "<p>3852 rows × 23 columns</p>\n",
       "</div>"
      ],
      "text/plain": [
       "      duration  director_facebook_likes  actor_3_facebook_likes  \\\n",
       "0        123.0                    446.0                   821.0   \n",
       "1         88.0                    104.0                   318.0   \n",
       "2        104.0                    116.0                    83.0   \n",
       "3        148.0                    644.0                   326.0   \n",
       "4         98.0                  11000.0                   484.0   \n",
       "...        ...                      ...                     ...   \n",
       "3847      92.0                     89.0                   190.0   \n",
       "3848     100.0                     24.0                   851.0   \n",
       "3849      92.0                     89.0                   355.0   \n",
       "3850      81.0                     26.0                   300.0   \n",
       "3851     120.0                     18.0                   295.0   \n",
       "\n",
       "      actor_1_facebook_likes  cast_total_facebook_likes  facenumber_in_poster  \\\n",
       "0                    20000.0                      22209                   1.0   \n",
       "1                      628.0                       2726                   0.0   \n",
       "2                     1000.0                       1662                   0.0   \n",
       "3                     1000.0                       2566                   1.0   \n",
       "4                    13000.0                      14921                   3.0   \n",
       "...                      ...                        ...                   ...   \n",
       "3847                 17000.0                      17860                   0.0   \n",
       "3848                 15000.0                      18786                   9.0   \n",
       "3849                   729.0                       2848                   4.0   \n",
       "3850                  2000.0                       3344                   0.0   \n",
       "3851                   634.0                       1810                  11.0   \n",
       "\n",
       "     language country content_rating      budget  ...  Crime  Drama  Romance  \\\n",
       "0     English     USA          PG-13  48000000.0  ...      0      0        1   \n",
       "1     English     USA             PG   3500000.0  ...      0      0        0   \n",
       "2     English     USA              R   4500000.0  ...      0      1        1   \n",
       "3     English     USA              R  27000000.0  ...      1      0        0   \n",
       "4     English     USA              R   6000000.0  ...      0      0        0   \n",
       "...       ...     ...            ...         ...  ...    ...    ...      ...   \n",
       "3847  English     USA              R  35000000.0  ...      0      0        0   \n",
       "3848  English     USA              R  20000000.0  ...      0      0        0   \n",
       "3849  English     USA              R   5000000.0  ...      0      0        0   \n",
       "3850  English     USA          PG-13   4900000.0  ...      0      0        0   \n",
       "3851  English     USA             PG   5000000.0  ...      0      1        0   \n",
       "\n",
       "      Mystery_Thriller_Horror  Sci-Fi_Fantasy  Family_Animation  \\\n",
       "0                           0               1                 0   \n",
       "1                           0               0                 0   \n",
       "2                           0               0                 0   \n",
       "3                           0               0                 0   \n",
       "4                           0               0                 0   \n",
       "...                       ...             ...               ...   \n",
       "3847                        0               0                 0   \n",
       "3848                        0               0                 0   \n",
       "3849                        0               0                 0   \n",
       "3850                        1               0                 0   \n",
       "3851                        0               0                 0   \n",
       "\n",
       "      Action_Adventure  History_War  Others  gross_budget_ratio  \n",
       "0                    0            0       0            0.981155  \n",
       "1                    0            0       0           23.828571  \n",
       "2                    1            0       0           13.078468  \n",
       "3                    1            0       1            2.007407  \n",
       "4                    0            0       1            6.633333  \n",
       "...                ...          ...     ...                 ...  \n",
       "3847                 0            0       0            1.579766  \n",
       "3848                 0            0       0            2.773065  \n",
       "3849                 0            0       0            2.335036  \n",
       "3850                 0            0       0           11.537962  \n",
       "3851                 0            0       0            4.154614  \n",
       "\n",
       "[3852 rows x 23 columns]"
      ]
     },
     "execution_count": 5,
     "metadata": {},
     "output_type": "execute_result"
    }
   ],
   "source": [
    "classification_df"
   ]
  },
  {
   "cell_type": "markdown",
   "metadata": {},
   "source": [
    "## 1.1) All Movies"
   ]
  },
  {
   "cell_type": "code",
   "execution_count": 6,
   "metadata": {},
   "outputs": [
    {
     "data": {
      "text/html": [
       "<div>\n",
       "<style scoped>\n",
       "    .dataframe tbody tr th:only-of-type {\n",
       "        vertical-align: middle;\n",
       "    }\n",
       "\n",
       "    .dataframe tbody tr th {\n",
       "        vertical-align: top;\n",
       "    }\n",
       "\n",
       "    .dataframe thead th {\n",
       "        text-align: right;\n",
       "    }\n",
       "</style>\n",
       "<table border=\"1\" class=\"dataframe\">\n",
       "  <thead>\n",
       "    <tr style=\"text-align: right;\">\n",
       "      <th></th>\n",
       "      <th>duration</th>\n",
       "      <th>director_facebook_likes</th>\n",
       "      <th>actor_3_facebook_likes</th>\n",
       "      <th>actor_1_facebook_likes</th>\n",
       "      <th>cast_total_facebook_likes</th>\n",
       "      <th>facenumber_in_poster</th>\n",
       "      <th>budget</th>\n",
       "      <th>actor_2_facebook_likes</th>\n",
       "      <th>Biography</th>\n",
       "      <th>Comedy</th>\n",
       "      <th>...</th>\n",
       "      <th>Mystery_Thriller_Horror</th>\n",
       "      <th>Sci-Fi_Fantasy</th>\n",
       "      <th>Family_Animation</th>\n",
       "      <th>Action_Adventure</th>\n",
       "      <th>History_War</th>\n",
       "      <th>Others</th>\n",
       "      <th>gross_budget_ratio</th>\n",
       "      <th>content_rating_PG</th>\n",
       "      <th>content_rating_PG-13</th>\n",
       "      <th>content_rating_R</th>\n",
       "    </tr>\n",
       "  </thead>\n",
       "  <tbody>\n",
       "    <tr>\n",
       "      <td>0</td>\n",
       "      <td>123.0</td>\n",
       "      <td>446.0</td>\n",
       "      <td>821.0</td>\n",
       "      <td>20000.0</td>\n",
       "      <td>22209</td>\n",
       "      <td>1.0</td>\n",
       "      <td>4.800000e+07</td>\n",
       "      <td>1000.0</td>\n",
       "      <td>0</td>\n",
       "      <td>1</td>\n",
       "      <td>...</td>\n",
       "      <td>0</td>\n",
       "      <td>1</td>\n",
       "      <td>0</td>\n",
       "      <td>0</td>\n",
       "      <td>0</td>\n",
       "      <td>0</td>\n",
       "      <td>0.981155</td>\n",
       "      <td>0</td>\n",
       "      <td>1</td>\n",
       "      <td>0</td>\n",
       "    </tr>\n",
       "    <tr>\n",
       "      <td>3</td>\n",
       "      <td>148.0</td>\n",
       "      <td>644.0</td>\n",
       "      <td>326.0</td>\n",
       "      <td>1000.0</td>\n",
       "      <td>2566</td>\n",
       "      <td>1.0</td>\n",
       "      <td>2.700000e+07</td>\n",
       "      <td>809.0</td>\n",
       "      <td>0</td>\n",
       "      <td>1</td>\n",
       "      <td>...</td>\n",
       "      <td>0</td>\n",
       "      <td>0</td>\n",
       "      <td>0</td>\n",
       "      <td>1</td>\n",
       "      <td>0</td>\n",
       "      <td>1</td>\n",
       "      <td>2.007407</td>\n",
       "      <td>0</td>\n",
       "      <td>0</td>\n",
       "      <td>1</td>\n",
       "    </tr>\n",
       "    <tr>\n",
       "      <td>5</td>\n",
       "      <td>124.0</td>\n",
       "      <td>42.0</td>\n",
       "      <td>161.0</td>\n",
       "      <td>801.0</td>\n",
       "      <td>1462</td>\n",
       "      <td>0.0</td>\n",
       "      <td>2.000000e+07</td>\n",
       "      <td>174.0</td>\n",
       "      <td>1</td>\n",
       "      <td>1</td>\n",
       "      <td>...</td>\n",
       "      <td>0</td>\n",
       "      <td>0</td>\n",
       "      <td>0</td>\n",
       "      <td>0</td>\n",
       "      <td>0</td>\n",
       "      <td>1</td>\n",
       "      <td>0.100000</td>\n",
       "      <td>1</td>\n",
       "      <td>0</td>\n",
       "      <td>0</td>\n",
       "    </tr>\n",
       "    <tr>\n",
       "      <td>6</td>\n",
       "      <td>124.0</td>\n",
       "      <td>150.0</td>\n",
       "      <td>572.0</td>\n",
       "      <td>874.0</td>\n",
       "      <td>2667</td>\n",
       "      <td>0.0</td>\n",
       "      <td>5.166449e+07</td>\n",
       "      <td>816.0</td>\n",
       "      <td>1</td>\n",
       "      <td>0</td>\n",
       "      <td>...</td>\n",
       "      <td>0</td>\n",
       "      <td>0</td>\n",
       "      <td>0</td>\n",
       "      <td>0</td>\n",
       "      <td>0</td>\n",
       "      <td>1</td>\n",
       "      <td>1.546517</td>\n",
       "      <td>1</td>\n",
       "      <td>0</td>\n",
       "      <td>0</td>\n",
       "    </tr>\n",
       "    <tr>\n",
       "      <td>11</td>\n",
       "      <td>325.0</td>\n",
       "      <td>517.0</td>\n",
       "      <td>678.0</td>\n",
       "      <td>12000.0</td>\n",
       "      <td>14255</td>\n",
       "      <td>0.0</td>\n",
       "      <td>4.400000e+07</td>\n",
       "      <td>849.0</td>\n",
       "      <td>0</td>\n",
       "      <td>0</td>\n",
       "      <td>...</td>\n",
       "      <td>0</td>\n",
       "      <td>0</td>\n",
       "      <td>0</td>\n",
       "      <td>1</td>\n",
       "      <td>0</td>\n",
       "      <td>1</td>\n",
       "      <td>0.034091</td>\n",
       "      <td>0</td>\n",
       "      <td>0</td>\n",
       "      <td>1</td>\n",
       "    </tr>\n",
       "    <tr>\n",
       "      <td>...</td>\n",
       "      <td>...</td>\n",
       "      <td>...</td>\n",
       "      <td>...</td>\n",
       "      <td>...</td>\n",
       "      <td>...</td>\n",
       "      <td>...</td>\n",
       "      <td>...</td>\n",
       "      <td>...</td>\n",
       "      <td>...</td>\n",
       "      <td>...</td>\n",
       "      <td>...</td>\n",
       "      <td>...</td>\n",
       "      <td>...</td>\n",
       "      <td>...</td>\n",
       "      <td>...</td>\n",
       "      <td>...</td>\n",
       "      <td>...</td>\n",
       "      <td>...</td>\n",
       "      <td>...</td>\n",
       "      <td>...</td>\n",
       "      <td>...</td>\n",
       "    </tr>\n",
       "    <tr>\n",
       "      <td>3846</td>\n",
       "      <td>121.0</td>\n",
       "      <td>35.0</td>\n",
       "      <td>473.0</td>\n",
       "      <td>4000.0</td>\n",
       "      <td>6617</td>\n",
       "      <td>0.0</td>\n",
       "      <td>5.000000e+06</td>\n",
       "      <td>849.0</td>\n",
       "      <td>0</td>\n",
       "      <td>0</td>\n",
       "      <td>...</td>\n",
       "      <td>0</td>\n",
       "      <td>0</td>\n",
       "      <td>0</td>\n",
       "      <td>0</td>\n",
       "      <td>0</td>\n",
       "      <td>0</td>\n",
       "      <td>0.940072</td>\n",
       "      <td>0</td>\n",
       "      <td>1</td>\n",
       "      <td>0</td>\n",
       "    </tr>\n",
       "    <tr>\n",
       "      <td>3847</td>\n",
       "      <td>92.0</td>\n",
       "      <td>89.0</td>\n",
       "      <td>190.0</td>\n",
       "      <td>17000.0</td>\n",
       "      <td>17860</td>\n",
       "      <td>0.0</td>\n",
       "      <td>3.500000e+07</td>\n",
       "      <td>329.0</td>\n",
       "      <td>0</td>\n",
       "      <td>1</td>\n",
       "      <td>...</td>\n",
       "      <td>0</td>\n",
       "      <td>0</td>\n",
       "      <td>0</td>\n",
       "      <td>0</td>\n",
       "      <td>0</td>\n",
       "      <td>0</td>\n",
       "      <td>1.579766</td>\n",
       "      <td>0</td>\n",
       "      <td>0</td>\n",
       "      <td>1</td>\n",
       "    </tr>\n",
       "    <tr>\n",
       "      <td>3848</td>\n",
       "      <td>100.0</td>\n",
       "      <td>24.0</td>\n",
       "      <td>851.0</td>\n",
       "      <td>15000.0</td>\n",
       "      <td>18786</td>\n",
       "      <td>9.0</td>\n",
       "      <td>2.000000e+07</td>\n",
       "      <td>1000.0</td>\n",
       "      <td>0</td>\n",
       "      <td>1</td>\n",
       "      <td>...</td>\n",
       "      <td>0</td>\n",
       "      <td>0</td>\n",
       "      <td>0</td>\n",
       "      <td>0</td>\n",
       "      <td>0</td>\n",
       "      <td>0</td>\n",
       "      <td>2.773065</td>\n",
       "      <td>0</td>\n",
       "      <td>0</td>\n",
       "      <td>1</td>\n",
       "    </tr>\n",
       "    <tr>\n",
       "      <td>3849</td>\n",
       "      <td>92.0</td>\n",
       "      <td>89.0</td>\n",
       "      <td>355.0</td>\n",
       "      <td>729.0</td>\n",
       "      <td>2848</td>\n",
       "      <td>4.0</td>\n",
       "      <td>5.000000e+06</td>\n",
       "      <td>706.0</td>\n",
       "      <td>0</td>\n",
       "      <td>1</td>\n",
       "      <td>...</td>\n",
       "      <td>0</td>\n",
       "      <td>0</td>\n",
       "      <td>0</td>\n",
       "      <td>0</td>\n",
       "      <td>0</td>\n",
       "      <td>0</td>\n",
       "      <td>2.335036</td>\n",
       "      <td>0</td>\n",
       "      <td>0</td>\n",
       "      <td>1</td>\n",
       "    </tr>\n",
       "    <tr>\n",
       "      <td>3851</td>\n",
       "      <td>120.0</td>\n",
       "      <td>18.0</td>\n",
       "      <td>295.0</td>\n",
       "      <td>634.0</td>\n",
       "      <td>1810</td>\n",
       "      <td>11.0</td>\n",
       "      <td>5.000000e+06</td>\n",
       "      <td>420.0</td>\n",
       "      <td>0</td>\n",
       "      <td>0</td>\n",
       "      <td>...</td>\n",
       "      <td>0</td>\n",
       "      <td>0</td>\n",
       "      <td>0</td>\n",
       "      <td>0</td>\n",
       "      <td>0</td>\n",
       "      <td>0</td>\n",
       "      <td>4.154614</td>\n",
       "      <td>1</td>\n",
       "      <td>0</td>\n",
       "      <td>0</td>\n",
       "    </tr>\n",
       "  </tbody>\n",
       "</table>\n",
       "<p>3513 rows × 23 columns</p>\n",
       "</div>"
      ],
      "text/plain": [
       "      duration  director_facebook_likes  actor_3_facebook_likes  \\\n",
       "0        123.0                    446.0                   821.0   \n",
       "3        148.0                    644.0                   326.0   \n",
       "5        124.0                     42.0                   161.0   \n",
       "6        124.0                    150.0                   572.0   \n",
       "11       325.0                    517.0                   678.0   \n",
       "...        ...                      ...                     ...   \n",
       "3846     121.0                     35.0                   473.0   \n",
       "3847      92.0                     89.0                   190.0   \n",
       "3848     100.0                     24.0                   851.0   \n",
       "3849      92.0                     89.0                   355.0   \n",
       "3851     120.0                     18.0                   295.0   \n",
       "\n",
       "      actor_1_facebook_likes  cast_total_facebook_likes  facenumber_in_poster  \\\n",
       "0                    20000.0                      22209                   1.0   \n",
       "3                     1000.0                       2566                   1.0   \n",
       "5                      801.0                       1462                   0.0   \n",
       "6                      874.0                       2667                   0.0   \n",
       "11                   12000.0                      14255                   0.0   \n",
       "...                      ...                        ...                   ...   \n",
       "3846                  4000.0                       6617                   0.0   \n",
       "3847                 17000.0                      17860                   0.0   \n",
       "3848                 15000.0                      18786                   9.0   \n",
       "3849                   729.0                       2848                   4.0   \n",
       "3851                   634.0                       1810                  11.0   \n",
       "\n",
       "            budget  actor_2_facebook_likes  Biography  Comedy  ...  \\\n",
       "0     4.800000e+07                  1000.0          0       1  ...   \n",
       "3     2.700000e+07                   809.0          0       1  ...   \n",
       "5     2.000000e+07                   174.0          1       1  ...   \n",
       "6     5.166449e+07                   816.0          1       0  ...   \n",
       "11    4.400000e+07                   849.0          0       0  ...   \n",
       "...            ...                     ...        ...     ...  ...   \n",
       "3846  5.000000e+06                   849.0          0       0  ...   \n",
       "3847  3.500000e+07                   329.0          0       1  ...   \n",
       "3848  2.000000e+07                  1000.0          0       1  ...   \n",
       "3849  5.000000e+06                   706.0          0       1  ...   \n",
       "3851  5.000000e+06                   420.0          0       0  ...   \n",
       "\n",
       "      Mystery_Thriller_Horror  Sci-Fi_Fantasy  Family_Animation  \\\n",
       "0                           0               1                 0   \n",
       "3                           0               0                 0   \n",
       "5                           0               0                 0   \n",
       "6                           0               0                 0   \n",
       "11                          0               0                 0   \n",
       "...                       ...             ...               ...   \n",
       "3846                        0               0                 0   \n",
       "3847                        0               0                 0   \n",
       "3848                        0               0                 0   \n",
       "3849                        0               0                 0   \n",
       "3851                        0               0                 0   \n",
       "\n",
       "      Action_Adventure  History_War  Others  gross_budget_ratio  \\\n",
       "0                    0            0       0            0.981155   \n",
       "3                    1            0       1            2.007407   \n",
       "5                    0            0       1            0.100000   \n",
       "6                    0            0       1            1.546517   \n",
       "11                   1            0       1            0.034091   \n",
       "...                ...          ...     ...                 ...   \n",
       "3846                 0            0       0            0.940072   \n",
       "3847                 0            0       0            1.579766   \n",
       "3848                 0            0       0            2.773065   \n",
       "3849                 0            0       0            2.335036   \n",
       "3851                 0            0       0            4.154614   \n",
       "\n",
       "      content_rating_PG  content_rating_PG-13  content_rating_R  \n",
       "0                     0                     1                 0  \n",
       "3                     0                     0                 1  \n",
       "5                     1                     0                 0  \n",
       "6                     1                     0                 0  \n",
       "11                    0                     0                 1  \n",
       "...                 ...                   ...               ...  \n",
       "3846                  0                     1                 0  \n",
       "3847                  0                     0                 1  \n",
       "3848                  0                     0                 1  \n",
       "3849                  0                     0                 1  \n",
       "3851                  1                     0                 0  \n",
       "\n",
       "[3513 rows x 23 columns]"
      ]
     },
     "execution_count": 6,
     "metadata": {},
     "output_type": "execute_result"
    }
   ],
   "source": [
    "classification1_df=classification_df.drop(columns=['country','language'])\n",
    "df1 = pd.get_dummies(classification1_df, columns=['content_rating'])\n",
    "df1 = df1.drop(columns =['content_rating_Not Rated','content_rating_G','content_rating_X','content_rating_NC-17'])\n",
    "Q1 = df1['gross_budget_ratio'].quantile(0.25)\n",
    "Q3 = df1['gross_budget_ratio'].quantile(0.75)\n",
    "IQR = Q3 - Q1    #IQR is interquartile range. \n",
    "\n",
    "filtering = (df1['gross_budget_ratio'] >= Q1 - 1.5 * IQR) & (df1['gross_budget_ratio'] <= Q3 + 1.5 *IQR)\n",
    "df1=df1.loc[filtering] \n",
    "df1"
   ]
  },
  {
   "cell_type": "markdown",
   "metadata": {},
   "source": [
    "## 1.1.1) Without log and feature elimination"
   ]
  },
  {
   "cell_type": "code",
   "execution_count": 7,
   "metadata": {},
   "outputs": [
    {
     "name": "stdout",
     "output_type": "stream",
     "text": [
      "Dimensionality of X_train: (2459, 22)\n",
      "Dimensionality of X_test : (1054, 22)\n",
      "Dimensionality of y_train: (2459,)\n",
      "Dimensionality of y_test : (1054,)\n"
     ]
    }
   ],
   "source": [
    "X = df1.drop(columns=['gross_budget_ratio'])\n",
    "y = df1['gross_budget_ratio']\n",
    "X_train, X_test, y_train, y_test = train_test_split(X, y, test_size=0.3, random_state=10) \n",
    "print(f\"Dimensionality of X_train: {X_train.shape}\")\n",
    "print(f\"Dimensionality of X_test : {X_test.shape}\")\n",
    "print(f\"Dimensionality of y_train: {y_train.shape}\")\n",
    "print(f\"Dimensionality of y_test : {y_test.shape}\")"
   ]
  },
  {
   "cell_type": "markdown",
   "metadata": {},
   "source": [
    "### 1.1.1.1) Ridge Regression"
   ]
  },
  {
   "cell_type": "code",
   "execution_count": 8,
   "metadata": {},
   "outputs": [],
   "source": [
    "MMScaler = MinMaxScaler()\n",
    "X_train_scaled = MMScaler.fit_transform(X_train)\n",
    "X_test_scaled = MMScaler.transform(X_test)"
   ]
  },
  {
   "cell_type": "code",
   "execution_count": 9,
   "metadata": {},
   "outputs": [
    {
     "name": "stdout",
     "output_type": "stream",
     "text": [
      "ridge best parameters: {'alpha': 1.6}\n",
      "ridge score: -1.0111273760999235\n",
      "ridge MSE: 1.0111273760999235\n",
      "ridge best estimator coef: [ 0.45923224  0.40343523  0.4384482   0.09778562  0.60851848  0.35402655\n",
      " -1.02985428  0.2365756  -0.11043222  0.03842381 -0.11218252 -0.15577433\n",
      " -0.05707474 -0.01651096 -0.16240432  0.23585182 -0.16477063 -0.30059208\n",
      " -0.08783508  0.33398162  0.38731664  0.24242572]\n"
     ]
    }
   ],
   "source": [
    "parameters = {'alpha': np.concatenate((np.arange(0.1,2,0.1), np.arange(2, 5, 0.5), np.arange(5, 25, 1)))}\n",
    "ridge = Ridge()\n",
    "clf1 = GridSearchCV(ridge, parameters, scoring ='neg_mean_squared_error')\n",
    "clf1.fit(X_train_scaled, y_train)\n",
    "\n",
    "y_pred = clf1.predict(X_test_scaled)\n",
    "\n",
    "print(\"ridge best parameters:\", clf1.best_params_)\n",
    "print(\"ridge score:\", clf1.score(X_test_scaled, y_test))\n",
    "print(\"ridge MSE:\", mean_squared_error(y_test, clf1.predict(X_test_scaled)))\n",
    "print(\"ridge best estimator coef:\", clf1.best_estimator_.coef_)"
   ]
  },
  {
   "cell_type": "code",
   "execution_count": 10,
   "metadata": {},
   "outputs": [
    {
     "data": {
      "text/plain": [
       "<matplotlib.axes._subplots.AxesSubplot at 0x20b7fd0cd88>"
      ]
     },
     "execution_count": 10,
     "metadata": {},
     "output_type": "execute_result"
    },
    {
     "data": {
      "image/png": "[encoded data removed]",
      "text/plain": [
       "<Figure size 432x288 with 1 Axes>"
      ]
     },
     "metadata": {
      "needs_background": "light"
     },
     "output_type": "display_data"
    }
   ],
   "source": [
    "sns.regplot(y_test, y_pred )"
   ]
  },
  {
   "cell_type": "markdown",
   "metadata": {},
   "source": [
    "### 1.1.1.2) Lasso Regression"
   ]
  },
  {
   "cell_type": "code",
   "execution_count": 11,
   "metadata": {},
   "outputs": [
    {
     "name": "stdout",
     "output_type": "stream",
     "text": [
      "Lasso best parameters: {'alpha': 0.1}\n",
      "Lasso score: -1.0544373009111565\n",
      "Lasso MSE: 1.0544373009111565\n",
      "Lasso best estimator coef: [-0.  0.  0.  0.  0.  0. -0.  0. -0.  0. -0. -0.  0. -0. -0.  0. -0. -0.\n",
      " -0.  0.  0. -0.]\n"
     ]
    }
   ],
   "source": [
    "parameters = {'alpha': np.concatenate((np.arange(0.1,2,0.1), np.arange(2, 5, 0.5), np.arange(5, 25, 1)))}\n",
    "Lasso = linear_model.Lasso()\n",
    "clf2 = GridSearchCV(Lasso, parameters, scoring ='neg_mean_squared_error')\n",
    "clf2.fit(X_train_scaled, y_train)\n",
    "\n",
    "y_pred = clf2.predict(X_test_scaled)\n",
    "\n",
    "print(\"Lasso best parameters:\", clf2.best_params_)\n",
    "print(\"Lasso score:\", clf2.score(X_test_scaled, y_test))\n",
    "print(\"Lasso MSE:\", mean_squared_error(y_test, clf2.predict(X_test_scaled)))\n",
    "print(\"Lasso best estimator coef:\", clf2.best_estimator_.coef_)"
   ]
  },
  {
   "cell_type": "code",
   "execution_count": 12,
   "metadata": {},
   "outputs": [
    {
     "data": {
      "text/plain": [
       "<matplotlib.axes._subplots.AxesSubplot at 0x20b068a0248>"
      ]
     },
     "execution_count": 12,
     "metadata": {},
     "output_type": "execute_result"
    },
    {
     "data": {
      "image/png": "[encoded data removed]",
      "text/plain": [
       "<Figure size 432x288 with 1 Axes>"
      ]
     },
     "metadata": {
      "needs_background": "light"
     },
     "output_type": "display_data"
    }
   ],
   "source": [
    "sns.regplot(y_test, y_pred )"
   ]
  },
  {
   "cell_type": "markdown",
   "metadata": {},
   "source": [
    "### 1.1.1.3) Decision Tree Regressor"
   ]
  },
  {
   "cell_type": "code",
   "execution_count": 13,
   "metadata": {},
   "outputs": [
    {
     "name": "stdout",
     "output_type": "stream",
     "text": [
      "DTR best parameters: {'criterion': 'mse', 'max_depth': 100, 'min_samples_leaf': 0.25, 'min_samples_split': 0.001}\n",
      "DTR score: -1.0380659897215243\n",
      "DTR MSE: 1.0380659897215243\n"
     ]
    }
   ],
   "source": [
    "DTSplitList=[0.001,0.01,0.05,0.1,0.5,0.99]\n",
    "DTLeafList=[0.0005,0.005,0.025,0.05,0.1,0.25,0.5]\n",
    "criterion =['mse']\n",
    "parameters = {'criterion':criterion,'max_depth':list(range(100,0,-3)),'min_samples_leaf': DTLeafList, 'min_samples_split':DTSplitList}\n",
    "DTR = DecisionTreeRegressor(random_state=10)\n",
    "clf3 = GridSearchCV(DTR, parameters, scoring ='neg_mean_squared_error')\n",
    "clf3.fit(X_train, y_train)\n",
    "\n",
    "y_pred = clf3.predict(X_test)\n",
    "\n",
    "print(\"DTR best parameters:\", clf3.best_params_)\n",
    "print(\"DTR score:\", clf3.score(X_test, y_test))\n",
    "print(\"DTR MSE:\", mean_squared_error(y_test, clf3.predict(X_test)))"
   ]
  },
  {
   "cell_type": "code",
   "execution_count": 14,
   "metadata": {},
   "outputs": [
    {
     "data": {
      "text/plain": [
       "<matplotlib.axes._subplots.AxesSubplot at 0x20b06f04708>"
      ]
     },
     "execution_count": 14,
     "metadata": {},
     "output_type": "execute_result"
    },
    {
     "data": {
      "image/png": "[encoded data removed]",
      "text/plain": [
       "<Figure size 432x288 with 1 Axes>"
      ]
     },
     "metadata": {
      "needs_background": "light"
     },
     "output_type": "display_data"
    }
   ],
   "source": [
    "sns.regplot(y_test, y_pred )"
   ]
  },
  {
   "cell_type": "markdown",
   "metadata": {},
   "source": [
    "### 1.1.1.4) Random Forest Regressor"
   ]
  },
  {
   "cell_type": "code",
   "execution_count": 15,
   "metadata": {},
   "outputs": [
    {
     "name": "stdout",
     "output_type": "stream",
     "text": [
      "RFR best parameters: {'criterion': 'mse', 'max_depth': 10, 'n_estimators': 200}\n",
      "RFR score: -1.0093323446369824\n",
      "RFR MSE: 1.0093323446369824\n"
     ]
    }
   ],
   "source": [
    "RFEstimatorList = [25,50,100,200]\n",
    "criterion =['mse']\n",
    "parameters = {'criterion':criterion,'max_depth':list(range(100,0,-10)),'n_estimators':RFEstimatorList}\n",
    "\n",
    "RFR = RandomForestRegressor(random_state=10)\n",
    "clf4 = GridSearchCV(RFR, parameters, cv=5, verbose=0,scoring ='neg_mean_squared_error')\n",
    "clf4.fit(X_train, y_train)\n",
    "\n",
    "y_pred = clf4.predict(X_test)\n",
    "\n",
    "print(\"RFR best parameters:\", clf4.best_params_)\n",
    "print(\"RFR score:\", clf4.score(X_test, y_test))\n",
    "print(\"RFR MSE:\", mean_squared_error(y_test, clf4.predict(X_test)))"
   ]
  },
  {
   "cell_type": "code",
   "execution_count": 16,
   "metadata": {},
   "outputs": [
    {
     "data": {
      "text/plain": [
       "<matplotlib.axes._subplots.AxesSubplot at 0x20b068f8d48>"
      ]
     },
     "execution_count": 16,
     "metadata": {},
     "output_type": "execute_result"
    },
    {
     "data": {
      "image/png": "[encoded data removed]",
      "text/plain": [
       "<Figure size 432x288 with 1 Axes>"
      ]
     },
     "metadata": {
      "needs_background": "light"
     },
     "output_type": "display_data"
    }
   ],
   "source": [
    "sns.regplot(y_test, y_pred )"
   ]
  },
  {
   "cell_type": "markdown",
   "metadata": {},
   "source": [
    "## 1.1.2) With taking log and feature elimination"
   ]
  },
  {
   "cell_type": "markdown",
   "metadata": {},
   "source": [
    "### log"
   ]
  },
  {
   "cell_type": "code",
   "execution_count": 17,
   "metadata": {},
   "outputs": [],
   "source": [
    "df2 = df1.copy()\n",
    "df2['budget'] = np.log(df2['budget'])\n",
    "df2['director_facebook_likes'] = df2['director_facebook_likes'].transform(lambda x: 0 if x <= 3 else np.log(x))\n",
    "df2['actor_1_facebook_likes'] = df2['actor_1_facebook_likes'].transform(lambda x: 0 if x <= 3 else np.log(x))\n",
    "df2['actor_2_facebook_likes'] = df2['actor_2_facebook_likes'].transform(lambda x: 0 if x <= 3 else np.log(x))\n",
    "df2['actor_3_facebook_likes'] = df2['actor_3_facebook_likes'].transform(lambda x: 0 if x <= 3 else np.log(x))\n",
    "df2['cast_total_facebook_likes'] = df2['cast_total_facebook_likes'].transform(lambda x: 0 if x <= 3 else np.log(x))"
   ]
  },
  {
   "cell_type": "markdown",
   "metadata": {},
   "source": [
    "### elimination"
   ]
  },
  {
   "cell_type": "code",
   "execution_count": 18,
   "metadata": {},
   "outputs": [
    {
     "data": {
      "text/plain": [
       "Index(['duration', 'director_facebook_likes', 'actor_3_facebook_likes',\n",
       "       'actor_1_facebook_likes', 'cast_total_facebook_likes',\n",
       "       'facenumber_in_poster', 'budget', 'actor_2_facebook_likes', 'Biography',\n",
       "       'Comedy', 'Crime', 'Drama', 'Romance', 'Mystery_Thriller_Horror',\n",
       "       'Sci-Fi_Fantasy', 'Family_Animation', 'Action_Adventure', 'History_War',\n",
       "       'Others', 'gross_budget_ratio', 'content_rating_PG',\n",
       "       'content_rating_PG-13', 'content_rating_R'],\n",
       "      dtype='object')"
      ]
     },
     "execution_count": 18,
     "metadata": {},
     "output_type": "execute_result"
    }
   ],
   "source": [
    "df2.columns"
   ]
  },
  {
   "cell_type": "code",
   "execution_count": 19,
   "metadata": {},
   "outputs": [],
   "source": [
    "df2 = df2.drop(columns = ['facenumber_in_poster', 'Biography', 'Crime',\n",
    "       'Mystery_Thriller_Horror', 'Sci-Fi_Fantasy',\n",
    "       'History_War'])"
   ]
  },
  {
   "cell_type": "code",
   "execution_count": 20,
   "metadata": {},
   "outputs": [
    {
     "name": "stdout",
     "output_type": "stream",
     "text": [
      "Dimensionality of X_train: (2459, 16)\n",
      "Dimensionality of X_test : (1054, 16)\n",
      "Dimensionality of y_train: (2459,)\n",
      "Dimensionality of y_test : (1054,)\n"
     ]
    }
   ],
   "source": [
    "X = df2.drop(columns=['gross_budget_ratio'])\n",
    "y = df2['gross_budget_ratio']\n",
    "X_train, X_test, y_train, y_test = train_test_split(X, y, test_size=0.3, random_state=10) \n",
    "print(f\"Dimensionality of X_train: {X_train.shape}\")\n",
    "print(f\"Dimensionality of X_test : {X_test.shape}\")\n",
    "print(f\"Dimensionality of y_train: {y_train.shape}\")\n",
    "print(f\"Dimensionality of y_test : {y_test.shape}\")"
   ]
  },
  {
   "cell_type": "markdown",
   "metadata": {},
   "source": [
    "### 1.1.2.1) Ridge Regression"
   ]
  },
  {
   "cell_type": "code",
   "execution_count": 21,
   "metadata": {},
   "outputs": [],
   "source": [
    "MMScaler = MinMaxScaler()\n",
    "X_train_scaled = MMScaler.fit_transform(X_train)\n",
    "X_test_scaled = MMScaler.transform(X_test)"
   ]
  },
  {
   "cell_type": "code",
   "execution_count": 22,
   "metadata": {},
   "outputs": [
    {
     "name": "stdout",
     "output_type": "stream",
     "text": [
      "ridge best parameters: {'alpha': 0.2}\n",
      "ridge score: -0.9868985849478591\n",
      "ridge MSE: 0.9868985849478591\n",
      "ridge best estimator coef: [ 1.12904082  0.27867357  0.52728447 -1.30886326  2.6185455  -1.99090967\n",
      " -0.37676371  0.06976749 -0.18596756 -0.01717048  0.32697643 -0.10689371\n",
      " -0.05679523  0.30258088  0.40760794  0.19676938]\n"
     ]
    }
   ],
   "source": [
    "parameters = {'alpha': np.concatenate((np.arange(0.1,2,0.1), np.arange(2, 5, 0.5), np.arange(5, 25, 1)))}\n",
    "ridge = Ridge()\n",
    "clf1 = GridSearchCV(ridge, parameters, scoring ='neg_mean_squared_error')\n",
    "clf1.fit(X_train_scaled, y_train)\n",
    "\n",
    "y_pred = clf1.predict(X_test_scaled)\n",
    "\n",
    "print(\"ridge best parameters:\", clf1.best_params_)\n",
    "print(\"ridge score:\", clf1.score(X_test_scaled, y_test))\n",
    "print(\"ridge MSE:\", mean_squared_error(y_test, clf1.predict(X_test_scaled)))\n",
    "print(\"ridge best estimator coef:\", clf1.best_estimator_.coef_)"
   ]
  },
  {
   "cell_type": "code",
   "execution_count": 23,
   "metadata": {},
   "outputs": [
    {
     "data": {
      "text/plain": [
       "<matplotlib.axes._subplots.AxesSubplot at 0x20b06ceae48>"
      ]
     },
     "execution_count": 23,
     "metadata": {},
     "output_type": "execute_result"
    },
    {
     "data": {
      "image/png": "[encoded data removed]",
      "text/plain": [
       "<Figure size 432x288 with 1 Axes>"
      ]
     },
     "metadata": {
      "needs_background": "light"
     },
     "output_type": "display_data"
    }
   ],
   "source": [
    "sns.regplot(y_test, y_pred )"
   ]
  },
  {
   "cell_type": "markdown",
   "metadata": {},
   "source": [
    "### 1.1.2.2) Lasso Regression"
   ]
  },
  {
   "cell_type": "code",
   "execution_count": 24,
   "metadata": {},
   "outputs": [
    {
     "name": "stdout",
     "output_type": "stream",
     "text": [
      "Lasso best parameters: {'alpha': 0.1}\n",
      "Lasso score: -1.0544373009111565\n",
      "Lasso MSE: 1.0544373009111565\n",
      "Lasso best estimator coef: [-0.  0.  0.  0.  0. -0.  0.  0. -0.  0.  0. -0. -0.  0.  0. -0.]\n"
     ]
    }
   ],
   "source": [
    "parameters = {'alpha': np.concatenate((np.arange(0.1,2,0.1), np.arange(2, 5, 0.5), np.arange(5, 25, 1)))}\n",
    "Lasso = linear_model.Lasso()\n",
    "clf2 = GridSearchCV(Lasso, parameters, scoring ='neg_mean_squared_error')\n",
    "clf2.fit(X_train_scaled, y_train)\n",
    "\n",
    "y_pred = clf2.predict(X_test_scaled)\n",
    "\n",
    "print(\"Lasso best parameters:\", clf2.best_params_)\n",
    "print(\"Lasso score:\", clf2.score(X_test_scaled, y_test))\n",
    "print(\"Lasso MSE:\", mean_squared_error(y_test, clf2.predict(X_test_scaled)))\n",
    "print(\"Lasso best estimator coef:\", clf2.best_estimator_.coef_)"
   ]
  },
  {
   "cell_type": "code",
   "execution_count": 25,
   "metadata": {},
   "outputs": [
    {
     "data": {
      "text/plain": [
       "<matplotlib.axes._subplots.AxesSubplot at 0x20b069d2408>"
      ]
     },
     "execution_count": 25,
     "metadata": {},
     "output_type": "execute_result"
    },
    {
     "data": {
      "image/png": "[encoded data removed]",
      "text/plain": [
       "<Figure size 432x288 with 1 Axes>"
      ]
     },
     "metadata": {
      "needs_background": "light"
     },
     "output_type": "display_data"
    }
   ],
   "source": [
    "sns.regplot(y_test, y_pred )"
   ]
  },
  {
   "cell_type": "markdown",
   "metadata": {},
   "source": [
    "### 1.1.2.3) Decision Tree Regressor"
   ]
  },
  {
   "cell_type": "code",
   "execution_count": 26,
   "metadata": {},
   "outputs": [
    {
     "name": "stdout",
     "output_type": "stream",
     "text": [
      "DTR best parameters: {'criterion': 'mse', 'max_depth': 100, 'min_samples_leaf': 0.25, 'min_samples_split': 0.001}\n",
      "DTR score: -1.0380659897215243\n",
      "DTR MSE: 1.0380659897215243\n"
     ]
    }
   ],
   "source": [
    "DTSplitList=[0.001,0.01,0.05,0.1,0.5,0.99]\n",
    "DTLeafList=[0.0005,0.005,0.025,0.05,0.1,0.25,0.5]\n",
    "criterion =['mse']\n",
    "parameters = {'criterion':criterion,'max_depth':list(range(100,0,-3)),'min_samples_leaf': DTLeafList, 'min_samples_split':DTSplitList}\n",
    "DTR = DecisionTreeRegressor(random_state=10)\n",
    "clf3 = GridSearchCV(DTR, parameters, scoring ='neg_mean_squared_error')\n",
    "clf3.fit(X_train, y_train)\n",
    "\n",
    "y_pred = clf3.predict(X_test)\n",
    "\n",
    "print(\"DTR best parameters:\", clf3.best_params_)\n",
    "print(\"DTR score:\", clf3.score(X_test, y_test))\n",
    "print(\"DTR MSE:\", mean_squared_error(y_test, clf3.predict(X_test)))"
   ]
  },
  {
   "cell_type": "code",
   "execution_count": 27,
   "metadata": {},
   "outputs": [
    {
     "data": {
      "text/plain": [
       "<matplotlib.axes._subplots.AxesSubplot at 0x20b06936288>"
      ]
     },
     "execution_count": 27,
     "metadata": {},
     "output_type": "execute_result"
    },
    {
     "data": {
      "image/png": "[encoded data removed]",
      "text/plain": [
       "<Figure size 432x288 with 1 Axes>"
      ]
     },
     "metadata": {
      "needs_background": "light"
     },
     "output_type": "display_data"
    }
   ],
   "source": [
    "sns.regplot(y_test, y_pred )"
   ]
  },
  {
   "cell_type": "markdown",
   "metadata": {},
   "source": [
    "### 1.1.2.4) Random Forest Regressor"
   ]
  },
  {
   "cell_type": "code",
   "execution_count": 28,
   "metadata": {},
   "outputs": [
    {
     "name": "stdout",
     "output_type": "stream",
     "text": [
      "RFR best parameters: {'criterion': 'mse', 'max_depth': 10, 'n_estimators': 200}\n",
      "RFR score: -0.9990234169841016\n",
      "RFR MSE: 0.9990234169841016\n"
     ]
    }
   ],
   "source": [
    "RFEstimatorList = [25,50,100,200]\n",
    "criterion =['mse']\n",
    "parameters = {'criterion':criterion,'max_depth':list(range(100,0,-10)),'n_estimators':RFEstimatorList}\n",
    "\n",
    "RFR = RandomForestRegressor(random_state=10)\n",
    "clf4 = GridSearchCV(RFR, parameters, cv=5, verbose=0,scoring ='neg_mean_squared_error')\n",
    "clf4.fit(X_train, y_train)\n",
    "\n",
    "y_pred = clf4.predict(X_test)\n",
    "\n",
    "print(\"RFR best parameters:\", clf4.best_params_)\n",
    "print(\"RFR score:\", clf4.score(X_test, y_test))\n",
    "print(\"RFR MSE:\", mean_squared_error(y_test, clf4.predict(X_test)))"
   ]
  },
  {
   "cell_type": "code",
   "execution_count": 29,
   "metadata": {},
   "outputs": [
    {
     "data": {
      "text/plain": [
       "<matplotlib.axes._subplots.AxesSubplot at 0x20b06c928c8>"
      ]
     },
     "execution_count": 29,
     "metadata": {},
     "output_type": "execute_result"
    },
    {
     "data": {
      "image/png": "[encoded data removed]",
      "text/plain": [
       "<Figure size 432x288 with 1 Axes>"
      ]
     },
     "metadata": {
      "needs_background": "light"
     },
     "output_type": "display_data"
    }
   ],
   "source": [
    "sns.regplot(y_test, y_pred )"
   ]
  },
  {
   "cell_type": "markdown",
   "metadata": {},
   "source": [
    "## 1.2) Only US and UK Movies"
   ]
  },
  {
   "cell_type": "code",
   "execution_count": 30,
   "metadata": {},
   "outputs": [
    {
     "data": {
      "text/html": [
       "<div>\n",
       "<style scoped>\n",
       "    .dataframe tbody tr th:only-of-type {\n",
       "        vertical-align: middle;\n",
       "    }\n",
       "\n",
       "    .dataframe tbody tr th {\n",
       "        vertical-align: top;\n",
       "    }\n",
       "\n",
       "    .dataframe thead th {\n",
       "        text-align: right;\n",
       "    }\n",
       "</style>\n",
       "<table border=\"1\" class=\"dataframe\">\n",
       "  <thead>\n",
       "    <tr style=\"text-align: right;\">\n",
       "      <th></th>\n",
       "      <th>duration</th>\n",
       "      <th>director_facebook_likes</th>\n",
       "      <th>actor_3_facebook_likes</th>\n",
       "      <th>actor_1_facebook_likes</th>\n",
       "      <th>cast_total_facebook_likes</th>\n",
       "      <th>facenumber_in_poster</th>\n",
       "      <th>budget</th>\n",
       "      <th>actor_2_facebook_likes</th>\n",
       "      <th>Biography</th>\n",
       "      <th>Comedy</th>\n",
       "      <th>...</th>\n",
       "      <th>Mystery_Thriller_Horror</th>\n",
       "      <th>Sci-Fi_Fantasy</th>\n",
       "      <th>Family_Animation</th>\n",
       "      <th>Action_Adventure</th>\n",
       "      <th>History_War</th>\n",
       "      <th>Others</th>\n",
       "      <th>gross_budget_ratio</th>\n",
       "      <th>content_rating_PG</th>\n",
       "      <th>content_rating_PG-13</th>\n",
       "      <th>content_rating_R</th>\n",
       "    </tr>\n",
       "  </thead>\n",
       "  <tbody>\n",
       "    <tr>\n",
       "      <td>0</td>\n",
       "      <td>123.0</td>\n",
       "      <td>446.0</td>\n",
       "      <td>821.0</td>\n",
       "      <td>20000.0</td>\n",
       "      <td>22209</td>\n",
       "      <td>1.0</td>\n",
       "      <td>4.800000e+07</td>\n",
       "      <td>1000.0</td>\n",
       "      <td>0</td>\n",
       "      <td>1</td>\n",
       "      <td>...</td>\n",
       "      <td>0</td>\n",
       "      <td>1</td>\n",
       "      <td>0</td>\n",
       "      <td>0</td>\n",
       "      <td>0</td>\n",
       "      <td>0</td>\n",
       "      <td>0.981155</td>\n",
       "      <td>0</td>\n",
       "      <td>1</td>\n",
       "      <td>0</td>\n",
       "    </tr>\n",
       "    <tr>\n",
       "      <td>3</td>\n",
       "      <td>148.0</td>\n",
       "      <td>644.0</td>\n",
       "      <td>326.0</td>\n",
       "      <td>1000.0</td>\n",
       "      <td>2566</td>\n",
       "      <td>1.0</td>\n",
       "      <td>2.700000e+07</td>\n",
       "      <td>809.0</td>\n",
       "      <td>0</td>\n",
       "      <td>1</td>\n",
       "      <td>...</td>\n",
       "      <td>0</td>\n",
       "      <td>0</td>\n",
       "      <td>0</td>\n",
       "      <td>1</td>\n",
       "      <td>0</td>\n",
       "      <td>1</td>\n",
       "      <td>2.007407</td>\n",
       "      <td>0</td>\n",
       "      <td>0</td>\n",
       "      <td>1</td>\n",
       "    </tr>\n",
       "    <tr>\n",
       "      <td>5</td>\n",
       "      <td>124.0</td>\n",
       "      <td>42.0</td>\n",
       "      <td>161.0</td>\n",
       "      <td>801.0</td>\n",
       "      <td>1462</td>\n",
       "      <td>0.0</td>\n",
       "      <td>2.000000e+07</td>\n",
       "      <td>174.0</td>\n",
       "      <td>1</td>\n",
       "      <td>1</td>\n",
       "      <td>...</td>\n",
       "      <td>0</td>\n",
       "      <td>0</td>\n",
       "      <td>0</td>\n",
       "      <td>0</td>\n",
       "      <td>0</td>\n",
       "      <td>1</td>\n",
       "      <td>0.100000</td>\n",
       "      <td>1</td>\n",
       "      <td>0</td>\n",
       "      <td>0</td>\n",
       "    </tr>\n",
       "    <tr>\n",
       "      <td>6</td>\n",
       "      <td>124.0</td>\n",
       "      <td>150.0</td>\n",
       "      <td>572.0</td>\n",
       "      <td>874.0</td>\n",
       "      <td>2667</td>\n",
       "      <td>0.0</td>\n",
       "      <td>5.166449e+07</td>\n",
       "      <td>816.0</td>\n",
       "      <td>1</td>\n",
       "      <td>0</td>\n",
       "      <td>...</td>\n",
       "      <td>0</td>\n",
       "      <td>0</td>\n",
       "      <td>0</td>\n",
       "      <td>0</td>\n",
       "      <td>0</td>\n",
       "      <td>1</td>\n",
       "      <td>1.546517</td>\n",
       "      <td>1</td>\n",
       "      <td>0</td>\n",
       "      <td>0</td>\n",
       "    </tr>\n",
       "    <tr>\n",
       "      <td>11</td>\n",
       "      <td>325.0</td>\n",
       "      <td>517.0</td>\n",
       "      <td>678.0</td>\n",
       "      <td>12000.0</td>\n",
       "      <td>14255</td>\n",
       "      <td>0.0</td>\n",
       "      <td>4.400000e+07</td>\n",
       "      <td>849.0</td>\n",
       "      <td>0</td>\n",
       "      <td>0</td>\n",
       "      <td>...</td>\n",
       "      <td>0</td>\n",
       "      <td>0</td>\n",
       "      <td>0</td>\n",
       "      <td>1</td>\n",
       "      <td>0</td>\n",
       "      <td>1</td>\n",
       "      <td>0.034091</td>\n",
       "      <td>0</td>\n",
       "      <td>0</td>\n",
       "      <td>1</td>\n",
       "    </tr>\n",
       "    <tr>\n",
       "      <td>...</td>\n",
       "      <td>...</td>\n",
       "      <td>...</td>\n",
       "      <td>...</td>\n",
       "      <td>...</td>\n",
       "      <td>...</td>\n",
       "      <td>...</td>\n",
       "      <td>...</td>\n",
       "      <td>...</td>\n",
       "      <td>...</td>\n",
       "      <td>...</td>\n",
       "      <td>...</td>\n",
       "      <td>...</td>\n",
       "      <td>...</td>\n",
       "      <td>...</td>\n",
       "      <td>...</td>\n",
       "      <td>...</td>\n",
       "      <td>...</td>\n",
       "      <td>...</td>\n",
       "      <td>...</td>\n",
       "      <td>...</td>\n",
       "      <td>...</td>\n",
       "    </tr>\n",
       "    <tr>\n",
       "      <td>3846</td>\n",
       "      <td>121.0</td>\n",
       "      <td>35.0</td>\n",
       "      <td>473.0</td>\n",
       "      <td>4000.0</td>\n",
       "      <td>6617</td>\n",
       "      <td>0.0</td>\n",
       "      <td>5.000000e+06</td>\n",
       "      <td>849.0</td>\n",
       "      <td>0</td>\n",
       "      <td>0</td>\n",
       "      <td>...</td>\n",
       "      <td>0</td>\n",
       "      <td>0</td>\n",
       "      <td>0</td>\n",
       "      <td>0</td>\n",
       "      <td>0</td>\n",
       "      <td>0</td>\n",
       "      <td>0.940072</td>\n",
       "      <td>0</td>\n",
       "      <td>1</td>\n",
       "      <td>0</td>\n",
       "    </tr>\n",
       "    <tr>\n",
       "      <td>3847</td>\n",
       "      <td>92.0</td>\n",
       "      <td>89.0</td>\n",
       "      <td>190.0</td>\n",
       "      <td>17000.0</td>\n",
       "      <td>17860</td>\n",
       "      <td>0.0</td>\n",
       "      <td>3.500000e+07</td>\n",
       "      <td>329.0</td>\n",
       "      <td>0</td>\n",
       "      <td>1</td>\n",
       "      <td>...</td>\n",
       "      <td>0</td>\n",
       "      <td>0</td>\n",
       "      <td>0</td>\n",
       "      <td>0</td>\n",
       "      <td>0</td>\n",
       "      <td>0</td>\n",
       "      <td>1.579766</td>\n",
       "      <td>0</td>\n",
       "      <td>0</td>\n",
       "      <td>1</td>\n",
       "    </tr>\n",
       "    <tr>\n",
       "      <td>3848</td>\n",
       "      <td>100.0</td>\n",
       "      <td>24.0</td>\n",
       "      <td>851.0</td>\n",
       "      <td>15000.0</td>\n",
       "      <td>18786</td>\n",
       "      <td>9.0</td>\n",
       "      <td>2.000000e+07</td>\n",
       "      <td>1000.0</td>\n",
       "      <td>0</td>\n",
       "      <td>1</td>\n",
       "      <td>...</td>\n",
       "      <td>0</td>\n",
       "      <td>0</td>\n",
       "      <td>0</td>\n",
       "      <td>0</td>\n",
       "      <td>0</td>\n",
       "      <td>0</td>\n",
       "      <td>2.773065</td>\n",
       "      <td>0</td>\n",
       "      <td>0</td>\n",
       "      <td>1</td>\n",
       "    </tr>\n",
       "    <tr>\n",
       "      <td>3849</td>\n",
       "      <td>92.0</td>\n",
       "      <td>89.0</td>\n",
       "      <td>355.0</td>\n",
       "      <td>729.0</td>\n",
       "      <td>2848</td>\n",
       "      <td>4.0</td>\n",
       "      <td>5.000000e+06</td>\n",
       "      <td>706.0</td>\n",
       "      <td>0</td>\n",
       "      <td>1</td>\n",
       "      <td>...</td>\n",
       "      <td>0</td>\n",
       "      <td>0</td>\n",
       "      <td>0</td>\n",
       "      <td>0</td>\n",
       "      <td>0</td>\n",
       "      <td>0</td>\n",
       "      <td>2.335036</td>\n",
       "      <td>0</td>\n",
       "      <td>0</td>\n",
       "      <td>1</td>\n",
       "    </tr>\n",
       "    <tr>\n",
       "      <td>3851</td>\n",
       "      <td>120.0</td>\n",
       "      <td>18.0</td>\n",
       "      <td>295.0</td>\n",
       "      <td>634.0</td>\n",
       "      <td>1810</td>\n",
       "      <td>11.0</td>\n",
       "      <td>5.000000e+06</td>\n",
       "      <td>420.0</td>\n",
       "      <td>0</td>\n",
       "      <td>0</td>\n",
       "      <td>...</td>\n",
       "      <td>0</td>\n",
       "      <td>0</td>\n",
       "      <td>0</td>\n",
       "      <td>0</td>\n",
       "      <td>0</td>\n",
       "      <td>0</td>\n",
       "      <td>4.154614</td>\n",
       "      <td>1</td>\n",
       "      <td>0</td>\n",
       "      <td>0</td>\n",
       "    </tr>\n",
       "  </tbody>\n",
       "</table>\n",
       "<p>3032 rows × 23 columns</p>\n",
       "</div>"
      ],
      "text/plain": [
       "      duration  director_facebook_likes  actor_3_facebook_likes  \\\n",
       "0        123.0                    446.0                   821.0   \n",
       "3        148.0                    644.0                   326.0   \n",
       "5        124.0                     42.0                   161.0   \n",
       "6        124.0                    150.0                   572.0   \n",
       "11       325.0                    517.0                   678.0   \n",
       "...        ...                      ...                     ...   \n",
       "3846     121.0                     35.0                   473.0   \n",
       "3847      92.0                     89.0                   190.0   \n",
       "3848     100.0                     24.0                   851.0   \n",
       "3849      92.0                     89.0                   355.0   \n",
       "3851     120.0                     18.0                   295.0   \n",
       "\n",
       "      actor_1_facebook_likes  cast_total_facebook_likes  facenumber_in_poster  \\\n",
       "0                    20000.0                      22209                   1.0   \n",
       "3                     1000.0                       2566                   1.0   \n",
       "5                      801.0                       1462                   0.0   \n",
       "6                      874.0                       2667                   0.0   \n",
       "11                   12000.0                      14255                   0.0   \n",
       "...                      ...                        ...                   ...   \n",
       "3846                  4000.0                       6617                   0.0   \n",
       "3847                 17000.0                      17860                   0.0   \n",
       "3848                 15000.0                      18786                   9.0   \n",
       "3849                   729.0                       2848                   4.0   \n",
       "3851                   634.0                       1810                  11.0   \n",
       "\n",
       "            budget  actor_2_facebook_likes  Biography  Comedy  ...  \\\n",
       "0     4.800000e+07                  1000.0          0       1  ...   \n",
       "3     2.700000e+07                   809.0          0       1  ...   \n",
       "5     2.000000e+07                   174.0          1       1  ...   \n",
       "6     5.166449e+07                   816.0          1       0  ...   \n",
       "11    4.400000e+07                   849.0          0       0  ...   \n",
       "...            ...                     ...        ...     ...  ...   \n",
       "3846  5.000000e+06                   849.0          0       0  ...   \n",
       "3847  3.500000e+07                   329.0          0       1  ...   \n",
       "3848  2.000000e+07                  1000.0          0       1  ...   \n",
       "3849  5.000000e+06                   706.0          0       1  ...   \n",
       "3851  5.000000e+06                   420.0          0       0  ...   \n",
       "\n",
       "      Mystery_Thriller_Horror  Sci-Fi_Fantasy  Family_Animation  \\\n",
       "0                           0               1                 0   \n",
       "3                           0               0                 0   \n",
       "5                           0               0                 0   \n",
       "6                           0               0                 0   \n",
       "11                          0               0                 0   \n",
       "...                       ...             ...               ...   \n",
       "3846                        0               0                 0   \n",
       "3847                        0               0                 0   \n",
       "3848                        0               0                 0   \n",
       "3849                        0               0                 0   \n",
       "3851                        0               0                 0   \n",
       "\n",
       "      Action_Adventure  History_War  Others  gross_budget_ratio  \\\n",
       "0                    0            0       0            0.981155   \n",
       "3                    1            0       1            2.007407   \n",
       "5                    0            0       1            0.100000   \n",
       "6                    0            0       1            1.546517   \n",
       "11                   1            0       1            0.034091   \n",
       "...                ...          ...     ...                 ...   \n",
       "3846                 0            0       0            0.940072   \n",
       "3847                 0            0       0            1.579766   \n",
       "3848                 0            0       0            2.773065   \n",
       "3849                 0            0       0            2.335036   \n",
       "3851                 0            0       0            4.154614   \n",
       "\n",
       "      content_rating_PG  content_rating_PG-13  content_rating_R  \n",
       "0                     0                     1                 0  \n",
       "3                     0                     0                 1  \n",
       "5                     1                     0                 0  \n",
       "6                     1                     0                 0  \n",
       "11                    0                     0                 1  \n",
       "...                 ...                   ...               ...  \n",
       "3846                  0                     1                 0  \n",
       "3847                  0                     0                 1  \n",
       "3848                  0                     0                 1  \n",
       "3849                  0                     0                 1  \n",
       "3851                  1                     0                 0  \n",
       "\n",
       "[3032 rows x 23 columns]"
      ]
     },
     "execution_count": 30,
     "metadata": {},
     "output_type": "execute_result"
    }
   ],
   "source": [
    "classification2_df= classification_df.copy()\n",
    "classification2_df = classification2_df[(classification2_df.country=='USA') | (classification2_df.country=='UK')]\n",
    "classification2_df = classification2_df[(classification2_df.language=='English')]\n",
    "classification2_df=classification2_df.drop(columns=['country','language'])\n",
    "df3 = pd.get_dummies(classification2_df, columns=['content_rating'])\n",
    "df3 = df3.drop(columns =['content_rating_Not Rated','content_rating_G','content_rating_X','content_rating_NC-17'])\n",
    "Q1 = df3['gross_budget_ratio'].quantile(0.25)\n",
    "Q3 = df3['gross_budget_ratio'].quantile(0.75)\n",
    "IQR = Q3 - Q1    #IQR is interquartile range. \n",
    "\n",
    "filtering = (df3['gross_budget_ratio'] >= Q1 - 1.5 * IQR) & (df3['gross_budget_ratio'] <= Q3 + 1.5 *IQR)\n",
    "df3=df3.loc[filtering]\n",
    "df3"
   ]
  },
  {
   "cell_type": "markdown",
   "metadata": {},
   "source": [
    "## 1.2.1) Without log and feature elimination"
   ]
  },
  {
   "cell_type": "code",
   "execution_count": 31,
   "metadata": {},
   "outputs": [
    {
     "name": "stdout",
     "output_type": "stream",
     "text": [
      "Dimensionality of X_train: (2122, 22)\n",
      "Dimensionality of X_test : (910, 22)\n",
      "Dimensionality of y_train: (2122,)\n",
      "Dimensionality of y_test : (910,)\n"
     ]
    }
   ],
   "source": [
    "X = df3.drop(columns=['gross_budget_ratio'])\n",
    "y = df3['gross_budget_ratio']\n",
    "X_train, X_test, y_train, y_test = train_test_split(X, y, test_size=0.3, random_state=10) \n",
    "print(f\"Dimensionality of X_train: {X_train.shape}\")\n",
    "print(f\"Dimensionality of X_test : {X_test.shape}\")\n",
    "print(f\"Dimensionality of y_train: {y_train.shape}\")\n",
    "print(f\"Dimensionality of y_test : {y_test.shape}\")"
   ]
  },
  {
   "cell_type": "markdown",
   "metadata": {},
   "source": [
    "### 1.2.1.1) Ridge Regression"
   ]
  },
  {
   "cell_type": "code",
   "execution_count": 32,
   "metadata": {},
   "outputs": [],
   "source": [
    "MMScaler = MinMaxScaler()\n",
    "X_train_scaled = MMScaler.fit_transform(X_train)\n",
    "X_test_scaled = MMScaler.transform(X_test)"
   ]
  },
  {
   "cell_type": "code",
   "execution_count": 33,
   "metadata": {},
   "outputs": [
    {
     "name": "stdout",
     "output_type": "stream",
     "text": [
      "ridge best parameters: {'alpha': 0.1}\n",
      "ridge score: -1.103827964019871\n",
      "ridge MSE: 1.103827964019871\n",
      "ridge best estimator coef: [ 2.25571646  0.14682187  0.09306448 -2.9945183   3.5663605  -0.00782081\n",
      " -1.14621598 -0.15947853 -0.13350177  0.13519573 -0.05722077 -0.18096748\n",
      " -0.05381968  0.01797727 -0.0611111   0.41005682 -0.04969448 -0.05475758\n",
      " -0.11607151  0.10855652  0.23129947  0.05262241]\n"
     ]
    }
   ],
   "source": [
    "parameters = {'alpha': np.concatenate((np.arange(0.1,2,0.1), np.arange(2, 5, 0.5), np.arange(5, 25, 1)))}\n",
    "ridge = Ridge()\n",
    "clf1 = GridSearchCV(ridge, parameters, scoring ='neg_mean_squared_error')\n",
    "clf1.fit(X_train_scaled, y_train)\n",
    "\n",
    "y_pred = clf1.predict(X_test_scaled)\n",
    "\n",
    "print(\"ridge best parameters:\", clf1.best_params_)\n",
    "print(\"ridge score:\", clf1.score(X_test_scaled, y_test))\n",
    "print(\"ridge MSE:\", mean_squared_error(y_test, clf1.predict(X_test_scaled)))\n",
    "print(\"ridge best estimator coef:\", clf1.best_estimator_.coef_)"
   ]
  },
  {
   "cell_type": "code",
   "execution_count": 34,
   "metadata": {},
   "outputs": [
    {
     "data": {
      "text/plain": [
       "<matplotlib.axes._subplots.AxesSubplot at 0x20b09f07908>"
      ]
     },
     "execution_count": 34,
     "metadata": {},
     "output_type": "execute_result"
    },
    {
     "data": {
      "image/png": "[encoded data removed]",
      "text/plain": [
       "<Figure size 432x288 with 1 Axes>"
      ]
     },
     "metadata": {
      "needs_background": "light"
     },
     "output_type": "display_data"
    }
   ],
   "source": [
    "sns.regplot(y_test, y_pred )"
   ]
  },
  {
   "cell_type": "markdown",
   "metadata": {},
   "source": [
    "### 1.2.1.2) Lasso Regression"
   ]
  },
  {
   "cell_type": "code",
   "execution_count": 35,
   "metadata": {},
   "outputs": [
    {
     "name": "stdout",
     "output_type": "stream",
     "text": [
      "Lasso best parameters: {'alpha': 0.1}\n",
      "Lasso score: -1.1678930038823336\n",
      "Lasso MSE: 1.1678930038823336\n",
      "Lasso best estimator coef: [ 0.  0.  0.  0.  0.  0. -0.  0. -0.  0. -0. -0.  0. -0. -0.  0. -0. -0.\n",
      " -0.  0.  0. -0.]\n"
     ]
    }
   ],
   "source": [
    "parameters = {'alpha': np.concatenate((np.arange(0.1,2,0.1), np.arange(2, 5, 0.5), np.arange(5, 25, 1)))}\n",
    "Lasso = linear_model.Lasso()\n",
    "clf2 = GridSearchCV(Lasso, parameters, scoring ='neg_mean_squared_error')\n",
    "clf2.fit(X_train_scaled, y_train)\n",
    "\n",
    "y_pred = clf2.predict(X_test_scaled)\n",
    "\n",
    "print(\"Lasso best parameters:\", clf2.best_params_)\n",
    "print(\"Lasso score:\", clf2.score(X_test_scaled, y_test))\n",
    "print(\"Lasso MSE:\", mean_squared_error(y_test, clf2.predict(X_test_scaled)))\n",
    "print(\"Lasso best estimator coef:\", clf2.best_estimator_.coef_)"
   ]
  },
  {
   "cell_type": "code",
   "execution_count": 36,
   "metadata": {},
   "outputs": [
    {
     "data": {
      "text/plain": [
       "<matplotlib.axes._subplots.AxesSubplot at 0x20b0a004588>"
      ]
     },
     "execution_count": 36,
     "metadata": {},
     "output_type": "execute_result"
    },
    {
     "data": {
      "image/png": "[encoded data removed]",
      "text/plain": [
       "<Figure size 432x288 with 1 Axes>"
      ]
     },
     "metadata": {
      "needs_background": "light"
     },
     "output_type": "display_data"
    }
   ],
   "source": [
    "sns.regplot(y_test, y_pred )"
   ]
  },
  {
   "cell_type": "markdown",
   "metadata": {},
   "source": [
    "### 1.2.1.3) Decision Tree Regressor"
   ]
  },
  {
   "cell_type": "code",
   "execution_count": 37,
   "metadata": {},
   "outputs": [
    {
     "name": "stdout",
     "output_type": "stream",
     "text": [
      "DTR best parameters: {'criterion': 'mse', 'max_depth': 100, 'min_samples_leaf': 0.0005, 'min_samples_split': 0.5}\n",
      "DTR score: -1.1558325328918793\n",
      "DTR MSE: 1.1558325328918793\n"
     ]
    }
   ],
   "source": [
    "DTSplitList=[0.001,0.01,0.05,0.1,0.5,0.99]\n",
    "DTLeafList=[0.0005,0.005,0.025,0.05,0.1,0.25,0.5]\n",
    "criterion =['mse']\n",
    "parameters = {'criterion':criterion,'max_depth':list(range(100,0,-3)),'min_samples_leaf': DTLeafList, 'min_samples_split':DTSplitList}\n",
    "DTR = DecisionTreeRegressor(random_state=10)\n",
    "clf3 = GridSearchCV(DTR, parameters, scoring ='neg_mean_squared_error')\n",
    "clf3.fit(X_train, y_train)\n",
    "\n",
    "y_pred = clf3.predict(X_test)\n",
    "\n",
    "print(\"DTR best parameters:\", clf3.best_params_)\n",
    "print(\"DTR score:\", clf3.score(X_test, y_test))\n",
    "print(\"DTR MSE:\", mean_squared_error(y_test, clf3.predict(X_test)))"
   ]
  },
  {
   "cell_type": "code",
   "execution_count": 38,
   "metadata": {},
   "outputs": [
    {
     "data": {
      "text/plain": [
       "<matplotlib.axes._subplots.AxesSubplot at 0x20b0a12ee48>"
      ]
     },
     "execution_count": 38,
     "metadata": {},
     "output_type": "execute_result"
    },
    {
     "data": {
      "image/png": "[encoded data removed]",
      "text/plain": [
       "<Figure size 432x288 with 1 Axes>"
      ]
     },
     "metadata": {
      "needs_background": "light"
     },
     "output_type": "display_data"
    }
   ],
   "source": [
    "sns.regplot(y_test, y_pred )"
   ]
  },
  {
   "cell_type": "markdown",
   "metadata": {},
   "source": [
    "### 1.2.1.4) Random Forest Regressor"
   ]
  },
  {
   "cell_type": "code",
   "execution_count": 39,
   "metadata": {},
   "outputs": [
    {
     "name": "stdout",
     "output_type": "stream",
     "text": [
      "RFR best parameters: {'criterion': 'mse', 'max_depth': 10, 'n_estimators': 200}\n",
      "RFR score: -1.0807668852046706\n",
      "RFR MSE: 1.0807668852046706\n"
     ]
    }
   ],
   "source": [
    "RFEstimatorList = [25,50,100,200]\n",
    "criterion =['mse']\n",
    "parameters = {'criterion':criterion,'max_depth':list(range(100,0,-10)),'n_estimators':RFEstimatorList}\n",
    "\n",
    "RFR = RandomForestRegressor(random_state=10)\n",
    "clf4 = GridSearchCV(RFR, parameters, cv=5, verbose=0,scoring ='neg_mean_squared_error')\n",
    "clf4.fit(X_train, y_train)\n",
    "\n",
    "y_pred = clf4.predict(X_test)\n",
    "\n",
    "print(\"RFR best parameters:\", clf4.best_params_)\n",
    "print(\"RFR score:\", clf4.score(X_test, y_test))\n",
    "print(\"RFR MSE:\", mean_squared_error(y_test, clf4.predict(X_test)))"
   ]
  },
  {
   "cell_type": "code",
   "execution_count": 40,
   "metadata": {},
   "outputs": [
    {
     "data": {
      "text/plain": [
       "<matplotlib.axes._subplots.AxesSubplot at 0x20b0694f908>"
      ]
     },
     "execution_count": 40,
     "metadata": {},
     "output_type": "execute_result"
    },
    {
     "data": {
      "image/png": "[encoded data removed]",
      "text/plain": [
       "<Figure size 432x288 with 1 Axes>"
      ]
     },
     "metadata": {
      "needs_background": "light"
     },
     "output_type": "display_data"
    }
   ],
   "source": [
    "sns.regplot(y_test, y_pred )"
   ]
  },
  {
   "cell_type": "markdown",
   "metadata": {},
   "source": [
    "## 1.2.2) With taking log and feature elimination"
   ]
  },
  {
   "cell_type": "markdown",
   "metadata": {},
   "source": [
    "### log"
   ]
  },
  {
   "cell_type": "code",
   "execution_count": 41,
   "metadata": {},
   "outputs": [],
   "source": [
    "df4 = df3.copy()\n",
    "df4['budget'] = np.log(df4['budget'])\n",
    "df4['director_facebook_likes'] = df4['director_facebook_likes'].transform(lambda x: 0 if x <= 3 else np.log(x))\n",
    "df4['actor_1_facebook_likes'] = df4['actor_1_facebook_likes'].transform(lambda x: 0 if x <= 3 else np.log(x))\n",
    "df4['actor_2_facebook_likes'] = df4['actor_2_facebook_likes'].transform(lambda x: 0 if x <= 3 else np.log(x))\n",
    "df4['actor_3_facebook_likes'] = df4['actor_3_facebook_likes'].transform(lambda x: 0 if x <= 3 else np.log(x))\n",
    "df4['cast_total_facebook_likes'] = df4['cast_total_facebook_likes'].transform(lambda x: 0 if x <= 3 else np.log(x))"
   ]
  },
  {
   "cell_type": "markdown",
   "metadata": {},
   "source": [
    "### elimination"
   ]
  },
  {
   "cell_type": "code",
   "execution_count": 42,
   "metadata": {},
   "outputs": [
    {
     "data": {
      "text/plain": [
       "Index(['duration', 'director_facebook_likes', 'actor_3_facebook_likes',\n",
       "       'actor_1_facebook_likes', 'cast_total_facebook_likes',\n",
       "       'facenumber_in_poster', 'budget', 'actor_2_facebook_likes', 'Biography',\n",
       "       'Comedy', 'Crime', 'Drama', 'Romance', 'Mystery_Thriller_Horror',\n",
       "       'Sci-Fi_Fantasy', 'Family_Animation', 'Action_Adventure', 'History_War',\n",
       "       'Others', 'gross_budget_ratio', 'content_rating_PG',\n",
       "       'content_rating_PG-13', 'content_rating_R'],\n",
       "      dtype='object')"
      ]
     },
     "execution_count": 42,
     "metadata": {},
     "output_type": "execute_result"
    }
   ],
   "source": [
    "df4.columns"
   ]
  },
  {
   "cell_type": "code",
   "execution_count": 43,
   "metadata": {},
   "outputs": [],
   "source": [
    "df4 = df4.drop(columns = ['facenumber_in_poster', 'Biography', 'Crime',\n",
    "       'Mystery_Thriller_Horror', 'Sci-Fi_Fantasy',\n",
    "       'History_War'])"
   ]
  },
  {
   "cell_type": "code",
   "execution_count": 44,
   "metadata": {},
   "outputs": [
    {
     "name": "stdout",
     "output_type": "stream",
     "text": [
      "Dimensionality of X_train: (2122, 16)\n",
      "Dimensionality of X_test : (910, 16)\n",
      "Dimensionality of y_train: (2122,)\n",
      "Dimensionality of y_test : (910,)\n"
     ]
    }
   ],
   "source": [
    "X = df4.drop(columns=['gross_budget_ratio'])\n",
    "y = df4['gross_budget_ratio']\n",
    "X_train, X_test, y_train, y_test = train_test_split(X, y, test_size=0.3, random_state=10) \n",
    "print(f\"Dimensionality of X_train: {X_train.shape}\")\n",
    "print(f\"Dimensionality of X_test : {X_test.shape}\")\n",
    "print(f\"Dimensionality of y_train: {y_train.shape}\")\n",
    "print(f\"Dimensionality of y_test : {y_test.shape}\")"
   ]
  },
  {
   "cell_type": "markdown",
   "metadata": {},
   "source": [
    "### 1.2.2.1) Ridge Regression"
   ]
  },
  {
   "cell_type": "code",
   "execution_count": 45,
   "metadata": {},
   "outputs": [],
   "source": [
    "MMScaler = MinMaxScaler()\n",
    "X_train_scaled = MMScaler.fit_transform(X_train)\n",
    "X_test_scaled = MMScaler.transform(X_test)"
   ]
  },
  {
   "cell_type": "code",
   "execution_count": 46,
   "metadata": {},
   "outputs": [
    {
     "name": "stdout",
     "output_type": "stream",
     "text": [
      "ridge best parameters: {'alpha': 0.1}\n",
      "ridge score: -1.1234039831439706\n",
      "ridge MSE: 1.1234039831439706\n",
      "ridge best estimator coef: [ 1.89154051  0.19569701  0.13504697 -1.79179404  2.90597066 -1.28679263\n",
      " -0.12925504  0.13748385 -0.16153967 -0.02128791  0.35453183 -0.09694981\n",
      " -0.09135384  0.13915629  0.23259149  0.0811068 ]\n"
     ]
    }
   ],
   "source": [
    "parameters = {'alpha': np.concatenate((np.arange(0.1,2,0.1), np.arange(2, 5, 0.5), np.arange(5, 25, 1)))}\n",
    "ridge = Ridge()\n",
    "clf1 = GridSearchCV(ridge, parameters, scoring ='neg_mean_squared_error')\n",
    "clf1.fit(X_train_scaled, y_train)\n",
    "\n",
    "y_pred = clf1.predict(X_test_scaled)\n",
    "\n",
    "print(\"ridge best parameters:\", clf1.best_params_)\n",
    "print(\"ridge score:\", clf1.score(X_test_scaled, y_test))\n",
    "print(\"ridge MSE:\", mean_squared_error(y_test, clf1.predict(X_test_scaled)))\n",
    "print(\"ridge best estimator coef:\", clf1.best_estimator_.coef_)"
   ]
  },
  {
   "cell_type": "code",
   "execution_count": 47,
   "metadata": {},
   "outputs": [
    {
     "data": {
      "text/plain": [
       "<matplotlib.axes._subplots.AxesSubplot at 0x20b09f49e48>"
      ]
     },
     "execution_count": 47,
     "metadata": {},
     "output_type": "execute_result"
    },
    {
     "data": {
      "image/png": "[encoded data removed]",
      "text/plain": [
       "<Figure size 432x288 with 1 Axes>"
      ]
     },
     "metadata": {
      "needs_background": "light"
     },
     "output_type": "display_data"
    }
   ],
   "source": [
    "sns.regplot(y_test, y_pred )"
   ]
  },
  {
   "cell_type": "markdown",
   "metadata": {},
   "source": [
    "### 1.2.2.2) Lasso Regression"
   ]
  },
  {
   "cell_type": "code",
   "execution_count": 48,
   "metadata": {},
   "outputs": [
    {
     "name": "stdout",
     "output_type": "stream",
     "text": [
      "Lasso best parameters: {'alpha': 0.1}\n",
      "Lasso score: -1.1678930038823336\n",
      "Lasso MSE: 1.1678930038823336\n",
      "Lasso best estimator coef: [ 0.  0.  0.  0.  0. -0.  0.  0. -0.  0.  0. -0. -0.  0.  0. -0.]\n"
     ]
    }
   ],
   "source": [
    "parameters = {'alpha': np.concatenate((np.arange(0.1,2,0.1), np.arange(2, 5, 0.5), np.arange(5, 25, 1)))}\n",
    "Lasso = linear_model.Lasso()\n",
    "clf2 = GridSearchCV(Lasso, parameters, scoring ='neg_mean_squared_error')\n",
    "clf2.fit(X_train_scaled, y_train)\n",
    "\n",
    "y_pred = clf2.predict(X_test_scaled)\n",
    "\n",
    "print(\"Lasso best parameters:\", clf2.best_params_)\n",
    "print(\"Lasso score:\", clf2.score(X_test_scaled, y_test))\n",
    "print(\"Lasso MSE:\", mean_squared_error(y_test, clf2.predict(X_test_scaled)))\n",
    "print(\"Lasso best estimator coef:\", clf2.best_estimator_.coef_)"
   ]
  },
  {
   "cell_type": "code",
   "execution_count": 49,
   "metadata": {},
   "outputs": [
    {
     "data": {
      "text/plain": [
       "<matplotlib.axes._subplots.AxesSubplot at 0x20b0a0e8908>"
      ]
     },
     "execution_count": 49,
     "metadata": {},
     "output_type": "execute_result"
    },
    {
     "data": {
      "image/png": "[encoded data removed]",
      "text/plain": [
       "<Figure size 432x288 with 1 Axes>"
      ]
     },
     "metadata": {
      "needs_background": "light"
     },
     "output_type": "display_data"
    }
   ],
   "source": [
    "sns.regplot(y_test, y_pred )"
   ]
  },
  {
   "cell_type": "markdown",
   "metadata": {},
   "source": [
    "### 1.2.2.3) Decision Tree Regressor"
   ]
  },
  {
   "cell_type": "code",
   "execution_count": 50,
   "metadata": {},
   "outputs": [
    {
     "name": "stdout",
     "output_type": "stream",
     "text": [
      "DTR best parameters: {'criterion': 'mse', 'max_depth': 100, 'min_samples_leaf': 0.0005, 'min_samples_split': 0.5}\n",
      "DTR score: -1.155832532891879\n",
      "DTR MSE: 1.155832532891879\n"
     ]
    }
   ],
   "source": [
    "DTSplitList=[0.001,0.01,0.05,0.1,0.5,0.99]\n",
    "DTLeafList=[0.0005,0.005,0.025,0.05,0.1,0.25,0.5]\n",
    "criterion =['mse']\n",
    "parameters = {'criterion':criterion,'max_depth':list(range(100,0,-3)),'min_samples_leaf': DTLeafList, 'min_samples_split':DTSplitList}\n",
    "DTR = DecisionTreeRegressor(random_state=10)\n",
    "clf3 = GridSearchCV(DTR, parameters, scoring ='neg_mean_squared_error')\n",
    "clf3.fit(X_train, y_train)\n",
    "\n",
    "y_pred = clf3.predict(X_test)\n",
    "\n",
    "print(\"DTR best parameters:\", clf3.best_params_)\n",
    "print(\"DTR score:\", clf3.score(X_test, y_test))\n",
    "print(\"DTR MSE:\", mean_squared_error(y_test, clf3.predict(X_test)))"
   ]
  },
  {
   "cell_type": "code",
   "execution_count": 51,
   "metadata": {},
   "outputs": [
    {
     "data": {
      "text/plain": [
       "<matplotlib.axes._subplots.AxesSubplot at 0x20b0a2ee308>"
      ]
     },
     "execution_count": 51,
     "metadata": {},
     "output_type": "execute_result"
    },
    {
     "data": {
      "image/png": "[encoded data removed]",
      "text/plain": [
       "<Figure size 432x288 with 1 Axes>"
      ]
     },
     "metadata": {
      "needs_background": "light"
     },
     "output_type": "display_data"
    }
   ],
   "source": [
    "sns.regplot(y_test, y_pred )"
   ]
  },
  {
   "cell_type": "markdown",
   "metadata": {},
   "source": [
    "### 1.2.2.4) Random Forest Regressor"
   ]
  },
  {
   "cell_type": "code",
   "execution_count": 52,
   "metadata": {},
   "outputs": [
    {
     "name": "stdout",
     "output_type": "stream",
     "text": [
      "RFR best parameters: {'criterion': 'mse', 'max_depth': 10, 'n_estimators': 200}\n",
      "RFR score: -1.0881421050279232\n",
      "RFR MSE: 1.0881421050279232\n"
     ]
    }
   ],
   "source": [
    "RFEstimatorList = [25,50,100,200]\n",
    "criterion =['mse']\n",
    "parameters = {'criterion':criterion,'max_depth':list(range(100,0,-10)),'n_estimators':RFEstimatorList}\n",
    "\n",
    "RFR = RandomForestRegressor(random_state=10)\n",
    "clf4 = GridSearchCV(RFR, parameters, cv=5, verbose=0,scoring ='neg_mean_squared_error')\n",
    "clf4.fit(X_train, y_train)\n",
    "\n",
    "y_pred = clf4.predict(X_test)\n",
    "\n",
    "print(\"RFR best parameters:\", clf4.best_params_)\n",
    "print(\"RFR score:\", clf4.score(X_test, y_test))\n",
    "print(\"RFR MSE:\", mean_squared_error(y_test, clf4.predict(X_test)))"
   ]
  },
  {
   "cell_type": "code",
   "execution_count": 53,
   "metadata": {},
   "outputs": [
    {
     "data": {
      "text/plain": [
       "<matplotlib.axes._subplots.AxesSubplot at 0x20b06ad6788>"
      ]
     },
     "execution_count": 53,
     "metadata": {},
     "output_type": "execute_result"
    },
    {
     "data": {
      "image/png": "[encoded data removed]",
      "text/plain": [
       "<Figure size 432x288 with 1 Axes>"
      ]
     },
     "metadata": {
      "needs_background": "light"
     },
     "output_type": "display_data"
    }
   ],
   "source": [
    "sns.regplot(y_test, y_pred )"
   ]
  }
 ],
 "metadata": {
  "kernelspec": {
   "display_name": "Python 3",
   "language": "python",
   "name": "python3"
  },
  "language_info": {
   "codemirror_mode": {
    "name": "ipython",
    "version": 3
   },
   "file_extension": ".py",
   "mimetype": "text/x-python",
   "name": "python",
   "nbconvert_exporter": "python",
   "pygments_lexer": "ipython3",
   "version": "3.7.4"
  }
 },
 "nbformat": 4,
 "nbformat_minor": 4
}
