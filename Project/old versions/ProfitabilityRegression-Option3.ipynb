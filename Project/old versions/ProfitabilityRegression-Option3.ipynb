{
 "cells": [
  {
   "cell_type": "code",
   "execution_count": 1,
   "metadata": {},
   "outputs": [],
   "source": [
    "from collections import Counter\n",
    "\n",
    "import numpy as np\n",
    "import pandas as pd\n",
    "import matplotlib.pyplot as plt\n",
    "import seaborn as sns\n",
    "import warnings\n",
    "from sklearn import metrics\n",
    "warnings.filterwarnings('ignore')\n",
    "\n",
    "from sklearn.metrics import fbeta_score, make_scorer\n",
    "from sklearn.utils import shuffle\n",
    "from imblearn.over_sampling import SMOTE\n",
    "from sklearn.utils import resample\n",
    "from sklearn import metrics\n",
    "from sklearn.linear_model import Ridge\n",
    "from sklearn.linear_model import Lasso\n",
    "from sklearn import linear_model\n",
    "from sklearn.metrics import mean_squared_error\n",
    "from sklearn.tree import DecisionTreeRegressor\n",
    "from sklearn.ensemble import RandomForestRegressor\n",
    "from sklearn.metrics import accuracy_score, recall_score, precision_score, roc_auc_score \n",
    "from sklearn.metrics import confusion_matrix\n",
    "from sklearn.preprocessing import StandardScaler, MinMaxScaler\n",
    "from sklearn.model_selection import train_test_split\n",
    "from sklearn.model_selection import cross_validate\n",
    "from sklearn.model_selection import GridSearchCV"
   ]
  },
  {
   "cell_type": "code",
   "execution_count": 2,
   "metadata": {},
   "outputs": [],
   "source": [
    "movie_df = pd.read_csv(r'data/data_regression.csv')"
   ]
  },
  {
   "cell_type": "code",
   "execution_count": 3,
   "metadata": {},
   "outputs": [
    {
     "data": {
      "text/plain": [
       "Index(['imdb_id', 'director_name', 'num_critic_for_reviews', 'duration',\n",
       "       'director_facebook_likes', 'actor_3_facebook_likes', 'actor_2_name',\n",
       "       'actor_1_facebook_likes', 'gross', 'genres', 'actor_1_name',\n",
       "       'movie_title', 'num_voted_users', 'cast_total_facebook_likes',\n",
       "       'actor_3_name', 'facenumber_in_poster', 'plot_keywords',\n",
       "       'num_user_for_reviews', 'language', 'country', 'content_rating',\n",
       "       'budget', 'title_year', 'actor_2_facebook_likes', 'imdb_score',\n",
       "       'movie_facebook_likes', 'Biography', 'Comedy', 'Crime', 'Drama',\n",
       "       'Romance', 'Mystery_Thriller_Horror', 'Sci-Fi_Fantasy',\n",
       "       'Family_Animation', 'Action_Adventure', 'History_War', 'Others',\n",
       "       'director_rank', 'actor1_rank', 'actor2_rank', 'actor3_rank',\n",
       "       'gross_budget_ratio'],\n",
       "      dtype='object')"
      ]
     },
     "execution_count": 3,
     "metadata": {},
     "output_type": "execute_result"
    }
   ],
   "source": [
    "movie_df.columns"
   ]
  },
  {
   "cell_type": "markdown",
   "metadata": {},
   "source": [
    "# 1) Only Ranks"
   ]
  },
  {
   "cell_type": "code",
   "execution_count": 4,
   "metadata": {},
   "outputs": [],
   "source": [
    "classification_df = movie_df.drop(columns=['imdb_id', 'director_name', 'num_critic_for_reviews',\n",
    "       'actor_2_name',\n",
    "       'gross', 'genres', 'actor_1_name',\n",
    "       'movie_title', 'num_voted_users',\n",
    "       'actor_3_name', 'plot_keywords',\n",
    "       'num_user_for_reviews',\n",
    "       'title_year', 'imdb_score',\n",
    "       'movie_facebook_likes','director_facebook_likes', 'actor_3_facebook_likes', 'actor_2_facebook_likes', 'actor_1_facebook_likes'])"
   ]
  },
  {
   "cell_type": "code",
   "execution_count": 5,
   "metadata": {},
   "outputs": [
    {
     "data": {
      "text/html": [
       "<div>\n",
       "<style scoped>\n",
       "    .dataframe tbody tr th:only-of-type {\n",
       "        vertical-align: middle;\n",
       "    }\n",
       "\n",
       "    .dataframe tbody tr th {\n",
       "        vertical-align: top;\n",
       "    }\n",
       "\n",
       "    .dataframe thead th {\n",
       "        text-align: right;\n",
       "    }\n",
       "</style>\n",
       "<table border=\"1\" class=\"dataframe\">\n",
       "  <thead>\n",
       "    <tr style=\"text-align: right;\">\n",
       "      <th></th>\n",
       "      <th>duration</th>\n",
       "      <th>cast_total_facebook_likes</th>\n",
       "      <th>facenumber_in_poster</th>\n",
       "      <th>language</th>\n",
       "      <th>country</th>\n",
       "      <th>content_rating</th>\n",
       "      <th>budget</th>\n",
       "      <th>Biography</th>\n",
       "      <th>Comedy</th>\n",
       "      <th>Crime</th>\n",
       "      <th>...</th>\n",
       "      <th>Sci-Fi_Fantasy</th>\n",
       "      <th>Family_Animation</th>\n",
       "      <th>Action_Adventure</th>\n",
       "      <th>History_War</th>\n",
       "      <th>Others</th>\n",
       "      <th>director_rank</th>\n",
       "      <th>actor1_rank</th>\n",
       "      <th>actor2_rank</th>\n",
       "      <th>actor3_rank</th>\n",
       "      <th>gross_budget_ratio</th>\n",
       "    </tr>\n",
       "  </thead>\n",
       "  <tbody>\n",
       "    <tr>\n",
       "      <td>0</td>\n",
       "      <td>123.0</td>\n",
       "      <td>22209</td>\n",
       "      <td>1.0</td>\n",
       "      <td>English</td>\n",
       "      <td>USA</td>\n",
       "      <td>PG-13</td>\n",
       "      <td>48000000.0</td>\n",
       "      <td>0</td>\n",
       "      <td>1</td>\n",
       "      <td>0</td>\n",
       "      <td>...</td>\n",
       "      <td>1</td>\n",
       "      <td>0</td>\n",
       "      <td>0</td>\n",
       "      <td>0</td>\n",
       "      <td>0</td>\n",
       "      <td>8</td>\n",
       "      <td>6</td>\n",
       "      <td>3</td>\n",
       "      <td>4</td>\n",
       "      <td>0.981155</td>\n",
       "    </tr>\n",
       "    <tr>\n",
       "      <td>1</td>\n",
       "      <td>88.0</td>\n",
       "      <td>2726</td>\n",
       "      <td>0.0</td>\n",
       "      <td>English</td>\n",
       "      <td>USA</td>\n",
       "      <td>PG</td>\n",
       "      <td>3500000.0</td>\n",
       "      <td>0</td>\n",
       "      <td>1</td>\n",
       "      <td>0</td>\n",
       "      <td>...</td>\n",
       "      <td>0</td>\n",
       "      <td>0</td>\n",
       "      <td>0</td>\n",
       "      <td>0</td>\n",
       "      <td>0</td>\n",
       "      <td>8</td>\n",
       "      <td>2</td>\n",
       "      <td>3</td>\n",
       "      <td>4</td>\n",
       "      <td>23.828571</td>\n",
       "    </tr>\n",
       "    <tr>\n",
       "      <td>2</td>\n",
       "      <td>104.0</td>\n",
       "      <td>1662</td>\n",
       "      <td>0.0</td>\n",
       "      <td>English</td>\n",
       "      <td>USA</td>\n",
       "      <td>R</td>\n",
       "      <td>4500000.0</td>\n",
       "      <td>0</td>\n",
       "      <td>0</td>\n",
       "      <td>0</td>\n",
       "      <td>...</td>\n",
       "      <td>0</td>\n",
       "      <td>0</td>\n",
       "      <td>1</td>\n",
       "      <td>0</td>\n",
       "      <td>0</td>\n",
       "      <td>7</td>\n",
       "      <td>3</td>\n",
       "      <td>3</td>\n",
       "      <td>3</td>\n",
       "      <td>13.078468</td>\n",
       "    </tr>\n",
       "    <tr>\n",
       "      <td>3</td>\n",
       "      <td>148.0</td>\n",
       "      <td>2566</td>\n",
       "      <td>1.0</td>\n",
       "      <td>English</td>\n",
       "      <td>USA</td>\n",
       "      <td>R</td>\n",
       "      <td>27000000.0</td>\n",
       "      <td>0</td>\n",
       "      <td>1</td>\n",
       "      <td>1</td>\n",
       "      <td>...</td>\n",
       "      <td>0</td>\n",
       "      <td>0</td>\n",
       "      <td>1</td>\n",
       "      <td>0</td>\n",
       "      <td>1</td>\n",
       "      <td>8</td>\n",
       "      <td>3</td>\n",
       "      <td>3</td>\n",
       "      <td>4</td>\n",
       "      <td>2.007407</td>\n",
       "    </tr>\n",
       "    <tr>\n",
       "      <td>4</td>\n",
       "      <td>98.0</td>\n",
       "      <td>14921</td>\n",
       "      <td>3.0</td>\n",
       "      <td>English</td>\n",
       "      <td>USA</td>\n",
       "      <td>R</td>\n",
       "      <td>6000000.0</td>\n",
       "      <td>0</td>\n",
       "      <td>1</td>\n",
       "      <td>0</td>\n",
       "      <td>...</td>\n",
       "      <td>0</td>\n",
       "      <td>0</td>\n",
       "      <td>0</td>\n",
       "      <td>0</td>\n",
       "      <td>1</td>\n",
       "      <td>7</td>\n",
       "      <td>7</td>\n",
       "      <td>3</td>\n",
       "      <td>5</td>\n",
       "      <td>6.633333</td>\n",
       "    </tr>\n",
       "    <tr>\n",
       "      <td>...</td>\n",
       "      <td>...</td>\n",
       "      <td>...</td>\n",
       "      <td>...</td>\n",
       "      <td>...</td>\n",
       "      <td>...</td>\n",
       "      <td>...</td>\n",
       "      <td>...</td>\n",
       "      <td>...</td>\n",
       "      <td>...</td>\n",
       "      <td>...</td>\n",
       "      <td>...</td>\n",
       "      <td>...</td>\n",
       "      <td>...</td>\n",
       "      <td>...</td>\n",
       "      <td>...</td>\n",
       "      <td>...</td>\n",
       "      <td>...</td>\n",
       "      <td>...</td>\n",
       "      <td>...</td>\n",
       "      <td>...</td>\n",
       "      <td>...</td>\n",
       "    </tr>\n",
       "    <tr>\n",
       "      <td>3847</td>\n",
       "      <td>92.0</td>\n",
       "      <td>17860</td>\n",
       "      <td>0.0</td>\n",
       "      <td>English</td>\n",
       "      <td>USA</td>\n",
       "      <td>R</td>\n",
       "      <td>35000000.0</td>\n",
       "      <td>0</td>\n",
       "      <td>1</td>\n",
       "      <td>0</td>\n",
       "      <td>...</td>\n",
       "      <td>0</td>\n",
       "      <td>0</td>\n",
       "      <td>0</td>\n",
       "      <td>0</td>\n",
       "      <td>0</td>\n",
       "      <td>7</td>\n",
       "      <td>5</td>\n",
       "      <td>3</td>\n",
       "      <td>4</td>\n",
       "      <td>1.579766</td>\n",
       "    </tr>\n",
       "    <tr>\n",
       "      <td>3848</td>\n",
       "      <td>100.0</td>\n",
       "      <td>18786</td>\n",
       "      <td>9.0</td>\n",
       "      <td>English</td>\n",
       "      <td>USA</td>\n",
       "      <td>R</td>\n",
       "      <td>20000000.0</td>\n",
       "      <td>0</td>\n",
       "      <td>1</td>\n",
       "      <td>0</td>\n",
       "      <td>...</td>\n",
       "      <td>0</td>\n",
       "      <td>0</td>\n",
       "      <td>0</td>\n",
       "      <td>0</td>\n",
       "      <td>0</td>\n",
       "      <td>7</td>\n",
       "      <td>5</td>\n",
       "      <td>5</td>\n",
       "      <td>5</td>\n",
       "      <td>2.773065</td>\n",
       "    </tr>\n",
       "    <tr>\n",
       "      <td>3849</td>\n",
       "      <td>92.0</td>\n",
       "      <td>2848</td>\n",
       "      <td>4.0</td>\n",
       "      <td>English</td>\n",
       "      <td>USA</td>\n",
       "      <td>R</td>\n",
       "      <td>5000000.0</td>\n",
       "      <td>0</td>\n",
       "      <td>1</td>\n",
       "      <td>0</td>\n",
       "      <td>...</td>\n",
       "      <td>0</td>\n",
       "      <td>0</td>\n",
       "      <td>0</td>\n",
       "      <td>0</td>\n",
       "      <td>0</td>\n",
       "      <td>5</td>\n",
       "      <td>2</td>\n",
       "      <td>4</td>\n",
       "      <td>4</td>\n",
       "      <td>2.335036</td>\n",
       "    </tr>\n",
       "    <tr>\n",
       "      <td>3850</td>\n",
       "      <td>81.0</td>\n",
       "      <td>3344</td>\n",
       "      <td>0.0</td>\n",
       "      <td>English</td>\n",
       "      <td>USA</td>\n",
       "      <td>PG-13</td>\n",
       "      <td>4900000.0</td>\n",
       "      <td>0</td>\n",
       "      <td>0</td>\n",
       "      <td>0</td>\n",
       "      <td>...</td>\n",
       "      <td>0</td>\n",
       "      <td>0</td>\n",
       "      <td>0</td>\n",
       "      <td>0</td>\n",
       "      <td>0</td>\n",
       "      <td>7</td>\n",
       "      <td>3</td>\n",
       "      <td>3</td>\n",
       "      <td>4</td>\n",
       "      <td>11.537962</td>\n",
       "    </tr>\n",
       "    <tr>\n",
       "      <td>3851</td>\n",
       "      <td>120.0</td>\n",
       "      <td>1810</td>\n",
       "      <td>11.0</td>\n",
       "      <td>English</td>\n",
       "      <td>USA</td>\n",
       "      <td>PG</td>\n",
       "      <td>5000000.0</td>\n",
       "      <td>0</td>\n",
       "      <td>0</td>\n",
       "      <td>0</td>\n",
       "      <td>...</td>\n",
       "      <td>0</td>\n",
       "      <td>0</td>\n",
       "      <td>0</td>\n",
       "      <td>0</td>\n",
       "      <td>0</td>\n",
       "      <td>3</td>\n",
       "      <td>2</td>\n",
       "      <td>3</td>\n",
       "      <td>4</td>\n",
       "      <td>4.154614</td>\n",
       "    </tr>\n",
       "  </tbody>\n",
       "</table>\n",
       "<p>3852 rows × 23 columns</p>\n",
       "</div>"
      ],
      "text/plain": [
       "      duration  cast_total_facebook_likes  facenumber_in_poster language  \\\n",
       "0        123.0                      22209                   1.0  English   \n",
       "1         88.0                       2726                   0.0  English   \n",
       "2        104.0                       1662                   0.0  English   \n",
       "3        148.0                       2566                   1.0  English   \n",
       "4         98.0                      14921                   3.0  English   \n",
       "...        ...                        ...                   ...      ...   \n",
       "3847      92.0                      17860                   0.0  English   \n",
       "3848     100.0                      18786                   9.0  English   \n",
       "3849      92.0                       2848                   4.0  English   \n",
       "3850      81.0                       3344                   0.0  English   \n",
       "3851     120.0                       1810                  11.0  English   \n",
       "\n",
       "     country content_rating      budget  Biography  Comedy  Crime  ...  \\\n",
       "0        USA          PG-13  48000000.0          0       1      0  ...   \n",
       "1        USA             PG   3500000.0          0       1      0  ...   \n",
       "2        USA              R   4500000.0          0       0      0  ...   \n",
       "3        USA              R  27000000.0          0       1      1  ...   \n",
       "4        USA              R   6000000.0          0       1      0  ...   \n",
       "...      ...            ...         ...        ...     ...    ...  ...   \n",
       "3847     USA              R  35000000.0          0       1      0  ...   \n",
       "3848     USA              R  20000000.0          0       1      0  ...   \n",
       "3849     USA              R   5000000.0          0       1      0  ...   \n",
       "3850     USA          PG-13   4900000.0          0       0      0  ...   \n",
       "3851     USA             PG   5000000.0          0       0      0  ...   \n",
       "\n",
       "      Sci-Fi_Fantasy  Family_Animation  Action_Adventure  History_War  Others  \\\n",
       "0                  1                 0                 0            0       0   \n",
       "1                  0                 0                 0            0       0   \n",
       "2                  0                 0                 1            0       0   \n",
       "3                  0                 0                 1            0       1   \n",
       "4                  0                 0                 0            0       1   \n",
       "...              ...               ...               ...          ...     ...   \n",
       "3847               0                 0                 0            0       0   \n",
       "3848               0                 0                 0            0       0   \n",
       "3849               0                 0                 0            0       0   \n",
       "3850               0                 0                 0            0       0   \n",
       "3851               0                 0                 0            0       0   \n",
       "\n",
       "      director_rank  actor1_rank  actor2_rank  actor3_rank  gross_budget_ratio  \n",
       "0                 8            6            3            4            0.981155  \n",
       "1                 8            2            3            4           23.828571  \n",
       "2                 7            3            3            3           13.078468  \n",
       "3                 8            3            3            4            2.007407  \n",
       "4                 7            7            3            5            6.633333  \n",
       "...             ...          ...          ...          ...                 ...  \n",
       "3847              7            5            3            4            1.579766  \n",
       "3848              7            5            5            5            2.773065  \n",
       "3849              5            2            4            4            2.335036  \n",
       "3850              7            3            3            4           11.537962  \n",
       "3851              3            2            3            4            4.154614  \n",
       "\n",
       "[3852 rows x 23 columns]"
      ]
     },
     "execution_count": 5,
     "metadata": {},
     "output_type": "execute_result"
    }
   ],
   "source": [
    "classification_df"
   ]
  },
  {
   "cell_type": "markdown",
   "metadata": {},
   "source": [
    "## 1.1) All Movies"
   ]
  },
  {
   "cell_type": "code",
   "execution_count": 6,
   "metadata": {},
   "outputs": [
    {
     "data": {
      "text/html": [
       "<div>\n",
       "<style scoped>\n",
       "    .dataframe tbody tr th:only-of-type {\n",
       "        vertical-align: middle;\n",
       "    }\n",
       "\n",
       "    .dataframe tbody tr th {\n",
       "        vertical-align: top;\n",
       "    }\n",
       "\n",
       "    .dataframe thead th {\n",
       "        text-align: right;\n",
       "    }\n",
       "</style>\n",
       "<table border=\"1\" class=\"dataframe\">\n",
       "  <thead>\n",
       "    <tr style=\"text-align: right;\">\n",
       "      <th></th>\n",
       "      <th>duration</th>\n",
       "      <th>cast_total_facebook_likes</th>\n",
       "      <th>facenumber_in_poster</th>\n",
       "      <th>budget</th>\n",
       "      <th>Biography</th>\n",
       "      <th>Comedy</th>\n",
       "      <th>Crime</th>\n",
       "      <th>Drama</th>\n",
       "      <th>Romance</th>\n",
       "      <th>Mystery_Thriller_Horror</th>\n",
       "      <th>...</th>\n",
       "      <th>History_War</th>\n",
       "      <th>Others</th>\n",
       "      <th>director_rank</th>\n",
       "      <th>actor1_rank</th>\n",
       "      <th>actor2_rank</th>\n",
       "      <th>actor3_rank</th>\n",
       "      <th>gross_budget_ratio</th>\n",
       "      <th>content_rating_PG</th>\n",
       "      <th>content_rating_PG-13</th>\n",
       "      <th>content_rating_R</th>\n",
       "    </tr>\n",
       "  </thead>\n",
       "  <tbody>\n",
       "    <tr>\n",
       "      <td>0</td>\n",
       "      <td>123.0</td>\n",
       "      <td>22209</td>\n",
       "      <td>1.0</td>\n",
       "      <td>4.800000e+07</td>\n",
       "      <td>0</td>\n",
       "      <td>1</td>\n",
       "      <td>0</td>\n",
       "      <td>0</td>\n",
       "      <td>1</td>\n",
       "      <td>0</td>\n",
       "      <td>...</td>\n",
       "      <td>0</td>\n",
       "      <td>0</td>\n",
       "      <td>8</td>\n",
       "      <td>6</td>\n",
       "      <td>3</td>\n",
       "      <td>4</td>\n",
       "      <td>0.981155</td>\n",
       "      <td>0</td>\n",
       "      <td>1</td>\n",
       "      <td>0</td>\n",
       "    </tr>\n",
       "    <tr>\n",
       "      <td>3</td>\n",
       "      <td>148.0</td>\n",
       "      <td>2566</td>\n",
       "      <td>1.0</td>\n",
       "      <td>2.700000e+07</td>\n",
       "      <td>0</td>\n",
       "      <td>1</td>\n",
       "      <td>1</td>\n",
       "      <td>0</td>\n",
       "      <td>0</td>\n",
       "      <td>0</td>\n",
       "      <td>...</td>\n",
       "      <td>0</td>\n",
       "      <td>1</td>\n",
       "      <td>8</td>\n",
       "      <td>3</td>\n",
       "      <td>3</td>\n",
       "      <td>4</td>\n",
       "      <td>2.007407</td>\n",
       "      <td>0</td>\n",
       "      <td>0</td>\n",
       "      <td>1</td>\n",
       "    </tr>\n",
       "    <tr>\n",
       "      <td>5</td>\n",
       "      <td>124.0</td>\n",
       "      <td>1462</td>\n",
       "      <td>0.0</td>\n",
       "      <td>2.000000e+07</td>\n",
       "      <td>1</td>\n",
       "      <td>1</td>\n",
       "      <td>0</td>\n",
       "      <td>0</td>\n",
       "      <td>0</td>\n",
       "      <td>0</td>\n",
       "      <td>...</td>\n",
       "      <td>0</td>\n",
       "      <td>1</td>\n",
       "      <td>5</td>\n",
       "      <td>3</td>\n",
       "      <td>2</td>\n",
       "      <td>3</td>\n",
       "      <td>0.100000</td>\n",
       "      <td>1</td>\n",
       "      <td>0</td>\n",
       "      <td>0</td>\n",
       "    </tr>\n",
       "    <tr>\n",
       "      <td>6</td>\n",
       "      <td>124.0</td>\n",
       "      <td>2667</td>\n",
       "      <td>0.0</td>\n",
       "      <td>5.166449e+07</td>\n",
       "      <td>1</td>\n",
       "      <td>0</td>\n",
       "      <td>0</td>\n",
       "      <td>1</td>\n",
       "      <td>0</td>\n",
       "      <td>0</td>\n",
       "      <td>...</td>\n",
       "      <td>0</td>\n",
       "      <td>1</td>\n",
       "      <td>7</td>\n",
       "      <td>3</td>\n",
       "      <td>4</td>\n",
       "      <td>4</td>\n",
       "      <td>1.546517</td>\n",
       "      <td>1</td>\n",
       "      <td>0</td>\n",
       "      <td>0</td>\n",
       "    </tr>\n",
       "    <tr>\n",
       "      <td>11</td>\n",
       "      <td>325.0</td>\n",
       "      <td>14255</td>\n",
       "      <td>0.0</td>\n",
       "      <td>4.400000e+07</td>\n",
       "      <td>0</td>\n",
       "      <td>0</td>\n",
       "      <td>0</td>\n",
       "      <td>1</td>\n",
       "      <td>0</td>\n",
       "      <td>0</td>\n",
       "      <td>...</td>\n",
       "      <td>0</td>\n",
       "      <td>1</td>\n",
       "      <td>7</td>\n",
       "      <td>6</td>\n",
       "      <td>3</td>\n",
       "      <td>5</td>\n",
       "      <td>0.034091</td>\n",
       "      <td>0</td>\n",
       "      <td>0</td>\n",
       "      <td>1</td>\n",
       "    </tr>\n",
       "    <tr>\n",
       "      <td>...</td>\n",
       "      <td>...</td>\n",
       "      <td>...</td>\n",
       "      <td>...</td>\n",
       "      <td>...</td>\n",
       "      <td>...</td>\n",
       "      <td>...</td>\n",
       "      <td>...</td>\n",
       "      <td>...</td>\n",
       "      <td>...</td>\n",
       "      <td>...</td>\n",
       "      <td>...</td>\n",
       "      <td>...</td>\n",
       "      <td>...</td>\n",
       "      <td>...</td>\n",
       "      <td>...</td>\n",
       "      <td>...</td>\n",
       "      <td>...</td>\n",
       "      <td>...</td>\n",
       "      <td>...</td>\n",
       "      <td>...</td>\n",
       "      <td>...</td>\n",
       "    </tr>\n",
       "    <tr>\n",
       "      <td>3846</td>\n",
       "      <td>121.0</td>\n",
       "      <td>6617</td>\n",
       "      <td>0.0</td>\n",
       "      <td>5.000000e+06</td>\n",
       "      <td>0</td>\n",
       "      <td>0</td>\n",
       "      <td>0</td>\n",
       "      <td>1</td>\n",
       "      <td>0</td>\n",
       "      <td>0</td>\n",
       "      <td>...</td>\n",
       "      <td>0</td>\n",
       "      <td>0</td>\n",
       "      <td>7</td>\n",
       "      <td>4</td>\n",
       "      <td>3</td>\n",
       "      <td>4</td>\n",
       "      <td>0.940072</td>\n",
       "      <td>0</td>\n",
       "      <td>1</td>\n",
       "      <td>0</td>\n",
       "    </tr>\n",
       "    <tr>\n",
       "      <td>3847</td>\n",
       "      <td>92.0</td>\n",
       "      <td>17860</td>\n",
       "      <td>0.0</td>\n",
       "      <td>3.500000e+07</td>\n",
       "      <td>0</td>\n",
       "      <td>1</td>\n",
       "      <td>0</td>\n",
       "      <td>0</td>\n",
       "      <td>0</td>\n",
       "      <td>0</td>\n",
       "      <td>...</td>\n",
       "      <td>0</td>\n",
       "      <td>0</td>\n",
       "      <td>7</td>\n",
       "      <td>5</td>\n",
       "      <td>3</td>\n",
       "      <td>4</td>\n",
       "      <td>1.579766</td>\n",
       "      <td>0</td>\n",
       "      <td>0</td>\n",
       "      <td>1</td>\n",
       "    </tr>\n",
       "    <tr>\n",
       "      <td>3848</td>\n",
       "      <td>100.0</td>\n",
       "      <td>18786</td>\n",
       "      <td>9.0</td>\n",
       "      <td>2.000000e+07</td>\n",
       "      <td>0</td>\n",
       "      <td>1</td>\n",
       "      <td>0</td>\n",
       "      <td>0</td>\n",
       "      <td>0</td>\n",
       "      <td>0</td>\n",
       "      <td>...</td>\n",
       "      <td>0</td>\n",
       "      <td>0</td>\n",
       "      <td>7</td>\n",
       "      <td>5</td>\n",
       "      <td>5</td>\n",
       "      <td>5</td>\n",
       "      <td>2.773065</td>\n",
       "      <td>0</td>\n",
       "      <td>0</td>\n",
       "      <td>1</td>\n",
       "    </tr>\n",
       "    <tr>\n",
       "      <td>3849</td>\n",
       "      <td>92.0</td>\n",
       "      <td>2848</td>\n",
       "      <td>4.0</td>\n",
       "      <td>5.000000e+06</td>\n",
       "      <td>0</td>\n",
       "      <td>1</td>\n",
       "      <td>0</td>\n",
       "      <td>0</td>\n",
       "      <td>0</td>\n",
       "      <td>0</td>\n",
       "      <td>...</td>\n",
       "      <td>0</td>\n",
       "      <td>0</td>\n",
       "      <td>5</td>\n",
       "      <td>2</td>\n",
       "      <td>4</td>\n",
       "      <td>4</td>\n",
       "      <td>2.335036</td>\n",
       "      <td>0</td>\n",
       "      <td>0</td>\n",
       "      <td>1</td>\n",
       "    </tr>\n",
       "    <tr>\n",
       "      <td>3851</td>\n",
       "      <td>120.0</td>\n",
       "      <td>1810</td>\n",
       "      <td>11.0</td>\n",
       "      <td>5.000000e+06</td>\n",
       "      <td>0</td>\n",
       "      <td>0</td>\n",
       "      <td>0</td>\n",
       "      <td>1</td>\n",
       "      <td>0</td>\n",
       "      <td>0</td>\n",
       "      <td>...</td>\n",
       "      <td>0</td>\n",
       "      <td>0</td>\n",
       "      <td>3</td>\n",
       "      <td>2</td>\n",
       "      <td>3</td>\n",
       "      <td>4</td>\n",
       "      <td>4.154614</td>\n",
       "      <td>1</td>\n",
       "      <td>0</td>\n",
       "      <td>0</td>\n",
       "    </tr>\n",
       "  </tbody>\n",
       "</table>\n",
       "<p>3513 rows × 23 columns</p>\n",
       "</div>"
      ],
      "text/plain": [
       "      duration  cast_total_facebook_likes  facenumber_in_poster        budget  \\\n",
       "0        123.0                      22209                   1.0  4.800000e+07   \n",
       "3        148.0                       2566                   1.0  2.700000e+07   \n",
       "5        124.0                       1462                   0.0  2.000000e+07   \n",
       "6        124.0                       2667                   0.0  5.166449e+07   \n",
       "11       325.0                      14255                   0.0  4.400000e+07   \n",
       "...        ...                        ...                   ...           ...   \n",
       "3846     121.0                       6617                   0.0  5.000000e+06   \n",
       "3847      92.0                      17860                   0.0  3.500000e+07   \n",
       "3848     100.0                      18786                   9.0  2.000000e+07   \n",
       "3849      92.0                       2848                   4.0  5.000000e+06   \n",
       "3851     120.0                       1810                  11.0  5.000000e+06   \n",
       "\n",
       "      Biography  Comedy  Crime  Drama  Romance  Mystery_Thriller_Horror  ...  \\\n",
       "0             0       1      0      0        1                        0  ...   \n",
       "3             0       1      1      0        0                        0  ...   \n",
       "5             1       1      0      0        0                        0  ...   \n",
       "6             1       0      0      1        0                        0  ...   \n",
       "11            0       0      0      1        0                        0  ...   \n",
       "...         ...     ...    ...    ...      ...                      ...  ...   \n",
       "3846          0       0      0      1        0                        0  ...   \n",
       "3847          0       1      0      0        0                        0  ...   \n",
       "3848          0       1      0      0        0                        0  ...   \n",
       "3849          0       1      0      0        0                        0  ...   \n",
       "3851          0       0      0      1        0                        0  ...   \n",
       "\n",
       "      History_War  Others  director_rank  actor1_rank  actor2_rank  \\\n",
       "0               0       0              8            6            3   \n",
       "3               0       1              8            3            3   \n",
       "5               0       1              5            3            2   \n",
       "6               0       1              7            3            4   \n",
       "11              0       1              7            6            3   \n",
       "...           ...     ...            ...          ...          ...   \n",
       "3846            0       0              7            4            3   \n",
       "3847            0       0              7            5            3   \n",
       "3848            0       0              7            5            5   \n",
       "3849            0       0              5            2            4   \n",
       "3851            0       0              3            2            3   \n",
       "\n",
       "      actor3_rank  gross_budget_ratio  content_rating_PG  \\\n",
       "0               4            0.981155                  0   \n",
       "3               4            2.007407                  0   \n",
       "5               3            0.100000                  1   \n",
       "6               4            1.546517                  1   \n",
       "11              5            0.034091                  0   \n",
       "...           ...                 ...                ...   \n",
       "3846            4            0.940072                  0   \n",
       "3847            4            1.579766                  0   \n",
       "3848            5            2.773065                  0   \n",
       "3849            4            2.335036                  0   \n",
       "3851            4            4.154614                  1   \n",
       "\n",
       "      content_rating_PG-13  content_rating_R  \n",
       "0                        1                 0  \n",
       "3                        0                 1  \n",
       "5                        0                 0  \n",
       "6                        0                 0  \n",
       "11                       0                 1  \n",
       "...                    ...               ...  \n",
       "3846                     1                 0  \n",
       "3847                     0                 1  \n",
       "3848                     0                 1  \n",
       "3849                     0                 1  \n",
       "3851                     0                 0  \n",
       "\n",
       "[3513 rows x 23 columns]"
      ]
     },
     "execution_count": 6,
     "metadata": {},
     "output_type": "execute_result"
    }
   ],
   "source": [
    "classification1_df=classification_df.drop(columns=['country','language'])\n",
    "df1 = pd.get_dummies(classification1_df, columns=['content_rating'])\n",
    "df1 = df1.drop(columns =['content_rating_Not Rated','content_rating_G','content_rating_X','content_rating_NC-17'])\n",
    "Q1 = df1['gross_budget_ratio'].quantile(0.25)\n",
    "Q3 = df1['gross_budget_ratio'].quantile(0.75)\n",
    "IQR = Q3 - Q1    #IQR is interquartile range. \n",
    "\n",
    "filtering = (df1['gross_budget_ratio'] >= Q1 - 1.5 * IQR) & (df1['gross_budget_ratio'] <= Q3 + 1.5 *IQR)\n",
    "df1=df1.loc[filtering] \n",
    "df1"
   ]
  },
  {
   "cell_type": "markdown",
   "metadata": {},
   "source": [
    "## 1.1.1) Without log and feature elimination"
   ]
  },
  {
   "cell_type": "code",
   "execution_count": 7,
   "metadata": {},
   "outputs": [
    {
     "name": "stdout",
     "output_type": "stream",
     "text": [
      "Dimensionality of X_train: (2459, 22)\n",
      "Dimensionality of X_test : (1054, 22)\n",
      "Dimensionality of y_train: (2459,)\n",
      "Dimensionality of y_test : (1054,)\n"
     ]
    }
   ],
   "source": [
    "X = df1.drop(columns=['gross_budget_ratio'])\n",
    "y = df1['gross_budget_ratio']\n",
    "X_train, X_test, y_train, y_test = train_test_split(X, y, test_size=0.3, random_state=10) \n",
    "print(f\"Dimensionality of X_train: {X_train.shape}\")\n",
    "print(f\"Dimensionality of X_test : {X_test.shape}\")\n",
    "print(f\"Dimensionality of y_train: {y_train.shape}\")\n",
    "print(f\"Dimensionality of y_test : {y_test.shape}\")"
   ]
  },
  {
   "cell_type": "markdown",
   "metadata": {},
   "source": [
    "### 1.1.1.1) Ridge Regression"
   ]
  },
  {
   "cell_type": "code",
   "execution_count": 8,
   "metadata": {},
   "outputs": [],
   "source": [
    "MMScaler = MinMaxScaler()\n",
    "X_train_scaled = MMScaler.fit_transform(X_train)\n",
    "X_test_scaled = MMScaler.transform(X_test)"
   ]
  },
  {
   "cell_type": "code",
   "execution_count": 9,
   "metadata": {},
   "outputs": [
    {
     "name": "stdout",
     "output_type": "stream",
     "text": [
      "ridge best parameters: {'alpha': 0.7000000000000001}\n",
      "ridge score: -1.000691815138393\n",
      "ridge MSE: 1.000691815138393\n",
      "ridge best estimator coef: [ 0.21364061  0.47761464  0.38558612 -1.56285716 -0.101597    0.03765624\n",
      " -0.12637671 -0.18379425 -0.05568325 -0.0044267  -0.16731913  0.21562961\n",
      " -0.17299776 -0.29481343 -0.08413297  0.60598504  0.05694803  0.19864528\n",
      "  0.34339433  0.3268268   0.37245507  0.21616806]\n"
     ]
    }
   ],
   "source": [
    "parameters = {'alpha': np.concatenate((np.arange(0.1,2,0.1), np.arange(2, 5, 0.5), np.arange(5, 25, 1)))}\n",
    "ridge = Ridge()\n",
    "clf1 = GridSearchCV(ridge, parameters, scoring ='neg_mean_squared_error')\n",
    "clf1.fit(X_train_scaled, y_train)\n",
    "\n",
    "y_pred = clf1.predict(X_test_scaled)\n",
    "\n",
    "print(\"ridge best parameters:\", clf1.best_params_)\n",
    "print(\"ridge score:\", clf1.score(X_test_scaled, y_test))\n",
    "print(\"ridge MSE:\", mean_squared_error(y_test, clf1.predict(X_test_scaled)))\n",
    "print(\"ridge best estimator coef:\", clf1.best_estimator_.coef_)"
   ]
  },
  {
   "cell_type": "code",
   "execution_count": 10,
   "metadata": {},
   "outputs": [
    {
     "data": {
      "text/plain": [
       "<matplotlib.axes._subplots.AxesSubplot at 0x1ce2c3734c8>"
      ]
     },
     "execution_count": 10,
     "metadata": {},
     "output_type": "execute_result"
    },
    {
     "data": {
      "image/png": "[encoded data removed]",
      "text/plain": [
       "<Figure size 432x288 with 1 Axes>"
      ]
     },
     "metadata": {
      "needs_background": "light"
     },
     "output_type": "display_data"
    }
   ],
   "source": [
    "sns.regplot(y_test, y_pred )"
   ]
  },
  {
   "cell_type": "markdown",
   "metadata": {},
   "source": [
    "### 1.1.1.2) Lasso Regression"
   ]
  },
  {
   "cell_type": "code",
   "execution_count": 11,
   "metadata": {},
   "outputs": [
    {
     "name": "stdout",
     "output_type": "stream",
     "text": [
      "Lasso best parameters: {'alpha': 0.1}\n",
      "Lasso score: -1.0544373009111565\n",
      "Lasso MSE: 1.0544373009111565\n",
      "Lasso best estimator coef: [-0.  0.  0. -0. -0.  0. -0. -0.  0. -0. -0.  0. -0. -0. -0.  0.  0.  0.\n",
      "  0.  0.  0. -0.]\n"
     ]
    }
   ],
   "source": [
    "parameters = {'alpha': np.concatenate((np.arange(0.1,2,0.1), np.arange(2, 5, 0.5), np.arange(5, 25, 1)))}\n",
    "Lasso = linear_model.Lasso()\n",
    "clf2 = GridSearchCV(Lasso, parameters, scoring ='neg_mean_squared_error')\n",
    "clf2.fit(X_train_scaled, y_train)\n",
    "\n",
    "y_pred = clf2.predict(X_test_scaled)\n",
    "\n",
    "print(\"Lasso best parameters:\", clf2.best_params_)\n",
    "print(\"Lasso score:\", clf2.score(X_test_scaled, y_test))\n",
    "print(\"Lasso MSE:\", mean_squared_error(y_test, clf2.predict(X_test_scaled)))\n",
    "print(\"Lasso best estimator coef:\", clf2.best_estimator_.coef_)"
   ]
  },
  {
   "cell_type": "code",
   "execution_count": 12,
   "metadata": {},
   "outputs": [
    {
     "data": {
      "text/plain": [
       "<matplotlib.axes._subplots.AxesSubplot at 0x1ce2bf81988>"
      ]
     },
     "execution_count": 12,
     "metadata": {},
     "output_type": "execute_result"
    },
    {
     "data": {
      "image/png": "[encoded data removed]",
      "text/plain": [
       "<Figure size 432x288 with 1 Axes>"
      ]
     },
     "metadata": {
      "needs_background": "light"
     },
     "output_type": "display_data"
    }
   ],
   "source": [
    "sns.regplot(y_test, y_pred )"
   ]
  },
  {
   "cell_type": "markdown",
   "metadata": {},
   "source": [
    "### 1.1.1.3) Decision Tree Regressor"
   ]
  },
  {
   "cell_type": "code",
   "execution_count": 13,
   "metadata": {},
   "outputs": [
    {
     "name": "stdout",
     "output_type": "stream",
     "text": [
      "DTR best parameters: {'criterion': 'mse', 'max_depth': 4, 'min_samples_leaf': 0.005, 'min_samples_split': 0.05}\n",
      "DTR score: -1.0395962212779242\n",
      "DTR MSE: 1.0395962212779242\n"
     ]
    }
   ],
   "source": [
    "DTSplitList=[0.001,0.01,0.05,0.1,0.5,0.99]\n",
    "DTLeafList=[0.0005,0.005,0.025,0.05,0.1,0.25,0.5]\n",
    "criterion =['mse']\n",
    "parameters = {'criterion':criterion,'max_depth':list(range(100,0,-3)),'min_samples_leaf': DTLeafList, 'min_samples_split':DTSplitList}\n",
    "DTR = DecisionTreeRegressor(random_state=10)\n",
    "clf3 = GridSearchCV(DTR, parameters, scoring ='neg_mean_squared_error')\n",
    "clf3.fit(X_train, y_train)\n",
    "\n",
    "y_pred = clf3.predict(X_test)\n",
    "\n",
    "print(\"DTR best parameters:\", clf3.best_params_)\n",
    "print(\"DTR score:\", clf3.score(X_test, y_test))\n",
    "print(\"DTR MSE:\", mean_squared_error(y_test, clf3.predict(X_test)))"
   ]
  },
  {
   "cell_type": "code",
   "execution_count": 14,
   "metadata": {},
   "outputs": [
    {
     "data": {
      "text/plain": [
       "<matplotlib.axes._subplots.AxesSubplot at 0x1ce2d571a88>"
      ]
     },
     "execution_count": 14,
     "metadata": {},
     "output_type": "execute_result"
    },
    {
     "data": {
      "image/png": "[encoded data removed]",
      "text/plain": [
       "<Figure size 432x288 with 1 Axes>"
      ]
     },
     "metadata": {
      "needs_background": "light"
     },
     "output_type": "display_data"
    }
   ],
   "source": [
    "sns.regplot(y_test, y_pred )"
   ]
  },
  {
   "cell_type": "markdown",
   "metadata": {},
   "source": [
    "### 1.1.1.4) Random Forest Regressor"
   ]
  },
  {
   "cell_type": "code",
   "execution_count": 15,
   "metadata": {},
   "outputs": [
    {
     "name": "stdout",
     "output_type": "stream",
     "text": [
      "RFR best parameters: {'criterion': 'mse', 'max_depth': 10, 'n_estimators': 200}\n",
      "RFR score: -1.0009767690215752\n",
      "RFR MSE: 1.0009767690215752\n"
     ]
    }
   ],
   "source": [
    "RFEstimatorList = [25,50,100,200]\n",
    "criterion =['mse']\n",
    "parameters = {'criterion':criterion,'max_depth':list(range(100,0,-10)),'n_estimators':RFEstimatorList}\n",
    "\n",
    "RFR = RandomForestRegressor(random_state=10)\n",
    "clf4 = GridSearchCV(RFR, parameters, cv=5, verbose=0,scoring ='neg_mean_squared_error')\n",
    "clf4.fit(X_train, y_train)\n",
    "\n",
    "y_pred = clf4.predict(X_test)\n",
    "\n",
    "print(\"RFR best parameters:\", clf4.best_params_)\n",
    "print(\"RFR score:\", clf4.score(X_test, y_test))\n",
    "print(\"RFR MSE:\", mean_squared_error(y_test, clf4.predict(X_test)))"
   ]
  },
  {
   "cell_type": "code",
   "execution_count": 16,
   "metadata": {},
   "outputs": [
    {
     "data": {
      "text/plain": [
       "<matplotlib.axes._subplots.AxesSubplot at 0x1ce2d021108>"
      ]
     },
     "execution_count": 16,
     "metadata": {},
     "output_type": "execute_result"
    },
    {
     "data": {
      "image/png": "[encoded data removed]",
      "text/plain": [
       "<Figure size 432x288 with 1 Axes>"
      ]
     },
     "metadata": {
      "needs_background": "light"
     },
     "output_type": "display_data"
    }
   ],
   "source": [
    "sns.regplot(y_test, y_pred )"
   ]
  },
  {
   "cell_type": "markdown",
   "metadata": {},
   "source": [
    "## 1.1.2) With taking log and feature elimination"
   ]
  },
  {
   "cell_type": "markdown",
   "metadata": {},
   "source": [
    "### log"
   ]
  },
  {
   "cell_type": "code",
   "execution_count": 17,
   "metadata": {},
   "outputs": [],
   "source": [
    "df2 = df1.copy()\n",
    "df2['budget'] = np.log(df2['budget'])\n",
    "df2['cast_total_facebook_likes'] = df2['cast_total_facebook_likes'].transform(lambda x: 0 if x <= 3 else np.log(x))"
   ]
  },
  {
   "cell_type": "markdown",
   "metadata": {},
   "source": [
    "### elimination"
   ]
  },
  {
   "cell_type": "code",
   "execution_count": 18,
   "metadata": {},
   "outputs": [
    {
     "data": {
      "text/plain": [
       "Index(['duration', 'cast_total_facebook_likes', 'facenumber_in_poster',\n",
       "       'budget', 'Biography', 'Comedy', 'Crime', 'Drama', 'Romance',\n",
       "       'Mystery_Thriller_Horror', 'Sci-Fi_Fantasy', 'Family_Animation',\n",
       "       'Action_Adventure', 'History_War', 'Others', 'director_rank',\n",
       "       'actor1_rank', 'actor2_rank', 'actor3_rank', 'gross_budget_ratio',\n",
       "       'content_rating_PG', 'content_rating_PG-13', 'content_rating_R'],\n",
       "      dtype='object')"
      ]
     },
     "execution_count": 18,
     "metadata": {},
     "output_type": "execute_result"
    }
   ],
   "source": [
    "df2.columns"
   ]
  },
  {
   "cell_type": "code",
   "execution_count": 19,
   "metadata": {},
   "outputs": [],
   "source": [
    "df2 = df2.drop(columns = ['facenumber_in_poster', 'Biography', 'Crime',\n",
    "       'Mystery_Thriller_Horror', 'Sci-Fi_Fantasy',\n",
    "       'History_War'])"
   ]
  },
  {
   "cell_type": "code",
   "execution_count": 20,
   "metadata": {},
   "outputs": [
    {
     "name": "stdout",
     "output_type": "stream",
     "text": [
      "Dimensionality of X_train: (2459, 16)\n",
      "Dimensionality of X_test : (1054, 16)\n",
      "Dimensionality of y_train: (2459,)\n",
      "Dimensionality of y_test : (1054,)\n"
     ]
    }
   ],
   "source": [
    "X = df2.drop(columns=['gross_budget_ratio'])\n",
    "y = df2['gross_budget_ratio']\n",
    "X_train, X_test, y_train, y_test = train_test_split(X, y, test_size=0.3, random_state=10) \n",
    "print(f\"Dimensionality of X_train: {X_train.shape}\")\n",
    "print(f\"Dimensionality of X_test : {X_test.shape}\")\n",
    "print(f\"Dimensionality of y_train: {y_train.shape}\")\n",
    "print(f\"Dimensionality of y_test : {y_test.shape}\")"
   ]
  },
  {
   "cell_type": "markdown",
   "metadata": {},
   "source": [
    "### 1.1.2.1) Ridge Regression"
   ]
  },
  {
   "cell_type": "code",
   "execution_count": 21,
   "metadata": {},
   "outputs": [],
   "source": [
    "MMScaler = MinMaxScaler()\n",
    "X_train_scaled = MMScaler.fit_transform(X_train)\n",
    "X_test_scaled = MMScaler.transform(X_test)"
   ]
  },
  {
   "cell_type": "code",
   "execution_count": 22,
   "metadata": {},
   "outputs": [
    {
     "name": "stdout",
     "output_type": "stream",
     "text": [
      "ridge best parameters: {'alpha': 0.30000000000000004}\n",
      "ridge score: -0.9911650669974112\n",
      "ridge MSE: 0.9911650669974112\n",
      "ridge best estimator coef: [ 0.80087938  1.6182813  -1.95404705  0.09300685 -0.22459369 -0.02546104\n",
      "  0.31582826 -0.10564091 -0.05668853  0.69294682 -0.3516689  -0.00305098\n",
      "  0.19417781  0.34889375  0.46784189  0.23524396]\n"
     ]
    }
   ],
   "source": [
    "parameters = {'alpha': np.concatenate((np.arange(0.1,2,0.1), np.arange(2, 5, 0.5), np.arange(5, 25, 1)))}\n",
    "ridge = Ridge()\n",
    "clf1 = GridSearchCV(ridge, parameters, scoring ='neg_mean_squared_error')\n",
    "clf1.fit(X_train_scaled, y_train)\n",
    "\n",
    "y_pred = clf1.predict(X_test_scaled)\n",
    "\n",
    "print(\"ridge best parameters:\", clf1.best_params_)\n",
    "print(\"ridge score:\", clf1.score(X_test_scaled, y_test))\n",
    "print(\"ridge MSE:\", mean_squared_error(y_test, clf1.predict(X_test_scaled)))\n",
    "print(\"ridge best estimator coef:\", clf1.best_estimator_.coef_)"
   ]
  },
  {
   "cell_type": "code",
   "execution_count": 23,
   "metadata": {},
   "outputs": [
    {
     "data": {
      "text/plain": [
       "<matplotlib.axes._subplots.AxesSubplot at 0x1ce2d461b48>"
      ]
     },
     "execution_count": 23,
     "metadata": {},
     "output_type": "execute_result"
    },
    {
     "data": {
      "image/png": "[encoded data removed]",
      "text/plain": [
       "<Figure size 432x288 with 1 Axes>"
      ]
     },
     "metadata": {
      "needs_background": "light"
     },
     "output_type": "display_data"
    }
   ],
   "source": [
    "sns.regplot(y_test, y_pred )"
   ]
  },
  {
   "cell_type": "markdown",
   "metadata": {},
   "source": [
    "### 1.1.2.2) Lasso Regression"
   ]
  },
  {
   "cell_type": "code",
   "execution_count": 24,
   "metadata": {},
   "outputs": [
    {
     "name": "stdout",
     "output_type": "stream",
     "text": [
      "Lasso best parameters: {'alpha': 0.1}\n",
      "Lasso score: -1.0544373009111565\n",
      "Lasso MSE: 1.0544373009111565\n",
      "Lasso best estimator coef: [-0.  0. -0.  0. -0.  0.  0. -0. -0.  0.  0.  0.  0.  0.  0. -0.]\n"
     ]
    }
   ],
   "source": [
    "parameters = {'alpha': np.concatenate((np.arange(0.1,2,0.1), np.arange(2, 5, 0.5), np.arange(5, 25, 1)))}\n",
    "Lasso = linear_model.Lasso()\n",
    "clf2 = GridSearchCV(Lasso, parameters, scoring ='neg_mean_squared_error')\n",
    "clf2.fit(X_train_scaled, y_train)\n",
    "\n",
    "y_pred = clf2.predict(X_test_scaled)\n",
    "\n",
    "print(\"Lasso best parameters:\", clf2.best_params_)\n",
    "print(\"Lasso score:\", clf2.score(X_test_scaled, y_test))\n",
    "print(\"Lasso MSE:\", mean_squared_error(y_test, clf2.predict(X_test_scaled)))\n",
    "print(\"Lasso best estimator coef:\", clf2.best_estimator_.coef_)"
   ]
  },
  {
   "cell_type": "code",
   "execution_count": 25,
   "metadata": {},
   "outputs": [
    {
     "data": {
      "text/plain": [
       "<matplotlib.axes._subplots.AxesSubplot at 0x1ce2d044188>"
      ]
     },
     "execution_count": 25,
     "metadata": {},
     "output_type": "execute_result"
    },
    {
     "data": {
      "image/png": "[encoded data removed]",
      "text/plain": [
       "<Figure size 432x288 with 1 Axes>"
      ]
     },
     "metadata": {
      "needs_background": "light"
     },
     "output_type": "display_data"
    }
   ],
   "source": [
    "sns.regplot(y_test, y_pred )"
   ]
  },
  {
   "cell_type": "markdown",
   "metadata": {},
   "source": [
    "### 1.1.2.3) Decision Tree Regressor"
   ]
  },
  {
   "cell_type": "code",
   "execution_count": 26,
   "metadata": {},
   "outputs": [
    {
     "name": "stdout",
     "output_type": "stream",
     "text": [
      "DTR best parameters: {'criterion': 'mse', 'max_depth': 7, 'min_samples_leaf': 0.005, 'min_samples_split': 0.1}\n",
      "DTR score: -1.0304592281149516\n",
      "DTR MSE: 1.0304592281149516\n"
     ]
    }
   ],
   "source": [
    "DTSplitList=[0.001,0.01,0.05,0.1,0.5,0.99]\n",
    "DTLeafList=[0.0005,0.005,0.025,0.05,0.1,0.25,0.5]\n",
    "criterion =['mse']\n",
    "parameters = {'criterion':criterion,'max_depth':list(range(100,0,-3)),'min_samples_leaf': DTLeafList, 'min_samples_split':DTSplitList}\n",
    "DTR = DecisionTreeRegressor(random_state=10)\n",
    "clf3 = GridSearchCV(DTR, parameters, scoring ='neg_mean_squared_error')\n",
    "clf3.fit(X_train, y_train)\n",
    "\n",
    "y_pred = clf3.predict(X_test)\n",
    "\n",
    "print(\"DTR best parameters:\", clf3.best_params_)\n",
    "print(\"DTR score:\", clf3.score(X_test, y_test))\n",
    "print(\"DTR MSE:\", mean_squared_error(y_test, clf3.predict(X_test)))"
   ]
  },
  {
   "cell_type": "code",
   "execution_count": 27,
   "metadata": {},
   "outputs": [
    {
     "data": {
      "text/plain": [
       "<matplotlib.axes._subplots.AxesSubplot at 0x1ce2cfa6948>"
      ]
     },
     "execution_count": 27,
     "metadata": {},
     "output_type": "execute_result"
    },
    {
     "data": {
      "image/png": "[encoded data removed]",
      "text/plain": [
       "<Figure size 432x288 with 1 Axes>"
      ]
     },
     "metadata": {
      "needs_background": "light"
     },
     "output_type": "display_data"
    }
   ],
   "source": [
    "sns.regplot(y_test, y_pred )"
   ]
  },
  {
   "cell_type": "markdown",
   "metadata": {},
   "source": [
    "### 1.1.2.4) Random Forest Regressor"
   ]
  },
  {
   "cell_type": "code",
   "execution_count": 28,
   "metadata": {},
   "outputs": [
    {
     "name": "stdout",
     "output_type": "stream",
     "text": [
      "RFR best parameters: {'criterion': 'mse', 'max_depth': 10, 'n_estimators': 200}\n",
      "RFR score: -1.0022291901344804\n",
      "RFR MSE: 1.0022291901344804\n"
     ]
    }
   ],
   "source": [
    "RFEstimatorList = [25,50,100,200]\n",
    "criterion =['mse']\n",
    "parameters = {'criterion':criterion,'max_depth':list(range(100,0,-10)),'n_estimators':RFEstimatorList}\n",
    "\n",
    "RFR = RandomForestRegressor(random_state=10)\n",
    "clf4 = GridSearchCV(RFR, parameters, cv=5, verbose=0,scoring ='neg_mean_squared_error')\n",
    "clf4.fit(X_train, y_train)\n",
    "\n",
    "y_pred = clf4.predict(X_test)\n",
    "\n",
    "print(\"RFR best parameters:\", clf4.best_params_)\n",
    "print(\"RFR score:\", clf4.score(X_test, y_test))\n",
    "print(\"RFR MSE:\", mean_squared_error(y_test, clf4.predict(X_test)))"
   ]
  },
  {
   "cell_type": "code",
   "execution_count": 29,
   "metadata": {},
   "outputs": [
    {
     "data": {
      "text/plain": [
       "<matplotlib.axes._subplots.AxesSubplot at 0x1ce2d067ec8>"
      ]
     },
     "execution_count": 29,
     "metadata": {},
     "output_type": "execute_result"
    },
    {
     "data": {
      "image/png": "[encoded data removed]",
      "text/plain": [
       "<Figure size 432x288 with 1 Axes>"
      ]
     },
     "metadata": {
      "needs_background": "light"
     },
     "output_type": "display_data"
    }
   ],
   "source": [
    "sns.regplot(y_test, y_pred )"
   ]
  },
  {
   "cell_type": "markdown",
   "metadata": {},
   "source": [
    "## 1.2) Only US and UK Movies"
   ]
  },
  {
   "cell_type": "code",
   "execution_count": 30,
   "metadata": {},
   "outputs": [
    {
     "data": {
      "text/html": [
       "<div>\n",
       "<style scoped>\n",
       "    .dataframe tbody tr th:only-of-type {\n",
       "        vertical-align: middle;\n",
       "    }\n",
       "\n",
       "    .dataframe tbody tr th {\n",
       "        vertical-align: top;\n",
       "    }\n",
       "\n",
       "    .dataframe thead th {\n",
       "        text-align: right;\n",
       "    }\n",
       "</style>\n",
       "<table border=\"1\" class=\"dataframe\">\n",
       "  <thead>\n",
       "    <tr style=\"text-align: right;\">\n",
       "      <th></th>\n",
       "      <th>duration</th>\n",
       "      <th>cast_total_facebook_likes</th>\n",
       "      <th>facenumber_in_poster</th>\n",
       "      <th>budget</th>\n",
       "      <th>Biography</th>\n",
       "      <th>Comedy</th>\n",
       "      <th>Crime</th>\n",
       "      <th>Drama</th>\n",
       "      <th>Romance</th>\n",
       "      <th>Mystery_Thriller_Horror</th>\n",
       "      <th>...</th>\n",
       "      <th>History_War</th>\n",
       "      <th>Others</th>\n",
       "      <th>director_rank</th>\n",
       "      <th>actor1_rank</th>\n",
       "      <th>actor2_rank</th>\n",
       "      <th>actor3_rank</th>\n",
       "      <th>gross_budget_ratio</th>\n",
       "      <th>content_rating_PG</th>\n",
       "      <th>content_rating_PG-13</th>\n",
       "      <th>content_rating_R</th>\n",
       "    </tr>\n",
       "  </thead>\n",
       "  <tbody>\n",
       "    <tr>\n",
       "      <td>0</td>\n",
       "      <td>123.0</td>\n",
       "      <td>22209</td>\n",
       "      <td>1.0</td>\n",
       "      <td>4.800000e+07</td>\n",
       "      <td>0</td>\n",
       "      <td>1</td>\n",
       "      <td>0</td>\n",
       "      <td>0</td>\n",
       "      <td>1</td>\n",
       "      <td>0</td>\n",
       "      <td>...</td>\n",
       "      <td>0</td>\n",
       "      <td>0</td>\n",
       "      <td>8</td>\n",
       "      <td>6</td>\n",
       "      <td>3</td>\n",
       "      <td>4</td>\n",
       "      <td>0.981155</td>\n",
       "      <td>0</td>\n",
       "      <td>1</td>\n",
       "      <td>0</td>\n",
       "    </tr>\n",
       "    <tr>\n",
       "      <td>3</td>\n",
       "      <td>148.0</td>\n",
       "      <td>2566</td>\n",
       "      <td>1.0</td>\n",
       "      <td>2.700000e+07</td>\n",
       "      <td>0</td>\n",
       "      <td>1</td>\n",
       "      <td>1</td>\n",
       "      <td>0</td>\n",
       "      <td>0</td>\n",
       "      <td>0</td>\n",
       "      <td>...</td>\n",
       "      <td>0</td>\n",
       "      <td>1</td>\n",
       "      <td>8</td>\n",
       "      <td>3</td>\n",
       "      <td>3</td>\n",
       "      <td>4</td>\n",
       "      <td>2.007407</td>\n",
       "      <td>0</td>\n",
       "      <td>0</td>\n",
       "      <td>1</td>\n",
       "    </tr>\n",
       "    <tr>\n",
       "      <td>5</td>\n",
       "      <td>124.0</td>\n",
       "      <td>1462</td>\n",
       "      <td>0.0</td>\n",
       "      <td>2.000000e+07</td>\n",
       "      <td>1</td>\n",
       "      <td>1</td>\n",
       "      <td>0</td>\n",
       "      <td>0</td>\n",
       "      <td>0</td>\n",
       "      <td>0</td>\n",
       "      <td>...</td>\n",
       "      <td>0</td>\n",
       "      <td>1</td>\n",
       "      <td>5</td>\n",
       "      <td>3</td>\n",
       "      <td>2</td>\n",
       "      <td>3</td>\n",
       "      <td>0.100000</td>\n",
       "      <td>1</td>\n",
       "      <td>0</td>\n",
       "      <td>0</td>\n",
       "    </tr>\n",
       "    <tr>\n",
       "      <td>6</td>\n",
       "      <td>124.0</td>\n",
       "      <td>2667</td>\n",
       "      <td>0.0</td>\n",
       "      <td>5.166449e+07</td>\n",
       "      <td>1</td>\n",
       "      <td>0</td>\n",
       "      <td>0</td>\n",
       "      <td>1</td>\n",
       "      <td>0</td>\n",
       "      <td>0</td>\n",
       "      <td>...</td>\n",
       "      <td>0</td>\n",
       "      <td>1</td>\n",
       "      <td>7</td>\n",
       "      <td>3</td>\n",
       "      <td>4</td>\n",
       "      <td>4</td>\n",
       "      <td>1.546517</td>\n",
       "      <td>1</td>\n",
       "      <td>0</td>\n",
       "      <td>0</td>\n",
       "    </tr>\n",
       "    <tr>\n",
       "      <td>11</td>\n",
       "      <td>325.0</td>\n",
       "      <td>14255</td>\n",
       "      <td>0.0</td>\n",
       "      <td>4.400000e+07</td>\n",
       "      <td>0</td>\n",
       "      <td>0</td>\n",
       "      <td>0</td>\n",
       "      <td>1</td>\n",
       "      <td>0</td>\n",
       "      <td>0</td>\n",
       "      <td>...</td>\n",
       "      <td>0</td>\n",
       "      <td>1</td>\n",
       "      <td>7</td>\n",
       "      <td>6</td>\n",
       "      <td>3</td>\n",
       "      <td>5</td>\n",
       "      <td>0.034091</td>\n",
       "      <td>0</td>\n",
       "      <td>0</td>\n",
       "      <td>1</td>\n",
       "    </tr>\n",
       "    <tr>\n",
       "      <td>...</td>\n",
       "      <td>...</td>\n",
       "      <td>...</td>\n",
       "      <td>...</td>\n",
       "      <td>...</td>\n",
       "      <td>...</td>\n",
       "      <td>...</td>\n",
       "      <td>...</td>\n",
       "      <td>...</td>\n",
       "      <td>...</td>\n",
       "      <td>...</td>\n",
       "      <td>...</td>\n",
       "      <td>...</td>\n",
       "      <td>...</td>\n",
       "      <td>...</td>\n",
       "      <td>...</td>\n",
       "      <td>...</td>\n",
       "      <td>...</td>\n",
       "      <td>...</td>\n",
       "      <td>...</td>\n",
       "      <td>...</td>\n",
       "      <td>...</td>\n",
       "    </tr>\n",
       "    <tr>\n",
       "      <td>3846</td>\n",
       "      <td>121.0</td>\n",
       "      <td>6617</td>\n",
       "      <td>0.0</td>\n",
       "      <td>5.000000e+06</td>\n",
       "      <td>0</td>\n",
       "      <td>0</td>\n",
       "      <td>0</td>\n",
       "      <td>1</td>\n",
       "      <td>0</td>\n",
       "      <td>0</td>\n",
       "      <td>...</td>\n",
       "      <td>0</td>\n",
       "      <td>0</td>\n",
       "      <td>7</td>\n",
       "      <td>4</td>\n",
       "      <td>3</td>\n",
       "      <td>4</td>\n",
       "      <td>0.940072</td>\n",
       "      <td>0</td>\n",
       "      <td>1</td>\n",
       "      <td>0</td>\n",
       "    </tr>\n",
       "    <tr>\n",
       "      <td>3847</td>\n",
       "      <td>92.0</td>\n",
       "      <td>17860</td>\n",
       "      <td>0.0</td>\n",
       "      <td>3.500000e+07</td>\n",
       "      <td>0</td>\n",
       "      <td>1</td>\n",
       "      <td>0</td>\n",
       "      <td>0</td>\n",
       "      <td>0</td>\n",
       "      <td>0</td>\n",
       "      <td>...</td>\n",
       "      <td>0</td>\n",
       "      <td>0</td>\n",
       "      <td>7</td>\n",
       "      <td>5</td>\n",
       "      <td>3</td>\n",
       "      <td>4</td>\n",
       "      <td>1.579766</td>\n",
       "      <td>0</td>\n",
       "      <td>0</td>\n",
       "      <td>1</td>\n",
       "    </tr>\n",
       "    <tr>\n",
       "      <td>3848</td>\n",
       "      <td>100.0</td>\n",
       "      <td>18786</td>\n",
       "      <td>9.0</td>\n",
       "      <td>2.000000e+07</td>\n",
       "      <td>0</td>\n",
       "      <td>1</td>\n",
       "      <td>0</td>\n",
       "      <td>0</td>\n",
       "      <td>0</td>\n",
       "      <td>0</td>\n",
       "      <td>...</td>\n",
       "      <td>0</td>\n",
       "      <td>0</td>\n",
       "      <td>7</td>\n",
       "      <td>5</td>\n",
       "      <td>5</td>\n",
       "      <td>5</td>\n",
       "      <td>2.773065</td>\n",
       "      <td>0</td>\n",
       "      <td>0</td>\n",
       "      <td>1</td>\n",
       "    </tr>\n",
       "    <tr>\n",
       "      <td>3849</td>\n",
       "      <td>92.0</td>\n",
       "      <td>2848</td>\n",
       "      <td>4.0</td>\n",
       "      <td>5.000000e+06</td>\n",
       "      <td>0</td>\n",
       "      <td>1</td>\n",
       "      <td>0</td>\n",
       "      <td>0</td>\n",
       "      <td>0</td>\n",
       "      <td>0</td>\n",
       "      <td>...</td>\n",
       "      <td>0</td>\n",
       "      <td>0</td>\n",
       "      <td>5</td>\n",
       "      <td>2</td>\n",
       "      <td>4</td>\n",
       "      <td>4</td>\n",
       "      <td>2.335036</td>\n",
       "      <td>0</td>\n",
       "      <td>0</td>\n",
       "      <td>1</td>\n",
       "    </tr>\n",
       "    <tr>\n",
       "      <td>3851</td>\n",
       "      <td>120.0</td>\n",
       "      <td>1810</td>\n",
       "      <td>11.0</td>\n",
       "      <td>5.000000e+06</td>\n",
       "      <td>0</td>\n",
       "      <td>0</td>\n",
       "      <td>0</td>\n",
       "      <td>1</td>\n",
       "      <td>0</td>\n",
       "      <td>0</td>\n",
       "      <td>...</td>\n",
       "      <td>0</td>\n",
       "      <td>0</td>\n",
       "      <td>3</td>\n",
       "      <td>2</td>\n",
       "      <td>3</td>\n",
       "      <td>4</td>\n",
       "      <td>4.154614</td>\n",
       "      <td>1</td>\n",
       "      <td>0</td>\n",
       "      <td>0</td>\n",
       "    </tr>\n",
       "  </tbody>\n",
       "</table>\n",
       "<p>3032 rows × 23 columns</p>\n",
       "</div>"
      ],
      "text/plain": [
       "      duration  cast_total_facebook_likes  facenumber_in_poster        budget  \\\n",
       "0        123.0                      22209                   1.0  4.800000e+07   \n",
       "3        148.0                       2566                   1.0  2.700000e+07   \n",
       "5        124.0                       1462                   0.0  2.000000e+07   \n",
       "6        124.0                       2667                   0.0  5.166449e+07   \n",
       "11       325.0                      14255                   0.0  4.400000e+07   \n",
       "...        ...                        ...                   ...           ...   \n",
       "3846     121.0                       6617                   0.0  5.000000e+06   \n",
       "3847      92.0                      17860                   0.0  3.500000e+07   \n",
       "3848     100.0                      18786                   9.0  2.000000e+07   \n",
       "3849      92.0                       2848                   4.0  5.000000e+06   \n",
       "3851     120.0                       1810                  11.0  5.000000e+06   \n",
       "\n",
       "      Biography  Comedy  Crime  Drama  Romance  Mystery_Thriller_Horror  ...  \\\n",
       "0             0       1      0      0        1                        0  ...   \n",
       "3             0       1      1      0        0                        0  ...   \n",
       "5             1       1      0      0        0                        0  ...   \n",
       "6             1       0      0      1        0                        0  ...   \n",
       "11            0       0      0      1        0                        0  ...   \n",
       "...         ...     ...    ...    ...      ...                      ...  ...   \n",
       "3846          0       0      0      1        0                        0  ...   \n",
       "3847          0       1      0      0        0                        0  ...   \n",
       "3848          0       1      0      0        0                        0  ...   \n",
       "3849          0       1      0      0        0                        0  ...   \n",
       "3851          0       0      0      1        0                        0  ...   \n",
       "\n",
       "      History_War  Others  director_rank  actor1_rank  actor2_rank  \\\n",
       "0               0       0              8            6            3   \n",
       "3               0       1              8            3            3   \n",
       "5               0       1              5            3            2   \n",
       "6               0       1              7            3            4   \n",
       "11              0       1              7            6            3   \n",
       "...           ...     ...            ...          ...          ...   \n",
       "3846            0       0              7            4            3   \n",
       "3847            0       0              7            5            3   \n",
       "3848            0       0              7            5            5   \n",
       "3849            0       0              5            2            4   \n",
       "3851            0       0              3            2            3   \n",
       "\n",
       "      actor3_rank  gross_budget_ratio  content_rating_PG  \\\n",
       "0               4            0.981155                  0   \n",
       "3               4            2.007407                  0   \n",
       "5               3            0.100000                  1   \n",
       "6               4            1.546517                  1   \n",
       "11              5            0.034091                  0   \n",
       "...           ...                 ...                ...   \n",
       "3846            4            0.940072                  0   \n",
       "3847            4            1.579766                  0   \n",
       "3848            5            2.773065                  0   \n",
       "3849            4            2.335036                  0   \n",
       "3851            4            4.154614                  1   \n",
       "\n",
       "      content_rating_PG-13  content_rating_R  \n",
       "0                        1                 0  \n",
       "3                        0                 1  \n",
       "5                        0                 0  \n",
       "6                        0                 0  \n",
       "11                       0                 1  \n",
       "...                    ...               ...  \n",
       "3846                     1                 0  \n",
       "3847                     0                 1  \n",
       "3848                     0                 1  \n",
       "3849                     0                 1  \n",
       "3851                     0                 0  \n",
       "\n",
       "[3032 rows x 23 columns]"
      ]
     },
     "execution_count": 30,
     "metadata": {},
     "output_type": "execute_result"
    }
   ],
   "source": [
    "classification2_df= classification_df.copy()\n",
    "classification2_df = classification2_df[(classification2_df.country=='USA') | (classification2_df.country=='UK')]\n",
    "classification2_df = classification2_df[(classification2_df.language=='English')]\n",
    "classification2_df=classification2_df.drop(columns=['country','language'])\n",
    "df3 = pd.get_dummies(classification2_df, columns=['content_rating'])\n",
    "df3 = df3.drop(columns =['content_rating_Not Rated','content_rating_G','content_rating_X','content_rating_NC-17'])\n",
    "Q1 = df3['gross_budget_ratio'].quantile(0.25)\n",
    "Q3 = df3['gross_budget_ratio'].quantile(0.75)\n",
    "IQR = Q3 - Q1    #IQR is interquartile range. \n",
    "\n",
    "filtering = (df3['gross_budget_ratio'] >= Q1 - 1.5 * IQR) & (df3['gross_budget_ratio'] <= Q3 + 1.5 *IQR)\n",
    "df3=df3.loc[filtering]\n",
    "df3"
   ]
  },
  {
   "cell_type": "markdown",
   "metadata": {},
   "source": [
    "## 1.2.1) Without log and feature elimination"
   ]
  },
  {
   "cell_type": "code",
   "execution_count": 31,
   "metadata": {},
   "outputs": [
    {
     "name": "stdout",
     "output_type": "stream",
     "text": [
      "Dimensionality of X_train: (2122, 22)\n",
      "Dimensionality of X_test : (910, 22)\n",
      "Dimensionality of y_train: (2122,)\n",
      "Dimensionality of y_test : (910,)\n"
     ]
    }
   ],
   "source": [
    "X = df3.drop(columns=['gross_budget_ratio'])\n",
    "y = df3['gross_budget_ratio']\n",
    "X_train, X_test, y_train, y_test = train_test_split(X, y, test_size=0.3, random_state=10) \n",
    "print(f\"Dimensionality of X_train: {X_train.shape}\")\n",
    "print(f\"Dimensionality of X_test : {X_test.shape}\")\n",
    "print(f\"Dimensionality of y_train: {y_train.shape}\")\n",
    "print(f\"Dimensionality of y_test : {y_test.shape}\")"
   ]
  },
  {
   "cell_type": "markdown",
   "metadata": {},
   "source": [
    "### 1.2.1.1) Ridge Regression"
   ]
  },
  {
   "cell_type": "code",
   "execution_count": 32,
   "metadata": {},
   "outputs": [],
   "source": [
    "MMScaler = MinMaxScaler()\n",
    "X_train_scaled = MMScaler.fit_transform(X_train)\n",
    "X_test_scaled = MMScaler.transform(X_test)"
   ]
  },
  {
   "cell_type": "code",
   "execution_count": 33,
   "metadata": {},
   "outputs": [
    {
     "name": "stdout",
     "output_type": "stream",
     "text": [
      "ridge best parameters: {'alpha': 3.0}\n",
      "ridge score: -1.0940714023395377\n",
      "ridge MSE: 1.0940714023395377\n",
      "ridge best estimator coef: [ 1.25158574  0.28333047  0.09763841 -1.07620519 -0.11626944  0.13019217\n",
      " -0.06405421 -0.21114166 -0.0398634   0.02859864 -0.06971027  0.35752179\n",
      " -0.05087104 -0.04589113 -0.11073002  0.83639887  0.11384006  0.25284574\n",
      "  0.23055168  0.13708254  0.24894787  0.04382155]\n"
     ]
    }
   ],
   "source": [
    "parameters = {'alpha': np.concatenate((np.arange(0.1,2,0.1), np.arange(2, 5, 0.5), np.arange(5, 25, 1)))}\n",
    "ridge = Ridge()\n",
    "clf1 = GridSearchCV(ridge, parameters, scoring ='neg_mean_squared_error')\n",
    "clf1.fit(X_train_scaled, y_train)\n",
    "\n",
    "y_pred = clf1.predict(X_test_scaled)\n",
    "\n",
    "print(\"ridge best parameters:\", clf1.best_params_)\n",
    "print(\"ridge score:\", clf1.score(X_test_scaled, y_test))\n",
    "print(\"ridge MSE:\", mean_squared_error(y_test, clf1.predict(X_test_scaled)))\n",
    "print(\"ridge best estimator coef:\", clf1.best_estimator_.coef_)"
   ]
  },
  {
   "cell_type": "code",
   "execution_count": 34,
   "metadata": {},
   "outputs": [
    {
     "data": {
      "text/plain": [
       "<matplotlib.axes._subplots.AxesSubplot at 0x1ce2d4bfd08>"
      ]
     },
     "execution_count": 34,
     "metadata": {},
     "output_type": "execute_result"
    },
    {
     "data": {
      "image/png": "[encoded data removed]",
      "text/plain": [
       "<Figure size 432x288 with 1 Axes>"
      ]
     },
     "metadata": {
      "needs_background": "light"
     },
     "output_type": "display_data"
    }
   ],
   "source": [
    "sns.regplot(y_test, y_pred )"
   ]
  },
  {
   "cell_type": "markdown",
   "metadata": {},
   "source": [
    "### 1.2.1.2) Lasso Regression"
   ]
  },
  {
   "cell_type": "code",
   "execution_count": 35,
   "metadata": {},
   "outputs": [
    {
     "name": "stdout",
     "output_type": "stream",
     "text": [
      "Lasso best parameters: {'alpha': 0.1}\n",
      "Lasso score: -1.1678930038823336\n",
      "Lasso MSE: 1.1678930038823336\n",
      "Lasso best estimator coef: [ 0.  0.  0. -0. -0.  0. -0. -0.  0. -0. -0.  0. -0. -0. -0.  0.  0.  0.\n",
      "  0.  0.  0. -0.]\n"
     ]
    }
   ],
   "source": [
    "parameters = {'alpha': np.concatenate((np.arange(0.1,2,0.1), np.arange(2, 5, 0.5), np.arange(5, 25, 1)))}\n",
    "Lasso = linear_model.Lasso()\n",
    "clf2 = GridSearchCV(Lasso, parameters, scoring ='neg_mean_squared_error')\n",
    "clf2.fit(X_train_scaled, y_train)\n",
    "\n",
    "y_pred = clf2.predict(X_test_scaled)\n",
    "\n",
    "print(\"Lasso best parameters:\", clf2.best_params_)\n",
    "print(\"Lasso score:\", clf2.score(X_test_scaled, y_test))\n",
    "print(\"Lasso MSE:\", mean_squared_error(y_test, clf2.predict(X_test_scaled)))\n",
    "print(\"Lasso best estimator coef:\", clf2.best_estimator_.coef_)"
   ]
  },
  {
   "cell_type": "code",
   "execution_count": 36,
   "metadata": {},
   "outputs": [
    {
     "data": {
      "text/plain": [
       "<matplotlib.axes._subplots.AxesSubplot at 0x1ce2d0f0c08>"
      ]
     },
     "execution_count": 36,
     "metadata": {},
     "output_type": "execute_result"
    },
    {
     "data": {
      "image/png": "[encoded data removed]",
      "text/plain": [
       "<Figure size 432x288 with 1 Axes>"
      ]
     },
     "metadata": {
      "needs_background": "light"
     },
     "output_type": "display_data"
    }
   ],
   "source": [
    "sns.regplot(y_test, y_pred )"
   ]
  },
  {
   "cell_type": "markdown",
   "metadata": {},
   "source": [
    "### 1.2.1.3) Decision Tree Regressor"
   ]
  },
  {
   "cell_type": "code",
   "execution_count": 37,
   "metadata": {},
   "outputs": [
    {
     "name": "stdout",
     "output_type": "stream",
     "text": [
      "DTR best parameters: {'criterion': 'mse', 'max_depth': 100, 'min_samples_leaf': 0.25, 'min_samples_split': 0.001}\n",
      "DTR score: -1.1527421087747125\n",
      "DTR MSE: 1.1527421087747125\n"
     ]
    }
   ],
   "source": [
    "DTSplitList=[0.001,0.01,0.05,0.1,0.5,0.99]\n",
    "DTLeafList=[0.0005,0.005,0.025,0.05,0.1,0.25,0.5]\n",
    "criterion =['mse']\n",
    "parameters = {'criterion':criterion,'max_depth':list(range(100,0,-3)),'min_samples_leaf': DTLeafList, 'min_samples_split':DTSplitList}\n",
    "DTR = DecisionTreeRegressor(random_state=10)\n",
    "clf3 = GridSearchCV(DTR, parameters, scoring ='neg_mean_squared_error')\n",
    "clf3.fit(X_train, y_train)\n",
    "\n",
    "y_pred = clf3.predict(X_test)\n",
    "\n",
    "print(\"DTR best parameters:\", clf3.best_params_)\n",
    "print(\"DTR score:\", clf3.score(X_test, y_test))\n",
    "print(\"DTR MSE:\", mean_squared_error(y_test, clf3.predict(X_test)))"
   ]
  },
  {
   "cell_type": "code",
   "execution_count": 38,
   "metadata": {},
   "outputs": [
    {
     "data": {
      "text/plain": [
       "<matplotlib.axes._subplots.AxesSubplot at 0x1ce3086a5c8>"
      ]
     },
     "execution_count": 38,
     "metadata": {},
     "output_type": "execute_result"
    },
    {
     "data": {
      "image/png": "[encoded data removed]",
      "text/plain": [
       "<Figure size 432x288 with 1 Axes>"
      ]
     },
     "metadata": {
      "needs_background": "light"
     },
     "output_type": "display_data"
    }
   ],
   "source": [
    "sns.regplot(y_test, y_pred )"
   ]
  },
  {
   "cell_type": "markdown",
   "metadata": {},
   "source": [
    "### 1.2.1.4) Random Forest Regressor"
   ]
  },
  {
   "cell_type": "code",
   "execution_count": 39,
   "metadata": {},
   "outputs": [
    {
     "name": "stdout",
     "output_type": "stream",
     "text": [
      "RFR best parameters: {'criterion': 'mse', 'max_depth': 10, 'n_estimators': 200}\n",
      "RFR score: -1.0647697895423964\n",
      "RFR MSE: 1.0647697895423964\n"
     ]
    }
   ],
   "source": [
    "RFEstimatorList = [25,50,100,200]\n",
    "criterion =['mse']\n",
    "parameters = {'criterion':criterion,'max_depth':list(range(100,0,-10)),'n_estimators':RFEstimatorList}\n",
    "\n",
    "RFR = RandomForestRegressor(random_state=10)\n",
    "clf4 = GridSearchCV(RFR, parameters, cv=5, verbose=0,scoring ='neg_mean_squared_error')\n",
    "clf4.fit(X_train, y_train)\n",
    "\n",
    "y_pred = clf4.predict(X_test)\n",
    "\n",
    "print(\"RFR best parameters:\", clf4.best_params_)\n",
    "print(\"RFR score:\", clf4.score(X_test, y_test))\n",
    "print(\"RFR MSE:\", mean_squared_error(y_test, clf4.predict(X_test)))"
   ]
  },
  {
   "cell_type": "code",
   "execution_count": 40,
   "metadata": {},
   "outputs": [
    {
     "data": {
      "text/plain": [
       "<matplotlib.axes._subplots.AxesSubplot at 0x1ce2cfbac48>"
      ]
     },
     "execution_count": 40,
     "metadata": {},
     "output_type": "execute_result"
    },
    {
     "data": {
      "image/png": "[encoded data removed]",
      "text/plain": [
       "<Figure size 432x288 with 1 Axes>"
      ]
     },
     "metadata": {
      "needs_background": "light"
     },
     "output_type": "display_data"
    }
   ],
   "source": [
    "sns.regplot(y_test, y_pred )"
   ]
  },
  {
   "cell_type": "markdown",
   "metadata": {},
   "source": [
    "## 1.2.2) With taking log and feature elimination"
   ]
  },
  {
   "cell_type": "markdown",
   "metadata": {},
   "source": [
    "### log"
   ]
  },
  {
   "cell_type": "code",
   "execution_count": 41,
   "metadata": {},
   "outputs": [],
   "source": [
    "df4 = df3.copy()\n",
    "df4['budget'] = np.log(df4['budget'])\n",
    "df4['cast_total_facebook_likes'] = df4['cast_total_facebook_likes'].transform(lambda x: 0 if x <= 3 else np.log(x))"
   ]
  },
  {
   "cell_type": "markdown",
   "metadata": {},
   "source": [
    "### elimination"
   ]
  },
  {
   "cell_type": "code",
   "execution_count": 42,
   "metadata": {},
   "outputs": [
    {
     "data": {
      "text/plain": [
       "Index(['duration', 'cast_total_facebook_likes', 'facenumber_in_poster',\n",
       "       'budget', 'Biography', 'Comedy', 'Crime', 'Drama', 'Romance',\n",
       "       'Mystery_Thriller_Horror', 'Sci-Fi_Fantasy', 'Family_Animation',\n",
       "       'Action_Adventure', 'History_War', 'Others', 'director_rank',\n",
       "       'actor1_rank', 'actor2_rank', 'actor3_rank', 'gross_budget_ratio',\n",
       "       'content_rating_PG', 'content_rating_PG-13', 'content_rating_R'],\n",
       "      dtype='object')"
      ]
     },
     "execution_count": 42,
     "metadata": {},
     "output_type": "execute_result"
    }
   ],
   "source": [
    "df4.columns"
   ]
  },
  {
   "cell_type": "code",
   "execution_count": 43,
   "metadata": {},
   "outputs": [],
   "source": [
    "df4 = df4.drop(columns = ['facenumber_in_poster', 'Biography', 'Crime',\n",
    "       'Mystery_Thriller_Horror', 'Sci-Fi_Fantasy',\n",
    "       'History_War'])"
   ]
  },
  {
   "cell_type": "code",
   "execution_count": 44,
   "metadata": {},
   "outputs": [
    {
     "name": "stdout",
     "output_type": "stream",
     "text": [
      "Dimensionality of X_train: (2122, 16)\n",
      "Dimensionality of X_test : (910, 16)\n",
      "Dimensionality of y_train: (2122,)\n",
      "Dimensionality of y_test : (910,)\n"
     ]
    }
   ],
   "source": [
    "X = df4.drop(columns=['gross_budget_ratio'])\n",
    "y = df4['gross_budget_ratio']\n",
    "X_train, X_test, y_train, y_test = train_test_split(X, y, test_size=0.3, random_state=10) \n",
    "print(f\"Dimensionality of X_train: {X_train.shape}\")\n",
    "print(f\"Dimensionality of X_test : {X_test.shape}\")\n",
    "print(f\"Dimensionality of y_train: {y_train.shape}\")\n",
    "print(f\"Dimensionality of y_test : {y_test.shape}\")"
   ]
  },
  {
   "cell_type": "markdown",
   "metadata": {},
   "source": [
    "### 1.2.2.1) Ridge Regression"
   ]
  },
  {
   "cell_type": "code",
   "execution_count": 45,
   "metadata": {},
   "outputs": [],
   "source": [
    "MMScaler = MinMaxScaler()\n",
    "X_train_scaled = MMScaler.fit_transform(X_train)\n",
    "X_test_scaled = MMScaler.transform(X_test)"
   ]
  },
  {
   "cell_type": "code",
   "execution_count": 46,
   "metadata": {},
   "outputs": [
    {
     "name": "stdout",
     "output_type": "stream",
     "text": [
      "ridge best parameters: {'alpha': 1.1}\n",
      "ridge score: -1.1240035064143705\n",
      "ridge MSE: 1.1240035064143705\n",
      "ridge best estimator coef: [ 1.311639    0.79578004 -1.19070713  0.16239326 -0.18766213 -0.02266204\n",
      "  0.33816121 -0.09653002 -0.09683504  0.70176541 -0.13457132  0.13546421\n",
      "  0.12769961  0.21607781  0.3214669   0.14807552]\n"
     ]
    }
   ],
   "source": [
    "parameters = {'alpha': np.concatenate((np.arange(0.1,2,0.1), np.arange(2, 5, 0.5), np.arange(5, 25, 1)))}\n",
    "ridge = Ridge()\n",
    "clf1 = GridSearchCV(ridge, parameters, scoring ='neg_mean_squared_error')\n",
    "clf1.fit(X_train_scaled, y_train)\n",
    "\n",
    "y_pred = clf1.predict(X_test_scaled)\n",
    "\n",
    "print(\"ridge best parameters:\", clf1.best_params_)\n",
    "print(\"ridge score:\", clf1.score(X_test_scaled, y_test))\n",
    "print(\"ridge MSE:\", mean_squared_error(y_test, clf1.predict(X_test_scaled)))\n",
    "print(\"ridge best estimator coef:\", clf1.best_estimator_.coef_)"
   ]
  },
  {
   "cell_type": "code",
   "execution_count": 47,
   "metadata": {},
   "outputs": [
    {
     "data": {
      "text/plain": [
       "<matplotlib.axes._subplots.AxesSubplot at 0x1ce2d40e648>"
      ]
     },
     "execution_count": 47,
     "metadata": {},
     "output_type": "execute_result"
    },
    {
     "data": {
      "image/png": "[encoded data removed]",
      "text/plain": [
       "<Figure size 432x288 with 1 Axes>"
      ]
     },
     "metadata": {
      "needs_background": "light"
     },
     "output_type": "display_data"
    }
   ],
   "source": [
    "sns.regplot(y_test, y_pred )"
   ]
  },
  {
   "cell_type": "markdown",
   "metadata": {},
   "source": [
    "### 1.2.2.2) Lasso Regression"
   ]
  },
  {
   "cell_type": "code",
   "execution_count": 48,
   "metadata": {},
   "outputs": [
    {
     "name": "stdout",
     "output_type": "stream",
     "text": [
      "Lasso best parameters: {'alpha': 0.1}\n",
      "Lasso score: -1.1678930038823336\n",
      "Lasso MSE: 1.1678930038823336\n",
      "Lasso best estimator coef: [ 0.  0. -0.  0. -0.  0.  0. -0. -0.  0.  0.  0.  0.  0.  0. -0.]\n"
     ]
    }
   ],
   "source": [
    "parameters = {'alpha': np.concatenate((np.arange(0.1,2,0.1), np.arange(2, 5, 0.5), np.arange(5, 25, 1)))}\n",
    "Lasso = linear_model.Lasso()\n",
    "clf2 = GridSearchCV(Lasso, parameters, scoring ='neg_mean_squared_error')\n",
    "clf2.fit(X_train_scaled, y_train)\n",
    "\n",
    "y_pred = clf2.predict(X_test_scaled)\n",
    "\n",
    "print(\"Lasso best parameters:\", clf2.best_params_)\n",
    "print(\"Lasso score:\", clf2.score(X_test_scaled, y_test))\n",
    "print(\"Lasso MSE:\", mean_squared_error(y_test, clf2.predict(X_test_scaled)))\n",
    "print(\"Lasso best estimator coef:\", clf2.best_estimator_.coef_)"
   ]
  },
  {
   "cell_type": "code",
   "execution_count": 49,
   "metadata": {},
   "outputs": [
    {
     "data": {
      "text/plain": [
       "<matplotlib.axes._subplots.AxesSubplot at 0x1ce30606fc8>"
      ]
     },
     "execution_count": 49,
     "metadata": {},
     "output_type": "execute_result"
    },
    {
     "data": {
      "image/png": "[encoded data removed]",
      "text/plain": [
       "<Figure size 432x288 with 1 Axes>"
      ]
     },
     "metadata": {
      "needs_background": "light"
     },
     "output_type": "display_data"
    }
   ],
   "source": [
    "sns.regplot(y_test, y_pred )"
   ]
  },
  {
   "cell_type": "markdown",
   "metadata": {},
   "source": [
    "### 1.2.2.3) Decision Tree Regressor"
   ]
  },
  {
   "cell_type": "code",
   "execution_count": 50,
   "metadata": {},
   "outputs": [
    {
     "name": "stdout",
     "output_type": "stream",
     "text": [
      "DTR best parameters: {'criterion': 'mse', 'max_depth': 100, 'min_samples_leaf': 0.25, 'min_samples_split': 0.001}\n",
      "DTR score: -1.1527421087747125\n",
      "DTR MSE: 1.1527421087747125\n"
     ]
    }
   ],
   "source": [
    "DTSplitList=[0.001,0.01,0.05,0.1,0.5,0.99]\n",
    "DTLeafList=[0.0005,0.005,0.025,0.05,0.1,0.25,0.5]\n",
    "criterion =['mse']\n",
    "parameters = {'criterion':criterion,'max_depth':list(range(100,0,-3)),'min_samples_leaf': DTLeafList, 'min_samples_split':DTSplitList}\n",
    "DTR = DecisionTreeRegressor(random_state=10)\n",
    "clf3 = GridSearchCV(DTR, parameters, scoring ='neg_mean_squared_error')\n",
    "clf3.fit(X_train, y_train)\n",
    "\n",
    "y_pred = clf3.predict(X_test)\n",
    "\n",
    "print(\"DTR best parameters:\", clf3.best_params_)\n",
    "print(\"DTR score:\", clf3.score(X_test, y_test))\n",
    "print(\"DTR MSE:\", mean_squared_error(y_test, clf3.predict(X_test)))"
   ]
  },
  {
   "cell_type": "code",
   "execution_count": 51,
   "metadata": {},
   "outputs": [
    {
     "data": {
      "text/plain": [
       "<matplotlib.axes._subplots.AxesSubplot at 0x1ce30a2cdc8>"
      ]
     },
     "execution_count": 51,
     "metadata": {},
     "output_type": "execute_result"
    },
    {
     "data": {
      "image/png": "[encoded data removed]",
      "text/plain": [
       "<Figure size 432x288 with 1 Axes>"
      ]
     },
     "metadata": {
      "needs_background": "light"
     },
     "output_type": "display_data"
    }
   ],
   "source": [
    "sns.regplot(y_test, y_pred )"
   ]
  },
  {
   "cell_type": "markdown",
   "metadata": {},
   "source": [
    "### 1.2.2.4) Random Forest Regressor"
   ]
  },
  {
   "cell_type": "code",
   "execution_count": 52,
   "metadata": {},
   "outputs": [
    {
     "name": "stdout",
     "output_type": "stream",
     "text": [
      "RFR best parameters: {'criterion': 'mse', 'max_depth': 10, 'n_estimators': 200}\n",
      "RFR score: -1.0735460182038457\n",
      "RFR MSE: 1.0735460182038457\n"
     ]
    }
   ],
   "source": [
    "RFEstimatorList = [25,50,100,200]\n",
    "criterion =['mse']\n",
    "parameters = {'criterion':criterion,'max_depth':list(range(100,0,-10)),'n_estimators':RFEstimatorList}\n",
    "\n",
    "RFR = RandomForestRegressor(random_state=10)\n",
    "clf4 = GridSearchCV(RFR, parameters, cv=5, verbose=0,scoring ='neg_mean_squared_error')\n",
    "clf4.fit(X_train, y_train)\n",
    "\n",
    "y_pred = clf4.predict(X_test)\n",
    "\n",
    "print(\"RFR best parameters:\", clf4.best_params_)\n",
    "print(\"RFR score:\", clf4.score(X_test, y_test))\n",
    "print(\"RFR MSE:\", mean_squared_error(y_test, clf4.predict(X_test)))"
   ]
  },
  {
   "cell_type": "code",
   "execution_count": 53,
   "metadata": {},
   "outputs": [
    {
     "data": {
      "text/plain": [
       "<matplotlib.axes._subplots.AxesSubplot at 0x1ce305f0488>"
      ]
     },
     "execution_count": 53,
     "metadata": {},
     "output_type": "execute_result"
    },
    {
     "data": {
      "image/png": "[encoded data removed]",
      "text/plain": [
       "<Figure size 432x288 with 1 Axes>"
      ]
     },
     "metadata": {
      "needs_background": "light"
     },
     "output_type": "display_data"
    }
   ],
   "source": [
    "sns.regplot(y_test, y_pred )"
   ]
  }
 ],
 "metadata": {
  "kernelspec": {
   "display_name": "Python 3",
   "language": "python",
   "name": "python3"
  },
  "language_info": {
   "codemirror_mode": {
    "name": "ipython",
    "version": 3
   },
   "file_extension": ".py",
   "mimetype": "text/x-python",
   "name": "python",
   "nbconvert_exporter": "python",
   "pygments_lexer": "ipython3",
   "version": "3.7.4"
  }
 },
 "nbformat": 4,
 "nbformat_minor": 4
}
