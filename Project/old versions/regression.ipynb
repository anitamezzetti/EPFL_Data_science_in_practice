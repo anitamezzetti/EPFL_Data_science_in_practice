{
 "cells": [
  {
   "cell_type": "code",
   "execution_count": 66,
   "metadata": {},
   "outputs": [],
   "source": [
    "from collections import Counter\n",
    "\n",
    "import numpy as np\n",
    "import pandas as pd\n",
    "pd.options.mode.chained_assignment = None  # default='warn'\n",
    "import matplotlib.pyplot as plt\n",
    "import seaborn as sns\n",
    "\n",
    "\n",
    "from sklearn.metrics import accuracy_score, recall_score, precision_score, f1_score \n",
    "from sklearn.metrics import confusion_matrix, roc_curve, auc, roc_auc_score\n",
    "\n",
    "from sklearn.model_selection import train_test_split, GridSearchCV\n",
    "from sklearn.preprocessing import StandardScaler, MinMaxScaler\n",
    "\n",
    "from sklearn.linear_model import LogisticRegression\n",
    "from sklearn.tree import DecisionTreeRegressor\n",
    "from sklearn.ensemble import RandomForestRegressor\n",
    "from sklearn.svm import SVC\n",
    "from sklearn.naive_bayes import GaussianNB\n",
    "\n",
    "from sklearn.model_selection import cross_validate\n",
    "\n",
    "movie_df = pd.read_csv(r'data/data_regression.csv')"
   ]
  },
  {
   "cell_type": "code",
   "execution_count": 67,
   "metadata": {},
   "outputs": [
    {
     "name": "stdout",
     "output_type": "stream",
     "text": [
      "(3368, 38)\n"
     ]
    },
    {
     "data": {
      "text/plain": [
       "imdb_id                       object\n",
       "director_name                 object\n",
       "num_critic_for_reviews       float64\n",
       "duration                     float64\n",
       "director_facebook_likes      float64\n",
       "actor_3_facebook_likes       float64\n",
       "actor_2_name                  object\n",
       "actor_1_facebook_likes       float64\n",
       "gross                        float64\n",
       "genres                        object\n",
       "actor_1_name                  object\n",
       "movie_title                   object\n",
       "num_voted_users                int64\n",
       "cast_total_facebook_likes      int64\n",
       "actor_3_name                  object\n",
       "facenumber_in_poster         float64\n",
       "num_user_for_reviews         float64\n",
       "language                      object\n",
       "country                       object\n",
       "content_rating                object\n",
       "budget                       float64\n",
       "title_year                   float64\n",
       "actor_2_facebook_likes       float64\n",
       "imdb_score                   float64\n",
       "movie_facebook_likes           int64\n",
       "revenue                      float64\n",
       "release_year                 float64\n",
       "popularity                   float64\n",
       "Genre_Group1                   int64\n",
       "Genre_Group2                   int64\n",
       "Genre_Group3                   int64\n",
       "Genre_Group4                   int64\n",
       "Genre_Group5                   int64\n",
       "Genre_Group6                   int64\n",
       "Genre_Group7                   int64\n",
       "Genre_Group8                   int64\n",
       "Genre_Group9                   int64\n",
       "gross_budget_ratio           float64\n",
       "dtype: object"
      ]
     },
     "execution_count": 67,
     "metadata": {},
     "output_type": "execute_result"
    }
   ],
   "source": [
    "print(movie_df.shape)\n",
    "movie_df.dtypes"
   ]
  },
  {
   "cell_type": "code",
   "execution_count": 68,
   "metadata": {},
   "outputs": [
    {
     "data": {
      "text/html": [
       "<div>\n",
       "<style scoped>\n",
       "    .dataframe tbody tr th:only-of-type {\n",
       "        vertical-align: middle;\n",
       "    }\n",
       "\n",
       "    .dataframe tbody tr th {\n",
       "        vertical-align: top;\n",
       "    }\n",
       "\n",
       "    .dataframe thead th {\n",
       "        text-align: right;\n",
       "    }\n",
       "</style>\n",
       "<table border=\"1\" class=\"dataframe\">\n",
       "  <thead>\n",
       "    <tr style=\"text-align: right;\">\n",
       "      <th></th>\n",
       "      <th>imdb_id</th>\n",
       "      <th>director_name</th>\n",
       "      <th>num_critic_for_reviews</th>\n",
       "      <th>duration</th>\n",
       "      <th>director_facebook_likes</th>\n",
       "      <th>actor_3_facebook_likes</th>\n",
       "      <th>actor_2_name</th>\n",
       "      <th>actor_1_facebook_likes</th>\n",
       "      <th>gross</th>\n",
       "      <th>genres</th>\n",
       "      <th>...</th>\n",
       "      <th>Genre_Group1</th>\n",
       "      <th>Genre_Group2</th>\n",
       "      <th>Genre_Group3</th>\n",
       "      <th>Genre_Group4</th>\n",
       "      <th>Genre_Group5</th>\n",
       "      <th>Genre_Group6</th>\n",
       "      <th>Genre_Group7</th>\n",
       "      <th>Genre_Group8</th>\n",
       "      <th>Genre_Group9</th>\n",
       "      <th>gross_budget_ratio</th>\n",
       "    </tr>\n",
       "  </thead>\n",
       "  <tbody>\n",
       "    <tr>\n",
       "      <th>0</th>\n",
       "      <td>tt0035423</td>\n",
       "      <td>James Mangold</td>\n",
       "      <td>125.0</td>\n",
       "      <td>123.0</td>\n",
       "      <td>446.0</td>\n",
       "      <td>821.0</td>\n",
       "      <td>Natasha Lyonne</td>\n",
       "      <td>20000.0</td>\n",
       "      <td>47095453.0</td>\n",
       "      <td>Comedy|Fantasy|Romance</td>\n",
       "      <td>...</td>\n",
       "      <td>0</td>\n",
       "      <td>1</td>\n",
       "      <td>0</td>\n",
       "      <td>0</td>\n",
       "      <td>0</td>\n",
       "      <td>0</td>\n",
       "      <td>1</td>\n",
       "      <td>1</td>\n",
       "      <td>0</td>\n",
       "      <td>0.981155</td>\n",
       "    </tr>\n",
       "    <tr>\n",
       "      <th>1</th>\n",
       "      <td>tt0080339</td>\n",
       "      <td>Jim Abrahams</td>\n",
       "      <td>134.0</td>\n",
       "      <td>88.0</td>\n",
       "      <td>104.0</td>\n",
       "      <td>318.0</td>\n",
       "      <td>Lloyd Bridges</td>\n",
       "      <td>628.0</td>\n",
       "      <td>83400000.0</td>\n",
       "      <td>Comedy</td>\n",
       "      <td>...</td>\n",
       "      <td>0</td>\n",
       "      <td>1</td>\n",
       "      <td>0</td>\n",
       "      <td>0</td>\n",
       "      <td>0</td>\n",
       "      <td>0</td>\n",
       "      <td>0</td>\n",
       "      <td>0</td>\n",
       "      <td>0</td>\n",
       "      <td>23.828571</td>\n",
       "    </tr>\n",
       "    <tr>\n",
       "      <th>2</th>\n",
       "      <td>tt0080453</td>\n",
       "      <td>Randal Kleiser</td>\n",
       "      <td>36.0</td>\n",
       "      <td>104.0</td>\n",
       "      <td>116.0</td>\n",
       "      <td>83.0</td>\n",
       "      <td>Christopher Atkins</td>\n",
       "      <td>1000.0</td>\n",
       "      <td>58853106.0</td>\n",
       "      <td>Adventure|Drama|Romance</td>\n",
       "      <td>...</td>\n",
       "      <td>1</td>\n",
       "      <td>0</td>\n",
       "      <td>1</td>\n",
       "      <td>0</td>\n",
       "      <td>0</td>\n",
       "      <td>0</td>\n",
       "      <td>0</td>\n",
       "      <td>1</td>\n",
       "      <td>0</td>\n",
       "      <td>13.078468</td>\n",
       "    </tr>\n",
       "    <tr>\n",
       "      <th>3</th>\n",
       "      <td>tt0080455</td>\n",
       "      <td>John Landis</td>\n",
       "      <td>125.0</td>\n",
       "      <td>148.0</td>\n",
       "      <td>644.0</td>\n",
       "      <td>326.0</td>\n",
       "      <td>Aretha Franklin</td>\n",
       "      <td>1000.0</td>\n",
       "      <td>54200000.0</td>\n",
       "      <td>Action|Comedy|Crime|Music</td>\n",
       "      <td>...</td>\n",
       "      <td>1</td>\n",
       "      <td>1</td>\n",
       "      <td>0</td>\n",
       "      <td>0</td>\n",
       "      <td>0</td>\n",
       "      <td>1</td>\n",
       "      <td>0</td>\n",
       "      <td>0</td>\n",
       "      <td>1</td>\n",
       "      <td>2.007407</td>\n",
       "    </tr>\n",
       "    <tr>\n",
       "      <th>4</th>\n",
       "      <td>tt0080487</td>\n",
       "      <td>Harold Ramis</td>\n",
       "      <td>71.0</td>\n",
       "      <td>98.0</td>\n",
       "      <td>11000.0</td>\n",
       "      <td>484.0</td>\n",
       "      <td>Rodney Dangerfield</td>\n",
       "      <td>13000.0</td>\n",
       "      <td>39800000.0</td>\n",
       "      <td>Comedy|Sport</td>\n",
       "      <td>...</td>\n",
       "      <td>0</td>\n",
       "      <td>1</td>\n",
       "      <td>0</td>\n",
       "      <td>0</td>\n",
       "      <td>0</td>\n",
       "      <td>0</td>\n",
       "      <td>0</td>\n",
       "      <td>0</td>\n",
       "      <td>1</td>\n",
       "      <td>6.633333</td>\n",
       "    </tr>\n",
       "  </tbody>\n",
       "</table>\n",
       "<p>5 rows × 38 columns</p>\n",
       "</div>"
      ],
      "text/plain": [
       "     imdb_id   director_name  num_critic_for_reviews  duration  \\\n",
       "0  tt0035423   James Mangold                   125.0     123.0   \n",
       "1  tt0080339    Jim Abrahams                   134.0      88.0   \n",
       "2  tt0080453  Randal Kleiser                    36.0     104.0   \n",
       "3  tt0080455     John Landis                   125.0     148.0   \n",
       "4  tt0080487    Harold Ramis                    71.0      98.0   \n",
       "\n",
       "   director_facebook_likes  actor_3_facebook_likes        actor_2_name  \\\n",
       "0                    446.0                   821.0      Natasha Lyonne   \n",
       "1                    104.0                   318.0       Lloyd Bridges   \n",
       "2                    116.0                    83.0  Christopher Atkins   \n",
       "3                    644.0                   326.0     Aretha Franklin   \n",
       "4                  11000.0                   484.0  Rodney Dangerfield   \n",
       "\n",
       "   actor_1_facebook_likes       gross                     genres  ...  \\\n",
       "0                 20000.0  47095453.0     Comedy|Fantasy|Romance  ...   \n",
       "1                   628.0  83400000.0                     Comedy  ...   \n",
       "2                  1000.0  58853106.0    Adventure|Drama|Romance  ...   \n",
       "3                  1000.0  54200000.0  Action|Comedy|Crime|Music  ...   \n",
       "4                 13000.0  39800000.0               Comedy|Sport  ...   \n",
       "\n",
       "  Genre_Group1 Genre_Group2  Genre_Group3  Genre_Group4 Genre_Group5  \\\n",
       "0            0            1             0             0            0   \n",
       "1            0            1             0             0            0   \n",
       "2            1            0             1             0            0   \n",
       "3            1            1             0             0            0   \n",
       "4            0            1             0             0            0   \n",
       "\n",
       "   Genre_Group6  Genre_Group7 Genre_Group8 Genre_Group9 gross_budget_ratio  \n",
       "0             0             1            1            0           0.981155  \n",
       "1             0             0            0            0          23.828571  \n",
       "2             0             0            1            0          13.078468  \n",
       "3             1             0            0            1           2.007407  \n",
       "4             0             0            0            1           6.633333  \n",
       "\n",
       "[5 rows x 38 columns]"
      ]
     },
     "execution_count": 68,
     "metadata": {},
     "output_type": "execute_result"
    }
   ],
   "source": [
    "movie_df.head()"
   ]
  },
  {
   "cell_type": "code",
   "execution_count": 69,
   "metadata": {},
   "outputs": [
    {
     "name": "stdout",
     "output_type": "stream",
     "text": [
      "Dimensionality of x_train_scaled: (2357, 12)\n",
      "Dimensionality of x_test_scaled : (1011, 12)\n",
      "Dimensionality of y_train: (2357,)\n",
      "Dimensionality of y_test : (1011,)\n"
     ]
    }
   ],
   "source": [
    "y = movie_df.gross\n",
    "x_test = (x_test[['budget','Genre_Group1','Genre_Group2','Genre_Group3','Genre_Group4', \n",
    "              'Genre_Group5','Genre_Group6','Genre_Group7','Genre_Group8','Genre_Group9',\n",
    "               'director_facebook_likes','actor_1_facebook_likes']]) # example only to try\n",
    "x_train, x_test, y_train, y_test = train_test_split(x, y, test_size=0.3, random_state=20) \n",
    "\n",
    "# Min max scaler: divide evertything by the difference between max and min value\n",
    "# because we want that our features are all on the same dimensionality order (for eample budget is in million and likes in thousends/hundreds)\n",
    "# MinMAx is better than StandardScaler because we cannot suppose that the distribution is normal!\n",
    "\n",
    "# if some variables are normal (we can check from the previous analysis) we can use StandardScaler for them. we can fix it later when the analysis part is completed\n",
    "\n",
    "MM = MinMaxScaler(feature_range=(0, 1), copy=True)\n",
    "\n",
    "x_train_MM = MM.fit_transform(x_train) # standardize X_train\n",
    "x_test_MM = MM.transform(x_test) # standardize X_test\n",
    "\n",
    "# rebuild the DataFrame:\n",
    "x_train_scaled = pd.DataFrame(data=x_train_MM,  columns=x_train.columns)\n",
    "x_test_scaled = pd.DataFrame(data=x_test_MM,  columns=x_test.columns)\n",
    "\n",
    "print(f\"Dimensionality of x_train_scaled: {x_train_scaled.shape}\")\n",
    "print(f\"Dimensionality of x_test_scaled : {x_test_scaled.shape}\")\n",
    "print(f\"Dimensionality of y_train: {y_train.shape}\")\n",
    "print(f\"Dimensionality of y_test : {y_test.shape}\")\n"
   ]
  },
  {
   "cell_type": "markdown",
   "metadata": {},
   "source": [
    "## Decision Tree Regressor"
   ]
  },
  {
   "cell_type": "code",
   "execution_count": 70,
   "metadata": {},
   "outputs": [
    {
     "data": {
      "text/plain": [
       "GridSearchCV(cv=None, error_score=nan,\n",
       "             estimator=DecisionTreeRegressor(ccp_alpha=0.0, criterion='mse',\n",
       "                                             max_depth=None, max_features=None,\n",
       "                                             max_leaf_nodes=None,\n",
       "                                             min_impurity_decrease=0.0,\n",
       "                                             min_impurity_split=None,\n",
       "                                             min_samples_leaf=1,\n",
       "                                             min_samples_split=2,\n",
       "                                             min_weight_fraction_leaf=0.0,\n",
       "                                             presort='deprecated',\n",
       "                                             random_state=None,\n",
       "                                             splitter='best'),\n",
       "             iid='deprecated', n_jobs=...\n",
       "             param_grid={'criterion': ['mse'],\n",
       "                         'min_samples_leaf': [0.0005, 0.005, 0.025, 0.05, 0.1,\n",
       "                                              0.25, 0.5],\n",
       "                         'min_samples_split': array([1.00000000e-08, 7.74263683e-08, 5.99484250e-07, 4.64158883e-06,\n",
       "       3.59381366e-05, 2.78255940e-04, 2.15443469e-03, 1.66810054e-02,\n",
       "       1.29154967e-01, 1.00000000e+00])},\n",
       "             pre_dispatch='2*n_jobs', refit=True, return_train_score=False,\n",
       "             scoring=None, verbose=0)"
      ]
     },
     "execution_count": 70,
     "metadata": {},
     "output_type": "execute_result"
    }
   ],
   "source": [
    "DTOptimalAcc=0\n",
    "DTSplitList = np.logspace(-8,0,10)\n",
    "DTLeafList=[0.0005,0.005,0.025,0.05,0.1,0.25,0.5]\n",
    "param_dictionary = {\"criterion\": ['mse'], \"min_samples_split\": DTSplitList, \"min_samples_leaf\": DTLeafList}\n",
    "\n",
    "DecTree = DecisionTreeRegressor()\n",
    "clf = GridSearchCV(DecTree, param_dictionary)\n",
    "\n",
    "clf.fit(x_train_scaled, y_train)"
   ]
  },
  {
   "cell_type": "code",
   "execution_count": 71,
   "metadata": {},
   "outputs": [
    {
     "data": {
      "text/plain": [
       "{'criterion': 'mse', 'min_samples_leaf': 0.05, 'min_samples_split': 1e-08}"
      ]
     },
     "execution_count": 71,
     "metadata": {},
     "output_type": "execute_result"
    }
   ],
   "source": [
    "clf.best_params_"
   ]
  },
  {
   "cell_type": "code",
   "execution_count": 72,
   "metadata": {},
   "outputs": [
    {
     "data": {
      "text/plain": [
       "0.36116996672738794"
      ]
     },
     "execution_count": 72,
     "metadata": {},
     "output_type": "execute_result"
    }
   ],
   "source": [
    "clf.best_score_ # loss"
   ]
  },
  {
   "cell_type": "markdown",
   "metadata": {},
   "source": [
    "The best model will be the one with the lowest loss"
   ]
  },
  {
   "cell_type": "markdown",
   "metadata": {},
   "source": [
    "## Random Forest"
   ]
  },
  {
   "cell_type": "code",
   "execution_count": 73,
   "metadata": {},
   "outputs": [
    {
     "data": {
      "text/plain": [
       "GridSearchCV(cv=None, error_score=nan,\n",
       "             estimator=RandomForestRegressor(bootstrap=True, ccp_alpha=0.0,\n",
       "                                             criterion='mse', max_depth=None,\n",
       "                                             max_features='auto',\n",
       "                                             max_leaf_nodes=None,\n",
       "                                             max_samples=None,\n",
       "                                             min_impurity_decrease=0.0,\n",
       "                                             min_impurity_split=None,\n",
       "                                             min_samples_leaf=1,\n",
       "                                             min_samples_split=2,\n",
       "                                             min_weight_fraction_leaf=0.0,\n",
       "                                             n_estimators=100, n_jobs=None,\n",
       "                                             oob_score=False, r...state=None,\n",
       "                                             verbose=0, warm_start=False),\n",
       "             iid='deprecated', n_jobs=None,\n",
       "             param_grid={'criterion': ['mse'],\n",
       "                         'min_samples_leaf': array([1.00000000e-05, 3.16227766e-05, 1.00000000e-04, 3.16227766e-04,\n",
       "       1.00000000e-03]),\n",
       "                         'min_samples_split': array([0.01      , 0.03162278, 0.1       , 0.31622777, 1.        ])},\n",
       "             pre_dispatch='2*n_jobs', refit=True, return_train_score=False,\n",
       "             scoring=None, verbose=0)"
      ]
     },
     "execution_count": 73,
     "metadata": {},
     "output_type": "execute_result"
    }
   ],
   "source": [
    "DTOptimalAcc=0\n",
    "DTSplitList = np.logspace(-2,0,5)\n",
    "DTLeafList = np.logspace(-5,-3,5)\n",
    "param_dictionary = {\"criterion\": ['mse'], \"min_samples_split\": DTSplitList, \"min_samples_leaf\": DTLeafList}\n",
    "\n",
    "RanFor = RandomForestRegressor()\n",
    "clf = GridSearchCV(RanFor, param_dictionary)\n",
    "\n",
    "clf.fit(x_train_scaled, y_train)"
   ]
  },
  {
   "cell_type": "code",
   "execution_count": 74,
   "metadata": {},
   "outputs": [
    {
     "data": {
      "text/plain": [
       "{'criterion': 'mse', 'min_samples_leaf': 0.001, 'min_samples_split': 0.01}"
      ]
     },
     "execution_count": 74,
     "metadata": {},
     "output_type": "execute_result"
    }
   ],
   "source": [
    "clf.best_params_"
   ]
  },
  {
   "cell_type": "code",
   "execution_count": 75,
   "metadata": {},
   "outputs": [
    {
     "data": {
      "text/plain": [
       "0.4003215504899675"
      ]
     },
     "execution_count": 75,
     "metadata": {},
     "output_type": "execute_result"
    }
   ],
   "source": [
    "clf.best_score_ # loss"
   ]
  },
  {
   "cell_type": "code",
   "execution_count": null,
   "metadata": {},
   "outputs": [],
   "source": []
  },
  {
   "cell_type": "code",
   "execution_count": null,
   "metadata": {},
   "outputs": [],
   "source": []
  },
  {
   "cell_type": "code",
   "execution_count": null,
   "metadata": {},
   "outputs": [],
   "source": []
  },
  {
   "cell_type": "code",
   "execution_count": null,
   "metadata": {},
   "outputs": [],
   "source": []
  }
 ],
 "metadata": {
  "file_extension": ".py",
  "kernelspec": {
   "display_name": "Python 3",
   "language": "python",
   "name": "python3"
  },
  "language_info": {
   "codemirror_mode": {
    "name": "ipython",
    "version": 3
   },
   "file_extension": ".py",
   "mimetype": "text/x-python",
   "name": "python",
   "nbconvert_exporter": "python",
   "pygments_lexer": "ipython3",
   "version": "3.7.7"
  },
  "mimetype": "text/x-python",
  "name": "python",
  "npconvert_exporter": "python",
  "pygments_lexer": "ipython3",
  "version": 3
 },
 "nbformat": 4,
 "nbformat_minor": 4
}
