{
 "cells": [
  {
   "cell_type": "code",
   "execution_count": 1,
   "metadata": {},
   "outputs": [],
   "source": [
    "from collections import Counter\n",
    "\n",
    "import numpy as np\n",
    "import pandas as pd\n",
    "import matplotlib.pyplot as plt\n",
    "import seaborn as sns\n",
    "import warnings\n",
    "from sklearn import metrics\n",
    "warnings.filterwarnings('ignore')\n",
    "\n",
    "from sklearn.utils import shuffle\n",
    "from imblearn.over_sampling import SMOTE\n",
    "from sklearn.utils import resample\n",
    "from sklearn.linear_model import LogisticRegression\n",
    "from sklearn.tree import DecisionTreeClassifier\n",
    "from sklearn.ensemble import RandomForestClassifier\n",
    "from sklearn.neighbors import KNeighborsClassifier\n",
    "from sklearn.svm import SVC\n",
    "from sklearn.naive_bayes import GaussianNB\n",
    "from sklearn import linear_model\n",
    "from sklearn import metrics\n",
    "from sklearn.metrics import accuracy_score, recall_score, precision_score, roc_auc_score \n",
    "from sklearn.metrics import confusion_matrix\n",
    "from sklearn.preprocessing import StandardScaler, MinMaxScaler\n",
    "from sklearn.model_selection import train_test_split \n",
    "from sklearn.linear_model import LinearRegression\n",
    "from sklearn.model_selection import cross_validate\n",
    "from sklearn.model_selection import GridSearchCV"
   ]
  },
  {
   "cell_type": "code",
   "execution_count": 2,
   "metadata": {},
   "outputs": [],
   "source": [
    "movie_df = pd.read_csv(r'data/data_regression.csv')"
   ]
  },
  {
   "cell_type": "code",
   "execution_count": 3,
   "metadata": {},
   "outputs": [
    {
     "data": {
      "text/plain": [
       "Index(['imdb_id', 'director_name', 'num_critic_for_reviews', 'duration',\n",
       "       'director_facebook_likes', 'actor_3_facebook_likes', 'actor_2_name',\n",
       "       'actor_1_facebook_likes', 'gross', 'genres', 'actor_1_name',\n",
       "       'movie_title', 'num_voted_users', 'cast_total_facebook_likes',\n",
       "       'actor_3_name', 'facenumber_in_poster', 'plot_keywords',\n",
       "       'num_user_for_reviews', 'language', 'country', 'content_rating',\n",
       "       'budget', 'title_year', 'actor_2_facebook_likes', 'imdb_score',\n",
       "       'movie_facebook_likes', 'Biography', 'Comedy', 'Crime', 'Drama',\n",
       "       'Romance', 'Mystery_Thriller_Horror', 'Sci-Fi_Fantasy',\n",
       "       'Family_Animation', 'Action_Adventure', 'History_War', 'Others',\n",
       "       'director_rank', 'actor1_rank', 'actor2_rank', 'actor3_rank',\n",
       "       'gross_budget_ratio'],\n",
       "      dtype='object')"
      ]
     },
     "execution_count": 3,
     "metadata": {},
     "output_type": "execute_result"
    }
   ],
   "source": [
    "movie_df.columns"
   ]
  },
  {
   "cell_type": "markdown",
   "metadata": {},
   "source": [
    "# 2) With Facebook Likes"
   ]
  },
  {
   "cell_type": "code",
   "execution_count": 4,
   "metadata": {},
   "outputs": [],
   "source": [
    "classification2_df = movie_df.drop(columns=['imdb_id', 'director_name', 'num_critic_for_reviews',\n",
    "       'actor_2_name',\n",
    "       'gross', 'genres', 'actor_1_name',\n",
    "       'movie_title', 'num_voted_users',\n",
    "       'actor_3_name', 'plot_keywords',\n",
    "       'num_user_for_reviews',\n",
    "       'title_year', 'imdb_score',\n",
    "       'director_rank', 'actor1_rank', 'actor2_rank', 'actor3_rank',\n",
    "       'movie_facebook_likes'])"
   ]
  },
  {
   "cell_type": "code",
   "execution_count": 5,
   "metadata": {},
   "outputs": [
    {
     "data": {
      "text/html": [
       "<div>\n",
       "<style scoped>\n",
       "    .dataframe tbody tr th:only-of-type {\n",
       "        vertical-align: middle;\n",
       "    }\n",
       "\n",
       "    .dataframe tbody tr th {\n",
       "        vertical-align: top;\n",
       "    }\n",
       "\n",
       "    .dataframe thead th {\n",
       "        text-align: right;\n",
       "    }\n",
       "</style>\n",
       "<table border=\"1\" class=\"dataframe\">\n",
       "  <thead>\n",
       "    <tr style=\"text-align: right;\">\n",
       "      <th></th>\n",
       "      <th>duration</th>\n",
       "      <th>director_facebook_likes</th>\n",
       "      <th>actor_3_facebook_likes</th>\n",
       "      <th>actor_1_facebook_likes</th>\n",
       "      <th>cast_total_facebook_likes</th>\n",
       "      <th>facenumber_in_poster</th>\n",
       "      <th>language</th>\n",
       "      <th>country</th>\n",
       "      <th>content_rating</th>\n",
       "      <th>budget</th>\n",
       "      <th>...</th>\n",
       "      <th>Crime</th>\n",
       "      <th>Drama</th>\n",
       "      <th>Romance</th>\n",
       "      <th>Mystery_Thriller_Horror</th>\n",
       "      <th>Sci-Fi_Fantasy</th>\n",
       "      <th>Family_Animation</th>\n",
       "      <th>Action_Adventure</th>\n",
       "      <th>History_War</th>\n",
       "      <th>Others</th>\n",
       "      <th>gross_budget_ratio</th>\n",
       "    </tr>\n",
       "  </thead>\n",
       "  <tbody>\n",
       "    <tr>\n",
       "      <td>0</td>\n",
       "      <td>123.0</td>\n",
       "      <td>446.0</td>\n",
       "      <td>821.0</td>\n",
       "      <td>20000.0</td>\n",
       "      <td>22209</td>\n",
       "      <td>1.0</td>\n",
       "      <td>English</td>\n",
       "      <td>USA</td>\n",
       "      <td>PG-13</td>\n",
       "      <td>48000000.0</td>\n",
       "      <td>...</td>\n",
       "      <td>0</td>\n",
       "      <td>0</td>\n",
       "      <td>1</td>\n",
       "      <td>0</td>\n",
       "      <td>1</td>\n",
       "      <td>0</td>\n",
       "      <td>0</td>\n",
       "      <td>0</td>\n",
       "      <td>0</td>\n",
       "      <td>0.981155</td>\n",
       "    </tr>\n",
       "    <tr>\n",
       "      <td>1</td>\n",
       "      <td>88.0</td>\n",
       "      <td>104.0</td>\n",
       "      <td>318.0</td>\n",
       "      <td>628.0</td>\n",
       "      <td>2726</td>\n",
       "      <td>0.0</td>\n",
       "      <td>English</td>\n",
       "      <td>USA</td>\n",
       "      <td>PG</td>\n",
       "      <td>3500000.0</td>\n",
       "      <td>...</td>\n",
       "      <td>0</td>\n",
       "      <td>0</td>\n",
       "      <td>0</td>\n",
       "      <td>0</td>\n",
       "      <td>0</td>\n",
       "      <td>0</td>\n",
       "      <td>0</td>\n",
       "      <td>0</td>\n",
       "      <td>0</td>\n",
       "      <td>23.828571</td>\n",
       "    </tr>\n",
       "    <tr>\n",
       "      <td>2</td>\n",
       "      <td>104.0</td>\n",
       "      <td>116.0</td>\n",
       "      <td>83.0</td>\n",
       "      <td>1000.0</td>\n",
       "      <td>1662</td>\n",
       "      <td>0.0</td>\n",
       "      <td>English</td>\n",
       "      <td>USA</td>\n",
       "      <td>R</td>\n",
       "      <td>4500000.0</td>\n",
       "      <td>...</td>\n",
       "      <td>0</td>\n",
       "      <td>1</td>\n",
       "      <td>1</td>\n",
       "      <td>0</td>\n",
       "      <td>0</td>\n",
       "      <td>0</td>\n",
       "      <td>1</td>\n",
       "      <td>0</td>\n",
       "      <td>0</td>\n",
       "      <td>13.078468</td>\n",
       "    </tr>\n",
       "    <tr>\n",
       "      <td>3</td>\n",
       "      <td>148.0</td>\n",
       "      <td>644.0</td>\n",
       "      <td>326.0</td>\n",
       "      <td>1000.0</td>\n",
       "      <td>2566</td>\n",
       "      <td>1.0</td>\n",
       "      <td>English</td>\n",
       "      <td>USA</td>\n",
       "      <td>R</td>\n",
       "      <td>27000000.0</td>\n",
       "      <td>...</td>\n",
       "      <td>1</td>\n",
       "      <td>0</td>\n",
       "      <td>0</td>\n",
       "      <td>0</td>\n",
       "      <td>0</td>\n",
       "      <td>0</td>\n",
       "      <td>1</td>\n",
       "      <td>0</td>\n",
       "      <td>1</td>\n",
       "      <td>2.007407</td>\n",
       "    </tr>\n",
       "    <tr>\n",
       "      <td>4</td>\n",
       "      <td>98.0</td>\n",
       "      <td>11000.0</td>\n",
       "      <td>484.0</td>\n",
       "      <td>13000.0</td>\n",
       "      <td>14921</td>\n",
       "      <td>3.0</td>\n",
       "      <td>English</td>\n",
       "      <td>USA</td>\n",
       "      <td>R</td>\n",
       "      <td>6000000.0</td>\n",
       "      <td>...</td>\n",
       "      <td>0</td>\n",
       "      <td>0</td>\n",
       "      <td>0</td>\n",
       "      <td>0</td>\n",
       "      <td>0</td>\n",
       "      <td>0</td>\n",
       "      <td>0</td>\n",
       "      <td>0</td>\n",
       "      <td>1</td>\n",
       "      <td>6.633333</td>\n",
       "    </tr>\n",
       "    <tr>\n",
       "      <td>...</td>\n",
       "      <td>...</td>\n",
       "      <td>...</td>\n",
       "      <td>...</td>\n",
       "      <td>...</td>\n",
       "      <td>...</td>\n",
       "      <td>...</td>\n",
       "      <td>...</td>\n",
       "      <td>...</td>\n",
       "      <td>...</td>\n",
       "      <td>...</td>\n",
       "      <td>...</td>\n",
       "      <td>...</td>\n",
       "      <td>...</td>\n",
       "      <td>...</td>\n",
       "      <td>...</td>\n",
       "      <td>...</td>\n",
       "      <td>...</td>\n",
       "      <td>...</td>\n",
       "      <td>...</td>\n",
       "      <td>...</td>\n",
       "      <td>...</td>\n",
       "    </tr>\n",
       "    <tr>\n",
       "      <td>3847</td>\n",
       "      <td>92.0</td>\n",
       "      <td>89.0</td>\n",
       "      <td>190.0</td>\n",
       "      <td>17000.0</td>\n",
       "      <td>17860</td>\n",
       "      <td>0.0</td>\n",
       "      <td>English</td>\n",
       "      <td>USA</td>\n",
       "      <td>R</td>\n",
       "      <td>35000000.0</td>\n",
       "      <td>...</td>\n",
       "      <td>0</td>\n",
       "      <td>0</td>\n",
       "      <td>0</td>\n",
       "      <td>0</td>\n",
       "      <td>0</td>\n",
       "      <td>0</td>\n",
       "      <td>0</td>\n",
       "      <td>0</td>\n",
       "      <td>0</td>\n",
       "      <td>1.579766</td>\n",
       "    </tr>\n",
       "    <tr>\n",
       "      <td>3848</td>\n",
       "      <td>100.0</td>\n",
       "      <td>24.0</td>\n",
       "      <td>851.0</td>\n",
       "      <td>15000.0</td>\n",
       "      <td>18786</td>\n",
       "      <td>9.0</td>\n",
       "      <td>English</td>\n",
       "      <td>USA</td>\n",
       "      <td>R</td>\n",
       "      <td>20000000.0</td>\n",
       "      <td>...</td>\n",
       "      <td>0</td>\n",
       "      <td>0</td>\n",
       "      <td>0</td>\n",
       "      <td>0</td>\n",
       "      <td>0</td>\n",
       "      <td>0</td>\n",
       "      <td>0</td>\n",
       "      <td>0</td>\n",
       "      <td>0</td>\n",
       "      <td>2.773065</td>\n",
       "    </tr>\n",
       "    <tr>\n",
       "      <td>3849</td>\n",
       "      <td>92.0</td>\n",
       "      <td>89.0</td>\n",
       "      <td>355.0</td>\n",
       "      <td>729.0</td>\n",
       "      <td>2848</td>\n",
       "      <td>4.0</td>\n",
       "      <td>English</td>\n",
       "      <td>USA</td>\n",
       "      <td>R</td>\n",
       "      <td>5000000.0</td>\n",
       "      <td>...</td>\n",
       "      <td>0</td>\n",
       "      <td>0</td>\n",
       "      <td>0</td>\n",
       "      <td>0</td>\n",
       "      <td>0</td>\n",
       "      <td>0</td>\n",
       "      <td>0</td>\n",
       "      <td>0</td>\n",
       "      <td>0</td>\n",
       "      <td>2.335036</td>\n",
       "    </tr>\n",
       "    <tr>\n",
       "      <td>3850</td>\n",
       "      <td>81.0</td>\n",
       "      <td>26.0</td>\n",
       "      <td>300.0</td>\n",
       "      <td>2000.0</td>\n",
       "      <td>3344</td>\n",
       "      <td>0.0</td>\n",
       "      <td>English</td>\n",
       "      <td>USA</td>\n",
       "      <td>PG-13</td>\n",
       "      <td>4900000.0</td>\n",
       "      <td>...</td>\n",
       "      <td>0</td>\n",
       "      <td>0</td>\n",
       "      <td>0</td>\n",
       "      <td>1</td>\n",
       "      <td>0</td>\n",
       "      <td>0</td>\n",
       "      <td>0</td>\n",
       "      <td>0</td>\n",
       "      <td>0</td>\n",
       "      <td>11.537962</td>\n",
       "    </tr>\n",
       "    <tr>\n",
       "      <td>3851</td>\n",
       "      <td>120.0</td>\n",
       "      <td>18.0</td>\n",
       "      <td>295.0</td>\n",
       "      <td>634.0</td>\n",
       "      <td>1810</td>\n",
       "      <td>11.0</td>\n",
       "      <td>English</td>\n",
       "      <td>USA</td>\n",
       "      <td>PG</td>\n",
       "      <td>5000000.0</td>\n",
       "      <td>...</td>\n",
       "      <td>0</td>\n",
       "      <td>1</td>\n",
       "      <td>0</td>\n",
       "      <td>0</td>\n",
       "      <td>0</td>\n",
       "      <td>0</td>\n",
       "      <td>0</td>\n",
       "      <td>0</td>\n",
       "      <td>0</td>\n",
       "      <td>4.154614</td>\n",
       "    </tr>\n",
       "  </tbody>\n",
       "</table>\n",
       "<p>3852 rows × 23 columns</p>\n",
       "</div>"
      ],
      "text/plain": [
       "      duration  director_facebook_likes  actor_3_facebook_likes  \\\n",
       "0        123.0                    446.0                   821.0   \n",
       "1         88.0                    104.0                   318.0   \n",
       "2        104.0                    116.0                    83.0   \n",
       "3        148.0                    644.0                   326.0   \n",
       "4         98.0                  11000.0                   484.0   \n",
       "...        ...                      ...                     ...   \n",
       "3847      92.0                     89.0                   190.0   \n",
       "3848     100.0                     24.0                   851.0   \n",
       "3849      92.0                     89.0                   355.0   \n",
       "3850      81.0                     26.0                   300.0   \n",
       "3851     120.0                     18.0                   295.0   \n",
       "\n",
       "      actor_1_facebook_likes  cast_total_facebook_likes  facenumber_in_poster  \\\n",
       "0                    20000.0                      22209                   1.0   \n",
       "1                      628.0                       2726                   0.0   \n",
       "2                     1000.0                       1662                   0.0   \n",
       "3                     1000.0                       2566                   1.0   \n",
       "4                    13000.0                      14921                   3.0   \n",
       "...                      ...                        ...                   ...   \n",
       "3847                 17000.0                      17860                   0.0   \n",
       "3848                 15000.0                      18786                   9.0   \n",
       "3849                   729.0                       2848                   4.0   \n",
       "3850                  2000.0                       3344                   0.0   \n",
       "3851                   634.0                       1810                  11.0   \n",
       "\n",
       "     language country content_rating      budget  ...  Crime  Drama  Romance  \\\n",
       "0     English     USA          PG-13  48000000.0  ...      0      0        1   \n",
       "1     English     USA             PG   3500000.0  ...      0      0        0   \n",
       "2     English     USA              R   4500000.0  ...      0      1        1   \n",
       "3     English     USA              R  27000000.0  ...      1      0        0   \n",
       "4     English     USA              R   6000000.0  ...      0      0        0   \n",
       "...       ...     ...            ...         ...  ...    ...    ...      ...   \n",
       "3847  English     USA              R  35000000.0  ...      0      0        0   \n",
       "3848  English     USA              R  20000000.0  ...      0      0        0   \n",
       "3849  English     USA              R   5000000.0  ...      0      0        0   \n",
       "3850  English     USA          PG-13   4900000.0  ...      0      0        0   \n",
       "3851  English     USA             PG   5000000.0  ...      0      1        0   \n",
       "\n",
       "      Mystery_Thriller_Horror  Sci-Fi_Fantasy  Family_Animation  \\\n",
       "0                           0               1                 0   \n",
       "1                           0               0                 0   \n",
       "2                           0               0                 0   \n",
       "3                           0               0                 0   \n",
       "4                           0               0                 0   \n",
       "...                       ...             ...               ...   \n",
       "3847                        0               0                 0   \n",
       "3848                        0               0                 0   \n",
       "3849                        0               0                 0   \n",
       "3850                        1               0                 0   \n",
       "3851                        0               0                 0   \n",
       "\n",
       "      Action_Adventure  History_War  Others  gross_budget_ratio  \n",
       "0                    0            0       0            0.981155  \n",
       "1                    0            0       0           23.828571  \n",
       "2                    1            0       0           13.078468  \n",
       "3                    1            0       1            2.007407  \n",
       "4                    0            0       1            6.633333  \n",
       "...                ...          ...     ...                 ...  \n",
       "3847                 0            0       0            1.579766  \n",
       "3848                 0            0       0            2.773065  \n",
       "3849                 0            0       0            2.335036  \n",
       "3850                 0            0       0           11.537962  \n",
       "3851                 0            0       0            4.154614  \n",
       "\n",
       "[3852 rows x 23 columns]"
      ]
     },
     "execution_count": 5,
     "metadata": {},
     "output_type": "execute_result"
    }
   ],
   "source": [
    "classification2_df"
   ]
  },
  {
   "cell_type": "code",
   "execution_count": 6,
   "metadata": {},
   "outputs": [],
   "source": [
    "Language = classification2_df['language'].transform(lambda x: x=='English')\n",
    "Language = Language.to_frame()\n",
    "Country = classification2_df['country'].transform(lambda x: x=='USA')\n",
    "Country = Country.to_frame()\n",
    "classification2_df['language'] = Language['language']\n",
    "classification2_df['country'] = Country['country']\n",
    "classification2_df[\"language\"] = classification2_df[\"language\"].astype(int)\n",
    "classification2_df[\"country\"] = classification2_df[\"country\"].astype(int)"
   ]
  },
  {
   "cell_type": "markdown",
   "metadata": {},
   "source": [
    "Above, we convert language to binary of English language and non-english and convert country variable to binary USA or not USA."
   ]
  },
  {
   "cell_type": "code",
   "execution_count": 7,
   "metadata": {},
   "outputs": [],
   "source": [
    "df2 = pd.get_dummies(classification2_df, columns=['content_rating'])"
   ]
  },
  {
   "cell_type": "markdown",
   "metadata": {},
   "source": [
    "## 2.1) Seperating into 3 classes"
   ]
  },
  {
   "cell_type": "code",
   "execution_count": 8,
   "metadata": {},
   "outputs": [
    {
     "data": {
      "text/plain": [
       "0    1895\n",
       "2    1023\n",
       "1     934\n",
       "Name: gross_budget_ratio, dtype: int64"
      ]
     },
     "execution_count": 8,
     "metadata": {},
     "output_type": "execute_result"
    }
   ],
   "source": [
    "RatioClass = df2['gross_budget_ratio'].transform(lambda x: 0 if x <= 1 else (1 if x <= 2 else 2))\n",
    "RatioClass = RatioClass.to_frame()\n",
    "Counts=RatioClass['gross_budget_ratio'].value_counts()\n",
    "Counts"
   ]
  },
  {
   "cell_type": "code",
   "execution_count": 9,
   "metadata": {},
   "outputs": [],
   "source": [
    "df21 = df2.copy()\n",
    "df21['gross_budget_ratio'] = RatioClass['gross_budget_ratio']"
   ]
  },
  {
   "cell_type": "code",
   "execution_count": 10,
   "metadata": {},
   "outputs": [
    {
     "name": "stdout",
     "output_type": "stream",
     "text": [
      "Dimensionality of X_train: (2696, 28)\n",
      "Dimensionality of X_test : (1156, 28)\n",
      "Dimensionality of y_train: (2696,)\n",
      "Dimensionality of y_test : (1156,)\n"
     ]
    }
   ],
   "source": [
    "X = df21.drop(columns=['gross_budget_ratio'])\n",
    "y = df21['gross_budget_ratio']\n",
    "X_train, X_test, y_train, y_test = train_test_split(X, y, stratify=y, test_size=0.3, random_state=10) \n",
    "print(f\"Dimensionality of X_train: {X_train.shape}\")\n",
    "print(f\"Dimensionality of X_test : {X_test.shape}\")\n",
    "print(f\"Dimensionality of y_train: {y_train.shape}\")\n",
    "print(f\"Dimensionality of y_test : {y_test.shape}\")"
   ]
  },
  {
   "cell_type": "markdown",
   "metadata": {},
   "source": [
    "### 2.1.1) Multi-Class Logistic Regression"
   ]
  },
  {
   "cell_type": "code",
   "execution_count": 11,
   "metadata": {},
   "outputs": [],
   "source": [
    "smote=SMOTE('minority')\n",
    "X_s, y_s = smote.fit_sample(X_train,y_train)\n",
    "X_sm, y_sm = smote.fit_sample(X_s,y_s)\n",
    "X_sm_train, y_sm_train = shuffle(X_sm, y_sm, random_state=10)"
   ]
  },
  {
   "cell_type": "code",
   "execution_count": 12,
   "metadata": {},
   "outputs": [
    {
     "name": "stdout",
     "output_type": "stream",
     "text": [
      "MLR best parameters: {'C': 1000, 'penalty': 'l2'}\n",
      "MLR Train score: 0.5180995475113123\n",
      "MLR Test score: 0.46972318339100344\n"
     ]
    }
   ],
   "source": [
    "C_List = [0.001,0.01,0.1,1,10,100,1000]\n",
    "penalty = ['l2','none']\n",
    "parameters = {'C': C_List,'penalty':penalty}\n",
    "MLR = linear_model.LogisticRegression(multi_class='multinomial', solver='newton-cg')\n",
    "clf1 = GridSearchCV(MLR, parameters, cv=5, verbose=0,scoring ='accuracy')\n",
    "clf1.fit(X_sm_train, y_sm_train)\n",
    "\n",
    "y_pred = clf1.predict(X_test)\n",
    "print(\"MLR best parameters:\", clf1.best_params_)\n",
    "print(\"MLR Train score:\", clf1.score(X_sm_train, y_sm_train))\n",
    "print(\"MLR Test score:\", clf1.score(X_test, y_test))"
   ]
  },
  {
   "cell_type": "code",
   "execution_count": 13,
   "metadata": {},
   "outputs": [
    {
     "data": {
      "text/plain": [
       "Text(0.5, 1, 'Multiclass Logistic Regression')"
      ]
     },
     "execution_count": 13,
     "metadata": {},
     "output_type": "execute_result"
    },
    {
     "data": {
      "image/png": "[encoded data removed]",
      "text/plain": [
       "<Figure size 432x288 with 2 Axes>"
      ]
     },
     "metadata": {
      "needs_background": "light"
     },
     "output_type": "display_data"
    }
   ],
   "source": [
    "ax = plt.subplot()\n",
    "Model_Predictions = clf1.predict(X_test)\n",
    "Model_Confusion_Matrix = confusion_matrix(Model_Predictions,y_test)\n",
    "sns.heatmap(Model_Confusion_Matrix,annot=True,fmt = \"d\",square = True,ax = ax, linewidths = 1,linecolor = \"w\",cmap = \"Pastel2\")\n",
    "ax.set_xlabel('True labels')\n",
    "ax.set_ylabel('Predicted labels')\n",
    "ax.xaxis.set_ticklabels([\"Loss\",\"Low Profit\",'High Profit'])\n",
    "ax.yaxis.set_ticklabels([\"Loss\",\"Low Profit\",'High Profit'], va=\"center\")\n",
    "b, t = plt.ylim() \n",
    "b += 0.5\n",
    "t -= 0.5\n",
    "plt.ylim(b, t)\n",
    "plt.title('Multiclass Logistic Regression')"
   ]
  },
  {
   "cell_type": "markdown",
   "metadata": {},
   "source": [
    "### 2.1.2) Decision Tree Classifier"
   ]
  },
  {
   "cell_type": "code",
   "execution_count": 14,
   "metadata": {},
   "outputs": [
    {
     "name": "stdout",
     "output_type": "stream",
     "text": [
      "DTC best parameters: {'criterion': 'gini', 'max_depth': 100, 'min_samples_leaf': 0.005, 'min_samples_split': 0.1}\n",
      "DTC Train score: 0.5408011869436202\n",
      "DTC Test score: 0.5216262975778547\n"
     ]
    }
   ],
   "source": [
    "DTSplitList=[0.001,0.01,0.05,0.1,0.5,0.99]\n",
    "DTLeafList=[0.0005,0.005,0.025,0.05,0.1,0.25,0.5]\n",
    "criterion =['gini','entropy']\n",
    "parameters = {'criterion':criterion,'max_depth':list(range(100,0,-3)),'min_samples_leaf': DTLeafList, 'min_samples_split':DTSplitList}\n",
    "DTC = DecisionTreeClassifier(random_state=10)\n",
    "clf2 = GridSearchCV(DTC, parameters, cv=5, verbose=0,scoring ='accuracy')\n",
    "clf2.fit(X_train, y_train)\n",
    "\n",
    "y_pred = clf2.predict(X_test)\n",
    "print(\"DTC best parameters:\", clf2.best_params_)\n",
    "print(\"DTC Train score:\", clf2.score(X_train, y_train))\n",
    "print(\"DTC Test score:\", clf2.score(X_test, y_test))"
   ]
  },
  {
   "cell_type": "code",
   "execution_count": 15,
   "metadata": {},
   "outputs": [
    {
     "data": {
      "text/plain": [
       "Text(0.5, 1, 'Decision Tree Classifier')"
      ]
     },
     "execution_count": 15,
     "metadata": {},
     "output_type": "execute_result"
    },
    {
     "data": {
      "image/png": "[encoded data removed]",
      "text/plain": [
       "<Figure size 432x288 with 2 Axes>"
      ]
     },
     "metadata": {
      "needs_background": "light"
     },
     "output_type": "display_data"
    }
   ],
   "source": [
    "ax = plt.subplot()\n",
    "Model_Predictions = clf2.predict(X_test)\n",
    "Model_Confusion_Matrix = confusion_matrix(Model_Predictions,y_test)\n",
    "sns.heatmap(Model_Confusion_Matrix,annot=True,fmt = \"d\",square = True,ax = ax, linewidths = 1,linecolor = \"w\",cmap = \"Pastel2\")\n",
    "ax.set_xlabel('True labels')\n",
    "ax.set_ylabel('Predicted labels')\n",
    "ax.xaxis.set_ticklabels([\"Loss\",\"Low Profit\",'High Profit'])\n",
    "ax.yaxis.set_ticklabels([\"Loss\",\"Low Profit\",'High Profit'], va=\"center\")\n",
    "b, t = plt.ylim() \n",
    "b += 0.5\n",
    "t -= 0.5\n",
    "plt.ylim(b, t)\n",
    "plt.title('Decision Tree Classifier')"
   ]
  },
  {
   "cell_type": "markdown",
   "metadata": {},
   "source": [
    "### 2.1.3) Random Forest Classifier"
   ]
  },
  {
   "cell_type": "code",
   "execution_count": 16,
   "metadata": {},
   "outputs": [
    {
     "name": "stdout",
     "output_type": "stream",
     "text": [
      "RFC best parameters: {'criterion': 'entropy', 'max_depth': 100, 'n_estimators': 100}\n",
      "RFC Train score: 1.0\n",
      "RFC Test score: 0.5190311418685121\n"
     ]
    }
   ],
   "source": [
    "RFEstimatorList = [25,50,100,200]\n",
    "criterion =['gini','entropy']\n",
    "parameters = {'criterion':criterion,'max_depth':list(range(100,0,-10)),'n_estimators':RFEstimatorList}\n",
    "RFC = RandomForestClassifier(random_state=10)\n",
    "clf3 = GridSearchCV(RFC, parameters, cv=5, verbose=0,scoring ='accuracy')\n",
    "clf3.fit(X_train, y_train)\n",
    "\n",
    "y_pred = clf3.predict(X_test)\n",
    "print(\"RFC best parameters:\", clf3.best_params_)\n",
    "print(\"RFC Train score:\", clf3.score(X_train, y_train))\n",
    "print(\"RFC Test score:\", clf3.score(X_test, y_test))"
   ]
  },
  {
   "cell_type": "code",
   "execution_count": 17,
   "metadata": {},
   "outputs": [
    {
     "data": {
      "text/plain": [
       "Text(0.5, 1, 'Random Forest Classifier')"
      ]
     },
     "execution_count": 17,
     "metadata": {},
     "output_type": "execute_result"
    },
    {
     "data": {
      "image/png": "[encoded data removed]",
      "text/plain": [
       "<Figure size 432x288 with 2 Axes>"
      ]
     },
     "metadata": {
      "needs_background": "light"
     },
     "output_type": "display_data"
    }
   ],
   "source": [
    "ax = plt.subplot()\n",
    "Model_Predictions = clf3.predict(X_test)\n",
    "Model_Confusion_Matrix = confusion_matrix(Model_Predictions,y_test)\n",
    "sns.heatmap(Model_Confusion_Matrix,annot=True,fmt = \"d\",square = True,ax = ax, linewidths = 1,linecolor = \"w\",cmap = \"Pastel2\")\n",
    "ax.set_xlabel('True labels')\n",
    "ax.set_ylabel('Predicted labels')\n",
    "ax.xaxis.set_ticklabels([\"Loss\",\"Low Profit\",'High Profit'])\n",
    "ax.yaxis.set_ticklabels([\"Loss\",\"Low Profit\",'High Profit'], va=\"center\")\n",
    "b, t = plt.ylim() \n",
    "b += 0.5\n",
    "t -= 0.5\n",
    "plt.ylim(b, t)\n",
    "plt.title('Random Forest Classifier')"
   ]
  },
  {
   "cell_type": "markdown",
   "metadata": {},
   "source": [
    "### 2.1.4) KNN Classifier"
   ]
  },
  {
   "cell_type": "code",
   "execution_count": 18,
   "metadata": {},
   "outputs": [],
   "source": [
    "MMScaler = MinMaxScaler()\n",
    "X_train_scaled = MMScaler.fit_transform(X_train)\n",
    "X_test_scaled = MMScaler.transform(X_test)"
   ]
  },
  {
   "cell_type": "code",
   "execution_count": 19,
   "metadata": {},
   "outputs": [
    {
     "name": "stdout",
     "output_type": "stream",
     "text": [
      "KNN best parameters: {'n_neighbors': 50}\n",
      "KNN Train score: 0.5326409495548962\n",
      "KNN Test score: 0.5069204152249135\n"
     ]
    }
   ],
   "source": [
    "Neighbor_List=[3,5,10,20,50]\n",
    "parameters = {'n_neighbors':Neighbor_List}\n",
    "KNNC = KNeighborsClassifier()\n",
    "clf4 = GridSearchCV(KNNC, parameters, cv=5, verbose=0,scoring ='accuracy')\n",
    "clf4.fit(X_train_scaled, y_train)\n",
    "\n",
    "y_pred = clf4.predict(X_test_scaled)\n",
    "print(\"KNN best parameters:\", clf4.best_params_)\n",
    "print(\"KNN Train score:\", clf4.score(X_train_scaled, y_train))\n",
    "print(\"KNN Test score:\", clf4.score(X_test_scaled, y_test))"
   ]
  },
  {
   "cell_type": "code",
   "execution_count": 20,
   "metadata": {},
   "outputs": [
    {
     "data": {
      "text/plain": [
       "Text(0.5, 1, 'KNN Classifier')"
      ]
     },
     "execution_count": 20,
     "metadata": {},
     "output_type": "execute_result"
    },
    {
     "data": {
      "image/png": "[encoded data removed]",
      "text/plain": [
       "<Figure size 432x288 with 2 Axes>"
      ]
     },
     "metadata": {
      "needs_background": "light"
     },
     "output_type": "display_data"
    }
   ],
   "source": [
    "ax = plt.subplot()\n",
    "Model_Predictions = clf4.predict(X_test_scaled)\n",
    "Model_Confusion_Matrix = confusion_matrix(Model_Predictions,y_test)\n",
    "sns.heatmap(Model_Confusion_Matrix,annot=True,fmt = \"d\",square = True,ax = ax, linewidths = 1,linecolor = \"w\",cmap = \"Pastel2\")\n",
    "ax.set_xlabel('True labels')\n",
    "ax.set_ylabel('Predicted labels')\n",
    "ax.xaxis.set_ticklabels([\"Loss\",\"Low Profit\",'High Profit'])\n",
    "ax.yaxis.set_ticklabels([\"Loss\",\"Low Profit\",'High Profit'], va=\"center\")\n",
    "b, t = plt.ylim() \n",
    "b += 0.5\n",
    "t -= 0.5\n",
    "plt.ylim(b, t)\n",
    "plt.title('KNN Classifier')"
   ]
  },
  {
   "cell_type": "markdown",
   "metadata": {},
   "source": [
    "### 2.1.5) Gaussian Naive Bayes Classifier"
   ]
  },
  {
   "cell_type": "code",
   "execution_count": 21,
   "metadata": {},
   "outputs": [
    {
     "name": "stdout",
     "output_type": "stream",
     "text": [
      "GNB Train score: 0.3538575667655786\n",
      "GNB Test score: 0.3313148788927336\n"
     ]
    }
   ],
   "source": [
    "GNB = GaussianNB()\n",
    "GNB.fit(X_train,y_train)\n",
    "    \n",
    "y_pred = GNB.predict(X_test)\n",
    "print(\"GNB Train score:\", GNB.score(X_train, y_train))\n",
    "print(\"GNB Test score:\", GNB.score(X_test, y_test))"
   ]
  },
  {
   "cell_type": "code",
   "execution_count": 22,
   "metadata": {},
   "outputs": [
    {
     "data": {
      "text/plain": [
       "Text(0.5, 1, 'Gaussian Naive Bayes Classifier')"
      ]
     },
     "execution_count": 22,
     "metadata": {},
     "output_type": "execute_result"
    },
    {
     "data": {
      "image/png": "[encoded data removed]",
      "text/plain": [
       "<Figure size 432x288 with 2 Axes>"
      ]
     },
     "metadata": {
      "needs_background": "light"
     },
     "output_type": "display_data"
    }
   ],
   "source": [
    "ax = plt.subplot()\n",
    "Model_Predictions = GNB.predict(X_test)\n",
    "Model_Confusion_Matrix = confusion_matrix(Model_Predictions,y_test)\n",
    "sns.heatmap(Model_Confusion_Matrix,annot=True,fmt = \"d\",square = True,ax = ax, linewidths = 1,linecolor = \"w\",cmap = \"Pastel2\")\n",
    "ax.set_xlabel('True labels')\n",
    "ax.set_ylabel('Predicted labels')\n",
    "ax.xaxis.set_ticklabels([\"Loss\",\"Low Profit\",'High Profit'])\n",
    "ax.yaxis.set_ticklabels([\"Loss\",\"Low Profit\",'High Profit'], va=\"center\")\n",
    "b, t = plt.ylim() \n",
    "b += 0.5\n",
    "t -= 0.5\n",
    "plt.ylim(b, t)\n",
    "plt.title('Gaussian Naive Bayes Classifier')"
   ]
  },
  {
   "cell_type": "markdown",
   "metadata": {},
   "source": [
    "## 2.2) Seperating into 2 classes"
   ]
  },
  {
   "cell_type": "code",
   "execution_count": 23,
   "metadata": {},
   "outputs": [
    {
     "data": {
      "text/plain": [
       "1    1957\n",
       "0    1895\n",
       "Name: gross_budget_ratio, dtype: int64"
      ]
     },
     "execution_count": 23,
     "metadata": {},
     "output_type": "execute_result"
    }
   ],
   "source": [
    "RatioClass = df2['gross_budget_ratio'].transform(lambda x: 0 if x <= 1 else 1)\n",
    "RatioClass = RatioClass.to_frame()\n",
    "Counts=RatioClass['gross_budget_ratio'].value_counts()\n",
    "Counts"
   ]
  },
  {
   "cell_type": "code",
   "execution_count": 24,
   "metadata": {},
   "outputs": [],
   "source": [
    "df22 = df2.copy()\n",
    "df22['gross_budget_ratio'] = RatioClass['gross_budget_ratio']"
   ]
  },
  {
   "cell_type": "code",
   "execution_count": 25,
   "metadata": {},
   "outputs": [
    {
     "name": "stdout",
     "output_type": "stream",
     "text": [
      "Dimensionality of X_train: (2696, 28)\n",
      "Dimensionality of X_test : (1156, 28)\n",
      "Dimensionality of y_train: (2696,)\n",
      "Dimensionality of y_test : (1156,)\n"
     ]
    }
   ],
   "source": [
    "X = df22.drop(columns=['gross_budget_ratio'])\n",
    "y = df22['gross_budget_ratio']\n",
    "X_train, X_test, y_train, y_test = train_test_split(X, y, stratify=y, test_size=0.3, random_state=10) \n",
    "print(f\"Dimensionality of X_train: {X_train.shape}\")\n",
    "print(f\"Dimensionality of X_test : {X_test.shape}\")\n",
    "print(f\"Dimensionality of y_train: {y_train.shape}\")\n",
    "print(f\"Dimensionality of y_test : {y_test.shape}\")"
   ]
  },
  {
   "cell_type": "markdown",
   "metadata": {},
   "source": [
    "### 2.2.1) Logistic Regression"
   ]
  },
  {
   "cell_type": "code",
   "execution_count": 26,
   "metadata": {},
   "outputs": [
    {
     "name": "stdout",
     "output_type": "stream",
     "text": [
      "LR best parameters: {'C': 100, 'penalty': 'l1'}\n",
      "LR Train score: 0.6235163204747775\n",
      "LR Test score: 0.6141868512110726\n"
     ]
    }
   ],
   "source": [
    "C_List = [0.001,0.01,0.1,1,10,100,1000]\n",
    "penalty = ['l1','l2']\n",
    "parameters = {'C': C_List,'penalty':penalty}\n",
    "LR = linear_model.LogisticRegression( solver='liblinear')\n",
    "clf1 = GridSearchCV(LR, parameters, cv=5, verbose=0,scoring ='accuracy')\n",
    "clf1.fit(X_train, y_train)\n",
    "\n",
    "y_pred = clf1.predict(X_test)\n",
    "print(\"LR best parameters:\", clf1.best_params_)\n",
    "print(\"LR Train score:\", clf1.score(X_train, y_train))\n",
    "print(\"LR Test score:\", clf1.score(X_test, y_test))"
   ]
  },
  {
   "cell_type": "code",
   "execution_count": 27,
   "metadata": {},
   "outputs": [
    {
     "data": {
      "text/plain": [
       "Text(0.5, 1, 'Logistic Regression')"
      ]
     },
     "execution_count": 27,
     "metadata": {},
     "output_type": "execute_result"
    },
    {
     "data": {
      "image/png": "[encoded data removed]",
      "text/plain": [
       "<Figure size 432x288 with 2 Axes>"
      ]
     },
     "metadata": {
      "needs_background": "light"
     },
     "output_type": "display_data"
    }
   ],
   "source": [
    "ax = plt.subplot()\n",
    "Model_Predictions = clf1.predict(X_test)\n",
    "Model_Confusion_Matrix = confusion_matrix(Model_Predictions,y_test)\n",
    "sns.heatmap(Model_Confusion_Matrix,annot=True,fmt = \"d\",square = True,ax = ax, linewidths = 1,linecolor = \"w\",cmap = \"Pastel2\")\n",
    "ax.set_xlabel('True labels')\n",
    "ax.set_ylabel('Predicted labels')\n",
    "ax.xaxis.set_ticklabels([\"Loss\",\"Profit\"])\n",
    "ax.yaxis.set_ticklabels([\"Loss\",\"Profit\"], va=\"center\")\n",
    "b, t = plt.ylim() \n",
    "b += 0.5\n",
    "t -= 0.5\n",
    "plt.ylim(b, t)\n",
    "plt.title('Logistic Regression')"
   ]
  },
  {
   "cell_type": "markdown",
   "metadata": {},
   "source": [
    "### 2.2.2) Decision Tree Classifier"
   ]
  },
  {
   "cell_type": "code",
   "execution_count": 28,
   "metadata": {},
   "outputs": [
    {
     "name": "stdout",
     "output_type": "stream",
     "text": [
      "DTC best parameters: {'criterion': 'entropy', 'max_depth': 4, 'min_samples_leaf': 0.005, 'min_samples_split': 0.1}\n",
      "DTC Train score: 0.6238872403560831\n",
      "DTC Test score: 0.583044982698962\n"
     ]
    }
   ],
   "source": [
    "DTSplitList=[0.001,0.01,0.05,0.1,0.5,0.99]\n",
    "DTLeafList=[0.0005,0.005,0.025,0.05,0.1,0.25,0.5]\n",
    "criterion =['gini','entropy']\n",
    "parameters = {'criterion':criterion,'max_depth':list(range(100,0,-3)),'min_samples_leaf': DTLeafList, 'min_samples_split':DTSplitList}\n",
    "DTC = DecisionTreeClassifier(random_state=10)\n",
    "clf2 = GridSearchCV(DTC, parameters, cv=5, verbose=0,scoring ='accuracy')\n",
    "clf2.fit(X_train, y_train)\n",
    "\n",
    "y_pred = clf2.predict(X_test)\n",
    "print(\"DTC best parameters:\", clf2.best_params_)\n",
    "print(\"DTC Train score:\", clf2.score(X_train, y_train))\n",
    "print(\"DTC Test score:\", clf2.score(X_test, y_test))"
   ]
  },
  {
   "cell_type": "code",
   "execution_count": 29,
   "metadata": {},
   "outputs": [
    {
     "data": {
      "text/plain": [
       "Text(0.5, 1, 'Decision Tree Classifier')"
      ]
     },
     "execution_count": 29,
     "metadata": {},
     "output_type": "execute_result"
    },
    {
     "data": {
      "image/png": "[encoded data removed]",
      "text/plain": [
       "<Figure size 432x288 with 2 Axes>"
      ]
     },
     "metadata": {
      "needs_background": "light"
     },
     "output_type": "display_data"
    }
   ],
   "source": [
    "ax = plt.subplot()\n",
    "Model_Predictions = clf2.predict(X_test)\n",
    "Model_Confusion_Matrix = confusion_matrix(Model_Predictions,y_test)\n",
    "sns.heatmap(Model_Confusion_Matrix,annot=True,fmt = \"d\",square = True,ax = ax, linewidths = 1,linecolor = \"w\",cmap = \"Pastel2\")\n",
    "ax.set_xlabel('True labels')\n",
    "ax.set_ylabel('Predicted labels')\n",
    "ax.xaxis.set_ticklabels([\"Loss\",\"Profit\"])\n",
    "ax.yaxis.set_ticklabels([\"Loss\",\"Profit\"], va=\"center\")\n",
    "b, t = plt.ylim() \n",
    "b += 0.5\n",
    "t -= 0.5\n",
    "plt.ylim(b, t)\n",
    "plt.title('Decision Tree Classifier')"
   ]
  },
  {
   "cell_type": "markdown",
   "metadata": {},
   "source": [
    "### 2.2.3) Random Forest Classifier"
   ]
  },
  {
   "cell_type": "code",
   "execution_count": 30,
   "metadata": {},
   "outputs": [
    {
     "name": "stdout",
     "output_type": "stream",
     "text": [
      "RFC best parameters: {'criterion': 'entropy', 'max_depth': 10, 'n_estimators': 200}\n",
      "RFC Train score: 0.8649851632047477\n",
      "RFC Test score: 0.6193771626297578\n"
     ]
    }
   ],
   "source": [
    "RFEstimatorList = [25,50,100,200]\n",
    "criterion =['gini','entropy']\n",
    "parameters = {'criterion':criterion,'max_depth':list(range(100,0,-10)),'n_estimators':RFEstimatorList}\n",
    "RFC = RandomForestClassifier(random_state=10)\n",
    "clf3 = GridSearchCV(RFC, parameters, cv=5, verbose=0,scoring ='accuracy')\n",
    "clf3.fit(X_train, y_train)\n",
    "\n",
    "y_pred = clf3.predict(X_test)\n",
    "print(\"RFC best parameters:\", clf3.best_params_)\n",
    "print(\"RFC Train score:\", clf3.score(X_train, y_train))\n",
    "print(\"RFC Test score:\", clf3.score(X_test, y_test))"
   ]
  },
  {
   "cell_type": "code",
   "execution_count": 31,
   "metadata": {},
   "outputs": [
    {
     "data": {
      "text/plain": [
       "Text(0.5, 1, 'Random Forest Classifier')"
      ]
     },
     "execution_count": 31,
     "metadata": {},
     "output_type": "execute_result"
    },
    {
     "data": {
      "image/png": "[encoded data removed]",
      "text/plain": [
       "<Figure size 432x288 with 2 Axes>"
      ]
     },
     "metadata": {
      "needs_background": "light"
     },
     "output_type": "display_data"
    }
   ],
   "source": [
    "ax = plt.subplot()\n",
    "Model_Predictions = clf3.predict(X_test)\n",
    "Model_Confusion_Matrix = confusion_matrix(Model_Predictions,y_test)\n",
    "sns.heatmap(Model_Confusion_Matrix,annot=True,fmt = \"d\",square = True,ax = ax, linewidths = 1,linecolor = \"w\",cmap = \"Pastel2\")\n",
    "ax.set_xlabel('True labels')\n",
    "ax.set_ylabel('Predicted labels')\n",
    "ax.xaxis.set_ticklabels([\"Loss\",\"Profit\"])\n",
    "ax.yaxis.set_ticklabels([\"Loss\",\"Profit\"], va=\"center\")\n",
    "b, t = plt.ylim() \n",
    "b += 0.5\n",
    "t -= 0.5\n",
    "plt.ylim(b, t)\n",
    "plt.title('Random Forest Classifier')"
   ]
  },
  {
   "cell_type": "markdown",
   "metadata": {},
   "source": [
    "### 2.2.4) KNN Classifier"
   ]
  },
  {
   "cell_type": "code",
   "execution_count": 32,
   "metadata": {},
   "outputs": [],
   "source": [
    "MMScaler = MinMaxScaler()\n",
    "X_train_scaled = MMScaler.fit_transform(X_train)\n",
    "X_test_scaled = MMScaler.transform(X_test)"
   ]
  },
  {
   "cell_type": "code",
   "execution_count": 33,
   "metadata": {},
   "outputs": [
    {
     "name": "stdout",
     "output_type": "stream",
     "text": [
      "KNN best parameters: {'n_neighbors': 50}\n",
      "KNN Train score: 0.6242581602373887\n",
      "KNN Test score: 0.5795847750865052\n"
     ]
    }
   ],
   "source": [
    "Neighbor_List=[3,5,10,20,50]\n",
    "parameters = {'n_neighbors':Neighbor_List}\n",
    "KNNC = KNeighborsClassifier()\n",
    "clf4 = GridSearchCV(KNNC, parameters, cv=5, verbose=0,scoring ='accuracy')\n",
    "clf4.fit(X_train_scaled, y_train)\n",
    "\n",
    "y_pred = clf4.predict(X_test_scaled)\n",
    "print(\"KNN best parameters:\", clf4.best_params_)\n",
    "print(\"KNN Train score:\", clf4.score(X_train_scaled, y_train))\n",
    "print(\"KNN Test score:\", clf4.score(X_test_scaled, y_test))"
   ]
  },
  {
   "cell_type": "code",
   "execution_count": 34,
   "metadata": {},
   "outputs": [
    {
     "data": {
      "text/plain": [
       "Text(0.5, 1, 'KNN Classifier')"
      ]
     },
     "execution_count": 34,
     "metadata": {},
     "output_type": "execute_result"
    },
    {
     "data": {
      "image/png": "[encoded data removed]",
      "text/plain": [
       "<Figure size 432x288 with 2 Axes>"
      ]
     },
     "metadata": {
      "needs_background": "light"
     },
     "output_type": "display_data"
    }
   ],
   "source": [
    "ax = plt.subplot()\n",
    "Model_Predictions = clf4.predict(X_test_scaled)\n",
    "Model_Confusion_Matrix = confusion_matrix(Model_Predictions,y_test)\n",
    "sns.heatmap(Model_Confusion_Matrix,annot=True,fmt = \"d\",square = True,ax = ax, linewidths = 1,linecolor = \"w\",cmap = \"Pastel2\")\n",
    "ax.set_xlabel('True labels')\n",
    "ax.set_ylabel('Predicted labels')\n",
    "ax.xaxis.set_ticklabels([\"Loss\",\"Profit\"])\n",
    "ax.yaxis.set_ticklabels([\"Loss\",\"Profit\"], va=\"center\")\n",
    "b, t = plt.ylim() \n",
    "b += 0.5\n",
    "t -= 0.5\n",
    "plt.ylim(b, t)\n",
    "plt.title('KNN Classifier')"
   ]
  },
  {
   "cell_type": "markdown",
   "metadata": {},
   "source": [
    "### 2.2.5) Gaussian Naive Bayes Classifier"
   ]
  },
  {
   "cell_type": "code",
   "execution_count": 35,
   "metadata": {},
   "outputs": [
    {
     "name": "stdout",
     "output_type": "stream",
     "text": [
      "GNB Train score: 0.5081602373887241\n",
      "GNB Test score: 0.5242214532871973\n"
     ]
    }
   ],
   "source": [
    "GNB = GaussianNB()\n",
    "GNB.fit(X_train,y_train)\n",
    "    \n",
    "y_pred = GNB.predict(X_test)\n",
    "print(\"GNB Train score:\", GNB.score(X_train, y_train))\n",
    "print(\"GNB Test score:\", GNB.score(X_test, y_test))"
   ]
  },
  {
   "cell_type": "code",
   "execution_count": 36,
   "metadata": {},
   "outputs": [
    {
     "data": {
      "text/plain": [
       "Text(0.5, 1, 'Gaussian Naive Bayes Classifier')"
      ]
     },
     "execution_count": 36,
     "metadata": {},
     "output_type": "execute_result"
    },
    {
     "data": {
      "image/png": "[encoded data removed]",
      "text/plain": [
       "<Figure size 432x288 with 2 Axes>"
      ]
     },
     "metadata": {
      "needs_background": "light"
     },
     "output_type": "display_data"
    }
   ],
   "source": [
    "ax = plt.subplot()\n",
    "Model_Predictions = GNB.predict(X_test)\n",
    "Model_Confusion_Matrix = confusion_matrix(Model_Predictions,y_test)\n",
    "sns.heatmap(Model_Confusion_Matrix,annot=True,fmt = \"d\",square = True,ax = ax, linewidths = 1,linecolor = \"w\",cmap = \"Pastel2\")\n",
    "ax.set_xlabel('True labels')\n",
    "ax.set_ylabel('Predicted labels')\n",
    "ax.xaxis.set_ticklabels([\"Loss\",\"Profit\"])\n",
    "ax.yaxis.set_ticklabels([\"Loss\",\"Profit\"], va=\"center\")\n",
    "b, t = plt.ylim() \n",
    "b += 0.5\n",
    "t -= 0.5\n",
    "plt.ylim(b, t)\n",
    "plt.title('Gaussian Naive Bayes Classifier')"
   ]
  }
 ],
 "metadata": {
  "kernelspec": {
   "display_name": "Python 3",
   "language": "python",
   "name": "python3"
  },
  "language_info": {
   "codemirror_mode": {
    "name": "ipython",
    "version": 3
   },
   "file_extension": ".py",
   "mimetype": "text/x-python",
   "name": "python",
   "nbconvert_exporter": "python",
   "pygments_lexer": "ipython3",
   "version": "3.7.4"
  }
 },
 "nbformat": 4,
 "nbformat_minor": 2
}
