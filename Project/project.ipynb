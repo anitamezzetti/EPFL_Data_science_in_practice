{
 "cells": [
  {
   "cell_type": "code",
   "execution_count": 2,
   "metadata": {},
   "outputs": [],
   "source": [
    "from collections import Counter\n",
    "\n",
    "import numpy as np\n",
    "import pandas as pd\n",
    "pd.options.mode.chained_assignment = None  # default='warn'\n",
    "import matplotlib.pyplot as plt\n",
    "import seaborn as sns"
   ]
  },
  {
   "cell_type": "code",
   "execution_count": 3,
   "metadata": {},
   "outputs": [],
   "source": [
    "movie_data = pd.read_csv(r'data/movie_metadata.csv')\n",
    "#movie_data = movie_data.replace('', np.nan)"
   ]
  },
  {
   "cell_type": "markdown",
   "metadata": {},
   "source": [
    "## Data Wrangling\n",
    "\n",
    "1. Column analysis\n",
    "2. Key value: IMDB_id\n",
    "3. Fill NaN values with Wikipedia data"
   ]
  },
  {
   "cell_type": "markdown",
   "metadata": {},
   "source": [
    "### 1) Columns analysis:\n",
    "    - color\n",
    "    - year\n",
    "    - aspect ratio\n",
    "\n",
    "We check what columns are actually useful and we analise these three, which must be edited."
   ]
  },
  {
   "cell_type": "code",
   "execution_count": 4,
   "metadata": {},
   "outputs": [
    {
     "name": "stdout",
     "output_type": "stream",
     "text": [
      "The features of the movie datase are:\n",
      "color\n",
      "director_name\n",
      "num_critic_for_reviews\n",
      "duration\n",
      "director_facebook_likes\n",
      "actor_3_facebook_likes\n",
      "actor_2_name\n",
      "actor_1_facebook_likes\n",
      "gross\n",
      "genres\n",
      "actor_1_name\n",
      "movie_title\n",
      "num_voted_users\n",
      "cast_total_facebook_likes\n",
      "actor_3_name\n",
      "facenumber_in_poster\n",
      "plot_keywords\n",
      "movie_imdb_link\n",
      "num_user_for_reviews\n",
      "language\n",
      "country\n",
      "content_rating\n",
      "budget\n",
      "title_year\n",
      "actor_2_facebook_likes\n",
      "imdb_score\n",
      "aspect_ratio\n",
      "movie_facebook_likes\n"
     ]
    }
   ],
   "source": [
    "col = movie_data.columns\n",
    "print(\"The features of the movie datase are:\")\n",
    "print(*col, sep = \"\\n\")"
   ]
  },
  {
   "cell_type": "code",
   "execution_count": 5,
   "metadata": {},
   "outputs": [
    {
     "data": {
      "text/plain": [
       "color                         object\n",
       "director_name                 object\n",
       "num_critic_for_reviews       float64\n",
       "duration                     float64\n",
       "director_facebook_likes      float64\n",
       "actor_3_facebook_likes       float64\n",
       "actor_2_name                  object\n",
       "actor_1_facebook_likes       float64\n",
       "gross                        float64\n",
       "genres                        object\n",
       "actor_1_name                  object\n",
       "movie_title                   object\n",
       "num_voted_users                int64\n",
       "cast_total_facebook_likes      int64\n",
       "actor_3_name                  object\n",
       "facenumber_in_poster         float64\n",
       "plot_keywords                 object\n",
       "movie_imdb_link               object\n",
       "num_user_for_reviews         float64\n",
       "language                      object\n",
       "country                       object\n",
       "content_rating                object\n",
       "budget                       float64\n",
       "title_year                   float64\n",
       "actor_2_facebook_likes       float64\n",
       "imdb_score                   float64\n",
       "aspect_ratio                 float64\n",
       "movie_facebook_likes           int64\n",
       "dtype: object"
      ]
     },
     "execution_count": 5,
     "metadata": {},
     "output_type": "execute_result"
    }
   ],
   "source": [
    "movie_data.dtypes"
   ]
  },
  {
   "cell_type": "markdown",
   "metadata": {},
   "source": [
    "**Color**\n",
    "\n",
    "We check that the color column is binary: a film or is 'black and white' or is 'color'. Then, we drop the color column, because we want to help a modern film company and it is gonna make color films quite surely. \n",
    "\n",
    "In fact, in the next cells we are gonna keep only movies produced after the 1980. Most of them are 'Color'."
   ]
  },
  {
   "cell_type": "code",
   "execution_count": 6,
   "metadata": {},
   "outputs": [
    {
     "name": "stdout",
     "output_type": "stream",
     "text": [
      "The color column has only 2 different values: 'Color' and ' Black and White'.\n"
     ]
    }
   ],
   "source": [
    "colors = movie_data.color.unique() # values in the column color\n",
    "color_values = [x for x in colors if str(x) != 'nan']# drop nan\n",
    "#color_values[1] = color_values[1].strip() # delete spaces before 'black'\n",
    "print(f\"The color column has only {len(color_values)} different values: '{color_values[0]}' and '{color_values[1]}'.\")"
   ]
  },
  {
   "cell_type": "code",
   "execution_count": 7,
   "metadata": {},
   "outputs": [
    {
     "name": "stdout",
     "output_type": "stream",
     "text": [
      "For each year, we check how many films are colored and how many black and white:\n"
     ]
    },
    {
     "data": {
      "text/html": [
       "<div>\n",
       "<style scoped>\n",
       "    .dataframe tbody tr th:only-of-type {\n",
       "        vertical-align: middle;\n",
       "    }\n",
       "\n",
       "    .dataframe tbody tr th {\n",
       "        vertical-align: top;\n",
       "    }\n",
       "\n",
       "    .dataframe thead th {\n",
       "        text-align: right;\n",
       "    }\n",
       "</style>\n",
       "<table border=\"1\" class=\"dataframe\">\n",
       "  <thead>\n",
       "    <tr style=\"text-align: right;\">\n",
       "      <th></th>\n",
       "      <th>num_color</th>\n",
       "      <th>num_black_white</th>\n",
       "    </tr>\n",
       "    <tr>\n",
       "      <th>year</th>\n",
       "      <th></th>\n",
       "      <th></th>\n",
       "    </tr>\n",
       "  </thead>\n",
       "  <tbody>\n",
       "    <tr>\n",
       "      <th>1916</th>\n",
       "      <td>0</td>\n",
       "      <td>1</td>\n",
       "    </tr>\n",
       "    <tr>\n",
       "      <th>1920</th>\n",
       "      <td>0</td>\n",
       "      <td>1</td>\n",
       "    </tr>\n",
       "    <tr>\n",
       "      <th>1925</th>\n",
       "      <td>0</td>\n",
       "      <td>1</td>\n",
       "    </tr>\n",
       "    <tr>\n",
       "      <th>1927</th>\n",
       "      <td>0</td>\n",
       "      <td>1</td>\n",
       "    </tr>\n",
       "    <tr>\n",
       "      <th>1929</th>\n",
       "      <td>0</td>\n",
       "      <td>2</td>\n",
       "    </tr>\n",
       "  </tbody>\n",
       "</table>\n",
       "</div>"
      ],
      "text/plain": [
       "      num_color  num_black_white\n",
       "year                            \n",
       "1916          0                1\n",
       "1920          0                1\n",
       "1925          0                1\n",
       "1927          0                1\n",
       "1929          0                2"
      ]
     },
     "execution_count": 7,
     "metadata": {},
     "output_type": "execute_result"
    }
   ],
   "source": [
    "# dataframe years and colors:\n",
    "year_color = movie_data[['color', 'title_year']] # we only need color and year\n",
    "year_color = year_color[~year_color.color.isnull()] # deletete color NaN values \n",
    "year_color = year_color[~year_color.title_year.isnull()]  # deletete title NaN values \n",
    "year_color = year_color.sort_values('title_year') # sort by year\n",
    "\n",
    "years = year_color.title_year.drop_duplicates().tolist() # years\n",
    "n_years = len(years)\n",
    "\n",
    "for i in range(n_years): \n",
    "    year = int(years[i]) # year\n",
    "    year_movies = year_color.loc[year_color['title_year'] == years[i]].color.values # all colors of film of that year\n",
    "    \n",
    "    # number black and white and color movies for each year\n",
    "    num_c = (year_movies == color_values[0]).sum()\n",
    "    num_bw = (year_movies == color_values[1]).sum()\n",
    "    \n",
    "    # dataframe: for each row year, num colors, num blackwhite\n",
    "    d = {'year':year , 'num_color':num_c , 'num_black_white':num_bw }\n",
    "    \n",
    "    if i==0 :\n",
    "        year_number_colors = pd.DataFrame( data = d , index = [year] )\n",
    "    else: \n",
    "        #year_number_colors = pd.concat(d, ignore_index=True)\n",
    "        d2 = pd.DataFrame( data = d , index = [year])\n",
    "        year_number_colors = year_number_colors.append(d2, ignore_index=True)\n",
    "        \n",
    "print(\"For each year, we check how many films are colored and how many black and white:\")\n",
    "year_number_colors = year_number_colors.set_index('year')\n",
    "year_number_colors.head()"
   ]
  },
  {
   "cell_type": "code",
   "execution_count": 8,
   "metadata": {},
   "outputs": [
    {
     "data": {
      "image/png": "[encoded data removed]",
      "text/plain": [
       "<Figure size 432x288 with 1 Axes>"
      ]
     },
     "metadata": {
      "needs_background": "light"
     },
     "output_type": "display_data"
    }
   ],
   "source": [
    "barWidth = 0.25\n",
    "\n",
    "ax = year_number_colors.plot.hist( by=['num_color','num_black_white'], bins=n_years, alpha=0.5)\n",
    "\n",
    "# FRAAAAAAAAAAA log scale\n"
   ]
  },
  {
   "cell_type": "markdown",
   "metadata": {},
   "source": [
    "We can see that most of movies in recent years are color, so this column is not a relevant feature. We can drop it"
   ]
  },
  {
   "cell_type": "code",
   "execution_count": 9,
   "metadata": {},
   "outputs": [],
   "source": [
    "movie_data = movie_data.drop('color', axis=1) # drop color column"
   ]
  },
  {
   "cell_type": "markdown",
   "metadata": {},
   "source": [
    "**Year**\n",
    "\n",
    "Custumers' tastes change really fastly. We have already decided to drop black and white films, because they are not relevant for the analysis. In the same way, we can ignore films which were produced before 1980. As it can be seen in this histogram, this choice does not drop the majority of the movies, which were produced after 1980."
   ]
  },
  {
   "cell_type": "code",
   "execution_count": 10,
   "metadata": {},
   "outputs": [
    {
     "data": {
      "image/png": "[encoded data removed]",
      "text/plain": [
       "<Figure size 432x288 with 1 Axes>"
      ]
     },
     "metadata": {
      "needs_background": "light"
     },
     "output_type": "display_data"
    }
   ],
   "source": [
    "movie_data.title_year.hist();"
   ]
  },
  {
   "cell_type": "code",
   "execution_count": 11,
   "metadata": {},
   "outputs": [
    {
     "data": {
      "image/png": "[encoded data removed]",
      "text/plain": [
       "<Figure size 432x288 with 1 Axes>"
      ]
     },
     "metadata": {
      "needs_background": "light"
     },
     "output_type": "display_data"
    }
   ],
   "source": [
    "movie_data = movie_data[movie_data.title_year>=1980] # drop film before 1980\n",
    "movie_data.title_year.hist();"
   ]
  },
  {
   "cell_type": "markdown",
   "metadata": {},
   "source": [
    "**Aspect Ratio**\n",
    "\n",
    "We want to anlyse if the aspect ratio is an intresting feature. Nowadays, there are some rules which says the ratio that film-makers must use (we cans earch something online). In order to do that we investigate for each year what aspect ratios were used. ù\n",
    "\n",
    "For example wikipedia says (https://en.wikipedia.org/wiki/Aspect_ratio_(image)) :\n",
    "\n",
    "The most common aspect ratios used today in the presentation of films in cinemas are 1.85:1 and 2.39:1.[2] Two common videographic aspect ratios are 4:3 (1.3:1),[a] the universal video format of the 20th century, and 16:9 (1.7:1), universal for high-definition television and European digital television. Other cinema and video aspect ratios exist, but are used infrequently."
   ]
  },
  {
   "cell_type": "code",
   "execution_count": 12,
   "metadata": {},
   "outputs": [
    {
     "name": "stdout",
     "output_type": "stream",
     "text": [
      "The aspect ratios which were used were:\n",
      "1.18\n",
      "1.33\n",
      "1.37\n",
      "1.44\n",
      "1.5\n",
      "1.66\n",
      "1.75\n",
      "1.77\n",
      "1.78\n",
      "1.85\n",
      "1.89\n",
      "2.0\n",
      "2.2\n",
      "2.24\n",
      "2.35\n",
      "2.39\n",
      "2.4\n",
      "2.55\n",
      "2.76\n",
      "16.0\n"
     ]
    }
   ],
   "source": [
    "ar = movie_data.aspect_ratio.unique() \n",
    "ar = [x for x in ar if str(x) != 'nan'] # drop nan\n",
    "ar = sorted(ar) # sort \n",
    "print(\"The aspect ratios which were used were:\")\n",
    "print(*ar, sep = \"\\n\")"
   ]
  },
  {
   "cell_type": "code",
   "execution_count": 13,
   "metadata": {},
   "outputs": [
    {
     "name": "stdout",
     "output_type": "stream",
     "text": [
      "For each year, we check the number of films for eaxhs:\n"
     ]
    },
    {
     "data": {
      "text/html": [
       "<div>\n",
       "<style scoped>\n",
       "    .dataframe tbody tr th:only-of-type {\n",
       "        vertical-align: middle;\n",
       "    }\n",
       "\n",
       "    .dataframe tbody tr th {\n",
       "        vertical-align: top;\n",
       "    }\n",
       "\n",
       "    .dataframe thead th {\n",
       "        text-align: right;\n",
       "    }\n",
       "</style>\n",
       "<table border=\"1\" class=\"dataframe\">\n",
       "  <thead>\n",
       "    <tr style=\"text-align: right;\">\n",
       "      <th></th>\n",
       "      <th>1.18</th>\n",
       "      <th>1.33</th>\n",
       "      <th>1.37</th>\n",
       "      <th>1.44</th>\n",
       "      <th>1.5</th>\n",
       "      <th>1.66</th>\n",
       "      <th>1.75</th>\n",
       "      <th>1.77</th>\n",
       "      <th>1.78</th>\n",
       "      <th>1.85</th>\n",
       "      <th>...</th>\n",
       "      <th>2.0</th>\n",
       "      <th>2.2</th>\n",
       "      <th>2.24</th>\n",
       "      <th>2.35</th>\n",
       "      <th>2.39</th>\n",
       "      <th>2.4</th>\n",
       "      <th>2.55</th>\n",
       "      <th>2.76</th>\n",
       "      <th>16.0</th>\n",
       "      <th>year</th>\n",
       "    </tr>\n",
       "  </thead>\n",
       "  <tbody>\n",
       "    <tr>\n",
       "      <th>0</th>\n",
       "      <td>0</td>\n",
       "      <td>0</td>\n",
       "      <td>1</td>\n",
       "      <td>0</td>\n",
       "      <td>0</td>\n",
       "      <td>0</td>\n",
       "      <td>0</td>\n",
       "      <td>0</td>\n",
       "      <td>0</td>\n",
       "      <td>11</td>\n",
       "      <td>...</td>\n",
       "      <td>0</td>\n",
       "      <td>0</td>\n",
       "      <td>0</td>\n",
       "      <td>12</td>\n",
       "      <td>0</td>\n",
       "      <td>0</td>\n",
       "      <td>0</td>\n",
       "      <td>0</td>\n",
       "      <td>0</td>\n",
       "      <td>1980</td>\n",
       "    </tr>\n",
       "    <tr>\n",
       "      <th>1</th>\n",
       "      <td>0</td>\n",
       "      <td>0</td>\n",
       "      <td>2</td>\n",
       "      <td>0</td>\n",
       "      <td>0</td>\n",
       "      <td>0</td>\n",
       "      <td>0</td>\n",
       "      <td>0</td>\n",
       "      <td>1</td>\n",
       "      <td>15</td>\n",
       "      <td>...</td>\n",
       "      <td>0</td>\n",
       "      <td>0</td>\n",
       "      <td>0</td>\n",
       "      <td>15</td>\n",
       "      <td>0</td>\n",
       "      <td>0</td>\n",
       "      <td>0</td>\n",
       "      <td>0</td>\n",
       "      <td>0</td>\n",
       "      <td>1981</td>\n",
       "    </tr>\n",
       "    <tr>\n",
       "      <th>2</th>\n",
       "      <td>0</td>\n",
       "      <td>0</td>\n",
       "      <td>0</td>\n",
       "      <td>0</td>\n",
       "      <td>0</td>\n",
       "      <td>0</td>\n",
       "      <td>0</td>\n",
       "      <td>0</td>\n",
       "      <td>0</td>\n",
       "      <td>12</td>\n",
       "      <td>...</td>\n",
       "      <td>0</td>\n",
       "      <td>0</td>\n",
       "      <td>0</td>\n",
       "      <td>16</td>\n",
       "      <td>0</td>\n",
       "      <td>0</td>\n",
       "      <td>0</td>\n",
       "      <td>0</td>\n",
       "      <td>0</td>\n",
       "      <td>1982</td>\n",
       "    </tr>\n",
       "    <tr>\n",
       "      <th>3</th>\n",
       "      <td>0</td>\n",
       "      <td>0</td>\n",
       "      <td>0</td>\n",
       "      <td>0</td>\n",
       "      <td>0</td>\n",
       "      <td>0</td>\n",
       "      <td>0</td>\n",
       "      <td>0</td>\n",
       "      <td>0</td>\n",
       "      <td>12</td>\n",
       "      <td>...</td>\n",
       "      <td>0</td>\n",
       "      <td>0</td>\n",
       "      <td>0</td>\n",
       "      <td>8</td>\n",
       "      <td>0</td>\n",
       "      <td>0</td>\n",
       "      <td>0</td>\n",
       "      <td>0</td>\n",
       "      <td>0</td>\n",
       "      <td>1983</td>\n",
       "    </tr>\n",
       "    <tr>\n",
       "      <th>4</th>\n",
       "      <td>0</td>\n",
       "      <td>0</td>\n",
       "      <td>0</td>\n",
       "      <td>0</td>\n",
       "      <td>0</td>\n",
       "      <td>0</td>\n",
       "      <td>0</td>\n",
       "      <td>0</td>\n",
       "      <td>0</td>\n",
       "      <td>21</td>\n",
       "      <td>...</td>\n",
       "      <td>0</td>\n",
       "      <td>1</td>\n",
       "      <td>0</td>\n",
       "      <td>9</td>\n",
       "      <td>0</td>\n",
       "      <td>0</td>\n",
       "      <td>0</td>\n",
       "      <td>0</td>\n",
       "      <td>0</td>\n",
       "      <td>1984</td>\n",
       "    </tr>\n",
       "  </tbody>\n",
       "</table>\n",
       "<p>5 rows × 21 columns</p>\n",
       "</div>"
      ],
      "text/plain": [
       "   1.18  1.33  1.37  1.44  1.5  1.66  1.75  1.77  1.78  1.85  ...  2.0  2.2  \\\n",
       "0     0     0     1     0    0     0     0     0     0    11  ...    0    0   \n",
       "1     0     0     2     0    0     0     0     0     1    15  ...    0    0   \n",
       "2     0     0     0     0    0     0     0     0     0    12  ...    0    0   \n",
       "3     0     0     0     0    0     0     0     0     0    12  ...    0    0   \n",
       "4     0     0     0     0    0     0     0     0     0    21  ...    0    1   \n",
       "\n",
       "   2.24  2.35  2.39  2.4  2.55  2.76  16.0  year  \n",
       "0     0    12     0    0     0     0     0  1980  \n",
       "1     0    15     0    0     0     0     0  1981  \n",
       "2     0    16     0    0     0     0     0  1982  \n",
       "3     0     8     0    0     0     0     0  1983  \n",
       "4     0     9     0    0     0     0     0  1984  \n",
       "\n",
       "[5 rows x 21 columns]"
      ]
     },
     "execution_count": 13,
     "metadata": {},
     "output_type": "execute_result"
    }
   ],
   "source": [
    "# dataframe years and aspect ratio:\n",
    "year_ar = movie_data[['title_year', 'aspect_ratio']] # we only need color and year\n",
    "year_ar = year_ar[~year_ar.aspect_ratio.isnull()] # deletete color NaN values \n",
    "year_ar = year_ar[~year_ar.title_year.isnull()]  # deletete title NaN values \n",
    "year_ar = year_ar.sort_values('title_year') # sort by year\n",
    "\n",
    "years = year_ar.title_year.drop_duplicates().tolist() # years\n",
    "n_years = len(years)\n",
    "\n",
    "for i in range(n_years):  \n",
    "    year = int(years[i]) # year\n",
    "    year_movies = year_ar.loc[year_ar['title_year'] == years[i]].aspect_ratio.values # all colors of film of that year\n",
    "    \n",
    "    # number of each of the aspect ratios\n",
    "    num = [] \n",
    "    for j in range(len(ar)): # for each aspect ratio\n",
    "        sum_ar = (year_movies == ar[j]).sum()\n",
    "        num.append(sum_ar) \n",
    "    \n",
    "    # dataframe: for each row year, num of each aspect ratio\n",
    "    d = dict(zip(ar, num)) # dictionary to create the dataframe\n",
    "    \n",
    "    d['year'] = year\n",
    "    \n",
    "    if i==0 :\n",
    "        year_number_ar = pd.DataFrame( data = d , index = [year] )\n",
    "    else: \n",
    "        #year_number_colors = pd.concat(d, ignore_index=True)\n",
    "        d2 = pd.DataFrame( data = d , index = [year])\n",
    "        year_number_ar = year_number_ar.append(d2, ignore_index=True)\n",
    "        \n",
    "print(\"For each year, we check the number of films for eaxhs:\")\n",
    "#year_number_ar = year_number_ar.set_index('year')\n",
    "year_number_ar.head()"
   ]
  },
  {
   "cell_type": "markdown",
   "metadata": {},
   "source": [
    "From this Data Frame we can see that 1.85 and 2.35 have way more movies than all the others ratios. We can plot these two and the sum of all the other and see that the other are irrelevant."
   ]
  },
  {
   "cell_type": "code",
   "execution_count": 14,
   "metadata": {},
   "outputs": [],
   "source": [
    "#we sum all the other columns: \n",
    "\n",
    "year_number_ar['sum'] =  year_number_ar[year_number_ar.columns[0]]\n",
    "lista = [1,2,3,4,5,6,7,8,10,11,12,13,15,16,17,18,19]\n",
    "\n",
    "for i in range(len(lista)):\n",
    "    index = lista[i]\n",
    "    year_number_ar['sum'] = year_number_ar['sum'] + year_number_ar[year_number_ar.columns[index]]"
   ]
  },
  {
   "cell_type": "code",
   "execution_count": 22,
   "metadata": {},
   "outputs": [
    {
     "data": {
      "image/png": "[encoded data removed]",
      "text/plain": [
       "<Figure size 432x288 with 1 Axes>"
      ]
     },
     "metadata": {
      "needs_background": "light"
     },
     "output_type": "display_data"
    }
   ],
   "source": [
    "# plot:\n",
    "# identification of the columns\n",
    "ar_185 = year_number_ar.columns[9]\n",
    "ar_235 = year_number_ar.columns[14]\n",
    "ar_sum = year_number_ar.columns[21]\n",
    "\n",
    "\n",
    "year_number_ar.plot(kind='line',x='year', y=[ar_185,ar_235, ar_sum])\n",
    "plt.xlabel('year')\n",
    "plt.ylabel('# movies')\n",
    "plt.legend(['1.85','2.35','sum of all other ratios'])\n",
    "plt.title(\"Number of movies for each year for different aspect ratios\")\n",
    "plt.show()"
   ]
  },
  {
   "cell_type": "markdown",
   "metadata": {},
   "source": [
    "This plot shows that in the last years most of the movies use only two aspect ratios. So, it is not a intresting feature: probablu there is some obbligation and our film company should not use this characteristic to decide the next investment. \n",
    "    \n",
    "In particulare, we see a drop in the orange line after 2012. This does not mean that the customers prefer other aspect ratio. This is due to a geenral drop in film production. In fact, also other lines goes down. To show this we can use percentage:\n"
   ]
  },
  {
   "cell_type": "code",
   "execution_count": 36,
   "metadata": {},
   "outputs": [
    {
     "data": {
      "image/png": "[encoded data removed]",
      "text/plain": [
       "<Figure size 432x288 with 1 Axes>"
      ]
     },
     "metadata": {
      "needs_background": "light"
     },
     "output_type": "display_data"
    }
   ],
   "source": [
    "ar_185_perc = year_number_ar[year_number_ar.columns[9]].values\n",
    "ar_235_perc = year_number_ar[year_number_ar.columns[14]].values\n",
    "ar_sum_perc = year_number_ar[year_number_ar.columns[21]].values\n",
    "at_tot = ar_185_perc + ar_235_perc + ar_sum_perc\n",
    "years = year_number_ar.index.values\n",
    "\n",
    "\n",
    "plt.plot(years,ar_185_perc/at_tot)\n",
    "plt.plot(years,ar_235_perc/at_tot)\n",
    "plt.plot(years,ar_sum_perc/at_tot)\n",
    "plt.xlabel('year')\n",
    "plt.ylabel('% movies')\n",
    "plt.legend(['1.85','2.35','sum of all other ratios'])\n",
    "plt.title(\"Number of movies for each year for different aspect ratios in %\")\n",
    "plt.show()"
   ]
  },
  {
   "cell_type": "code",
   "execution_count": 28,
   "metadata": {},
   "outputs": [
    {
     "data": {
      "text/plain": [
       "array([ 24,  33,  28,  20,  31,  28,  26,  31,  31,  33,  28,  31,  34,\n",
       "        48,  53,  69,  98, 112, 129, 163, 166, 187, 206, 165, 204, 212,\n",
       "       231, 196, 221, 245, 215, 208, 201, 207, 197, 174,  85])"
      ]
     },
     "execution_count": 28,
     "metadata": {},
     "output_type": "execute_result"
    }
   ],
   "source": [
    "at_tot.values"
   ]
  },
  {
   "cell_type": "markdown",
   "metadata": {},
   "source": [
    "We will analize the general drop of number of films and possible reasons. Here we want to focus only on aspect ratio. In conclusion, we can drop this column. "
   ]
  },
  {
   "cell_type": "code",
   "execution_count": 15,
   "metadata": {},
   "outputs": [],
   "source": [
    "movie_data = movie_data.drop('aspect_ratio', axis=1) # drop aspect ratio column"
   ]
  },
  {
   "cell_type": "markdown",
   "metadata": {},
   "source": [
    "### 2) Key value: IMDB_id\n",
    "\n",
    "From the movie_imdb_link we extract the IMDB_id. It is useful to match this database with the another one, that we need to fill the NaN values. The reason why we do not use the title to match them is that the title is not an unique key: it can be inconsistent between different data sets (eg Capitalization). \n",
    "We chack that this 'imdb_id' is unique and we set it as index "
   ]
  },
  {
   "cell_type": "code",
   "execution_count": 16,
   "metadata": {},
   "outputs": [
    {
     "data": {
      "text/html": [
       "<div>\n",
       "<style scoped>\n",
       "    .dataframe tbody tr th:only-of-type {\n",
       "        vertical-align: middle;\n",
       "    }\n",
       "\n",
       "    .dataframe tbody tr th {\n",
       "        vertical-align: top;\n",
       "    }\n",
       "\n",
       "    .dataframe thead th {\n",
       "        text-align: right;\n",
       "    }\n",
       "</style>\n",
       "<table border=\"1\" class=\"dataframe\">\n",
       "  <thead>\n",
       "    <tr style=\"text-align: right;\">\n",
       "      <th></th>\n",
       "      <th>director_name</th>\n",
       "      <th>num_critic_for_reviews</th>\n",
       "      <th>duration</th>\n",
       "      <th>director_facebook_likes</th>\n",
       "      <th>actor_3_facebook_likes</th>\n",
       "      <th>actor_2_name</th>\n",
       "      <th>actor_1_facebook_likes</th>\n",
       "      <th>gross</th>\n",
       "      <th>genres</th>\n",
       "      <th>actor_1_name</th>\n",
       "      <th>...</th>\n",
       "      <th>num_user_for_reviews</th>\n",
       "      <th>language</th>\n",
       "      <th>country</th>\n",
       "      <th>content_rating</th>\n",
       "      <th>budget</th>\n",
       "      <th>title_year</th>\n",
       "      <th>actor_2_facebook_likes</th>\n",
       "      <th>imdb_score</th>\n",
       "      <th>movie_facebook_likes</th>\n",
       "      <th>imdb_id</th>\n",
       "    </tr>\n",
       "  </thead>\n",
       "  <tbody>\n",
       "    <tr>\n",
       "      <th>0</th>\n",
       "      <td>James Cameron</td>\n",
       "      <td>723.0</td>\n",
       "      <td>178.0</td>\n",
       "      <td>0.0</td>\n",
       "      <td>855.0</td>\n",
       "      <td>Joel David Moore</td>\n",
       "      <td>1000.0</td>\n",
       "      <td>760505847.0</td>\n",
       "      <td>Action|Adventure|Fantasy|Sci-Fi</td>\n",
       "      <td>CCH Pounder</td>\n",
       "      <td>...</td>\n",
       "      <td>3054.0</td>\n",
       "      <td>English</td>\n",
       "      <td>USA</td>\n",
       "      <td>PG-13</td>\n",
       "      <td>237000000.0</td>\n",
       "      <td>2009.0</td>\n",
       "      <td>936.0</td>\n",
       "      <td>7.9</td>\n",
       "      <td>33000</td>\n",
       "      <td>tt0499549</td>\n",
       "    </tr>\n",
       "    <tr>\n",
       "      <th>1</th>\n",
       "      <td>Gore Verbinski</td>\n",
       "      <td>302.0</td>\n",
       "      <td>169.0</td>\n",
       "      <td>563.0</td>\n",
       "      <td>1000.0</td>\n",
       "      <td>Orlando Bloom</td>\n",
       "      <td>40000.0</td>\n",
       "      <td>309404152.0</td>\n",
       "      <td>Action|Adventure|Fantasy</td>\n",
       "      <td>Johnny Depp</td>\n",
       "      <td>...</td>\n",
       "      <td>1238.0</td>\n",
       "      <td>English</td>\n",
       "      <td>USA</td>\n",
       "      <td>PG-13</td>\n",
       "      <td>300000000.0</td>\n",
       "      <td>2007.0</td>\n",
       "      <td>5000.0</td>\n",
       "      <td>7.1</td>\n",
       "      <td>0</td>\n",
       "      <td>tt0449088</td>\n",
       "    </tr>\n",
       "    <tr>\n",
       "      <th>2</th>\n",
       "      <td>Sam Mendes</td>\n",
       "      <td>602.0</td>\n",
       "      <td>148.0</td>\n",
       "      <td>0.0</td>\n",
       "      <td>161.0</td>\n",
       "      <td>Rory Kinnear</td>\n",
       "      <td>11000.0</td>\n",
       "      <td>200074175.0</td>\n",
       "      <td>Action|Adventure|Thriller</td>\n",
       "      <td>Christoph Waltz</td>\n",
       "      <td>...</td>\n",
       "      <td>994.0</td>\n",
       "      <td>English</td>\n",
       "      <td>UK</td>\n",
       "      <td>PG-13</td>\n",
       "      <td>245000000.0</td>\n",
       "      <td>2015.0</td>\n",
       "      <td>393.0</td>\n",
       "      <td>6.8</td>\n",
       "      <td>85000</td>\n",
       "      <td>tt2379713</td>\n",
       "    </tr>\n",
       "    <tr>\n",
       "      <th>3</th>\n",
       "      <td>Christopher Nolan</td>\n",
       "      <td>813.0</td>\n",
       "      <td>164.0</td>\n",
       "      <td>22000.0</td>\n",
       "      <td>23000.0</td>\n",
       "      <td>Christian Bale</td>\n",
       "      <td>27000.0</td>\n",
       "      <td>448130642.0</td>\n",
       "      <td>Action|Thriller</td>\n",
       "      <td>Tom Hardy</td>\n",
       "      <td>...</td>\n",
       "      <td>2701.0</td>\n",
       "      <td>English</td>\n",
       "      <td>USA</td>\n",
       "      <td>PG-13</td>\n",
       "      <td>250000000.0</td>\n",
       "      <td>2012.0</td>\n",
       "      <td>23000.0</td>\n",
       "      <td>8.5</td>\n",
       "      <td>164000</td>\n",
       "      <td>tt1345836</td>\n",
       "    </tr>\n",
       "    <tr>\n",
       "      <th>5</th>\n",
       "      <td>Andrew Stanton</td>\n",
       "      <td>462.0</td>\n",
       "      <td>132.0</td>\n",
       "      <td>475.0</td>\n",
       "      <td>530.0</td>\n",
       "      <td>Samantha Morton</td>\n",
       "      <td>640.0</td>\n",
       "      <td>73058679.0</td>\n",
       "      <td>Action|Adventure|Sci-Fi</td>\n",
       "      <td>Daryl Sabara</td>\n",
       "      <td>...</td>\n",
       "      <td>738.0</td>\n",
       "      <td>English</td>\n",
       "      <td>USA</td>\n",
       "      <td>PG-13</td>\n",
       "      <td>263700000.0</td>\n",
       "      <td>2012.0</td>\n",
       "      <td>632.0</td>\n",
       "      <td>6.6</td>\n",
       "      <td>24000</td>\n",
       "      <td>tt0401729</td>\n",
       "    </tr>\n",
       "  </tbody>\n",
       "</table>\n",
       "<p>5 rows × 26 columns</p>\n",
       "</div>"
      ],
      "text/plain": [
       "       director_name  num_critic_for_reviews  duration  \\\n",
       "0      James Cameron                   723.0     178.0   \n",
       "1     Gore Verbinski                   302.0     169.0   \n",
       "2         Sam Mendes                   602.0     148.0   \n",
       "3  Christopher Nolan                   813.0     164.0   \n",
       "5     Andrew Stanton                   462.0     132.0   \n",
       "\n",
       "   director_facebook_likes  actor_3_facebook_likes      actor_2_name  \\\n",
       "0                      0.0                   855.0  Joel David Moore   \n",
       "1                    563.0                  1000.0     Orlando Bloom   \n",
       "2                      0.0                   161.0      Rory Kinnear   \n",
       "3                  22000.0                 23000.0    Christian Bale   \n",
       "5                    475.0                   530.0   Samantha Morton   \n",
       "\n",
       "   actor_1_facebook_likes        gross                           genres  \\\n",
       "0                  1000.0  760505847.0  Action|Adventure|Fantasy|Sci-Fi   \n",
       "1                 40000.0  309404152.0         Action|Adventure|Fantasy   \n",
       "2                 11000.0  200074175.0        Action|Adventure|Thriller   \n",
       "3                 27000.0  448130642.0                  Action|Thriller   \n",
       "5                   640.0   73058679.0          Action|Adventure|Sci-Fi   \n",
       "\n",
       "      actor_1_name  ... num_user_for_reviews  language  country  \\\n",
       "0      CCH Pounder  ...               3054.0   English      USA   \n",
       "1      Johnny Depp  ...               1238.0   English      USA   \n",
       "2  Christoph Waltz  ...                994.0   English       UK   \n",
       "3        Tom Hardy  ...               2701.0   English      USA   \n",
       "5     Daryl Sabara  ...                738.0   English      USA   \n",
       "\n",
       "  content_rating       budget title_year  actor_2_facebook_likes imdb_score  \\\n",
       "0          PG-13  237000000.0     2009.0                   936.0        7.9   \n",
       "1          PG-13  300000000.0     2007.0                  5000.0        7.1   \n",
       "2          PG-13  245000000.0     2015.0                   393.0        6.8   \n",
       "3          PG-13  250000000.0     2012.0                 23000.0        8.5   \n",
       "5          PG-13  263700000.0     2012.0                   632.0        6.6   \n",
       "\n",
       "  movie_facebook_likes    imdb_id  \n",
       "0                33000  tt0499549  \n",
       "1                    0  tt0449088  \n",
       "2                85000  tt2379713  \n",
       "3               164000  tt1345836  \n",
       "5                24000  tt0401729  \n",
       "\n",
       "[5 rows x 26 columns]"
      ]
     },
     "execution_count": 16,
     "metadata": {},
     "output_type": "execute_result"
    }
   ],
   "source": [
    "# extraction of imdb_id \n",
    "movie_data['imdb_id'] = movie_data.movie_imdb_link.str.split('/').map(lambda row: row[4])\n",
    "if movie_data.imdb_id.nunique()==len(movie_data.imdb_id): \n",
    "    movie_data = movie_data.set_index(imdb_id) # add imdb_id as a new column\n",
    "\n",
    "movie_data = movie_data.drop('movie_imdb_link', axis=1) # drop link column\n",
    "    \n",
    "movie_data.head()"
   ]
  },
  {
   "cell_type": "markdown",
   "metadata": {},
   "source": [
    "Now, we cannot just set imdb_id as index: this is not an unique key right now. Before, we have to delete duplicate rows. \n",
    "\n",
    "This is also the first step for the deetion of NaN values. In fact, a lot of NaN values derive from the fact that if a film is present two time, not noth lines have all the values."
   ]
  },
  {
   "cell_type": "code",
   "execution_count": 17,
   "metadata": {},
   "outputs": [
    {
     "name": "stdout",
     "output_type": "stream",
     "text": [
      "Number of NaN values for each feature before dropping doplicate rows:\n"
     ]
    },
    {
     "data": {
      "text/plain": [
       "director_name                  0\n",
       "num_critic_for_reviews        41\n",
       "duration                      12\n",
       "director_facebook_likes        0\n",
       "actor_3_facebook_likes        16\n",
       "actor_2_name                  10\n",
       "actor_1_facebook_likes         7\n",
       "gross                        619\n",
       "genres                         0\n",
       "actor_1_name                   7\n",
       "movie_title                    0\n",
       "num_voted_users                0\n",
       "cast_total_facebook_likes      0\n",
       "actor_3_name                  16\n",
       "facenumber_in_poster          13\n",
       "plot_keywords                140\n",
       "num_user_for_reviews          15\n",
       "language                       5\n",
       "country                        1\n",
       "content_rating               255\n",
       "budget                       375\n",
       "title_year                     0\n",
       "actor_2_facebook_likes        10\n",
       "imdb_score                     0\n",
       "movie_facebook_likes           0\n",
       "imdb_id                        0\n",
       "dtype: int64"
      ]
     },
     "execution_count": 17,
     "metadata": {},
     "output_type": "execute_result"
    }
   ],
   "source": [
    "print(\"Number of NaN values for each feature before dropping doplicate rows:\")\n",
    "movie_data.isna().sum()"
   ]
  },
  {
   "cell_type": "markdown",
   "metadata": {},
   "source": [
    "From the DataFrame we delete duplicates movies. In order to do that, we sort our value for the number of NaN and we keep only the copy with the lower number of features with value NaN. \n",
    "This should not only delete duplicates, but also reduce the number of NaN for each feature."
   ]
  },
  {
   "cell_type": "code",
   "execution_count": 18,
   "metadata": {},
   "outputs": [
    {
     "name": "stdout",
     "output_type": "stream",
     "text": [
      "Number of NaN values for each feature after dropping doplicate rows:\n"
     ]
    },
    {
     "data": {
      "text/plain": [
       "director_name                  0\n",
       "num_critic_for_reviews        40\n",
       "duration                      12\n",
       "director_facebook_likes        0\n",
       "actor_3_facebook_likes        16\n",
       "actor_2_name                  10\n",
       "actor_1_facebook_likes         7\n",
       "gross                        604\n",
       "genres                         0\n",
       "actor_1_name                   7\n",
       "movie_title                    0\n",
       "num_voted_users                0\n",
       "cast_total_facebook_likes      0\n",
       "actor_3_name                  16\n",
       "facenumber_in_poster          13\n",
       "plot_keywords                138\n",
       "num_user_for_reviews          15\n",
       "language                       5\n",
       "country                        1\n",
       "content_rating               253\n",
       "budget                       369\n",
       "title_year                     0\n",
       "actor_2_facebook_likes        10\n",
       "imdb_score                     0\n",
       "movie_facebook_likes           0\n",
       "imdb_id                        0\n",
       "dtype: int64"
      ]
     },
     "execution_count": 18,
     "metadata": {},
     "output_type": "execute_result"
    }
   ],
   "source": [
    "movie_data = (\n",
    "    movie_data.iloc[movie_data.isnull().sum(axis=1).mul(-1).argsort()] # Sort by number of NaN\n",
    "        .drop_duplicates(subset='imdb_id', keep='last') # Remove duplicates taking last element\n",
    ")\n",
    "\n",
    "print(\"Number of NaN values for each feature after dropping doplicate rows:\")\n",
    "movie_data.isna().sum()"
   ]
  },
  {
   "cell_type": "markdown",
   "metadata": {},
   "source": [
    " A lot of features have less missing values. This makes our DataFrame more consistent. \n",
    "Moreover, now we have an unique key: imdb_id. Now, we can set it as index."
   ]
  },
  {
   "cell_type": "code",
   "execution_count": 19,
   "metadata": {},
   "outputs": [
    {
     "data": {
      "text/html": [
       "<div>\n",
       "<style scoped>\n",
       "    .dataframe tbody tr th:only-of-type {\n",
       "        vertical-align: middle;\n",
       "    }\n",
       "\n",
       "    .dataframe tbody tr th {\n",
       "        vertical-align: top;\n",
       "    }\n",
       "\n",
       "    .dataframe thead th {\n",
       "        text-align: right;\n",
       "    }\n",
       "</style>\n",
       "<table border=\"1\" class=\"dataframe\">\n",
       "  <thead>\n",
       "    <tr style=\"text-align: right;\">\n",
       "      <th></th>\n",
       "      <th>director_name</th>\n",
       "      <th>num_critic_for_reviews</th>\n",
       "      <th>duration</th>\n",
       "      <th>director_facebook_likes</th>\n",
       "      <th>actor_3_facebook_likes</th>\n",
       "      <th>actor_2_name</th>\n",
       "      <th>actor_1_facebook_likes</th>\n",
       "      <th>gross</th>\n",
       "      <th>genres</th>\n",
       "      <th>actor_1_name</th>\n",
       "      <th>...</th>\n",
       "      <th>plot_keywords</th>\n",
       "      <th>num_user_for_reviews</th>\n",
       "      <th>language</th>\n",
       "      <th>country</th>\n",
       "      <th>content_rating</th>\n",
       "      <th>budget</th>\n",
       "      <th>title_year</th>\n",
       "      <th>actor_2_facebook_likes</th>\n",
       "      <th>imdb_score</th>\n",
       "      <th>movie_facebook_likes</th>\n",
       "    </tr>\n",
       "    <tr>\n",
       "      <th>imdb_id</th>\n",
       "      <th></th>\n",
       "      <th></th>\n",
       "      <th></th>\n",
       "      <th></th>\n",
       "      <th></th>\n",
       "      <th></th>\n",
       "      <th></th>\n",
       "      <th></th>\n",
       "      <th></th>\n",
       "      <th></th>\n",
       "      <th></th>\n",
       "      <th></th>\n",
       "      <th></th>\n",
       "      <th></th>\n",
       "      <th></th>\n",
       "      <th></th>\n",
       "      <th></th>\n",
       "      <th></th>\n",
       "      <th></th>\n",
       "      <th></th>\n",
       "      <th></th>\n",
       "    </tr>\n",
       "  </thead>\n",
       "  <tbody>\n",
       "    <tr>\n",
       "      <th>tt2638024</th>\n",
       "      <td>Amal Al-Agroobi</td>\n",
       "      <td>NaN</td>\n",
       "      <td>62.0</td>\n",
       "      <td>58.0</td>\n",
       "      <td>NaN</td>\n",
       "      <td>NaN</td>\n",
       "      <td>NaN</td>\n",
       "      <td>NaN</td>\n",
       "      <td>Documentary|Family</td>\n",
       "      <td>NaN</td>\n",
       "      <td>...</td>\n",
       "      <td>autism|middle east|music therapy|united arab e...</td>\n",
       "      <td>NaN</td>\n",
       "      <td>Arabic</td>\n",
       "      <td>United Arab Emirates</td>\n",
       "      <td>NaN</td>\n",
       "      <td>125000.0</td>\n",
       "      <td>2013.0</td>\n",
       "      <td>NaN</td>\n",
       "      <td>8.2</td>\n",
       "      <td>54</td>\n",
       "    </tr>\n",
       "    <tr>\n",
       "      <th>tt0304692</th>\n",
       "      <td>Harry Gantz</td>\n",
       "      <td>12.0</td>\n",
       "      <td>105.0</td>\n",
       "      <td>0.0</td>\n",
       "      <td>NaN</td>\n",
       "      <td>NaN</td>\n",
       "      <td>NaN</td>\n",
       "      <td>247740.0</td>\n",
       "      <td>Documentary|Drama</td>\n",
       "      <td>NaN</td>\n",
       "      <td>...</td>\n",
       "      <td>bisexual|explicit sex|sex|stranger|swing</td>\n",
       "      <td>8.0</td>\n",
       "      <td>English</td>\n",
       "      <td>USA</td>\n",
       "      <td>NaN</td>\n",
       "      <td>NaN</td>\n",
       "      <td>2002.0</td>\n",
       "      <td>NaN</td>\n",
       "      <td>4.7</td>\n",
       "      <td>51</td>\n",
       "    </tr>\n",
       "    <tr>\n",
       "      <th>tt0488873</th>\n",
       "      <td>Andrew Berends</td>\n",
       "      <td>12.0</td>\n",
       "      <td>90.0</td>\n",
       "      <td>0.0</td>\n",
       "      <td>NaN</td>\n",
       "      <td>NaN</td>\n",
       "      <td>NaN</td>\n",
       "      <td>NaN</td>\n",
       "      <td>Documentary|War</td>\n",
       "      <td>NaN</td>\n",
       "      <td>...</td>\n",
       "      <td>american|blood|dream|patrol|tank</td>\n",
       "      <td>7.0</td>\n",
       "      <td>English</td>\n",
       "      <td>USA</td>\n",
       "      <td>NaN</td>\n",
       "      <td>120000.0</td>\n",
       "      <td>2005.0</td>\n",
       "      <td>NaN</td>\n",
       "      <td>6.6</td>\n",
       "      <td>14</td>\n",
       "    </tr>\n",
       "    <tr>\n",
       "      <th>tt4462082</th>\n",
       "      <td>Jem Cohen</td>\n",
       "      <td>12.0</td>\n",
       "      <td>111.0</td>\n",
       "      <td>6.0</td>\n",
       "      <td>NaN</td>\n",
       "      <td>NaN</td>\n",
       "      <td>NaN</td>\n",
       "      <td>NaN</td>\n",
       "      <td>Documentary</td>\n",
       "      <td>NaN</td>\n",
       "      <td>...</td>\n",
       "      <td>city|city symphony|diary|essay|surveillance</td>\n",
       "      <td>1.0</td>\n",
       "      <td>English</td>\n",
       "      <td>USA</td>\n",
       "      <td>NaN</td>\n",
       "      <td>50000.0</td>\n",
       "      <td>2015.0</td>\n",
       "      <td>NaN</td>\n",
       "      <td>6.0</td>\n",
       "      <td>5</td>\n",
       "    </tr>\n",
       "    <tr>\n",
       "      <th>tt4607906</th>\n",
       "      <td>Valentine</td>\n",
       "      <td>NaN</td>\n",
       "      <td>NaN</td>\n",
       "      <td>0.0</td>\n",
       "      <td>NaN</td>\n",
       "      <td>Valentine</td>\n",
       "      <td>17.0</td>\n",
       "      <td>NaN</td>\n",
       "      <td>Romance</td>\n",
       "      <td>Diane Sorrentino</td>\n",
       "      <td>...</td>\n",
       "      <td>NaN</td>\n",
       "      <td>NaN</td>\n",
       "      <td>English</td>\n",
       "      <td>USA</td>\n",
       "      <td>PG-13</td>\n",
       "      <td>125000.0</td>\n",
       "      <td>2015.0</td>\n",
       "      <td>0.0</td>\n",
       "      <td>5.1</td>\n",
       "      <td>0</td>\n",
       "    </tr>\n",
       "  </tbody>\n",
       "</table>\n",
       "<p>5 rows × 25 columns</p>\n",
       "</div>"
      ],
      "text/plain": [
       "             director_name  num_critic_for_reviews  duration  \\\n",
       "imdb_id                                                        \n",
       "tt2638024  Amal Al-Agroobi                     NaN      62.0   \n",
       "tt0304692      Harry Gantz                    12.0     105.0   \n",
       "tt0488873   Andrew Berends                    12.0      90.0   \n",
       "tt4462082        Jem Cohen                    12.0     111.0   \n",
       "tt4607906        Valentine                     NaN       NaN   \n",
       "\n",
       "           director_facebook_likes  actor_3_facebook_likes actor_2_name  \\\n",
       "imdb_id                                                                   \n",
       "tt2638024                     58.0                     NaN          NaN   \n",
       "tt0304692                      0.0                     NaN          NaN   \n",
       "tt0488873                      0.0                     NaN          NaN   \n",
       "tt4462082                      6.0                     NaN          NaN   \n",
       "tt4607906                      0.0                     NaN    Valentine   \n",
       "\n",
       "           actor_1_facebook_likes     gross              genres  \\\n",
       "imdb_id                                                           \n",
       "tt2638024                     NaN       NaN  Documentary|Family   \n",
       "tt0304692                     NaN  247740.0   Documentary|Drama   \n",
       "tt0488873                     NaN       NaN     Documentary|War   \n",
       "tt4462082                     NaN       NaN         Documentary   \n",
       "tt4607906                    17.0       NaN             Romance   \n",
       "\n",
       "               actor_1_name  ...  \\\n",
       "imdb_id                      ...   \n",
       "tt2638024               NaN  ...   \n",
       "tt0304692               NaN  ...   \n",
       "tt0488873               NaN  ...   \n",
       "tt4462082               NaN  ...   \n",
       "tt4607906  Diane Sorrentino  ...   \n",
       "\n",
       "                                               plot_keywords  \\\n",
       "imdb_id                                                        \n",
       "tt2638024  autism|middle east|music therapy|united arab e...   \n",
       "tt0304692           bisexual|explicit sex|sex|stranger|swing   \n",
       "tt0488873                   american|blood|dream|patrol|tank   \n",
       "tt4462082        city|city symphony|diary|essay|surveillance   \n",
       "tt4607906                                                NaN   \n",
       "\n",
       "           num_user_for_reviews  language               country  \\\n",
       "imdb_id                                                           \n",
       "tt2638024                   NaN    Arabic  United Arab Emirates   \n",
       "tt0304692                   8.0   English                   USA   \n",
       "tt0488873                   7.0   English                   USA   \n",
       "tt4462082                   1.0   English                   USA   \n",
       "tt4607906                   NaN   English                   USA   \n",
       "\n",
       "           content_rating    budget  title_year actor_2_facebook_likes  \\\n",
       "imdb_id                                                                  \n",
       "tt2638024             NaN  125000.0      2013.0                    NaN   \n",
       "tt0304692             NaN       NaN      2002.0                    NaN   \n",
       "tt0488873             NaN  120000.0      2005.0                    NaN   \n",
       "tt4462082             NaN   50000.0      2015.0                    NaN   \n",
       "tt4607906           PG-13  125000.0      2015.0                    0.0   \n",
       "\n",
       "          imdb_score movie_facebook_likes  \n",
       "imdb_id                                    \n",
       "tt2638024        8.2                   54  \n",
       "tt0304692        4.7                   51  \n",
       "tt0488873        6.6                   14  \n",
       "tt4462082        6.0                    5  \n",
       "tt4607906        5.1                    0  \n",
       "\n",
       "[5 rows x 25 columns]"
      ]
     },
     "execution_count": 19,
     "metadata": {},
     "output_type": "execute_result"
    }
   ],
   "source": [
    "movie_data = movie_data.set_index('imdb_id') # set index\n",
    "movie_data.head()"
   ]
  },
  {
   "cell_type": "markdown",
   "metadata": {},
   "source": [
    "### 2) Fill NaN values with Wikipedia data"
   ]
  },
  {
   "cell_type": "markdown",
   "metadata": {},
   "source": [
    "This is thw Wikipedia query that we used to download data:"
   ]
  },
  {
   "cell_type": "markdown",
   "metadata": {},
   "source": [
    "```\n",
    "SELECT ?movieLabel (MAX(?grosses) as ?gross) (MIN(?costs) as ?cost) (MIN(?publicationYears) as ?publicationYear) ?IMDBid\n",
    "WHERE \n",
    "{\n",
    "  ?movie (wdt:P31/wdt:P279*) wd:Q11424;\n",
    "                             wdt:P345 ?IMDBid;\n",
    "                             wdt:P2142 ?grosses;\n",
    "                             wdt:P577 ?publicationDate.\n",
    "  \n",
    "  OPTIONAL {?movie wdt:P2130 ?costs.}\n",
    "  \n",
    "  BIND(YEAR(?publicationDate) AS ?publicationYears)\n",
    "  \n",
    "  FILTER(?publicationYears >= (1980))\n",
    "  \n",
    "  SERVICE wikibase:label { bd:serviceParam wikibase:language \"[AUTO_LANGUAGE],en\". }\n",
    "} GROUP BY ?movieLabel ?IMDBid\n",
    "```"
   ]
  },
  {
   "cell_type": "code",
   "execution_count": 20,
   "metadata": {},
   "outputs": [
    {
     "data": {
      "text/html": [
       "<div>\n",
       "<style scoped>\n",
       "    .dataframe tbody tr th:only-of-type {\n",
       "        vertical-align: middle;\n",
       "    }\n",
       "\n",
       "    .dataframe tbody tr th {\n",
       "        vertical-align: top;\n",
       "    }\n",
       "\n",
       "    .dataframe thead th {\n",
       "        text-align: right;\n",
       "    }\n",
       "</style>\n",
       "<table border=\"1\" class=\"dataframe\">\n",
       "  <thead>\n",
       "    <tr style=\"text-align: right;\">\n",
       "      <th></th>\n",
       "      <th>gross_1</th>\n",
       "      <th>cost</th>\n",
       "      <th>publicationYear</th>\n",
       "      <th>IMDBid</th>\n",
       "    </tr>\n",
       "  </thead>\n",
       "  <tbody>\n",
       "    <tr>\n",
       "      <th>0</th>\n",
       "      <td>3.414000e+08</td>\n",
       "      <td>NaN</td>\n",
       "      <td>2008</td>\n",
       "      <td>tt0493464</td>\n",
       "    </tr>\n",
       "    <tr>\n",
       "      <th>1</th>\n",
       "      <td>1.108561e+09</td>\n",
       "      <td>NaN</td>\n",
       "      <td>2012</td>\n",
       "      <td>tt1074638</td>\n",
       "    </tr>\n",
       "    <tr>\n",
       "      <th>2</th>\n",
       "      <td>3.197000e+08</td>\n",
       "      <td>NaN</td>\n",
       "      <td>2010</td>\n",
       "      <td>tt0938283</td>\n",
       "    </tr>\n",
       "    <tr>\n",
       "      <th>3</th>\n",
       "      <td>5.427718e+08</td>\n",
       "      <td>NaN</td>\n",
       "      <td>2004</td>\n",
       "      <td>tt0319262</td>\n",
       "    </tr>\n",
       "    <tr>\n",
       "      <th>4</th>\n",
       "      <td>3.827548e+07</td>\n",
       "      <td>NaN</td>\n",
       "      <td>2002</td>\n",
       "      <td>tt0283111</td>\n",
       "    </tr>\n",
       "  </tbody>\n",
       "</table>\n",
       "</div>"
      ],
      "text/plain": [
       "        gross_1  cost  publicationYear     IMDBid\n",
       "0  3.414000e+08   NaN             2008  tt0493464\n",
       "1  1.108561e+09   NaN             2012  tt1074638\n",
       "2  3.197000e+08   NaN             2010  tt0938283\n",
       "3  5.427718e+08   NaN             2004  tt0319262\n",
       "4  3.827548e+07   NaN             2002  tt0283111"
      ]
     },
     "execution_count": 20,
     "metadata": {},
     "output_type": "execute_result"
    }
   ],
   "source": [
    "wiki_data = pd.read_csv('data/wiki_data.csv').drop('movieLabel', axis=1) # read data from the wiki_data csv\n",
    "wiki_data = wiki_data.rename(columns={\"gross\":\"gross_1\"}) #rename gross column\n",
    "\n",
    "wiki_data.head()"
   ]
  },
  {
   "cell_type": "code",
   "execution_count": 21,
   "metadata": {},
   "outputs": [],
   "source": [
    "# merge the two dataset on the imdb_id\n",
    "movie_data = movie_data.merge(wiki_data, how='left', left_on='imdb_id', right_on='IMDBid')"
   ]
  },
  {
   "cell_type": "markdown",
   "metadata": {},
   "source": [
    "Now we have some repeated columns:\n",
    "- gross\n",
    "- costs\n",
    "\n",
    "We ave to keep only one of them. Instead of deleting one without an analysis. we match them in order to delete as many NaN values as possible"
   ]
  },
  {
   "cell_type": "markdown",
   "metadata": {},
   "source": [
    "- grosses:"
   ]
  },
  {
   "cell_type": "code",
   "execution_count": 22,
   "metadata": {},
   "outputs": [],
   "source": [
    "# gross :   gross from movie dataset\n",
    "# gorss_1 : gross from wiki dataset\n",
    "\n",
    "gross_movie_na = movie_data.gross.isna()\n",
    "\n",
    "for i in range(len(gross_movie_na)): # for each film\n",
    "    if gross_movie_na[i]==True: # NaN value => we keep the new value\n",
    "        movie_data.gross[i] = movie_data.gross_1[i] # copy the wiki value in the movie one\n",
    "\n",
    "# if it is not NaN we don't do anyting\n",
    " \n",
    "# we delete the wiki gross column: we have used the values we need and now it's useless\n",
    "movie_data = movie_data.drop('gross_1', axis=1) # drop link gross wiki column"
   ]
  },
  {
   "cell_type": "markdown",
   "metadata": {},
   "source": [
    "- costs:"
   ]
  },
  {
   "cell_type": "code",
   "execution_count": 23,
   "metadata": {},
   "outputs": [],
   "source": [
    "# budget :   cost from movie dataset\n",
    "# cost :     cost from wiki dataset\n",
    "\n",
    "cost_movie_na = movie_data.budget.isna()\n",
    "\n",
    "\n",
    "for i in range(len(cost_movie_na)): # for each film\n",
    "    if cost_movie_na[i]==True: # NaN value => we keep the new value\n",
    "        movie_data.budget[i] = movie_data.cost[i] # copy the wiki value in the movie one\n",
    "\n",
    "# if it is not NaN we don't do anyting\n",
    " \n",
    "# we delete the wiki gross column: we have used the values we need and now it's useless\n",
    "movie_data = movie_data.drop('cost', axis=1) # drop link cost wiki column"
   ]
  },
  {
   "cell_type": "markdown",
   "metadata": {},
   "source": [
    "Now we can see that the number of movies with empty values in gross and budget has decreased :)"
   ]
  },
  {
   "cell_type": "code",
   "execution_count": 24,
   "metadata": {},
   "outputs": [
    {
     "data": {
      "text/plain": [
       "director_name                   0\n",
       "num_critic_for_reviews         40\n",
       "duration                       12\n",
       "director_facebook_likes         0\n",
       "actor_3_facebook_likes         16\n",
       "actor_2_name                   10\n",
       "actor_1_facebook_likes          7\n",
       "gross                         577\n",
       "genres                          0\n",
       "actor_1_name                    7\n",
       "movie_title                     0\n",
       "num_voted_users                 0\n",
       "cast_total_facebook_likes       0\n",
       "actor_3_name                   16\n",
       "facenumber_in_poster           13\n",
       "plot_keywords                 138\n",
       "num_user_for_reviews           15\n",
       "language                        5\n",
       "country                         1\n",
       "content_rating                253\n",
       "budget                        359\n",
       "title_year                      0\n",
       "actor_2_facebook_likes         10\n",
       "imdb_score                      0\n",
       "movie_facebook_likes            0\n",
       "publicationYear              3508\n",
       "IMDBid                       3508\n",
       "dtype: int64"
      ]
     },
     "execution_count": 24,
     "metadata": {},
     "output_type": "execute_result"
    }
   ],
   "source": [
    "movie_data.isna().sum()"
   ]
  },
  {
   "cell_type": "markdown",
   "metadata": {},
   "source": [
    "## Univariate Analysis"
   ]
  },
  {
   "cell_type": "code",
   "execution_count": 10,
   "metadata": {},
   "outputs": [
    {
     "data": {
      "text/html": [
       "<div>\n",
       "<style scoped>\n",
       "    .dataframe tbody tr th:only-of-type {\n",
       "        vertical-align: middle;\n",
       "    }\n",
       "\n",
       "    .dataframe tbody tr th {\n",
       "        vertical-align: top;\n",
       "    }\n",
       "\n",
       "    .dataframe thead th {\n",
       "        text-align: right;\n",
       "    }\n",
       "</style>\n",
       "<table border=\"1\" class=\"dataframe\">\n",
       "  <thead>\n",
       "    <tr style=\"text-align: right;\">\n",
       "      <th></th>\n",
       "      <th>num_critic_for_reviews</th>\n",
       "      <th>duration</th>\n",
       "      <th>director_facebook_likes</th>\n",
       "      <th>actor_3_facebook_likes</th>\n",
       "      <th>actor_1_facebook_likes</th>\n",
       "      <th>gross</th>\n",
       "      <th>num_voted_users</th>\n",
       "      <th>cast_total_facebook_likes</th>\n",
       "      <th>facenumber_in_poster</th>\n",
       "      <th>num_user_for_reviews</th>\n",
       "      <th>budget</th>\n",
       "      <th>title_year</th>\n",
       "      <th>actor_2_facebook_likes</th>\n",
       "      <th>imdb_score</th>\n",
       "      <th>aspect_ratio</th>\n",
       "      <th>movie_facebook_likes</th>\n",
       "    </tr>\n",
       "  </thead>\n",
       "  <tbody>\n",
       "    <tr>\n",
       "      <th>count</th>\n",
       "      <td>4993.000000</td>\n",
       "      <td>5028.000000</td>\n",
       "      <td>4939.000000</td>\n",
       "      <td>5020.000000</td>\n",
       "      <td>5036.000000</td>\n",
       "      <td>4.159000e+03</td>\n",
       "      <td>5.043000e+03</td>\n",
       "      <td>5043.000000</td>\n",
       "      <td>5030.000000</td>\n",
       "      <td>5022.000000</td>\n",
       "      <td>4.551000e+03</td>\n",
       "      <td>4935.000000</td>\n",
       "      <td>5030.000000</td>\n",
       "      <td>5043.000000</td>\n",
       "      <td>4714.000000</td>\n",
       "      <td>5043.000000</td>\n",
       "    </tr>\n",
       "    <tr>\n",
       "      <th>mean</th>\n",
       "      <td>140.194272</td>\n",
       "      <td>107.201074</td>\n",
       "      <td>686.509212</td>\n",
       "      <td>645.009761</td>\n",
       "      <td>6560.047061</td>\n",
       "      <td>4.846841e+07</td>\n",
       "      <td>8.366816e+04</td>\n",
       "      <td>9699.063851</td>\n",
       "      <td>1.371173</td>\n",
       "      <td>272.770808</td>\n",
       "      <td>3.975262e+07</td>\n",
       "      <td>2002.470517</td>\n",
       "      <td>1651.754473</td>\n",
       "      <td>6.442138</td>\n",
       "      <td>2.220403</td>\n",
       "      <td>7525.964505</td>\n",
       "    </tr>\n",
       "    <tr>\n",
       "      <th>std</th>\n",
       "      <td>121.601675</td>\n",
       "      <td>25.197441</td>\n",
       "      <td>2813.328607</td>\n",
       "      <td>1665.041728</td>\n",
       "      <td>15020.759120</td>\n",
       "      <td>6.845299e+07</td>\n",
       "      <td>1.384853e+05</td>\n",
       "      <td>18163.799124</td>\n",
       "      <td>2.013576</td>\n",
       "      <td>377.982886</td>\n",
       "      <td>2.061149e+08</td>\n",
       "      <td>12.474599</td>\n",
       "      <td>4042.438863</td>\n",
       "      <td>1.125116</td>\n",
       "      <td>1.385113</td>\n",
       "      <td>19320.445110</td>\n",
       "    </tr>\n",
       "    <tr>\n",
       "      <th>min</th>\n",
       "      <td>1.000000</td>\n",
       "      <td>7.000000</td>\n",
       "      <td>0.000000</td>\n",
       "      <td>0.000000</td>\n",
       "      <td>0.000000</td>\n",
       "      <td>1.620000e+02</td>\n",
       "      <td>5.000000e+00</td>\n",
       "      <td>0.000000</td>\n",
       "      <td>0.000000</td>\n",
       "      <td>1.000000</td>\n",
       "      <td>2.180000e+02</td>\n",
       "      <td>1916.000000</td>\n",
       "      <td>0.000000</td>\n",
       "      <td>1.600000</td>\n",
       "      <td>1.180000</td>\n",
       "      <td>0.000000</td>\n",
       "    </tr>\n",
       "    <tr>\n",
       "      <th>25%</th>\n",
       "      <td>50.000000</td>\n",
       "      <td>93.000000</td>\n",
       "      <td>7.000000</td>\n",
       "      <td>133.000000</td>\n",
       "      <td>614.000000</td>\n",
       "      <td>5.340988e+06</td>\n",
       "      <td>8.593500e+03</td>\n",
       "      <td>1411.000000</td>\n",
       "      <td>0.000000</td>\n",
       "      <td>65.000000</td>\n",
       "      <td>6.000000e+06</td>\n",
       "      <td>1999.000000</td>\n",
       "      <td>281.000000</td>\n",
       "      <td>5.800000</td>\n",
       "      <td>1.850000</td>\n",
       "      <td>0.000000</td>\n",
       "    </tr>\n",
       "    <tr>\n",
       "      <th>50%</th>\n",
       "      <td>110.000000</td>\n",
       "      <td>103.000000</td>\n",
       "      <td>49.000000</td>\n",
       "      <td>371.500000</td>\n",
       "      <td>988.000000</td>\n",
       "      <td>2.551750e+07</td>\n",
       "      <td>3.435900e+04</td>\n",
       "      <td>3090.000000</td>\n",
       "      <td>1.000000</td>\n",
       "      <td>156.000000</td>\n",
       "      <td>2.000000e+07</td>\n",
       "      <td>2005.000000</td>\n",
       "      <td>595.000000</td>\n",
       "      <td>6.600000</td>\n",
       "      <td>2.350000</td>\n",
       "      <td>166.000000</td>\n",
       "    </tr>\n",
       "    <tr>\n",
       "      <th>75%</th>\n",
       "      <td>195.000000</td>\n",
       "      <td>118.000000</td>\n",
       "      <td>194.500000</td>\n",
       "      <td>636.000000</td>\n",
       "      <td>11000.000000</td>\n",
       "      <td>6.230944e+07</td>\n",
       "      <td>9.630900e+04</td>\n",
       "      <td>13756.500000</td>\n",
       "      <td>2.000000</td>\n",
       "      <td>326.000000</td>\n",
       "      <td>4.500000e+07</td>\n",
       "      <td>2011.000000</td>\n",
       "      <td>918.000000</td>\n",
       "      <td>7.200000</td>\n",
       "      <td>2.350000</td>\n",
       "      <td>3000.000000</td>\n",
       "    </tr>\n",
       "    <tr>\n",
       "      <th>max</th>\n",
       "      <td>813.000000</td>\n",
       "      <td>511.000000</td>\n",
       "      <td>23000.000000</td>\n",
       "      <td>23000.000000</td>\n",
       "      <td>640000.000000</td>\n",
       "      <td>7.605058e+08</td>\n",
       "      <td>1.689764e+06</td>\n",
       "      <td>656730.000000</td>\n",
       "      <td>43.000000</td>\n",
       "      <td>5060.000000</td>\n",
       "      <td>1.221550e+10</td>\n",
       "      <td>2016.000000</td>\n",
       "      <td>137000.000000</td>\n",
       "      <td>9.500000</td>\n",
       "      <td>16.000000</td>\n",
       "      <td>349000.000000</td>\n",
       "    </tr>\n",
       "  </tbody>\n",
       "</table>\n",
       "</div>"
      ],
      "text/plain": [
       "       num_critic_for_reviews     duration  director_facebook_likes  \\\n",
       "count             4993.000000  5028.000000              4939.000000   \n",
       "mean               140.194272   107.201074               686.509212   \n",
       "std                121.601675    25.197441              2813.328607   \n",
       "min                  1.000000     7.000000                 0.000000   \n",
       "25%                 50.000000    93.000000                 7.000000   \n",
       "50%                110.000000   103.000000                49.000000   \n",
       "75%                195.000000   118.000000               194.500000   \n",
       "max                813.000000   511.000000             23000.000000   \n",
       "\n",
       "       actor_3_facebook_likes  actor_1_facebook_likes         gross  \\\n",
       "count             5020.000000             5036.000000  4.159000e+03   \n",
       "mean               645.009761             6560.047061  4.846841e+07   \n",
       "std               1665.041728            15020.759120  6.845299e+07   \n",
       "min                  0.000000                0.000000  1.620000e+02   \n",
       "25%                133.000000              614.000000  5.340988e+06   \n",
       "50%                371.500000              988.000000  2.551750e+07   \n",
       "75%                636.000000            11000.000000  6.230944e+07   \n",
       "max              23000.000000           640000.000000  7.605058e+08   \n",
       "\n",
       "       num_voted_users  cast_total_facebook_likes  facenumber_in_poster  \\\n",
       "count     5.043000e+03                5043.000000           5030.000000   \n",
       "mean      8.366816e+04                9699.063851              1.371173   \n",
       "std       1.384853e+05               18163.799124              2.013576   \n",
       "min       5.000000e+00                   0.000000              0.000000   \n",
       "25%       8.593500e+03                1411.000000              0.000000   \n",
       "50%       3.435900e+04                3090.000000              1.000000   \n",
       "75%       9.630900e+04               13756.500000              2.000000   \n",
       "max       1.689764e+06              656730.000000             43.000000   \n",
       "\n",
       "       num_user_for_reviews        budget   title_year  \\\n",
       "count           5022.000000  4.551000e+03  4935.000000   \n",
       "mean             272.770808  3.975262e+07  2002.470517   \n",
       "std              377.982886  2.061149e+08    12.474599   \n",
       "min                1.000000  2.180000e+02  1916.000000   \n",
       "25%               65.000000  6.000000e+06  1999.000000   \n",
       "50%              156.000000  2.000000e+07  2005.000000   \n",
       "75%              326.000000  4.500000e+07  2011.000000   \n",
       "max             5060.000000  1.221550e+10  2016.000000   \n",
       "\n",
       "       actor_2_facebook_likes   imdb_score  aspect_ratio  movie_facebook_likes  \n",
       "count             5030.000000  5043.000000   4714.000000           5043.000000  \n",
       "mean              1651.754473     6.442138      2.220403           7525.964505  \n",
       "std               4042.438863     1.125116      1.385113          19320.445110  \n",
       "min                  0.000000     1.600000      1.180000              0.000000  \n",
       "25%                281.000000     5.800000      1.850000              0.000000  \n",
       "50%                595.000000     6.600000      2.350000            166.000000  \n",
       "75%                918.000000     7.200000      2.350000           3000.000000  \n",
       "max             137000.000000     9.500000     16.000000         349000.000000  "
      ]
     },
     "execution_count": 10,
     "metadata": {},
     "output_type": "execute_result"
    }
   ],
   "source": [
    "movie_data.describe()"
   ]
  },
  {
   "cell_type": "code",
   "execution_count": null,
   "metadata": {},
   "outputs": [],
   "source": []
  },
  {
   "cell_type": "code",
   "execution_count": 11,
   "metadata": {},
   "outputs": [
    {
     "data": {
      "image/png": "[encoded data removed]",
      "text/plain": [
       "<Figure size 432x288 with 1 Axes>"
      ]
     },
     "metadata": {
      "needs_background": "light"
     },
     "output_type": "display_data"
    },
    {
     "data": {
      "image/png": "[encoded data removed]",
      "text/plain": [
       "<Figure size 432x288 with 1 Axes>"
      ]
     },
     "metadata": {
      "needs_background": "light"
     },
     "output_type": "display_data"
    },
    {
     "data": {
      "image/png": "[encoded data removed]",
      "text/plain": [
       "<Figure size 432x288 with 1 Axes>"
      ]
     },
     "metadata": {
      "needs_background": "light"
     },
     "output_type": "display_data"
    },
    {
     "data": {
      "image/png": "[encoded data removed]",
      "text/plain": [
       "<Figure size 432x288 with 1 Axes>"
      ]
     },
     "metadata": {
      "needs_background": "light"
     },
     "output_type": "display_data"
    },
    {
     "data": {
      "image/png": "[encoded data removed]",
      "text/plain": [
       "<Figure size 432x288 with 1 Axes>"
      ]
     },
     "metadata": {
      "needs_background": "light"
     },
     "output_type": "display_data"
    }
   ],
   "source": [
    "for col in [\"duration\", \"gross\", \"actor_1_facebook_likes\",'imdb_score','budget']:\n",
    "    plt.figure(figsize=(6,4))\n",
    "    sns.distplot(movie_data[col],color='g')\n",
    "    plt.yticks(fontsize=12)\n",
    "    plt.xticks(fontsize=12)\n",
    "    plt.xlabel(col, fontsize=15)\n",
    "    plt.ylabel(\"density\", fontsize=15)\n",
    "    plt.title(f\"Distribution of {col}\", fontsize=15)"
   ]
  },
  {
   "cell_type": "markdown",
   "metadata": {},
   "source": [
    "we can see that distribution of budget of gross (profits?) are not so explanatory this is due to the fact the the data sets includes both boxoffice movies and documentaries that have a significant different marketing and financial needs.\n",
    "So interesting to consider only the top 5 genres \n"
   ]
  },
  {
   "cell_type": "code",
   "execution_count": 41,
   "metadata": {},
   "outputs": [
    {
     "data": {
      "text/plain": [
       "['Color', ' Black and White']"
      ]
     },
     "execution_count": 41,
     "metadata": {},
     "output_type": "execute_result"
    }
   ],
   "source": [
    "color_values"
   ]
  },
  {
   "cell_type": "code",
   "execution_count": 12,
   "metadata": {},
   "outputs": [
    {
     "name": "stdout",
     "output_type": "stream",
     "text": [
      "Percentages of the possible values for each single object\n",
      "top 5 genres\n",
      "Drama                   0.046798\n",
      "Comedy                  0.041444\n",
      "Comedy|Drama            0.037874\n",
      "Comedy|Drama|Romance    0.037081\n",
      "Comedy|Romance          0.031331\n",
      "Name: genres, dtype: float64\n",
      "top 5 director_name\n",
      "Steven Spielberg    0.005264\n",
      "Woody Allen         0.004454\n",
      "Martin Scorsese     0.004049\n",
      "Clint Eastwood      0.004049\n",
      "Ridley Scott        0.003442\n",
      "Name: director_name, dtype: float64\n",
      "top 5 actor_1_name\n",
      "Robert De Niro    0.009730\n",
      "Johnny Depp       0.008141\n",
      "Nicolas Cage      0.006553\n",
      "J.K. Simmons      0.006156\n",
      "Matt Damon        0.005957\n",
      "Name: actor_1_name, dtype: float64\n"
     ]
    }
   ],
   "source": [
    "print (\"Percentages of the possible values for each single object\")\n",
    "movie_data = movie_data.select_dtypes(include=['O'])\n",
    "for c in ['genres','director_name','actor_1_name']:\n",
    "    print (\"top 5 %s\" % c)\n",
    "    print (movie_data[c].value_counts(normalize=True).head())"
   ]
  }
 ],
 "metadata": {
  "file_extension": ".py",
  "kernelspec": {
   "display_name": "Python 3",
   "language": "python",
   "name": "python3"
  },
  "language_info": {
   "codemirror_mode": {
    "name": "ipython",
    "version": 3
   },
   "file_extension": ".py",
   "mimetype": "text/x-python",
   "name": "python",
   "nbconvert_exporter": "python",
   "pygments_lexer": "ipython3",
   "version": "3.7.7"
  },
  "mimetype": "text/x-python",
  "name": "python",
  "npconvert_exporter": "python",
  "pygments_lexer": "ipython3",
  "version": 3
 },
 "nbformat": 4,
 "nbformat_minor": 4
}
