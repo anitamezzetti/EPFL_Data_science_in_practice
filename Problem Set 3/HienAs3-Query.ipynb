{
 "cells": [
  {
   "cell_type": "code",
   "execution_count": 1,
   "metadata": {},
   "outputs": [],
   "source": [
    "import numpy as np\n",
    "import pandas as pd"
   ]
  },
  {
   "cell_type": "markdown",
   "metadata": {},
   "source": [
    "### Problem Set 3\n",
    "Your department at the Telecom. company is\n",
    "on fire\n",
    "! Since they hired you, they have boosted\n",
    "their productivity, and are now capable of taking data-driven decision much more quickly. Given the\n",
    "development of the new techniques, your boss has decided he wants to patent the data processing\n",
    "methods that you use, in order to add some value to the company. While this is great news... it\n",
    "means more work for you ! It is the first time the company looks into this kind of patents, so they\n",
    "know very little. You have been asked to take all the patents from 2016 in the relevant class, and\n",
    "study your competitors. You are specially interested in knowing : who is the central player in this\n",
    "technology area ? Who is the leader ? Who is an irrelevant actor ?\n",
    "The lawyers will subsequently use this information in order to study their patent portfolios and\n",
    "make the best of our resources "
   ]
  },
  {
   "cell_type": "code",
   "execution_count": 2,
   "metadata": {},
   "outputs": [],
   "source": [
    "# use the data from Google Patents Datasets. You have to register to the free-\n",
    "# tier of Google BigQuery, and use the patents-public-data/publications table. Identify and extract\n",
    "# all patents from 2016 from that have a patent classification (cpc) starting with G06Q30/06... Then,\n",
    "# extract all the patents from 2016-2020 that cite these patents, and build a directed network of\n",
    "# patent citations"
   ]
  },
  {
   "cell_type": "code",
   "execution_count": 3,
   "metadata": {},
   "outputs": [],
   "source": [
    "import os\n",
    "os.environ[\"GOOGLE_APPLICATION_CREDENTIALS\"]=\"/home/hienle/DSIP-As3-25e0a13c65b2.json\""
   ]
  },
  {
   "cell_type": "code",
   "execution_count": 4,
   "metadata": {},
   "outputs": [],
   "source": [
    "import google.auth\n",
    "from google.cloud import bigquery\n",
    "from google.cloud import bigquery_storage_v1beta1\n",
    "\n",
    "# Explicitly create a credentials object. This allows you to use the same\n",
    "# credentials for both the BigQuery and BigQuery Storage clients, avoiding\n",
    "# unnecessary API calls to fetch duplicate authentication tokens.\n",
    "credentials, your_project_id = google.auth.default(\n",
    "    scopes=[\"https://www.googleapis.com/auth/cloud-platform\"]\n",
    ")"
   ]
  },
  {
   "cell_type": "code",
   "execution_count": 5,
   "metadata": {},
   "outputs": [],
   "source": [
    "\n",
    "# Make clients.\n",
    "bqclient = bigquery.Client(\n",
    "    credentials=credentials,\n",
    "    project=your_project_id,\n",
    ")\n",
    "bqstorageclient = bigquery_storage_v1beta1.BigQueryStorageClient(\n",
    "    credentials=credentials\n",
    ")"
   ]
  },
  {
   "cell_type": "code",
   "execution_count": 19,
   "metadata": {},
   "outputs": [
    {
     "data": {
      "text/plain": [
       "<Arrow [2016-01-01T00:00:00+00:00]>"
      ]
     },
     "execution_count": 19,
     "metadata": {},
     "output_type": "execute_result"
    }
   ],
   "source": [
    "import arrow\n",
    "arrow.get(\"2016-01\", tzinfo=\"utc\")"
   ]
  },
  {
   "cell_type": "code",
   "execution_count": 12,
   "metadata": {},
   "outputs": [
    {
     "data": {
      "text/html": [
       "<div>\n",
       "<style scoped>\n",
       "    .dataframe tbody tr th:only-of-type {\n",
       "        vertical-align: middle;\n",
       "    }\n",
       "\n",
       "    .dataframe tbody tr th {\n",
       "        vertical-align: top;\n",
       "    }\n",
       "\n",
       "    .dataframe thead th {\n",
       "        text-align: right;\n",
       "    }\n",
       "</style>\n",
       "<table border=\"1\" class=\"dataframe\">\n",
       "  <thead>\n",
       "    <tr style=\"text-align: right;\">\n",
       "      <th></th>\n",
       "      <th>assignee_name</th>\n",
       "      <th>pub_number</th>\n",
       "      <th>cpc_code</th>\n",
       "      <th>filing_date</th>\n",
       "      <th>filing_year</th>\n",
       "      <th>country_code</th>\n",
       "    </tr>\n",
       "  </thead>\n",
       "  <tbody>\n",
       "    <tr>\n",
       "      <th>0</th>\n",
       "      <td>LIM SOON SEOP</td>\n",
       "      <td>KR-20200021490-A</td>\n",
       "      <td>G06Q30/06</td>\n",
       "      <td>20200210</td>\n",
       "      <td>2020</td>\n",
       "      <td>KR</td>\n",
       "    </tr>\n",
       "    <tr>\n",
       "      <th>1</th>\n",
       "      <td>LIM SOON SEOP</td>\n",
       "      <td>KR-20200021488-A</td>\n",
       "      <td>G06Q30/06</td>\n",
       "      <td>20200210</td>\n",
       "      <td>2020</td>\n",
       "      <td>KR</td>\n",
       "    </tr>\n",
       "    <tr>\n",
       "      <th>2</th>\n",
       "      <td>ELECTRONIC COMMODITIES EXCHANGE L P</td>\n",
       "      <td>AU-2020200803-A1</td>\n",
       "      <td>G06Q30/06</td>\n",
       "      <td>20200204</td>\n",
       "      <td>2020</td>\n",
       "      <td>AU</td>\n",
       "    </tr>\n",
       "    <tr>\n",
       "      <th>3</th>\n",
       "      <td>LIM SOON SEOP</td>\n",
       "      <td>KR-20200021491-A</td>\n",
       "      <td>G06Q30/06</td>\n",
       "      <td>20200210</td>\n",
       "      <td>2020</td>\n",
       "      <td>KR</td>\n",
       "    </tr>\n",
       "    <tr>\n",
       "      <th>4</th>\n",
       "      <td>STRIPE INC</td>\n",
       "      <td>AU-2020201049-A1</td>\n",
       "      <td>G06Q30/06</td>\n",
       "      <td>20200213</td>\n",
       "      <td>2020</td>\n",
       "      <td>AU</td>\n",
       "    </tr>\n",
       "  </tbody>\n",
       "</table>\n",
       "</div>"
      ],
      "text/plain": [
       "                         assignee_name        pub_number   cpc_code  \\\n",
       "0                        LIM SOON SEOP  KR-20200021490-A  G06Q30/06   \n",
       "1                        LIM SOON SEOP  KR-20200021488-A  G06Q30/06   \n",
       "2  ELECTRONIC COMMODITIES EXCHANGE L P  AU-2020200803-A1  G06Q30/06   \n",
       "3                        LIM SOON SEOP  KR-20200021491-A  G06Q30/06   \n",
       "4                           STRIPE INC  AU-2020201049-A1  G06Q30/06   \n",
       "\n",
       "   filing_date  filing_year country_code  \n",
       "0     20200210         2020           KR  \n",
       "1     20200210         2020           KR  \n",
       "2     20200204         2020           AU  \n",
       "3     20200210         2020           KR  \n",
       "4     20200213         2020           AU  "
      ]
     },
     "execution_count": 12,
     "metadata": {},
     "output_type": "execute_result"
    }
   ],
   "source": [
    "query_string = f\"\"\"\n",
    "SELECT ANY_VALUE(a.name) AS assignee_name, ANY_VALUE(pubs.publication_number) as pub_number,\n",
    "ANY_VALUE(SUBSTR(cpcs.code, 0, 9)) AS cpc_code,\n",
    "ANY_VALUE(pubs.filing_date) AS filing_date, CAST(FLOOR(ANY_VALUE(filing_date) / 10000) AS INT64) AS filing_year,\n",
    "ANY_VALUE(pubs.country_code) AS country_code\n",
    "FROM `patents-public-data.patents.publications` AS pubs, UNNEST(assignee_harmonized) as a,\n",
    "UNNEST(pubs.cpc) as cpcs\n",
    "WHERE cpcs.first = TRUE AND REGEXP_CONTAINS(cpcs.code, \"G06Q30/06\") AND \n",
    "filing_date > 20160101\n",
    "GROUP BY application_number\n",
    "\"\"\"\n",
    "\n",
    "dataframe = (\n",
    "    bqclient.query(query_string)\n",
    "    .result()\n",
    "    .to_dataframe(bqstorage_client=bqstorageclient)\n",
    ")\n",
    "dataframe.head()"
   ]
  },
  {
   "cell_type": "code",
   "execution_count": 59,
   "metadata": {},
   "outputs": [
    {
     "data": {
      "text/plain": [
       "(10686, 6)"
      ]
     },
     "execution_count": 59,
     "metadata": {},
     "output_type": "execute_result"
    }
   ],
   "source": [
    "dataframe.shape"
   ]
  },
  {
   "cell_type": "code",
   "execution_count": 60,
   "metadata": {},
   "outputs": [],
   "source": [
    "dataframe.to_csv(\"all_patents_G06Q30.csv\")"
   ]
  },
  {
   "cell_type": "code",
   "execution_count": 13,
   "metadata": {},
   "outputs": [
    {
     "data": {
      "text/html": [
       "<div>\n",
       "<style scoped>\n",
       "    .dataframe tbody tr th:only-of-type {\n",
       "        vertical-align: middle;\n",
       "    }\n",
       "\n",
       "    .dataframe tbody tr th {\n",
       "        vertical-align: top;\n",
       "    }\n",
       "\n",
       "    .dataframe thead th {\n",
       "        text-align: right;\n",
       "    }\n",
       "</style>\n",
       "<table border=\"1\" class=\"dataframe\">\n",
       "  <thead>\n",
       "    <tr style=\"text-align: right;\">\n",
       "      <th></th>\n",
       "      <th>cited_assignee</th>\n",
       "      <th>cited_publication_number</th>\n",
       "      <th>citing_publication_number</th>\n",
       "      <th>citing_assignee</th>\n",
       "      <th>cited_cpc_code</th>\n",
       "      <th>citing_cpc_code</th>\n",
       "    </tr>\n",
       "  </thead>\n",
       "  <tbody>\n",
       "    <tr>\n",
       "      <th>0</th>\n",
       "      <td>GRABANGO CO</td>\n",
       "      <td>US-2018240180-A1</td>\n",
       "      <td>US-2019096209-A1</td>\n",
       "      <td>INTEL CORP</td>\n",
       "      <td>G06Q30/06</td>\n",
       "      <td>G08B13/24</td>\n",
       "    </tr>\n",
       "    <tr>\n",
       "      <th>1</th>\n",
       "      <td>EMBL RETAIL INC</td>\n",
       "      <td>US-2018300791-A1</td>\n",
       "      <td>US-10420397-B2</td>\n",
       "      <td>BLACK BRASS INC</td>\n",
       "      <td>G06Q30/06</td>\n",
       "      <td>A43D1/025</td>\n",
       "    </tr>\n",
       "    <tr>\n",
       "      <th>2</th>\n",
       "      <td>ONETRUST LLC</td>\n",
       "      <td>US-9691090-B1</td>\n",
       "      <td>US-10574705-B2</td>\n",
       "      <td>ONETRUST LLC</td>\n",
       "      <td>G06Q30/06</td>\n",
       "      <td>H04L63/20</td>\n",
       "    </tr>\n",
       "    <tr>\n",
       "      <th>3</th>\n",
       "      <td>NewStore</td>\n",
       "      <td>US-2017011449-A1</td>\n",
       "      <td>US-10134001-B2</td>\n",
       "      <td>THEATRO LABS INC</td>\n",
       "      <td>G06Q30/06</td>\n",
       "      <td>G06Q10/06</td>\n",
       "    </tr>\n",
       "    <tr>\n",
       "      <th>4</th>\n",
       "      <td>RARE MILE TECH INC</td>\n",
       "      <td>US-2016217522-A1</td>\n",
       "      <td>US-10417671-B2</td>\n",
       "      <td>YEXT INC</td>\n",
       "      <td>G06Q30/06</td>\n",
       "      <td>G06Q30/02</td>\n",
       "    </tr>\n",
       "  </tbody>\n",
       "</table>\n",
       "</div>"
      ],
      "text/plain": [
       "       cited_assignee cited_publication_number citing_publication_number  \\\n",
       "0         GRABANGO CO         US-2018240180-A1          US-2019096209-A1   \n",
       "1     EMBL RETAIL INC         US-2018300791-A1            US-10420397-B2   \n",
       "2        ONETRUST LLC            US-9691090-B1            US-10574705-B2   \n",
       "3            NewStore         US-2017011449-A1            US-10134001-B2   \n",
       "4  RARE MILE TECH INC         US-2016217522-A1            US-10417671-B2   \n",
       "\n",
       "    citing_assignee cited_cpc_code citing_cpc_code  \n",
       "0        INTEL CORP      G06Q30/06       G08B13/24  \n",
       "1   BLACK BRASS INC      G06Q30/06       A43D1/025  \n",
       "2      ONETRUST LLC      G06Q30/06       H04L63/20  \n",
       "3  THEATRO LABS INC      G06Q30/06       G06Q10/06  \n",
       "4          YEXT INC      G06Q30/06       G06Q30/02  "
      ]
     },
     "execution_count": 13,
     "metadata": {},
     "output_type": "execute_result"
    }
   ],
   "source": [
    "# Then,\n",
    "# extract all the patents from 2016-2020 that cite these patents, and build a directed network of\n",
    "# patent citations. Try to answer the questions stated above\n",
    "\n",
    "# INNER JOIN\n",
    "\n",
    "query_string2 = \"\"\"\n",
    "SELECT cited_assignee, refs.cited_publication_number, citing_publication_number, citing_assignee, cited_cpc_code, \n",
    "citing_cpc_code FROM\n",
    "(SELECT ANY_VALUE(a.name) AS cited_assignee, ANY_VALUE(pubs.publication_number) as \n",
    "cited_publication_number,\n",
    "ANY_VALUE(SUBSTR(cpcs.code, 0, 9)) AS cited_cpc_code, ANY_VALUE(pubs.filing_date) AS filing_date\n",
    "FROM `patents-public-data.patents.publications` AS pubs, UNNEST(assignee_harmonized) as a,\n",
    "UNNEST(pubs.cpc) as cpcs\n",
    "WHERE cpcs.first = TRUE AND REGEXP_CONTAINS(cpcs.code, \"G06Q30/06\") AND \n",
    "filing_date > 20160101\n",
    "GROUP BY application_number\n",
    ") as refs\n",
    "JOIN (\n",
    "  SELECT pubs.publication_number AS citing_publication_number, cite.publication_number AS cited_publication_number, citing_assignee_s.name AS citing_assignee, SUBSTR(cpcs.code, 0, 9) AS citing_cpc_code, \n",
    "  pubs.filing_date AS citing_filing_date\n",
    "  FROM `patents-public-data.patents.publications` AS pubs, UNNEST(citation) AS cite, UNNEST(assignee_harmonized) AS citing_assignee_s, UNNEST(cpc) AS cpcs\n",
    "  WHERE cpcs.first = TRUE AND pubs.filing_date > 20160101\n",
    ") AS pubs\n",
    "ON refs.cited_publication_number = pubs.cited_publication_number\n",
    "GROUP BY citing_publication_number, refs.cited_publication_number, pubs.cited_publication_number, citing_assignee, cited_assignee, citing_cpc_code, cited_cpc_code, citing_filing_date\n",
    "\"\"\"\n",
    "\n",
    "dataframe2 = (\n",
    "    bqclient.query(query_string2)\n",
    "    .result()\n",
    "    .to_dataframe(bqstorage_client=bqstorageclient)\n",
    ")\n",
    "dataframe2.head()"
   ]
  },
  {
   "cell_type": "code",
   "execution_count": 15,
   "metadata": {},
   "outputs": [],
   "source": [
    "dataframe2.to_csv(\"citation_2016.csv\")"
   ]
  },
  {
   "cell_type": "code",
   "execution_count": 14,
   "metadata": {},
   "outputs": [
    {
     "data": {
      "text/plain": [
       "(4603, 6)"
      ]
     },
     "execution_count": 14,
     "metadata": {},
     "output_type": "execute_result"
    }
   ],
   "source": [
    "dataframe2.shape"
   ]
  },
  {
   "cell_type": "code",
   "execution_count": null,
   "metadata": {},
   "outputs": [],
   "source": []
  }
 ],
 "metadata": {
  "kernelspec": {
   "display_name": "Python 3",
   "language": "python",
   "name": "python3"
  },
  "language_info": {
   "codemirror_mode": {
    "name": "ipython",
    "version": 3
   },
   "file_extension": ".py",
   "mimetype": "text/x-python",
   "name": "python",
   "nbconvert_exporter": "python",
   "pygments_lexer": "ipython3",
   "version": "3.6.6"
  }
 },
 "nbformat": 4,
 "nbformat_minor": 4
}
