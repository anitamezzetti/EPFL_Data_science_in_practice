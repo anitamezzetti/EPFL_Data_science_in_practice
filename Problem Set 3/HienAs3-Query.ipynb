{
 "cells": [
  {
   "cell_type": "code",
   "execution_count": 1,
   "metadata": {},
   "outputs": [],
   "source": [
    "import numpy as np\n",
    "import pandas as pd"
   ]
  },
  {
   "cell_type": "markdown",
   "metadata": {},
   "source": [
    "### Problem Set 3\n",
    "Your department at the Telecom. company is\n",
    "on fire\n",
    "! Since they hired you, they have boosted\n",
    "their productivity, and are now capable of taking data-driven decision much more quickly. Given the\n",
    "development of the new techniques, your boss has decided he wants to patent the data processing\n",
    "methods that you use, in order to add some value to the company. While this is great news... it\n",
    "means more work for you ! It is the first time the company looks into this kind of patents, so they\n",
    "know very little. You have been asked to take all the patents from 2016 in the relevant class, and\n",
    "study your competitors. You are specially interested in knowing : who is the central player in this\n",
    "technology area ? Who is the leader ? Who is an irrelevant actor ?\n",
    "The lawyers will subsequently use this information in order to study their patent portfolios and\n",
    "make the best of our resources "
   ]
  },
  {
   "cell_type": "code",
   "execution_count": 2,
   "metadata": {},
   "outputs": [],
   "source": [
    "# use the data from Google Patents Datasets. You have to register to the free-\n",
    "# tier of Google BigQuery, and use the patents-public-data/publications table. Identify and extract\n",
    "# all patents from 2016 from that have a patent classification (cpc) starting with G06Q30/06... Then,\n",
    "# extract all the patents from 2016-2020 that cite these patents, and build a directed network of\n",
    "# patent citations"
   ]
  },
  {
   "cell_type": "code",
   "execution_count": 3,
   "metadata": {},
   "outputs": [],
   "source": [
    "import os\n",
    "os.environ[\"GOOGLE_APPLICATION_CREDENTIALS\"]=\"/home/hienle/DSIP-As3-25e0a13c65b2.json\""
   ]
  },
  {
   "cell_type": "code",
   "execution_count": 4,
   "metadata": {},
   "outputs": [],
   "source": [
    "import google.auth\n",
    "from google.cloud import bigquery\n",
    "from google.cloud import bigquery_storage_v1beta1\n",
    "\n",
    "# Explicitly create a credentials object. This allows you to use the same\n",
    "# credentials for both the BigQuery and BigQuery Storage clients, avoiding\n",
    "# unnecessary API calls to fetch duplicate authentication tokens.\n",
    "credentials, your_project_id = google.auth.default(\n",
    "    scopes=[\"https://www.googleapis.com/auth/cloud-platform\"]\n",
    ")"
   ]
  },
  {
   "cell_type": "code",
   "execution_count": 5,
   "metadata": {},
   "outputs": [],
   "source": [
    "\n",
    "# Make clients.\n",
    "bqclient = bigquery.Client(\n",
    "    credentials=credentials,\n",
    "    project=your_project_id,\n",
    ")\n",
    "bqstorageclient = bigquery_storage_v1beta1.BigQueryStorageClient(\n",
    "    credentials=credentials\n",
    ")"
   ]
  },
  {
   "cell_type": "code",
   "execution_count": 19,
   "metadata": {},
   "outputs": [
    {
     "data": {
      "text/plain": [
       "<Arrow [2016-01-01T00:00:00+00:00]>"
      ]
     },
     "execution_count": 19,
     "metadata": {},
     "output_type": "execute_result"
    }
   ],
   "source": [
    "import arrow\n",
    "arrow.get(\"2016-01\", tzinfo=\"utc\")"
   ]
  },
  {
   "cell_type": "code",
   "execution_count": 11,
   "metadata": {},
   "outputs": [
    {
     "data": {
      "text/html": [
       "<div>\n",
       "<style scoped>\n",
       "    .dataframe tbody tr th:only-of-type {\n",
       "        vertical-align: middle;\n",
       "    }\n",
       "\n",
       "    .dataframe tbody tr th {\n",
       "        vertical-align: top;\n",
       "    }\n",
       "\n",
       "    .dataframe thead th {\n",
       "        text-align: right;\n",
       "    }\n",
       "</style>\n",
       "<table border=\"1\" class=\"dataframe\">\n",
       "  <thead>\n",
       "    <tr style=\"text-align: right;\">\n",
       "      <th></th>\n",
       "      <th>assignee_name</th>\n",
       "      <th>pub_number</th>\n",
       "      <th>cpc_code</th>\n",
       "      <th>filing_date</th>\n",
       "      <th>filing_year</th>\n",
       "      <th>country_code</th>\n",
       "    </tr>\n",
       "  </thead>\n",
       "  <tbody>\n",
       "    <tr>\n",
       "      <th>0</th>\n",
       "      <td>LIM SOON SEOP</td>\n",
       "      <td>KR-20200021490-A</td>\n",
       "      <td>G06Q30/06</td>\n",
       "      <td>20200210</td>\n",
       "      <td>2020</td>\n",
       "      <td>KR</td>\n",
       "    </tr>\n",
       "    <tr>\n",
       "      <th>1</th>\n",
       "      <td>LIM SOON SEOP</td>\n",
       "      <td>KR-20200021488-A</td>\n",
       "      <td>G06Q30/06</td>\n",
       "      <td>20200210</td>\n",
       "      <td>2020</td>\n",
       "      <td>KR</td>\n",
       "    </tr>\n",
       "    <tr>\n",
       "      <th>2</th>\n",
       "      <td>ELECTRONIC COMMODITIES EXCHANGE L P</td>\n",
       "      <td>AU-2020200803-A1</td>\n",
       "      <td>G06Q30/06</td>\n",
       "      <td>20200204</td>\n",
       "      <td>2020</td>\n",
       "      <td>AU</td>\n",
       "    </tr>\n",
       "    <tr>\n",
       "      <th>3</th>\n",
       "      <td>LIM SOON SEOP</td>\n",
       "      <td>KR-20200021491-A</td>\n",
       "      <td>G06Q30/06</td>\n",
       "      <td>20200210</td>\n",
       "      <td>2020</td>\n",
       "      <td>KR</td>\n",
       "    </tr>\n",
       "    <tr>\n",
       "      <th>4</th>\n",
       "      <td>STRIPE INC</td>\n",
       "      <td>AU-2020201049-A1</td>\n",
       "      <td>G06Q30/06</td>\n",
       "      <td>20200213</td>\n",
       "      <td>2020</td>\n",
       "      <td>AU</td>\n",
       "    </tr>\n",
       "  </tbody>\n",
       "</table>\n",
       "</div>"
      ],
      "text/plain": [
       "                         assignee_name        pub_number   cpc_code  \\\n",
       "0                        LIM SOON SEOP  KR-20200021490-A  G06Q30/06   \n",
       "1                        LIM SOON SEOP  KR-20200021488-A  G06Q30/06   \n",
       "2  ELECTRONIC COMMODITIES EXCHANGE L P  AU-2020200803-A1  G06Q30/06   \n",
       "3                        LIM SOON SEOP  KR-20200021491-A  G06Q30/06   \n",
       "4                           STRIPE INC  AU-2020201049-A1  G06Q30/06   \n",
       "\n",
       "   filing_date  filing_year country_code  \n",
       "0     20200210         2020           KR  \n",
       "1     20200210         2020           KR  \n",
       "2     20200204         2020           AU  \n",
       "3     20200210         2020           KR  \n",
       "4     20200213         2020           AU  "
      ]
     },
     "execution_count": 11,
     "metadata": {},
     "output_type": "execute_result"
    }
   ],
   "source": [
    "query_string = f\"\"\"\n",
    "SELECT ANY_VALUE(a.name) AS assignee_name, ANY_VALUE(pubs.publication_number) as pub_number,\n",
    "ANY_VALUE(SUBSTR(cpcs.code, 0, 9)) AS cpc_code,\n",
    "ANY_VALUE(pubs.filing_date) AS filing_date, CAST(FLOOR(ANY_VALUE(filing_date) / 10000) AS INT64) AS filing_year,\n",
    "ANY_VALUE(pubs.country_code) AS country_code\n",
    "FROM `patents-public-data.patents.publications` AS pubs, UNNEST(assignee_harmonized) as a,\n",
    "UNNEST(pubs.cpc) as cpcs\n",
    "WHERE cpcs.first = TRUE AND REGEXP_CONTAINS(cpcs.code, \"G06Q30/06\") AND \n",
    "filing_date > 20160101\n",
    "GROUP BY application_number\n",
    "\"\"\"\n",
    "\n",
    "dataframe = (\n",
    "    bqclient.query(query_string)\n",
    "    .result()\n",
    "    .to_dataframe(bqstorage_client=bqstorageclient)\n",
    ")\n",
    "dataframe.head()"
   ]
  },
  {
   "cell_type": "code",
   "execution_count": 16,
   "metadata": {},
   "outputs": [
    {
     "data": {
      "text/plain": [
       "(4357,)"
      ]
     },
     "execution_count": 16,
     "metadata": {},
     "output_type": "execute_result"
    }
   ],
   "source": [
    "dataframe.assignee_name.unique().shape"
   ]
  },
  {
   "cell_type": "code",
   "execution_count": 60,
   "metadata": {},
   "outputs": [],
   "source": [
    "dataframe.to_csv(\"all_patents_G06Q30.csv\")"
   ]
  },
  {
   "cell_type": "code",
   "execution_count": 32,
   "metadata": {},
   "outputs": [
    {
     "data": {
      "text/html": [
       "<div>\n",
       "<style scoped>\n",
       "    .dataframe tbody tr th:only-of-type {\n",
       "        vertical-align: middle;\n",
       "    }\n",
       "\n",
       "    .dataframe tbody tr th {\n",
       "        vertical-align: top;\n",
       "    }\n",
       "\n",
       "    .dataframe thead th {\n",
       "        text-align: right;\n",
       "    }\n",
       "</style>\n",
       "<table border=\"1\" class=\"dataframe\">\n",
       "  <thead>\n",
       "    <tr style=\"text-align: right;\">\n",
       "      <th></th>\n",
       "      <th>cited_assignee</th>\n",
       "      <th>cited_publication_number</th>\n",
       "      <th>citing_publication_number</th>\n",
       "      <th>citing_assignee</th>\n",
       "      <th>cited_cpc_code</th>\n",
       "      <th>citing_cpc_code</th>\n",
       "      <th>filing_year</th>\n",
       "    </tr>\n",
       "  </thead>\n",
       "  <tbody>\n",
       "    <tr>\n",
       "      <th>0</th>\n",
       "      <td>BECKHAM BRITTANY FLETCHER</td>\n",
       "      <td>US-2017011452-A1</td>\n",
       "      <td>US-2018218433-A1</td>\n",
       "      <td>FOGEL DAVID</td>\n",
       "      <td>G06Q30/06</td>\n",
       "      <td>G06Q30/06</td>\n",
       "      <td>2016</td>\n",
       "    </tr>\n",
       "    <tr>\n",
       "      <th>1</th>\n",
       "      <td>BANK OF AMERICA</td>\n",
       "      <td>US-2018150899-A1</td>\n",
       "      <td>US-2018375660-A1</td>\n",
       "      <td>DELL PRODUCTS LP</td>\n",
       "      <td>G06Q30/06</td>\n",
       "      <td>H04L9/322</td>\n",
       "      <td>2016</td>\n",
       "    </tr>\n",
       "    <tr>\n",
       "      <th>2</th>\n",
       "      <td>SQUARE INC</td>\n",
       "      <td>US-9934530-B1</td>\n",
       "      <td>US-10467562-B1</td>\n",
       "      <td>COUPANG CORP</td>\n",
       "      <td>G06Q30/06</td>\n",
       "      <td>G06Q10/06</td>\n",
       "      <td>2016</td>\n",
       "    </tr>\n",
       "    <tr>\n",
       "      <th>3</th>\n",
       "      <td>WIECHERS RALPH</td>\n",
       "      <td>US-2017132691-A1</td>\n",
       "      <td>US-10497192-B2</td>\n",
       "      <td>CARRIER CORP</td>\n",
       "      <td>G06Q30/06</td>\n",
       "      <td>G07C9/27</td>\n",
       "      <td>2016</td>\n",
       "    </tr>\n",
       "    <tr>\n",
       "      <th>4</th>\n",
       "      <td>KIMREE HI-TECH INC</td>\n",
       "      <td>US-2016260156-A1</td>\n",
       "      <td>US-10159282-B2</td>\n",
       "      <td>JUUL LABS INC</td>\n",
       "      <td>G06Q30/06</td>\n",
       "      <td>A24F47/00</td>\n",
       "      <td>2016</td>\n",
       "    </tr>\n",
       "  </tbody>\n",
       "</table>\n",
       "</div>"
      ],
      "text/plain": [
       "              cited_assignee cited_publication_number  \\\n",
       "0  BECKHAM BRITTANY FLETCHER         US-2017011452-A1   \n",
       "1            BANK OF AMERICA         US-2018150899-A1   \n",
       "2                 SQUARE INC            US-9934530-B1   \n",
       "3             WIECHERS RALPH         US-2017132691-A1   \n",
       "4         KIMREE HI-TECH INC         US-2016260156-A1   \n",
       "\n",
       "  citing_publication_number   citing_assignee cited_cpc_code citing_cpc_code  \\\n",
       "0          US-2018218433-A1       FOGEL DAVID      G06Q30/06       G06Q30/06   \n",
       "1          US-2018375660-A1  DELL PRODUCTS LP      G06Q30/06       H04L9/322   \n",
       "2            US-10467562-B1      COUPANG CORP      G06Q30/06       G06Q10/06   \n",
       "3            US-10497192-B2      CARRIER CORP      G06Q30/06        G07C9/27   \n",
       "4            US-10159282-B2     JUUL LABS INC      G06Q30/06       A24F47/00   \n",
       "\n",
       "   filing_year  \n",
       "0         2016  \n",
       "1         2016  \n",
       "2         2016  \n",
       "3         2016  \n",
       "4         2016  "
      ]
     },
     "execution_count": 32,
     "metadata": {},
     "output_type": "execute_result"
    }
   ],
   "source": [
    "# Then,\n",
    "# extract all the patents from 2016-2020 that cite these patents, and build a directed network of\n",
    "# patent citations. Try to answer the questions stated above\n",
    "\n",
    "# INNER JOIN\n",
    "\n",
    "query_string2 = \"\"\"\n",
    "SELECT cited_assignee, refs.cited_publication_number, citing_publication_number, citing_assignee, cited_cpc_code, \n",
    "citing_cpc_code, filing_year FROM\n",
    "(SELECT a.name AS cited_assignee, pubs.publication_number as \n",
    "cited_publication_number,\n",
    "SUBSTR(cpcs.code, 0, 9) AS cited_cpc_code, pubs.filing_date AS filing_date,\n",
    "CAST(FLOOR(filing_date / 10000) AS INT64) AS filing_year\n",
    "FROM `patents-public-data.patents.publications` AS pubs, UNNEST(assignee_harmonized) as a,\n",
    "UNNEST(pubs.cpc) as cpcs\n",
    "WHERE cpcs.first = TRUE AND REGEXP_CONTAINS(cpcs.code, \"G06Q30/06\") AND \n",
    "filing_date > 20160101\n",
    "--GROUP BY application_number\n",
    ") as refs\n",
    "JOIN (\n",
    "  SELECT pubs.publication_number AS citing_publication_number, cite.publication_number AS cited_publication_number, \n",
    "  citing_assignee_s.name AS citing_assignee, SUBSTR(cpcs.code, 0, 9) AS citing_cpc_code, \n",
    "  pubs.filing_date AS citing_filing_date\n",
    "  FROM `patents-public-data.patents.publications` AS pubs, UNNEST(citation) AS cite, \n",
    "  UNNEST(assignee_harmonized) AS citing_assignee_s, UNNEST(cpc) AS cpcs\n",
    "  WHERE cpcs.first = TRUE AND pubs.filing_date > 20160101\n",
    ") AS pubs\n",
    "ON refs.cited_publication_number = pubs.cited_publication_number\n",
    "GROUP BY citing_publication_number, refs.cited_publication_number, pubs.cited_publication_number, citing_assignee, \n",
    "cited_assignee, citing_cpc_code, cited_cpc_code, filing_year\n",
    "\"\"\"\n",
    "\n",
    "\n",
    "dataframe2 = (\n",
    "    bqclient.query(query_string2)\n",
    "    .result()\n",
    "    .to_dataframe(bqstorage_client=bqstorageclient)\n",
    ")\n",
    "dataframe2.head()"
   ]
  },
  {
   "cell_type": "code",
   "execution_count": 34,
   "metadata": {},
   "outputs": [],
   "source": [
    "dataframe2.to_csv(\"citation_2016.csv\")"
   ]
  },
  {
   "cell_type": "code",
   "execution_count": 33,
   "metadata": {},
   "outputs": [
    {
     "data": {
      "text/plain": [
       "(5992, 7)"
      ]
     },
     "execution_count": 33,
     "metadata": {},
     "output_type": "execute_result"
    }
   ],
   "source": [
    "dataframe2.shape"
   ]
  },
  {
   "cell_type": "code",
   "execution_count": 9,
   "metadata": {},
   "outputs": [
    {
     "ename": "NameError",
     "evalue": "name 'dataframe1' is not defined",
     "output_type": "error",
     "traceback": [
      "\u001b[0;31m---------------------------------------------------------------------------\u001b[0m",
      "\u001b[0;31mNameError\u001b[0m                                 Traceback (most recent call last)",
      "\u001b[0;32m<ipython-input-9-186f60fc18b0>\u001b[0m in \u001b[0;36m<module>\u001b[0;34m()\u001b[0m\n\u001b[0;32m----> 1\u001b[0;31m \u001b[0mdataframe1\u001b[0m\u001b[0;34m.\u001b[0m\u001b[0mshape\u001b[0m\u001b[0;34m\u001b[0m\u001b[0m\n\u001b[0m",
      "\u001b[0;31mNameError\u001b[0m: name 'dataframe1' is not defined"
     ]
    }
   ],
   "source": [
    "dataframe1.shape"
   ]
  },
  {
   "cell_type": "code",
   "execution_count": null,
   "metadata": {},
   "outputs": [],
   "source": []
  }
 ],
 "metadata": {
  "kernelspec": {
   "display_name": "Python 3",
   "language": "python",
   "name": "python3"
  },
  "language_info": {
   "codemirror_mode": {
    "name": "ipython",
    "version": 3
   },
   "file_extension": ".py",
   "mimetype": "text/x-python",
   "name": "python",
   "nbconvert_exporter": "python",
   "pygments_lexer": "ipython3",
   "version": "3.6.6"
  }
 },
 "nbformat": 4,
 "nbformat_minor": 4
}
