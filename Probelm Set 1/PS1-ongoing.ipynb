{
 "nbformat": 4,
 "nbformat_minor": 2,
 "metadata": {
  "language_info": {
   "name": "python",
   "codemirror_mode": {
    "name": "ipython",
    "version": 3
   },
   "version": "3.7.4-final"
  },
  "orig_nbformat": 2,
  "file_extension": ".py",
  "mimetype": "text/x-python",
  "name": "python",
  "npconvert_exporter": "python",
  "pygments_lexer": "ipython3",
  "version": 3,
  "kernelspec": {
   "name": "python37464bitbasecondafcb7b2cac36048f597ce3de3bec7a14b",
   "display_name": "Python 3.7.4 64-bit ('base': conda)"
  }
 },
 "cells": [
  {
   "cell_type": "markdown",
   "metadata": {},
   "source": [
    "Problem Set 1"
   ]
  },
  {
   "cell_type": "code",
   "execution_count": 33,
   "metadata": {},
   "outputs": [],
   "source": [
    "import pandas as pd\n",
    "df = pd.read_csv (r'customers.csv') #import data"
   ]
  },
  {
   "cell_type": "markdown",
   "metadata": {},
   "source": [
    "We delete clients who leave the company (Churn=No)"
   ]
  },
  {
   "cell_type": "code",
   "execution_count": 42,
   "metadata": {},
   "outputs": [],
   "source": [
    "negative_churn = df.Churn=='No' #find who leave the company (churn)\n",
    "df = df.drop(df[negative_churn].index) #delete them from the DataFrame"
   ]
  },
  {
   "cell_type": "code",
   "execution_count": 43,
   "metadata": {},
   "outputs": [
    {
     "name": "stdout",
     "output_type": "stream",
     "text": "Percentage of clients who do NOT leave the company (on the total) = 0.265\nPercentage of clients who leave the company (on the total) = 0.735\n"
    }
   ],
   "source": [
    "number_tot_churn = len(negative_churn) #total number of clients who leave the company \n",
    "number_positive_churn = len(df) #number of clients who do NOT leave the company \n",
    "per_positive_tot=number_positive_churn/(number_negative_churn)\n",
    "print('Percentage of clients who do NOT leave the company (on the total) = %.3f' % per_positive_tot)\n",
    "print('Percentage of clients who leave the company (on the total) = %.3f' % (1-per_positive_tot))"
   ]
  },
  {
   "cell_type": "code",
   "execution_count": null,
   "metadata": {},
   "outputs": [],
   "source": []
  }
 ]
}