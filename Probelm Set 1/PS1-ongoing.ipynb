{
 "nbformat": 4,
 "nbformat_minor": 2,
 "metadata": {
  "language_info": {
   "name": "python",
   "codemirror_mode": {
    "name": "ipython",
    "version": 3
   },
   "version": "3.7.4-final"
  },
  "orig_nbformat": 2,
  "file_extension": ".py",
  "mimetype": "text/x-python",
  "name": "python",
  "npconvert_exporter": "python",
  "pygments_lexer": "ipython3",
  "version": 3,
  "kernelspec": {
   "name": "python3",
   "display_name": "Python 3"
  }
 },
 "cells": [
  {
   "cell_type": "markdown",
   "metadata": {},
   "source": [
    "Problem Set 1"
   ]
  },
  {
   "cell_type": "code",
   "execution_count": 4,
   "metadata": {},
   "outputs": [],
   "source": [
    "import pandas as pd\n",
    "import numpy as np\n",
    "import seaborn as sns\n",
    "import matplotlib.pyplot as plt"
   ]
  },
  {
   "cell_type": "markdown",
   "metadata": {},
   "source": [
    "We delete clients who leave the company (Churn=No)"
   ]
  },
  {
   "cell_type": "code",
   "execution_count": 5,
   "metadata": {},
   "outputs": [
    {
     "data": {
      "text/html": "<div>\n<style scoped>\n    .dataframe tbody tr th:only-of-type {\n        vertical-align: middle;\n    }\n\n    .dataframe tbody tr th {\n        vertical-align: top;\n    }\n\n    .dataframe thead th {\n        text-align: right;\n    }\n</style>\n<table border=\"1\" class=\"dataframe\">\n  <thead>\n    <tr style=\"text-align: right;\">\n      <th></th>\n      <th>customerID</th>\n      <th>gender</th>\n      <th>SeniorCitizen</th>\n      <th>Partner</th>\n      <th>Dependents</th>\n      <th>tenure</th>\n      <th>PhoneService</th>\n      <th>MultipleLines</th>\n      <th>InternetService</th>\n      <th>OnlineSecurity</th>\n      <th>...</th>\n      <th>DeviceProtection</th>\n      <th>TechSupport</th>\n      <th>StreamingTV</th>\n      <th>StreamingMovies</th>\n      <th>Contract</th>\n      <th>PaperlessBilling</th>\n      <th>PaymentMethod</th>\n      <th>MonthlyCharges</th>\n      <th>TotalCharges</th>\n      <th>Churn</th>\n    </tr>\n  </thead>\n  <tbody>\n    <tr>\n      <td>2</td>\n      <td>3668-QPYBK</td>\n      <td>Male</td>\n      <td>0</td>\n      <td>No</td>\n      <td>No</td>\n      <td>2</td>\n      <td>Yes</td>\n      <td>No</td>\n      <td>DSL</td>\n      <td>Yes</td>\n      <td>...</td>\n      <td>No</td>\n      <td>No</td>\n      <td>No</td>\n      <td>No</td>\n      <td>Month-to-month</td>\n      <td>Yes</td>\n      <td>Mailed check</td>\n      <td>53.85</td>\n      <td>108.15</td>\n      <td>Yes</td>\n    </tr>\n    <tr>\n      <td>4</td>\n      <td>9237-HQITU</td>\n      <td>Female</td>\n      <td>0</td>\n      <td>No</td>\n      <td>No</td>\n      <td>2</td>\n      <td>Yes</td>\n      <td>No</td>\n      <td>Fiber optic</td>\n      <td>No</td>\n      <td>...</td>\n      <td>No</td>\n      <td>No</td>\n      <td>No</td>\n      <td>No</td>\n      <td>Month-to-month</td>\n      <td>Yes</td>\n      <td>Electronic check</td>\n      <td>70.70</td>\n      <td>151.65</td>\n      <td>Yes</td>\n    </tr>\n    <tr>\n      <td>5</td>\n      <td>9305-CDSKC</td>\n      <td>Female</td>\n      <td>0</td>\n      <td>No</td>\n      <td>No</td>\n      <td>8</td>\n      <td>Yes</td>\n      <td>Yes</td>\n      <td>Fiber optic</td>\n      <td>No</td>\n      <td>...</td>\n      <td>Yes</td>\n      <td>No</td>\n      <td>Yes</td>\n      <td>Yes</td>\n      <td>Month-to-month</td>\n      <td>Yes</td>\n      <td>Electronic check</td>\n      <td>99.65</td>\n      <td>820.5</td>\n      <td>Yes</td>\n    </tr>\n    <tr>\n      <td>8</td>\n      <td>7892-POOKP</td>\n      <td>Female</td>\n      <td>0</td>\n      <td>Yes</td>\n      <td>No</td>\n      <td>28</td>\n      <td>Yes</td>\n      <td>Yes</td>\n      <td>Fiber optic</td>\n      <td>No</td>\n      <td>...</td>\n      <td>Yes</td>\n      <td>Yes</td>\n      <td>Yes</td>\n      <td>Yes</td>\n      <td>Month-to-month</td>\n      <td>Yes</td>\n      <td>Electronic check</td>\n      <td>104.80</td>\n      <td>3046.05</td>\n      <td>Yes</td>\n    </tr>\n    <tr>\n      <td>13</td>\n      <td>0280-XJGEX</td>\n      <td>Male</td>\n      <td>0</td>\n      <td>No</td>\n      <td>No</td>\n      <td>49</td>\n      <td>Yes</td>\n      <td>Yes</td>\n      <td>Fiber optic</td>\n      <td>No</td>\n      <td>...</td>\n      <td>Yes</td>\n      <td>No</td>\n      <td>Yes</td>\n      <td>Yes</td>\n      <td>Month-to-month</td>\n      <td>Yes</td>\n      <td>Bank transfer (automatic)</td>\n      <td>103.70</td>\n      <td>5036.3</td>\n      <td>Yes</td>\n    </tr>\n    <tr>\n      <td>18</td>\n      <td>4190-MFLUW</td>\n      <td>Female</td>\n      <td>0</td>\n      <td>Yes</td>\n      <td>Yes</td>\n      <td>10</td>\n      <td>Yes</td>\n      <td>No</td>\n      <td>DSL</td>\n      <td>No</td>\n      <td>...</td>\n      <td>Yes</td>\n      <td>Yes</td>\n      <td>No</td>\n      <td>No</td>\n      <td>Month-to-month</td>\n      <td>No</td>\n      <td>Credit card (automatic)</td>\n      <td>55.20</td>\n      <td>528.35</td>\n      <td>Yes</td>\n    </tr>\n    <tr>\n      <td>20</td>\n      <td>8779-QRDMV</td>\n      <td>Male</td>\n      <td>1</td>\n      <td>No</td>\n      <td>No</td>\n      <td>1</td>\n      <td>No</td>\n      <td>No phone service</td>\n      <td>DSL</td>\n      <td>No</td>\n      <td>...</td>\n      <td>Yes</td>\n      <td>No</td>\n      <td>No</td>\n      <td>Yes</td>\n      <td>Month-to-month</td>\n      <td>Yes</td>\n      <td>Electronic check</td>\n      <td>39.65</td>\n      <td>39.65</td>\n      <td>Yes</td>\n    </tr>\n    <tr>\n      <td>22</td>\n      <td>1066-JKSGK</td>\n      <td>Male</td>\n      <td>0</td>\n      <td>No</td>\n      <td>No</td>\n      <td>1</td>\n      <td>Yes</td>\n      <td>No</td>\n      <td>No</td>\n      <td>No internet service</td>\n      <td>...</td>\n      <td>No internet service</td>\n      <td>No internet service</td>\n      <td>No internet service</td>\n      <td>No internet service</td>\n      <td>Month-to-month</td>\n      <td>No</td>\n      <td>Mailed check</td>\n      <td>20.15</td>\n      <td>20.15</td>\n      <td>Yes</td>\n    </tr>\n    <tr>\n      <td>26</td>\n      <td>6467-CHFZW</td>\n      <td>Male</td>\n      <td>0</td>\n      <td>Yes</td>\n      <td>Yes</td>\n      <td>47</td>\n      <td>Yes</td>\n      <td>Yes</td>\n      <td>Fiber optic</td>\n      <td>No</td>\n      <td>...</td>\n      <td>No</td>\n      <td>No</td>\n      <td>Yes</td>\n      <td>Yes</td>\n      <td>Month-to-month</td>\n      <td>Yes</td>\n      <td>Electronic check</td>\n      <td>99.35</td>\n      <td>4749.15</td>\n      <td>Yes</td>\n    </tr>\n    <tr>\n      <td>27</td>\n      <td>8665-UTDHZ</td>\n      <td>Male</td>\n      <td>0</td>\n      <td>Yes</td>\n      <td>Yes</td>\n      <td>1</td>\n      <td>No</td>\n      <td>No phone service</td>\n      <td>DSL</td>\n      <td>No</td>\n      <td>...</td>\n      <td>No</td>\n      <td>No</td>\n      <td>No</td>\n      <td>No</td>\n      <td>Month-to-month</td>\n      <td>No</td>\n      <td>Electronic check</td>\n      <td>30.20</td>\n      <td>30.2</td>\n      <td>Yes</td>\n    </tr>\n  </tbody>\n</table>\n<p>10 rows × 21 columns</p>\n</div>",
      "text/plain": "    customerID  gender  SeniorCitizen Partner Dependents  tenure PhoneService  \\\n2   3668-QPYBK    Male              0      No         No       2          Yes   \n4   9237-HQITU  Female              0      No         No       2          Yes   \n5   9305-CDSKC  Female              0      No         No       8          Yes   \n8   7892-POOKP  Female              0     Yes         No      28          Yes   \n13  0280-XJGEX    Male              0      No         No      49          Yes   \n18  4190-MFLUW  Female              0     Yes        Yes      10          Yes   \n20  8779-QRDMV    Male              1      No         No       1           No   \n22  1066-JKSGK    Male              0      No         No       1          Yes   \n26  6467-CHFZW    Male              0     Yes        Yes      47          Yes   \n27  8665-UTDHZ    Male              0     Yes        Yes       1           No   \n\n       MultipleLines InternetService       OnlineSecurity  ...  \\\n2                 No             DSL                  Yes  ...   \n4                 No     Fiber optic                   No  ...   \n5                Yes     Fiber optic                   No  ...   \n8                Yes     Fiber optic                   No  ...   \n13               Yes     Fiber optic                   No  ...   \n18                No             DSL                   No  ...   \n20  No phone service             DSL                   No  ...   \n22                No              No  No internet service  ...   \n26               Yes     Fiber optic                   No  ...   \n27  No phone service             DSL                   No  ...   \n\n       DeviceProtection          TechSupport          StreamingTV  \\\n2                    No                   No                   No   \n4                    No                   No                   No   \n5                   Yes                   No                  Yes   \n8                   Yes                  Yes                  Yes   \n13                  Yes                   No                  Yes   \n18                  Yes                  Yes                   No   \n20                  Yes                   No                   No   \n22  No internet service  No internet service  No internet service   \n26                   No                   No                  Yes   \n27                   No                   No                   No   \n\n        StreamingMovies        Contract PaperlessBilling  \\\n2                    No  Month-to-month              Yes   \n4                    No  Month-to-month              Yes   \n5                   Yes  Month-to-month              Yes   \n8                   Yes  Month-to-month              Yes   \n13                  Yes  Month-to-month              Yes   \n18                   No  Month-to-month               No   \n20                  Yes  Month-to-month              Yes   \n22  No internet service  Month-to-month               No   \n26                  Yes  Month-to-month              Yes   \n27                   No  Month-to-month               No   \n\n                PaymentMethod MonthlyCharges  TotalCharges Churn  \n2                Mailed check          53.85        108.15   Yes  \n4            Electronic check          70.70        151.65   Yes  \n5            Electronic check          99.65         820.5   Yes  \n8            Electronic check         104.80       3046.05   Yes  \n13  Bank transfer (automatic)         103.70        5036.3   Yes  \n18    Credit card (automatic)          55.20        528.35   Yes  \n20           Electronic check          39.65         39.65   Yes  \n22               Mailed check          20.15         20.15   Yes  \n26           Electronic check          99.35       4749.15   Yes  \n27           Electronic check          30.20          30.2   Yes  \n\n[10 rows x 21 columns]"
     },
     "execution_count": 5,
     "metadata": {},
     "output_type": "execute_result"
    }
   ],
   "source": [
    "df = pd.read_csv (r'customers.csv') #import data\n",
    "negative_churn = df.Churn=='No' #find who leave the company (churn) \n",
    "df = df.drop(df[negative_churn].index) #delete them from the DataFrame\n",
    "df.head(10)"
   ]
  },
  {
   "cell_type": "code",
   "execution_count": 6,
   "metadata": {},
   "outputs": [
    {
     "name": "stdout",
     "output_type": "stream",
     "text": "2        108.15\n4        151.65\n5        820.50\n8       3046.05\n13      5036.30\n         ...   \n7021     727.80\n7026     403.35\n7032      75.75\n7034    6886.25\n7041     306.60\nName: TotalCharges, Length: 1869, dtype: float64\n"
    }
   ],
   "source": [
    "df[\"TotalCharges\"] = pd.to_numeric(df.TotalCharges) # in order to convert total charges in floting data\n",
    "print(df.TotalCharges)"
   ]
  },
  {
   "cell_type": "code",
   "execution_count": 7,
   "metadata": {},
   "outputs": [
    {
     "name": "stdout",
     "output_type": "stream",
     "text": "Percentage of clients who do NOT leave the company (on the total) = 0.265\nPercentage of clients who leave the company (on the total) = 0.735\n"
    }
   ],
   "source": [
    "number_tot = len(negative_churn) #total number of clients\n",
    "number_positive_churn = len(df) #number of clients who do NOT leave the company \n",
    "perc_positive_tot=number_positive_churn/number_tot\n",
    "print('Percentage of clients who do NOT leave the company (on the total) = %.3f' % perc_positive_tot)\n",
    "print('Percentage of clients who leave the company (on the total) = %.3f' % (1-perc_positive_tot))"
   ]
  },
  {
   "cell_type": "code",
   "execution_count": 8,
   "metadata": {},
   "outputs": [
    {
     "name": "stdout",
     "output_type": "stream",
     "text": "<class 'dict'>\n"
    }
   ],
   "source": [
    "female = df.gender=='Female' #find woman\n",
    "n_female = np.sum(female) #count the True values\n",
    "n_male = len(female)-n_female\n",
    "perc_female = n_female/number_tot\n",
    "perc_male = n_male/number_tot\n",
    "data = {'female':perc_female, 'male':perc_male}\n",
    "print(type(data))\n",
    "#sns.barplot(x='gender', y='percentage', data=data)\n"
   ]
  },
  {
   "cell_type": "code",
   "execution_count": null,
   "metadata": {},
   "outputs": [],
   "source": []
  }
 ]
}