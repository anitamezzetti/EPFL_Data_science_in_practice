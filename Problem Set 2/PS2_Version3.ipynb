{
 "cells": [
  {
   "cell_type": "markdown",
   "metadata": {},
   "source": [
    "# Problem Set 2"
   ]
  },
  {
   "cell_type": "markdown",
   "metadata": {},
   "source": [
    "### Authors: Anita Mezzetti, Franceso Maizza, Hien Lê, Nataliia Surianinova, Zafer Kocaoglu"
   ]
  },
  {
   "cell_type": "code",
   "execution_count": 1,
   "metadata": {},
   "outputs": [],
   "source": [
    "from collections import Counter\n",
    "\n",
    "import numpy as np\n",
    "import pandas as pd\n",
    "import matplotlib.pyplot as plt\n",
    "import seaborn as sns\n",
    "import warnings\n",
    "warnings.filterwarnings('ignore')\n",
    "\n",
    "\n",
    "from sklearn.metrics import accuracy_score, recall_score, precision_score, roc_auc_score, f1_score \n",
    "from sklearn.metrics import confusion_matrix\n",
    "from sklearn.metrics import roc_curve, auc\n",
    "\n",
    "from sklearn.model_selection import train_test_split\n",
    "from sklearn.preprocessing import StandardScaler\n",
    "\n",
    "from sklearn.linear_model import LogisticRegression\n",
    "from sklearn.tree import DecisionTreeClassifier\n",
    "from sklearn.ensemble import RandomForestClassifier\n",
    "from sklearn.neighbors import KNeighborsClassifier\n",
    "from sklearn.svm import SVC\n",
    "from sklearn.naive_bayes import GaussianNB\n",
    "\n",
    "from sklearn.model_selection import cross_validate"
   ]
  },
  {
   "cell_type": "markdown",
   "metadata": {},
   "source": [
    "#### Problem:\n",
    "After preparing data, you are now facing the first real \"data science\" problem in the telecom\n",
    "company. Understanding customer churn is essential to keep costs down, so your supervisor has\n",
    "asked to develop a model (or a set of models) to predict customer behavior. Your boss knows that\n",
    "previous employees posted solutions to this problem online... and he won’t be too happy to see you\n",
    "replicate the same results as previous employees... he fired them for a reason ;-). Prepare a report\n",
    "predicting costumer churn."
   ]
  },
  {
   "cell_type": "markdown",
   "metadata": {},
   "source": [
    "## 1) Data Arrangements"
   ]
  },
  {
   "cell_type": "markdown",
   "metadata": {},
   "source": [
    "First of all we fill the missing values and arrange data in a way that we can use in algorithms;"
   ]
  },
  {
   "cell_type": "code",
   "execution_count": 2,
   "metadata": {},
   "outputs": [
    {
     "name": "stdout",
     "output_type": "stream",
     "text": [
      "(7043, 21)\n",
      "customerID           object\n",
      "gender               object\n",
      "SeniorCitizen         int64\n",
      "Partner              object\n",
      "Dependents           object\n",
      "tenure                int64\n",
      "PhoneService         object\n",
      "MultipleLines        object\n",
      "InternetService      object\n",
      "OnlineSecurity       object\n",
      "OnlineBackup         object\n",
      "DeviceProtection     object\n",
      "TechSupport          object\n",
      "StreamingTV          object\n",
      "StreamingMovies      object\n",
      "Contract             object\n",
      "PaperlessBilling     object\n",
      "PaymentMethod        object\n",
      "MonthlyCharges      float64\n",
      "TotalCharges         object\n",
      "Churn                object\n",
      "dtype: object\n"
     ]
    },
    {
     "data": {
      "text/html": [
       "<div>\n",
       "<style scoped>\n",
       "    .dataframe tbody tr th:only-of-type {\n",
       "        vertical-align: middle;\n",
       "    }\n",
       "\n",
       "    .dataframe tbody tr th {\n",
       "        vertical-align: top;\n",
       "    }\n",
       "\n",
       "    .dataframe thead th {\n",
       "        text-align: right;\n",
       "    }\n",
       "</style>\n",
       "<table border=\"1\" class=\"dataframe\">\n",
       "  <thead>\n",
       "    <tr style=\"text-align: right;\">\n",
       "      <th></th>\n",
       "      <th>customerID</th>\n",
       "      <th>gender</th>\n",
       "      <th>SeniorCitizen</th>\n",
       "      <th>Partner</th>\n",
       "      <th>Dependents</th>\n",
       "      <th>tenure</th>\n",
       "      <th>PhoneService</th>\n",
       "      <th>MultipleLines</th>\n",
       "      <th>InternetService</th>\n",
       "      <th>OnlineSecurity</th>\n",
       "      <th>...</th>\n",
       "      <th>DeviceProtection</th>\n",
       "      <th>TechSupport</th>\n",
       "      <th>StreamingTV</th>\n",
       "      <th>StreamingMovies</th>\n",
       "      <th>Contract</th>\n",
       "      <th>PaperlessBilling</th>\n",
       "      <th>PaymentMethod</th>\n",
       "      <th>MonthlyCharges</th>\n",
       "      <th>TotalCharges</th>\n",
       "      <th>Churn</th>\n",
       "    </tr>\n",
       "  </thead>\n",
       "  <tbody>\n",
       "    <tr>\n",
       "      <td>0</td>\n",
       "      <td>7590-VHVEG</td>\n",
       "      <td>Female</td>\n",
       "      <td>0</td>\n",
       "      <td>Yes</td>\n",
       "      <td>No</td>\n",
       "      <td>1</td>\n",
       "      <td>No</td>\n",
       "      <td>No phone service</td>\n",
       "      <td>DSL</td>\n",
       "      <td>No</td>\n",
       "      <td>...</td>\n",
       "      <td>No</td>\n",
       "      <td>No</td>\n",
       "      <td>No</td>\n",
       "      <td>No</td>\n",
       "      <td>Month-to-month</td>\n",
       "      <td>Yes</td>\n",
       "      <td>Electronic check</td>\n",
       "      <td>29.85</td>\n",
       "      <td>29.85</td>\n",
       "      <td>No</td>\n",
       "    </tr>\n",
       "    <tr>\n",
       "      <td>1</td>\n",
       "      <td>5575-GNVDE</td>\n",
       "      <td>Male</td>\n",
       "      <td>0</td>\n",
       "      <td>No</td>\n",
       "      <td>No</td>\n",
       "      <td>34</td>\n",
       "      <td>Yes</td>\n",
       "      <td>No</td>\n",
       "      <td>DSL</td>\n",
       "      <td>Yes</td>\n",
       "      <td>...</td>\n",
       "      <td>Yes</td>\n",
       "      <td>No</td>\n",
       "      <td>No</td>\n",
       "      <td>No</td>\n",
       "      <td>One year</td>\n",
       "      <td>No</td>\n",
       "      <td>Mailed check</td>\n",
       "      <td>56.95</td>\n",
       "      <td>1889.5</td>\n",
       "      <td>No</td>\n",
       "    </tr>\n",
       "    <tr>\n",
       "      <td>2</td>\n",
       "      <td>3668-QPYBK</td>\n",
       "      <td>Male</td>\n",
       "      <td>0</td>\n",
       "      <td>No</td>\n",
       "      <td>No</td>\n",
       "      <td>2</td>\n",
       "      <td>Yes</td>\n",
       "      <td>No</td>\n",
       "      <td>DSL</td>\n",
       "      <td>Yes</td>\n",
       "      <td>...</td>\n",
       "      <td>No</td>\n",
       "      <td>No</td>\n",
       "      <td>No</td>\n",
       "      <td>No</td>\n",
       "      <td>Month-to-month</td>\n",
       "      <td>Yes</td>\n",
       "      <td>Mailed check</td>\n",
       "      <td>53.85</td>\n",
       "      <td>108.15</td>\n",
       "      <td>Yes</td>\n",
       "    </tr>\n",
       "    <tr>\n",
       "      <td>3</td>\n",
       "      <td>7795-CFOCW</td>\n",
       "      <td>Male</td>\n",
       "      <td>0</td>\n",
       "      <td>No</td>\n",
       "      <td>No</td>\n",
       "      <td>45</td>\n",
       "      <td>No</td>\n",
       "      <td>No phone service</td>\n",
       "      <td>DSL</td>\n",
       "      <td>Yes</td>\n",
       "      <td>...</td>\n",
       "      <td>Yes</td>\n",
       "      <td>Yes</td>\n",
       "      <td>No</td>\n",
       "      <td>No</td>\n",
       "      <td>One year</td>\n",
       "      <td>No</td>\n",
       "      <td>Bank transfer (automatic)</td>\n",
       "      <td>42.30</td>\n",
       "      <td>1840.75</td>\n",
       "      <td>No</td>\n",
       "    </tr>\n",
       "    <tr>\n",
       "      <td>4</td>\n",
       "      <td>9237-HQITU</td>\n",
       "      <td>Female</td>\n",
       "      <td>0</td>\n",
       "      <td>No</td>\n",
       "      <td>No</td>\n",
       "      <td>2</td>\n",
       "      <td>Yes</td>\n",
       "      <td>No</td>\n",
       "      <td>Fiber optic</td>\n",
       "      <td>No</td>\n",
       "      <td>...</td>\n",
       "      <td>No</td>\n",
       "      <td>No</td>\n",
       "      <td>No</td>\n",
       "      <td>No</td>\n",
       "      <td>Month-to-month</td>\n",
       "      <td>Yes</td>\n",
       "      <td>Electronic check</td>\n",
       "      <td>70.70</td>\n",
       "      <td>151.65</td>\n",
       "      <td>Yes</td>\n",
       "    </tr>\n",
       "  </tbody>\n",
       "</table>\n",
       "<p>5 rows × 21 columns</p>\n",
       "</div>"
      ],
      "text/plain": [
       "   customerID  gender  SeniorCitizen Partner Dependents  tenure PhoneService  \\\n",
       "0  7590-VHVEG  Female              0     Yes         No       1           No   \n",
       "1  5575-GNVDE    Male              0      No         No      34          Yes   \n",
       "2  3668-QPYBK    Male              0      No         No       2          Yes   \n",
       "3  7795-CFOCW    Male              0      No         No      45           No   \n",
       "4  9237-HQITU  Female              0      No         No       2          Yes   \n",
       "\n",
       "      MultipleLines InternetService OnlineSecurity  ... DeviceProtection  \\\n",
       "0  No phone service             DSL             No  ...               No   \n",
       "1                No             DSL            Yes  ...              Yes   \n",
       "2                No             DSL            Yes  ...               No   \n",
       "3  No phone service             DSL            Yes  ...              Yes   \n",
       "4                No     Fiber optic             No  ...               No   \n",
       "\n",
       "  TechSupport StreamingTV StreamingMovies        Contract PaperlessBilling  \\\n",
       "0          No          No              No  Month-to-month              Yes   \n",
       "1          No          No              No        One year               No   \n",
       "2          No          No              No  Month-to-month              Yes   \n",
       "3         Yes          No              No        One year               No   \n",
       "4          No          No              No  Month-to-month              Yes   \n",
       "\n",
       "               PaymentMethod MonthlyCharges  TotalCharges Churn  \n",
       "0           Electronic check          29.85         29.85    No  \n",
       "1               Mailed check          56.95        1889.5    No  \n",
       "2               Mailed check          53.85        108.15   Yes  \n",
       "3  Bank transfer (automatic)          42.30       1840.75    No  \n",
       "4           Electronic check          70.70        151.65   Yes  \n",
       "\n",
       "[5 rows x 21 columns]"
      ]
     },
     "execution_count": 2,
     "metadata": {},
     "output_type": "execute_result"
    }
   ],
   "source": [
    "CustomerData = pd.read_csv (r'customers.csv') \n",
    "print(CustomerData.shape)\n",
    "print(CustomerData.dtypes)\n",
    "CustomerData.head()\n"
   ]
  },
  {
   "cell_type": "code",
   "execution_count": 3,
   "metadata": {},
   "outputs": [],
   "source": [
    "CustomerData['TotalCharges']=CustomerData['TotalCharges'].replace(\" \",CustomerData.tenure*CustomerData.MonthlyCharges).astype('float64')\n",
    "CustomerData['SeniorCitizen']=CustomerData['SeniorCitizen'].astype('object')"
   ]
  },
  {
   "cell_type": "code",
   "execution_count": 4,
   "metadata": {},
   "outputs": [
    {
     "data": {
      "text/plain": [
       "customerID           object\n",
       "gender               object\n",
       "SeniorCitizen        object\n",
       "Partner              object\n",
       "Dependents           object\n",
       "tenure                int64\n",
       "PhoneService         object\n",
       "MultipleLines        object\n",
       "InternetService      object\n",
       "OnlineSecurity       object\n",
       "OnlineBackup         object\n",
       "DeviceProtection     object\n",
       "TechSupport          object\n",
       "StreamingTV          object\n",
       "StreamingMovies      object\n",
       "Contract             object\n",
       "PaperlessBilling     object\n",
       "PaymentMethod        object\n",
       "MonthlyCharges      float64\n",
       "TotalCharges        float64\n",
       "Churn                object\n",
       "dtype: object"
      ]
     },
     "execution_count": 4,
     "metadata": {},
     "output_type": "execute_result"
    }
   ],
   "source": [
    "CustomerData.dtypes"
   ]
  },
  {
   "cell_type": "code",
   "execution_count": 5,
   "metadata": {},
   "outputs": [],
   "source": [
    "CustomerData1 = CustomerData.drop(columns=['customerID'])"
   ]
  },
  {
   "cell_type": "markdown",
   "metadata": {},
   "source": [
    "Here, we turn object variables into binary integer variables to use them in regression algorithms;"
   ]
  },
  {
   "cell_type": "code",
   "execution_count": 6,
   "metadata": {},
   "outputs": [],
   "source": [
    "CustomerData1['gender'] = CustomerData1['gender'].map({'Female': 0, 'Male': 1}).astype('int64')\n",
    "CustomerData1['Partner'] = CustomerData1['Partner'].map({'No': 0, 'Yes': 1}).astype('int64')\n",
    "CustomerData1['Dependents'] = CustomerData1['Dependents'].map({'No': 0, 'Yes': 1}).astype('int64')\n",
    "CustomerData1['PhoneService'] = CustomerData1['PhoneService'].map({'No': 0, 'Yes': 1}).astype('int64')\n",
    "CustomerData1['MultipleLines'] = CustomerData1['MultipleLines'].map({'No': 0,'No phone service':0 ,'Yes': 1}).astype('int64')\n",
    "CustomerData1['OnlineSecurity'] = CustomerData1['OnlineSecurity'].map({'No': 0,'No internet service':0 , 'Yes': 1}).astype('int64')\n",
    "CustomerData1['OnlineBackup'] = CustomerData1['OnlineBackup'].map({'No': 0,'No internet service':0 , 'Yes': 1}).astype('int64')\n",
    "CustomerData1['DeviceProtection'] = CustomerData1['DeviceProtection'].map({'No': 0,'No internet service':0 , 'Yes': 1}).astype('int64')\n",
    "CustomerData1['TechSupport'] = CustomerData1['TechSupport'].map({'No': 0,'No internet service':0 , 'Yes': 1}).astype('int64')\n",
    "CustomerData1['StreamingTV'] = CustomerData1['StreamingTV'].map({'No': 0,'No internet service':0 , 'Yes': 1}).astype('int64')\n",
    "CustomerData1['StreamingMovies'] = CustomerData1['StreamingMovies'].map({'No': 0,'No internet service':0 , 'Yes': 1}).astype('int64')\n",
    "CustomerData1['PaperlessBilling'] = CustomerData1['PaperlessBilling'].map({'No': 0, 'Yes': 1}).astype('int64')\n",
    "CustomerData1['Churn'] = CustomerData1['Churn'].map({'No': 0, 'Yes': 1}).astype('int64')\n",
    "CustomerData1['SeniorCitizen']=CustomerData1['SeniorCitizen'].astype('int64')"
   ]
  },
  {
   "cell_type": "markdown",
   "metadata": {},
   "source": [
    "We create dummy variables for the objects that have more than 2 options;"
   ]
  },
  {
   "cell_type": "code",
   "execution_count": 7,
   "metadata": {},
   "outputs": [],
   "source": [
    "CustomerData2=pd.get_dummies(CustomerData1, columns=['InternetService','Contract','PaymentMethod'])"
   ]
  },
  {
   "cell_type": "code",
   "execution_count": 8,
   "metadata": {},
   "outputs": [
    {
     "data": {
      "text/plain": [
       "gender                                       int64\n",
       "SeniorCitizen                                int64\n",
       "Partner                                      int64\n",
       "Dependents                                   int64\n",
       "tenure                                       int64\n",
       "PhoneService                                 int64\n",
       "MultipleLines                                int64\n",
       "OnlineSecurity                               int64\n",
       "OnlineBackup                                 int64\n",
       "DeviceProtection                             int64\n",
       "TechSupport                                  int64\n",
       "StreamingTV                                  int64\n",
       "StreamingMovies                              int64\n",
       "PaperlessBilling                             int64\n",
       "MonthlyCharges                             float64\n",
       "TotalCharges                               float64\n",
       "Churn                                        int64\n",
       "InternetService_DSL                          uint8\n",
       "InternetService_Fiber optic                  uint8\n",
       "InternetService_No                           uint8\n",
       "Contract_Month-to-month                      uint8\n",
       "Contract_One year                            uint8\n",
       "Contract_Two year                            uint8\n",
       "PaymentMethod_Bank transfer (automatic)      uint8\n",
       "PaymentMethod_Credit card (automatic)        uint8\n",
       "PaymentMethod_Electronic check               uint8\n",
       "PaymentMethod_Mailed check                   uint8\n",
       "dtype: object"
      ]
     },
     "execution_count": 8,
     "metadata": {},
     "output_type": "execute_result"
    }
   ],
   "source": [
    "CustomerData2.dtypes"
   ]
  },
  {
   "cell_type": "markdown",
   "metadata": {},
   "source": [
    "Lastly, for dummy variables we need n-1 columns for regression models. Hence, we delete extra columns;"
   ]
  },
  {
   "cell_type": "code",
   "execution_count": 9,
   "metadata": {},
   "outputs": [],
   "source": [
    "CustomerData3= CustomerData2.drop(columns=['InternetService_No','Contract_Two year','PaymentMethod_Mailed check'])"
   ]
  },
  {
   "cell_type": "code",
   "execution_count": 10,
   "metadata": {},
   "outputs": [
    {
     "data": {
      "text/html": [
       "<div>\n",
       "<style scoped>\n",
       "    .dataframe tbody tr th:only-of-type {\n",
       "        vertical-align: middle;\n",
       "    }\n",
       "\n",
       "    .dataframe tbody tr th {\n",
       "        vertical-align: top;\n",
       "    }\n",
       "\n",
       "    .dataframe thead th {\n",
       "        text-align: right;\n",
       "    }\n",
       "</style>\n",
       "<table border=\"1\" class=\"dataframe\">\n",
       "  <thead>\n",
       "    <tr style=\"text-align: right;\">\n",
       "      <th></th>\n",
       "      <th>gender</th>\n",
       "      <th>SeniorCitizen</th>\n",
       "      <th>Partner</th>\n",
       "      <th>Dependents</th>\n",
       "      <th>tenure</th>\n",
       "      <th>PhoneService</th>\n",
       "      <th>MultipleLines</th>\n",
       "      <th>OnlineSecurity</th>\n",
       "      <th>OnlineBackup</th>\n",
       "      <th>DeviceProtection</th>\n",
       "      <th>...</th>\n",
       "      <th>MonthlyCharges</th>\n",
       "      <th>TotalCharges</th>\n",
       "      <th>Churn</th>\n",
       "      <th>InternetService_DSL</th>\n",
       "      <th>InternetService_Fiber optic</th>\n",
       "      <th>Contract_Month-to-month</th>\n",
       "      <th>Contract_One year</th>\n",
       "      <th>PaymentMethod_Bank transfer (automatic)</th>\n",
       "      <th>PaymentMethod_Credit card (automatic)</th>\n",
       "      <th>PaymentMethod_Electronic check</th>\n",
       "    </tr>\n",
       "  </thead>\n",
       "  <tbody>\n",
       "    <tr>\n",
       "      <td>0</td>\n",
       "      <td>0</td>\n",
       "      <td>0</td>\n",
       "      <td>1</td>\n",
       "      <td>0</td>\n",
       "      <td>1</td>\n",
       "      <td>0</td>\n",
       "      <td>0</td>\n",
       "      <td>0</td>\n",
       "      <td>1</td>\n",
       "      <td>0</td>\n",
       "      <td>...</td>\n",
       "      <td>29.85</td>\n",
       "      <td>29.85</td>\n",
       "      <td>0</td>\n",
       "      <td>1</td>\n",
       "      <td>0</td>\n",
       "      <td>1</td>\n",
       "      <td>0</td>\n",
       "      <td>0</td>\n",
       "      <td>0</td>\n",
       "      <td>1</td>\n",
       "    </tr>\n",
       "    <tr>\n",
       "      <td>1</td>\n",
       "      <td>1</td>\n",
       "      <td>0</td>\n",
       "      <td>0</td>\n",
       "      <td>0</td>\n",
       "      <td>34</td>\n",
       "      <td>1</td>\n",
       "      <td>0</td>\n",
       "      <td>1</td>\n",
       "      <td>0</td>\n",
       "      <td>1</td>\n",
       "      <td>...</td>\n",
       "      <td>56.95</td>\n",
       "      <td>1889.50</td>\n",
       "      <td>0</td>\n",
       "      <td>1</td>\n",
       "      <td>0</td>\n",
       "      <td>0</td>\n",
       "      <td>1</td>\n",
       "      <td>0</td>\n",
       "      <td>0</td>\n",
       "      <td>0</td>\n",
       "    </tr>\n",
       "    <tr>\n",
       "      <td>2</td>\n",
       "      <td>1</td>\n",
       "      <td>0</td>\n",
       "      <td>0</td>\n",
       "      <td>0</td>\n",
       "      <td>2</td>\n",
       "      <td>1</td>\n",
       "      <td>0</td>\n",
       "      <td>1</td>\n",
       "      <td>1</td>\n",
       "      <td>0</td>\n",
       "      <td>...</td>\n",
       "      <td>53.85</td>\n",
       "      <td>108.15</td>\n",
       "      <td>1</td>\n",
       "      <td>1</td>\n",
       "      <td>0</td>\n",
       "      <td>1</td>\n",
       "      <td>0</td>\n",
       "      <td>0</td>\n",
       "      <td>0</td>\n",
       "      <td>0</td>\n",
       "    </tr>\n",
       "    <tr>\n",
       "      <td>3</td>\n",
       "      <td>1</td>\n",
       "      <td>0</td>\n",
       "      <td>0</td>\n",
       "      <td>0</td>\n",
       "      <td>45</td>\n",
       "      <td>0</td>\n",
       "      <td>0</td>\n",
       "      <td>1</td>\n",
       "      <td>0</td>\n",
       "      <td>1</td>\n",
       "      <td>...</td>\n",
       "      <td>42.30</td>\n",
       "      <td>1840.75</td>\n",
       "      <td>0</td>\n",
       "      <td>1</td>\n",
       "      <td>0</td>\n",
       "      <td>0</td>\n",
       "      <td>1</td>\n",
       "      <td>1</td>\n",
       "      <td>0</td>\n",
       "      <td>0</td>\n",
       "    </tr>\n",
       "    <tr>\n",
       "      <td>4</td>\n",
       "      <td>0</td>\n",
       "      <td>0</td>\n",
       "      <td>0</td>\n",
       "      <td>0</td>\n",
       "      <td>2</td>\n",
       "      <td>1</td>\n",
       "      <td>0</td>\n",
       "      <td>0</td>\n",
       "      <td>0</td>\n",
       "      <td>0</td>\n",
       "      <td>...</td>\n",
       "      <td>70.70</td>\n",
       "      <td>151.65</td>\n",
       "      <td>1</td>\n",
       "      <td>0</td>\n",
       "      <td>1</td>\n",
       "      <td>1</td>\n",
       "      <td>0</td>\n",
       "      <td>0</td>\n",
       "      <td>0</td>\n",
       "      <td>1</td>\n",
       "    </tr>\n",
       "  </tbody>\n",
       "</table>\n",
       "<p>5 rows × 24 columns</p>\n",
       "</div>"
      ],
      "text/plain": [
       "   gender  SeniorCitizen  Partner  Dependents  tenure  PhoneService  \\\n",
       "0       0              0        1           0       1             0   \n",
       "1       1              0        0           0      34             1   \n",
       "2       1              0        0           0       2             1   \n",
       "3       1              0        0           0      45             0   \n",
       "4       0              0        0           0       2             1   \n",
       "\n",
       "   MultipleLines  OnlineSecurity  OnlineBackup  DeviceProtection  ...  \\\n",
       "0              0               0             1                 0  ...   \n",
       "1              0               1             0                 1  ...   \n",
       "2              0               1             1                 0  ...   \n",
       "3              0               1             0                 1  ...   \n",
       "4              0               0             0                 0  ...   \n",
       "\n",
       "   MonthlyCharges  TotalCharges  Churn  InternetService_DSL  \\\n",
       "0           29.85         29.85      0                    1   \n",
       "1           56.95       1889.50      0                    1   \n",
       "2           53.85        108.15      1                    1   \n",
       "3           42.30       1840.75      0                    1   \n",
       "4           70.70        151.65      1                    0   \n",
       "\n",
       "   InternetService_Fiber optic  Contract_Month-to-month  Contract_One year  \\\n",
       "0                            0                        1                  0   \n",
       "1                            0                        0                  1   \n",
       "2                            0                        1                  0   \n",
       "3                            0                        0                  1   \n",
       "4                            1                        1                  0   \n",
       "\n",
       "   PaymentMethod_Bank transfer (automatic)  \\\n",
       "0                                        0   \n",
       "1                                        0   \n",
       "2                                        0   \n",
       "3                                        1   \n",
       "4                                        0   \n",
       "\n",
       "   PaymentMethod_Credit card (automatic)  PaymentMethod_Electronic check  \n",
       "0                                      0                               1  \n",
       "1                                      0                               0  \n",
       "2                                      0                               0  \n",
       "3                                      0                               0  \n",
       "4                                      0                               1  \n",
       "\n",
       "[5 rows x 24 columns]"
      ]
     },
     "execution_count": 10,
     "metadata": {},
     "output_type": "execute_result"
    }
   ],
   "source": [
    "CustomerData3.head()"
   ]
  },
  {
   "cell_type": "markdown",
   "metadata": {},
   "source": [
    "## 2) Model Fitting and Hyperparameter Tuning"
   ]
  },
  {
   "cell_type": "markdown",
   "metadata": {},
   "source": [
    "First of all, we try 6 different binary classification algorithms after splitting data as 70% training and 30% test. While applying models, we also tune hyperparameters. Moreover, during hyperparameter tuning, we crossvalidate training data so that we don't overfit."
   ]
  },
  {
   "cell_type": "code",
   "execution_count": 11,
   "metadata": {},
   "outputs": [],
   "source": [
    "X = CustomerData3.drop(columns=['Churn'])\n",
    "Y = CustomerData3['Churn']"
   ]
  },
  {
   "cell_type": "code",
   "execution_count": 12,
   "metadata": {},
   "outputs": [
    {
     "name": "stdout",
     "output_type": "stream",
     "text": [
      "(4930, 23)\n",
      "(2113, 23)\n",
      "(4930,)\n",
      "(2113,)\n"
     ]
    }
   ],
   "source": [
    "X_train, X_test, y_train, y_test = train_test_split(X, Y, stratify=Y, test_size=0.3, random_state=20)\n",
    "StSc = StandardScaler()\n",
    "X_train_Sc = StSc.fit_transform(X_train)\n",
    "X_test_Sc = StSc.transform(X_test)\n",
    "X_train_Scaled=pd.DataFrame(data=X_train_Sc,  columns=X_train.columns)\n",
    "X_test_Scaled=pd.DataFrame(data=X_test_Sc,  columns=X_test.columns)\n",
    "print(X_train_Scaled.shape)\n",
    "print(X_test_Scaled.shape)\n",
    "print(y_train.shape)\n",
    "print(y_test.shape)"
   ]
  },
  {
   "cell_type": "markdown",
   "metadata": {},
   "source": [
    "### 2.1) Logistic Regression"
   ]
  },
  {
   "cell_type": "markdown",
   "metadata": {},
   "source": [
    "First of all, we try to tune our hyperparameter C by using different C values and crossvalidating it with seperating training set to 5 pieces and each turn using one as test and other 4 as training sets. Thus, we reduce the risk of overfitting and find the most suitable hyperparameter for Logistic Regression."
   ]
  },
  {
   "cell_type": "code",
   "execution_count": 13,
   "metadata": {},
   "outputs": [
    {
     "name": "stdout",
     "output_type": "stream",
     "text": [
      "Optimal value for hyperparameter C = 100\n",
      "Mean Accuracy score of Logistic Regression with Optimal C = 0.8052775839937368\n"
     ]
    }
   ],
   "source": [
    "LogRegOptimalAcc=0\n",
    "C_List=[0.001,0.01,0.1,1,10,100,1000]\n",
    "\n",
    "#measures = ['accuracy', 'precision', 'recall', 'roc_auc']\n",
    "for i in range(len(C_List)):\n",
    "    LogReg = LogisticRegression(penalty = 'l1', C = C_List[i],solver='liblinear')\n",
    "    measurement = cross_validate(LogReg, X_train_Scaled, y_train, scoring='accuracy', cv=5)\n",
    "    if (measurement['test_score'].mean() > LogRegOptimalAcc):\n",
    "        LogRegOptimalAcc = measurement['test_score'].mean()\n",
    "        OptimalC=C_List[i]\n",
    "\n",
    "\n",
    "print('Optimal value for hyperparameter C =',OptimalC)\n",
    "print('Mean Accuracy score of Logistic Regression with Optimal C =',LogRegOptimalAcc)"
   ]
  },
  {
   "cell_type": "code",
   "execution_count": 14,
   "metadata": {},
   "outputs": [
    {
     "name": "stdout",
     "output_type": "stream",
     "text": [
      "Logistic Regression (C= 100) Accuracy on Training set = 0.808519\n",
      "Logistic Regression (C= 100) Accuracy on Test set = 0.808329\n"
     ]
    }
   ],
   "source": [
    "LogReg = LogisticRegression(penalty = 'l1', C = OptimalC,solver='liblinear')\n",
    "LogReg.fit(X_train_Scaled,y_train)\n",
    "    \n",
    "y_pred_LogReg = LogReg.predict(X_test_Scaled)\n",
    "LogRegTestScore= accuracy_score(y_pred_LogReg,y_test)\n",
    "LogRegTrainScore= LogReg.score(X_train_Scaled,y_train)\n",
    "print('Logistic Regression (C= %d) Accuracy on Training set = %f'%(OptimalC,LogRegTrainScore))\n",
    "print('Logistic Regression (C= %d) Accuracy on Test set = %f'%(OptimalC ,LogRegTestScore))"
   ]
  },
  {
   "cell_type": "markdown",
   "metadata": {},
   "source": [
    "### 2.2) Decision Tree Classifier"
   ]
  },
  {
   "cell_type": "code",
   "execution_count": 15,
   "metadata": {},
   "outputs": [
    {
     "name": "stdout",
     "output_type": "stream",
     "text": [
      "Optimal value for hyperparameter max_depth= 7\n",
      "Optimal value for hyperparameter min_samples_split= 0.05\n",
      "Optimal value for hyperparameter min_samples_leaf= 0.025\n",
      "Mean Accuracy score of Decision Tree Classifier with Optimal Hyperparameters = 0.7947362854180782\n"
     ]
    }
   ],
   "source": [
    "DTOptimalAcc=0\n",
    "DTSplitList=[0.001,0.01,0.05,0.1,0.5,0.99]\n",
    "DTLeafList=[0.0005,0.005,0.025,0.05,0.1,0.25,0.5]\n",
    "\n",
    "for i in range(100,0,-3):\n",
    "    for j in DTSplitList:\n",
    "        for k in DTLeafList:\n",
    "            DecTree = DecisionTreeClassifier(max_depth=i, min_samples_split=j, min_samples_leaf=k)\n",
    "            measurement = cross_validate(DecTree, X_train_Scaled, y_train, scoring='accuracy', cv=5)\n",
    "            if (measurement['test_score'].mean() >= DTOptimalAcc):\n",
    "                DTOptimalAcc = measurement['test_score'].mean()\n",
    "                DTOptDepth=i\n",
    "                DTOptMinSplit=j\n",
    "                DTOptMinLeaf=k\n",
    "\n",
    "print('Optimal value for hyperparameter max_depth=',DTOptDepth)\n",
    "print('Optimal value for hyperparameter min_samples_split=',DTOptMinSplit)\n",
    "print('Optimal value for hyperparameter min_samples_leaf=',DTOptMinLeaf)\n",
    "print('Mean Accuracy score of Decision Tree Classifier with Optimal Hyperparameters =',DTOptimalAcc)"
   ]
  },
  {
   "cell_type": "code",
   "execution_count": 16,
   "metadata": {},
   "outputs": [
    {
     "name": "stdout",
     "output_type": "stream",
     "text": [
      "Decision Tree Accuracy on Training set = 0.804462\n",
      "Decision Tree Accuracy on Test set = 0.797444\n"
     ]
    }
   ],
   "source": [
    "DecTree = DecisionTreeClassifier(max_depth=DTOptDepth, min_samples_split=DTOptMinSplit, min_samples_leaf=DTOptMinLeaf)\n",
    "DecTree.fit(X_train_Scaled,y_train)\n",
    "    \n",
    "y_pred_DecTree = DecTree.predict(X_test_Scaled)\n",
    "DecTreeTestScore= accuracy_score(y_pred_DecTree,y_test)\n",
    "DecTreeTrainScore= DecTree.score(X_train_Scaled,y_train)\n",
    "print('Decision Tree Accuracy on Training set = %f'%DecTreeTrainScore)\n",
    "print('Decision Tree Accuracy on Test set = %f'%DecTreeTestScore)"
   ]
  },
  {
   "cell_type": "markdown",
   "metadata": {},
   "source": [
    "### 2.3) Random Forest Classifier"
   ]
  },
  {
   "cell_type": "code",
   "execution_count": 17,
   "metadata": {},
   "outputs": [
    {
     "name": "stdout",
     "output_type": "stream",
     "text": [
      "Optimal value for hyperparameter max_depth= 10\n",
      "Optimal value for hyperparameter min_samples_leaf= 0.005\n",
      "Optimal value for hyperparameter n_estimators= 100\n",
      "Mean Accuracy score of Random Forest Classifier with Optimal Hyperparameters = 0.8060895599716027\n"
     ]
    }
   ],
   "source": [
    "RFOptimalAcc=0\n",
    "RFLeafList=[0.005,0.025,0.05,0.1,0.25]\n",
    "RFEstimatorList=[10,20,30,40,50,100]\n",
    "\n",
    "for i in range(50,0,-5):\n",
    "    for k in RFLeafList:\n",
    "        for l in RFEstimatorList:\n",
    "            RanFor = RandomForestClassifier(n_estimators=l,max_depth=i, min_samples_leaf=k,random_state=50)\n",
    "            measurement = cross_validate(RanFor, X_train_Scaled, y_train, scoring='accuracy', cv=5)\n",
    "            if (measurement['test_score'].mean() >= RFOptimalAcc):\n",
    "                RFOptimalAcc = measurement['test_score'].mean()\n",
    "                RFOptDepth=i\n",
    "                RFOptMinLeaf=k\n",
    "                RFOptEstimator=l\n",
    "\n",
    "print('Optimal value for hyperparameter max_depth=',RFOptDepth)\n",
    "print('Optimal value for hyperparameter min_samples_leaf=',RFOptMinLeaf)\n",
    "print('Optimal value for hyperparameter n_estimators=',RFOptEstimator)\n",
    "print('Mean Accuracy score of Random Forest Classifier with Optimal Hyperparameters =',RFOptimalAcc)"
   ]
  },
  {
   "cell_type": "code",
   "execution_count": 18,
   "metadata": {},
   "outputs": [
    {
     "name": "stdout",
     "output_type": "stream",
     "text": [
      "Random Forest Classifier Accuracy on Training set = 0.818458\n",
      "Random Forest Classifier Accuracy on Test set = 0.799811\n"
     ]
    }
   ],
   "source": [
    "RanFor = RandomForestClassifier(n_estimators=RFOptEstimator,max_depth=RFOptDepth, min_samples_leaf=RFOptMinLeaf,random_state=50)\n",
    "RanFor.fit(X_train_Scaled,y_train)\n",
    "    \n",
    "y_pred_RanFor = RanFor.predict(X_test_Scaled)\n",
    "RanForTestScore= accuracy_score(y_pred_RanFor,y_test)\n",
    "RanForTrainScore= RanFor.score(X_train_Scaled,y_train)\n",
    "print('Random Forest Classifier Accuracy on Training set = %f'%RanForTrainScore)\n",
    "print('Random Forest Classifier Accuracy on Test set = %f'%RanForTestScore)"
   ]
  },
  {
   "cell_type": "markdown",
   "metadata": {},
   "source": [
    "### 2.4) KNN Classifier"
   ]
  },
  {
   "cell_type": "code",
   "execution_count": 19,
   "metadata": {},
   "outputs": [
    {
     "name": "stdout",
     "output_type": "stream",
     "text": [
      "Optimal value for number of neighbors = 20\n",
      "Mean Accuracy score of KNN Classifier = 0.7924953786274836\n"
     ]
    }
   ],
   "source": [
    "KNNOptimalAcc=0\n",
    "Neighbor_List=[3,5,10,20,50,100]\n",
    "\n",
    "for i in range(len(Neighbor_List)):\n",
    "    KNN = KNeighborsClassifier(n_neighbors=Neighbor_List[i])\n",
    "    measurement = cross_validate(KNN, X_train_Scaled, y_train, scoring='accuracy', cv=5)\n",
    "    if (measurement['test_score'].mean() > KNNOptimalAcc):\n",
    "        KNNOptimalAcc = measurement['test_score'].mean()\n",
    "        OptimalNN=Neighbor_List[i]\n",
    "\n",
    "\n",
    "print('Optimal value for number of neighbors =',OptimalNN)\n",
    "print('Mean Accuracy score of KNN Classifier =',KNNOptimalAcc)"
   ]
  },
  {
   "cell_type": "code",
   "execution_count": 20,
   "metadata": {},
   "outputs": [
    {
     "name": "stdout",
     "output_type": "stream",
     "text": [
      "KNN Classifier Accuracy on Training set =  0.8068965517241379\n",
      "KNN Classifier Accuracy on Test set =  0.7917652626597255\n"
     ]
    }
   ],
   "source": [
    "KNN = KNeighborsClassifier(n_neighbors=OptimalNN)\n",
    "KNN.fit(X_train_Scaled,y_train)\n",
    "    \n",
    "y_pred_KNN = KNN.predict(X_test_Scaled)\n",
    "KNNTestScore= accuracy_score(y_pred_KNN,y_test)\n",
    "KNNTrainScore= KNN.score(X_train_Scaled,y_train)\n",
    "print('KNN Classifier Accuracy on Training set = ',KNNTrainScore)\n",
    "print('KNN Classifier Accuracy on Test set = ',KNNTestScore)"
   ]
  },
  {
   "cell_type": "markdown",
   "metadata": {},
   "source": [
    "### 2.5) Gaussian Naive Bayes Classifier"
   ]
  },
  {
   "cell_type": "code",
   "execution_count": 21,
   "metadata": {},
   "outputs": [
    {
     "name": "stdout",
     "output_type": "stream",
     "text": [
      "Gaussian Naive Bayes Classifier Accuracy on Training set =  0.755578093306288\n",
      "Gaussian Naive Bayes Classifier Accuracy on Test set =  0.750591575958353\n"
     ]
    }
   ],
   "source": [
    "GNB = GaussianNB()\n",
    "GNB.fit(X_train_Scaled,y_train)\n",
    "    \n",
    "y_pred_GNB = GNB.predict(X_test_Scaled)\n",
    "GNBTestScore= accuracy_score(y_pred_GNB,y_test)\n",
    "GNBTrainScore= GNB.score(X_train_Scaled,y_train)\n",
    "print('Gaussian Naive Bayes Classifier Accuracy on Training set = ',GNBTrainScore)\n",
    "print('Gaussian Naive Bayes Classifier Accuracy on Test set = ',GNBTestScore)"
   ]
  },
  {
   "cell_type": "markdown",
   "metadata": {},
   "source": [
    "### 2.6) Support Vector Machine Classification"
   ]
  },
  {
   "cell_type": "code",
   "execution_count": 22,
   "metadata": {},
   "outputs": [
    {
     "name": "stdout",
     "output_type": "stream",
     "text": [
      "Optimal value for C regularization = 1\n",
      "Optimal value for Gamma = 0.001\n",
      "Mean Accuracy score of SVC = 0.8016250239532932\n"
     ]
    }
   ],
   "source": [
    "SVCOptimalAcc=0\n",
    "SVC_C_List=[0.001,0.01,0.1,1,10,100,1000]\n",
    "Gamma_List=[0.001, 0.01, 0.1, 1]\n",
    "\n",
    "for i in SVC_C_List:\n",
    "    for k in Gamma_List:\n",
    "        SupVC = SVC(C=i,kernel='rbf',gamma=k,random_state=50,probability=True)\n",
    "        measurement = cross_validate(SupVC, X_train_Scaled, y_train, scoring='accuracy', cv=5)\n",
    "        if (measurement['test_score'].mean() > SVCOptimalAcc):\n",
    "            SVCOptimalAcc = measurement['test_score'].mean()\n",
    "            SVCOptC=i\n",
    "            SVCOptGamma=k\n",
    "\n",
    "print('Optimal value for C regularization =',SVCOptC)\n",
    "print('Optimal value for Gamma =',SVCOptGamma)\n",
    "print('Mean Accuracy score of SVC =',SVCOptimalAcc)"
   ]
  },
  {
   "cell_type": "code",
   "execution_count": 23,
   "metadata": {},
   "outputs": [
    {
     "name": "stdout",
     "output_type": "stream",
     "text": [
      "SVC Accuracy on Training set =  0.804868154158215\n",
      "SVC Accuracy on Test set =  0.7974443918599148\n"
     ]
    }
   ],
   "source": [
    "SupVC = SVC(C=SVCOptC,kernel='rbf',gamma=SVCOptGamma,random_state=50,probability=True)\n",
    "SupVC.fit(X_train_Scaled,y_train)\n",
    "    \n",
    "y_pred_SVC = SupVC.predict(X_test_Scaled)\n",
    "SVCTestScore= accuracy_score(y_pred_SVC,y_test)\n",
    "SVCTrainScore= SupVC.score(X_train_Scaled,y_train)\n",
    "print('SVC Accuracy on Training set = ',SVCTrainScore)\n",
    "print('SVC Accuracy on Test set = ',SVCTestScore)"
   ]
  },
  {
   "cell_type": "markdown",
   "metadata": {},
   "source": [
    "## 3) Comparison of Tuned Models"
   ]
  },
  {
   "cell_type": "markdown",
   "metadata": {},
   "source": [
    "### 3.1) Confusion Matrices and Some Metrics"
   ]
  },
  {
   "cell_type": "code",
   "execution_count": 35,
   "metadata": {},
   "outputs": [
    {
     "data": {
      "image/png": "[encoded data removed]",
      "text/plain": [
       "<Figure size 864x1080 with 12 Axes>"
      ]
     },
     "metadata": {
      "needs_background": "light"
     },
     "output_type": "display_data"
    }
   ],
   "source": [
    "ModelList= [LogReg,DecTree,RanFor,KNN,GNB,SupVC]\n",
    "\n",
    "Models=['Logistic Regression','Decision Tree Classifier','Random Forest Classifier','KNN Classifier','Gaussian Naive Bayes','SVM Classifier']\n",
    "\n",
    "fig = plt.figure(figsize=(12,15))\n",
    "for i in range(6):\n",
    "    ax = plt.subplot(3,2,i+1)\n",
    "    Model_Predictions = ModelList[i].predict(X_test_Scaled)\n",
    "    Model_Confusion_Matrix = confusion_matrix(Model_Predictions,y_test)\n",
    "    sns.heatmap(Model_Confusion_Matrix,annot=True,fmt = \"d\",square = True,ax = ax, linewidths = 1,linecolor = \"w\",cmap = \"Pastel2\")\n",
    "    ax.set_xlabel('True labels')\n",
    "    ax.set_ylabel('Predicted labels')\n",
    "    ax.xaxis.set_ticklabels([\"not churn\",\"churn\"])\n",
    "    ax.yaxis.set_ticklabels([\"not churn\",\"churn\"], va=\"center\")\n",
    "    b, t = plt.ylim() \n",
    "    b += 0.5\n",
    "    t -= 0.5\n",
    "    plt.ylim(b, t)\n",
    "    plt.title(Models[i])"
   ]
  },
  {
   "cell_type": "code",
   "execution_count": 26,
   "metadata": {},
   "outputs": [
    {
     "data": {
      "image/png": "[encoded data removed]",
      "text/plain": [
       "<Figure size 864x720 with 4 Axes>"
      ]
     },
     "metadata": {
      "needs_background": "light"
     },
     "output_type": "display_data"
    }
   ],
   "source": [
    "Models2=['Logistic\\nRegression','Decision Tree\\nClassifier','Random Forest\\nClassifier','KNN\\nClassifier','Gaussian\\nNaive Bayes','SVM\\nClassifier']\n",
    "\n",
    "AccuracyScore=[]\n",
    "PrecisionScore=[]\n",
    "RecallScore=[]\n",
    "F1Score=[]\n",
    "for k in range(6):\n",
    "    Model_Predictions = ModelList[k].predict(X_test_Scaled)\n",
    "    AccuracyScore.append(accuracy_score(Model_Predictions,y_test))\n",
    "    PrecisionScore.append(precision_score(Model_Predictions,y_test))\n",
    "    RecallScore.append(recall_score(Model_Predictions,y_test))\n",
    "    F1Score.append(f1_score(Model_Predictions,y_test))\n",
    "\n",
    "Scores=[AccuracyScore,PrecisionScore,RecallScore,F1Score]\n",
    "Labels=['Accuracy Score','Precision Score','Recall Score', 'F1 Score']\n",
    "fig = plt.figure(figsize=(12,10))\n",
    "for i in range(4):\n",
    "    custom_ylim = (0,1)\n",
    "    ax = plt.subplot(2,2,i+1)\n",
    "    ax.bar(Models2,Scores[i],color=['#B8860B','#da8025','y','g','#0bb87e','#0bb8a4'])\n",
    "    plt.setp(ax, ylim=custom_ylim, ylabel=Labels[i])\n",
    "    plt.xticks(fontsize=9,rotation=30)"
   ]
  },
  {
   "cell_type": "markdown",
   "metadata": {},
   "source": [
    "### 3.2) ROC Curves and Area Under ROC Curve Scores"
   ]
  },
  {
   "cell_type": "code",
   "execution_count": 46,
   "metadata": {},
   "outputs": [
    {
     "data": {
      "image/png": "[encoded data removed]",
      "text/plain": [
       "<Figure size 864x1080 with 6 Axes>"
      ]
     },
     "metadata": {
      "needs_background": "light"
     },
     "output_type": "display_data"
    }
   ],
   "source": [
    "fig = plt.figure(figsize=(12,15))\n",
    "for i in range(6):\n",
    "    ax = plt.subplot(3,2,i+1)\n",
    "    y_score = ModelList[i].predict_proba(X_test_Scaled)\n",
    "    Model_Predictions = ModelList[i].predict(X_test_Scaled)\n",
    "    auc_score = roc_auc_score(Model_Predictions,y_test)\n",
    "    fpr, tpr, _ = roc_curve(y_test, y_score[:,1])\n",
    "    plt.plot(fpr, tpr,color='darkorange',label='ROC curve (area = %0.2f)' %(auc_score))\n",
    "    plt.plot([0, 1], [0, 1], color='navy', linestyle='--')\n",
    "    ax.set_xlabel('False Positive Rate')\n",
    "    ax.set_ylabel('True Positive Rate')\n",
    "    plt.legend(loc=\"lower right\")\n",
    "    ax.set_title(Models[i] + ' ROC Curve')"
   ]
  }
 ],
 "metadata": {
  "kernelspec": {
   "display_name": "Python 3",
   "language": "python",
   "name": "python3"
  },
  "language_info": {
   "codemirror_mode": {
    "name": "ipython",
    "version": 3
   },
   "file_extension": ".py",
   "mimetype": "text/x-python",
   "name": "python",
   "nbconvert_exporter": "python",
   "pygments_lexer": "ipython3",
   "version": "3.7.4"
  }
 },
 "nbformat": 4,
 "nbformat_minor": 2
}
